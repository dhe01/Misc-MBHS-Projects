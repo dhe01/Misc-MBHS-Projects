{
 "cells": [
  {
   "cell_type": "code",
   "execution_count": 1,
   "metadata": {},
   "outputs": [],
   "source": [
    "import numpy as np\n",
    "import pandas as pd\n",
    "\n",
    "import plotly.graph_objects as go\n",
    "import plotly.express as px\n",
    "from plotly.subplots import make_subplots\n",
    "\n",
    "from scipy import stats\n",
    "import matplotlib.pyplot as plt"
   ]
  },
  {
   "cell_type": "code",
   "execution_count": 2,
   "metadata": {},
   "outputs": [
    {
     "data": {
      "text/html": [
       "<div>\n",
       "<style scoped>\n",
       "    .dataframe tbody tr th:only-of-type {\n",
       "        vertical-align: middle;\n",
       "    }\n",
       "\n",
       "    .dataframe tbody tr th {\n",
       "        vertical-align: top;\n",
       "    }\n",
       "\n",
       "    .dataframe thead th {\n",
       "        text-align: right;\n",
       "    }\n",
       "</style>\n",
       "<table border=\"1\" class=\"dataframe\">\n",
       "  <thead>\n",
       "    <tr style=\"text-align: right;\">\n",
       "      <th></th>\n",
       "      <th>OrganizationIdentifer</th>\n",
       "      <th>OrganizationName</th>\n",
       "      <th>SchoolValue</th>\n",
       "      <th>TestName</th>\n",
       "    </tr>\n",
       "  </thead>\n",
       "  <tbody>\n",
       "    <tr>\n",
       "      <th>0</th>\n",
       "      <td>PI004</td>\n",
       "      <td>RIVENDELL ACADEMY</td>\n",
       "      <td>2548.60</td>\n",
       "      <td>SB English Language Arts Grade 07</td>\n",
       "    </tr>\n",
       "    <tr>\n",
       "      <th>1</th>\n",
       "      <td>PI004</td>\n",
       "      <td>RIVENDELL ACADEMY</td>\n",
       "      <td>2540.50</td>\n",
       "      <td>SB English Language Arts Grade 08</td>\n",
       "    </tr>\n",
       "    <tr>\n",
       "      <th>2</th>\n",
       "      <td>PI004</td>\n",
       "      <td>RIVENDELL ACADEMY</td>\n",
       "      <td>2556.51</td>\n",
       "      <td>SB English Language Arts Grade 09</td>\n",
       "    </tr>\n",
       "    <tr>\n",
       "      <th>3</th>\n",
       "      <td>PI004</td>\n",
       "      <td>RIVENDELL ACADEMY</td>\n",
       "      <td>2543.56</td>\n",
       "      <td>SB Math Grade 07</td>\n",
       "    </tr>\n",
       "    <tr>\n",
       "      <th>4</th>\n",
       "      <td>PI004</td>\n",
       "      <td>RIVENDELL ACADEMY</td>\n",
       "      <td>2523.21</td>\n",
       "      <td>SB Math Grade 08</td>\n",
       "    </tr>\n",
       "  </tbody>\n",
       "</table>\n",
       "</div>"
      ],
      "text/plain": [
       "  OrganizationIdentifer   OrganizationName  SchoolValue  \\\n",
       "0                 PI004  RIVENDELL ACADEMY      2548.60   \n",
       "1                 PI004  RIVENDELL ACADEMY      2540.50   \n",
       "2                 PI004  RIVENDELL ACADEMY      2556.51   \n",
       "3                 PI004  RIVENDELL ACADEMY      2543.56   \n",
       "4                 PI004  RIVENDELL ACADEMY      2523.21   \n",
       "\n",
       "                            TestName  \n",
       "0  SB English Language Arts Grade 07  \n",
       "1  SB English Language Arts Grade 08  \n",
       "2  SB English Language Arts Grade 09  \n",
       "3                   SB Math Grade 07  \n",
       "4                   SB Math Grade 08  "
      ]
     },
     "execution_count": 2,
     "metadata": {},
     "output_type": "execute_result"
    }
   ],
   "source": [
    "scores = pd.read_csv(r\"Vermont Data\\Assessment\\Smarter Balance_Assessment_2018.csv\")\n",
    "scores = scores[(scores[\"IndicatorLabel\"] == \"Average Scaled Score\") & (scores[\"AssessGroup\"] == \"All Students\") & (scores[\"AssessLabel\"] == \"All Students\")][[\"OrganizationIdentifer\", \"OrganizationName\", \"SchoolValue\", \"TestName\"]].dropna().reset_index(drop = True)\n",
    "\n",
    "#avgscores = [np.mean(scores[scores[\"OrganizationIdentifer\"] == i][\"SchoolValue\"].dropna()) for i in set(scores[\"OrganizationIdentifer\"])]\n",
    "#avgscores\n",
    "scores.head()"
   ]
  },
  {
   "cell_type": "code",
   "execution_count": null,
   "metadata": {},
   "outputs": [],
   "source": []
  },
  {
   "cell_type": "code",
   "execution_count": 3,
   "metadata": {},
   "outputs": [],
   "source": [
    "ELA1 = [2369, 2414, 2441, 2453, 2475, 2486, 2506]\n",
    "ELA2 = [2399, 2444, 2471, 2493, 2515, 2526, 2550]\n",
    "ELA3 = [2432, 2473, 2502, 2531, 2552, 2567, 2594]\n",
    "ELA4 = [2461, 2503, 2542, 2575, 2601, 2618, 2648]\n",
    "ELA5 = [2491, 2533, 2582, 2619, 2651, 2668, 2702]\n",
    "\n",
    "MTH1 = [2378, 2407, 2451, 2472, 2485, 2504, 2527]\n",
    "MTH2 = [2408, 2447, 2491, 2512, 2525, 2544, 2571]\n",
    "MTH3 = [2436, 2485, 2528, 2552, 2567, 2586, 2616]\n",
    "MTH4 = [2469, 2517, 2554, 2581, 2601, 2620, 2649]\n",
    "MTH5 = [2502, 2549, 2780, 2611, 2634, 2654, 2682]"
   ]
  },
  {
   "cell_type": "code",
   "execution_count": 4,
   "metadata": {},
   "outputs": [
    {
     "data": {
      "text/plain": [
       "0       PI004\n",
       "1       PI004\n",
       "2       PI004\n",
       "3       PI004\n",
       "4       PI004\n",
       "        ...  \n",
       "1436    PS411\n",
       "1437    PS411\n",
       "1438    PS411\n",
       "1439    PS411\n",
       "1440    PS411\n",
       "Name: OrganizationIdentifer, Length: 1441, dtype: object"
      ]
     },
     "execution_count": 4,
     "metadata": {},
     "output_type": "execute_result"
    }
   ],
   "source": [
    "scores[\"OrganizationIdentifer\"]"
   ]
  },
  {
   "cell_type": "code",
   "execution_count": 5,
   "metadata": {},
   "outputs": [
    {
     "name": "stderr",
     "output_type": "stream",
     "text": [
      "C:\\Users\\thewa\\AppData\\Local\\Temp\\ipykernel_4932\\525474849.py:15: FutureWarning: Calling float on a single element Series is deprecated and will raise a TypeError in the future. Use float(ser.iloc[0]) instead\n",
      "  score = float(subsubscores[\"SchoolValue\"])\n",
      "c:\\Users\\thewa\\anaconda3\\Lib\\site-packages\\numpy\\core\\fromnumeric.py:3464: RuntimeWarning: Mean of empty slice.\n",
      "  return _methods._mean(a, axis=axis, dtype=dtype,\n",
      "c:\\Users\\thewa\\anaconda3\\Lib\\site-packages\\numpy\\core\\_methods.py:192: RuntimeWarning: invalid value encountered in scalar divide\n",
      "  ret = ret.dtype.type(ret / rcount)\n"
     ]
    }
   ],
   "source": [
    "elavalue = []\n",
    "mthvalue = []\n",
    "\n",
    "for school in set(scores[\"OrganizationIdentifer\"]):\n",
    "    \n",
    "    ela = []\n",
    "    mth = []\n",
    "    \n",
    "    subscores = scores[scores[\"OrganizationIdentifer\"] == school]\n",
    "    for test in set(subscores[\"TestName\"]):\n",
    "        subsubscores = subscores[subscores[\"TestName\"] == test]\n",
    "\n",
    "        test = test.split()\n",
    "        ind = int(test[-1]) - 3\n",
    "        score = float(subsubscores[\"SchoolValue\"])\n",
    "        rank = 0\n",
    "\n",
    "        if test[1] == \"English\":\n",
    "            if ELA2[ind] > score:\n",
    "                rank = 1.00\n",
    "            elif ELA3[ind] > score:\n",
    "                rank = 2.00\n",
    "            elif ELA4[ind] > score:\n",
    "                rank = 3.00\n",
    "            elif ELA5[ind] > score:\n",
    "                rank = 4.00\n",
    "            else:\n",
    "                rank = 5.00\n",
    "            ela.append(rank)\n",
    "\n",
    "        elif test[1] == \"Math\":\n",
    "            if MTH2[ind] > score:\n",
    "                rank = 1.00\n",
    "            elif MTH3[ind] > score:\n",
    "                rank = 2.00\n",
    "            elif MTH4[ind] > score:\n",
    "                rank = 3.00\n",
    "            elif MTH5[ind] > score:\n",
    "                rank = 4.00\n",
    "            else:\n",
    "                rank = 5.00\n",
    "            mth.append(rank)\n",
    "\n",
    "    ela = round(np.mean(ela), 2)\n",
    "    mth = round(np.mean(mth), 2)\n",
    "\n",
    "    elavalue.append(ela)\n",
    "    mthvalue.append(mth)"
   ]
  },
  {
   "cell_type": "code",
   "execution_count": 6,
   "metadata": {},
   "outputs": [
    {
     "data": {
      "text/html": [
       "<div>\n",
       "<style scoped>\n",
       "    .dataframe tbody tr th:only-of-type {\n",
       "        vertical-align: middle;\n",
       "    }\n",
       "\n",
       "    .dataframe tbody tr th {\n",
       "        vertical-align: top;\n",
       "    }\n",
       "\n",
       "    .dataframe thead th {\n",
       "        text-align: right;\n",
       "    }\n",
       "</style>\n",
       "<table border=\"1\" class=\"dataframe\">\n",
       "  <thead>\n",
       "    <tr style=\"text-align: right;\">\n",
       "      <th></th>\n",
       "      <th>OrganizationIdentifer</th>\n",
       "      <th>OrganizationName</th>\n",
       "      <th>ELA Value</th>\n",
       "      <th>Math Value</th>\n",
       "    </tr>\n",
       "  </thead>\n",
       "  <tbody>\n",
       "    <tr>\n",
       "      <th>0</th>\n",
       "      <td>PS188</td>\n",
       "      <td>ROBINSON SCHOOL</td>\n",
       "      <td>1.00</td>\n",
       "      <td>1.00</td>\n",
       "    </tr>\n",
       "    <tr>\n",
       "      <th>1</th>\n",
       "      <td>PS280</td>\n",
       "      <td>COLCHESTER HIGH SCHOOL</td>\n",
       "      <td>1.33</td>\n",
       "      <td>1.33</td>\n",
       "    </tr>\n",
       "    <tr>\n",
       "      <th>2</th>\n",
       "      <td>PS071</td>\n",
       "      <td>WOODSTOCK UNION MIDDLE SCHOOL</td>\n",
       "      <td>1.25</td>\n",
       "      <td>1.25</td>\n",
       "    </tr>\n",
       "    <tr>\n",
       "      <th>3</th>\n",
       "      <td>PS356</td>\n",
       "      <td>OXBOW UHS #30</td>\n",
       "      <td>3.00</td>\n",
       "      <td>2.00</td>\n",
       "    </tr>\n",
       "    <tr>\n",
       "      <th>4</th>\n",
       "      <td>PS001</td>\n",
       "      <td>LUNENBURG/GILMAN SCHOOLS</td>\n",
       "      <td>2.75</td>\n",
       "      <td>3.25</td>\n",
       "    </tr>\n",
       "    <tr>\n",
       "      <th>...</th>\n",
       "      <td>...</td>\n",
       "      <td>...</td>\n",
       "      <td>...</td>\n",
       "      <td>...</td>\n",
       "    </tr>\n",
       "    <tr>\n",
       "      <th>239</th>\n",
       "      <td>PS352</td>\n",
       "      <td>HARWOOD UNION MIDDLE/HS #19</td>\n",
       "      <td>1.75</td>\n",
       "      <td>1.50</td>\n",
       "    </tr>\n",
       "    <tr>\n",
       "      <th>240</th>\n",
       "      <td>PS106</td>\n",
       "      <td>TWIN VALLEY ELEM SCHOOL</td>\n",
       "      <td>2.50</td>\n",
       "      <td>2.25</td>\n",
       "    </tr>\n",
       "    <tr>\n",
       "      <th>241</th>\n",
       "      <td>PS324</td>\n",
       "      <td>EDMUNDS ELEMENTARY SCHOOL</td>\n",
       "      <td>2.33</td>\n",
       "      <td>2.33</td>\n",
       "    </tr>\n",
       "    <tr>\n",
       "      <th>242</th>\n",
       "      <td>PS138</td>\n",
       "      <td>WHITCOMB JUNIOR/SENIOR HIGH SCHOOL</td>\n",
       "      <td>3.00</td>\n",
       "      <td>1.00</td>\n",
       "    </tr>\n",
       "    <tr>\n",
       "      <th>243</th>\n",
       "      <td>PS243</td>\n",
       "      <td>BRATTLEBORO UHS #6</td>\n",
       "      <td>3.50</td>\n",
       "      <td>3.00</td>\n",
       "    </tr>\n",
       "  </tbody>\n",
       "</table>\n",
       "<p>244 rows × 4 columns</p>\n",
       "</div>"
      ],
      "text/plain": [
       "    OrganizationIdentifer                    OrganizationName  ELA Value  \\\n",
       "0                   PS188                     ROBINSON SCHOOL       1.00   \n",
       "1                   PS280              COLCHESTER HIGH SCHOOL       1.33   \n",
       "2                   PS071       WOODSTOCK UNION MIDDLE SCHOOL       1.25   \n",
       "3                   PS356                       OXBOW UHS #30       3.00   \n",
       "4                   PS001            LUNENBURG/GILMAN SCHOOLS       2.75   \n",
       "..                    ...                                 ...        ...   \n",
       "239                 PS352         HARWOOD UNION MIDDLE/HS #19       1.75   \n",
       "240                 PS106             TWIN VALLEY ELEM SCHOOL       2.50   \n",
       "241                 PS324           EDMUNDS ELEMENTARY SCHOOL       2.33   \n",
       "242                 PS138  WHITCOMB JUNIOR/SENIOR HIGH SCHOOL       3.00   \n",
       "243                 PS243                  BRATTLEBORO UHS #6       3.50   \n",
       "\n",
       "     Math Value  \n",
       "0          1.00  \n",
       "1          1.33  \n",
       "2          1.25  \n",
       "3          2.00  \n",
       "4          3.25  \n",
       "..          ...  \n",
       "239        1.50  \n",
       "240        2.25  \n",
       "241        2.33  \n",
       "242        1.00  \n",
       "243        3.00  \n",
       "\n",
       "[244 rows x 4 columns]"
      ]
     },
     "execution_count": 6,
     "metadata": {},
     "output_type": "execute_result"
    }
   ],
   "source": [
    "data = {\"OrganizationIdentifer\": list(set(scores[\"OrganizationIdentifer\"])), \"OrganizationName\": list(set(scores[\"OrganizationName\"]))}\n",
    "sbac = pd.DataFrame(data) \n",
    "sbac[\"ELA Value\"] = elavalue\n",
    "sbac[\"Math Value\"] = mthvalue\n",
    "sbac"
   ]
  },
  {
   "cell_type": "code",
   "execution_count": 7,
   "metadata": {},
   "outputs": [
    {
     "name": "stderr",
     "output_type": "stream",
     "text": [
      "c:\\Users\\thewa\\anaconda3\\Lib\\site-packages\\openpyxl\\worksheet\\_read_only.py:79: UserWarning: Unknown extension is not supported and will be removed\n",
      "  for idx, row in parser.parse():\n"
     ]
    },
    {
     "data": {
      "text/html": [
       "<div>\n",
       "<style scoped>\n",
       "    .dataframe tbody tr th:only-of-type {\n",
       "        vertical-align: middle;\n",
       "    }\n",
       "\n",
       "    .dataframe tbody tr th {\n",
       "        vertical-align: top;\n",
       "    }\n",
       "\n",
       "    .dataframe thead th {\n",
       "        text-align: right;\n",
       "    }\n",
       "</style>\n",
       "<table border=\"1\" class=\"dataframe\">\n",
       "  <thead>\n",
       "    <tr style=\"text-align: right;\">\n",
       "      <th></th>\n",
       "      <th>SCH NAME</th>\n",
       "      <th>ST SCHID</th>\n",
       "      <th>TotalPpeTotal</th>\n",
       "    </tr>\n",
       "  </thead>\n",
       "  <tbody>\n",
       "    <tr>\n",
       "      <th>0</th>\n",
       "      <td>RIVENDELL ACADEMY</td>\n",
       "      <td>PI004</td>\n",
       "      <td>13462</td>\n",
       "    </tr>\n",
       "    <tr>\n",
       "      <th>1</th>\n",
       "      <td>DOTHAN BROOK SCHOOL</td>\n",
       "      <td>PS378</td>\n",
       "      <td>15854</td>\n",
       "    </tr>\n",
       "    <tr>\n",
       "      <th>2</th>\n",
       "      <td>HARTFORD MEMORIAL MIDDLE SCHOOL</td>\n",
       "      <td>PS135</td>\n",
       "      <td>13016</td>\n",
       "    </tr>\n",
       "    <tr>\n",
       "      <th>3</th>\n",
       "      <td>HARTFORD HIGH SCHOOL</td>\n",
       "      <td>PS134</td>\n",
       "      <td>14813</td>\n",
       "    </tr>\n",
       "    <tr>\n",
       "      <th>4</th>\n",
       "      <td>WHITE RIVER SCHOOL</td>\n",
       "      <td>PS339</td>\n",
       "      <td>17540</td>\n",
       "    </tr>\n",
       "    <tr>\n",
       "      <th>...</th>\n",
       "      <td>...</td>\n",
       "      <td>...</td>\n",
       "      <td>...</td>\n",
       "    </tr>\n",
       "    <tr>\n",
       "      <th>279</th>\n",
       "      <td>BURKE TOWN SCHOOL</td>\n",
       "      <td>PS051</td>\n",
       "      <td>13257</td>\n",
       "    </tr>\n",
       "    <tr>\n",
       "      <th>280</th>\n",
       "      <td>CHARLESTON ELEMENTARY SCHOOL</td>\n",
       "      <td>PS067</td>\n",
       "      <td>14401</td>\n",
       "    </tr>\n",
       "    <tr>\n",
       "      <th>281</th>\n",
       "      <td>WALDEN SCHOOL</td>\n",
       "      <td>PS316</td>\n",
       "      <td>18069</td>\n",
       "    </tr>\n",
       "    <tr>\n",
       "      <th>282</th>\n",
       "      <td>CANAAN SCHOOLS</td>\n",
       "      <td>PS059</td>\n",
       "      <td>14959</td>\n",
       "    </tr>\n",
       "    <tr>\n",
       "      <th>283</th>\n",
       "      <td>LUNENBURG &amp; GILMAN SCHOOLS</td>\n",
       "      <td>PS168</td>\n",
       "      <td>10062</td>\n",
       "    </tr>\n",
       "  </tbody>\n",
       "</table>\n",
       "<p>284 rows × 3 columns</p>\n",
       "</div>"
      ],
      "text/plain": [
       "                            SCH NAME ST SCHID  TotalPpeTotal\n",
       "0                  RIVENDELL ACADEMY    PI004          13462\n",
       "1                DOTHAN BROOK SCHOOL    PS378          15854\n",
       "2    HARTFORD MEMORIAL MIDDLE SCHOOL    PS135          13016\n",
       "3               HARTFORD HIGH SCHOOL    PS134          14813\n",
       "4                 WHITE RIVER SCHOOL    PS339          17540\n",
       "..                               ...      ...            ...\n",
       "279                BURKE TOWN SCHOOL    PS051          13257\n",
       "280     CHARLESTON ELEMENTARY SCHOOL    PS067          14401\n",
       "281                    WALDEN SCHOOL    PS316          18069\n",
       "282                   CANAAN SCHOOLS    PS059          14959\n",
       "283       LUNENBURG & GILMAN SCHOOLS    PS168          10062\n",
       "\n",
       "[284 rows x 3 columns]"
      ]
     },
     "execution_count": 7,
     "metadata": {},
     "output_type": "execute_result"
    }
   ],
   "source": [
    "xls = pd.ExcelFile(r\"Vermont Data\\PPE-VT-Download.xlsx\")\n",
    "ppe = pd.read_excel(xls, 'PPE')\n",
    "ppe = ppe[[\"SCH NAME\", \"ST SCHID\", \"TotalPpeTotal\"]][ppe[\"TotalPpeTotal\"] != 0].dropna().reset_index(drop = True)\n",
    "ppe[\"ST SCHID\"] = [i[-5:] for i in ppe[\"ST SCHID\"]]\n",
    "ppe"
   ]
  },
  {
   "cell_type": "code",
   "execution_count": 8,
   "metadata": {},
   "outputs": [
    {
     "data": {
      "text/html": [
       "<div>\n",
       "<style scoped>\n",
       "    .dataframe tbody tr th:only-of-type {\n",
       "        vertical-align: middle;\n",
       "    }\n",
       "\n",
       "    .dataframe tbody tr th {\n",
       "        vertical-align: top;\n",
       "    }\n",
       "\n",
       "    .dataframe thead th {\n",
       "        text-align: right;\n",
       "    }\n",
       "</style>\n",
       "<table border=\"1\" class=\"dataframe\">\n",
       "  <thead>\n",
       "    <tr style=\"text-align: right;\">\n",
       "      <th></th>\n",
       "      <th>ID</th>\n",
       "      <th>Name</th>\n",
       "      <th>PPE</th>\n",
       "      <th>ELA Score</th>\n",
       "      <th>Math Score</th>\n",
       "    </tr>\n",
       "  </thead>\n",
       "  <tbody>\n",
       "    <tr>\n",
       "      <th>0</th>\n",
       "      <td>PS188</td>\n",
       "      <td>RIVENDELL ACADEMY</td>\n",
       "      <td>13462</td>\n",
       "      <td>1.00</td>\n",
       "      <td>1.00</td>\n",
       "    </tr>\n",
       "    <tr>\n",
       "      <th>1</th>\n",
       "      <td>PS280</td>\n",
       "      <td>DOTHAN BROOK SCHOOL</td>\n",
       "      <td>15854</td>\n",
       "      <td>1.33</td>\n",
       "      <td>1.33</td>\n",
       "    </tr>\n",
       "    <tr>\n",
       "      <th>2</th>\n",
       "      <td>PS071</td>\n",
       "      <td>HARTFORD MEMORIAL MIDDLE SCHOOL</td>\n",
       "      <td>13016</td>\n",
       "      <td>1.25</td>\n",
       "      <td>1.25</td>\n",
       "    </tr>\n",
       "    <tr>\n",
       "      <th>3</th>\n",
       "      <td>PS356</td>\n",
       "      <td>HARTFORD HIGH SCHOOL</td>\n",
       "      <td>14813</td>\n",
       "      <td>3.00</td>\n",
       "      <td>2.00</td>\n",
       "    </tr>\n",
       "    <tr>\n",
       "      <th>4</th>\n",
       "      <td>PS001</td>\n",
       "      <td>WHITE RIVER SCHOOL</td>\n",
       "      <td>17540</td>\n",
       "      <td>2.75</td>\n",
       "      <td>3.25</td>\n",
       "    </tr>\n",
       "    <tr>\n",
       "      <th>...</th>\n",
       "      <td>...</td>\n",
       "      <td>...</td>\n",
       "      <td>...</td>\n",
       "      <td>...</td>\n",
       "      <td>...</td>\n",
       "    </tr>\n",
       "    <tr>\n",
       "      <th>228</th>\n",
       "      <td>PS352</td>\n",
       "      <td>SUTTON VILLAGE SCHOOL</td>\n",
       "      <td>15586</td>\n",
       "      <td>1.75</td>\n",
       "      <td>1.50</td>\n",
       "    </tr>\n",
       "    <tr>\n",
       "      <th>229</th>\n",
       "      <td>PS106</td>\n",
       "      <td>BURKE TOWN SCHOOL</td>\n",
       "      <td>13257</td>\n",
       "      <td>2.50</td>\n",
       "      <td>2.25</td>\n",
       "    </tr>\n",
       "    <tr>\n",
       "      <th>230</th>\n",
       "      <td>PS324</td>\n",
       "      <td>CHARLESTON ELEMENTARY SCHOOL</td>\n",
       "      <td>14401</td>\n",
       "      <td>2.33</td>\n",
       "      <td>2.33</td>\n",
       "    </tr>\n",
       "    <tr>\n",
       "      <th>231</th>\n",
       "      <td>PS138</td>\n",
       "      <td>CANAAN SCHOOLS</td>\n",
       "      <td>14959</td>\n",
       "      <td>3.00</td>\n",
       "      <td>1.00</td>\n",
       "    </tr>\n",
       "    <tr>\n",
       "      <th>232</th>\n",
       "      <td>PS243</td>\n",
       "      <td>LUNENBURG &amp; GILMAN SCHOOLS</td>\n",
       "      <td>10062</td>\n",
       "      <td>3.50</td>\n",
       "      <td>3.00</td>\n",
       "    </tr>\n",
       "  </tbody>\n",
       "</table>\n",
       "<p>233 rows × 5 columns</p>\n",
       "</div>"
      ],
      "text/plain": [
       "        ID                             Name    PPE  ELA Score  Math Score\n",
       "0    PS188                RIVENDELL ACADEMY  13462       1.00        1.00\n",
       "1    PS280              DOTHAN BROOK SCHOOL  15854       1.33        1.33\n",
       "2    PS071  HARTFORD MEMORIAL MIDDLE SCHOOL  13016       1.25        1.25\n",
       "3    PS356             HARTFORD HIGH SCHOOL  14813       3.00        2.00\n",
       "4    PS001               WHITE RIVER SCHOOL  17540       2.75        3.25\n",
       "..     ...                              ...    ...        ...         ...\n",
       "228  PS352            SUTTON VILLAGE SCHOOL  15586       1.75        1.50\n",
       "229  PS106                BURKE TOWN SCHOOL  13257       2.50        2.25\n",
       "230  PS324     CHARLESTON ELEMENTARY SCHOOL  14401       2.33        2.33\n",
       "231  PS138                   CANAAN SCHOOLS  14959       3.00        1.00\n",
       "232  PS243       LUNENBURG & GILMAN SCHOOLS  10062       3.50        3.00\n",
       "\n",
       "[233 rows x 5 columns]"
      ]
     },
     "execution_count": 8,
     "metadata": {},
     "output_type": "execute_result"
    }
   ],
   "source": [
    "idcomb = list(set(ppe[\"ST SCHID\"]) & set(sbac[\"OrganizationIdentifer\"]))\n",
    "namecomb = list(ppe[ppe[\"ST SCHID\"].isin(idcomb)][\"SCH NAME\"])\n",
    "ppecomb = list(ppe[ppe[\"ST SCHID\"].isin(idcomb)][\"TotalPpeTotal\"])\n",
    "elacomb = list(sbac[sbac[\"OrganizationIdentifer\"].isin(idcomb)][\"ELA Value\"])\n",
    "mthcomb = list(sbac[sbac[\"OrganizationIdentifer\"].isin(idcomb)][\"Math Value\"])\n",
    "\n",
    "newdata = {\"ID\": idcomb, \"Name\": namecomb, \"PPE\": ppecomb, \"ELA Score\": elacomb, \"Math Score\": mthcomb}\n",
    "comb = pd.DataFrame(newdata) \n",
    "comb"
   ]
  },
  {
   "cell_type": "code",
   "execution_count": 9,
   "metadata": {},
   "outputs": [
    {
     "data": {
      "application/vnd.plotly.v1+json": {
       "config": {
        "plotlyServerURL": "https://plot.ly"
       },
       "data": [
        {
         "mode": "markers",
         "name": "Scatter Plot",
         "type": "scatter",
         "x": [
          13462,
          15854,
          13016,
          14813,
          17540,
          10023,
          15056,
          19497,
          9815,
          14115,
          17310,
          17260,
          11044,
          12582,
          12445,
          10216,
          12890,
          15316,
          13699,
          12780,
          12229,
          16982,
          15823,
          12254,
          16569,
          13058,
          19352,
          11619,
          14733,
          13122,
          10906,
          13302,
          11863,
          21251,
          12714,
          16644,
          15979,
          15144,
          9973,
          8230,
          10375,
          12947,
          12607,
          16226,
          13172,
          12126,
          10886,
          19544,
          15878,
          14198,
          12910,
          15814,
          16933,
          16712,
          13131,
          10562,
          15795,
          13367,
          9728,
          15262,
          10900,
          14790,
          16072,
          13992,
          12955,
          12093,
          13420,
          14659,
          17899,
          13435,
          13542,
          14734,
          15829,
          13617,
          14263,
          12457,
          12290,
          16240,
          14354,
          15247,
          11851,
          12463,
          10901,
          13696,
          14766,
          11931,
          12275,
          13426,
          13060,
          11187,
          9695,
          10307,
          10791,
          12633,
          11977,
          11214,
          14027,
          6573,
          12596,
          10712,
          16581,
          9730,
          11842,
          13781,
          11764,
          11669,
          10301,
          11568,
          9808,
          11366,
          10171,
          10031,
          11706,
          10387,
          12643,
          10741,
          9672,
          14180,
          10689,
          12234,
          9978,
          11722,
          11650,
          13390,
          11303,
          10190,
          12003,
          10414,
          12350,
          13477,
          13481,
          11901,
          12455,
          15848,
          12472,
          12144,
          13614,
          11879,
          10761,
          12625,
          12013,
          12087,
          13765,
          11126,
          11549,
          10377,
          15053,
          12628,
          12386,
          10826,
          12401,
          11989,
          16309,
          11371,
          14977,
          9273,
          12473,
          9314,
          13556,
          15377,
          11644,
          11945,
          17150,
          13958,
          15266,
          10632,
          12908,
          13282,
          10221,
          9760,
          9628,
          14313,
          11798,
          12769,
          11948,
          10376,
          18811,
          11220,
          18278,
          16910,
          11112,
          11990,
          15993,
          13407,
          13778,
          13986,
          15032,
          14379,
          11084,
          10582,
          12511,
          10982,
          12347,
          13652,
          14637,
          14493,
          17303,
          12337,
          12843,
          12797,
          12221,
          12043,
          11854,
          13210,
          8689,
          15424,
          10856,
          11489,
          11959,
          12919,
          8699,
          10851,
          14411,
          10908,
          13510,
          9823,
          13873,
          10369,
          12015,
          10708,
          10989,
          16799,
          14491,
          11301,
          10413,
          12340,
          9767,
          13369,
          15586,
          13257,
          14401,
          14959,
          10062
         ],
         "y": [
          1,
          1.33,
          1.25,
          2,
          3.25,
          1.2,
          2,
          1.5,
          2,
          2.67,
          1.75,
          2,
          1,
          4,
          1,
          2.5,
          1.75,
          1.25,
          2,
          2,
          2,
          2.67,
          3,
          1.8,
          1,
          1.75,
          1.33,
          3,
          3.25,
          1,
          2.5,
          1,
          2,
          1.83,
          1,
          2,
          1,
          3,
          2.5,
          1,
          3.67,
          3,
          2.33,
          1.2,
          1.75,
          1,
          2.5,
          2,
          3.5,
          1.5,
          2.25,
          3,
          2.5,
          2.5,
          1.67,
          2,
          2,
          1.75,
          2,
          1.75,
          1.67,
          2.67,
          2,
          1,
          2,
          2.5,
          2.25,
          2,
          1,
          1.25,
          1.5,
          3,
          1.75,
          1,
          2.25,
          1.25,
          2,
          1,
          1.67,
          2,
          3,
          1,
          3,
          1,
          1.5,
          1,
          2.5,
          1.25,
          1,
          3.33,
          1.33,
          3.25,
          3,
          4,
          1,
          2,
          1,
          2.33,
          1,
          1,
          2.25,
          1.33,
          2.83,
          2.5,
          2.5,
          3,
          1,
          2.25,
          3.25,
          2,
          1.25,
          1.67,
          1.5,
          2,
          1,
          2.75,
          3,
          2,
          1.75,
          3.5,
          2.33,
          3.25,
          2.25,
          2.5,
          2.67,
          2,
          1,
          2.33,
          1,
          1,
          1.83,
          2,
          1,
          2,
          2,
          4.5,
          3,
          3.25,
          2.2,
          1,
          2.75,
          1.33,
          4.25,
          3.25,
          2,
          1,
          2.25,
          3,
          3.67,
          1,
          3.33,
          1,
          2,
          1.83,
          1,
          1.75,
          3.33,
          2.33,
          1.83,
          3.5,
          1,
          3,
          2.17,
          1,
          2,
          1.67,
          3.5,
          1,
          3,
          2,
          2,
          1,
          3,
          2,
          2,
          1,
          3,
          1,
          2.75,
          1.75,
          1.75,
          1,
          1,
          1,
          1.25,
          1.5,
          3.5,
          1.5,
          2,
          2.67,
          3,
          1,
          1,
          1.67,
          2,
          4.5,
          3,
          3,
          1.67,
          3,
          1,
          1.67,
          2.67,
          1.75,
          2.67,
          2,
          2,
          5,
          2,
          1.86,
          2.25,
          1.33,
          1.5,
          2.25,
          1,
          2.5,
          1.2,
          1.33,
          3,
          3,
          3,
          1,
          1.25,
          1.67,
          2.67,
          2,
          1.5,
          3.67,
          1.5,
          2.25,
          2.33,
          1,
          3
         ]
        }
       ],
       "layout": {
        "template": {
         "data": {
          "bar": [
           {
            "error_x": {
             "color": "#2a3f5f"
            },
            "error_y": {
             "color": "#2a3f5f"
            },
            "marker": {
             "line": {
              "color": "#E5ECF6",
              "width": 0.5
             },
             "pattern": {
              "fillmode": "overlay",
              "size": 10,
              "solidity": 0.2
             }
            },
            "type": "bar"
           }
          ],
          "barpolar": [
           {
            "marker": {
             "line": {
              "color": "#E5ECF6",
              "width": 0.5
             },
             "pattern": {
              "fillmode": "overlay",
              "size": 10,
              "solidity": 0.2
             }
            },
            "type": "barpolar"
           }
          ],
          "carpet": [
           {
            "aaxis": {
             "endlinecolor": "#2a3f5f",
             "gridcolor": "white",
             "linecolor": "white",
             "minorgridcolor": "white",
             "startlinecolor": "#2a3f5f"
            },
            "baxis": {
             "endlinecolor": "#2a3f5f",
             "gridcolor": "white",
             "linecolor": "white",
             "minorgridcolor": "white",
             "startlinecolor": "#2a3f5f"
            },
            "type": "carpet"
           }
          ],
          "choropleth": [
           {
            "colorbar": {
             "outlinewidth": 0,
             "ticks": ""
            },
            "type": "choropleth"
           }
          ],
          "contour": [
           {
            "colorbar": {
             "outlinewidth": 0,
             "ticks": ""
            },
            "colorscale": [
             [
              0,
              "#0d0887"
             ],
             [
              0.1111111111111111,
              "#46039f"
             ],
             [
              0.2222222222222222,
              "#7201a8"
             ],
             [
              0.3333333333333333,
              "#9c179e"
             ],
             [
              0.4444444444444444,
              "#bd3786"
             ],
             [
              0.5555555555555556,
              "#d8576b"
             ],
             [
              0.6666666666666666,
              "#ed7953"
             ],
             [
              0.7777777777777778,
              "#fb9f3a"
             ],
             [
              0.8888888888888888,
              "#fdca26"
             ],
             [
              1,
              "#f0f921"
             ]
            ],
            "type": "contour"
           }
          ],
          "contourcarpet": [
           {
            "colorbar": {
             "outlinewidth": 0,
             "ticks": ""
            },
            "type": "contourcarpet"
           }
          ],
          "heatmap": [
           {
            "colorbar": {
             "outlinewidth": 0,
             "ticks": ""
            },
            "colorscale": [
             [
              0,
              "#0d0887"
             ],
             [
              0.1111111111111111,
              "#46039f"
             ],
             [
              0.2222222222222222,
              "#7201a8"
             ],
             [
              0.3333333333333333,
              "#9c179e"
             ],
             [
              0.4444444444444444,
              "#bd3786"
             ],
             [
              0.5555555555555556,
              "#d8576b"
             ],
             [
              0.6666666666666666,
              "#ed7953"
             ],
             [
              0.7777777777777778,
              "#fb9f3a"
             ],
             [
              0.8888888888888888,
              "#fdca26"
             ],
             [
              1,
              "#f0f921"
             ]
            ],
            "type": "heatmap"
           }
          ],
          "heatmapgl": [
           {
            "colorbar": {
             "outlinewidth": 0,
             "ticks": ""
            },
            "colorscale": [
             [
              0,
              "#0d0887"
             ],
             [
              0.1111111111111111,
              "#46039f"
             ],
             [
              0.2222222222222222,
              "#7201a8"
             ],
             [
              0.3333333333333333,
              "#9c179e"
             ],
             [
              0.4444444444444444,
              "#bd3786"
             ],
             [
              0.5555555555555556,
              "#d8576b"
             ],
             [
              0.6666666666666666,
              "#ed7953"
             ],
             [
              0.7777777777777778,
              "#fb9f3a"
             ],
             [
              0.8888888888888888,
              "#fdca26"
             ],
             [
              1,
              "#f0f921"
             ]
            ],
            "type": "heatmapgl"
           }
          ],
          "histogram": [
           {
            "marker": {
             "pattern": {
              "fillmode": "overlay",
              "size": 10,
              "solidity": 0.2
             }
            },
            "type": "histogram"
           }
          ],
          "histogram2d": [
           {
            "colorbar": {
             "outlinewidth": 0,
             "ticks": ""
            },
            "colorscale": [
             [
              0,
              "#0d0887"
             ],
             [
              0.1111111111111111,
              "#46039f"
             ],
             [
              0.2222222222222222,
              "#7201a8"
             ],
             [
              0.3333333333333333,
              "#9c179e"
             ],
             [
              0.4444444444444444,
              "#bd3786"
             ],
             [
              0.5555555555555556,
              "#d8576b"
             ],
             [
              0.6666666666666666,
              "#ed7953"
             ],
             [
              0.7777777777777778,
              "#fb9f3a"
             ],
             [
              0.8888888888888888,
              "#fdca26"
             ],
             [
              1,
              "#f0f921"
             ]
            ],
            "type": "histogram2d"
           }
          ],
          "histogram2dcontour": [
           {
            "colorbar": {
             "outlinewidth": 0,
             "ticks": ""
            },
            "colorscale": [
             [
              0,
              "#0d0887"
             ],
             [
              0.1111111111111111,
              "#46039f"
             ],
             [
              0.2222222222222222,
              "#7201a8"
             ],
             [
              0.3333333333333333,
              "#9c179e"
             ],
             [
              0.4444444444444444,
              "#bd3786"
             ],
             [
              0.5555555555555556,
              "#d8576b"
             ],
             [
              0.6666666666666666,
              "#ed7953"
             ],
             [
              0.7777777777777778,
              "#fb9f3a"
             ],
             [
              0.8888888888888888,
              "#fdca26"
             ],
             [
              1,
              "#f0f921"
             ]
            ],
            "type": "histogram2dcontour"
           }
          ],
          "mesh3d": [
           {
            "colorbar": {
             "outlinewidth": 0,
             "ticks": ""
            },
            "type": "mesh3d"
           }
          ],
          "parcoords": [
           {
            "line": {
             "colorbar": {
              "outlinewidth": 0,
              "ticks": ""
             }
            },
            "type": "parcoords"
           }
          ],
          "pie": [
           {
            "automargin": true,
            "type": "pie"
           }
          ],
          "scatter": [
           {
            "fillpattern": {
             "fillmode": "overlay",
             "size": 10,
             "solidity": 0.2
            },
            "type": "scatter"
           }
          ],
          "scatter3d": [
           {
            "line": {
             "colorbar": {
              "outlinewidth": 0,
              "ticks": ""
             }
            },
            "marker": {
             "colorbar": {
              "outlinewidth": 0,
              "ticks": ""
             }
            },
            "type": "scatter3d"
           }
          ],
          "scattercarpet": [
           {
            "marker": {
             "colorbar": {
              "outlinewidth": 0,
              "ticks": ""
             }
            },
            "type": "scattercarpet"
           }
          ],
          "scattergeo": [
           {
            "marker": {
             "colorbar": {
              "outlinewidth": 0,
              "ticks": ""
             }
            },
            "type": "scattergeo"
           }
          ],
          "scattergl": [
           {
            "marker": {
             "colorbar": {
              "outlinewidth": 0,
              "ticks": ""
             }
            },
            "type": "scattergl"
           }
          ],
          "scattermapbox": [
           {
            "marker": {
             "colorbar": {
              "outlinewidth": 0,
              "ticks": ""
             }
            },
            "type": "scattermapbox"
           }
          ],
          "scatterpolar": [
           {
            "marker": {
             "colorbar": {
              "outlinewidth": 0,
              "ticks": ""
             }
            },
            "type": "scatterpolar"
           }
          ],
          "scatterpolargl": [
           {
            "marker": {
             "colorbar": {
              "outlinewidth": 0,
              "ticks": ""
             }
            },
            "type": "scatterpolargl"
           }
          ],
          "scatterternary": [
           {
            "marker": {
             "colorbar": {
              "outlinewidth": 0,
              "ticks": ""
             }
            },
            "type": "scatterternary"
           }
          ],
          "surface": [
           {
            "colorbar": {
             "outlinewidth": 0,
             "ticks": ""
            },
            "colorscale": [
             [
              0,
              "#0d0887"
             ],
             [
              0.1111111111111111,
              "#46039f"
             ],
             [
              0.2222222222222222,
              "#7201a8"
             ],
             [
              0.3333333333333333,
              "#9c179e"
             ],
             [
              0.4444444444444444,
              "#bd3786"
             ],
             [
              0.5555555555555556,
              "#d8576b"
             ],
             [
              0.6666666666666666,
              "#ed7953"
             ],
             [
              0.7777777777777778,
              "#fb9f3a"
             ],
             [
              0.8888888888888888,
              "#fdca26"
             ],
             [
              1,
              "#f0f921"
             ]
            ],
            "type": "surface"
           }
          ],
          "table": [
           {
            "cells": {
             "fill": {
              "color": "#EBF0F8"
             },
             "line": {
              "color": "white"
             }
            },
            "header": {
             "fill": {
              "color": "#C8D4E3"
             },
             "line": {
              "color": "white"
             }
            },
            "type": "table"
           }
          ]
         },
         "layout": {
          "annotationdefaults": {
           "arrowcolor": "#2a3f5f",
           "arrowhead": 0,
           "arrowwidth": 1
          },
          "autotypenumbers": "strict",
          "coloraxis": {
           "colorbar": {
            "outlinewidth": 0,
            "ticks": ""
           }
          },
          "colorscale": {
           "diverging": [
            [
             0,
             "#8e0152"
            ],
            [
             0.1,
             "#c51b7d"
            ],
            [
             0.2,
             "#de77ae"
            ],
            [
             0.3,
             "#f1b6da"
            ],
            [
             0.4,
             "#fde0ef"
            ],
            [
             0.5,
             "#f7f7f7"
            ],
            [
             0.6,
             "#e6f5d0"
            ],
            [
             0.7,
             "#b8e186"
            ],
            [
             0.8,
             "#7fbc41"
            ],
            [
             0.9,
             "#4d9221"
            ],
            [
             1,
             "#276419"
            ]
           ],
           "sequential": [
            [
             0,
             "#0d0887"
            ],
            [
             0.1111111111111111,
             "#46039f"
            ],
            [
             0.2222222222222222,
             "#7201a8"
            ],
            [
             0.3333333333333333,
             "#9c179e"
            ],
            [
             0.4444444444444444,
             "#bd3786"
            ],
            [
             0.5555555555555556,
             "#d8576b"
            ],
            [
             0.6666666666666666,
             "#ed7953"
            ],
            [
             0.7777777777777778,
             "#fb9f3a"
            ],
            [
             0.8888888888888888,
             "#fdca26"
            ],
            [
             1,
             "#f0f921"
            ]
           ],
           "sequentialminus": [
            [
             0,
             "#0d0887"
            ],
            [
             0.1111111111111111,
             "#46039f"
            ],
            [
             0.2222222222222222,
             "#7201a8"
            ],
            [
             0.3333333333333333,
             "#9c179e"
            ],
            [
             0.4444444444444444,
             "#bd3786"
            ],
            [
             0.5555555555555556,
             "#d8576b"
            ],
            [
             0.6666666666666666,
             "#ed7953"
            ],
            [
             0.7777777777777778,
             "#fb9f3a"
            ],
            [
             0.8888888888888888,
             "#fdca26"
            ],
            [
             1,
             "#f0f921"
            ]
           ]
          },
          "colorway": [
           "#636efa",
           "#EF553B",
           "#00cc96",
           "#ab63fa",
           "#FFA15A",
           "#19d3f3",
           "#FF6692",
           "#B6E880",
           "#FF97FF",
           "#FECB52"
          ],
          "font": {
           "color": "#2a3f5f"
          },
          "geo": {
           "bgcolor": "white",
           "lakecolor": "white",
           "landcolor": "#E5ECF6",
           "showlakes": true,
           "showland": true,
           "subunitcolor": "white"
          },
          "hoverlabel": {
           "align": "left"
          },
          "hovermode": "closest",
          "mapbox": {
           "style": "light"
          },
          "paper_bgcolor": "white",
          "plot_bgcolor": "#E5ECF6",
          "polar": {
           "angularaxis": {
            "gridcolor": "white",
            "linecolor": "white",
            "ticks": ""
           },
           "bgcolor": "#E5ECF6",
           "radialaxis": {
            "gridcolor": "white",
            "linecolor": "white",
            "ticks": ""
           }
          },
          "scene": {
           "xaxis": {
            "backgroundcolor": "#E5ECF6",
            "gridcolor": "white",
            "gridwidth": 2,
            "linecolor": "white",
            "showbackground": true,
            "ticks": "",
            "zerolinecolor": "white"
           },
           "yaxis": {
            "backgroundcolor": "#E5ECF6",
            "gridcolor": "white",
            "gridwidth": 2,
            "linecolor": "white",
            "showbackground": true,
            "ticks": "",
            "zerolinecolor": "white"
           },
           "zaxis": {
            "backgroundcolor": "#E5ECF6",
            "gridcolor": "white",
            "gridwidth": 2,
            "linecolor": "white",
            "showbackground": true,
            "ticks": "",
            "zerolinecolor": "white"
           }
          },
          "shapedefaults": {
           "line": {
            "color": "#2a3f5f"
           }
          },
          "ternary": {
           "aaxis": {
            "gridcolor": "white",
            "linecolor": "white",
            "ticks": ""
           },
           "baxis": {
            "gridcolor": "white",
            "linecolor": "white",
            "ticks": ""
           },
           "bgcolor": "#E5ECF6",
           "caxis": {
            "gridcolor": "white",
            "linecolor": "white",
            "ticks": ""
           }
          },
          "title": {
           "x": 0.05
          },
          "xaxis": {
           "automargin": true,
           "gridcolor": "white",
           "linecolor": "white",
           "ticks": "",
           "title": {
            "standoff": 15
           },
           "zerolinecolor": "white",
           "zerolinewidth": 2
          },
          "yaxis": {
           "automargin": true,
           "gridcolor": "white",
           "linecolor": "white",
           "ticks": "",
           "title": {
            "standoff": 15
           },
           "zerolinecolor": "white",
           "zerolinewidth": 2
          }
         }
        },
        "xaxis": {
         "anchor": "y",
         "domain": [
          0,
          1
         ]
        },
        "yaxis": {
         "anchor": "x",
         "domain": [
          0,
          1
         ]
        }
       }
      }
     },
     "metadata": {},
     "output_type": "display_data"
    }
   ],
   "source": [
    "fig = make_subplots(rows=1, cols=1)\n",
    "fig.add_trace(go.Scatter(x = comb[\"PPE\"], y = comb[\"Math Score\"], mode = \"markers\", name = \"Scatter Plot\"))\n",
    "fig.show()"
   ]
  },
  {
   "cell_type": "code",
   "execution_count": 10,
   "metadata": {},
   "outputs": [
    {
     "data": {
      "text/plain": [
       "13542"
      ]
     },
     "execution_count": 10,
     "metadata": {},
     "output_type": "execute_result"
    }
   ],
   "source": [
    "x = list(comb[\"PPE\"])\n",
    "x.sort()\n",
    "x[154]"
   ]
  },
  {
   "cell_type": "markdown",
   "metadata": {},
   "source": [
    "Cutoff 1: 12k\n",
    "Cutoff 2: 13.5k"
   ]
  },
  {
   "cell_type": "code",
   "execution_count": 11,
   "metadata": {},
   "outputs": [
    {
     "name": "stderr",
     "output_type": "stream",
     "text": [
      "C:\\Users\\thewa\\AppData\\Local\\Temp\\ipykernel_4932\\3140429418.py:3: FutureWarning:\n",
      "\n",
      "Calling float on a single element Series is deprecated and will raise a TypeError in the future. Use float(ser.iloc[0]) instead\n",
      "\n"
     ]
    },
    {
     "data": {
      "text/html": [
       "<div>\n",
       "<style scoped>\n",
       "    .dataframe tbody tr th:only-of-type {\n",
       "        vertical-align: middle;\n",
       "    }\n",
       "\n",
       "    .dataframe tbody tr th {\n",
       "        vertical-align: top;\n",
       "    }\n",
       "\n",
       "    .dataframe thead th {\n",
       "        text-align: right;\n",
       "    }\n",
       "</style>\n",
       "<table border=\"1\" class=\"dataframe\">\n",
       "  <thead>\n",
       "    <tr style=\"text-align: right;\">\n",
       "      <th></th>\n",
       "      <th>ID</th>\n",
       "      <th>Name</th>\n",
       "      <th>PPE</th>\n",
       "      <th>ELA Score</th>\n",
       "      <th>Math Score</th>\n",
       "      <th>Score Diff</th>\n",
       "      <th>PPE Level</th>\n",
       "    </tr>\n",
       "  </thead>\n",
       "  <tbody>\n",
       "    <tr>\n",
       "      <th>0</th>\n",
       "      <td>PS188</td>\n",
       "      <td>RIVENDELL ACADEMY</td>\n",
       "      <td>13462</td>\n",
       "      <td>1.00</td>\n",
       "      <td>1.00</td>\n",
       "      <td>0.00</td>\n",
       "      <td>2</td>\n",
       "    </tr>\n",
       "    <tr>\n",
       "      <th>1</th>\n",
       "      <td>PS280</td>\n",
       "      <td>DOTHAN BROOK SCHOOL</td>\n",
       "      <td>15854</td>\n",
       "      <td>1.33</td>\n",
       "      <td>1.33</td>\n",
       "      <td>0.00</td>\n",
       "      <td>3</td>\n",
       "    </tr>\n",
       "    <tr>\n",
       "      <th>2</th>\n",
       "      <td>PS071</td>\n",
       "      <td>HARTFORD MEMORIAL MIDDLE SCHOOL</td>\n",
       "      <td>13016</td>\n",
       "      <td>1.25</td>\n",
       "      <td>1.25</td>\n",
       "      <td>0.00</td>\n",
       "      <td>2</td>\n",
       "    </tr>\n",
       "    <tr>\n",
       "      <th>3</th>\n",
       "      <td>PS356</td>\n",
       "      <td>HARTFORD HIGH SCHOOL</td>\n",
       "      <td>14813</td>\n",
       "      <td>3.00</td>\n",
       "      <td>2.00</td>\n",
       "      <td>1.00</td>\n",
       "      <td>3</td>\n",
       "    </tr>\n",
       "    <tr>\n",
       "      <th>4</th>\n",
       "      <td>PS001</td>\n",
       "      <td>WHITE RIVER SCHOOL</td>\n",
       "      <td>17540</td>\n",
       "      <td>2.75</td>\n",
       "      <td>3.25</td>\n",
       "      <td>-0.50</td>\n",
       "      <td>3</td>\n",
       "    </tr>\n",
       "    <tr>\n",
       "      <th>...</th>\n",
       "      <td>...</td>\n",
       "      <td>...</td>\n",
       "      <td>...</td>\n",
       "      <td>...</td>\n",
       "      <td>...</td>\n",
       "      <td>...</td>\n",
       "      <td>...</td>\n",
       "    </tr>\n",
       "    <tr>\n",
       "      <th>228</th>\n",
       "      <td>PS352</td>\n",
       "      <td>SUTTON VILLAGE SCHOOL</td>\n",
       "      <td>15586</td>\n",
       "      <td>1.75</td>\n",
       "      <td>1.50</td>\n",
       "      <td>0.25</td>\n",
       "      <td>3</td>\n",
       "    </tr>\n",
       "    <tr>\n",
       "      <th>229</th>\n",
       "      <td>PS106</td>\n",
       "      <td>BURKE TOWN SCHOOL</td>\n",
       "      <td>13257</td>\n",
       "      <td>2.50</td>\n",
       "      <td>2.25</td>\n",
       "      <td>0.25</td>\n",
       "      <td>2</td>\n",
       "    </tr>\n",
       "    <tr>\n",
       "      <th>230</th>\n",
       "      <td>PS324</td>\n",
       "      <td>CHARLESTON ELEMENTARY SCHOOL</td>\n",
       "      <td>14401</td>\n",
       "      <td>2.33</td>\n",
       "      <td>2.33</td>\n",
       "      <td>0.00</td>\n",
       "      <td>3</td>\n",
       "    </tr>\n",
       "    <tr>\n",
       "      <th>231</th>\n",
       "      <td>PS138</td>\n",
       "      <td>CANAAN SCHOOLS</td>\n",
       "      <td>14959</td>\n",
       "      <td>3.00</td>\n",
       "      <td>1.00</td>\n",
       "      <td>2.00</td>\n",
       "      <td>3</td>\n",
       "    </tr>\n",
       "    <tr>\n",
       "      <th>232</th>\n",
       "      <td>PS243</td>\n",
       "      <td>LUNENBURG &amp; GILMAN SCHOOLS</td>\n",
       "      <td>10062</td>\n",
       "      <td>3.50</td>\n",
       "      <td>3.00</td>\n",
       "      <td>0.50</td>\n",
       "      <td>1</td>\n",
       "    </tr>\n",
       "  </tbody>\n",
       "</table>\n",
       "<p>233 rows × 7 columns</p>\n",
       "</div>"
      ],
      "text/plain": [
       "        ID                             Name    PPE  ELA Score  Math Score  \\\n",
       "0    PS188                RIVENDELL ACADEMY  13462       1.00        1.00   \n",
       "1    PS280              DOTHAN BROOK SCHOOL  15854       1.33        1.33   \n",
       "2    PS071  HARTFORD MEMORIAL MIDDLE SCHOOL  13016       1.25        1.25   \n",
       "3    PS356             HARTFORD HIGH SCHOOL  14813       3.00        2.00   \n",
       "4    PS001               WHITE RIVER SCHOOL  17540       2.75        3.25   \n",
       "..     ...                              ...    ...        ...         ...   \n",
       "228  PS352            SUTTON VILLAGE SCHOOL  15586       1.75        1.50   \n",
       "229  PS106                BURKE TOWN SCHOOL  13257       2.50        2.25   \n",
       "230  PS324     CHARLESTON ELEMENTARY SCHOOL  14401       2.33        2.33   \n",
       "231  PS138                   CANAAN SCHOOLS  14959       3.00        1.00   \n",
       "232  PS243       LUNENBURG & GILMAN SCHOOLS  10062       3.50        3.00   \n",
       "\n",
       "     Score Diff  PPE Level  \n",
       "0          0.00          2  \n",
       "1          0.00          3  \n",
       "2          0.00          2  \n",
       "3          1.00          3  \n",
       "4         -0.50          3  \n",
       "..          ...        ...  \n",
       "228        0.25          3  \n",
       "229        0.25          2  \n",
       "230        0.00          3  \n",
       "231        2.00          3  \n",
       "232        0.50          1  \n",
       "\n",
       "[233 rows x 7 columns]"
      ]
     },
     "execution_count": 11,
     "metadata": {},
     "output_type": "execute_result"
    }
   ],
   "source": [
    "ppelevel = []\n",
    "for school in list(comb[\"ID\"]):\n",
    "    ppe = float(comb[comb[\"ID\"] == school][\"PPE\"])\n",
    "    if ppe < 12000:\n",
    "        ppelevel.append(1)\n",
    "    elif ppe < 13500:\n",
    "        ppelevel.append(2)\n",
    "    else:\n",
    "        ppelevel.append(3)\n",
    "comb[\"Score Diff\"] = comb[\"ELA Score\"] - comb[\"Math Score\"]\n",
    "comb[\"PPE Level\"] = ppelevel\n",
    "comb"
   ]
  },
  {
   "cell_type": "markdown",
   "metadata": {},
   "source": [
    "PPE Level Split"
   ]
  },
  {
   "cell_type": "code",
   "execution_count": 12,
   "metadata": {},
   "outputs": [
    {
     "ename": "PermissionError",
     "evalue": "[Errno 13] Permission denied: 'ISR Data/PPE Level 1.xlsx'",
     "output_type": "error",
     "traceback": [
      "\u001b[1;31m---------------------------------------------------------------------------\u001b[0m",
      "\u001b[1;31mPermissionError\u001b[0m                           Traceback (most recent call last)",
      "\u001b[1;32mc:\\Users\\thewa\\OneDrive\\Documents\\Senior Stat\\Independent Statistical Research.ipynb Cell 14\u001b[0m line \u001b[0;36m5\n\u001b[0;32m      <a href='vscode-notebook-cell:/c%3A/Users/thewa/OneDrive/Documents/Senior%20Stat/Independent%20Statistical%20Research.ipynb#X16sZmlsZQ%3D%3D?line=1'>2</a>\u001b[0m comb2 \u001b[39m=\u001b[39m comb[comb[\u001b[39m\"\u001b[39m\u001b[39mPPE Level\u001b[39m\u001b[39m\"\u001b[39m] \u001b[39m==\u001b[39m \u001b[39m2\u001b[39m][[\u001b[39m\"\u001b[39m\u001b[39mID\u001b[39m\u001b[39m\"\u001b[39m, \u001b[39m\"\u001b[39m\u001b[39mName\u001b[39m\u001b[39m\"\u001b[39m, \u001b[39m\"\u001b[39m\u001b[39mPPE\u001b[39m\u001b[39m\"\u001b[39m, \u001b[39m\"\u001b[39m\u001b[39mELA Score\u001b[39m\u001b[39m\"\u001b[39m, \u001b[39m\"\u001b[39m\u001b[39mMath Score\u001b[39m\u001b[39m\"\u001b[39m, \u001b[39m\"\u001b[39m\u001b[39mScore Diff\u001b[39m\u001b[39m\"\u001b[39m]]\u001b[39m.\u001b[39mreset_index(drop \u001b[39m=\u001b[39m \u001b[39mTrue\u001b[39;00m)\n\u001b[0;32m      <a href='vscode-notebook-cell:/c%3A/Users/thewa/OneDrive/Documents/Senior%20Stat/Independent%20Statistical%20Research.ipynb#X16sZmlsZQ%3D%3D?line=2'>3</a>\u001b[0m comb3 \u001b[39m=\u001b[39m comb[comb[\u001b[39m\"\u001b[39m\u001b[39mPPE Level\u001b[39m\u001b[39m\"\u001b[39m] \u001b[39m==\u001b[39m \u001b[39m3\u001b[39m][[\u001b[39m\"\u001b[39m\u001b[39mID\u001b[39m\u001b[39m\"\u001b[39m, \u001b[39m\"\u001b[39m\u001b[39mName\u001b[39m\u001b[39m\"\u001b[39m, \u001b[39m\"\u001b[39m\u001b[39mPPE\u001b[39m\u001b[39m\"\u001b[39m, \u001b[39m\"\u001b[39m\u001b[39mELA Score\u001b[39m\u001b[39m\"\u001b[39m, \u001b[39m\"\u001b[39m\u001b[39mMath Score\u001b[39m\u001b[39m\"\u001b[39m, \u001b[39m\"\u001b[39m\u001b[39mScore Diff\u001b[39m\u001b[39m\"\u001b[39m]]\u001b[39m.\u001b[39mreset_index(drop \u001b[39m=\u001b[39m \u001b[39mTrue\u001b[39;00m)\n\u001b[1;32m----> <a href='vscode-notebook-cell:/c%3A/Users/thewa/OneDrive/Documents/Senior%20Stat/Independent%20Statistical%20Research.ipynb#X16sZmlsZQ%3D%3D?line=4'>5</a>\u001b[0m comb1\u001b[39m.\u001b[39mto_excel(\u001b[39m\"\u001b[39m\u001b[39mISR Data/PPE Level 1.xlsx\u001b[39m\u001b[39m\"\u001b[39m)\n\u001b[0;32m      <a href='vscode-notebook-cell:/c%3A/Users/thewa/OneDrive/Documents/Senior%20Stat/Independent%20Statistical%20Research.ipynb#X16sZmlsZQ%3D%3D?line=5'>6</a>\u001b[0m comb2\u001b[39m.\u001b[39mto_excel(\u001b[39m\"\u001b[39m\u001b[39mISR Data/PPE Level 2.xlsx\u001b[39m\u001b[39m\"\u001b[39m)\n\u001b[0;32m      <a href='vscode-notebook-cell:/c%3A/Users/thewa/OneDrive/Documents/Senior%20Stat/Independent%20Statistical%20Research.ipynb#X16sZmlsZQ%3D%3D?line=6'>7</a>\u001b[0m comb3\u001b[39m.\u001b[39mto_excel(\u001b[39m\"\u001b[39m\u001b[39mISR Data/PPE Level 3.xlsx\u001b[39m\u001b[39m\"\u001b[39m)\n",
      "File \u001b[1;32mc:\\Users\\thewa\\anaconda3\\Lib\\site-packages\\pandas\\core\\generic.py:2252\u001b[0m, in \u001b[0;36mNDFrame.to_excel\u001b[1;34m(self, excel_writer, sheet_name, na_rep, float_format, columns, header, index, index_label, startrow, startcol, engine, merge_cells, inf_rep, freeze_panes, storage_options)\u001b[0m\n\u001b[0;32m   2239\u001b[0m \u001b[39mfrom\u001b[39;00m \u001b[39mpandas\u001b[39;00m\u001b[39m.\u001b[39;00m\u001b[39mio\u001b[39;00m\u001b[39m.\u001b[39;00m\u001b[39mformats\u001b[39;00m\u001b[39m.\u001b[39;00m\u001b[39mexcel\u001b[39;00m \u001b[39mimport\u001b[39;00m ExcelFormatter\n\u001b[0;32m   2241\u001b[0m formatter \u001b[39m=\u001b[39m ExcelFormatter(\n\u001b[0;32m   2242\u001b[0m     df,\n\u001b[0;32m   2243\u001b[0m     na_rep\u001b[39m=\u001b[39mna_rep,\n\u001b[1;32m   (...)\u001b[0m\n\u001b[0;32m   2250\u001b[0m     inf_rep\u001b[39m=\u001b[39minf_rep,\n\u001b[0;32m   2251\u001b[0m )\n\u001b[1;32m-> 2252\u001b[0m formatter\u001b[39m.\u001b[39mwrite(\n\u001b[0;32m   2253\u001b[0m     excel_writer,\n\u001b[0;32m   2254\u001b[0m     sheet_name\u001b[39m=\u001b[39msheet_name,\n\u001b[0;32m   2255\u001b[0m     startrow\u001b[39m=\u001b[39mstartrow,\n\u001b[0;32m   2256\u001b[0m     startcol\u001b[39m=\u001b[39mstartcol,\n\u001b[0;32m   2257\u001b[0m     freeze_panes\u001b[39m=\u001b[39mfreeze_panes,\n\u001b[0;32m   2258\u001b[0m     engine\u001b[39m=\u001b[39mengine,\n\u001b[0;32m   2259\u001b[0m     storage_options\u001b[39m=\u001b[39mstorage_options,\n\u001b[0;32m   2260\u001b[0m )\n",
      "File \u001b[1;32mc:\\Users\\thewa\\anaconda3\\Lib\\site-packages\\pandas\\io\\formats\\excel.py:934\u001b[0m, in \u001b[0;36mExcelFormatter.write\u001b[1;34m(self, writer, sheet_name, startrow, startcol, freeze_panes, engine, storage_options)\u001b[0m\n\u001b[0;32m    930\u001b[0m     need_save \u001b[39m=\u001b[39m \u001b[39mFalse\u001b[39;00m\n\u001b[0;32m    931\u001b[0m \u001b[39melse\u001b[39;00m:\n\u001b[0;32m    932\u001b[0m     \u001b[39m# error: Cannot instantiate abstract class 'ExcelWriter' with abstract\u001b[39;00m\n\u001b[0;32m    933\u001b[0m     \u001b[39m# attributes 'engine', 'save', 'supported_extensions' and 'write_cells'\u001b[39;00m\n\u001b[1;32m--> 934\u001b[0m     writer \u001b[39m=\u001b[39m ExcelWriter(  \u001b[39m# type: ignore[abstract]\u001b[39;00m\n\u001b[0;32m    935\u001b[0m         writer, engine\u001b[39m=\u001b[39mengine, storage_options\u001b[39m=\u001b[39mstorage_options\n\u001b[0;32m    936\u001b[0m     )\n\u001b[0;32m    937\u001b[0m     need_save \u001b[39m=\u001b[39m \u001b[39mTrue\u001b[39;00m\n\u001b[0;32m    939\u001b[0m \u001b[39mtry\u001b[39;00m:\n",
      "File \u001b[1;32mc:\\Users\\thewa\\anaconda3\\Lib\\site-packages\\pandas\\io\\excel\\_openpyxl.py:60\u001b[0m, in \u001b[0;36mOpenpyxlWriter.__init__\u001b[1;34m(self, path, engine, date_format, datetime_format, mode, storage_options, if_sheet_exists, engine_kwargs, **kwargs)\u001b[0m\n\u001b[0;32m     56\u001b[0m \u001b[39mfrom\u001b[39;00m \u001b[39mopenpyxl\u001b[39;00m\u001b[39m.\u001b[39;00m\u001b[39mworkbook\u001b[39;00m \u001b[39mimport\u001b[39;00m Workbook\n\u001b[0;32m     58\u001b[0m engine_kwargs \u001b[39m=\u001b[39m combine_kwargs(engine_kwargs, kwargs)\n\u001b[1;32m---> 60\u001b[0m \u001b[39msuper\u001b[39m()\u001b[39m.\u001b[39m\u001b[39m__init__\u001b[39m(\n\u001b[0;32m     61\u001b[0m     path,\n\u001b[0;32m     62\u001b[0m     mode\u001b[39m=\u001b[39mmode,\n\u001b[0;32m     63\u001b[0m     storage_options\u001b[39m=\u001b[39mstorage_options,\n\u001b[0;32m     64\u001b[0m     if_sheet_exists\u001b[39m=\u001b[39mif_sheet_exists,\n\u001b[0;32m     65\u001b[0m     engine_kwargs\u001b[39m=\u001b[39mengine_kwargs,\n\u001b[0;32m     66\u001b[0m )\n\u001b[0;32m     68\u001b[0m \u001b[39m# ExcelWriter replaced \"a\" by \"r+\" to allow us to first read the excel file from\u001b[39;00m\n\u001b[0;32m     69\u001b[0m \u001b[39m# the file and later write to it\u001b[39;00m\n\u001b[0;32m     70\u001b[0m \u001b[39mif\u001b[39;00m \u001b[39m\"\u001b[39m\u001b[39mr+\u001b[39m\u001b[39m\"\u001b[39m \u001b[39min\u001b[39;00m \u001b[39mself\u001b[39m\u001b[39m.\u001b[39m_mode:  \u001b[39m# Load from existing workbook\u001b[39;00m\n",
      "File \u001b[1;32mc:\\Users\\thewa\\anaconda3\\Lib\\site-packages\\pandas\\io\\excel\\_base.py:1219\u001b[0m, in \u001b[0;36mExcelWriter.__init__\u001b[1;34m(self, path, engine, date_format, datetime_format, mode, storage_options, if_sheet_exists, engine_kwargs)\u001b[0m\n\u001b[0;32m   1215\u001b[0m \u001b[39mself\u001b[39m\u001b[39m.\u001b[39m_handles \u001b[39m=\u001b[39m IOHandles(\n\u001b[0;32m   1216\u001b[0m     cast(IO[\u001b[39mbytes\u001b[39m], path), compression\u001b[39m=\u001b[39m{\u001b[39m\"\u001b[39m\u001b[39mcompression\u001b[39m\u001b[39m\"\u001b[39m: \u001b[39mNone\u001b[39;00m}\n\u001b[0;32m   1217\u001b[0m )\n\u001b[0;32m   1218\u001b[0m \u001b[39mif\u001b[39;00m \u001b[39mnot\u001b[39;00m \u001b[39misinstance\u001b[39m(path, ExcelWriter):\n\u001b[1;32m-> 1219\u001b[0m     \u001b[39mself\u001b[39m\u001b[39m.\u001b[39m_handles \u001b[39m=\u001b[39m get_handle(\n\u001b[0;32m   1220\u001b[0m         path, mode, storage_options\u001b[39m=\u001b[39mstorage_options, is_text\u001b[39m=\u001b[39m\u001b[39mFalse\u001b[39;00m\n\u001b[0;32m   1221\u001b[0m     )\n\u001b[0;32m   1222\u001b[0m \u001b[39mself\u001b[39m\u001b[39m.\u001b[39m_cur_sheet \u001b[39m=\u001b[39m \u001b[39mNone\u001b[39;00m\n\u001b[0;32m   1224\u001b[0m \u001b[39mif\u001b[39;00m date_format \u001b[39mis\u001b[39;00m \u001b[39mNone\u001b[39;00m:\n",
      "File \u001b[1;32mc:\\Users\\thewa\\anaconda3\\Lib\\site-packages\\pandas\\io\\common.py:868\u001b[0m, in \u001b[0;36mget_handle\u001b[1;34m(path_or_buf, mode, encoding, compression, memory_map, is_text, errors, storage_options)\u001b[0m\n\u001b[0;32m    859\u001b[0m         handle \u001b[39m=\u001b[39m \u001b[39mopen\u001b[39m(\n\u001b[0;32m    860\u001b[0m             handle,\n\u001b[0;32m    861\u001b[0m             ioargs\u001b[39m.\u001b[39mmode,\n\u001b[1;32m   (...)\u001b[0m\n\u001b[0;32m    864\u001b[0m             newline\u001b[39m=\u001b[39m\u001b[39m\"\u001b[39m\u001b[39m\"\u001b[39m,\n\u001b[0;32m    865\u001b[0m         )\n\u001b[0;32m    866\u001b[0m     \u001b[39melse\u001b[39;00m:\n\u001b[0;32m    867\u001b[0m         \u001b[39m# Binary mode\u001b[39;00m\n\u001b[1;32m--> 868\u001b[0m         handle \u001b[39m=\u001b[39m \u001b[39mopen\u001b[39m(handle, ioargs\u001b[39m.\u001b[39mmode)\n\u001b[0;32m    869\u001b[0m     handles\u001b[39m.\u001b[39mappend(handle)\n\u001b[0;32m    871\u001b[0m \u001b[39m# Convert BytesIO or file objects passed with an encoding\u001b[39;00m\n",
      "\u001b[1;31mPermissionError\u001b[0m: [Errno 13] Permission denied: 'ISR Data/PPE Level 1.xlsx'"
     ]
    }
   ],
   "source": [
    "comb1 = comb[comb[\"PPE Level\"] == 1][[\"ID\", \"Name\", \"PPE\", \"ELA Score\", \"Math Score\", \"Score Diff\"]].reset_index(drop = True)\n",
    "comb2 = comb[comb[\"PPE Level\"] == 2][[\"ID\", \"Name\", \"PPE\", \"ELA Score\", \"Math Score\", \"Score Diff\"]].reset_index(drop = True)\n",
    "comb3 = comb[comb[\"PPE Level\"] == 3][[\"ID\", \"Name\", \"PPE\", \"ELA Score\", \"Math Score\", \"Score Diff\"]].reset_index(drop = True)\n",
    "\n",
    "comb1.to_excel(\"ISR Data/PPE Level 1.xlsx\")\n",
    "comb2.to_excel(\"ISR Data/PPE Level 2.xlsx\")\n",
    "comb3.to_excel(\"ISR Data/PPE Level 3.xlsx\")"
   ]
  }
 ],
 "metadata": {
  "kernelspec": {
   "display_name": "base",
   "language": "python",
   "name": "python3"
  },
  "language_info": {
   "codemirror_mode": {
    "name": "ipython",
    "version": 3
   },
   "file_extension": ".py",
   "mimetype": "text/x-python",
   "name": "python",
   "nbconvert_exporter": "python",
   "pygments_lexer": "ipython3",
   "version": "3.11.4"
  }
 },
 "nbformat": 4,
 "nbformat_minor": 2
}
