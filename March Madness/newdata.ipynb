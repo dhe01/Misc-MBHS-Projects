{
 "cells": [
  {
   "cell_type": "code",
   "execution_count": 1,
   "metadata": {},
   "outputs": [],
   "source": [
    "import numpy as np\n",
    "import pandas as pd\n",
    "\n",
    "from decimal import *"
   ]
  },
  {
   "cell_type": "code",
   "execution_count": 16,
   "metadata": {},
   "outputs": [
    {
     "data": {
      "text/plain": [
       "68"
      ]
     },
     "execution_count": 16,
     "metadata": {},
     "output_type": "execute_result"
    }
   ],
   "source": [
    "len(zo24)"
   ]
  },
  {
   "cell_type": "code",
   "execution_count": 29,
   "metadata": {},
   "outputs": [
    {
     "data": {
      "text/plain": [
       "'SOS'"
      ]
     },
     "execution_count": 29,
     "metadata": {},
     "output_type": "execute_result"
    }
   ],
   "source": [
    "kaggle = pd.read_csv(\"kaggle.csv\")\n",
    "\n",
    "zo24 = pd.read_excel('final 2024.xlsx')\n",
    "\n",
    "mn = {}\n",
    "std = {}\n",
    "\n",
    "cols = list(zo24.columns)[3:]\n",
    "\n",
    "for k in cols:\n",
    "    mn[k] = 0\n",
    "    for i in range(len(zo24)):\n",
    "        for j in range(i+1, len(zo24)):\n",
    "            mn[k] += float(zo24.loc[i][k]) - float(zo24.loc[j][k])\n",
    "    mn[k] /= len(zo24) * (len(zo24)-1)/2\n",
    "\n",
    "for k in cols:\n",
    "    std[k] = 0\n",
    "    for i in range(len(zo24)):\n",
    "        for j in range(i+1, len(zo24)):\n",
    "            std[k] += (float(zo24.loc[i][k]) - float(zo24.loc[j][k]) - mn[k])**2\n",
    "    std[k] = np.sqrt(std[k]/(len(zo24) * (len(zo24)-1)/2))\n",
    "\n",
    "for k in cols:\n",
    "    zo24[k] = (zo24[k] - mn[k])/std[k]\n",
    "\n",
    "k"
   ]
  },
  {
   "cell_type": "code",
   "execution_count": 30,
   "metadata": {},
   "outputs": [
    {
     "data": {
      "text/html": [
       "<div>\n",
       "<style scoped>\n",
       "    .dataframe tbody tr th:only-of-type {\n",
       "        vertical-align: middle;\n",
       "    }\n",
       "\n",
       "    .dataframe tbody tr th {\n",
       "        vertical-align: top;\n",
       "    }\n",
       "\n",
       "    .dataframe thead th {\n",
       "        text-align: right;\n",
       "    }\n",
       "</style>\n",
       "<table border=\"1\" class=\"dataframe\">\n",
       "  <thead>\n",
       "    <tr style=\"text-align: right;\">\n",
       "      <th></th>\n",
       "      <th>Team</th>\n",
       "      <th>Kaggle ID</th>\n",
       "      <th>Region</th>\n",
       "      <th>Pace</th>\n",
       "      <th>ORtg</th>\n",
       "      <th>Seed</th>\n",
       "      <th>Overall Wins</th>\n",
       "      <th>W/L%</th>\n",
       "      <th>SOS</th>\n",
       "    </tr>\n",
       "  </thead>\n",
       "  <tbody>\n",
       "    <tr>\n",
       "      <th>0</th>\n",
       "      <td>Akron</td>\n",
       "      <td>1103</td>\n",
       "      <td>MIDWEST</td>\n",
       "      <td>16.877041</td>\n",
       "      <td>16.316222</td>\n",
       "      <td>2.324136</td>\n",
       "      <td>5.224627</td>\n",
       "      <td>5.181012</td>\n",
       "      <td>-0.385011</td>\n",
       "    </tr>\n",
       "    <tr>\n",
       "      <th>1</th>\n",
       "      <td>Alabama</td>\n",
       "      <td>1104</td>\n",
       "      <td>WEST</td>\n",
       "      <td>18.659023</td>\n",
       "      <td>18.063963</td>\n",
       "      <td>0.791753</td>\n",
       "      <td>4.551796</td>\n",
       "      <td>4.803705</td>\n",
       "      <td>1.199624</td>\n",
       "    </tr>\n",
       "    <tr>\n",
       "      <th>2</th>\n",
       "      <td>Arizona</td>\n",
       "      <td>1112</td>\n",
       "      <td>WEST</td>\n",
       "      <td>18.506282</td>\n",
       "      <td>17.410459</td>\n",
       "      <td>0.485277</td>\n",
       "      <td>5.448904</td>\n",
       "      <td>5.573411</td>\n",
       "      <td>1.002542</td>\n",
       "    </tr>\n",
       "    <tr>\n",
       "      <th>3</th>\n",
       "      <td>Auburn</td>\n",
       "      <td>1120</td>\n",
       "      <td>EAST</td>\n",
       "      <td>17.895317</td>\n",
       "      <td>17.471250</td>\n",
       "      <td>0.791753</td>\n",
       "      <td>5.897457</td>\n",
       "      <td>5.845073</td>\n",
       "      <td>0.817990</td>\n",
       "    </tr>\n",
       "    <tr>\n",
       "      <th>4</th>\n",
       "      <td>Baylor</td>\n",
       "      <td>1124</td>\n",
       "      <td>WEST</td>\n",
       "      <td>16.851585</td>\n",
       "      <td>17.562437</td>\n",
       "      <td>0.638515</td>\n",
       "      <td>5.000350</td>\n",
       "      <td>5.113097</td>\n",
       "      <td>1.187093</td>\n",
       "    </tr>\n",
       "    <tr>\n",
       "      <th>...</th>\n",
       "      <td>...</td>\n",
       "      <td>...</td>\n",
       "      <td>...</td>\n",
       "      <td>...</td>\n",
       "      <td>...</td>\n",
       "      <td>...</td>\n",
       "      <td>...</td>\n",
       "      <td>...</td>\n",
       "      <td>...</td>\n",
       "    </tr>\n",
       "    <tr>\n",
       "      <th>63</th>\n",
       "      <td>Wagner</td>\n",
       "      <td>1447</td>\n",
       "      <td>WEST</td>\n",
       "      <td>15.884223</td>\n",
       "      <td>14.857238</td>\n",
       "      <td>2.630613</td>\n",
       "      <td>3.654689</td>\n",
       "      <td>3.860436</td>\n",
       "      <td>-1.184734</td>\n",
       "    </tr>\n",
       "    <tr>\n",
       "      <th>64</th>\n",
       "      <td>Washington State</td>\n",
       "      <td>1450</td>\n",
       "      <td>EAST</td>\n",
       "      <td>16.749757</td>\n",
       "      <td>16.361815</td>\n",
       "      <td>1.251468</td>\n",
       "      <td>5.224627</td>\n",
       "      <td>5.339481</td>\n",
       "      <td>0.686982</td>\n",
       "    </tr>\n",
       "    <tr>\n",
       "      <th>65</th>\n",
       "      <td>Western Kentucky</td>\n",
       "      <td>1443</td>\n",
       "      <td>SOUTH</td>\n",
       "      <td>19.193618</td>\n",
       "      <td>15.708312</td>\n",
       "      <td>2.477374</td>\n",
       "      <td>4.776073</td>\n",
       "      <td>4.886712</td>\n",
       "      <td>-0.489818</td>\n",
       "    </tr>\n",
       "    <tr>\n",
       "      <th>66</th>\n",
       "      <td>Wisconsin</td>\n",
       "      <td>1458</td>\n",
       "      <td>SOUTH</td>\n",
       "      <td>16.647929</td>\n",
       "      <td>16.680968</td>\n",
       "      <td>0.944992</td>\n",
       "      <td>4.776073</td>\n",
       "      <td>4.599959</td>\n",
       "      <td>1.225826</td>\n",
       "    </tr>\n",
       "    <tr>\n",
       "      <th>67</th>\n",
       "      <td>Yale</td>\n",
       "      <td>1463</td>\n",
       "      <td>EAST</td>\n",
       "      <td>16.673386</td>\n",
       "      <td>16.559386</td>\n",
       "      <td>2.170898</td>\n",
       "      <td>4.776073</td>\n",
       "      <td>5.211196</td>\n",
       "      <td>-0.171980</td>\n",
       "    </tr>\n",
       "  </tbody>\n",
       "</table>\n",
       "<p>68 rows × 9 columns</p>\n",
       "</div>"
      ],
      "text/plain": [
       "                Team  Kaggle ID   Region       Pace       ORtg      Seed  \\\n",
       "0              Akron       1103  MIDWEST  16.877041  16.316222  2.324136   \n",
       "1            Alabama       1104     WEST  18.659023  18.063963  0.791753   \n",
       "2            Arizona       1112     WEST  18.506282  17.410459  0.485277   \n",
       "3             Auburn       1120     EAST  17.895317  17.471250  0.791753   \n",
       "4             Baylor       1124     WEST  16.851585  17.562437  0.638515   \n",
       "..               ...        ...      ...        ...        ...       ...   \n",
       "63            Wagner       1447     WEST  15.884223  14.857238  2.630613   \n",
       "64  Washington State       1450     EAST  16.749757  16.361815  1.251468   \n",
       "65  Western Kentucky       1443    SOUTH  19.193618  15.708312  2.477374   \n",
       "66         Wisconsin       1458    SOUTH  16.647929  16.680968  0.944992   \n",
       "67              Yale       1463     EAST  16.673386  16.559386  2.170898   \n",
       "\n",
       "    Overall Wins      W/L%       SOS  \n",
       "0       5.224627  5.181012 -0.385011  \n",
       "1       4.551796  4.803705  1.199624  \n",
       "2       5.448904  5.573411  1.002542  \n",
       "3       5.897457  5.845073  0.817990  \n",
       "4       5.000350  5.113097  1.187093  \n",
       "..           ...       ...       ...  \n",
       "63      3.654689  3.860436 -1.184734  \n",
       "64      5.224627  5.339481  0.686982  \n",
       "65      4.776073  4.886712 -0.489818  \n",
       "66      4.776073  4.599959  1.225826  \n",
       "67      4.776073  5.211196 -0.171980  \n",
       "\n",
       "[68 rows x 9 columns]"
      ]
     },
     "execution_count": 30,
     "metadata": {},
     "output_type": "execute_result"
    }
   ],
   "source": [
    "zo24"
   ]
  },
  {
   "cell_type": "code",
   "execution_count": 9,
   "metadata": {},
   "outputs": [
    {
     "data": {
      "text/html": [
       "<div>\n",
       "<style scoped>\n",
       "    .dataframe tbody tr th:only-of-type {\n",
       "        vertical-align: middle;\n",
       "    }\n",
       "\n",
       "    .dataframe tbody tr th {\n",
       "        vertical-align: top;\n",
       "    }\n",
       "\n",
       "    .dataframe thead th {\n",
       "        text-align: right;\n",
       "    }\n",
       "</style>\n",
       "<table border=\"1\" class=\"dataframe\">\n",
       "  <thead>\n",
       "    <tr style=\"text-align: right;\">\n",
       "      <th></th>\n",
       "      <th>Team</th>\n",
       "      <th>Kaggle ID</th>\n",
       "      <th>Region</th>\n",
       "      <th>Pace</th>\n",
       "      <th>ORtg</th>\n",
       "      <th>Overall Wins</th>\n",
       "      <th>W/L%</th>\n",
       "      <th>SOS</th>\n",
       "      <th>Seed</th>\n",
       "    </tr>\n",
       "  </thead>\n",
       "  <tbody>\n",
       "    <tr>\n",
       "      <th>0</th>\n",
       "      <td>Akron</td>\n",
       "      <td>1103</td>\n",
       "      <td>MIDWEST</td>\n",
       "      <td>16.877041</td>\n",
       "      <td>16.316222</td>\n",
       "      <td>5.245200</td>\n",
       "      <td>5.202875</td>\n",
       "      <td>-0.367200</td>\n",
       "      <td>2.326808</td>\n",
       "    </tr>\n",
       "    <tr>\n",
       "      <th>1</th>\n",
       "      <td>Alabama</td>\n",
       "      <td>1104</td>\n",
       "      <td>WEST</td>\n",
       "      <td>18.659023</td>\n",
       "      <td>18.063963</td>\n",
       "      <td>4.577570</td>\n",
       "      <td>4.828067</td>\n",
       "      <td>1.215000</td>\n",
       "      <td>0.793906</td>\n",
       "    </tr>\n",
       "    <tr>\n",
       "      <th>2</th>\n",
       "      <td>Arizona</td>\n",
       "      <td>1112</td>\n",
       "      <td>WEST</td>\n",
       "      <td>18.506282</td>\n",
       "      <td>17.410459</td>\n",
       "      <td>5.467743</td>\n",
       "      <td>5.592676</td>\n",
       "      <td>1.018221</td>\n",
       "      <td>0.487325</td>\n",
       "    </tr>\n",
       "    <tr>\n",
       "      <th>3</th>\n",
       "      <td>Auburn</td>\n",
       "      <td>1120</td>\n",
       "      <td>EAST</td>\n",
       "      <td>17.895317</td>\n",
       "      <td>17.471250</td>\n",
       "      <td>5.912829</td>\n",
       "      <td>5.862538</td>\n",
       "      <td>0.833953</td>\n",
       "      <td>0.793906</td>\n",
       "    </tr>\n",
       "    <tr>\n",
       "      <th>4</th>\n",
       "      <td>Baylor</td>\n",
       "      <td>1124</td>\n",
       "      <td>WEST</td>\n",
       "      <td>16.851585</td>\n",
       "      <td>17.562437</td>\n",
       "      <td>5.022657</td>\n",
       "      <td>5.135410</td>\n",
       "      <td>1.202488</td>\n",
       "      <td>0.640616</td>\n",
       "    </tr>\n",
       "    <tr>\n",
       "      <th>...</th>\n",
       "      <td>...</td>\n",
       "      <td>...</td>\n",
       "      <td>...</td>\n",
       "      <td>...</td>\n",
       "      <td>...</td>\n",
       "      <td>...</td>\n",
       "      <td>...</td>\n",
       "      <td>...</td>\n",
       "      <td>...</td>\n",
       "    </tr>\n",
       "    <tr>\n",
       "      <th>63</th>\n",
       "      <td>Wagner</td>\n",
       "      <td>1447</td>\n",
       "      <td>WEST</td>\n",
       "      <td>15.884223</td>\n",
       "      <td>14.857238</td>\n",
       "      <td>3.687398</td>\n",
       "      <td>3.891046</td>\n",
       "      <td>-1.165693</td>\n",
       "      <td>2.633388</td>\n",
       "    </tr>\n",
       "    <tr>\n",
       "      <th>64</th>\n",
       "      <td>Washington State</td>\n",
       "      <td>1450</td>\n",
       "      <td>EAST</td>\n",
       "      <td>16.749757</td>\n",
       "      <td>16.361815</td>\n",
       "      <td>5.245200</td>\n",
       "      <td>5.360294</td>\n",
       "      <td>0.703146</td>\n",
       "      <td>1.253776</td>\n",
       "    </tr>\n",
       "    <tr>\n",
       "      <th>65</th>\n",
       "      <td>Western Kentucky</td>\n",
       "      <td>1443</td>\n",
       "      <td>SOUTH</td>\n",
       "      <td>19.193618</td>\n",
       "      <td>15.708312</td>\n",
       "      <td>4.800114</td>\n",
       "      <td>4.910525</td>\n",
       "      <td>-0.471846</td>\n",
       "      <td>2.480098</td>\n",
       "    </tr>\n",
       "    <tr>\n",
       "      <th>66</th>\n",
       "      <td>Wisconsin</td>\n",
       "      <td>1458</td>\n",
       "      <td>SOUTH</td>\n",
       "      <td>16.647929</td>\n",
       "      <td>16.680968</td>\n",
       "      <td>4.800114</td>\n",
       "      <td>4.625670</td>\n",
       "      <td>1.241162</td>\n",
       "      <td>0.947196</td>\n",
       "    </tr>\n",
       "    <tr>\n",
       "      <th>67</th>\n",
       "      <td>Yale</td>\n",
       "      <td>1463</td>\n",
       "      <td>EAST</td>\n",
       "      <td>16.673386</td>\n",
       "      <td>16.559386</td>\n",
       "      <td>4.800114</td>\n",
       "      <td>5.232860</td>\n",
       "      <td>-0.154496</td>\n",
       "      <td>2.173517</td>\n",
       "    </tr>\n",
       "  </tbody>\n",
       "</table>\n",
       "<p>68 rows × 9 columns</p>\n",
       "</div>"
      ],
      "text/plain": [
       "                Team  Kaggle ID   Region       Pace       ORtg  Overall Wins  \\\n",
       "0              Akron       1103  MIDWEST  16.877041  16.316222      5.245200   \n",
       "1            Alabama       1104     WEST  18.659023  18.063963      4.577570   \n",
       "2            Arizona       1112     WEST  18.506282  17.410459      5.467743   \n",
       "3             Auburn       1120     EAST  17.895317  17.471250      5.912829   \n",
       "4             Baylor       1124     WEST  16.851585  17.562437      5.022657   \n",
       "..               ...        ...      ...        ...        ...           ...   \n",
       "63            Wagner       1447     WEST  15.884223  14.857238      3.687398   \n",
       "64  Washington State       1450     EAST  16.749757  16.361815      5.245200   \n",
       "65  Western Kentucky       1443    SOUTH  19.193618  15.708312      4.800114   \n",
       "66         Wisconsin       1458    SOUTH  16.647929  16.680968      4.800114   \n",
       "67              Yale       1463     EAST  16.673386  16.559386      4.800114   \n",
       "\n",
       "        W/L%       SOS      Seed  \n",
       "0   5.202875 -0.367200  2.326808  \n",
       "1   4.828067  1.215000  0.793906  \n",
       "2   5.592676  1.018221  0.487325  \n",
       "3   5.862538  0.833953  0.793906  \n",
       "4   5.135410  1.202488  0.640616  \n",
       "..       ...       ...       ...  \n",
       "63  3.891046 -1.165693  2.633388  \n",
       "64  5.360294  0.703146  1.253776  \n",
       "65  4.910525 -0.471846  2.480098  \n",
       "66  4.625670  1.241162  0.947196  \n",
       "67  5.232860 -0.154496  2.173517  \n",
       "\n",
       "[68 rows x 9 columns]"
      ]
     },
     "execution_count": 9,
     "metadata": {},
     "output_type": "execute_result"
    }
   ],
   "source": [
    "zo24"
   ]
  },
  {
   "cell_type": "code",
   "execution_count": 31,
   "metadata": {},
   "outputs": [
    {
     "data": {
      "text/html": [
       "<div>\n",
       "<style scoped>\n",
       "    .dataframe tbody tr th:only-of-type {\n",
       "        vertical-align: middle;\n",
       "    }\n",
       "\n",
       "    .dataframe tbody tr th {\n",
       "        vertical-align: top;\n",
       "    }\n",
       "\n",
       "    .dataframe thead th {\n",
       "        text-align: right;\n",
       "    }\n",
       "</style>\n",
       "<table border=\"1\" class=\"dataframe\">\n",
       "  <thead>\n",
       "    <tr style=\"text-align: right;\">\n",
       "      <th></th>\n",
       "      <th>Team 1</th>\n",
       "      <th>Team 2</th>\n",
       "      <th>Win</th>\n",
       "    </tr>\n",
       "  </thead>\n",
       "  <tbody>\n",
       "    <tr>\n",
       "      <th>0</th>\n",
       "      <td>Grambling</td>\n",
       "      <td>Purdue</td>\n",
       "      <td>0</td>\n",
       "    </tr>\n",
       "    <tr>\n",
       "      <th>1</th>\n",
       "      <td>Saint Peter's</td>\n",
       "      <td>Tennessee</td>\n",
       "      <td>0</td>\n",
       "    </tr>\n",
       "    <tr>\n",
       "      <th>2</th>\n",
       "      <td>Gonzaga</td>\n",
       "      <td>Purdue</td>\n",
       "      <td>0</td>\n",
       "    </tr>\n",
       "    <tr>\n",
       "      <th>3</th>\n",
       "      <td>Purdue</td>\n",
       "      <td>Tennessee</td>\n",
       "      <td>1</td>\n",
       "    </tr>\n",
       "    <tr>\n",
       "      <th>4</th>\n",
       "      <td>TCU</td>\n",
       "      <td>Utah State</td>\n",
       "      <td>0</td>\n",
       "    </tr>\n",
       "    <tr>\n",
       "      <th>...</th>\n",
       "      <td>...</td>\n",
       "      <td>...</td>\n",
       "      <td>...</td>\n",
       "    </tr>\n",
       "    <tr>\n",
       "      <th>58</th>\n",
       "      <td>Arizona</td>\n",
       "      <td>Clemson</td>\n",
       "      <td>0</td>\n",
       "    </tr>\n",
       "    <tr>\n",
       "      <th>59</th>\n",
       "      <td>Alabama</td>\n",
       "      <td>Clemson</td>\n",
       "      <td>1</td>\n",
       "    </tr>\n",
       "    <tr>\n",
       "      <th>60</th>\n",
       "      <td>Alabama</td>\n",
       "      <td>Connecticut</td>\n",
       "      <td>0</td>\n",
       "    </tr>\n",
       "    <tr>\n",
       "      <th>61</th>\n",
       "      <td>NC State</td>\n",
       "      <td>Purdue</td>\n",
       "      <td>0</td>\n",
       "    </tr>\n",
       "    <tr>\n",
       "      <th>62</th>\n",
       "      <td>Connecticut</td>\n",
       "      <td>Purdue</td>\n",
       "      <td>1</td>\n",
       "    </tr>\n",
       "  </tbody>\n",
       "</table>\n",
       "<p>63 rows × 3 columns</p>\n",
       "</div>"
      ],
      "text/plain": [
       "           Team 1       Team 2  Win\n",
       "0       Grambling       Purdue    0\n",
       "1   Saint Peter's    Tennessee    0\n",
       "2         Gonzaga       Purdue    0\n",
       "3          Purdue    Tennessee    1\n",
       "4             TCU   Utah State    0\n",
       "..            ...          ...  ...\n",
       "58        Arizona      Clemson    0\n",
       "59        Alabama      Clemson    1\n",
       "60        Alabama  Connecticut    0\n",
       "61       NC State       Purdue    0\n",
       "62    Connecticut       Purdue    1\n",
       "\n",
       "[63 rows x 3 columns]"
      ]
     },
     "execution_count": 31,
     "metadata": {},
     "output_type": "execute_result"
    }
   ],
   "source": [
    "matchups = pd.read_excel(\"2024 All Matchups.xlsx\")\n",
    "matchups"
   ]
  },
  {
   "cell_type": "code",
   "execution_count": 7,
   "metadata": {},
   "outputs": [
    {
     "data": {
      "text/plain": [
       "21    4.551796\n",
       "Name: W, dtype: float64"
      ]
     },
     "execution_count": 7,
     "metadata": {},
     "output_type": "execute_result"
    }
   ],
   "source": [
    "zo24[zo24[\"Team\"] == \"Grambling\"][\"W\"]"
   ]
  },
  {
   "cell_type": "code",
   "execution_count": null,
   "metadata": {},
   "outputs": [
    {
     "data": {
      "text/plain": [
       "46    0.334035\n",
       "Name: Seed, dtype: float64"
      ]
     },
     "execution_count": 15,
     "metadata": {},
     "output_type": "execute_result"
    }
   ],
   "source": [
    "zo24[zo24[\"Team\"] == \"Purdue\"][\"Seed\"]"
   ]
  },
  {
   "cell_type": "code",
   "execution_count": 38,
   "metadata": {},
   "outputs": [
    {
     "name": "stdout",
     "output_type": "stream",
     "text": [
      "Grambling\n",
      "Purdue\n",
      "0.017410780891499902\n",
      "0.00672734455447522\n",
      "\n",
      "Saint Peter's\n",
      "Tennessee\n",
      "0.03958193698204306\n",
      "0.01743332956989951\n",
      "\n",
      "Gonzaga\n",
      "Purdue\n",
      "0.2076361959158689\n",
      "0.02647159866739629\n",
      "\n",
      "Purdue\n",
      "Tennessee\n",
      "0.3705357516092421\n",
      "0.06321530559721704\n",
      "\n",
      "TCU\n",
      "Utah State\n",
      "0.8289270568637183\n",
      "0.15290046303919544\n",
      "\n",
      "Purdue\n",
      "Utah State\n",
      "0.2018992760785429\n",
      "0.23670934907032026\n",
      "\n",
      "Tennessee\n",
      "Texas\n",
      "0.6741643293340068\n",
      "0.30281599570694007\n",
      "\n",
      "Oregon\n",
      "South Carolina\n",
      "0.5568003678940966\n",
      "0.46429834247918667\n",
      "\n",
      "Creighton\n",
      "Tennessee\n",
      "0.8168267750457112\n",
      "0.4521112679517068\n",
      "\n",
      "Akron\n",
      "Creighton\n",
      "0.1014130117643288\n",
      "0.7296950128488824\n",
      "\n",
      "Gonzaga\n",
      "Kansas\n",
      "1.122593616568802\n",
      "1.1482538743446085\n",
      "\n",
      "Gonzaga\n",
      "McNeese State\n",
      "0.15311415801584477\n",
      "1.4232943448417448\n",
      "\n",
      "Kansas\n",
      "Samford\n",
      "0.08642821339990188\n",
      "1.6641595321542018\n",
      "\n",
      "Creighton\n",
      "Oregon\n",
      "0.5595346878845212\n",
      "2.198964643685757\n",
      "\n",
      "Colorado State\n",
      "Texas\n",
      "0.6759750997761835\n",
      "3.274188818177396\n",
      "\n",
      "Stetson\n",
      "Connecticut\n",
      "0.08236163382613834\n",
      "0.012980174897688896\n",
      "\n",
      "Florida Atlantic\n",
      "Northwestern\n",
      "0.42939998988922556\n",
      "1.2818092759137283\n",
      "\n",
      "San Diego State\n",
      "UAB\n",
      "0.40785031520665316\n",
      "0.5097226242418987\n",
      "\n",
      "Auburn\n",
      "Yale\n",
      "1.669649779998614\n",
      "3.7770214897289196\n",
      "\n",
      "Brigham Young\n",
      "Duquesne\n",
      "1.4271731668706715\n",
      "0.3599375240322908\n",
      "\n",
      "Illinois\n",
      "Morehead State\n",
      "0.07047313244139607\n",
      "0.1285131912317121\n",
      "\n",
      "Drake\n",
      "Washington State\n",
      "0.37703205799683515\n",
      "1.5499005435975857\n",
      "\n",
      "Iowa State\n",
      "South Dakota State\n",
      "0.13415287497222883\n",
      "0.04897835188758765\n",
      "\n",
      "Northwestern\n",
      "Connecticut\n",
      "0.5309527754590169\n",
      "0.03149805356516885\n",
      "\n",
      "San Diego State\n",
      "Yale\n",
      "0.2396706637140062\n",
      "0.06540652579673695\n",
      "\n",
      "Duquesne\n",
      "Illinois\n",
      "0.23099734839168876\n",
      "0.4760128122993609\n",
      "\n",
      "Washington State\n",
      "Iowa State\n",
      "0.6121575450228837\n",
      "0.26813478167168087\n",
      "\n",
      "San Diego State\n",
      "Connecticut\n",
      "0.4203540225773496\n",
      "0.1082174098607945\n",
      "\n",
      "Illinois\n",
      "Iowa State\n",
      "0.4954762592851037\n",
      "0.7572253014152458\n",
      "\n",
      "Illinois\n",
      "Connecticut\n",
      "0.6036193080153256\n",
      "0.2090955988398189\n",
      "\n",
      "Houston\n",
      "Longwood\n",
      "0.04366021194732449\n",
      "0.004007608294593339\n",
      "\n",
      "Nebraska\n",
      "Texas A&M\n",
      "0.503148284505617\n",
      "1.0035466263675925\n",
      "\n",
      "James Madison\n",
      "Wisconsin\n",
      "3.106714600827595\n",
      "0.347817278337273\n",
      "\n",
      "Duke\n",
      "Vermont\n",
      "0.0918597650773321\n",
      "1.3529699425336625\n",
      "\n",
      "NC State\n",
      "Texas Tech\n",
      "0.9369716192797037\n",
      "0.3717418832136914\n",
      "\n",
      "Kentucky\n",
      "Oakland\n",
      "1.8754964665321208\n",
      "0.6471977990835747\n",
      "\n",
      "Colorado\n",
      "Florida\n",
      "0.6378102581012026\n",
      "0.34964242586410743\n",
      "\n",
      "Marquette\n",
      "Western Kentucky\n",
      "0.04297774860767867\n",
      "0.05088257606957697\n",
      "\n",
      "Houston\n",
      "Texas A&M\n",
      "0.5236950114085008\n",
      "0.03277776612975384\n",
      "\n",
      "Duke\n",
      "James Madison\n",
      "0.07402919248833566\n",
      "2.131813204271737\n",
      "\n",
      "NC State\n",
      "Oakland\n",
      "0.1789686282573394\n",
      "0.12012163491736291\n",
      "\n",
      "Colorado\n",
      "Marquette\n",
      "0.6193853968754541\n",
      "1.411039786319035\n",
      "\n",
      "Duke\n",
      "Houston\n",
      "0.8732921435484731\n",
      "3.468505961822587\n",
      "\n",
      "Marquette\n",
      "NC State\n",
      "0.935545373589343\n",
      "0.6667472044112638\n",
      "\n",
      "Duke\n",
      "NC State\n",
      "0.9092829616283387\n",
      "0.19735845333974075\n",
      "\n",
      "North Carolina\n",
      "Wagner\n",
      "0.027239206728386364\n",
      "0.0006557096293625566\n",
      "\n",
      "Michigan State\n",
      "Mississippi State\n",
      "0.4504059525047129\n",
      "1.012639546356262\n",
      "\n",
      "Grand Canyon\n",
      "Saint Mary's\n",
      "1.5342791621703173\n",
      "0.22951400791931786\n",
      "\n",
      "Alabama\n",
      "College of Charleston\n",
      "0.07017552267718889\n",
      "1.4748943225387352\n",
      "\n",
      "Clemson\n",
      "New Mexico\n",
      "0.350000085230776\n",
      "3.285078597983134\n",
      "\n",
      "Baylor\n",
      "Colgate\n",
      "0.02749719146677289\n",
      "0.23412490697282776\n",
      "\n",
      "Dayton\n",
      "Nevada\n",
      "0.617560914607076\n",
      "2.187152914422899\n",
      "\n",
      "Arizona\n",
      "Long Beach State\n",
      "0.08255421761219738\n",
      "0.1496234863661479\n",
      "\n",
      "Michigan State\n",
      "North Carolina\n",
      "0.8995177417343321\n",
      "0.11296795058229027\n",
      "\n",
      "Alabama\n",
      "Grand Canyon\n",
      "0.08074642022396944\n",
      "2.0805445766343933\n",
      "\n",
      "Baylor\n",
      "Clemson\n",
      "1.1181412674595692\n",
      "1.5051809041932465\n",
      "\n",
      "Arizona\n",
      "Dayton\n",
      "0.5265929021582672\n",
      "0.2332768722979649\n",
      "\n",
      "Alabama\n",
      "North Carolina\n",
      "0.42603385067934657\n",
      "2.3646372496105976\n",
      "\n",
      "Arizona\n",
      "Clemson\n",
      "0.656267181917928\n",
      "1.7209573129088147\n",
      "\n",
      "Alabama\n",
      "Clemson\n",
      "0.46350908412579833\n",
      "0.550243625671447\n",
      "\n",
      "Alabama\n",
      "Connecticut\n",
      "0.789842587795144\n",
      "0.029296832719223953\n",
      "\n",
      "NC State\n",
      "Purdue\n",
      "0.2922057112154983\n",
      "0.2088319359592409\n",
      "\n",
      "Connecticut\n",
      "Purdue\n",
      "0.8996514495931874\n",
      "0.6054987378401556\n",
      "\n",
      "0.5438968750000001\n"
     ]
    },
    {
     "data": {
      "text/plain": [
       "0.8107296875"
      ]
     },
     "execution_count": 38,
     "metadata": {},
     "output_type": "execute_result"
    }
   ],
   "source": [
    "ll = 0\n",
    "lll1 = []\n",
    "lll2 = []\n",
    "for i in range(len(matchups)):\n",
    "    team1 = matchups.loc[i][\"Team 1\"]\n",
    "    team2 = matchups.loc[i][\"Team 2\"]\n",
    "    win = matchups.loc[i][\"Win\"]\n",
    "\n",
    "    seed = float(list(zo24[zo24[\"Team\"] == team1][\"Seed\"])[0]) - float(list(zo24[zo24[\"Team\"] == team2][\"Seed\"])[0])\n",
    "    sos = float(list(zo24[zo24[\"Team\"] == team1][\"SOS\"])[0]) - float(list(zo24[zo24[\"Team\"] == team2][\"SOS\"])[0])\n",
    "    pace = float(list(zo24[zo24[\"Team\"] == team1][\"Pace\"])[0]) - float(list(zo24[zo24[\"Team\"] == team2][\"Pace\"])[0])\n",
    "    ortg = float(list(zo24[zo24[\"Team\"] == team1][\"ORtg\"])[0]) - float(list(zo24[zo24[\"Team\"] == team2][\"ORtg\"])[0])\n",
    "\n",
    "    wl = float(list(zo24[zo24[\"Team\"] == team1][\"W/L%\"])[0]) - float(list(zo24[zo24[\"Team\"] == team2][\"W/L%\"])[0])\n",
    "    wd = float(list(zo24[zo24[\"Team\"] == team1][\"Overall Wins\"])[0]) - float(list(zo24[zo24[\"Team\"] == team2][\"Overall Wins\"])[0])\n",
    "\n",
    "    y1 = 0.169 * seed + 1.64 * sos - 0.246 * pace + 0.407 * ortg\n",
    "    y2 = 1.28 * seed + 2.37 * sos + 3.83 * wd - 1.77 * wl\n",
    "\n",
    "    z1 = np.exp(y1)/(1+np.exp(y1))\n",
    "    z2 = np.exp(y2)/(1+np.exp(y2))\n",
    "\n",
    "    print(team1)\n",
    "    print(team2)\n",
    "    print(-(win * np.log(z1) + (1-win) * np.log(1-z1)))\n",
    "    print(-(win * np.log(z2) + (1-win) * np.log(1-z2)))\n",
    "    print()\n",
    "\n",
    "    lll1.append(-round((win * np.log(z1) + (1-win) * np.log(1-z1)),4))\n",
    "    lll2.append(-round((win * np.log(z2) + (1-win) * np.log(1-z2)),4))\n",
    "\n",
    "print(sum(lll1)/64)\n",
    "sum(lll2)/64"
   ]
  },
  {
   "cell_type": "code",
   "execution_count": 42,
   "metadata": {},
   "outputs": [],
   "source": [
    "matchups[\"Old Model\"] = lll2\n",
    "matchups[\"New Model\"] = lll1\n",
    "matchups.to_excel(\"newmodelll.xlsx\")"
   ]
  },
  {
   "cell_type": "code",
   "execution_count": 19,
   "metadata": {},
   "outputs": [
    {
     "data": {
      "text/plain": [
       "0.356762678334951"
      ]
     },
     "execution_count": 19,
     "metadata": {},
     "output_type": "execute_result"
    }
   ],
   "source": [
    "ll = 0\n",
    "\n",
    "allseed = []\n",
    "allwl = []\n",
    "allsos = []\n",
    "allwd = []\n",
    "\n",
    "for i in range(len(matchups)):\n",
    "    team1 = matchups.loc[i][\"Team 1\"]\n",
    "    team2 = matchups.loc[i][\"Team 2\"]\n",
    "    win = matchups.loc[i][\"Win\"]\n",
    "\n",
    "    seed = float(list(zo24[zo24[\"Team\"] == team1][\"Seed\"])[0]) - float(list(zo24[zo24[\"Team\"] == team2][\"Seed\"])[0])\n",
    "    wl = float(list(zo24[zo24[\"Team\"] == team1][\"W/L%\"])[0]) - float(list(zo24[zo24[\"Team\"] == team2][\"W/L%\"])[0])\n",
    "    sos = float(list(zo24[zo24[\"Team\"] == team1][\"SOS\"])[0]) - float(list(zo24[zo24[\"Team\"] == team2][\"SOS\"])[0])\n",
    "    wd = float(list(zo24[zo24[\"Team\"] == team1][\"Overall Wins\"])[0]) - float(list(zo24[zo24[\"Team\"] == team2][\"Overall Wins\"])[0])\n",
    "\n",
    "    allseed.append(seed)\n",
    "    allwl.append(wl)\n",
    "    allsos.append(sos)\n",
    "    allwd.append(wd)\n",
    "\n",
    "    y = 1.28 * seed - 1.77 * wl + 2.37 * sos + 3.83 * wd\n",
    "    z = np.exp(y)/(1+np.exp(y))\n",
    "    ll -= win * np.log(z) + (1-win) * np.log(1-z)\n",
    "\n",
    "ll/67"
   ]
  },
  {
   "cell_type": "code",
   "execution_count": 11,
   "metadata": {},
   "outputs": [],
   "source": [
    "import plotly.graph_objects as go\n",
    "import plotly.express as px\n",
    "from plotly.subplots import make_subplots"
   ]
  },
  {
   "cell_type": "code",
   "execution_count": 15,
   "metadata": {},
   "outputs": [
    {
     "data": {
      "application/vnd.plotly.v1+json": {
       "config": {
        "plotlyServerURL": "https://plot.ly"
       },
       "data": [
        {
         "mode": "markers",
         "type": "scatter",
         "x": [
          -2.246144806581552,
          -1.3523501603639785,
          -0.7849848631997807,
          0.9481995377264685,
          -1.414527179231289,
          0.5595931698057841,
          1.0259208113106046,
          -0.7616684811245396,
          -0.2797965849028925,
          -0.21761956603558197,
          0.7383520990492984,
          -0.8627061367839168,
          -1.1891354858372907,
          0.3652899858454415,
          0.5906816792394389,
          -2.300549698090447,
          0.6839472075404034,
          0.35751785848702866,
          0.5751374245226124,
          0,
          0.15544254716827322,
          0.6684029528235769,
          1.204679740554119,
          -2.160651405639001,
          0.04663276415048223,
          -0.6761750801819888,
          -0.5440489150889576,
          -1.7254122735678354,
          -0.16321467452668692,
          -1.259084632063015,
          2.059613749979623,
          0.7228078443324728,
          2.1606514056390003,
          -0.38860636792068437,
          -0.32642934905337473,
          0.23316382075240938,
          0.2797965849028916,
          0.6450865707483349,
          2.191739915072656,
          -1.0803257028195006,
          -0.2564802028276514,
          -0.20984743867716915,
          -0.8937946462175725,
          0.7461242264077121,
          0.9015667735759854,
          2.090702259413277,
          -0.22539169339399656,
          0.7150357169740573,
          -0.7383520990492984,
          -0.4274670047127511,
          -0.21761956603558197,
          -0.054404891508895936,
          1.2979452688550834,
          -1.655463127342112,
          -1.4067550518728735,
          0.1476704198098595,
          -0.06217701886730964,
          -0.8393897547086757,
          0.645086570748334,
          0.06994914622572335,
          -1.9352597122450037,
          -1.8497663113024538,
          0.4119227499959246
         ],
         "y": [
          -2.4982793305578035,
          -1.5374026649586483,
          -1.3452273318388173,
          1.3452273318388173,
          -1.3452273318388173,
          1.1530519987189862,
          1.1530519987189862,
          -0.3843506662396621,
          -0.3843506662396621,
          -0.19217533311983104,
          0.7687013324793242,
          -0.5765259993594931,
          -1.1530519987189862,
          0.19217533311983104,
          0.7687013324793242,
          -2.8826299967974656,
          0.5765259993594931,
          0.5765259993594931,
          0.7687013324793242,
          -0.3843506662396621,
          0.5765259993594931,
          0.5765259993594931,
          1.3452273318388173,
          -2.8826299967974656,
          0.5765259993594931,
          -0.7687013324793242,
          -0.7687013324793242,
          -2.1139286643181414,
          0,
          -1.5374026649586483,
          2.1139286643181414,
          0.3843506662396621,
          1.9217533311983104,
          -0.19217533311983104,
          0.5765259993594931,
          -0.19217533311983104,
          0.3843506662396621,
          0.9608766655991552,
          2.1139286643181414,
          -0.9608766655991552,
          0.3843506662396621,
          -0.19217533311983104,
          -0.9608766655991552,
          0.19217533311983104,
          0.19217533311983104,
          2.3061039974379725,
          -0.19217533311983104,
          0.7687013324793242,
          -0.3843506662396621,
          -0.3843506662396621,
          -0.19217533311983104,
          -0.19217533311983104,
          1.1530519987189862,
          -1.7295779980784793,
          -0.9608766655991552,
          0,
          0.3843506662396621,
          -0.7687013324793242,
          0.5765259993594931,
          0.19217533311983104,
          -2.3061039974379725,
          -1.5374026649586483,
          0.5765259993594931
         ]
        }
       ],
       "layout": {
        "template": {
         "data": {
          "bar": [
           {
            "error_x": {
             "color": "#2a3f5f"
            },
            "error_y": {
             "color": "#2a3f5f"
            },
            "marker": {
             "line": {
              "color": "#E5ECF6",
              "width": 0.5
             },
             "pattern": {
              "fillmode": "overlay",
              "size": 10,
              "solidity": 0.2
             }
            },
            "type": "bar"
           }
          ],
          "barpolar": [
           {
            "marker": {
             "line": {
              "color": "#E5ECF6",
              "width": 0.5
             },
             "pattern": {
              "fillmode": "overlay",
              "size": 10,
              "solidity": 0.2
             }
            },
            "type": "barpolar"
           }
          ],
          "carpet": [
           {
            "aaxis": {
             "endlinecolor": "#2a3f5f",
             "gridcolor": "white",
             "linecolor": "white",
             "minorgridcolor": "white",
             "startlinecolor": "#2a3f5f"
            },
            "baxis": {
             "endlinecolor": "#2a3f5f",
             "gridcolor": "white",
             "linecolor": "white",
             "minorgridcolor": "white",
             "startlinecolor": "#2a3f5f"
            },
            "type": "carpet"
           }
          ],
          "choropleth": [
           {
            "colorbar": {
             "outlinewidth": 0,
             "ticks": ""
            },
            "type": "choropleth"
           }
          ],
          "contour": [
           {
            "colorbar": {
             "outlinewidth": 0,
             "ticks": ""
            },
            "colorscale": [
             [
              0,
              "#0d0887"
             ],
             [
              0.1111111111111111,
              "#46039f"
             ],
             [
              0.2222222222222222,
              "#7201a8"
             ],
             [
              0.3333333333333333,
              "#9c179e"
             ],
             [
              0.4444444444444444,
              "#bd3786"
             ],
             [
              0.5555555555555556,
              "#d8576b"
             ],
             [
              0.6666666666666666,
              "#ed7953"
             ],
             [
              0.7777777777777778,
              "#fb9f3a"
             ],
             [
              0.8888888888888888,
              "#fdca26"
             ],
             [
              1,
              "#f0f921"
             ]
            ],
            "type": "contour"
           }
          ],
          "contourcarpet": [
           {
            "colorbar": {
             "outlinewidth": 0,
             "ticks": ""
            },
            "type": "contourcarpet"
           }
          ],
          "heatmap": [
           {
            "colorbar": {
             "outlinewidth": 0,
             "ticks": ""
            },
            "colorscale": [
             [
              0,
              "#0d0887"
             ],
             [
              0.1111111111111111,
              "#46039f"
             ],
             [
              0.2222222222222222,
              "#7201a8"
             ],
             [
              0.3333333333333333,
              "#9c179e"
             ],
             [
              0.4444444444444444,
              "#bd3786"
             ],
             [
              0.5555555555555556,
              "#d8576b"
             ],
             [
              0.6666666666666666,
              "#ed7953"
             ],
             [
              0.7777777777777778,
              "#fb9f3a"
             ],
             [
              0.8888888888888888,
              "#fdca26"
             ],
             [
              1,
              "#f0f921"
             ]
            ],
            "type": "heatmap"
           }
          ],
          "heatmapgl": [
           {
            "colorbar": {
             "outlinewidth": 0,
             "ticks": ""
            },
            "colorscale": [
             [
              0,
              "#0d0887"
             ],
             [
              0.1111111111111111,
              "#46039f"
             ],
             [
              0.2222222222222222,
              "#7201a8"
             ],
             [
              0.3333333333333333,
              "#9c179e"
             ],
             [
              0.4444444444444444,
              "#bd3786"
             ],
             [
              0.5555555555555556,
              "#d8576b"
             ],
             [
              0.6666666666666666,
              "#ed7953"
             ],
             [
              0.7777777777777778,
              "#fb9f3a"
             ],
             [
              0.8888888888888888,
              "#fdca26"
             ],
             [
              1,
              "#f0f921"
             ]
            ],
            "type": "heatmapgl"
           }
          ],
          "histogram": [
           {
            "marker": {
             "pattern": {
              "fillmode": "overlay",
              "size": 10,
              "solidity": 0.2
             }
            },
            "type": "histogram"
           }
          ],
          "histogram2d": [
           {
            "colorbar": {
             "outlinewidth": 0,
             "ticks": ""
            },
            "colorscale": [
             [
              0,
              "#0d0887"
             ],
             [
              0.1111111111111111,
              "#46039f"
             ],
             [
              0.2222222222222222,
              "#7201a8"
             ],
             [
              0.3333333333333333,
              "#9c179e"
             ],
             [
              0.4444444444444444,
              "#bd3786"
             ],
             [
              0.5555555555555556,
              "#d8576b"
             ],
             [
              0.6666666666666666,
              "#ed7953"
             ],
             [
              0.7777777777777778,
              "#fb9f3a"
             ],
             [
              0.8888888888888888,
              "#fdca26"
             ],
             [
              1,
              "#f0f921"
             ]
            ],
            "type": "histogram2d"
           }
          ],
          "histogram2dcontour": [
           {
            "colorbar": {
             "outlinewidth": 0,
             "ticks": ""
            },
            "colorscale": [
             [
              0,
              "#0d0887"
             ],
             [
              0.1111111111111111,
              "#46039f"
             ],
             [
              0.2222222222222222,
              "#7201a8"
             ],
             [
              0.3333333333333333,
              "#9c179e"
             ],
             [
              0.4444444444444444,
              "#bd3786"
             ],
             [
              0.5555555555555556,
              "#d8576b"
             ],
             [
              0.6666666666666666,
              "#ed7953"
             ],
             [
              0.7777777777777778,
              "#fb9f3a"
             ],
             [
              0.8888888888888888,
              "#fdca26"
             ],
             [
              1,
              "#f0f921"
             ]
            ],
            "type": "histogram2dcontour"
           }
          ],
          "mesh3d": [
           {
            "colorbar": {
             "outlinewidth": 0,
             "ticks": ""
            },
            "type": "mesh3d"
           }
          ],
          "parcoords": [
           {
            "line": {
             "colorbar": {
              "outlinewidth": 0,
              "ticks": ""
             }
            },
            "type": "parcoords"
           }
          ],
          "pie": [
           {
            "automargin": true,
            "type": "pie"
           }
          ],
          "scatter": [
           {
            "fillpattern": {
             "fillmode": "overlay",
             "size": 10,
             "solidity": 0.2
            },
            "type": "scatter"
           }
          ],
          "scatter3d": [
           {
            "line": {
             "colorbar": {
              "outlinewidth": 0,
              "ticks": ""
             }
            },
            "marker": {
             "colorbar": {
              "outlinewidth": 0,
              "ticks": ""
             }
            },
            "type": "scatter3d"
           }
          ],
          "scattercarpet": [
           {
            "marker": {
             "colorbar": {
              "outlinewidth": 0,
              "ticks": ""
             }
            },
            "type": "scattercarpet"
           }
          ],
          "scattergeo": [
           {
            "marker": {
             "colorbar": {
              "outlinewidth": 0,
              "ticks": ""
             }
            },
            "type": "scattergeo"
           }
          ],
          "scattergl": [
           {
            "marker": {
             "colorbar": {
              "outlinewidth": 0,
              "ticks": ""
             }
            },
            "type": "scattergl"
           }
          ],
          "scattermapbox": [
           {
            "marker": {
             "colorbar": {
              "outlinewidth": 0,
              "ticks": ""
             }
            },
            "type": "scattermapbox"
           }
          ],
          "scatterpolar": [
           {
            "marker": {
             "colorbar": {
              "outlinewidth": 0,
              "ticks": ""
             }
            },
            "type": "scatterpolar"
           }
          ],
          "scatterpolargl": [
           {
            "marker": {
             "colorbar": {
              "outlinewidth": 0,
              "ticks": ""
             }
            },
            "type": "scatterpolargl"
           }
          ],
          "scatterternary": [
           {
            "marker": {
             "colorbar": {
              "outlinewidth": 0,
              "ticks": ""
             }
            },
            "type": "scatterternary"
           }
          ],
          "surface": [
           {
            "colorbar": {
             "outlinewidth": 0,
             "ticks": ""
            },
            "colorscale": [
             [
              0,
              "#0d0887"
             ],
             [
              0.1111111111111111,
              "#46039f"
             ],
             [
              0.2222222222222222,
              "#7201a8"
             ],
             [
              0.3333333333333333,
              "#9c179e"
             ],
             [
              0.4444444444444444,
              "#bd3786"
             ],
             [
              0.5555555555555556,
              "#d8576b"
             ],
             [
              0.6666666666666666,
              "#ed7953"
             ],
             [
              0.7777777777777778,
              "#fb9f3a"
             ],
             [
              0.8888888888888888,
              "#fdca26"
             ],
             [
              1,
              "#f0f921"
             ]
            ],
            "type": "surface"
           }
          ],
          "table": [
           {
            "cells": {
             "fill": {
              "color": "#EBF0F8"
             },
             "line": {
              "color": "white"
             }
            },
            "header": {
             "fill": {
              "color": "#C8D4E3"
             },
             "line": {
              "color": "white"
             }
            },
            "type": "table"
           }
          ]
         },
         "layout": {
          "annotationdefaults": {
           "arrowcolor": "#2a3f5f",
           "arrowhead": 0,
           "arrowwidth": 1
          },
          "autotypenumbers": "strict",
          "coloraxis": {
           "colorbar": {
            "outlinewidth": 0,
            "ticks": ""
           }
          },
          "colorscale": {
           "diverging": [
            [
             0,
             "#8e0152"
            ],
            [
             0.1,
             "#c51b7d"
            ],
            [
             0.2,
             "#de77ae"
            ],
            [
             0.3,
             "#f1b6da"
            ],
            [
             0.4,
             "#fde0ef"
            ],
            [
             0.5,
             "#f7f7f7"
            ],
            [
             0.6,
             "#e6f5d0"
            ],
            [
             0.7,
             "#b8e186"
            ],
            [
             0.8,
             "#7fbc41"
            ],
            [
             0.9,
             "#4d9221"
            ],
            [
             1,
             "#276419"
            ]
           ],
           "sequential": [
            [
             0,
             "#0d0887"
            ],
            [
             0.1111111111111111,
             "#46039f"
            ],
            [
             0.2222222222222222,
             "#7201a8"
            ],
            [
             0.3333333333333333,
             "#9c179e"
            ],
            [
             0.4444444444444444,
             "#bd3786"
            ],
            [
             0.5555555555555556,
             "#d8576b"
            ],
            [
             0.6666666666666666,
             "#ed7953"
            ],
            [
             0.7777777777777778,
             "#fb9f3a"
            ],
            [
             0.8888888888888888,
             "#fdca26"
            ],
            [
             1,
             "#f0f921"
            ]
           ],
           "sequentialminus": [
            [
             0,
             "#0d0887"
            ],
            [
             0.1111111111111111,
             "#46039f"
            ],
            [
             0.2222222222222222,
             "#7201a8"
            ],
            [
             0.3333333333333333,
             "#9c179e"
            ],
            [
             0.4444444444444444,
             "#bd3786"
            ],
            [
             0.5555555555555556,
             "#d8576b"
            ],
            [
             0.6666666666666666,
             "#ed7953"
            ],
            [
             0.7777777777777778,
             "#fb9f3a"
            ],
            [
             0.8888888888888888,
             "#fdca26"
            ],
            [
             1,
             "#f0f921"
            ]
           ]
          },
          "colorway": [
           "#636efa",
           "#EF553B",
           "#00cc96",
           "#ab63fa",
           "#FFA15A",
           "#19d3f3",
           "#FF6692",
           "#B6E880",
           "#FF97FF",
           "#FECB52"
          ],
          "font": {
           "color": "#2a3f5f"
          },
          "geo": {
           "bgcolor": "white",
           "lakecolor": "white",
           "landcolor": "#E5ECF6",
           "showlakes": true,
           "showland": true,
           "subunitcolor": "white"
          },
          "hoverlabel": {
           "align": "left"
          },
          "hovermode": "closest",
          "mapbox": {
           "style": "light"
          },
          "paper_bgcolor": "white",
          "plot_bgcolor": "#E5ECF6",
          "polar": {
           "angularaxis": {
            "gridcolor": "white",
            "linecolor": "white",
            "ticks": ""
           },
           "bgcolor": "#E5ECF6",
           "radialaxis": {
            "gridcolor": "white",
            "linecolor": "white",
            "ticks": ""
           }
          },
          "scene": {
           "xaxis": {
            "backgroundcolor": "#E5ECF6",
            "gridcolor": "white",
            "gridwidth": 2,
            "linecolor": "white",
            "showbackground": true,
            "ticks": "",
            "zerolinecolor": "white"
           },
           "yaxis": {
            "backgroundcolor": "#E5ECF6",
            "gridcolor": "white",
            "gridwidth": 2,
            "linecolor": "white",
            "showbackground": true,
            "ticks": "",
            "zerolinecolor": "white"
           },
           "zaxis": {
            "backgroundcolor": "#E5ECF6",
            "gridcolor": "white",
            "gridwidth": 2,
            "linecolor": "white",
            "showbackground": true,
            "ticks": "",
            "zerolinecolor": "white"
           }
          },
          "shapedefaults": {
           "line": {
            "color": "#2a3f5f"
           }
          },
          "ternary": {
           "aaxis": {
            "gridcolor": "white",
            "linecolor": "white",
            "ticks": ""
           },
           "baxis": {
            "gridcolor": "white",
            "linecolor": "white",
            "ticks": ""
           },
           "bgcolor": "#E5ECF6",
           "caxis": {
            "gridcolor": "white",
            "linecolor": "white",
            "ticks": ""
           }
          },
          "title": {
           "x": 0.05
          },
          "xaxis": {
           "automargin": true,
           "gridcolor": "white",
           "linecolor": "white",
           "ticks": "",
           "title": {
            "standoff": 15
           },
           "zerolinecolor": "white",
           "zerolinewidth": 2
          },
          "yaxis": {
           "automargin": true,
           "gridcolor": "white",
           "linecolor": "white",
           "ticks": "",
           "title": {
            "standoff": 15
           },
           "zerolinecolor": "white",
           "zerolinewidth": 2
          }
         }
        },
        "xaxis": {
         "anchor": "y",
         "domain": [
          0,
          1
         ]
        },
        "yaxis": {
         "anchor": "x",
         "domain": [
          0,
          1
         ]
        }
       }
      }
     },
     "metadata": {},
     "output_type": "display_data"
    }
   ],
   "source": [
    "fig = make_subplots(rows = 1, cols = 1)\n",
    "fig.add_trace(go.Scatter(x=allwl, y = allwd, mode=\"markers\"))\n",
    "fig.show()"
   ]
  },
  {
   "cell_type": "code",
   "execution_count": 16,
   "metadata": {},
   "outputs": [
    {
     "data": {
      "text/html": [
       "<div>\n",
       "<style scoped>\n",
       "    .dataframe tbody tr th:only-of-type {\n",
       "        vertical-align: middle;\n",
       "    }\n",
       "\n",
       "    .dataframe tbody tr th {\n",
       "        vertical-align: top;\n",
       "    }\n",
       "\n",
       "    .dataframe thead th {\n",
       "        text-align: right;\n",
       "    }\n",
       "</style>\n",
       "<table border=\"1\" class=\"dataframe\">\n",
       "  <thead>\n",
       "    <tr style=\"text-align: right;\">\n",
       "      <th></th>\n",
       "      <th>Seed</th>\n",
       "      <th>Win/Loss</th>\n",
       "      <th>SOS</th>\n",
       "      <th>Win Diff</th>\n",
       "    </tr>\n",
       "  </thead>\n",
       "  <tbody>\n",
       "    <tr>\n",
       "      <th>0</th>\n",
       "      <td>2.299353</td>\n",
       "      <td>-2.246145</td>\n",
       "      <td>-2.016284</td>\n",
       "      <td>-2.498279</td>\n",
       "    </tr>\n",
       "    <tr>\n",
       "      <th>1</th>\n",
       "      <td>1.992772</td>\n",
       "      <td>-1.352350</td>\n",
       "      <td>-1.859279</td>\n",
       "      <td>-1.537403</td>\n",
       "    </tr>\n",
       "    <tr>\n",
       "      <th>2</th>\n",
       "      <td>0.766451</td>\n",
       "      <td>-0.784985</td>\n",
       "      <td>-0.894815</td>\n",
       "      <td>-1.345227</td>\n",
       "    </tr>\n",
       "    <tr>\n",
       "      <th>3</th>\n",
       "      <td>-0.153290</td>\n",
       "      <td>0.948200</td>\n",
       "      <td>0.139298</td>\n",
       "      <td>1.345227</td>\n",
       "    </tr>\n",
       "    <tr>\n",
       "      <th>4</th>\n",
       "      <td>0.153290</td>\n",
       "      <td>-1.414527</td>\n",
       "      <td>0.239640</td>\n",
       "      <td>-1.345227</td>\n",
       "    </tr>\n",
       "    <tr>\n",
       "      <th>...</th>\n",
       "      <td>...</td>\n",
       "      <td>...</td>\n",
       "      <td>...</td>\n",
       "      <td>...</td>\n",
       "    </tr>\n",
       "    <tr>\n",
       "      <th>58</th>\n",
       "      <td>-0.613161</td>\n",
       "      <td>0.645087</td>\n",
       "      <td>-0.069649</td>\n",
       "      <td>0.576526</td>\n",
       "    </tr>\n",
       "    <tr>\n",
       "      <th>59</th>\n",
       "      <td>-0.306580</td>\n",
       "      <td>0.069949</td>\n",
       "      <td>0.207767</td>\n",
       "      <td>0.192175</td>\n",
       "    </tr>\n",
       "    <tr>\n",
       "      <th>60</th>\n",
       "      <td>0.459871</td>\n",
       "      <td>-1.935260</td>\n",
       "      <td>0.365953</td>\n",
       "      <td>-2.306104</td>\n",
       "    </tr>\n",
       "    <tr>\n",
       "      <th>61</th>\n",
       "      <td>1.532902</td>\n",
       "      <td>-1.849766</td>\n",
       "      <td>-0.315192</td>\n",
       "      <td>-1.537403</td>\n",
       "    </tr>\n",
       "    <tr>\n",
       "      <th>62</th>\n",
       "      <td>0.000000</td>\n",
       "      <td>0.411923</td>\n",
       "      <td>-0.342343</td>\n",
       "      <td>0.576526</td>\n",
       "    </tr>\n",
       "  </tbody>\n",
       "</table>\n",
       "<p>63 rows × 4 columns</p>\n",
       "</div>"
      ],
      "text/plain": [
       "        Seed  Win/Loss       SOS  Win Diff\n",
       "0   2.299353 -2.246145 -2.016284 -2.498279\n",
       "1   1.992772 -1.352350 -1.859279 -1.537403\n",
       "2   0.766451 -0.784985 -0.894815 -1.345227\n",
       "3  -0.153290  0.948200  0.139298  1.345227\n",
       "4   0.153290 -1.414527  0.239640 -1.345227\n",
       "..       ...       ...       ...       ...\n",
       "58 -0.613161  0.645087 -0.069649  0.576526\n",
       "59 -0.306580  0.069949  0.207767  0.192175\n",
       "60  0.459871 -1.935260  0.365953 -2.306104\n",
       "61  1.532902 -1.849766 -0.315192 -1.537403\n",
       "62  0.000000  0.411923 -0.342343  0.576526\n",
       "\n",
       "[63 rows x 4 columns]"
      ]
     },
     "execution_count": 16,
     "metadata": {},
     "output_type": "execute_result"
    }
   ],
   "source": [
    "newdf = pd.DataFrame()\n",
    "newdf[\"Seed\"] = allseed\n",
    "newdf[\"Win/Loss\"] = allwl\n",
    "newdf[\"SOS\"] = allsos\n",
    "newdf[\"Win Diff\"] = allwd\n",
    "newdf"
   ]
  },
  {
   "cell_type": "code",
   "execution_count": 21,
   "metadata": {},
   "outputs": [
    {
     "data": {
      "application/vnd.plotly.v1+json": {
       "config": {
        "plotlyServerURL": "https://plot.ly"
       },
       "data": [
        {
         "diagonal": {
          "visible": false
         },
         "dimensions": [
          {
           "axis": {
            "matches": true
           },
           "label": "Seed",
           "values": [
            2.2993526224517513,
            1.9927722727915178,
            0.7664508741505837,
            -0.1532901748301167,
            0.15329017483011675,
            -1.0730312238108173,
            -0.7664508741505838,
            0.7664508741505838,
            0.1532901748301167,
            1.6861919231312843,
            0.3065803496602335,
            -0.9197410489807005,
            -1.3796115734710508,
            -1.226321398640934,
            0.45987052449035026,
            2.2993526224517513,
            -0.15329017483011675,
            -1.0730312238108173,
            -1.3796115734710508,
            -0.9197410489807005,
            -1.6861919231312843,
            0.45987052449035026,
            -1.9927722727915178,
            1.226321398640934,
            -1.226321398640934,
            1.226321398640934,
            0.7664508741505838,
            0.6131606993204669,
            0.1532901748301167,
            0.3065803496602334,
            -2.2993526224517513,
            -0.15329017483011675,
            1.0730312238108173,
            -1.3796115734710508,
            0.7664508741505838,
            -1.6861919231312843,
            0.45987052449035026,
            -1.9927722727915178,
            -1.226321398640934,
            -1.226321398640934,
            -0.45987052449035026,
            1.226321398640934,
            0.45987052449035015,
            -1.3796115734710508,
            -1.0730312238108173,
            -2.2993526224517513,
            0.15329017483011675,
            1.0730312238108173,
            -1.3796115734710508,
            -0.7664508741505838,
            -1.6861919231312843,
            -0.45987052449035026,
            -1.9927722727915178,
            1.226321398640934,
            -1.226321398640934,
            -0.45987052449035026,
            -0.7664508741505838,
            0.45987052449035015,
            -0.613160699320467,
            -0.3065803496602335,
            0.45987052449035015,
            1.5329017483011675,
            0
           ]
          },
          {
           "axis": {
            "matches": true
           },
           "label": "Win/Loss",
           "values": [
            -2.246144806581552,
            -1.3523501603639785,
            -0.7849848631997807,
            0.9481995377264685,
            -1.414527179231289,
            0.5595931698057841,
            1.0259208113106046,
            -0.7616684811245396,
            -0.2797965849028925,
            -0.21761956603558197,
            0.7383520990492984,
            -0.8627061367839168,
            -1.1891354858372907,
            0.3652899858454415,
            0.5906816792394389,
            -2.300549698090447,
            0.6839472075404034,
            0.35751785848702866,
            0.5751374245226124,
            0,
            0.15544254716827322,
            0.6684029528235769,
            1.204679740554119,
            -2.160651405639001,
            0.04663276415048223,
            -0.6761750801819888,
            -0.5440489150889576,
            -1.7254122735678354,
            -0.16321467452668692,
            -1.259084632063015,
            2.059613749979623,
            0.7228078443324728,
            2.1606514056390003,
            -0.38860636792068437,
            -0.32642934905337473,
            0.23316382075240938,
            0.2797965849028916,
            0.6450865707483349,
            2.191739915072656,
            -1.0803257028195006,
            -0.2564802028276514,
            -0.20984743867716915,
            -0.8937946462175725,
            0.7461242264077121,
            0.9015667735759854,
            2.090702259413277,
            -0.22539169339399656,
            0.7150357169740573,
            -0.7383520990492984,
            -0.4274670047127511,
            -0.21761956603558197,
            -0.054404891508895936,
            1.2979452688550834,
            -1.655463127342112,
            -1.4067550518728735,
            0.1476704198098595,
            -0.06217701886730964,
            -0.8393897547086757,
            0.645086570748334,
            0.06994914622572335,
            -1.9352597122450037,
            -1.8497663113024538,
            0.4119227499959246
           ]
          },
          {
           "axis": {
            "matches": true
           },
           "label": "SOS",
           "values": [
            -2.0162844650090257,
            -1.8592787074878312,
            -0.8948147684290642,
            0.13929834125940577,
            0.23964036674287614,
            0.7448919774125851,
            0.1192299361627116,
            0.28686014344097965,
            -0.10506400315328057,
            -1.3705540186624585,
            -0.8617609247403917,
            1.2784754541011563,
            1.7176193773935204,
            0.07319065388206059,
            -0.25144531091740197,
            -1.409510334438394,
            -0.4592123283890581,
            0.5477494096980023,
            0.8558584526531289,
            0.37539722474992415,
            1.7778245926836025,
            -0.6315645133371364,
            1.3233342419643548,
            -0.023609888349051644,
            0.9396735562922627,
            -0.5737202868819593,
            -0.155825263103742,
            -0.0389563157759355,
            0.12159092499761681,
            0.09916153106601766,
            1.718799871810973,
            -0.21130850072401386,
            -1.782546570353413,
            1.3776369851671741,
            -0.04131730461084071,
            1.0270301431837545,
            -0.053122248785366644,
            1.6444287235114599,
            0.056663732037724346,
            1.429578739535088,
            1.2005628225492853,
            -0.31401151504238933,
            -0.16999119611317315,
            0.24672333324759166,
            -0.06728818179479767,
            2.181553683452389,
            0.20422553421929823,
            -0.46983677814613134,
            1.6739410839477746,
            0.5501103985329074,
            1.9194839227779137,
            0.13575685800704812,
            1.256046060169557,
            0.1168689473278064,
            1.4543691223015927,
            0.07909312596932394,
            0.43914392329236374,
            0.2242939393159924,
            -0.06964917062970288,
            0.20776701747165638,
            0.3659532694103036,
            -0.3151920094598418,
            -0.3423433810612515
           ]
          },
          {
           "axis": {
            "matches": true
           },
           "label": "Win Diff",
           "values": [
            -2.4982793305578035,
            -1.5374026649586483,
            -1.3452273318388173,
            1.3452273318388173,
            -1.3452273318388173,
            1.1530519987189862,
            1.1530519987189862,
            -0.3843506662396621,
            -0.3843506662396621,
            -0.19217533311983104,
            0.7687013324793242,
            -0.5765259993594931,
            -1.1530519987189862,
            0.19217533311983104,
            0.7687013324793242,
            -2.8826299967974656,
            0.5765259993594931,
            0.5765259993594931,
            0.7687013324793242,
            -0.3843506662396621,
            0.5765259993594931,
            0.5765259993594931,
            1.3452273318388173,
            -2.8826299967974656,
            0.5765259993594931,
            -0.7687013324793242,
            -0.7687013324793242,
            -2.1139286643181414,
            0,
            -1.5374026649586483,
            2.1139286643181414,
            0.3843506662396621,
            1.9217533311983104,
            -0.19217533311983104,
            0.5765259993594931,
            -0.19217533311983104,
            0.3843506662396621,
            0.9608766655991552,
            2.1139286643181414,
            -0.9608766655991552,
            0.3843506662396621,
            -0.19217533311983104,
            -0.9608766655991552,
            0.19217533311983104,
            0.19217533311983104,
            2.3061039974379725,
            -0.19217533311983104,
            0.7687013324793242,
            -0.3843506662396621,
            -0.3843506662396621,
            -0.19217533311983104,
            -0.19217533311983104,
            1.1530519987189862,
            -1.7295779980784793,
            -0.9608766655991552,
            0,
            0.3843506662396621,
            -0.7687013324793242,
            0.5765259993594931,
            0.19217533311983104,
            -2.3061039974379725,
            -1.5374026649586483,
            0.5765259993594931
           ]
          }
         ],
         "hovertemplate": "%{xaxis.title.text}=%{x}<br>%{yaxis.title.text}=%{y}<extra></extra>",
         "legendgroup": "",
         "marker": {
          "color": "#636efa",
          "symbol": "circle"
         },
         "name": "",
         "showlegend": false,
         "type": "splom"
        }
       ],
       "layout": {
        "dragmode": "select",
        "height": 1000,
        "legend": {
         "tracegroupgap": 0
        },
        "template": {
         "data": {
          "bar": [
           {
            "error_x": {
             "color": "#2a3f5f"
            },
            "error_y": {
             "color": "#2a3f5f"
            },
            "marker": {
             "line": {
              "color": "#E5ECF6",
              "width": 0.5
             },
             "pattern": {
              "fillmode": "overlay",
              "size": 10,
              "solidity": 0.2
             }
            },
            "type": "bar"
           }
          ],
          "barpolar": [
           {
            "marker": {
             "line": {
              "color": "#E5ECF6",
              "width": 0.5
             },
             "pattern": {
              "fillmode": "overlay",
              "size": 10,
              "solidity": 0.2
             }
            },
            "type": "barpolar"
           }
          ],
          "carpet": [
           {
            "aaxis": {
             "endlinecolor": "#2a3f5f",
             "gridcolor": "white",
             "linecolor": "white",
             "minorgridcolor": "white",
             "startlinecolor": "#2a3f5f"
            },
            "baxis": {
             "endlinecolor": "#2a3f5f",
             "gridcolor": "white",
             "linecolor": "white",
             "minorgridcolor": "white",
             "startlinecolor": "#2a3f5f"
            },
            "type": "carpet"
           }
          ],
          "choropleth": [
           {
            "colorbar": {
             "outlinewidth": 0,
             "ticks": ""
            },
            "type": "choropleth"
           }
          ],
          "contour": [
           {
            "colorbar": {
             "outlinewidth": 0,
             "ticks": ""
            },
            "colorscale": [
             [
              0,
              "#0d0887"
             ],
             [
              0.1111111111111111,
              "#46039f"
             ],
             [
              0.2222222222222222,
              "#7201a8"
             ],
             [
              0.3333333333333333,
              "#9c179e"
             ],
             [
              0.4444444444444444,
              "#bd3786"
             ],
             [
              0.5555555555555556,
              "#d8576b"
             ],
             [
              0.6666666666666666,
              "#ed7953"
             ],
             [
              0.7777777777777778,
              "#fb9f3a"
             ],
             [
              0.8888888888888888,
              "#fdca26"
             ],
             [
              1,
              "#f0f921"
             ]
            ],
            "type": "contour"
           }
          ],
          "contourcarpet": [
           {
            "colorbar": {
             "outlinewidth": 0,
             "ticks": ""
            },
            "type": "contourcarpet"
           }
          ],
          "heatmap": [
           {
            "colorbar": {
             "outlinewidth": 0,
             "ticks": ""
            },
            "colorscale": [
             [
              0,
              "#0d0887"
             ],
             [
              0.1111111111111111,
              "#46039f"
             ],
             [
              0.2222222222222222,
              "#7201a8"
             ],
             [
              0.3333333333333333,
              "#9c179e"
             ],
             [
              0.4444444444444444,
              "#bd3786"
             ],
             [
              0.5555555555555556,
              "#d8576b"
             ],
             [
              0.6666666666666666,
              "#ed7953"
             ],
             [
              0.7777777777777778,
              "#fb9f3a"
             ],
             [
              0.8888888888888888,
              "#fdca26"
             ],
             [
              1,
              "#f0f921"
             ]
            ],
            "type": "heatmap"
           }
          ],
          "heatmapgl": [
           {
            "colorbar": {
             "outlinewidth": 0,
             "ticks": ""
            },
            "colorscale": [
             [
              0,
              "#0d0887"
             ],
             [
              0.1111111111111111,
              "#46039f"
             ],
             [
              0.2222222222222222,
              "#7201a8"
             ],
             [
              0.3333333333333333,
              "#9c179e"
             ],
             [
              0.4444444444444444,
              "#bd3786"
             ],
             [
              0.5555555555555556,
              "#d8576b"
             ],
             [
              0.6666666666666666,
              "#ed7953"
             ],
             [
              0.7777777777777778,
              "#fb9f3a"
             ],
             [
              0.8888888888888888,
              "#fdca26"
             ],
             [
              1,
              "#f0f921"
             ]
            ],
            "type": "heatmapgl"
           }
          ],
          "histogram": [
           {
            "marker": {
             "pattern": {
              "fillmode": "overlay",
              "size": 10,
              "solidity": 0.2
             }
            },
            "type": "histogram"
           }
          ],
          "histogram2d": [
           {
            "colorbar": {
             "outlinewidth": 0,
             "ticks": ""
            },
            "colorscale": [
             [
              0,
              "#0d0887"
             ],
             [
              0.1111111111111111,
              "#46039f"
             ],
             [
              0.2222222222222222,
              "#7201a8"
             ],
             [
              0.3333333333333333,
              "#9c179e"
             ],
             [
              0.4444444444444444,
              "#bd3786"
             ],
             [
              0.5555555555555556,
              "#d8576b"
             ],
             [
              0.6666666666666666,
              "#ed7953"
             ],
             [
              0.7777777777777778,
              "#fb9f3a"
             ],
             [
              0.8888888888888888,
              "#fdca26"
             ],
             [
              1,
              "#f0f921"
             ]
            ],
            "type": "histogram2d"
           }
          ],
          "histogram2dcontour": [
           {
            "colorbar": {
             "outlinewidth": 0,
             "ticks": ""
            },
            "colorscale": [
             [
              0,
              "#0d0887"
             ],
             [
              0.1111111111111111,
              "#46039f"
             ],
             [
              0.2222222222222222,
              "#7201a8"
             ],
             [
              0.3333333333333333,
              "#9c179e"
             ],
             [
              0.4444444444444444,
              "#bd3786"
             ],
             [
              0.5555555555555556,
              "#d8576b"
             ],
             [
              0.6666666666666666,
              "#ed7953"
             ],
             [
              0.7777777777777778,
              "#fb9f3a"
             ],
             [
              0.8888888888888888,
              "#fdca26"
             ],
             [
              1,
              "#f0f921"
             ]
            ],
            "type": "histogram2dcontour"
           }
          ],
          "mesh3d": [
           {
            "colorbar": {
             "outlinewidth": 0,
             "ticks": ""
            },
            "type": "mesh3d"
           }
          ],
          "parcoords": [
           {
            "line": {
             "colorbar": {
              "outlinewidth": 0,
              "ticks": ""
             }
            },
            "type": "parcoords"
           }
          ],
          "pie": [
           {
            "automargin": true,
            "type": "pie"
           }
          ],
          "scatter": [
           {
            "fillpattern": {
             "fillmode": "overlay",
             "size": 10,
             "solidity": 0.2
            },
            "type": "scatter"
           }
          ],
          "scatter3d": [
           {
            "line": {
             "colorbar": {
              "outlinewidth": 0,
              "ticks": ""
             }
            },
            "marker": {
             "colorbar": {
              "outlinewidth": 0,
              "ticks": ""
             }
            },
            "type": "scatter3d"
           }
          ],
          "scattercarpet": [
           {
            "marker": {
             "colorbar": {
              "outlinewidth": 0,
              "ticks": ""
             }
            },
            "type": "scattercarpet"
           }
          ],
          "scattergeo": [
           {
            "marker": {
             "colorbar": {
              "outlinewidth": 0,
              "ticks": ""
             }
            },
            "type": "scattergeo"
           }
          ],
          "scattergl": [
           {
            "marker": {
             "colorbar": {
              "outlinewidth": 0,
              "ticks": ""
             }
            },
            "type": "scattergl"
           }
          ],
          "scattermapbox": [
           {
            "marker": {
             "colorbar": {
              "outlinewidth": 0,
              "ticks": ""
             }
            },
            "type": "scattermapbox"
           }
          ],
          "scatterpolar": [
           {
            "marker": {
             "colorbar": {
              "outlinewidth": 0,
              "ticks": ""
             }
            },
            "type": "scatterpolar"
           }
          ],
          "scatterpolargl": [
           {
            "marker": {
             "colorbar": {
              "outlinewidth": 0,
              "ticks": ""
             }
            },
            "type": "scatterpolargl"
           }
          ],
          "scatterternary": [
           {
            "marker": {
             "colorbar": {
              "outlinewidth": 0,
              "ticks": ""
             }
            },
            "type": "scatterternary"
           }
          ],
          "surface": [
           {
            "colorbar": {
             "outlinewidth": 0,
             "ticks": ""
            },
            "colorscale": [
             [
              0,
              "#0d0887"
             ],
             [
              0.1111111111111111,
              "#46039f"
             ],
             [
              0.2222222222222222,
              "#7201a8"
             ],
             [
              0.3333333333333333,
              "#9c179e"
             ],
             [
              0.4444444444444444,
              "#bd3786"
             ],
             [
              0.5555555555555556,
              "#d8576b"
             ],
             [
              0.6666666666666666,
              "#ed7953"
             ],
             [
              0.7777777777777778,
              "#fb9f3a"
             ],
             [
              0.8888888888888888,
              "#fdca26"
             ],
             [
              1,
              "#f0f921"
             ]
            ],
            "type": "surface"
           }
          ],
          "table": [
           {
            "cells": {
             "fill": {
              "color": "#EBF0F8"
             },
             "line": {
              "color": "white"
             }
            },
            "header": {
             "fill": {
              "color": "#C8D4E3"
             },
             "line": {
              "color": "white"
             }
            },
            "type": "table"
           }
          ]
         },
         "layout": {
          "annotationdefaults": {
           "arrowcolor": "#2a3f5f",
           "arrowhead": 0,
           "arrowwidth": 1
          },
          "autotypenumbers": "strict",
          "coloraxis": {
           "colorbar": {
            "outlinewidth": 0,
            "ticks": ""
           }
          },
          "colorscale": {
           "diverging": [
            [
             0,
             "#8e0152"
            ],
            [
             0.1,
             "#c51b7d"
            ],
            [
             0.2,
             "#de77ae"
            ],
            [
             0.3,
             "#f1b6da"
            ],
            [
             0.4,
             "#fde0ef"
            ],
            [
             0.5,
             "#f7f7f7"
            ],
            [
             0.6,
             "#e6f5d0"
            ],
            [
             0.7,
             "#b8e186"
            ],
            [
             0.8,
             "#7fbc41"
            ],
            [
             0.9,
             "#4d9221"
            ],
            [
             1,
             "#276419"
            ]
           ],
           "sequential": [
            [
             0,
             "#0d0887"
            ],
            [
             0.1111111111111111,
             "#46039f"
            ],
            [
             0.2222222222222222,
             "#7201a8"
            ],
            [
             0.3333333333333333,
             "#9c179e"
            ],
            [
             0.4444444444444444,
             "#bd3786"
            ],
            [
             0.5555555555555556,
             "#d8576b"
            ],
            [
             0.6666666666666666,
             "#ed7953"
            ],
            [
             0.7777777777777778,
             "#fb9f3a"
            ],
            [
             0.8888888888888888,
             "#fdca26"
            ],
            [
             1,
             "#f0f921"
            ]
           ],
           "sequentialminus": [
            [
             0,
             "#0d0887"
            ],
            [
             0.1111111111111111,
             "#46039f"
            ],
            [
             0.2222222222222222,
             "#7201a8"
            ],
            [
             0.3333333333333333,
             "#9c179e"
            ],
            [
             0.4444444444444444,
             "#bd3786"
            ],
            [
             0.5555555555555556,
             "#d8576b"
            ],
            [
             0.6666666666666666,
             "#ed7953"
            ],
            [
             0.7777777777777778,
             "#fb9f3a"
            ],
            [
             0.8888888888888888,
             "#fdca26"
            ],
            [
             1,
             "#f0f921"
            ]
           ]
          },
          "colorway": [
           "#636efa",
           "#EF553B",
           "#00cc96",
           "#ab63fa",
           "#FFA15A",
           "#19d3f3",
           "#FF6692",
           "#B6E880",
           "#FF97FF",
           "#FECB52"
          ],
          "font": {
           "color": "#2a3f5f"
          },
          "geo": {
           "bgcolor": "white",
           "lakecolor": "white",
           "landcolor": "#E5ECF6",
           "showlakes": true,
           "showland": true,
           "subunitcolor": "white"
          },
          "hoverlabel": {
           "align": "left"
          },
          "hovermode": "closest",
          "mapbox": {
           "style": "light"
          },
          "paper_bgcolor": "white",
          "plot_bgcolor": "#E5ECF6",
          "polar": {
           "angularaxis": {
            "gridcolor": "white",
            "linecolor": "white",
            "ticks": ""
           },
           "bgcolor": "#E5ECF6",
           "radialaxis": {
            "gridcolor": "white",
            "linecolor": "white",
            "ticks": ""
           }
          },
          "scene": {
           "xaxis": {
            "backgroundcolor": "#E5ECF6",
            "gridcolor": "white",
            "gridwidth": 2,
            "linecolor": "white",
            "showbackground": true,
            "ticks": "",
            "zerolinecolor": "white"
           },
           "yaxis": {
            "backgroundcolor": "#E5ECF6",
            "gridcolor": "white",
            "gridwidth": 2,
            "linecolor": "white",
            "showbackground": true,
            "ticks": "",
            "zerolinecolor": "white"
           },
           "zaxis": {
            "backgroundcolor": "#E5ECF6",
            "gridcolor": "white",
            "gridwidth": 2,
            "linecolor": "white",
            "showbackground": true,
            "ticks": "",
            "zerolinecolor": "white"
           }
          },
          "shapedefaults": {
           "line": {
            "color": "#2a3f5f"
           }
          },
          "ternary": {
           "aaxis": {
            "gridcolor": "white",
            "linecolor": "white",
            "ticks": ""
           },
           "baxis": {
            "gridcolor": "white",
            "linecolor": "white",
            "ticks": ""
           },
           "bgcolor": "#E5ECF6",
           "caxis": {
            "gridcolor": "white",
            "linecolor": "white",
            "ticks": ""
           }
          },
          "title": {
           "x": 0.05
          },
          "xaxis": {
           "automargin": true,
           "gridcolor": "white",
           "linecolor": "white",
           "ticks": "",
           "title": {
            "standoff": 15
           },
           "zerolinecolor": "white",
           "zerolinewidth": 2
          },
          "yaxis": {
           "automargin": true,
           "gridcolor": "white",
           "linecolor": "white",
           "ticks": "",
           "title": {
            "standoff": 15
           },
           "zerolinecolor": "white",
           "zerolinewidth": 2
          }
         }
        },
        "title": {
         "text": "Scatter matrix of Post Tournament Data"
        },
        "width": 1000
       }
      }
     },
     "metadata": {},
     "output_type": "display_data"
    },
    {
     "ename": "",
     "evalue": "",
     "output_type": "error",
     "traceback": [
      "\u001b[1;31mThe Kernel crashed while executing code in the current cell or a previous cell. \n",
      "\u001b[1;31mPlease review the code in the cell(s) to identify a possible cause of the failure. \n",
      "\u001b[1;31mClick <a href='https://aka.ms/vscodeJupyterKernelCrash'>here</a> for more info. \n",
      "\u001b[1;31mView Jupyter <a href='command:jupyter.viewOutput'>log</a> for further details."
     ]
    }
   ],
   "source": [
    "import plotly.express as px\n",
    "fig = px.scatter_matrix(newdf,\n",
    "    dimensions=[\"Seed\", \"Win/Loss\", \"SOS\", \"Win Diff\"],\n",
    "    title=\"Scatter matrix of Post Tournament Data\",\n",
    "    labels={col:col.replace('_', ' ') for col in newdf.columns}) # remove underscore\n",
    "fig.update_traces(diagonal_visible=False)\n",
    "fig.update_layout(width = 1000, height = 1000)\n",
    "fig.show()"
   ]
  }
 ],
 "metadata": {
  "kernelspec": {
   "display_name": "base",
   "language": "python",
   "name": "python3"
  },
  "language_info": {
   "codemirror_mode": {
    "name": "ipython",
    "version": 3
   },
   "file_extension": ".py",
   "mimetype": "text/x-python",
   "name": "python",
   "nbconvert_exporter": "python",
   "pygments_lexer": "ipython3",
   "version": "3.11.4"
  }
 },
 "nbformat": 4,
 "nbformat_minor": 2
}
