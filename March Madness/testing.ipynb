{
 "cells": [
  {
   "cell_type": "code",
   "execution_count": 1,
   "metadata": {},
   "outputs": [],
   "source": [
    "import numpy as np\n",
    "import pandas as pd"
   ]
  },
  {
   "cell_type": "code",
   "execution_count": null,
   "metadata": {},
   "outputs": [],
   "source": [
    "final2022 = pd.read_excel(\"2022.xlsx\")\n",
    "\n",
    "seed = final2022[\"Seed Diff\"]\n",
    "sos = final2022[\"SOS Diff\"]\n",
    "wd = final2022[\"Overall W Diff\"]\n",
    "wl = final2022[\"W-L% Diff\"]\n",
    "\n",
    "y = 1.057 * seed + 2.64 * sos + 3.3 * wd - 1.7 * wl\n",
    "z = np.exp(y)/(1+np.exp(y))\n",
    "\n",
    "ll = -1/67*sum(final2022[\"0 or 1\"] * np.log(z) + (1-final2022[\"0 or 1\"]) * np.log(1-z))"
   ]
  },
  {
   "cell_type": "markdown",
   "metadata": {},
   "source": [
    "Training Set (2022)"
   ]
  },
  {
   "cell_type": "code",
   "execution_count": 2,
   "metadata": {},
   "outputs": [],
   "source": [
    "final2022 = pd.read_excel(\"modified 2022.xlsx\")\n",
    "\n",
    "seed = final2022[\"Seed Diff\"]\n",
    "sos = final2022[\"SOS Diff\"]\n",
    "wd = final2022[\"Overall W Diff\"]\n",
    "wl = final2022[\"W-L% Diff\"]\n",
    "\n",
    "y = 1.057 * seed + 2.64 * sos + 3.3 * wd - 1.7 * wl\n",
    "z = np.exp(y)/(1+np.exp(y))\n",
    "\n",
    "ll = -1/67*sum(final2022[\"0 or 1\"] * np.log(z) + (1-final2022[\"0 or 1\"]) * np.log(1-z))"
   ]
  },
  {
   "cell_type": "code",
   "execution_count": 3,
   "metadata": {},
   "outputs": [
    {
     "data": {
      "text/plain": [
       "0.3861044476413929"
      ]
     },
     "execution_count": 3,
     "metadata": {},
     "output_type": "execute_result"
    }
   ],
   "source": [
    "# Log Loss:\n",
    "ll"
   ]
  },
  {
   "cell_type": "markdown",
   "metadata": {},
   "source": [
    "Testing Set (2019)"
   ]
  },
  {
   "cell_type": "code",
   "execution_count": 28,
   "metadata": {},
   "outputs": [],
   "source": [
    "final2019 = pd.read_excel(\"modified 2019.xlsx\")\n",
    "\n",
    "seed = final2019[\"Seed Diff\"]\n",
    "sos = final2019[\"SOS Diff\"]\n",
    "wd = final2019[\"Overall W Diff\"]\n",
    "wl = final2019[\"W-L% Diff\"]\n",
    "\n",
    "y = 1.057 * seed + 2.64 * sos + 3.3 * wd - 1.7 * wl\n",
    "z = np.exp(y)/(1+np.exp(y))\n",
    "\n",
    "ll = -1/67*sum(final2019[\"0 or 1\"] * np.log(z) + (1-final2019[\"0 or 1\"]) * np.log(1-z))"
   ]
  },
  {
   "cell_type": "code",
   "execution_count": 29,
   "metadata": {},
   "outputs": [
    {
     "data": {
      "text/plain": [
       "0.34176114022039517"
      ]
     },
     "execution_count": 29,
     "metadata": {},
     "output_type": "execute_result"
    }
   ],
   "source": [
    "# Log-Loss:\n",
    "ll"
   ]
  },
  {
   "cell_type": "markdown",
   "metadata": {},
   "source": [
    "Testing Set (2023)"
   ]
  },
  {
   "cell_type": "code",
   "execution_count": 21,
   "metadata": {},
   "outputs": [],
   "source": [
    "final2023 = pd.read_excel(\"modified 2023.xlsx\")\n",
    "\n",
    "seed = (final2023[\"Seed Diff\"] - np.mean(final2023[\"Seed Diff\"]))/(np.std(final2023[\"Seed Diff\"]))\n",
    "sos = (final2023[\"SOS Diff\"]-np.mean(final2023[\"SOS Diff\"]))/(np.std(final2023[\"SOS Diff\"]))\n",
    "wd = (final2023[\"Overall W Diff\"]-np.mean(final2023[\"Overall W Diff\"]))/(np.std(final2023[\"Overall W Diff\"]))\n",
    "wl = (final2023[\"W-L% Diff\"] - np.mean(final2023[\"W-L% Diff\"]))/(np.std(final2023[\"W-L% Diff\"]))\n",
    "\n",
    "y = 1.28 * seed + 2.37 * sos + 3.83 * wd - 1.77 * wl\n",
    "z = np.exp(y)/(1+np.exp(y))\n",
    "\n",
    "ll = -1/67*sum(final2023[\"0 or 1\"] * np.log(z) + (1-final2023[\"0 or 1\"]) * np.log(1-z))"
   ]
  },
  {
   "cell_type": "code",
   "execution_count": 22,
   "metadata": {},
   "outputs": [
    {
     "data": {
      "text/plain": [
       "0.4854945235915495"
      ]
     },
     "execution_count": 22,
     "metadata": {},
     "output_type": "execute_result"
    }
   ],
   "source": [
    "# Log-Loss\n",
    "ll"
   ]
  }
 ],
 "metadata": {
  "kernelspec": {
   "display_name": "base",
   "language": "python",
   "name": "python3"
  },
  "language_info": {
   "codemirror_mode": {
    "name": "ipython",
    "version": 3
   },
   "file_extension": ".py",
   "mimetype": "text/x-python",
   "name": "python",
   "nbconvert_exporter": "python",
   "pygments_lexer": "ipython3",
   "version": "3.11.4"
  }
 },
 "nbformat": 4,
 "nbformat_minor": 2
}
