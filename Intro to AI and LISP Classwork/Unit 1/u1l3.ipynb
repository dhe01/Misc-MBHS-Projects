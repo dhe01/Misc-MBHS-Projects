{
 "cells": [
  {
   "cell_type": "code",
   "execution_count": 1,
   "metadata": {},
   "outputs": [],
   "source": [
    "import numpy as np\n",
    "import pandas as pd\n",
    "\n",
    "import plotly.graph_objects as go\n",
    "import plotly.express as px\n",
    "from plotly.subplots import make_subplots"
   ]
  },
  {
   "attachments": {},
   "cell_type": "markdown",
   "metadata": {},
   "source": [
    "Activity 1"
   ]
  },
  {
   "cell_type": "code",
   "execution_count": 8,
   "metadata": {},
   "outputs": [
    {
     "name": "stdout",
     "output_type": "stream",
     "text": [
      "Count: 50\n",
      "Unique: 21\n",
      "Top: dance pop\n",
      "Frequency: 8\n"
     ]
    }
   ],
   "source": [
    "df = pd.read_csv('top2019.csv')\n",
    "\n",
    "print(\"Count: \" + str(len(df[\"Genre\"])))\n",
    "print(\"Unique: \" + str(len(list(set(df[\"Genre\"])))))\n",
    "\n",
    "maxc = 0\n",
    "maxname = \"\"\n",
    "for val in list(set(df[\"Genre\"])):\n",
    "    if list(df[\"Genre\"]).count(val) > maxc:\n",
    "        maxc = list(df[\"Genre\"]).count(val)\n",
    "        maxname = val\n",
    "print(\"Top: \" + str(maxname))\n",
    "print(\"Frequency: \" + str(maxc))"
   ]
  },
  {
   "attachments": {},
   "cell_type": "markdown",
   "metadata": {},
   "source": [
    "Activity 2"
   ]
  },
  {
   "cell_type": "code",
   "execution_count": 25,
   "metadata": {},
   "outputs": [
    {
     "data": {
      "text/plain": [
       "Loudness..dB..\n",
       "-11     3\n",
       "-9      1\n",
       "-8      3\n",
       "-7      6\n",
       "-6     13\n",
       "-5      8\n",
       "-4     11\n",
       "-3      3\n",
       "-2      2\n",
       "Name: ID, dtype: int64"
      ]
     },
     "execution_count": 25,
     "metadata": {},
     "output_type": "execute_result"
    }
   ],
   "source": [
    "df = pd.read_csv('top2019.csv')\n",
    "\n",
    "# Q1\n",
    "df = df.sort_values(by = \"Length.\", ascending = False)\n",
    "new_df = df.iloc[0:12]\n",
    "new_df = new_df.reset_index(drop = True)\n",
    "new_df\n",
    "\n",
    "df = pd.read_csv('top2019.csv')\n",
    "db = df.groupby('Loudness..dB..')['ID'].count()\n",
    "db"
   ]
  },
  {
   "cell_type": "code",
   "execution_count": 31,
   "metadata": {},
   "outputs": [
    {
     "data": {
      "text/plain": [
       "Loudness..dB..\n",
       "-11     3\n",
       "-9      1\n",
       "-8      3\n",
       "-7      6\n",
       "-6     13\n",
       "-5      8\n",
       "-4     11\n",
       "-3      3\n",
       "-2      2\n",
       "Name: ID, dtype: int64"
      ]
     },
     "execution_count": 31,
     "metadata": {},
     "output_type": "execute_result"
    }
   ],
   "source": [
    "db.iloc[0:]"
   ]
  }
 ],
 "metadata": {
  "kernelspec": {
   "display_name": "base",
   "language": "python",
   "name": "python3"
  },
  "language_info": {
   "codemirror_mode": {
    "name": "ipython",
    "version": 3
   },
   "file_extension": ".py",
   "mimetype": "text/x-python",
   "name": "python",
   "nbconvert_exporter": "python",
   "pygments_lexer": "ipython3",
   "version": "3.9.15"
  },
  "orig_nbformat": 4,
  "vscode": {
   "interpreter": {
    "hash": "ad2bdc8ecc057115af97d19610ffacc2b4e99fae6737bb82f5d7fb13d2f2c186"
   }
  }
 },
 "nbformat": 4,
 "nbformat_minor": 2
}
