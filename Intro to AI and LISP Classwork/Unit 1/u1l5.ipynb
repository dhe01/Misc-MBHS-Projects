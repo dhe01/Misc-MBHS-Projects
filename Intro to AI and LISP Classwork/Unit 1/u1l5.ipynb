{
 "cells": [
  {
   "cell_type": "code",
   "execution_count": 30,
   "metadata": {},
   "outputs": [],
   "source": [
    "from sklearn import datasets, neighbors\n",
    "from sklearn.model_selection import train_test_split\n",
    "from sklearn.datasets import load_iris\n",
    "\n",
    "import pandas as pd\n",
    "import numpy as np\n",
    "\n",
    "import matplotlib.pyplot as plt\n",
    "\n",
    "import plotly.graph_objects as go\n",
    "import plotly.express as px\n",
    "from plotly.subplots import make_subplots"
   ]
  },
  {
   "cell_type": "code",
   "execution_count": 2,
   "metadata": {},
   "outputs": [
    {
     "data": {
      "text/plain": [
       "<Figure size 640x480 with 0 Axes>"
      ]
     },
     "metadata": {},
     "output_type": "display_data"
    },
    {
     "data": {
      "image/png": "[encoded data removed]",
      "text/plain": [
       "<Figure size 480x480 with 1 Axes>"
      ]
     },
     "metadata": {},
     "output_type": "display_data"
    }
   ],
   "source": [
    "digits = datasets.load_digits()\n",
    "\n",
    "plt.gray()\n",
    "plt.matshow(digits.images[0])\n",
    "plt.show()"
   ]
  },
  {
   "cell_type": "code",
   "execution_count": 41,
   "metadata": {},
   "outputs": [],
   "source": [
    "x_digits = digits.data / digits.data.max()\n",
    "y_digits = digits.target\n",
    "\n",
    "x_train, x_test, y_train, y_test = train_test_split(x_digits, y_digits, train_size=0.9)"
   ]
  },
  {
   "cell_type": "code",
   "execution_count": 42,
   "metadata": {},
   "outputs": [
    {
     "name": "stdout",
     "output_type": "stream",
     "text": [
      "KNN score: 0.9722222222222222\n"
     ]
    }
   ],
   "source": [
    "knn = neighbors.KNeighborsClassifier(n_neighbors=5)\n",
    "\n",
    "knn.fit(x_train, y_train)\n",
    "score = knn.score(x_test, y_test)\n",
    "print('KNN score: ' + str(score))"
   ]
  },
  {
   "cell_type": "code",
   "execution_count": 43,
   "metadata": {},
   "outputs": [
    {
     "name": "stdout",
     "output_type": "stream",
     "text": [
      "KNN score: 0.9722222222222222\n"
     ]
    }
   ],
   "source": [
    "knn = neighbors.KNeighborsClassifier(n_neighbors=3)\n",
    "\n",
    "knn.fit(x_train, y_train)\n",
    "score = knn.score(x_test, y_test)\n",
    "print('KNN score: ' + str(score))"
   ]
  },
  {
   "cell_type": "code",
   "execution_count": 44,
   "metadata": {},
   "outputs": [
    {
     "data": {
      "text/plain": [
       "array([8, 6, 7, 7, 4, 3, 3, 1, 8, 0, 0, 4, 5, 3, 0, 7, 6, 5, 4, 2, 0, 0,\n",
       "       5, 5, 2, 5, 2, 6, 8, 0, 3, 7, 4, 6, 1, 4, 3, 0, 7, 9, 3, 3, 9, 2,\n",
       "       9, 1, 6, 9, 5, 4, 9, 7, 7, 1, 5, 5, 5, 4, 9, 6, 2, 7, 9, 5, 4, 5,\n",
       "       9, 8, 1, 8, 9, 8, 8, 1, 0, 0, 4, 6, 2, 5, 6, 2, 2, 6, 8, 4, 8, 4,\n",
       "       2, 8, 5, 3, 0, 7, 8, 9, 0, 1, 0, 2, 7, 3, 2, 2, 9, 1, 8, 3, 7, 2,\n",
       "       6, 8, 0, 0, 0, 9, 2, 4, 2, 9, 6, 5, 4, 5, 3, 6, 7, 1, 3, 1, 1, 2,\n",
       "       1, 5, 5, 0, 7, 8, 6, 2, 2, 8, 4, 8, 5, 5, 8, 3, 9, 6, 2, 1, 5, 4,\n",
       "       8, 4, 5, 7, 1, 5, 0, 6, 3, 3, 0, 9, 1, 1, 0, 1, 7, 0, 5, 9, 5, 9,\n",
       "       4, 5, 3, 5])"
      ]
     },
     "execution_count": 44,
     "metadata": {},
     "output_type": "execute_result"
    }
   ],
   "source": [
    "y_pred = knn.predict(x_test)\n",
    "y_pred"
   ]
  },
  {
   "cell_type": "code",
   "execution_count": 45,
   "metadata": {},
   "outputs": [
    {
     "name": "stdout",
     "output_type": "stream",
     "text": [
      "97.22222222222221\n"
     ]
    }
   ],
   "source": [
    "c = 0\n",
    "for val in range(len(y_pred)):\n",
    "    if y_pred[val] == y_test[val]:\n",
    "        c += 1\n",
    "        \n",
    "print(c/len(y_pred)*100)"
   ]
  },
  {
   "attachments": {},
   "cell_type": "markdown",
   "metadata": {},
   "source": [
    "IRIS"
   ]
  },
  {
   "cell_type": "code",
   "execution_count": 40,
   "metadata": {},
   "outputs": [
    {
     "name": "stdout",
     "output_type": "stream",
     "text": [
      "94.73684210526315\n"
     ]
    }
   ],
   "source": [
    "iris = load_iris()\n",
    "x, y = iris.data, iris.target\n",
    "x_train, x_test, y_train, y_test = train_test_split(x, y, test_size = 0.25, random_state=31)\n",
    "\n",
    "knn = neighbors.KNeighborsClassifier(n_neighbors=5)\n",
    "\n",
    "knn.fit(x_train, y_train)\n",
    "score = knn.score(x_test, y_test)\n",
    "\n",
    "y_pred = knn.predict(x_test)\n",
    "y_pred\n",
    "\n",
    "c = 0\n",
    "for val in range(len(y_pred)):\n",
    "    if y_pred[val] == y_test[val]:\n",
    "        c += 1\n",
    "        \n",
    "print(c/len(y_pred)*100)"
   ]
  }
 ],
 "metadata": {
  "kernelspec": {
   "display_name": "base",
   "language": "python",
   "name": "python3"
  },
  "language_info": {
   "codemirror_mode": {
    "name": "ipython",
    "version": 3
   },
   "file_extension": ".py",
   "mimetype": "text/x-python",
   "name": "python",
   "nbconvert_exporter": "python",
   "pygments_lexer": "ipython3",
   "version": "3.9.15"
  },
  "orig_nbformat": 4,
  "vscode": {
   "interpreter": {
    "hash": "ad2bdc8ecc057115af97d19610ffacc2b4e99fae6737bb82f5d7fb13d2f2c186"
   }
  }
 },
 "nbformat": 4,
 "nbformat_minor": 2
}
