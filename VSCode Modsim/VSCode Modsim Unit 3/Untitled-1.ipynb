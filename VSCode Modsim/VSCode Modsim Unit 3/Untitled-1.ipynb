{
 "cells": [
  {
   "cell_type": "code",
   "execution_count": 71,
   "metadata": {},
   "outputs": [],
   "source": [
    "import pandas as pd\n",
    "import numpy as np\n",
    "import seaborn as sns\n",
    "import matplotlib.pyplot as plt\n",
    "from sklearn import preprocessing\n",
    "from sklearn import linear_model\n",
    "from sklearn import metrics\n",
    "import statistics\n",
    "import copy\n",
    "import math\n",
    "import plotly.graph_objects as go\n",
    "import plotly.express as px\n",
    "from plotly.subplots import make_subplots\n",
    "from scipy import integrate\n",
    "from scipy.integrate import solve_ivp"
   ]
  },
  {
   "cell_type": "code",
   "execution_count": 72,
   "metadata": {},
   "outputs": [
    {
     "name": "stdout",
     "output_type": "stream",
     "text": [
      "2.333333333333334\n",
      "4.666666666666667\n",
      "11.0\n",
      "23.333333333333336\n",
      "43.66666666666667\n",
      "74.0\n",
      "116.33333333333331\n",
      "172.66666666666663\n",
      "244.99999999999994\n",
      "335.3333333333333\n"
     ]
    }
   ],
   "source": [
    "import numpy as np\n",
    "from scipy.integrate import solve_ivp\n",
    "\n",
    "# Function to integrate\n",
    "def f(x):\n",
    "    return x**2\n",
    "\n",
    "# Starting value for IVP\n",
    "x = [2]\n",
    "\n",
    "# Can replace 10 with number of times you want to iterate through\n",
    "for i in range(10):\n",
    "    \n",
    "    # For unexpected values, replace x[-1] with new value\n",
    "    sol = solve_ivp(lambda x, t: f(x), [i, i+1], [x[-1]], rtol = 1e-5)\n",
    "\n",
    "    print(sol.y[0][-1])\n",
    "    x.append(sol.y[0][-1])\n",
    "\n"
   ]
  },
  {
   "cell_type": "code",
   "execution_count": 73,
   "metadata": {},
   "outputs": [],
   "source": [
    "\"\"\"\n",
    "Code from Modeling and Simulation in Python.\n",
    "\n",
    "Copyright 2020 Allen Downey\n",
    "\n",
    "MIT License: https://opensource.org/licenses/MIT\n",
    "\"\"\"\n",
    "\n",
    "import logging\n",
    "\n",
    "logger = logging.getLogger(name=\"modsim.py\")\n",
    "\n",
    "# make sure we have Python 3.6 or better\n",
    "import sys\n",
    "\n",
    "if sys.version_info < (3, 6):\n",
    "    logger.warning(\"modsim.py depends on Python 3.6 features.\")\n",
    "\n",
    "import inspect\n",
    "\n",
    "import matplotlib.pyplot as plt\n",
    "import numpy as np\n",
    "import pandas as pd\n",
    "import scipy\n",
    "\n",
    "import scipy.optimize as spo\n",
    "\n",
    "from scipy.interpolate import interp1d\n",
    "from scipy.interpolate import InterpolatedUnivariateSpline\n",
    "\n",
    "from scipy.integrate import solve_ivp\n",
    "\n",
    "from types import SimpleNamespace\n",
    "from copy import copy\n",
    "\n",
    "\n",
    "def flip(p=0.5):\n",
    "    \"\"\"Flips a coin with the given probability.\n",
    "\n",
    "    p: float 0-1\n",
    "\n",
    "    returns: boolean (True or False)\n",
    "    \"\"\"\n",
    "    return np.random.random() < p\n",
    "\n",
    "\n",
    "def cart2pol(x, y, z=None):\n",
    "    \"\"\"Convert Cartesian coordinates to polar.\n",
    "\n",
    "    x: number or sequence\n",
    "    y: number or sequence\n",
    "    z: number or sequence (optional)\n",
    "\n",
    "    returns: theta, rho OR theta, rho, z\n",
    "    \"\"\"\n",
    "    x = np.asarray(x)\n",
    "    y = np.asarray(y)\n",
    "\n",
    "    rho = np.hypot(x, y)\n",
    "    theta = np.arctan2(y, x)\n",
    "\n",
    "    if z is None:\n",
    "        return theta, rho\n",
    "    else:\n",
    "        return theta, rho, z\n",
    "\n",
    "\n",
    "def pol2cart(theta, rho, z=None):\n",
    "    \"\"\"Convert polar coordinates to Cartesian.\n",
    "\n",
    "    theta: number or sequence in radians\n",
    "    rho: number or sequence\n",
    "    z: number or sequence (optional)\n",
    "\n",
    "    returns: x, y OR x, y, z\n",
    "    \"\"\"\n",
    "    x = rho * np.cos(theta)\n",
    "    y = rho * np.sin(theta)\n",
    "\n",
    "    if z is None:\n",
    "        return x, y\n",
    "    else:\n",
    "        return x, y, z\n",
    "\n",
    "from numpy import linspace\n",
    "\n",
    "def linrange(start, stop=None, step=1, **options):\n",
    "    \"\"\"Make an array of equally spaced values.\n",
    "\n",
    "    start: first value\n",
    "    stop: last value (might be approximate)\n",
    "    step: difference between elements (should be consistent)\n",
    "\n",
    "    returns: NumPy array\n",
    "    \"\"\"\n",
    "    if stop is None:\n",
    "        stop = start\n",
    "        start = 0\n",
    "    n = int(round((stop-start) / step))\n",
    "    return linspace(start, stop, n+1, **options)\n",
    "\n",
    "\n",
    "def root_scalar(func, *args, **kwargs):\n",
    "    \"\"\"Finds the input value that minimizes `min_func`.\n",
    "\n",
    "    Wrapper for\n",
    "    https://docs.scipy.org/doc/scipy/reference/generated/scipy.optimize.root_scalar.html\n",
    "\n",
    "    func: computes the function to be minimized\n",
    "    bracket: sequence of two values, lower and upper bounds of the range to be searched\n",
    "    args: any additional positional arguments are passed to func\n",
    "    kwargs: any keyword arguments are passed to root_scalar\n",
    "\n",
    "    returns: RootResults object\n",
    "    \"\"\"\n",
    "    bracket = kwargs.get('bracket', None)\n",
    "    if bracket is None or len(bracket) != 2:\n",
    "        msg = (\"To run root_scalar, you have to provide a \"\n",
    "               \"`bracket` keyword argument with a sequence \"\n",
    "               \"of length 2.\")\n",
    "        raise ValueError(msg)\n",
    "\n",
    "    try:\n",
    "        func(bracket[0], *args)\n",
    "    except Exception as e:\n",
    "        msg = (\"Before running scipy.integrate.root_scalar \"\n",
    "               \"I tried running the function you provided \"\n",
    "               \"with `bracket[0]`, \"\n",
    "               \"and I got the following error:\")\n",
    "        logger.error(msg)\n",
    "        raise (e)\n",
    "\n",
    "    underride(kwargs, rtol=1e-4)\n",
    "\n",
    "    res = spo.root_scalar(func, *args, **kwargs)\n",
    "\n",
    "    if not res.converged:\n",
    "        msg = (\"scipy.optimize.root_scalar did not converge. \"\n",
    "               \"The message it returned is:\\n\" + res.flag)\n",
    "        raise ValueError(msg)\n",
    "\n",
    "    return res\n",
    "\n",
    "\n",
    "def minimize_scalar(func, *args, **kwargs):\n",
    "    \"\"\"Finds the input value that minimizes `func`.\n",
    "\n",
    "    Wrapper for\n",
    "    https://docs.scipy.org/doc/scipy/reference/generated/scipy.optimize.minimize_scalar.html\n",
    "\n",
    "    func: computes the function to be minimized\n",
    "    args: any additional positional arguments are passed to func\n",
    "    kwargs: any keyword arguments are passed to minimize_scalar\n",
    "\n",
    "    returns: OptimizeResult object\n",
    "    \"\"\"\n",
    "    bounds = kwargs.get('bounds', None)\n",
    "\n",
    "    if bounds is None or len(bounds) != 2:\n",
    "        msg = (\"To run maximize_scalar or minimize_scalar, \"\n",
    "               \"you have to provide a `bounds` \"\n",
    "               \"keyword argument with a sequence \"\n",
    "               \"of length 2.\")\n",
    "        raise ValueError(msg)\n",
    "\n",
    "    try:\n",
    "        func(bounds[0], *args)\n",
    "    except Exception as e:\n",
    "        msg = (\"Before running scipy.integrate.minimize_scalar, \"\n",
    "               \"I tried running the function you provided \"\n",
    "               \"with the lower bound, \"\n",
    "               \"and I got the following error:\")\n",
    "        logger.error(msg)\n",
    "        raise (e)\n",
    "\n",
    "    underride(kwargs, method='bounded')\n",
    "\n",
    "    res = spo.minimize_scalar(func, args=args, **kwargs)\n",
    "\n",
    "    if not res.success:\n",
    "        msg = (\"minimize_scalar did not succeed.\"\n",
    "               \"The message it returned is: \\n\" +\n",
    "               res.message)\n",
    "        raise Exception(msg)\n",
    "\n",
    "    return res\n",
    "\n",
    "\n",
    "def maximize_scalar(max_func, *args, **kwargs):\n",
    "    \"\"\"Finds the input value that maximizes `max_func`.\n",
    "\n",
    "    Wrapper for https://docs.scipy.org/doc/scipy/reference/generated/scipy.optimize.minimize_scalar.html\n",
    "\n",
    "    min_func: computes the function to be maximized\n",
    "    args: any additional positional arguments are passed to max_func\n",
    "    options: any keyword arguments are passed as options to minimize_scalar\n",
    "\n",
    "    returns: ModSimSeries object\n",
    "    \"\"\"\n",
    "    def min_func(*args):\n",
    "        return -max_func(*args)\n",
    "\n",
    "    res = minimize_scalar(min_func, *args, **kwargs)\n",
    "\n",
    "    # we have to negate the function value before returning res\n",
    "    res.fun = -res.fun\n",
    "    return res\n",
    "\n",
    "\n",
    "def run_solve_ivp(system, slope_func, **options):\n",
    "    \"\"\"Computes a numerical solution to a differential equation.\n",
    "\n",
    "    `system` must contain `init` with initial conditions,\n",
    "    `t_end` with the end time.  Optionally, it can contain\n",
    "    `t_0` with the start time.\n",
    "\n",
    "    It should contain any other parameters required by the\n",
    "    slope function.\n",
    "\n",
    "    `options` can be any legal options of `scipy.integrate.solve_ivp`\n",
    "\n",
    "    system: System object\n",
    "    slope_func: function that computes slopes\n",
    "\n",
    "    returns: TimeFrame\n",
    "    \"\"\"\n",
    "    system = remove_units(system)\n",
    "\n",
    "    # make sure `system` contains `init`\n",
    "    if not hasattr(system, \"init\"):\n",
    "        msg = \"\"\"It looks like `system` does not contain `init`\n",
    "                 as a system variable.  `init` should be a State\n",
    "                 object that specifies the initial condition:\"\"\"\n",
    "        raise ValueError(msg)\n",
    "\n",
    "    # make sure `system` contains `t_end`\n",
    "    if not hasattr(system, \"t_end\"):\n",
    "        msg = \"\"\"It looks like `system` does not contain `t_end`\n",
    "                 as a system variable.  `t_end` should be the\n",
    "                 final time:\"\"\"\n",
    "        raise ValueError(msg)\n",
    "\n",
    "    # the default value for t_0 is 0\n",
    "    t_0 = getattr(system, \"t_0\", 0)\n",
    "\n",
    "    # try running the slope function with the initial conditions\n",
    "    try:\n",
    "        slope_func(t_0, system.init, system)\n",
    "    except Exception as e:\n",
    "        msg = \"\"\"Before running scipy.integrate.solve_ivp, I tried\n",
    "                 running the slope function you provided with the\n",
    "                 initial conditions in `system` and `t=t_0` and I got\n",
    "                 the following error:\"\"\"\n",
    "        logger.error(msg)\n",
    "        raise (e)\n",
    "\n",
    "    # get the list of event functions\n",
    "    events = options.get('events', [])\n",
    "\n",
    "    # if there's only one event function, put it in a list\n",
    "    try:\n",
    "        iter(events)\n",
    "    except TypeError:\n",
    "        events = [events]\n",
    "\n",
    "    for event_func in events:\n",
    "        # make events terminal unless otherwise specified\n",
    "        if not hasattr(event_func, 'terminal'):\n",
    "            event_func.terminal = True\n",
    "\n",
    "        # test the event function with the initial conditions\n",
    "        try:\n",
    "            event_func(t_0, system.init, system)\n",
    "        except Exception as e:\n",
    "            msg = \"\"\"Before running scipy.integrate.solve_ivp, I tried\n",
    "                     running the event function you provided with the\n",
    "                     initial conditions in `system` and `t=t_0` and I got\n",
    "                     the following error:\"\"\"\n",
    "            logger.error(msg)\n",
    "            raise (e)\n",
    "\n",
    "    # get dense output unless otherwise specified\n",
    "    if not 't_eval' in options:\n",
    "        underride(options, dense_output=True)\n",
    "\n",
    "    # run the solver\n",
    "    bunch = solve_ivp(slope_func, [t_0, system.t_end], system.init,\n",
    "                      args=[system], **options)\n",
    "\n",
    "    # separate the results from the details\n",
    "    y = bunch.pop(\"y\")\n",
    "    t = bunch.pop(\"t\")\n",
    "\n",
    "    # get the column names from `init`, if possible\n",
    "    if hasattr(system.init, 'index'):\n",
    "        columns = system.init.index\n",
    "    else:\n",
    "        columns = range(len(system.init))\n",
    "\n",
    "    # evaluate the results at equally-spaced points\n",
    "    if options.get('dense_output', False):\n",
    "        try:\n",
    "            num = system.num\n",
    "        except AttributeError:\n",
    "            num = 101\n",
    "        t_final = t[-1]\n",
    "        t_array = linspace(t_0, t_final, num)\n",
    "        y_array = bunch.sol(t_array)\n",
    "\n",
    "        # pack the results into a TimeFrame\n",
    "        results = TimeFrame(y_array.T, index=t_array,\n",
    "                        columns=columns)\n",
    "    else:\n",
    "        results = TimeFrame(y.T, index=t,\n",
    "                        columns=columns)\n",
    "\n",
    "    return results, bunch\n",
    "\n",
    "\n",
    "def leastsq(error_func, x0, *args, **options):\n",
    "    \"\"\"Find the parameters that yield the best fit for the data.\n",
    "\n",
    "    `x0` can be a sequence, array, Series, or Params\n",
    "\n",
    "    Positional arguments are passed along to `error_func`.\n",
    "\n",
    "    Keyword arguments are passed to `scipy.optimize.leastsq`\n",
    "\n",
    "    error_func: function that computes a sequence of errors\n",
    "    x0: initial guess for the best parameters\n",
    "    args: passed to error_func\n",
    "    options: passed to leastsq\n",
    "\n",
    "    :returns: Params object with best_params and ModSimSeries with details\n",
    "    \"\"\"\n",
    "    # override `full_output` so we get a message if something goes wrong\n",
    "    options[\"full_output\"] = True\n",
    "\n",
    "    # run leastsq\n",
    "    t = scipy.optimize.leastsq(error_func, x0=x0, args=args, **options)\n",
    "    best_params, cov_x, infodict, mesg, ier = t\n",
    "\n",
    "    # pack the results into a ModSimSeries object\n",
    "    details = SimpleNamespace(cov_x=cov_x,\n",
    "                              mesg=mesg,\n",
    "                              ier=ier,\n",
    "                              **infodict)\n",
    "    details.success = details.ier in [1,2,3,4]\n",
    "\n",
    "    # if we got a Params object, we should return a Params object\n",
    "    if isinstance(x0, Params):\n",
    "        best_params = Params(pd.Series(best_params, x0.index))\n",
    "\n",
    "    # return the best parameters and details\n",
    "    return best_params, details\n",
    "\n",
    "\n",
    "def crossings(series, value):\n",
    "    \"\"\"Find the labels where the series passes through value.\n",
    "\n",
    "    The labels in series must be increasing numerical values.\n",
    "\n",
    "    series: Series\n",
    "    value: number\n",
    "\n",
    "    returns: sequence of labels\n",
    "    \"\"\"\n",
    "    values = series.values - value\n",
    "    interp = InterpolatedUnivariateSpline(series.index, values)\n",
    "    return interp.roots()\n",
    "\n",
    "\n",
    "def has_nan(a):\n",
    "    \"\"\"Checks whether the an array contains any NaNs.\n",
    "\n",
    "    :param a: NumPy array or Pandas Series\n",
    "    :return: boolean\n",
    "    \"\"\"\n",
    "    return np.any(np.isnan(a))\n",
    "\n",
    "\n",
    "def is_strictly_increasing(a):\n",
    "    \"\"\"Checks whether the elements of an array are strictly increasing.\n",
    "\n",
    "    :param a: NumPy array or Pandas Series\n",
    "    :return: boolean\n",
    "    \"\"\"\n",
    "    return np.all(np.diff(a) > 0)\n",
    "\n",
    "\n",
    "def interpolate(series, **options):\n",
    "    \"\"\"Creates an interpolation function.\n",
    "\n",
    "    series: Series object\n",
    "    options: any legal options to scipy.interpolate.interp1d\n",
    "\n",
    "    returns: function that maps from the index to the values\n",
    "    \"\"\"\n",
    "    if has_nan(series.index):\n",
    "        msg = \"\"\"The Series you passed to interpolate contains\n",
    "                 NaN values in the index, which would result in\n",
    "                 undefined behavior.  So I'm putting a stop to that.\"\"\"\n",
    "        raise ValueError(msg)\n",
    "\n",
    "    if not is_strictly_increasing(series.index):\n",
    "        msg = \"\"\"The Series you passed to interpolate has an index\n",
    "                 that is not strictly increasing, which would result in\n",
    "                 undefined behavior.  So I'm putting a stop to that.\"\"\"\n",
    "        raise ValueError(msg)\n",
    "\n",
    "    # make the interpolate function extrapolate past the ends of\n",
    "    # the range, unless `options` already specifies a value for `fill_value`\n",
    "    underride(options, fill_value=\"extrapolate\")\n",
    "\n",
    "    # call interp1d, which returns a new function object\n",
    "    x = series.index\n",
    "    y = series.values\n",
    "    interp_func = interp1d(x, y, **options)\n",
    "    return interp_func\n",
    "\n",
    "\n",
    "def interpolate_inverse(series, **options):\n",
    "    \"\"\"Interpolate the inverse function of a Series.\n",
    "\n",
    "    series: Series object, represents a mapping from `a` to `b`\n",
    "    options: any legal options to scipy.interpolate.interp1d\n",
    "\n",
    "    returns: interpolation object, can be used as a function\n",
    "             from `b` to `a`\n",
    "    \"\"\"\n",
    "    inverse = pd.Series(series.index, index=series.values)\n",
    "    interp_func = interpolate(inverse, **options)\n",
    "    return interp_func\n",
    "\n",
    "\n",
    "def gradient(series, **options):\n",
    "    \"\"\"Computes the numerical derivative of a series.\n",
    "\n",
    "    If the elements of series have units, they are dropped.\n",
    "\n",
    "    series: Series object\n",
    "    options: any legal options to np.gradient\n",
    "\n",
    "    returns: Series, same subclass as series\n",
    "    \"\"\"\n",
    "    x = series.index\n",
    "    y = series.values\n",
    "\n",
    "    a = np.gradient(y, x, **options)\n",
    "    return series.__class__(a, series.index)\n",
    "\n",
    "\n",
    "def source_code(obj):\n",
    "    \"\"\"Prints the source code for a given object.\n",
    "\n",
    "    obj: function or method object\n",
    "    \"\"\"\n",
    "    print(inspect.getsource(obj))\n",
    "\n",
    "\n",
    "def underride(d, **options):\n",
    "    \"\"\"Add key-value pairs to d only if key is not in d.\n",
    "\n",
    "    If d is None, create a new dictionary.\n",
    "\n",
    "    d: dictionary\n",
    "    options: keyword args to add to d\n",
    "    \"\"\"\n",
    "    if d is None:\n",
    "        d = {}\n",
    "\n",
    "    for key, val in options.items():\n",
    "        d.setdefault(key, val)\n",
    "\n",
    "    return d\n",
    "\n",
    "\n",
    "def contour(df, **options):\n",
    "    \"\"\"Makes a contour plot from a DataFrame.\n",
    "\n",
    "    Wrapper for plt.contour\n",
    "    https://matplotlib.org/3.1.0/api/_as_gen/matplotlib.pyplot.contour.html\n",
    "\n",
    "    Note: columns and index must be numerical\n",
    "\n",
    "    df: DataFrame\n",
    "    options: passed to plt.contour\n",
    "    \"\"\"\n",
    "    fontsize = options.pop(\"fontsize\", 12)\n",
    "    underride(options, cmap=\"viridis\")\n",
    "    x = df.columns\n",
    "    y = df.index\n",
    "    X, Y = np.meshgrid(x, y)\n",
    "    cs = plt.contour(X, Y, df, **options)\n",
    "    plt.clabel(cs, inline=1, fontsize=fontsize)\n",
    "\n",
    "\n",
    "def savefig(filename, **options):\n",
    "    \"\"\"Save the current figure.\n",
    "\n",
    "    Keyword arguments are passed along to plt.savefig\n",
    "\n",
    "    https://matplotlib.org/api/_as_gen/matplotlib.pyplot.savefig.html\n",
    "\n",
    "    filename: string\n",
    "    \"\"\"\n",
    "    print(\"Saving figure to file\", filename)\n",
    "    plt.savefig(filename, **options)\n",
    "\n",
    "\n",
    "def decorate(**options):\n",
    "    \"\"\"Decorate the current axes.\n",
    "\n",
    "    Call decorate with keyword arguments like\n",
    "    decorate(title='Title',\n",
    "             xlabel='x',\n",
    "             ylabel='y')\n",
    "\n",
    "    The keyword arguments can be any of the axis properties\n",
    "    https://matplotlib.org/api/axes_api.html\n",
    "    \"\"\"\n",
    "    ax = plt.gca()\n",
    "    ax.set(**options)\n",
    "\n",
    "    handles, labels = ax.get_legend_handles_labels()\n",
    "    if handles:\n",
    "        ax.legend(handles, labels)\n",
    "\n",
    "    plt.tight_layout()\n",
    "\n",
    "\n",
    "def remove_from_legend(bad_labels):\n",
    "    \"\"\"Removes some labels from the legend.\n",
    "\n",
    "    bad_labels: sequence of strings\n",
    "    \"\"\"\n",
    "    ax = plt.gca()\n",
    "    handles, labels = ax.get_legend_handles_labels()\n",
    "    handle_list, label_list = [], []\n",
    "    for handle, label in zip(handles, labels):\n",
    "        if label not in bad_labels:\n",
    "            handle_list.append(handle)\n",
    "            label_list.append(label)\n",
    "    ax.legend(handle_list, label_list)\n",
    "\n",
    "\n",
    "class SettableNamespace(SimpleNamespace):\n",
    "    \"\"\"Contains a collection of parameters.\n",
    "\n",
    "    Used to make a System object.\n",
    "\n",
    "    Takes keyword arguments and stores them as attributes.\n",
    "    \"\"\"\n",
    "    def __init__(self, namespace=None, **kwargs):\n",
    "        super().__init__()\n",
    "        if namespace:\n",
    "            self.__dict__.update(namespace.__dict__)\n",
    "        self.__dict__.update(kwargs)\n",
    "\n",
    "    def get(self, name, default=None):\n",
    "        \"\"\"Look up a variable.\n",
    "\n",
    "        name: string varname\n",
    "        default: value returned if `name` is not present\n",
    "        \"\"\"\n",
    "        try:\n",
    "            return self.__getattribute__(name, default)\n",
    "        except AttributeError:\n",
    "            return default\n",
    "\n",
    "    def set(self, **variables):\n",
    "        \"\"\"Make a copy and update the given variables.\n",
    "\n",
    "        returns: Params\n",
    "        \"\"\"\n",
    "        new = copy(self)\n",
    "        new.__dict__.update(variables)\n",
    "        return new\n",
    "\n",
    "\n",
    "def magnitude(x):\n",
    "    \"\"\"Returns the magnitude of a Quantity or number.\n",
    "\n",
    "    x: Quantity or number\n",
    "\n",
    "    returns: number\n",
    "    \"\"\"\n",
    "    return x.magnitude if hasattr(x, 'magnitude') else x\n",
    "\n",
    "\n",
    "def remove_units(namespace):\n",
    "    \"\"\"Removes units from the values in a Namespace.\n",
    "\n",
    "    Only removes units from top-level values;\n",
    "    does not traverse nested values.\n",
    "\n",
    "    returns: new Namespace object\n",
    "    \"\"\"\n",
    "    res = copy(namespace)\n",
    "    for label, value in res.__dict__.items():\n",
    "        if isinstance(value, pd.Series):\n",
    "            value = remove_units_series(value)\n",
    "        res.__dict__[label] = magnitude(value)\n",
    "    return res\n",
    "\n",
    "\n",
    "def remove_units_series(series):\n",
    "    \"\"\"Removes units from the values in a Series.\n",
    "\n",
    "    Only removes units from top-level values;\n",
    "    does not traverse nested values.\n",
    "\n",
    "    returns: new Series object\n",
    "    \"\"\"\n",
    "    res = copy(series)\n",
    "    for label, value in res.iteritems():\n",
    "        res[label] = magnitude(value)\n",
    "    return res\n",
    "\n",
    "\n",
    "class System(SettableNamespace):\n",
    "    \"\"\"Contains system parameters and their values.\n",
    "\n",
    "    Takes keyword arguments and stores them as attributes.\n",
    "    \"\"\"\n",
    "    pass\n",
    "\n",
    "\n",
    "class Params(SettableNamespace):\n",
    "    \"\"\"Contains system parameters and their values.\n",
    "\n",
    "    Takes keyword arguments and stores them as attributes.\n",
    "    \"\"\"\n",
    "    pass\n",
    "\n",
    "\n",
    "def State(**variables):\n",
    "    \"\"\"Contains the values of state variables.\"\"\"\n",
    "    return pd.Series(variables, name='state')\n",
    "\n",
    "\n",
    "def make_series(x, y, **options):\n",
    "    \"\"\"Make a Pandas Series.\n",
    "\n",
    "    x: sequence used as the index\n",
    "    y: sequence used as the values\n",
    "\n",
    "    returns: Pandas Series\n",
    "    \"\"\"\n",
    "    underride(options, name='values')\n",
    "    if isinstance(y, pd.Series):\n",
    "        y = y.values\n",
    "    series = pd.Series(y, index=x, **options)\n",
    "    series.index.name = 'index'\n",
    "    return series\n",
    "\n",
    "\n",
    "def TimeSeries(*args, **kwargs):\n",
    "    \"\"\"\n",
    "    \"\"\"\n",
    "    if args or kwargs:\n",
    "        series = pd.Series(*args, **kwargs)\n",
    "    else:\n",
    "        series = pd.Series([], dtype=np.float64)\n",
    "\n",
    "    series.index.name = 'Time'\n",
    "    if 'name' not in kwargs:\n",
    "        series.name = 'Quantity'\n",
    "    return series\n",
    "\n",
    "\n",
    "def SweepSeries(*args, **kwargs):\n",
    "    \"\"\"\n",
    "    \"\"\"\n",
    "    if args or kwargs:\n",
    "        series = pd.Series(*args, **kwargs)\n",
    "    else:\n",
    "        series = pd.Series([], dtype=np.float64)\n",
    "\n",
    "    series.index.name = 'Parameter'\n",
    "    if 'name' not in kwargs:\n",
    "        series.name = 'Metric'\n",
    "    return series\n",
    "\n",
    "\n",
    "def show(obj):\n",
    "    \"\"\"Display a Series or Namespace as a DataFrame.\"\"\"\n",
    "    if isinstance(obj, pd.Series):\n",
    "        df = pd.DataFrame(obj)\n",
    "        return df\n",
    "    elif hasattr(obj, '__dict__'):\n",
    "        return pd.DataFrame(pd.Series(obj.__dict__),\n",
    "                            columns=['value'])\n",
    "    else:\n",
    "        return obj\n",
    "\n",
    "\n",
    "def TimeFrame(*args, **kwargs):\n",
    "    \"\"\"DataFrame that maps from time to State.\n",
    "    \"\"\"\n",
    "    underride(kwargs, dtype=float)\n",
    "    return pd.DataFrame(*args, **kwargs)\n",
    "\n",
    "\n",
    "def SweepFrame(*args, **kwargs):\n",
    "    \"\"\"DataFrame that maps from parameter value to SweepSeries.\n",
    "    \"\"\"\n",
    "    underride(kwargs, dtype=float)\n",
    "    return pd.DataFrame(*args, **kwargs)\n",
    "\n",
    "\n",
    "def Vector(x, y, z=None, **options):\n",
    "    \"\"\"\n",
    "    \"\"\"\n",
    "    underride(options, name='component')\n",
    "    if z is None:\n",
    "        return pd.Series(dict(x=x, y=y), **options)\n",
    "    else:\n",
    "        return pd.Series(dict(x=x, y=y, z=z), **options)\n",
    "\n",
    "\n",
    "## Vector functions (should work with any sequence)\n",
    "\n",
    "def vector_mag(v):\n",
    "    \"\"\"Vector magnitude.\"\"\"\n",
    "    return np.sqrt(np.dot(v, v))\n",
    "\n",
    "\n",
    "def vector_mag2(v):\n",
    "    \"\"\"Vector magnitude squared.\"\"\"\n",
    "    return np.dot(v, v)\n",
    "\n",
    "\n",
    "def vector_angle(v):\n",
    "    \"\"\"Angle between v and the positive x axis.\n",
    "\n",
    "    Only works with 2-D vectors.\n",
    "\n",
    "    returns: angle in radians\n",
    "    \"\"\"\n",
    "    assert len(v) == 2\n",
    "    x, y = v\n",
    "    return np.arctan2(y, x)\n",
    "\n",
    "\n",
    "def vector_polar(v):\n",
    "    \"\"\"Vector magnitude and angle.\n",
    "\n",
    "    returns: (number, angle in radians)\n",
    "    \"\"\"\n",
    "    return vector_mag(v), vector_angle(v)\n",
    "\n",
    "\n",
    "def vector_hat(v):\n",
    "    \"\"\"Unit vector in the direction of v.\n",
    "\n",
    "    returns: Vector or array\n",
    "    \"\"\"\n",
    "    # check if the magnitude of the Quantity is 0\n",
    "    mag = vector_mag(v)\n",
    "    if mag == 0:\n",
    "        return v\n",
    "    else:\n",
    "        return v / mag\n",
    "\n",
    "\n",
    "def vector_perp(v):\n",
    "    \"\"\"Perpendicular Vector (rotated left).\n",
    "\n",
    "    Only works with 2-D Vectors.\n",
    "\n",
    "    returns: Vector\n",
    "    \"\"\"\n",
    "    assert len(v) == 2\n",
    "    x, y = v\n",
    "    return Vector(-y, x)\n",
    "\n",
    "\n",
    "def vector_dot(v, w):\n",
    "    \"\"\"Dot product of v and w.\n",
    "\n",
    "    returns: number or Quantity\n",
    "    \"\"\"\n",
    "    return np.dot(v, w)\n",
    "\n",
    "\n",
    "def vector_cross(v, w):\n",
    "    \"\"\"Cross product of v and w.\n",
    "\n",
    "    returns: number or Quantity for 2-D, Vector for 3-D\n",
    "    \"\"\"\n",
    "    res = np.cross(v, w)\n",
    "\n",
    "    if len(v) == 3:\n",
    "        return Vector(*res)\n",
    "    else:\n",
    "        return res\n",
    "\n",
    "\n",
    "def vector_proj(v, w):\n",
    "    \"\"\"Projection of v onto w.\n",
    "\n",
    "    returns: array or Vector with direction of w and units of v.\n",
    "    \"\"\"\n",
    "    w_hat = vector_hat(w)\n",
    "    return vector_dot(v, w_hat) * w_hat\n",
    "\n",
    "\n",
    "def scalar_proj(v, w):\n",
    "    \"\"\"Returns the scalar projection of v onto w.\n",
    "\n",
    "    Which is the magnitude of the projection of v onto w.\n",
    "\n",
    "    returns: scalar with units of v.\n",
    "    \"\"\"\n",
    "    return vector_dot(v, vector_hat(w))\n",
    "\n",
    "\n",
    "def vector_dist(v, w):\n",
    "    \"\"\"Euclidean distance from v to w, with units.\"\"\"\n",
    "    if isinstance(v, list):\n",
    "        v = np.asarray(v)\n",
    "    return vector_mag(v - w)\n",
    "\n",
    "\n",
    "def vector_diff_angle(v, w):\n",
    "    \"\"\"Angular difference between two vectors, in radians.\n",
    "    \"\"\"\n",
    "    if len(v) == 2:\n",
    "        return vector_angle(v) - vector_angle(w)\n",
    "    else:\n",
    "        # TODO: see http://www.euclideanspace.com/maths/algebra/\n",
    "        # vectors/angleBetween/\n",
    "        raise NotImplementedError()\n",
    "\n",
    "\n",
    "def plot_segment(A, B, **options):\n",
    "    \"\"\"Plots a line segment between two Vectors.\n",
    "\n",
    "    For 3-D vectors, the z axis is ignored.\n",
    "\n",
    "    Additional options are passed along to plot().\n",
    "\n",
    "    A: Vector\n",
    "    B: Vector\n",
    "    \"\"\"\n",
    "    xs = A.x, B.x\n",
    "    ys = A.y, B.y\n",
    "    plt.plot(xs, ys, **options)\n",
    "\n",
    "\n",
    "from time import sleep\n",
    "from IPython.display import clear_output\n",
    "\n",
    "def animate(results, draw_func, *args, interval=None):\n",
    "    \"\"\"Animate results from a simulation.\n",
    "\n",
    "    results: TimeFrame\n",
    "    draw_func: function that draws state\n",
    "    interval: time between frames in seconds\n",
    "    \"\"\"\n",
    "    plt.figure()\n",
    "    try:\n",
    "        for t, state in results.iterrows():\n",
    "            draw_func(t, state, *args)\n",
    "            plt.show()\n",
    "            if interval:\n",
    "                sleep(interval)\n",
    "            clear_output(wait=True)\n",
    "        draw_func(t, state, *args)\n",
    "        plt.show()\n",
    "    except KeyboardInterrupt:\n",
    "        pass\n"
   ]
  },
  {
   "cell_type": "code",
   "execution_count": 74,
   "metadata": {},
   "outputs": [
    {
     "data": {
      "text/plain": [
       "(5.684341886080802e-14, -86.4152764272615)"
      ]
     },
     "execution_count": 74,
     "metadata": {},
     "output_type": "execute_result"
    },
    {
     "data": {
      "image/png": "[encoded data removed]",
      "text/plain": [
       "<Figure size 640x480 with 1 Axes>"
      ]
     },
     "metadata": {},
     "output_type": "display_data"
    }
   ],
   "source": [
    "init = State(y=381, v=0)\n",
    "\n",
    "system = System(init=init, \n",
    "                g=9.8, \n",
    "                t_end=10)\n",
    "\n",
    "def slope_func(t, state, system):\n",
    "    y, v = state\n",
    "\n",
    "    dydt = v\n",
    "    dvdt = -system.g\n",
    "    \n",
    "    return dydt, dvdt\n",
    "\n",
    "dydt, dvdt = slope_func(0, system.init, system)\n",
    "dydt, dvdt\n",
    "\n",
    "results, details = run_solve_ivp(system, slope_func)\n",
    "details.message\n",
    "\n",
    "results.head()\n",
    "\n",
    "results.y.plot()\n",
    "\n",
    "decorate(xlabel='Time (s)',\n",
    "         ylabel='Position (m)')\n",
    "\n",
    "results.iloc[-1].y\n",
    "\n",
    "t_crossings = crossings(results.y, 0)\n",
    "t_crossings\n",
    "\n",
    "def event_func(t, state, system):\n",
    "    y, v = state\n",
    "    return y\n",
    "\n",
    "results, details = run_solve_ivp(system, slope_func,\n",
    "                                 events=event_func)\n",
    "details.message\n",
    "\n",
    "t_end = results.index[-1]\n",
    "t_end\n",
    "\n",
    "y, v = results.iloc[-1]\n",
    "y, v"
   ]
  },
  {
   "cell_type": "code",
   "execution_count": 75,
   "metadata": {},
   "outputs": [
    {
     "data": {
      "text/plain": [
       "22.43946505804431"
      ]
     },
     "execution_count": 75,
     "metadata": {},
     "output_type": "execute_result"
    },
    {
     "data": {
      "image/png": "[encoded data removed]",
      "text/plain": [
       "<Figure size 640x480 with 1 Axes>"
      ]
     },
     "metadata": {},
     "output_type": "display_data"
    }
   ],
   "source": [
    "params = Params(\n",
    "    mass = 0.0025,      # kg\n",
    "    diameter = 0.019,   # m\n",
    "    rho = 1.2,          # kg/m**3\n",
    "    g = 9.8,            # m/s**2\n",
    "    v_init = 0,         # m / s\n",
    "    v_term = 18,        # m / s\n",
    "    height = 381,       # m\n",
    "    t_end = 30,         # s\n",
    ")\n",
    "\n",
    "from numpy import pi\n",
    "\n",
    "def make_system(params):\n",
    "    init = State(y=params.height, v=params.v_init)\n",
    "\n",
    "    area = pi * (params.diameter/2)**2\n",
    "\n",
    "    C_d = (2 * params.mass * params.g / \n",
    "           (params.rho * area * params.v_term**2))\n",
    "\n",
    "    return System(init=init,\n",
    "                  area=area,\n",
    "                  C_d=C_d,\n",
    "                  mass=params.mass,\n",
    "                  rho=params.rho,\n",
    "                  g=params.g,\n",
    "                  t_end=params.t_end)\n",
    "    \n",
    "system = make_system(params)\n",
    "\n",
    "params2 = params.set(v_term=20)\n",
    "\n",
    "system2 = make_system(params2)\n",
    "\n",
    "def slope_func(t, state, system):\n",
    "    y, v = state\n",
    "    rho, C_d, area = system.rho, system.C_d, system.area\n",
    "    mass, g = system.mass, system.g\n",
    "    \n",
    "    f_drag = rho * v**2 * C_d * area / 2\n",
    "    a_drag = f_drag / mass\n",
    "    \n",
    "    dydt = v\n",
    "    dvdt = -g + a_drag\n",
    "    \n",
    "    return dydt, dvdt\n",
    "\n",
    "def event_func(t, state, system):\n",
    "    y, v = state\n",
    "    return y\n",
    "\n",
    "results, details = run_solve_ivp(system, slope_func,\n",
    "                                 events=event_func)\n",
    "\n",
    "t_sidewalk = results.index[-1]\n",
    "\n",
    "def plot_position(results):\n",
    "    results.y.plot()\n",
    "        \n",
    "    decorate(xlabel='Time (s)',\n",
    "         ylabel='Position (m)')\n",
    "    \n",
    "plot_position(results)\n",
    "\n",
    "t_sidewalk"
   ]
  },
  {
   "cell_type": "code",
   "execution_count": 76,
   "metadata": {},
   "outputs": [
    {
     "name": "stdout",
     "output_type": "stream",
     "text": [
      "Params(mass=0.0025, diameter=0.01, rho=1.2, g=9.8, v_init=0, v_term=18, height=381, t_end=30)\n",
      "Params(mass=0.0025, diameter=0.015714285714285715, rho=1.2, g=9.8, v_init=0, v_term=18, height=381, t_end=30)\n",
      "Params(mass=0.0025, diameter=0.02142857142857143, rho=1.2, g=9.8, v_init=0, v_term=18, height=381, t_end=30)\n",
      "Params(mass=0.0025, diameter=0.027142857142857142, rho=1.2, g=9.8, v_init=0, v_term=18, height=381, t_end=30)\n",
      "Params(mass=0.0025, diameter=0.032857142857142856, rho=1.2, g=9.8, v_init=0, v_term=18, height=381, t_end=30)\n",
      "Params(mass=0.0025, diameter=0.03857142857142857, rho=1.2, g=9.8, v_init=0, v_term=18, height=381, t_end=30)\n",
      "Params(mass=0.0025, diameter=0.04428571428571429, rho=1.2, g=9.8, v_init=0, v_term=18, height=381, t_end=30)\n",
      "Params(mass=0.0025, diameter=0.05, rho=1.2, g=9.8, v_init=0, v_term=18, height=381, t_end=30)\n",
      "[22.44, 22.44, 22.44, 22.44, 22.44, 22.44, 22.44, 22.44]\n",
      "[0.01       0.01571429 0.02142857 0.02714286 0.03285714 0.03857143\n",
      " 0.04428571 0.05      ]\n"
     ]
    },
    {
     "data": {
      "application/vnd.plotly.v1+json": {
       "config": {
        "plotlyServerURL": "https://plot.ly"
       },
       "data": [
        {
         "mode": "lines",
         "type": "scatter",
         "x": [
          0.01,
          0.015714285714285715,
          0.02142857142857143,
          0.027142857142857142,
          0.032857142857142856,
          0.03857142857142857,
          0.04428571428571429,
          0.05
         ],
         "y": [
          22.44,
          22.44,
          22.44,
          22.44,
          22.44,
          22.44,
          22.44,
          22.44
         ]
        }
       ],
       "layout": {
        "template": {
         "data": {
          "bar": [
           {
            "error_x": {
             "color": "#2a3f5f"
            },
            "error_y": {
             "color": "#2a3f5f"
            },
            "marker": {
             "line": {
              "color": "#E5ECF6",
              "width": 0.5
             },
             "pattern": {
              "fillmode": "overlay",
              "size": 10,
              "solidity": 0.2
             }
            },
            "type": "bar"
           }
          ],
          "barpolar": [
           {
            "marker": {
             "line": {
              "color": "#E5ECF6",
              "width": 0.5
             },
             "pattern": {
              "fillmode": "overlay",
              "size": 10,
              "solidity": 0.2
             }
            },
            "type": "barpolar"
           }
          ],
          "carpet": [
           {
            "aaxis": {
             "endlinecolor": "#2a3f5f",
             "gridcolor": "white",
             "linecolor": "white",
             "minorgridcolor": "white",
             "startlinecolor": "#2a3f5f"
            },
            "baxis": {
             "endlinecolor": "#2a3f5f",
             "gridcolor": "white",
             "linecolor": "white",
             "minorgridcolor": "white",
             "startlinecolor": "#2a3f5f"
            },
            "type": "carpet"
           }
          ],
          "choropleth": [
           {
            "colorbar": {
             "outlinewidth": 0,
             "ticks": ""
            },
            "type": "choropleth"
           }
          ],
          "contour": [
           {
            "colorbar": {
             "outlinewidth": 0,
             "ticks": ""
            },
            "colorscale": [
             [
              0,
              "#0d0887"
             ],
             [
              0.1111111111111111,
              "#46039f"
             ],
             [
              0.2222222222222222,
              "#7201a8"
             ],
             [
              0.3333333333333333,
              "#9c179e"
             ],
             [
              0.4444444444444444,
              "#bd3786"
             ],
             [
              0.5555555555555556,
              "#d8576b"
             ],
             [
              0.6666666666666666,
              "#ed7953"
             ],
             [
              0.7777777777777778,
              "#fb9f3a"
             ],
             [
              0.8888888888888888,
              "#fdca26"
             ],
             [
              1,
              "#f0f921"
             ]
            ],
            "type": "contour"
           }
          ],
          "contourcarpet": [
           {
            "colorbar": {
             "outlinewidth": 0,
             "ticks": ""
            },
            "type": "contourcarpet"
           }
          ],
          "heatmap": [
           {
            "colorbar": {
             "outlinewidth": 0,
             "ticks": ""
            },
            "colorscale": [
             [
              0,
              "#0d0887"
             ],
             [
              0.1111111111111111,
              "#46039f"
             ],
             [
              0.2222222222222222,
              "#7201a8"
             ],
             [
              0.3333333333333333,
              "#9c179e"
             ],
             [
              0.4444444444444444,
              "#bd3786"
             ],
             [
              0.5555555555555556,
              "#d8576b"
             ],
             [
              0.6666666666666666,
              "#ed7953"
             ],
             [
              0.7777777777777778,
              "#fb9f3a"
             ],
             [
              0.8888888888888888,
              "#fdca26"
             ],
             [
              1,
              "#f0f921"
             ]
            ],
            "type": "heatmap"
           }
          ],
          "heatmapgl": [
           {
            "colorbar": {
             "outlinewidth": 0,
             "ticks": ""
            },
            "colorscale": [
             [
              0,
              "#0d0887"
             ],
             [
              0.1111111111111111,
              "#46039f"
             ],
             [
              0.2222222222222222,
              "#7201a8"
             ],
             [
              0.3333333333333333,
              "#9c179e"
             ],
             [
              0.4444444444444444,
              "#bd3786"
             ],
             [
              0.5555555555555556,
              "#d8576b"
             ],
             [
              0.6666666666666666,
              "#ed7953"
             ],
             [
              0.7777777777777778,
              "#fb9f3a"
             ],
             [
              0.8888888888888888,
              "#fdca26"
             ],
             [
              1,
              "#f0f921"
             ]
            ],
            "type": "heatmapgl"
           }
          ],
          "histogram": [
           {
            "marker": {
             "pattern": {
              "fillmode": "overlay",
              "size": 10,
              "solidity": 0.2
             }
            },
            "type": "histogram"
           }
          ],
          "histogram2d": [
           {
            "colorbar": {
             "outlinewidth": 0,
             "ticks": ""
            },
            "colorscale": [
             [
              0,
              "#0d0887"
             ],
             [
              0.1111111111111111,
              "#46039f"
             ],
             [
              0.2222222222222222,
              "#7201a8"
             ],
             [
              0.3333333333333333,
              "#9c179e"
             ],
             [
              0.4444444444444444,
              "#bd3786"
             ],
             [
              0.5555555555555556,
              "#d8576b"
             ],
             [
              0.6666666666666666,
              "#ed7953"
             ],
             [
              0.7777777777777778,
              "#fb9f3a"
             ],
             [
              0.8888888888888888,
              "#fdca26"
             ],
             [
              1,
              "#f0f921"
             ]
            ],
            "type": "histogram2d"
           }
          ],
          "histogram2dcontour": [
           {
            "colorbar": {
             "outlinewidth": 0,
             "ticks": ""
            },
            "colorscale": [
             [
              0,
              "#0d0887"
             ],
             [
              0.1111111111111111,
              "#46039f"
             ],
             [
              0.2222222222222222,
              "#7201a8"
             ],
             [
              0.3333333333333333,
              "#9c179e"
             ],
             [
              0.4444444444444444,
              "#bd3786"
             ],
             [
              0.5555555555555556,
              "#d8576b"
             ],
             [
              0.6666666666666666,
              "#ed7953"
             ],
             [
              0.7777777777777778,
              "#fb9f3a"
             ],
             [
              0.8888888888888888,
              "#fdca26"
             ],
             [
              1,
              "#f0f921"
             ]
            ],
            "type": "histogram2dcontour"
           }
          ],
          "mesh3d": [
           {
            "colorbar": {
             "outlinewidth": 0,
             "ticks": ""
            },
            "type": "mesh3d"
           }
          ],
          "parcoords": [
           {
            "line": {
             "colorbar": {
              "outlinewidth": 0,
              "ticks": ""
             }
            },
            "type": "parcoords"
           }
          ],
          "pie": [
           {
            "automargin": true,
            "type": "pie"
           }
          ],
          "scatter": [
           {
            "fillpattern": {
             "fillmode": "overlay",
             "size": 10,
             "solidity": 0.2
            },
            "type": "scatter"
           }
          ],
          "scatter3d": [
           {
            "line": {
             "colorbar": {
              "outlinewidth": 0,
              "ticks": ""
             }
            },
            "marker": {
             "colorbar": {
              "outlinewidth": 0,
              "ticks": ""
             }
            },
            "type": "scatter3d"
           }
          ],
          "scattercarpet": [
           {
            "marker": {
             "colorbar": {
              "outlinewidth": 0,
              "ticks": ""
             }
            },
            "type": "scattercarpet"
           }
          ],
          "scattergeo": [
           {
            "marker": {
             "colorbar": {
              "outlinewidth": 0,
              "ticks": ""
             }
            },
            "type": "scattergeo"
           }
          ],
          "scattergl": [
           {
            "marker": {
             "colorbar": {
              "outlinewidth": 0,
              "ticks": ""
             }
            },
            "type": "scattergl"
           }
          ],
          "scattermapbox": [
           {
            "marker": {
             "colorbar": {
              "outlinewidth": 0,
              "ticks": ""
             }
            },
            "type": "scattermapbox"
           }
          ],
          "scatterpolar": [
           {
            "marker": {
             "colorbar": {
              "outlinewidth": 0,
              "ticks": ""
             }
            },
            "type": "scatterpolar"
           }
          ],
          "scatterpolargl": [
           {
            "marker": {
             "colorbar": {
              "outlinewidth": 0,
              "ticks": ""
             }
            },
            "type": "scatterpolargl"
           }
          ],
          "scatterternary": [
           {
            "marker": {
             "colorbar": {
              "outlinewidth": 0,
              "ticks": ""
             }
            },
            "type": "scatterternary"
           }
          ],
          "surface": [
           {
            "colorbar": {
             "outlinewidth": 0,
             "ticks": ""
            },
            "colorscale": [
             [
              0,
              "#0d0887"
             ],
             [
              0.1111111111111111,
              "#46039f"
             ],
             [
              0.2222222222222222,
              "#7201a8"
             ],
             [
              0.3333333333333333,
              "#9c179e"
             ],
             [
              0.4444444444444444,
              "#bd3786"
             ],
             [
              0.5555555555555556,
              "#d8576b"
             ],
             [
              0.6666666666666666,
              "#ed7953"
             ],
             [
              0.7777777777777778,
              "#fb9f3a"
             ],
             [
              0.8888888888888888,
              "#fdca26"
             ],
             [
              1,
              "#f0f921"
             ]
            ],
            "type": "surface"
           }
          ],
          "table": [
           {
            "cells": {
             "fill": {
              "color": "#EBF0F8"
             },
             "line": {
              "color": "white"
             }
            },
            "header": {
             "fill": {
              "color": "#C8D4E3"
             },
             "line": {
              "color": "white"
             }
            },
            "type": "table"
           }
          ]
         },
         "layout": {
          "annotationdefaults": {
           "arrowcolor": "#2a3f5f",
           "arrowhead": 0,
           "arrowwidth": 1
          },
          "autotypenumbers": "strict",
          "coloraxis": {
           "colorbar": {
            "outlinewidth": 0,
            "ticks": ""
           }
          },
          "colorscale": {
           "diverging": [
            [
             0,
             "#8e0152"
            ],
            [
             0.1,
             "#c51b7d"
            ],
            [
             0.2,
             "#de77ae"
            ],
            [
             0.3,
             "#f1b6da"
            ],
            [
             0.4,
             "#fde0ef"
            ],
            [
             0.5,
             "#f7f7f7"
            ],
            [
             0.6,
             "#e6f5d0"
            ],
            [
             0.7,
             "#b8e186"
            ],
            [
             0.8,
             "#7fbc41"
            ],
            [
             0.9,
             "#4d9221"
            ],
            [
             1,
             "#276419"
            ]
           ],
           "sequential": [
            [
             0,
             "#0d0887"
            ],
            [
             0.1111111111111111,
             "#46039f"
            ],
            [
             0.2222222222222222,
             "#7201a8"
            ],
            [
             0.3333333333333333,
             "#9c179e"
            ],
            [
             0.4444444444444444,
             "#bd3786"
            ],
            [
             0.5555555555555556,
             "#d8576b"
            ],
            [
             0.6666666666666666,
             "#ed7953"
            ],
            [
             0.7777777777777778,
             "#fb9f3a"
            ],
            [
             0.8888888888888888,
             "#fdca26"
            ],
            [
             1,
             "#f0f921"
            ]
           ],
           "sequentialminus": [
            [
             0,
             "#0d0887"
            ],
            [
             0.1111111111111111,
             "#46039f"
            ],
            [
             0.2222222222222222,
             "#7201a8"
            ],
            [
             0.3333333333333333,
             "#9c179e"
            ],
            [
             0.4444444444444444,
             "#bd3786"
            ],
            [
             0.5555555555555556,
             "#d8576b"
            ],
            [
             0.6666666666666666,
             "#ed7953"
            ],
            [
             0.7777777777777778,
             "#fb9f3a"
            ],
            [
             0.8888888888888888,
             "#fdca26"
            ],
            [
             1,
             "#f0f921"
            ]
           ]
          },
          "colorway": [
           "#636efa",
           "#EF553B",
           "#00cc96",
           "#ab63fa",
           "#FFA15A",
           "#19d3f3",
           "#FF6692",
           "#B6E880",
           "#FF97FF",
           "#FECB52"
          ],
          "font": {
           "color": "#2a3f5f"
          },
          "geo": {
           "bgcolor": "white",
           "lakecolor": "white",
           "landcolor": "#E5ECF6",
           "showlakes": true,
           "showland": true,
           "subunitcolor": "white"
          },
          "hoverlabel": {
           "align": "left"
          },
          "hovermode": "closest",
          "mapbox": {
           "style": "light"
          },
          "paper_bgcolor": "white",
          "plot_bgcolor": "#E5ECF6",
          "polar": {
           "angularaxis": {
            "gridcolor": "white",
            "linecolor": "white",
            "ticks": ""
           },
           "bgcolor": "#E5ECF6",
           "radialaxis": {
            "gridcolor": "white",
            "linecolor": "white",
            "ticks": ""
           }
          },
          "scene": {
           "xaxis": {
            "backgroundcolor": "#E5ECF6",
            "gridcolor": "white",
            "gridwidth": 2,
            "linecolor": "white",
            "showbackground": true,
            "ticks": "",
            "zerolinecolor": "white"
           },
           "yaxis": {
            "backgroundcolor": "#E5ECF6",
            "gridcolor": "white",
            "gridwidth": 2,
            "linecolor": "white",
            "showbackground": true,
            "ticks": "",
            "zerolinecolor": "white"
           },
           "zaxis": {
            "backgroundcolor": "#E5ECF6",
            "gridcolor": "white",
            "gridwidth": 2,
            "linecolor": "white",
            "showbackground": true,
            "ticks": "",
            "zerolinecolor": "white"
           }
          },
          "shapedefaults": {
           "line": {
            "color": "#2a3f5f"
           }
          },
          "ternary": {
           "aaxis": {
            "gridcolor": "white",
            "linecolor": "white",
            "ticks": ""
           },
           "baxis": {
            "gridcolor": "white",
            "linecolor": "white",
            "ticks": ""
           },
           "bgcolor": "#E5ECF6",
           "caxis": {
            "gridcolor": "white",
            "linecolor": "white",
            "ticks": ""
           }
          },
          "title": {
           "x": 0.05
          },
          "xaxis": {
           "automargin": true,
           "gridcolor": "white",
           "linecolor": "white",
           "ticks": "",
           "title": {
            "standoff": 15
           },
           "zerolinecolor": "white",
           "zerolinewidth": 2
          },
          "yaxis": {
           "automargin": true,
           "gridcolor": "white",
           "linecolor": "white",
           "ticks": "",
           "title": {
            "standoff": 15
           },
           "zerolinecolor": "white",
           "zerolinewidth": 2
          }
         }
        },
        "xaxis": {
         "anchor": "y",
         "domain": [
          0,
          1
         ]
        },
        "yaxis": {
         "anchor": "x",
         "domain": [
          0,
          1
         ]
        }
       }
      }
     },
     "metadata": {},
     "output_type": "display_data"
    }
   ],
   "source": [
    "sweep = linspace(0.010, 0.05, 8)\n",
    "time = []\n",
    "for i in sweep:\n",
    "    params.diameter = i\n",
    "    print(params)\n",
    "    system = make_system(params)    \n",
    "    results, details = run_solve_ivp(system, slope_func, events=event_func)\n",
    "    time.append(results.index[-1])\n",
    "    \n",
    "for i in range(len(time)):\n",
    "    time[i] = round(time[i], 2)\n",
    "\n",
    "print(time)\n",
    "print(sweep)\n",
    "\n",
    "fig = make_subplots(rows = 1, cols = 1)\n",
    "\n",
    "fig.add_trace(go.Scatter(x=sweep, y=time, mode='lines'))\n",
    "\n",
    "fig.show()"
   ]
  },
  {
   "cell_type": "code",
   "execution_count": 85,
   "metadata": {},
   "outputs": [
    {
     "data": {
      "application/vnd.plotly.v1+json": {
       "config": {
        "plotlyServerURL": "https://plot.ly"
       },
       "data": [
        {
         "mode": "lines",
         "type": "scatter",
         "x": [
          0.01,
          0.015714285714285715,
          0.02142857142857143,
          0.027142857142857142,
          0.032857142857142856,
          0.03857142857142857,
          0.04428571428571429,
          0.05
         ],
         "y": [
          -18,
          -18,
          -18,
          -18,
          -18,
          -18,
          -18,
          -18
         ]
        }
       ],
       "layout": {
        "template": {
         "data": {
          "bar": [
           {
            "error_x": {
             "color": "#2a3f5f"
            },
            "error_y": {
             "color": "#2a3f5f"
            },
            "marker": {
             "line": {
              "color": "#E5ECF6",
              "width": 0.5
             },
             "pattern": {
              "fillmode": "overlay",
              "size": 10,
              "solidity": 0.2
             }
            },
            "type": "bar"
           }
          ],
          "barpolar": [
           {
            "marker": {
             "line": {
              "color": "#E5ECF6",
              "width": 0.5
             },
             "pattern": {
              "fillmode": "overlay",
              "size": 10,
              "solidity": 0.2
             }
            },
            "type": "barpolar"
           }
          ],
          "carpet": [
           {
            "aaxis": {
             "endlinecolor": "#2a3f5f",
             "gridcolor": "white",
             "linecolor": "white",
             "minorgridcolor": "white",
             "startlinecolor": "#2a3f5f"
            },
            "baxis": {
             "endlinecolor": "#2a3f5f",
             "gridcolor": "white",
             "linecolor": "white",
             "minorgridcolor": "white",
             "startlinecolor": "#2a3f5f"
            },
            "type": "carpet"
           }
          ],
          "choropleth": [
           {
            "colorbar": {
             "outlinewidth": 0,
             "ticks": ""
            },
            "type": "choropleth"
           }
          ],
          "contour": [
           {
            "colorbar": {
             "outlinewidth": 0,
             "ticks": ""
            },
            "colorscale": [
             [
              0,
              "#0d0887"
             ],
             [
              0.1111111111111111,
              "#46039f"
             ],
             [
              0.2222222222222222,
              "#7201a8"
             ],
             [
              0.3333333333333333,
              "#9c179e"
             ],
             [
              0.4444444444444444,
              "#bd3786"
             ],
             [
              0.5555555555555556,
              "#d8576b"
             ],
             [
              0.6666666666666666,
              "#ed7953"
             ],
             [
              0.7777777777777778,
              "#fb9f3a"
             ],
             [
              0.8888888888888888,
              "#fdca26"
             ],
             [
              1,
              "#f0f921"
             ]
            ],
            "type": "contour"
           }
          ],
          "contourcarpet": [
           {
            "colorbar": {
             "outlinewidth": 0,
             "ticks": ""
            },
            "type": "contourcarpet"
           }
          ],
          "heatmap": [
           {
            "colorbar": {
             "outlinewidth": 0,
             "ticks": ""
            },
            "colorscale": [
             [
              0,
              "#0d0887"
             ],
             [
              0.1111111111111111,
              "#46039f"
             ],
             [
              0.2222222222222222,
              "#7201a8"
             ],
             [
              0.3333333333333333,
              "#9c179e"
             ],
             [
              0.4444444444444444,
              "#bd3786"
             ],
             [
              0.5555555555555556,
              "#d8576b"
             ],
             [
              0.6666666666666666,
              "#ed7953"
             ],
             [
              0.7777777777777778,
              "#fb9f3a"
             ],
             [
              0.8888888888888888,
              "#fdca26"
             ],
             [
              1,
              "#f0f921"
             ]
            ],
            "type": "heatmap"
           }
          ],
          "heatmapgl": [
           {
            "colorbar": {
             "outlinewidth": 0,
             "ticks": ""
            },
            "colorscale": [
             [
              0,
              "#0d0887"
             ],
             [
              0.1111111111111111,
              "#46039f"
             ],
             [
              0.2222222222222222,
              "#7201a8"
             ],
             [
              0.3333333333333333,
              "#9c179e"
             ],
             [
              0.4444444444444444,
              "#bd3786"
             ],
             [
              0.5555555555555556,
              "#d8576b"
             ],
             [
              0.6666666666666666,
              "#ed7953"
             ],
             [
              0.7777777777777778,
              "#fb9f3a"
             ],
             [
              0.8888888888888888,
              "#fdca26"
             ],
             [
              1,
              "#f0f921"
             ]
            ],
            "type": "heatmapgl"
           }
          ],
          "histogram": [
           {
            "marker": {
             "pattern": {
              "fillmode": "overlay",
              "size": 10,
              "solidity": 0.2
             }
            },
            "type": "histogram"
           }
          ],
          "histogram2d": [
           {
            "colorbar": {
             "outlinewidth": 0,
             "ticks": ""
            },
            "colorscale": [
             [
              0,
              "#0d0887"
             ],
             [
              0.1111111111111111,
              "#46039f"
             ],
             [
              0.2222222222222222,
              "#7201a8"
             ],
             [
              0.3333333333333333,
              "#9c179e"
             ],
             [
              0.4444444444444444,
              "#bd3786"
             ],
             [
              0.5555555555555556,
              "#d8576b"
             ],
             [
              0.6666666666666666,
              "#ed7953"
             ],
             [
              0.7777777777777778,
              "#fb9f3a"
             ],
             [
              0.8888888888888888,
              "#fdca26"
             ],
             [
              1,
              "#f0f921"
             ]
            ],
            "type": "histogram2d"
           }
          ],
          "histogram2dcontour": [
           {
            "colorbar": {
             "outlinewidth": 0,
             "ticks": ""
            },
            "colorscale": [
             [
              0,
              "#0d0887"
             ],
             [
              0.1111111111111111,
              "#46039f"
             ],
             [
              0.2222222222222222,
              "#7201a8"
             ],
             [
              0.3333333333333333,
              "#9c179e"
             ],
             [
              0.4444444444444444,
              "#bd3786"
             ],
             [
              0.5555555555555556,
              "#d8576b"
             ],
             [
              0.6666666666666666,
              "#ed7953"
             ],
             [
              0.7777777777777778,
              "#fb9f3a"
             ],
             [
              0.8888888888888888,
              "#fdca26"
             ],
             [
              1,
              "#f0f921"
             ]
            ],
            "type": "histogram2dcontour"
           }
          ],
          "mesh3d": [
           {
            "colorbar": {
             "outlinewidth": 0,
             "ticks": ""
            },
            "type": "mesh3d"
           }
          ],
          "parcoords": [
           {
            "line": {
             "colorbar": {
              "outlinewidth": 0,
              "ticks": ""
             }
            },
            "type": "parcoords"
           }
          ],
          "pie": [
           {
            "automargin": true,
            "type": "pie"
           }
          ],
          "scatter": [
           {
            "fillpattern": {
             "fillmode": "overlay",
             "size": 10,
             "solidity": 0.2
            },
            "type": "scatter"
           }
          ],
          "scatter3d": [
           {
            "line": {
             "colorbar": {
              "outlinewidth": 0,
              "ticks": ""
             }
            },
            "marker": {
             "colorbar": {
              "outlinewidth": 0,
              "ticks": ""
             }
            },
            "type": "scatter3d"
           }
          ],
          "scattercarpet": [
           {
            "marker": {
             "colorbar": {
              "outlinewidth": 0,
              "ticks": ""
             }
            },
            "type": "scattercarpet"
           }
          ],
          "scattergeo": [
           {
            "marker": {
             "colorbar": {
              "outlinewidth": 0,
              "ticks": ""
             }
            },
            "type": "scattergeo"
           }
          ],
          "scattergl": [
           {
            "marker": {
             "colorbar": {
              "outlinewidth": 0,
              "ticks": ""
             }
            },
            "type": "scattergl"
           }
          ],
          "scattermapbox": [
           {
            "marker": {
             "colorbar": {
              "outlinewidth": 0,
              "ticks": ""
             }
            },
            "type": "scattermapbox"
           }
          ],
          "scatterpolar": [
           {
            "marker": {
             "colorbar": {
              "outlinewidth": 0,
              "ticks": ""
             }
            },
            "type": "scatterpolar"
           }
          ],
          "scatterpolargl": [
           {
            "marker": {
             "colorbar": {
              "outlinewidth": 0,
              "ticks": ""
             }
            },
            "type": "scatterpolargl"
           }
          ],
          "scatterternary": [
           {
            "marker": {
             "colorbar": {
              "outlinewidth": 0,
              "ticks": ""
             }
            },
            "type": "scatterternary"
           }
          ],
          "surface": [
           {
            "colorbar": {
             "outlinewidth": 0,
             "ticks": ""
            },
            "colorscale": [
             [
              0,
              "#0d0887"
             ],
             [
              0.1111111111111111,
              "#46039f"
             ],
             [
              0.2222222222222222,
              "#7201a8"
             ],
             [
              0.3333333333333333,
              "#9c179e"
             ],
             [
              0.4444444444444444,
              "#bd3786"
             ],
             [
              0.5555555555555556,
              "#d8576b"
             ],
             [
              0.6666666666666666,
              "#ed7953"
             ],
             [
              0.7777777777777778,
              "#fb9f3a"
             ],
             [
              0.8888888888888888,
              "#fdca26"
             ],
             [
              1,
              "#f0f921"
             ]
            ],
            "type": "surface"
           }
          ],
          "table": [
           {
            "cells": {
             "fill": {
              "color": "#EBF0F8"
             },
             "line": {
              "color": "white"
             }
            },
            "header": {
             "fill": {
              "color": "#C8D4E3"
             },
             "line": {
              "color": "white"
             }
            },
            "type": "table"
           }
          ]
         },
         "layout": {
          "annotationdefaults": {
           "arrowcolor": "#2a3f5f",
           "arrowhead": 0,
           "arrowwidth": 1
          },
          "autotypenumbers": "strict",
          "coloraxis": {
           "colorbar": {
            "outlinewidth": 0,
            "ticks": ""
           }
          },
          "colorscale": {
           "diverging": [
            [
             0,
             "#8e0152"
            ],
            [
             0.1,
             "#c51b7d"
            ],
            [
             0.2,
             "#de77ae"
            ],
            [
             0.3,
             "#f1b6da"
            ],
            [
             0.4,
             "#fde0ef"
            ],
            [
             0.5,
             "#f7f7f7"
            ],
            [
             0.6,
             "#e6f5d0"
            ],
            [
             0.7,
             "#b8e186"
            ],
            [
             0.8,
             "#7fbc41"
            ],
            [
             0.9,
             "#4d9221"
            ],
            [
             1,
             "#276419"
            ]
           ],
           "sequential": [
            [
             0,
             "#0d0887"
            ],
            [
             0.1111111111111111,
             "#46039f"
            ],
            [
             0.2222222222222222,
             "#7201a8"
            ],
            [
             0.3333333333333333,
             "#9c179e"
            ],
            [
             0.4444444444444444,
             "#bd3786"
            ],
            [
             0.5555555555555556,
             "#d8576b"
            ],
            [
             0.6666666666666666,
             "#ed7953"
            ],
            [
             0.7777777777777778,
             "#fb9f3a"
            ],
            [
             0.8888888888888888,
             "#fdca26"
            ],
            [
             1,
             "#f0f921"
            ]
           ],
           "sequentialminus": [
            [
             0,
             "#0d0887"
            ],
            [
             0.1111111111111111,
             "#46039f"
            ],
            [
             0.2222222222222222,
             "#7201a8"
            ],
            [
             0.3333333333333333,
             "#9c179e"
            ],
            [
             0.4444444444444444,
             "#bd3786"
            ],
            [
             0.5555555555555556,
             "#d8576b"
            ],
            [
             0.6666666666666666,
             "#ed7953"
            ],
            [
             0.7777777777777778,
             "#fb9f3a"
            ],
            [
             0.8888888888888888,
             "#fdca26"
            ],
            [
             1,
             "#f0f921"
            ]
           ]
          },
          "colorway": [
           "#636efa",
           "#EF553B",
           "#00cc96",
           "#ab63fa",
           "#FFA15A",
           "#19d3f3",
           "#FF6692",
           "#B6E880",
           "#FF97FF",
           "#FECB52"
          ],
          "font": {
           "color": "#2a3f5f"
          },
          "geo": {
           "bgcolor": "white",
           "lakecolor": "white",
           "landcolor": "#E5ECF6",
           "showlakes": true,
           "showland": true,
           "subunitcolor": "white"
          },
          "hoverlabel": {
           "align": "left"
          },
          "hovermode": "closest",
          "mapbox": {
           "style": "light"
          },
          "paper_bgcolor": "white",
          "plot_bgcolor": "#E5ECF6",
          "polar": {
           "angularaxis": {
            "gridcolor": "white",
            "linecolor": "white",
            "ticks": ""
           },
           "bgcolor": "#E5ECF6",
           "radialaxis": {
            "gridcolor": "white",
            "linecolor": "white",
            "ticks": ""
           }
          },
          "scene": {
           "xaxis": {
            "backgroundcolor": "#E5ECF6",
            "gridcolor": "white",
            "gridwidth": 2,
            "linecolor": "white",
            "showbackground": true,
            "ticks": "",
            "zerolinecolor": "white"
           },
           "yaxis": {
            "backgroundcolor": "#E5ECF6",
            "gridcolor": "white",
            "gridwidth": 2,
            "linecolor": "white",
            "showbackground": true,
            "ticks": "",
            "zerolinecolor": "white"
           },
           "zaxis": {
            "backgroundcolor": "#E5ECF6",
            "gridcolor": "white",
            "gridwidth": 2,
            "linecolor": "white",
            "showbackground": true,
            "ticks": "",
            "zerolinecolor": "white"
           }
          },
          "shapedefaults": {
           "line": {
            "color": "#2a3f5f"
           }
          },
          "ternary": {
           "aaxis": {
            "gridcolor": "white",
            "linecolor": "white",
            "ticks": ""
           },
           "baxis": {
            "gridcolor": "white",
            "linecolor": "white",
            "ticks": ""
           },
           "bgcolor": "#E5ECF6",
           "caxis": {
            "gridcolor": "white",
            "linecolor": "white",
            "ticks": ""
           }
          },
          "title": {
           "x": 0.05
          },
          "xaxis": {
           "automargin": true,
           "gridcolor": "white",
           "linecolor": "white",
           "ticks": "",
           "title": {
            "standoff": 15
           },
           "zerolinecolor": "white",
           "zerolinewidth": 2
          },
          "yaxis": {
           "automargin": true,
           "gridcolor": "white",
           "linecolor": "white",
           "ticks": "",
           "title": {
            "standoff": 15
           },
           "zerolinecolor": "white",
           "zerolinewidth": 2
          }
         }
        },
        "xaxis": {
         "anchor": "y",
         "domain": [
          0,
          1
         ]
        },
        "yaxis": {
         "anchor": "x",
         "domain": [
          0,
          1
         ]
        }
       }
      }
     },
     "metadata": {},
     "output_type": "display_data"
    }
   ],
   "source": [
    "sweep = linspace(0.010, 0.05, 8)\n",
    "time = [-18] * 8\n",
    "\n",
    "fig = make_subplots(rows = 1, cols = 1)\n",
    "\n",
    "fig.add_trace(go.Scatter(x=sweep, y=time, mode='lines'))\n",
    "\n",
    "fig.show()"
   ]
  },
  {
   "cell_type": "code",
   "execution_count": 84,
   "metadata": {},
   "outputs": [
    {
     "data": {
      "text/plain": [
       "161.60711408721372"
      ]
     },
     "execution_count": 84,
     "metadata": {},
     "output_type": "execute_result"
    },
    {
     "data": {
      "image/png": "[encoded data removed]",
      "text/plain": [
       "<Figure size 640x480 with 1 Axes>"
      ]
     },
     "metadata": {},
     "output_type": "display_data"
    }
   ],
   "source": [
    "params = Params(\n",
    "    mass = 1.047,      # kg\n",
    "    diameter = 1,   # m\n",
    "    rho = 1,          # kg/m**3\n",
    "    g = 9.8,            # m/s**2\n",
    "    v_init = 0,         # m / s\n",
    "    v_term = 2.36,        # m / s\n",
    "    height = 381,       # m\n",
    "    t_end = 200,         # s\n",
    ")\n",
    "\n",
    "from numpy import pi\n",
    "\n",
    "def make_system(params):\n",
    "    init = State(y=params.height, v=params.v_init)\n",
    "\n",
    "    area = pi * (params.diameter/2)**2\n",
    "\n",
    "    C_d = (2 * params.mass * params.g / \n",
    "           (params.rho * area * params.v_term**2))\n",
    "\n",
    "    return System(init=init,\n",
    "                  area=area,\n",
    "                  C_d=C_d,\n",
    "                  mass=params.mass,\n",
    "                  rho=params.rho,\n",
    "                  g=params.g,\n",
    "                  t_end=params.t_end)\n",
    "    \n",
    "system = make_system(params)\n",
    "\n",
    "params2 = params.set(v_term=20)\n",
    "\n",
    "system2 = make_system(params2)\n",
    "\n",
    "def slope_func(t, state, system):\n",
    "    y, v = state\n",
    "    rho, C_d, area = system.rho, system.C_d, system.area\n",
    "    mass, g = system.mass, system.g\n",
    "    \n",
    "    f_drag = rho * v**2 * C_d * area / 2\n",
    "    a_drag = f_drag / mass\n",
    "    \n",
    "    dydt = v\n",
    "    dvdt = -g + a_drag\n",
    "    \n",
    "    return dydt, dvdt\n",
    "\n",
    "def event_func(t, state, system):\n",
    "    y, v = state\n",
    "    return y\n",
    "\n",
    "results, details = run_solve_ivp(system, slope_func,\n",
    "                                 events=event_func)\n",
    "\n",
    "t_sidewalk = results.index[-1]\n",
    "\n",
    "def plot_position(results):\n",
    "    results.y.plot()\n",
    "        \n",
    "    decorate(xlabel='Time (s)',\n",
    "         ylabel='Position (m)')\n",
    "    \n",
    "plot_position(results)\n",
    "\n",
    "t_sidewalk"
   ]
  }
 ],
 "metadata": {
  "kernelspec": {
   "display_name": "base",
   "language": "python",
   "name": "python3"
  },
  "language_info": {
   "codemirror_mode": {
    "name": "ipython",
    "version": 3
   },
   "file_extension": ".py",
   "mimetype": "text/x-python",
   "name": "python",
   "nbconvert_exporter": "python",
   "pygments_lexer": "ipython3",
   "version": "3.9.15 (main, Nov 24 2022, 14:39:17) [MSC v.1916 64 bit (AMD64)]"
  },
  "orig_nbformat": 4,
  "vscode": {
   "interpreter": {
    "hash": "ad2bdc8ecc057115af97d19610ffacc2b4e99fae6737bb82f5d7fb13d2f2c186"
   }
  }
 },
 "nbformat": 4,
 "nbformat_minor": 2
}
