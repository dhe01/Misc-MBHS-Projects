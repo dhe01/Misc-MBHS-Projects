{
 "cells": [
  {
   "cell_type": "code",
   "execution_count": 1,
   "metadata": {},
   "outputs": [],
   "source": [
    "import pandas as pd\n",
    "import numpy as np\n",
    "import seaborn as sns\n",
    "import matplotlib.pyplot as plt\n",
    "from sklearn import preprocessing\n",
    "from sklearn import linear_model\n",
    "from sklearn import metrics\n",
    "import statistics\n",
    "import copy\n",
    "import math\n",
    "import plotly.graph_objects as go\n",
    "import plotly.express as px\n",
    "from plotly.subplots import make_subplots\n",
    "import statsmodels.api as sm\n",
    "from statsmodels.tsa.arima.model import ARIMA\n",
    "from statsmodels.tsa.api import ExponentialSmoothing, SimpleExpSmoothing, Holt\n",
    "import gplearn\n",
    "from pmdarima.arima import auto_arima\n",
    "import pmdarima as pm\n",
    "from gplearn.genetic import SymbolicRegressor\n"
   ]
  },
  {
   "cell_type": "markdown",
   "metadata": {},
   "source": [
    "Temperature Dataset"
   ]
  },
  {
   "cell_type": "code",
   "execution_count": 2,
   "metadata": {},
   "outputs": [
    {
     "data": {
      "application/vnd.plotly.v1+json": {
       "config": {
        "plotlyServerURL": "https://plot.ly"
       },
       "data": [
        {
         "mode": "markers+lines",
         "name": "Actual",
         "type": "scatter",
         "x": [
          0,
          1,
          2,
          3,
          4,
          5,
          6,
          7,
          8,
          9,
          10,
          11,
          12,
          13,
          14,
          15,
          16,
          17,
          18,
          19,
          20,
          21,
          22,
          23,
          24,
          25,
          26,
          27,
          28,
          29,
          30,
          31,
          32,
          33,
          34,
          35,
          36,
          37,
          38,
          39,
          40,
          41,
          42,
          43,
          44,
          45,
          46,
          47,
          48,
          49,
          50,
          51,
          52,
          53,
          54,
          55,
          56,
          57,
          58,
          59,
          60,
          61,
          62,
          63,
          64,
          65,
          66,
          67,
          68,
          69,
          70,
          71,
          72,
          73,
          74,
          75,
          76,
          77,
          78,
          79,
          80,
          81,
          82,
          83,
          84,
          85,
          86,
          87,
          88,
          89,
          90,
          91,
          92,
          93,
          94,
          95,
          96,
          97,
          98,
          99,
          100,
          101,
          102,
          103,
          104,
          105,
          106,
          107,
          108,
          109,
          110,
          111,
          112,
          113,
          114,
          115,
          116,
          117,
          118,
          119,
          120,
          121,
          122,
          123,
          124,
          125,
          126,
          127,
          128,
          129,
          130,
          131,
          132,
          133,
          134,
          135,
          136,
          137,
          138,
          139,
          140,
          141,
          142,
          143,
          144,
          145,
          146,
          147,
          148,
          149,
          150,
          151,
          152,
          153,
          154,
          155,
          156,
          157,
          158,
          159,
          160,
          161,
          162,
          163,
          164,
          165,
          166,
          167,
          168,
          169,
          170,
          171,
          172,
          173,
          174,
          175,
          176,
          177,
          178,
          179,
          180,
          181,
          182,
          183,
          184,
          185,
          186,
          187,
          188,
          189,
          190,
          191,
          192,
          193,
          194,
          195,
          196,
          197,
          198,
          199,
          200,
          201,
          202,
          203,
          204,
          205,
          206,
          207,
          208,
          209,
          210,
          211,
          212,
          213,
          214,
          215,
          216,
          217,
          218,
          219,
          220,
          221,
          222,
          223,
          224,
          225,
          226,
          227,
          228,
          229,
          230,
          231,
          232,
          233,
          234,
          235,
          236,
          237,
          238,
          239,
          240,
          241,
          242,
          243,
          244,
          245,
          246,
          247,
          248,
          249,
          250,
          251,
          252,
          253,
          254,
          255,
          256,
          257,
          258,
          259,
          260,
          261,
          262,
          263,
          264,
          265,
          266,
          267,
          268,
          269,
          270,
          271,
          272,
          273,
          274,
          275,
          276,
          277,
          278,
          279,
          280,
          281,
          282,
          283,
          284,
          285,
          286,
          287,
          288,
          289,
          290,
          291,
          292,
          293,
          294,
          295,
          296,
          297,
          298,
          299,
          300,
          301,
          302,
          303,
          304,
          305,
          306,
          307,
          308,
          309,
          310,
          311,
          312,
          313,
          314,
          315,
          316,
          317,
          318,
          319,
          320,
          321,
          322,
          323,
          324,
          325,
          326,
          327,
          328,
          329,
          330,
          331,
          332,
          333,
          334,
          335,
          336,
          337,
          338,
          339,
          340,
          341,
          342,
          343,
          344,
          345,
          346,
          347,
          348,
          349,
          350,
          351,
          352,
          353,
          354,
          355,
          356,
          357,
          358,
          359,
          360,
          361,
          362,
          363,
          364,
          365,
          366,
          367,
          368,
          369,
          370,
          371,
          372,
          373,
          374,
          375,
          376,
          377,
          378,
          379,
          380,
          381,
          382,
          383,
          384,
          385,
          386,
          387,
          388,
          389,
          390,
          391,
          392,
          393,
          394,
          395,
          396,
          397,
          398,
          399,
          400,
          401,
          402,
          403,
          404,
          405,
          406,
          407,
          408,
          409,
          410,
          411,
          412,
          413,
          414,
          415,
          416,
          417,
          418,
          419,
          420,
          421,
          422,
          423,
          424,
          425,
          426,
          427,
          428,
          429,
          430,
          431,
          432,
          433,
          434,
          435,
          436,
          437,
          438,
          439,
          440,
          441,
          442,
          443
         ],
         "y": [
          0.3,
          0.42,
          0.29,
          0.32,
          0.34,
          0.16,
          0.28,
          0.24,
          0.21,
          0.2,
          0.3,
          0.21,
          0.56,
          0.41,
          0.48,
          0.32,
          0.25,
          0.31,
          0.35,
          0.35,
          0.17,
          0.13,
          0.21,
          0.4,
          0.09,
          0.14,
          -0.01,
          0.1,
          0.16,
          0.05,
          0.13,
          0.08,
          0.15,
          0.13,
          0.14,
          0.43,
          0.52,
          0.4,
          0.42,
          0.3,
          0.35,
          0.18,
          0.15,
          0.3,
          0.38,
          0.15,
          0.3,
          0.17,
          0.3,
          0.17,
          0.29,
          0.08,
          0.33,
          0.04,
          0.16,
          0.15,
          0.2,
          0.15,
          0.04,
          -0.06,
          0.21,
          -0.06,
          0.17,
          0.11,
          0.17,
          0.17,
          0,
          0.15,
          0.14,
          0.11,
          0.09,
          0.15,
          0.3,
          0.39,
          0.29,
          0.26,
          0.26,
          0.12,
          0.13,
          0.12,
          0.02,
          0.14,
          0.11,
          0.16,
          0.36,
          0.46,
          0.17,
          0.24,
          0.26,
          0.36,
          0.46,
          0.28,
          0.39,
          0.32,
          0.25,
          0.47,
          0.57,
          0.42,
          0.49,
          0.45,
          0.44,
          0.42,
          0.35,
          0.46,
          0.42,
          0.4,
          0.13,
          0.34,
          0.16,
          0.35,
          0.36,
          0.33,
          0.17,
          0.15,
          0.34,
          0.36,
          0.37,
          0.32,
          0.21,
          0.37,
          0.41,
          0.41,
          0.76,
          0.55,
          0.46,
          0.38,
          0.44,
          0.3,
          0.3,
          0.43,
          0.46,
          0.42,
          0.42,
          0.51,
          0.36,
          0.53,
          0.39,
          0.54,
          0.51,
          0.42,
          0.5,
          0.32,
          0.31,
          0.33,
          0.45,
          0.42,
          0.47,
          0.24,
          0.32,
          0.24,
          0.13,
          0.1,
          0.01,
          0.11,
          0.04,
          0.22,
          0.37,
          0.39,
          0.36,
          0.28,
          0.26,
          0.24,
          0.28,
          0.13,
          0.11,
          0.24,
          0.07,
          0.19,
          0.3,
          0.04,
          0.26,
          0.41,
          0.29,
          0.42,
          0.32,
          0.23,
          0.32,
          0.42,
          0.46,
          0.36,
          0.5,
          0.77,
          0.45,
          0.47,
          0.29,
          0.45,
          0.49,
          0.48,
          0.34,
          0.49,
          0.45,
          0.3,
          0.27,
          0.5,
          0.34,
          0.38,
          0.3,
          0.27,
          0.37,
          0.49,
          0.27,
          0.2,
          0.42,
          0.41,
          0.33,
          0.37,
          0.52,
          0.38,
          0.39,
          0.55,
          0.35,
          0.43,
          0.56,
          0.64,
          0.66,
          0.6,
          0.61,
          0.9,
          0.63,
          0.64,
          0.71,
          0.78,
          0.71,
          0.68,
          0.45,
          0.47,
          0.5,
          0.56,
          0.48,
          0.66,
          0.34,
          0.34,
          0.33,
          0.37,
          0.41,
          0.34,
          0.43,
          0.43,
          0.42,
          0.46,
          0.26,
          0.58,
          0.6,
          0.59,
          0.4,
          0.44,
          0.42,
          0.43,
          0.42,
          0.3,
          0.34,
          0.3,
          0.44,
          0.46,
          0.58,
          0.52,
          0.59,
          0.55,
          0.61,
          0.49,
          0.56,
          0.52,
          0.7,
          0.55,
          0.75,
          0.76,
          0.91,
          0.58,
          0.65,
          0.54,
          0.62,
          0.55,
          0.65,
          0.57,
          0.59,
          0.43,
          0.73,
          0.55,
          0.57,
          0.55,
          0.62,
          0.49,
          0.55,
          0.66,
          0.66,
          0.75,
          0.55,
          0.75,
          0.59,
          0.71,
          0.64,
          0.62,
          0.42,
          0.43,
          0.26,
          0.45,
          0.53,
          0.66,
          0.72,
          0.52,
          0.72,
          0.58,
          0.69,
          0.69,
          0.65,
          0.67,
          0.66,
          0.63,
          0.78,
          0.8,
          0.76,
          0.68,
          0.57,
          0.7,
          0.63,
          0.5,
          0.47,
          0.64,
          0.54,
          0.72,
          0.64,
          0.69,
          0.72,
          0.77,
          0.96,
          0.7,
          0.7,
          0.76,
          0.67,
          0.58,
          0.62,
          0.6,
          0.64,
          0.6,
          0.57,
          0.5,
          0.24,
          0.36,
          0.73,
          0.53,
          0.51,
          0.48,
          0.6,
          0.44,
          0.65,
          0.67,
          0.66,
          0.54,
          0.62,
          0.53,
          0.53,
          0.61,
          0.65,
          0.65,
          0.72,
          0.66,
          0.7,
          0.64,
          0.77,
          0.65,
          0.73,
          0.78,
          0.92,
          0.87,
          0.75,
          0.64,
          0.62,
          0.65,
          0.61,
          0.71,
          0.79,
          0.49,
          0.51,
          0.53,
          0.64,
          0.65,
          0.53,
          0.59,
          0.73,
          0.73,
          0.56,
          0.66,
          0.56,
          0.54,
          0.46,
          0.49,
          0.58,
          0.69,
          0.76,
          0.62,
          0.57,
          0.63,
          0.76,
          0.78,
          0.75,
          0.53,
          0.68,
          0.55,
          0.66,
          0.52,
          0.61,
          0.65,
          0.59,
          0.66,
          0.78,
          0.69,
          0.81,
          0.67,
          0.73,
          0.51,
          0.77,
          0.78,
          0.87,
          0.66,
          0.57,
          0.82,
          0.9,
          0.85,
          0.67,
          0.79,
          0.81,
          0.86,
          0.9,
          0.74,
          0.78,
          0.78,
          0.71,
          0.78,
          0.81,
          1.06,
          1.04,
          1.11,
          1.17,
          1.35,
          1.3,
          1.09,
          0.93,
          0.76,
          0.83,
          0.98,
          0.87,
          0.89,
          0.93,
          0.81
         ]
        }
       ],
       "layout": {
        "height": 400,
        "template": {
         "data": {
          "bar": [
           {
            "error_x": {
             "color": "#2a3f5f"
            },
            "error_y": {
             "color": "#2a3f5f"
            },
            "marker": {
             "line": {
              "color": "#E5ECF6",
              "width": 0.5
             },
             "pattern": {
              "fillmode": "overlay",
              "size": 10,
              "solidity": 0.2
             }
            },
            "type": "bar"
           }
          ],
          "barpolar": [
           {
            "marker": {
             "line": {
              "color": "#E5ECF6",
              "width": 0.5
             },
             "pattern": {
              "fillmode": "overlay",
              "size": 10,
              "solidity": 0.2
             }
            },
            "type": "barpolar"
           }
          ],
          "carpet": [
           {
            "aaxis": {
             "endlinecolor": "#2a3f5f",
             "gridcolor": "white",
             "linecolor": "white",
             "minorgridcolor": "white",
             "startlinecolor": "#2a3f5f"
            },
            "baxis": {
             "endlinecolor": "#2a3f5f",
             "gridcolor": "white",
             "linecolor": "white",
             "minorgridcolor": "white",
             "startlinecolor": "#2a3f5f"
            },
            "type": "carpet"
           }
          ],
          "choropleth": [
           {
            "colorbar": {
             "outlinewidth": 0,
             "ticks": ""
            },
            "type": "choropleth"
           }
          ],
          "contour": [
           {
            "colorbar": {
             "outlinewidth": 0,
             "ticks": ""
            },
            "colorscale": [
             [
              0,
              "#0d0887"
             ],
             [
              0.1111111111111111,
              "#46039f"
             ],
             [
              0.2222222222222222,
              "#7201a8"
             ],
             [
              0.3333333333333333,
              "#9c179e"
             ],
             [
              0.4444444444444444,
              "#bd3786"
             ],
             [
              0.5555555555555556,
              "#d8576b"
             ],
             [
              0.6666666666666666,
              "#ed7953"
             ],
             [
              0.7777777777777778,
              "#fb9f3a"
             ],
             [
              0.8888888888888888,
              "#fdca26"
             ],
             [
              1,
              "#f0f921"
             ]
            ],
            "type": "contour"
           }
          ],
          "contourcarpet": [
           {
            "colorbar": {
             "outlinewidth": 0,
             "ticks": ""
            },
            "type": "contourcarpet"
           }
          ],
          "heatmap": [
           {
            "colorbar": {
             "outlinewidth": 0,
             "ticks": ""
            },
            "colorscale": [
             [
              0,
              "#0d0887"
             ],
             [
              0.1111111111111111,
              "#46039f"
             ],
             [
              0.2222222222222222,
              "#7201a8"
             ],
             [
              0.3333333333333333,
              "#9c179e"
             ],
             [
              0.4444444444444444,
              "#bd3786"
             ],
             [
              0.5555555555555556,
              "#d8576b"
             ],
             [
              0.6666666666666666,
              "#ed7953"
             ],
             [
              0.7777777777777778,
              "#fb9f3a"
             ],
             [
              0.8888888888888888,
              "#fdca26"
             ],
             [
              1,
              "#f0f921"
             ]
            ],
            "type": "heatmap"
           }
          ],
          "heatmapgl": [
           {
            "colorbar": {
             "outlinewidth": 0,
             "ticks": ""
            },
            "colorscale": [
             [
              0,
              "#0d0887"
             ],
             [
              0.1111111111111111,
              "#46039f"
             ],
             [
              0.2222222222222222,
              "#7201a8"
             ],
             [
              0.3333333333333333,
              "#9c179e"
             ],
             [
              0.4444444444444444,
              "#bd3786"
             ],
             [
              0.5555555555555556,
              "#d8576b"
             ],
             [
              0.6666666666666666,
              "#ed7953"
             ],
             [
              0.7777777777777778,
              "#fb9f3a"
             ],
             [
              0.8888888888888888,
              "#fdca26"
             ],
             [
              1,
              "#f0f921"
             ]
            ],
            "type": "heatmapgl"
           }
          ],
          "histogram": [
           {
            "marker": {
             "pattern": {
              "fillmode": "overlay",
              "size": 10,
              "solidity": 0.2
             }
            },
            "type": "histogram"
           }
          ],
          "histogram2d": [
           {
            "colorbar": {
             "outlinewidth": 0,
             "ticks": ""
            },
            "colorscale": [
             [
              0,
              "#0d0887"
             ],
             [
              0.1111111111111111,
              "#46039f"
             ],
             [
              0.2222222222222222,
              "#7201a8"
             ],
             [
              0.3333333333333333,
              "#9c179e"
             ],
             [
              0.4444444444444444,
              "#bd3786"
             ],
             [
              0.5555555555555556,
              "#d8576b"
             ],
             [
              0.6666666666666666,
              "#ed7953"
             ],
             [
              0.7777777777777778,
              "#fb9f3a"
             ],
             [
              0.8888888888888888,
              "#fdca26"
             ],
             [
              1,
              "#f0f921"
             ]
            ],
            "type": "histogram2d"
           }
          ],
          "histogram2dcontour": [
           {
            "colorbar": {
             "outlinewidth": 0,
             "ticks": ""
            },
            "colorscale": [
             [
              0,
              "#0d0887"
             ],
             [
              0.1111111111111111,
              "#46039f"
             ],
             [
              0.2222222222222222,
              "#7201a8"
             ],
             [
              0.3333333333333333,
              "#9c179e"
             ],
             [
              0.4444444444444444,
              "#bd3786"
             ],
             [
              0.5555555555555556,
              "#d8576b"
             ],
             [
              0.6666666666666666,
              "#ed7953"
             ],
             [
              0.7777777777777778,
              "#fb9f3a"
             ],
             [
              0.8888888888888888,
              "#fdca26"
             ],
             [
              1,
              "#f0f921"
             ]
            ],
            "type": "histogram2dcontour"
           }
          ],
          "mesh3d": [
           {
            "colorbar": {
             "outlinewidth": 0,
             "ticks": ""
            },
            "type": "mesh3d"
           }
          ],
          "parcoords": [
           {
            "line": {
             "colorbar": {
              "outlinewidth": 0,
              "ticks": ""
             }
            },
            "type": "parcoords"
           }
          ],
          "pie": [
           {
            "automargin": true,
            "type": "pie"
           }
          ],
          "scatter": [
           {
            "fillpattern": {
             "fillmode": "overlay",
             "size": 10,
             "solidity": 0.2
            },
            "type": "scatter"
           }
          ],
          "scatter3d": [
           {
            "line": {
             "colorbar": {
              "outlinewidth": 0,
              "ticks": ""
             }
            },
            "marker": {
             "colorbar": {
              "outlinewidth": 0,
              "ticks": ""
             }
            },
            "type": "scatter3d"
           }
          ],
          "scattercarpet": [
           {
            "marker": {
             "colorbar": {
              "outlinewidth": 0,
              "ticks": ""
             }
            },
            "type": "scattercarpet"
           }
          ],
          "scattergeo": [
           {
            "marker": {
             "colorbar": {
              "outlinewidth": 0,
              "ticks": ""
             }
            },
            "type": "scattergeo"
           }
          ],
          "scattergl": [
           {
            "marker": {
             "colorbar": {
              "outlinewidth": 0,
              "ticks": ""
             }
            },
            "type": "scattergl"
           }
          ],
          "scattermapbox": [
           {
            "marker": {
             "colorbar": {
              "outlinewidth": 0,
              "ticks": ""
             }
            },
            "type": "scattermapbox"
           }
          ],
          "scatterpolar": [
           {
            "marker": {
             "colorbar": {
              "outlinewidth": 0,
              "ticks": ""
             }
            },
            "type": "scatterpolar"
           }
          ],
          "scatterpolargl": [
           {
            "marker": {
             "colorbar": {
              "outlinewidth": 0,
              "ticks": ""
             }
            },
            "type": "scatterpolargl"
           }
          ],
          "scatterternary": [
           {
            "marker": {
             "colorbar": {
              "outlinewidth": 0,
              "ticks": ""
             }
            },
            "type": "scatterternary"
           }
          ],
          "surface": [
           {
            "colorbar": {
             "outlinewidth": 0,
             "ticks": ""
            },
            "colorscale": [
             [
              0,
              "#0d0887"
             ],
             [
              0.1111111111111111,
              "#46039f"
             ],
             [
              0.2222222222222222,
              "#7201a8"
             ],
             [
              0.3333333333333333,
              "#9c179e"
             ],
             [
              0.4444444444444444,
              "#bd3786"
             ],
             [
              0.5555555555555556,
              "#d8576b"
             ],
             [
              0.6666666666666666,
              "#ed7953"
             ],
             [
              0.7777777777777778,
              "#fb9f3a"
             ],
             [
              0.8888888888888888,
              "#fdca26"
             ],
             [
              1,
              "#f0f921"
             ]
            ],
            "type": "surface"
           }
          ],
          "table": [
           {
            "cells": {
             "fill": {
              "color": "#EBF0F8"
             },
             "line": {
              "color": "white"
             }
            },
            "header": {
             "fill": {
              "color": "#C8D4E3"
             },
             "line": {
              "color": "white"
             }
            },
            "type": "table"
           }
          ]
         },
         "layout": {
          "annotationdefaults": {
           "arrowcolor": "#2a3f5f",
           "arrowhead": 0,
           "arrowwidth": 1
          },
          "autotypenumbers": "strict",
          "coloraxis": {
           "colorbar": {
            "outlinewidth": 0,
            "ticks": ""
           }
          },
          "colorscale": {
           "diverging": [
            [
             0,
             "#8e0152"
            ],
            [
             0.1,
             "#c51b7d"
            ],
            [
             0.2,
             "#de77ae"
            ],
            [
             0.3,
             "#f1b6da"
            ],
            [
             0.4,
             "#fde0ef"
            ],
            [
             0.5,
             "#f7f7f7"
            ],
            [
             0.6,
             "#e6f5d0"
            ],
            [
             0.7,
             "#b8e186"
            ],
            [
             0.8,
             "#7fbc41"
            ],
            [
             0.9,
             "#4d9221"
            ],
            [
             1,
             "#276419"
            ]
           ],
           "sequential": [
            [
             0,
             "#0d0887"
            ],
            [
             0.1111111111111111,
             "#46039f"
            ],
            [
             0.2222222222222222,
             "#7201a8"
            ],
            [
             0.3333333333333333,
             "#9c179e"
            ],
            [
             0.4444444444444444,
             "#bd3786"
            ],
            [
             0.5555555555555556,
             "#d8576b"
            ],
            [
             0.6666666666666666,
             "#ed7953"
            ],
            [
             0.7777777777777778,
             "#fb9f3a"
            ],
            [
             0.8888888888888888,
             "#fdca26"
            ],
            [
             1,
             "#f0f921"
            ]
           ],
           "sequentialminus": [
            [
             0,
             "#0d0887"
            ],
            [
             0.1111111111111111,
             "#46039f"
            ],
            [
             0.2222222222222222,
             "#7201a8"
            ],
            [
             0.3333333333333333,
             "#9c179e"
            ],
            [
             0.4444444444444444,
             "#bd3786"
            ],
            [
             0.5555555555555556,
             "#d8576b"
            ],
            [
             0.6666666666666666,
             "#ed7953"
            ],
            [
             0.7777777777777778,
             "#fb9f3a"
            ],
            [
             0.8888888888888888,
             "#fdca26"
            ],
            [
             1,
             "#f0f921"
            ]
           ]
          },
          "colorway": [
           "#636efa",
           "#EF553B",
           "#00cc96",
           "#ab63fa",
           "#FFA15A",
           "#19d3f3",
           "#FF6692",
           "#B6E880",
           "#FF97FF",
           "#FECB52"
          ],
          "font": {
           "color": "#2a3f5f"
          },
          "geo": {
           "bgcolor": "white",
           "lakecolor": "white",
           "landcolor": "#E5ECF6",
           "showlakes": true,
           "showland": true,
           "subunitcolor": "white"
          },
          "hoverlabel": {
           "align": "left"
          },
          "hovermode": "closest",
          "mapbox": {
           "style": "light"
          },
          "paper_bgcolor": "white",
          "plot_bgcolor": "#E5ECF6",
          "polar": {
           "angularaxis": {
            "gridcolor": "white",
            "linecolor": "white",
            "ticks": ""
           },
           "bgcolor": "#E5ECF6",
           "radialaxis": {
            "gridcolor": "white",
            "linecolor": "white",
            "ticks": ""
           }
          },
          "scene": {
           "xaxis": {
            "backgroundcolor": "#E5ECF6",
            "gridcolor": "white",
            "gridwidth": 2,
            "linecolor": "white",
            "showbackground": true,
            "ticks": "",
            "zerolinecolor": "white"
           },
           "yaxis": {
            "backgroundcolor": "#E5ECF6",
            "gridcolor": "white",
            "gridwidth": 2,
            "linecolor": "white",
            "showbackground": true,
            "ticks": "",
            "zerolinecolor": "white"
           },
           "zaxis": {
            "backgroundcolor": "#E5ECF6",
            "gridcolor": "white",
            "gridwidth": 2,
            "linecolor": "white",
            "showbackground": true,
            "ticks": "",
            "zerolinecolor": "white"
           }
          },
          "shapedefaults": {
           "line": {
            "color": "#2a3f5f"
           }
          },
          "ternary": {
           "aaxis": {
            "gridcolor": "white",
            "linecolor": "white",
            "ticks": ""
           },
           "baxis": {
            "gridcolor": "white",
            "linecolor": "white",
            "ticks": ""
           },
           "bgcolor": "#E5ECF6",
           "caxis": {
            "gridcolor": "white",
            "linecolor": "white",
            "ticks": ""
           }
          },
          "title": {
           "x": 0.05
          },
          "xaxis": {
           "automargin": true,
           "gridcolor": "white",
           "linecolor": "white",
           "ticks": "",
           "title": {
            "standoff": 15
           },
           "zerolinecolor": "white",
           "zerolinewidth": 2
          },
          "yaxis": {
           "automargin": true,
           "gridcolor": "white",
           "linecolor": "white",
           "ticks": "",
           "title": {
            "standoff": 15
           },
           "zerolinecolor": "white",
           "zerolinewidth": 2
          }
         }
        },
        "title": {
         "text": "Temp (months)"
        },
        "width": 800,
        "xaxis": {
         "anchor": "y",
         "domain": [
          0,
          1
         ]
        },
        "yaxis": {
         "anchor": "x",
         "domain": [
          0,
          1
         ]
        }
       }
      }
     },
     "metadata": {},
     "output_type": "display_data"
    },
    {
     "data": {
      "text/html": [
       "<div>\n",
       "<style scoped>\n",
       "    .dataframe tbody tr th:only-of-type {\n",
       "        vertical-align: middle;\n",
       "    }\n",
       "\n",
       "    .dataframe tbody tr th {\n",
       "        vertical-align: top;\n",
       "    }\n",
       "\n",
       "    .dataframe thead th {\n",
       "        text-align: right;\n",
       "    }\n",
       "</style>\n",
       "<table border=\"1\" class=\"dataframe\">\n",
       "  <thead>\n",
       "    <tr style=\"text-align: right;\">\n",
       "      <th></th>\n",
       "      <th>Source</th>\n",
       "      <th>Date</th>\n",
       "      <th>Mean</th>\n",
       "    </tr>\n",
       "  </thead>\n",
       "  <tbody>\n",
       "    <tr>\n",
       "      <th>0</th>\n",
       "      <td>GISTEMP</td>\n",
       "      <td>0</td>\n",
       "      <td>0.30</td>\n",
       "    </tr>\n",
       "    <tr>\n",
       "      <th>1</th>\n",
       "      <td>GISTEMP</td>\n",
       "      <td>1</td>\n",
       "      <td>0.42</td>\n",
       "    </tr>\n",
       "    <tr>\n",
       "      <th>2</th>\n",
       "      <td>GISTEMP</td>\n",
       "      <td>2</td>\n",
       "      <td>0.29</td>\n",
       "    </tr>\n",
       "    <tr>\n",
       "      <th>3</th>\n",
       "      <td>GISTEMP</td>\n",
       "      <td>3</td>\n",
       "      <td>0.32</td>\n",
       "    </tr>\n",
       "    <tr>\n",
       "      <th>4</th>\n",
       "      <td>GISTEMP</td>\n",
       "      <td>4</td>\n",
       "      <td>0.34</td>\n",
       "    </tr>\n",
       "    <tr>\n",
       "      <th>...</th>\n",
       "      <td>...</td>\n",
       "      <td>...</td>\n",
       "      <td>...</td>\n",
       "    </tr>\n",
       "    <tr>\n",
       "      <th>439</th>\n",
       "      <td>GISTEMP</td>\n",
       "      <td>439</td>\n",
       "      <td>0.98</td>\n",
       "    </tr>\n",
       "    <tr>\n",
       "      <th>440</th>\n",
       "      <td>GISTEMP</td>\n",
       "      <td>440</td>\n",
       "      <td>0.87</td>\n",
       "    </tr>\n",
       "    <tr>\n",
       "      <th>441</th>\n",
       "      <td>GISTEMP</td>\n",
       "      <td>441</td>\n",
       "      <td>0.89</td>\n",
       "    </tr>\n",
       "    <tr>\n",
       "      <th>442</th>\n",
       "      <td>GISTEMP</td>\n",
       "      <td>442</td>\n",
       "      <td>0.93</td>\n",
       "    </tr>\n",
       "    <tr>\n",
       "      <th>443</th>\n",
       "      <td>GISTEMP</td>\n",
       "      <td>443</td>\n",
       "      <td>0.81</td>\n",
       "    </tr>\n",
       "  </tbody>\n",
       "</table>\n",
       "<p>444 rows × 3 columns</p>\n",
       "</div>"
      ],
      "text/plain": [
       "      Source  Date  Mean\n",
       "0    GISTEMP     0  0.30\n",
       "1    GISTEMP     1  0.42\n",
       "2    GISTEMP     2  0.29\n",
       "3    GISTEMP     3  0.32\n",
       "4    GISTEMP     4  0.34\n",
       "..       ...   ...   ...\n",
       "439  GISTEMP   439  0.98\n",
       "440  GISTEMP   440  0.87\n",
       "441  GISTEMP   441  0.89\n",
       "442  GISTEMP   442  0.93\n",
       "443  GISTEMP   443  0.81\n",
       "\n",
       "[444 rows x 3 columns]"
      ]
     },
     "execution_count": 2,
     "metadata": {},
     "output_type": "execute_result"
    }
   ],
   "source": [
    "temp = pd.read_csv(r\"C:\\Users\\thewa\\OneDrive\\Documents\\VSCode Modsim\\VSCode Modsim Project 2\\monthly_csv.csv\")\n",
    "temp = temp[temp[\"Source\"] == \"GISTEMP\"].iloc[:444].reset_index(drop=True)\n",
    "\n",
    "newdate = []\n",
    "for date in temp[\"Date\"]:\n",
    "    if \"/\" in date:\n",
    "        date = date.split(\"/\")\n",
    "        newdate.append((int(date[2])*12+int(date[0])-1) - (1980 * 12+1-1))\n",
    "newmean = list(temp[\"Mean\"])\n",
    "\n",
    "newdate.reverse()\n",
    "newmean.reverse()\n",
    "\n",
    "temp[\"Mean\"] = newmean\n",
    "temp[\"Date\"] = newdate\n",
    "\n",
    "fig = make_subplots(rows = 1, cols = 1)\n",
    "\n",
    "fig.add_trace(go.Scatter(x=temp[\"Date\"], y=temp[\"Mean\"],\n",
    "                    mode='markers+lines',\n",
    "                    name='Actual'))\n",
    "\n",
    "fig.update_layout(title = \"Temp (months)\")\n",
    "\n",
    "fig.update_layout(height=400, width=800)\n",
    "\n",
    "fig.show()\n",
    "\n",
    "temp"
   ]
  },
  {
   "cell_type": "markdown",
   "metadata": {},
   "source": [
    "Various Analyses, including ACF + ARIMA Fit"
   ]
  },
  {
   "cell_type": "code",
   "execution_count": null,
   "metadata": {},
   "outputs": [],
   "source": [
    "testtemp = temp[temp['Date'] < 421]\n",
    "\n",
    "fig = plt.figure(figsize=(12,8))\n",
    "\n",
    "fig = sm.graphics.tsa.plot_acf(testtemp['Mean'].dropna())\n",
    "\n",
    "fig.show()\n",
    "\n",
    "fig = sm.graphics.tsa.plot_acf(testtemp['Mean'].diff().dropna())\n",
    "\n",
    "fig.show()\n",
    "\n",
    "fig = sm.graphics.tsa.plot_acf(testtemp['Mean'].diff().diff().dropna())\n",
    "\n",
    "fig.show()\n",
    "\n",
    "fig = sm.graphics.tsa.plot_pacf(testtemp['Mean'].dropna())\n",
    "\n",
    "fig.show()\n",
    "\n",
    "fig = sm.graphics.tsa.plot_pacf(testtemp['Mean'].diff().dropna())\n",
    "\n",
    "fig.show()\n",
    "\n",
    "fig = sm.graphics.tsa.plot_pacf(testtemp['Mean'].diff().diff().dropna())\n",
    "\n",
    "fig.show()\n",
    "\n",
    "fit1 = auto_arima(testtemp['Mean'], d=1, start_p = 0, D=12)\n",
    "testtemp"
   ]
  },
  {
   "cell_type": "code",
   "execution_count": 4,
   "metadata": {},
   "outputs": [
    {
     "data": {
      "text/plain": [
       "{'pvalues': intercept    3.702308e-05\n",
       " ar.L1        2.099589e-03\n",
       " ar.L2        9.663815e-23\n",
       " ar.L3        8.735062e-03\n",
       " ma.L1        4.439411e-01\n",
       " ma.L2        3.488414e-11\n",
       " sigma2       2.213832e-51\n",
       " dtype: float64,\n",
       " 'resid': 0      0.298678\n",
       " 1      0.118678\n",
       " 2     -0.082890\n",
       " 3     -0.020028\n",
       " 4      0.030022\n",
       "          ...   \n",
       " 416    0.153382\n",
       " 417    0.030432\n",
       " 418   -0.163515\n",
       " 419    0.069172\n",
       " 420    0.062200\n",
       " Length: 421, dtype: float64,\n",
       " 'order': (3, 1, 2),\n",
       " 'seasonal_order': (0, 0, 0, 0),\n",
       " 'oob': nan,\n",
       " 'aic': -659.6543558963667,\n",
       " 'aicc': -659.3831694556887,\n",
       " 'bic': -631.3725729174248,\n",
       " 'bse': intercept    0.000190\n",
       " ar.L1        0.140985\n",
       " ar.L2        0.066793\n",
       " ar.L3        0.070425\n",
       " ma.L1        0.133197\n",
       " ma.L2        0.132341\n",
       " sigma2       0.000774\n",
       " dtype: float64,\n",
       " 'params': intercept    0.000784\n",
       " ar.L1       -0.433639\n",
       " ar.L2        0.655600\n",
       " ar.L3        0.184673\n",
       " ma.L1       -0.101969\n",
       " ma.L2       -0.876667\n",
       " sigma2       0.011670\n",
       " dtype: float64}"
      ]
     },
     "execution_count": 4,
     "metadata": {},
     "output_type": "execute_result"
    }
   ],
   "source": [
    "fit1.to_dict()"
   ]
  },
  {
   "cell_type": "markdown",
   "metadata": {},
   "source": [
    "ARIMA anaylsis"
   ]
  },
  {
   "cell_type": "code",
   "execution_count": 28,
   "metadata": {},
   "outputs": [
    {
     "name": "stdout",
     "output_type": "stream",
     "text": [
      "                               SARIMAX Results                                \n",
      "==============================================================================\n",
      "Dep. Variable:                      y   No. Observations:                  421\n",
      "Model:               SARIMAX(3, 1, 2)   Log Likelihood                 336.827\n",
      "Date:                Mon, 05 Dec 2022   AIC                           -659.654\n",
      "Time:                        12:20:38   BIC                           -631.373\n",
      "Sample:                             0   HQIC                          -648.476\n",
      "                                - 421                                         \n",
      "Covariance Type:                  opg                                         \n",
      "==============================================================================\n",
      "                 coef    std err          z      P>|z|      [0.025      0.975]\n",
      "------------------------------------------------------------------------------\n",
      "intercept      0.0008      0.000      4.125      0.000       0.000       0.001\n",
      "ar.L1         -0.4336      0.141     -3.076      0.002      -0.710      -0.157\n",
      "ar.L2          0.6556      0.067      9.815      0.000       0.525       0.787\n",
      "ar.L3          0.1847      0.070      2.622      0.009       0.047       0.323\n",
      "ma.L1         -0.1020      0.133     -0.766      0.444      -0.363       0.159\n",
      "ma.L2         -0.8767      0.132     -6.624      0.000      -1.136      -0.617\n",
      "sigma2         0.0117      0.001     15.079      0.000       0.010       0.013\n",
      "===================================================================================\n",
      "Ljung-Box (L1) (Q):                   0.18   Jarque-Bera (JB):                 3.31\n",
      "Prob(Q):                              0.67   Prob(JB):                         0.19\n",
      "Heteroskedasticity (H):               0.88   Skew:                             0.17\n",
      "Prob(H) (two-sided):                  0.45   Kurtosis:                         3.27\n",
      "===================================================================================\n",
      "\n",
      "Warnings:\n",
      "[1] Covariance matrix calculated using the outer product of gradients (complex-step).\n",
      "0      0.001322\n",
      "1      0.301322\n",
      "2      0.372890\n",
      "3      0.340028\n",
      "4      0.309978\n",
      "         ...   \n",
      "416    0.746618\n",
      "417    0.819568\n",
      "418    0.833515\n",
      "419    0.720828\n",
      "420    0.747800\n",
      "Name: predicted_mean, Length: 421, dtype: float64\n",
      "{'pvalues': intercept    3.702308e-05\n",
      "ar.L1        2.099589e-03\n",
      "ar.L2        9.663815e-23\n",
      "ar.L3        8.735062e-03\n",
      "ma.L1        4.439411e-01\n",
      "ma.L2        3.488414e-11\n",
      "sigma2       2.213832e-51\n",
      "dtype: float64, 'resid': 0      0.298678\n",
      "1      0.118678\n",
      "2     -0.082890\n",
      "3     -0.020028\n",
      "4      0.030022\n",
      "         ...   \n",
      "416    0.153382\n",
      "417    0.030432\n",
      "418   -0.163515\n",
      "419    0.069172\n",
      "420    0.062200\n",
      "Length: 421, dtype: float64, 'order': (3, 1, 2), 'seasonal_order': (0, 0, 0, 0), 'oob': nan, 'aic': -659.6543558963667, 'aicc': -659.3831694556887, 'bic': -631.3725729174248, 'bse': intercept    0.000190\n",
      "ar.L1        0.140985\n",
      "ar.L2        0.066793\n",
      "ar.L3        0.070425\n",
      "ma.L1        0.133197\n",
      "ma.L2        0.132341\n",
      "sigma2       0.000774\n",
      "dtype: float64, 'params': intercept    0.000784\n",
      "ar.L1       -0.433639\n",
      "ar.L2        0.655600\n",
      "ar.L3        0.184673\n",
      "ma.L1       -0.101969\n",
      "ma.L2       -0.876667\n",
      "sigma2       0.011670\n",
      "dtype: float64}\n"
     ]
    },
    {
     "data": {
      "application/vnd.plotly.v1+json": {
       "config": {
        "plotlyServerURL": "https://plot.ly"
       },
       "data": [
        {
         "name": "Differences",
         "type": "scatter",
         "x": [
          0,
          1,
          2,
          3,
          4,
          5,
          6,
          7,
          8,
          9,
          10,
          11,
          12,
          13,
          14,
          15,
          16,
          17,
          18,
          19,
          20,
          21,
          22,
          23,
          24,
          25,
          26,
          27,
          28,
          29,
          30,
          31,
          32,
          33,
          34,
          35,
          36,
          37,
          38,
          39,
          40,
          41,
          42,
          43,
          44,
          45,
          46,
          47,
          48,
          49,
          50,
          51,
          52,
          53,
          54,
          55,
          56,
          57,
          58,
          59,
          60,
          61,
          62,
          63,
          64,
          65,
          66,
          67,
          68,
          69,
          70,
          71,
          72,
          73,
          74,
          75,
          76,
          77,
          78,
          79,
          80,
          81,
          82,
          83,
          84,
          85,
          86,
          87,
          88,
          89,
          90,
          91,
          92,
          93,
          94,
          95,
          96,
          97,
          98,
          99,
          100,
          101,
          102,
          103,
          104,
          105,
          106,
          107,
          108,
          109,
          110,
          111,
          112,
          113,
          114,
          115,
          116,
          117,
          118,
          119,
          120,
          121,
          122,
          123,
          124,
          125,
          126,
          127,
          128,
          129,
          130,
          131,
          132,
          133,
          134,
          135,
          136,
          137,
          138,
          139,
          140,
          141,
          142,
          143,
          144,
          145,
          146,
          147,
          148,
          149,
          150,
          151,
          152,
          153,
          154,
          155,
          156,
          157,
          158,
          159,
          160,
          161,
          162,
          163,
          164,
          165,
          166,
          167,
          168,
          169,
          170,
          171,
          172,
          173,
          174,
          175,
          176,
          177,
          178,
          179,
          180,
          181,
          182,
          183,
          184,
          185,
          186,
          187,
          188,
          189,
          190,
          191,
          192,
          193,
          194,
          195,
          196,
          197,
          198,
          199,
          200,
          201,
          202,
          203,
          204,
          205,
          206,
          207,
          208,
          209,
          210,
          211,
          212,
          213,
          214,
          215,
          216,
          217,
          218,
          219,
          220,
          221,
          222,
          223,
          224,
          225,
          226,
          227,
          228,
          229,
          230,
          231,
          232,
          233,
          234,
          235,
          236,
          237,
          238,
          239,
          240,
          241,
          242,
          243,
          244,
          245,
          246,
          247,
          248,
          249,
          250,
          251,
          252,
          253,
          254,
          255,
          256,
          257,
          258,
          259,
          260,
          261,
          262,
          263,
          264,
          265,
          266,
          267,
          268,
          269,
          270,
          271,
          272,
          273,
          274,
          275,
          276,
          277,
          278,
          279,
          280,
          281,
          282,
          283,
          284,
          285,
          286,
          287,
          288,
          289,
          290,
          291,
          292,
          293,
          294,
          295,
          296,
          297,
          298,
          299,
          300,
          301,
          302,
          303,
          304,
          305,
          306,
          307,
          308,
          309,
          310,
          311,
          312,
          313,
          314,
          315,
          316,
          317,
          318,
          319,
          320,
          321,
          322,
          323,
          324,
          325,
          326,
          327,
          328,
          329,
          330,
          331,
          332,
          333,
          334,
          335,
          336,
          337,
          338,
          339,
          340,
          341,
          342,
          343,
          344,
          345,
          346,
          347,
          348,
          349,
          350,
          351,
          352,
          353,
          354,
          355,
          356,
          357,
          358,
          359,
          360,
          361,
          362,
          363,
          364,
          365,
          366,
          367,
          368,
          369,
          370,
          371,
          372,
          373,
          374,
          375,
          376,
          377,
          378,
          379,
          380,
          381,
          382,
          383,
          384,
          385,
          386,
          387,
          388,
          389,
          390,
          391,
          392,
          393,
          394,
          395,
          396,
          397,
          398,
          399,
          400,
          401,
          402,
          403,
          404,
          405,
          406,
          407,
          408,
          409,
          410,
          411,
          412,
          413,
          414,
          415,
          416,
          417,
          418,
          419
         ],
         "xaxis": "x",
         "y": [
          0.0013215377134735973,
          -0.04711025394665108,
          0.05002803561593733,
          -0.010021823928592022,
          0.002842402516298137,
          0.07900665983773261,
          -0.019662375317030245,
          0.03094704623725031,
          0.02921389278520939,
          0.030380070728759895,
          -0.025961304276530872,
          0.049165703811994504,
          -0.15605951508359434,
          0.02593849049321667,
          -0.07121568582873422,
          0.057122633913309906,
          0.022889170967095362,
          0.004390458678213971,
          -0.024194276285783023,
          0.006037674429662632,
          0.07957498369708418,
          0.06786731955025638,
          0.007756656535907264,
          -0.06122856753238376,
          0.13839628170166,
          0.03122750104669081,
          0.1319284078205559,
          0.02136650680065587,
          0.03480953334428977,
          0.08705691555994687,
          0.030273623762542362,
          0.06752304835233904,
          0.021392270438040067,
          0.04756018804191589,
          0.03525325198160412,
          -0.11200130914477663,
          -0.08416683110773698,
          -0.006059308135465291,
          -0.041272316166852396,
          0.028274660111500094,
          -0.029680109024323165,
          0.07899127610767898,
          0.04304308338642571,
          -0.030605208550873453,
          -0.04396870645383433,
          0.10181869883084835,
          -0.043299014204882136,
          0.07922052464338711,
          -0.042548759400842406,
          0.08241388108790879,
          -0.040005806053827725,
          0.1297639494485196,
          -0.08665839683019799,
          0.16625217679598514,
          -0.013996842244834773,
          0.07009473399721591,
          -0.00686571734212249,
          0.07498625749953858,
          0.08009970208674558,
          0.14104521869495207,
          -0.057660431486310254,
          0.18442738427590996,
          -0.045489969944552414,
          0.08941433866005936,
          -0.006617628729439967,
          0.05403998057492837,
          0.10145736452782826,
          0.014932492274359305,
          0.032150712890792355,
          0.06271450071068489,
          0.05019316593978901,
          0.02732051823279516,
          -0.0491281157589849,
          -0.04944964049779221,
          0.014366447959767825,
          0.013315168669097655,
          0.002682155119617169,
          0.08156117872935487,
          0.036266961488479355,
          0.05285613171701686,
          0.09487163379341056,
          0.012375418325093451,
          0.056221944061461235,
          0.01922690392377957,
          -0.07110486257131554,
          -0.07707258590049804,
          0.10056491423521471,
          -0.01212862440914203,
          0.007980066403015518,
          -0.05373844040543452,
          -0.0690028352328882,
          0.03948679564822738,
          -0.056421108528753705,
          0.009714002189196103,
          0.025358578973149026,
          -0.10309639680620741,
          -0.10169809484827741,
          -0.0007818892208684702,
          -0.07425409760427543,
          -0.029002442893788838,
          -0.04003337100948773,
          -0.023107739304674024,
          0.003339248157833985,
          -0.0661383689179853,
          -0.01860818598303282,
          -0.019182364567745858,
          0.12368691794008985,
          -0.06016441848630549,
          0.10313049805101962,
          -0.06467459393294217,
          0.004263641791761086,
          -0.006477493691985969,
          0.09773613466240202,
          0.04520467948867765,
          -0.03575744231108691,
          -0.019356817492807155,
          -0.007108044119706891,
          0.011329625539519828,
          0.06729891604845359,
          -0.053058790572601155,
          -0.022498361383179066,
          -0.027179409940255916,
          -0.20127748085505226,
          -0.008045616563329805,
          -0.01733477058002364,
          0.015763134998531658,
          -0.04389175558777764,
          0.05701125461184131,
          0.009988854886614273,
          -0.043626806700764076,
          -0.039521401154452185,
          -0.0026236059625788233,
          -0.01974537821360922,
          -0.05901053711672599,
          0.037910264126042204,
          -0.08830897891624989,
          0.034779318573639195,
          -0.0910231625974881,
          -0.02080876145943228,
          0.00139126818890134,
          -0.04579594428551237,
          0.059386336886190605,
          0.02646182185199153,
          0.013747821406085547,
          -0.04508062250460715,
          0.0015559233404445205,
          -0.036520466385192685,
          0.1049147471190987,
          -0.0034421530678950263,
          0.07502991559250716,
          0.09662557758909551,
          0.10183527123551256,
          0.13020632352157951,
          0.06400625820915422,
          0.12012671389371268,
          0.00664190592164246,
          -0.026174621491762307,
          -0.006594484939608847,
          0.01652330545053088,
          0.04979906694362507,
          0.04312274704722374,
          0.04913369223887548,
          0.02286902871164781,
          0.11390684932265924,
          0.08356855878522516,
          0.016220352876604838,
          0.13425567567493024,
          0.02592865936934105,
          0.00431699660221746,
          0.160977035327686,
          -0.01913361658207563,
          -0.036944689671429276,
          0.05201194173554302,
          -0.04169938903846804,
          0.04479522219038118,
          0.0630452387312905,
          -0.00032701362835674264,
          -0.03401307514821167,
          -0.029824533530667496,
          0.03110926709940276,
          -0.06766647088925037,
          -0.1727342222275825,
          0.06146017801751996,
          -0.03454163872242566,
          0.08397995511186584,
          -0.06316206864607776,
          -0.022021070261616538,
          -0.030742803559973886,
          0.06290009445182015,
          -0.07099490481753223,
          0.011125936647346513,
          0.056530802583800666,
          0.05808579318387658,
          -0.08797031754980345,
          0.07206735649608875,
          -0.012589188347777447,
          0.06711584537068749,
          0.0376968332533692,
          0.0017580688457580207,
          -0.057871888887374434,
          0.10618592640308427,
          0.06910024598744718,
          -0.042069015553710454,
          0.0008991053695540652,
          0.049672983196933196,
          0.0010364853852391498,
          -0.059495978767968416,
          0.044847651209803885,
          0.006474829059997078,
          -0.07298086266228593,
          0.07261822616159219,
          -0.02489573385867,
          -0.062316143748389174,
          -0.08416553667119775,
          -0.06678364628527222,
          -0.03730700281247368,
          -0.049957935733130565,
          -0.20557960388848084,
          0.018409709550184394,
          -0.06968506646563233,
          -0.07973014170072046,
          -0.11952166267541586,
          -0.04633200780525404,
          -0.06424340780306692,
          0.07049230846628068,
          -0.013778178525874485,
          -0.0017871902389259287,
          -0.04654068700527314,
          0.029598937847458373,
          -0.10462924601066748,
          0.13288401095069685,
          0.026558589166965796,
          0.06623235739775346,
          0.011601434347033979,
          0.027917552185880157,
          0.049831592483237985,
          0.004992342298524521,
          0.01215853022587382,
          0.02837493868483837,
          -0.004877860708434378,
          0.12157906029922477,
          -0.11088725023188617,
          -0.022302371440678592,
          -0.03866088039890503,
          0.08494928121098078,
          -0.0057280640326173304,
          0.041449874768083095,
          0.006438228947355684,
          0.03722723770752834,
          0.07854315679295121,
          0.04467412602962256,
          0.06460887275009969,
          -0.012218998175127282,
          0.0071363233852321795,
          -0.05203167545531662,
          0.011042123371890256,
          -0.045769103829581215,
          0.0006699205984551648,
          -0.04963491807263076,
          0.039931337112315335,
          -0.038543229519427236,
          0.01565055816676275,
          -0.1060410258963731,
          0.036858872335081005,
          -0.12913447956698654,
          -0.05732775347986507,
          -0.16387144708073997,
          0.07925525836275382,
          -0.07164126619203592,
          0.04545742534226427,
          -0.0629902417184871,
          0.03370622717721117,
          -0.07431016102331667,
          0.03057285006779653,
          -0.03580366441930005,
          0.09043261057589896,
          -0.14299706752652663,
          0.06602911480274276,
          -0.03336453428761321,
          0.028316208788542352,
          -0.054954019847780256,
          0.07046409408145271,
          -0.03068014185278345,
          -0.036755126422030604,
          -0.04309203876370349,
          -0.06371765672008967,
          0.04373466382726299,
          -0.09690205792689988,
          0.03379521332069835,
          -0.07268736837934586,
          0.00441832766134842,
          -0.01414082255096849,
          0.10182622917302081,
          0.033928010467473846,
          0.14541259746021312,
          -0.016985335967491966,
          0.010287856879532598,
          -0.06527913319196066,
          -0.04294952067123414,
          0.05704074522655356,
          -0.0828796185327425,
          0.03617722635927301,
          -0.05921707308139823,
          -0.023707975515896873,
          -0.01180787697308161,
          -0.023073032220951695,
          -0.01837158776391612,
          0.0006558418601558813,
          -0.09080823680215189,
          -0.05730878722277921,
          -0.039962220381272506,
          0.0018529314025363952,
          0.035152525832678694,
          -0.054092577857868696,
          0.014526259545906695,
          0.06395314026648768,
          0.05191669313108249,
          -0.046284752438079946,
          0.0520180954989381,
          -0.07739510666807292,
          0.02308549281032779,
          -0.04056507810480925,
          -0.025008211121804957,
          -0.06150501452458956,
          -0.13468617382063774,
          0.03962109683251214,
          -0.020686974152837823,
          -0.04674180438219977,
          0.012823365963075983,
          0.04029440258969097,
          -0.002015080612222553,
          0.021152137877831656,
          -0.008441552514790396,
          0.027354782139899725,
          0.028470112093484046,
          0.06440450663686859,
          0.1814990612399034,
          0.05602698276177648,
          -0.10710445284261583,
          0.08646895508740626,
          0.038959534312607125,
          0.06411488419558786,
          -0.019858035676736052,
          0.10859496978863109,
          -0.06049771858781117,
          0.0031341376843593283,
          -0.012216049408684926,
          0.07246234964593679,
          -0.02070425374723872,
          0.07055643358137986,
          0.024497038088269862,
          0.005667295793946869,
          -0.016271382758639152,
          0.010024771728294746,
          -0.04256339239407969,
          0.0218943807833889,
          -0.02953035291244599,
          0.02918036796925194,
          -0.07110630811746876,
          0.04356902184668987,
          -0.049422781404736105,
          -0.03268582388157304,
          -0.11713942460305649,
          -0.03474929232442914,
          -0.0042709835467469315,
          0.04609553821949586,
          0.014608281643770038,
          0.0107230298163834,
          0.025782850646236755,
          -0.026364058882296537,
          -0.05164277746775214,
          0.1338694374220215,
          0.039541742029674976,
          0.05163913768693351,
          -0.018929921156143337,
          0.01814449759203174,
          0.06841505262878478,
          0.0199049166626587,
          -0.047618516213281614,
          -0.006489980019596664,
          0.07528403684006713,
          -0.01320850676300056,
          0.06549574043489725,
          0.04716895841850777,
          0.09181393847287661,
          0.049420972509252814,
          0.01670316379466985,
          -0.02745928821536603,
          -0.03256161082941755,
          0.05321565608172785,
          0.04832126056740227,
          0.005426255359069376,
          -0.048427299092874354,
          -0.027766992050733075,
          -0.008847268670483466,
          0.10369837534237825,
          -0.033644844324510204,
          0.08410307122098137,
          -0.022612525223037916,
          0.0988687634707821,
          -0.005899410951988426,
          0.01968301112955506,
          0.03753371165084429,
          0.005025211705468879,
          -0.05662667253217468,
          0.0340193278658657,
          -0.0676056728801897,
          0.05555055195602565,
          -0.03184543016121477,
          0.1249514150077532,
          -0.09393544188746195,
          -0.0027149341211760714,
          -0.08424284180162889,
          0.08424220189715637,
          0.046770386023381794,
          -0.07338163921553587,
          -0.08043205749439108,
          -0.016485121464900443,
          0.05082755945851258,
          -0.042199580572019224
         ],
         "yaxis": "y"
        }
       ],
       "layout": {
        "annotations": [
         {
          "font": {
           "size": 16
          },
          "showarrow": false,
          "text": "Difference Plot",
          "x": 0.5,
          "xanchor": "center",
          "xref": "paper",
          "y": 1,
          "yanchor": "bottom",
          "yref": "paper"
         }
        ],
        "template": {
         "data": {
          "bar": [
           {
            "error_x": {
             "color": "#2a3f5f"
            },
            "error_y": {
             "color": "#2a3f5f"
            },
            "marker": {
             "line": {
              "color": "#E5ECF6",
              "width": 0.5
             },
             "pattern": {
              "fillmode": "overlay",
              "size": 10,
              "solidity": 0.2
             }
            },
            "type": "bar"
           }
          ],
          "barpolar": [
           {
            "marker": {
             "line": {
              "color": "#E5ECF6",
              "width": 0.5
             },
             "pattern": {
              "fillmode": "overlay",
              "size": 10,
              "solidity": 0.2
             }
            },
            "type": "barpolar"
           }
          ],
          "carpet": [
           {
            "aaxis": {
             "endlinecolor": "#2a3f5f",
             "gridcolor": "white",
             "linecolor": "white",
             "minorgridcolor": "white",
             "startlinecolor": "#2a3f5f"
            },
            "baxis": {
             "endlinecolor": "#2a3f5f",
             "gridcolor": "white",
             "linecolor": "white",
             "minorgridcolor": "white",
             "startlinecolor": "#2a3f5f"
            },
            "type": "carpet"
           }
          ],
          "choropleth": [
           {
            "colorbar": {
             "outlinewidth": 0,
             "ticks": ""
            },
            "type": "choropleth"
           }
          ],
          "contour": [
           {
            "colorbar": {
             "outlinewidth": 0,
             "ticks": ""
            },
            "colorscale": [
             [
              0,
              "#0d0887"
             ],
             [
              0.1111111111111111,
              "#46039f"
             ],
             [
              0.2222222222222222,
              "#7201a8"
             ],
             [
              0.3333333333333333,
              "#9c179e"
             ],
             [
              0.4444444444444444,
              "#bd3786"
             ],
             [
              0.5555555555555556,
              "#d8576b"
             ],
             [
              0.6666666666666666,
              "#ed7953"
             ],
             [
              0.7777777777777778,
              "#fb9f3a"
             ],
             [
              0.8888888888888888,
              "#fdca26"
             ],
             [
              1,
              "#f0f921"
             ]
            ],
            "type": "contour"
           }
          ],
          "contourcarpet": [
           {
            "colorbar": {
             "outlinewidth": 0,
             "ticks": ""
            },
            "type": "contourcarpet"
           }
          ],
          "heatmap": [
           {
            "colorbar": {
             "outlinewidth": 0,
             "ticks": ""
            },
            "colorscale": [
             [
              0,
              "#0d0887"
             ],
             [
              0.1111111111111111,
              "#46039f"
             ],
             [
              0.2222222222222222,
              "#7201a8"
             ],
             [
              0.3333333333333333,
              "#9c179e"
             ],
             [
              0.4444444444444444,
              "#bd3786"
             ],
             [
              0.5555555555555556,
              "#d8576b"
             ],
             [
              0.6666666666666666,
              "#ed7953"
             ],
             [
              0.7777777777777778,
              "#fb9f3a"
             ],
             [
              0.8888888888888888,
              "#fdca26"
             ],
             [
              1,
              "#f0f921"
             ]
            ],
            "type": "heatmap"
           }
          ],
          "heatmapgl": [
           {
            "colorbar": {
             "outlinewidth": 0,
             "ticks": ""
            },
            "colorscale": [
             [
              0,
              "#0d0887"
             ],
             [
              0.1111111111111111,
              "#46039f"
             ],
             [
              0.2222222222222222,
              "#7201a8"
             ],
             [
              0.3333333333333333,
              "#9c179e"
             ],
             [
              0.4444444444444444,
              "#bd3786"
             ],
             [
              0.5555555555555556,
              "#d8576b"
             ],
             [
              0.6666666666666666,
              "#ed7953"
             ],
             [
              0.7777777777777778,
              "#fb9f3a"
             ],
             [
              0.8888888888888888,
              "#fdca26"
             ],
             [
              1,
              "#f0f921"
             ]
            ],
            "type": "heatmapgl"
           }
          ],
          "histogram": [
           {
            "marker": {
             "pattern": {
              "fillmode": "overlay",
              "size": 10,
              "solidity": 0.2
             }
            },
            "type": "histogram"
           }
          ],
          "histogram2d": [
           {
            "colorbar": {
             "outlinewidth": 0,
             "ticks": ""
            },
            "colorscale": [
             [
              0,
              "#0d0887"
             ],
             [
              0.1111111111111111,
              "#46039f"
             ],
             [
              0.2222222222222222,
              "#7201a8"
             ],
             [
              0.3333333333333333,
              "#9c179e"
             ],
             [
              0.4444444444444444,
              "#bd3786"
             ],
             [
              0.5555555555555556,
              "#d8576b"
             ],
             [
              0.6666666666666666,
              "#ed7953"
             ],
             [
              0.7777777777777778,
              "#fb9f3a"
             ],
             [
              0.8888888888888888,
              "#fdca26"
             ],
             [
              1,
              "#f0f921"
             ]
            ],
            "type": "histogram2d"
           }
          ],
          "histogram2dcontour": [
           {
            "colorbar": {
             "outlinewidth": 0,
             "ticks": ""
            },
            "colorscale": [
             [
              0,
              "#0d0887"
             ],
             [
              0.1111111111111111,
              "#46039f"
             ],
             [
              0.2222222222222222,
              "#7201a8"
             ],
             [
              0.3333333333333333,
              "#9c179e"
             ],
             [
              0.4444444444444444,
              "#bd3786"
             ],
             [
              0.5555555555555556,
              "#d8576b"
             ],
             [
              0.6666666666666666,
              "#ed7953"
             ],
             [
              0.7777777777777778,
              "#fb9f3a"
             ],
             [
              0.8888888888888888,
              "#fdca26"
             ],
             [
              1,
              "#f0f921"
             ]
            ],
            "type": "histogram2dcontour"
           }
          ],
          "mesh3d": [
           {
            "colorbar": {
             "outlinewidth": 0,
             "ticks": ""
            },
            "type": "mesh3d"
           }
          ],
          "parcoords": [
           {
            "line": {
             "colorbar": {
              "outlinewidth": 0,
              "ticks": ""
             }
            },
            "type": "parcoords"
           }
          ],
          "pie": [
           {
            "automargin": true,
            "type": "pie"
           }
          ],
          "scatter": [
           {
            "fillpattern": {
             "fillmode": "overlay",
             "size": 10,
             "solidity": 0.2
            },
            "type": "scatter"
           }
          ],
          "scatter3d": [
           {
            "line": {
             "colorbar": {
              "outlinewidth": 0,
              "ticks": ""
             }
            },
            "marker": {
             "colorbar": {
              "outlinewidth": 0,
              "ticks": ""
             }
            },
            "type": "scatter3d"
           }
          ],
          "scattercarpet": [
           {
            "marker": {
             "colorbar": {
              "outlinewidth": 0,
              "ticks": ""
             }
            },
            "type": "scattercarpet"
           }
          ],
          "scattergeo": [
           {
            "marker": {
             "colorbar": {
              "outlinewidth": 0,
              "ticks": ""
             }
            },
            "type": "scattergeo"
           }
          ],
          "scattergl": [
           {
            "marker": {
             "colorbar": {
              "outlinewidth": 0,
              "ticks": ""
             }
            },
            "type": "scattergl"
           }
          ],
          "scattermapbox": [
           {
            "marker": {
             "colorbar": {
              "outlinewidth": 0,
              "ticks": ""
             }
            },
            "type": "scattermapbox"
           }
          ],
          "scatterpolar": [
           {
            "marker": {
             "colorbar": {
              "outlinewidth": 0,
              "ticks": ""
             }
            },
            "type": "scatterpolar"
           }
          ],
          "scatterpolargl": [
           {
            "marker": {
             "colorbar": {
              "outlinewidth": 0,
              "ticks": ""
             }
            },
            "type": "scatterpolargl"
           }
          ],
          "scatterternary": [
           {
            "marker": {
             "colorbar": {
              "outlinewidth": 0,
              "ticks": ""
             }
            },
            "type": "scatterternary"
           }
          ],
          "surface": [
           {
            "colorbar": {
             "outlinewidth": 0,
             "ticks": ""
            },
            "colorscale": [
             [
              0,
              "#0d0887"
             ],
             [
              0.1111111111111111,
              "#46039f"
             ],
             [
              0.2222222222222222,
              "#7201a8"
             ],
             [
              0.3333333333333333,
              "#9c179e"
             ],
             [
              0.4444444444444444,
              "#bd3786"
             ],
             [
              0.5555555555555556,
              "#d8576b"
             ],
             [
              0.6666666666666666,
              "#ed7953"
             ],
             [
              0.7777777777777778,
              "#fb9f3a"
             ],
             [
              0.8888888888888888,
              "#fdca26"
             ],
             [
              1,
              "#f0f921"
             ]
            ],
            "type": "surface"
           }
          ],
          "table": [
           {
            "cells": {
             "fill": {
              "color": "#EBF0F8"
             },
             "line": {
              "color": "white"
             }
            },
            "header": {
             "fill": {
              "color": "#C8D4E3"
             },
             "line": {
              "color": "white"
             }
            },
            "type": "table"
           }
          ]
         },
         "layout": {
          "annotationdefaults": {
           "arrowcolor": "#2a3f5f",
           "arrowhead": 0,
           "arrowwidth": 1
          },
          "autotypenumbers": "strict",
          "coloraxis": {
           "colorbar": {
            "outlinewidth": 0,
            "ticks": ""
           }
          },
          "colorscale": {
           "diverging": [
            [
             0,
             "#8e0152"
            ],
            [
             0.1,
             "#c51b7d"
            ],
            [
             0.2,
             "#de77ae"
            ],
            [
             0.3,
             "#f1b6da"
            ],
            [
             0.4,
             "#fde0ef"
            ],
            [
             0.5,
             "#f7f7f7"
            ],
            [
             0.6,
             "#e6f5d0"
            ],
            [
             0.7,
             "#b8e186"
            ],
            [
             0.8,
             "#7fbc41"
            ],
            [
             0.9,
             "#4d9221"
            ],
            [
             1,
             "#276419"
            ]
           ],
           "sequential": [
            [
             0,
             "#0d0887"
            ],
            [
             0.1111111111111111,
             "#46039f"
            ],
            [
             0.2222222222222222,
             "#7201a8"
            ],
            [
             0.3333333333333333,
             "#9c179e"
            ],
            [
             0.4444444444444444,
             "#bd3786"
            ],
            [
             0.5555555555555556,
             "#d8576b"
            ],
            [
             0.6666666666666666,
             "#ed7953"
            ],
            [
             0.7777777777777778,
             "#fb9f3a"
            ],
            [
             0.8888888888888888,
             "#fdca26"
            ],
            [
             1,
             "#f0f921"
            ]
           ],
           "sequentialminus": [
            [
             0,
             "#0d0887"
            ],
            [
             0.1111111111111111,
             "#46039f"
            ],
            [
             0.2222222222222222,
             "#7201a8"
            ],
            [
             0.3333333333333333,
             "#9c179e"
            ],
            [
             0.4444444444444444,
             "#bd3786"
            ],
            [
             0.5555555555555556,
             "#d8576b"
            ],
            [
             0.6666666666666666,
             "#ed7953"
            ],
            [
             0.7777777777777778,
             "#fb9f3a"
            ],
            [
             0.8888888888888888,
             "#fdca26"
            ],
            [
             1,
             "#f0f921"
            ]
           ]
          },
          "colorway": [
           "#636efa",
           "#EF553B",
           "#00cc96",
           "#ab63fa",
           "#FFA15A",
           "#19d3f3",
           "#FF6692",
           "#B6E880",
           "#FF97FF",
           "#FECB52"
          ],
          "font": {
           "color": "#2a3f5f"
          },
          "geo": {
           "bgcolor": "white",
           "lakecolor": "white",
           "landcolor": "#E5ECF6",
           "showlakes": true,
           "showland": true,
           "subunitcolor": "white"
          },
          "hoverlabel": {
           "align": "left"
          },
          "hovermode": "closest",
          "mapbox": {
           "style": "light"
          },
          "paper_bgcolor": "white",
          "plot_bgcolor": "#E5ECF6",
          "polar": {
           "angularaxis": {
            "gridcolor": "white",
            "linecolor": "white",
            "ticks": ""
           },
           "bgcolor": "#E5ECF6",
           "radialaxis": {
            "gridcolor": "white",
            "linecolor": "white",
            "ticks": ""
           }
          },
          "scene": {
           "xaxis": {
            "backgroundcolor": "#E5ECF6",
            "gridcolor": "white",
            "gridwidth": 2,
            "linecolor": "white",
            "showbackground": true,
            "ticks": "",
            "zerolinecolor": "white"
           },
           "yaxis": {
            "backgroundcolor": "#E5ECF6",
            "gridcolor": "white",
            "gridwidth": 2,
            "linecolor": "white",
            "showbackground": true,
            "ticks": "",
            "zerolinecolor": "white"
           },
           "zaxis": {
            "backgroundcolor": "#E5ECF6",
            "gridcolor": "white",
            "gridwidth": 2,
            "linecolor": "white",
            "showbackground": true,
            "ticks": "",
            "zerolinecolor": "white"
           }
          },
          "shapedefaults": {
           "line": {
            "color": "#2a3f5f"
           }
          },
          "ternary": {
           "aaxis": {
            "gridcolor": "white",
            "linecolor": "white",
            "ticks": ""
           },
           "baxis": {
            "gridcolor": "white",
            "linecolor": "white",
            "ticks": ""
           },
           "bgcolor": "#E5ECF6",
           "caxis": {
            "gridcolor": "white",
            "linecolor": "white",
            "ticks": ""
           }
          },
          "title": {
           "x": 0.05
          },
          "xaxis": {
           "automargin": true,
           "gridcolor": "white",
           "linecolor": "white",
           "ticks": "",
           "title": {
            "standoff": 15
           },
           "zerolinecolor": "white",
           "zerolinewidth": 2
          },
          "yaxis": {
           "automargin": true,
           "gridcolor": "white",
           "linecolor": "white",
           "ticks": "",
           "title": {
            "standoff": 15
           },
           "zerolinecolor": "white",
           "zerolinewidth": 2
          }
         }
        },
        "xaxis": {
         "anchor": "y",
         "domain": [
          0,
          1
         ]
        },
        "yaxis": {
         "anchor": "x",
         "domain": [
          0,
          1
         ]
        }
       }
      }
     },
     "metadata": {},
     "output_type": "display_data"
    },
    {
     "name": "stdout",
     "output_type": "stream",
     "text": [
      "RMSE: 1.2814274171901257\n"
     ]
    },
    {
     "data": {
      "image/png": "[encoded data removed]",
      "text/plain": [
       "<Figure size 640x480 with 1 Axes>"
      ]
     },
     "metadata": {},
     "output_type": "display_data"
    },
    {
     "data": {
      "image/png": "[encoded data removed]",
      "text/plain": [
       "<Figure size 500x500 with 1 Axes>"
      ]
     },
     "metadata": {},
     "output_type": "display_data"
    }
   ],
   "source": [
    "fit1 = auto_arima(testtemp['Mean'], d=1, D=12)\n",
    "\n",
    "print(fit1.summary())\n",
    "\n",
    "print(fit1.predict_in_sample())\n",
    "print(fit1.to_dict())\n",
    "#print(fit1.resid())\n",
    "\n",
    "newlis = list(fit1.predict_in_sample())\n",
    "newlis.extend(list(fit1.predict(n_periods = 24)))\n",
    "newlis.pop(0)\n",
    "\n",
    "xlist = [i for i in range(444)]\n",
    "\n",
    "plt.plot(xlist, temp['Mean'])\n",
    "plt.plot(xlist, newlis)\n",
    "\n",
    "fig2 = make_subplots(rows=1, cols=1, subplot_titles=[\"Difference Plot\"])\n",
    "\n",
    "ydiff = np.asarray(newlis[:420]) - np.asarray(temp['Mean'][:420])\n",
    "fig2.add_trace(go.Scatter(x = np.asarray(xlist[:420]), y = ydiff,\n",
    "                    name='Differences'), row=1, col=1)\n",
    "\n",
    "fig2.show()\n",
    "\n",
    "sns.displot(ydiff)\n",
    "\n",
    "print(\"RMSE: \" + str(np.sqrt(sum(ydiff ** 2))))"
   ]
  },
  {
   "cell_type": "markdown",
   "metadata": {},
   "source": [
    "Symbolic Regression"
   ]
  },
  {
   "cell_type": "code",
   "execution_count": 5,
   "metadata": {},
   "outputs": [
    {
     "data": {
      "text/plain": [
       "SymbolicRegressor(function_set=('add', 'sub', 'mul', 'div', 'sin', 'cos'),\n",
       "                  parsimony_coefficient=0.01, population_size=100000)"
      ]
     },
     "execution_count": 5,
     "metadata": {},
     "output_type": "execute_result"
    }
   ],
   "source": [
    "regress = SymbolicRegressor(population_size=100000,parsimony_coefficient=0.01,\n",
    "                           function_set=('add', 'sub', 'mul', 'div', 'sin', 'cos'))\n",
    "\n",
    "regress.fit(np.array([i for i in range(421)]).reshape(-1, 1), np.array(testtemp['Mean']))"
   ]
  },
  {
   "cell_type": "markdown",
   "metadata": {},
   "source": [
    "Symbolic Regression Analysis"
   ]
  },
  {
   "cell_type": "code",
   "execution_count": 16,
   "metadata": {},
   "outputs": [
    {
     "name": "stdout",
     "output_type": "stream",
     "text": [
      "mul(sub(add(cos(0.334), add(0.084, X0)), sin(add(X0, X0))), 0.002)\n",
      "[ 0.3   0.42  0.29  0.32  0.34  0.16  0.28  0.24  0.21  0.2   0.3   0.21\n",
      "  0.56  0.41  0.48  0.32  0.25  0.31  0.35  0.35  0.17  0.13  0.21  0.4\n",
      "  0.09  0.14 -0.01  0.1   0.16  0.05  0.13  0.08  0.15  0.13  0.14  0.43\n",
      "  0.52  0.4   0.42  0.3   0.35  0.18  0.15  0.3   0.38  0.15  0.3   0.17\n",
      "  0.3   0.17  0.29  0.08  0.33  0.04  0.16  0.15  0.2   0.15  0.04 -0.06\n",
      "  0.21 -0.06  0.17  0.11  0.17  0.17  0.    0.15  0.14  0.11  0.09  0.15\n",
      "  0.3   0.39  0.29  0.26  0.26  0.12  0.13  0.12  0.02  0.14  0.11  0.16\n",
      "  0.36  0.46  0.17  0.24  0.26  0.36  0.46  0.28  0.39  0.32  0.25  0.47\n",
      "  0.57  0.42  0.49  0.45  0.44  0.42  0.35  0.46  0.42  0.4   0.13  0.34\n",
      "  0.16  0.35  0.36  0.33  0.17  0.15  0.34  0.36  0.37  0.32  0.21  0.37\n",
      "  0.41  0.41  0.76  0.55  0.46  0.38  0.44  0.3   0.3   0.43  0.46  0.42\n",
      "  0.42  0.51  0.36  0.53  0.39  0.54  0.51  0.42  0.5   0.32  0.31  0.33\n",
      "  0.45  0.42  0.47  0.24  0.32  0.24  0.13  0.1   0.01  0.11  0.04  0.22\n",
      "  0.37  0.39  0.36  0.28  0.26  0.24  0.28  0.13  0.11  0.24  0.07  0.19\n",
      "  0.3   0.04  0.26  0.41  0.29  0.42  0.32  0.23  0.32  0.42  0.46  0.36\n",
      "  0.5   0.77  0.45  0.47  0.29  0.45  0.49  0.48  0.34  0.49  0.45  0.3\n",
      "  0.27  0.5   0.34  0.38  0.3   0.27  0.37  0.49  0.27  0.2   0.42  0.41\n",
      "  0.33  0.37  0.52  0.38  0.39  0.55  0.35  0.43  0.56  0.64  0.66  0.6\n",
      "  0.61  0.9   0.63  0.64  0.71  0.78  0.71  0.68  0.45  0.47  0.5   0.56\n",
      "  0.48  0.66  0.34  0.34  0.33  0.37  0.41  0.34  0.43  0.43  0.42  0.46\n",
      "  0.26  0.58  0.6   0.59  0.4   0.44  0.42  0.43  0.42  0.3   0.34  0.3\n",
      "  0.44  0.46  0.58  0.52  0.59  0.55  0.61  0.49  0.56  0.52  0.7   0.55\n",
      "  0.75  0.76  0.91  0.58  0.65  0.54  0.62  0.55  0.65  0.57  0.59  0.43\n",
      "  0.73  0.55  0.57  0.55  0.62  0.49  0.55  0.66  0.66  0.75  0.55  0.75\n",
      "  0.59  0.71  0.64  0.62  0.42  0.43  0.26  0.45  0.53  0.66  0.72  0.52\n",
      "  0.72  0.58  0.69  0.69  0.65  0.67  0.66  0.63  0.78  0.8   0.76  0.68\n",
      "  0.57  0.7   0.63  0.5   0.47  0.64  0.54  0.72  0.64  0.69  0.72  0.77\n",
      "  0.96  0.7   0.7   0.76  0.67  0.58  0.62  0.6   0.64  0.6   0.57  0.5\n",
      "  0.24  0.36  0.73  0.53  0.51  0.48  0.6   0.44  0.65  0.67  0.66  0.54\n",
      "  0.62  0.53  0.53  0.61  0.65  0.65  0.72  0.66  0.7   0.64  0.77  0.65\n",
      "  0.73  0.78  0.92  0.87  0.75  0.64  0.62  0.65  0.61  0.71  0.79  0.49\n",
      "  0.51  0.53  0.64  0.65  0.53  0.59  0.73  0.73  0.56  0.66  0.56  0.54\n",
      "  0.46  0.49  0.58  0.69  0.76  0.62  0.57  0.63  0.76  0.78  0.75  0.53\n",
      "  0.68  0.55  0.66  0.52  0.61  0.65  0.59  0.66  0.78  0.69  0.81  0.67\n",
      "  0.73  0.51  0.77  0.78  0.87  0.66  0.57  0.82  0.9   0.85  0.67  0.79\n",
      "  0.81]\n",
      "[0.00190295 0.00207078 0.00700418 0.00797123 0.00747389 0.0121617\n",
      " 0.01399834 0.01302283 0.01723903 0.01994635 0.01871779 0.02227392\n",
      " 0.02578366 0.02454732 0.0273075  0.03148748 0.03048926 0.03238102\n",
      " 0.03704567 0.03651248 0.03753253 0.04245766 0.04257938 0.04279387\n",
      " 0.04773456 0.04864889 0.04818813 0.05289821 0.05467973 0.05372783\n",
      " 0.0579795  0.06063368 0.05941388 0.06301586 0.06647869 0.06523554\n",
      " 0.0680483  0.07219133 0.07117128 0.07311816 0.07775876 0.07719046\n",
      " 0.07826378 0.08317969 0.08325582 0.08351747 0.08846449 0.08932639\n",
      " 0.08890294 0.0936344  0.09536081 0.0944334  0.0987198  0.1013206\n",
      " 0.10011049 0.10375778 0.10717319 0.10592421 0.10878924 0.11289461\n",
      " 0.11185363 0.11385559 0.11847127 0.11786863 0.11899545 0.12390117\n",
      " 0.12393228 0.12424159 0.12919397 0.13000375 0.12961832 0.13437026\n",
      " 0.13604161 0.13513955 0.13945991 0.14200709 0.14080765 0.14449968\n",
      " 0.14786719 0.14661333 0.14953032 0.15359731 0.15253631 0.15459331\n",
      " 0.15918321 0.158547   0.15972754 0.16462212 0.16460877 0.16496623\n",
      " 0.169923   0.17068098 0.17033428 0.17510578 0.17672212 0.17584627\n",
      " 0.18019982 0.18269316 0.18150535 0.18524154 0.18856067 0.18730291\n",
      " 0.19027153 0.19429945 0.19321935 0.19533132 0.19989457 0.19922556\n",
      " 0.20046005 0.20534253 0.20528531 0.20569138 0.21065155 0.21135809\n",
      " 0.21105079 0.21584094 0.21740235 0.21655358 0.22093953 0.22337883\n",
      " 0.22220359 0.22598336 0.22925364 0.22799296 0.23101286 0.23500103\n",
      " 0.23390273 0.23606959 0.24060535 0.23990433 0.24119295 0.24606239\n",
      " 0.24596189 0.24641703 0.25137964 0.25203508 0.25176787 0.25657575\n",
      " 0.25808232 0.25726146 0.26167902 0.2640641  0.26290238 0.26672512\n",
      " 0.26994612 0.26868349 0.27175429 0.27570204 0.27458647 0.27680813\n",
      " 0.28131555 0.28058332 0.28192626 0.28678169 0.28663854 0.28714317\n",
      " 0.29210725 0.29271197 0.29248552 0.2973102  0.29876203 0.29796992\n",
      " 0.30241828 0.30474897 0.30360172 0.30746681 0.3106381  0.30937449\n",
      " 0.31249582 0.31640249 0.31527059 0.31754692 0.32202517 0.32126255\n",
      " 0.32265995 0.32750045 0.32731525 0.32786982 0.33283438 0.33338877\n",
      " 0.33320372 0.33804427 0.33944149 0.33867897 0.34315732 0.34543346\n",
      " 0.34430161 0.34820843 0.35132958 0.35006598 0.35323744 0.35710238\n",
      " 0.35595508 0.35828595 0.36273421 0.36194201 0.36339402 0.36821865\n",
      " 0.36799205 0.36859695 0.37356102 0.37406549 0.37392247 0.37877796\n",
      " 0.38012071 0.37938859 0.38389611 0.38611757 0.38500207 0.38894995\n",
      " 0.39202059 0.39075796 0.39397913 0.39780172 0.39663996 0.39902522\n",
      " 0.40344267 0.40262172 0.40412847 0.40893629 0.40866895 0.40932456\n",
      " 0.41428717 0.41474213 0.41464178 0.41951126 0.4207997  0.42009879\n",
      " 0.42463464 0.42680132 0.42570308 0.42969139 0.43271111 0.43145043\n",
      " 0.43472089 0.43850051 0.43732523 0.43976471 0.44415055 0.44330169\n",
      " 0.44486328 0.44965337 0.44934594 0.45005265 0.45501281 0.45541872\n",
      " 0.45536165 0.46024417 0.46147847 0.46080957 0.46537292 0.4674847\n",
      " 0.46640466 0.47043271 0.47340116 0.47214341 0.47546271 0.47919875\n",
      " 0.4780109  0.48050442 0.48485786 0.48398192 0.48559845 0.49036988\n",
      " 0.49002305 0.49078121 0.49573796 0.49609525 0.49608205 0.50097667\n",
      " 0.50215704 0.50152093 0.50611092 0.50816773 0.5071068  0.51117392\n",
      " 0.51409074 0.51283689 0.51620457 0.51989644 0.51869697 0.52124433\n",
      " 0.52556458 0.52466243 0.52633396 0.53108583 0.53070027 0.53151023\n",
      " 0.53646259 0.53677174 0.536803   0.54170876 0.5428354  0.54223287\n",
      " 0.54684864 0.54885042 0.54780951 0.551915   0.55477986 0.55353089\n",
      " 0.55694647 0.5605936  0.55938346 0.56198444 0.56627073 0.56534323\n",
      " 0.56706982 0.57180121 0.57137764 0.57223971 0.57718671 0.5774482\n",
      " 0.57752449 0.58244043 0.58351357 0.58294539 0.58758607 0.58953276\n",
      " 0.58851279 0.59265594 0.59546852 0.5942254  0.59768839 0.60129021\n",
      " 0.60007038 0.60272474 0.60697629 0.60602431 0.60780601 0.61251602\n",
      " 0.61205514 0.61296965 0.61791032 0.61812465 0.61824652 0.62317168\n",
      " 0.62419155 0.62365848 0.62832321 0.63021478 0.62921664 0.63339674\n",
      " 0.63615674 0.63492043 0.63843033 0.6419863  0.64075772 0.64346521\n",
      " 0.64768129 0.6467057  0.64854253 0.65323026 0.65273279 0.65370003\n",
      " 0.6586334  0.65880108 0.65896907 0.6639025  0.66486937 0.66437215\n",
      " 0.66906004 0.67089648 0.66992106 0.67413738 0.67684451 0.67561599\n",
      " 0.67917227 0.68268185 0.68144549 0.68420585 0.68838571 0.68738741\n",
      " 0.68927936 0.69394392 0.69341061 0.69443084 0.69935595 0.69947751\n",
      " 0.69969216 0.70463287 0.70554702 0.70508639 0.70979655 0.71157787\n",
      " 0.71062606 0.71487785 0.71753185 0.71631207 0.71991421 0.72337688\n",
      " 0.72213371 0.72494665 0.72908955 0.72806943 0.73001649 0.73465701\n",
      " 0.7340886  0.73516209 0.74007797 0.74015395 0.74041576 0.7453628\n",
      " 0.74622452 0.7458012  0.75053274 0.75225896 0.75133163 0.75561814\n",
      " 0.75821876 0.75700869 0.76065613 0.76407139 0.76282238 0.76568759\n",
      " 0.76979283 0.76875178 0.77075393 0.77536953 0.77476677 0.77589377\n",
      " 0.78079946 0.78083041 0.78113989 0.78609228 0.78690188 0.78651659\n",
      " 0.79126859 0.79293975 0.79203778 0.79635825 0.79890525 0.79770585\n",
      " 0.80139803 0.80476538 0.8035115  0.80642868 0.81049553 0.80943447\n",
      " 0.81149165 0.81608146 0.81544513 0.81662586 0.8215204  0.8215069 ]\n"
     ]
    },
    {
     "data": {
      "application/vnd.plotly.v1+json": {
       "config": {
        "plotlyServerURL": "https://plot.ly"
       },
       "data": [
        {
         "name": "Predicted",
         "type": "scatter",
         "x": [
          0,
          1,
          2,
          3,
          4,
          5,
          6,
          7,
          8,
          9,
          10,
          11,
          12,
          13,
          14,
          15,
          16,
          17,
          18,
          19,
          20,
          21,
          22,
          23,
          24,
          25,
          26,
          27,
          28,
          29,
          30,
          31,
          32,
          33,
          34,
          35,
          36,
          37,
          38,
          39,
          40,
          41,
          42,
          43,
          44,
          45,
          46,
          47,
          48,
          49,
          50,
          51,
          52,
          53,
          54,
          55,
          56,
          57,
          58,
          59,
          60,
          61,
          62,
          63,
          64,
          65,
          66,
          67,
          68,
          69,
          70,
          71,
          72,
          73,
          74,
          75,
          76,
          77,
          78,
          79,
          80,
          81,
          82,
          83,
          84,
          85,
          86,
          87,
          88,
          89,
          90,
          91,
          92,
          93,
          94,
          95,
          96,
          97,
          98,
          99,
          100,
          101,
          102,
          103,
          104,
          105,
          106,
          107,
          108,
          109,
          110,
          111,
          112,
          113,
          114,
          115,
          116,
          117,
          118,
          119,
          120,
          121,
          122,
          123,
          124,
          125,
          126,
          127,
          128,
          129,
          130,
          131,
          132,
          133,
          134,
          135,
          136,
          137,
          138,
          139,
          140,
          141,
          142,
          143,
          144,
          145,
          146,
          147,
          148,
          149,
          150,
          151,
          152,
          153,
          154,
          155,
          156,
          157,
          158,
          159,
          160,
          161,
          162,
          163,
          164,
          165,
          166,
          167,
          168,
          169,
          170,
          171,
          172,
          173,
          174,
          175,
          176,
          177,
          178,
          179,
          180,
          181,
          182,
          183,
          184,
          185,
          186,
          187,
          188,
          189,
          190,
          191,
          192,
          193,
          194,
          195,
          196,
          197,
          198,
          199,
          200,
          201,
          202,
          203,
          204,
          205,
          206,
          207,
          208,
          209,
          210,
          211,
          212,
          213,
          214,
          215,
          216,
          217,
          218,
          219,
          220,
          221,
          222,
          223,
          224,
          225,
          226,
          227,
          228,
          229,
          230,
          231,
          232,
          233,
          234,
          235,
          236,
          237,
          238,
          239,
          240,
          241,
          242,
          243,
          244,
          245,
          246,
          247,
          248,
          249,
          250,
          251,
          252,
          253,
          254,
          255,
          256,
          257,
          258,
          259,
          260,
          261,
          262,
          263,
          264,
          265,
          266,
          267,
          268,
          269,
          270,
          271,
          272,
          273,
          274,
          275,
          276,
          277,
          278,
          279,
          280,
          281,
          282,
          283,
          284,
          285,
          286,
          287,
          288,
          289,
          290,
          291,
          292,
          293,
          294,
          295,
          296,
          297,
          298,
          299,
          300,
          301,
          302,
          303,
          304,
          305,
          306,
          307,
          308,
          309,
          310,
          311,
          312,
          313,
          314,
          315,
          316,
          317,
          318,
          319,
          320,
          321,
          322,
          323,
          324,
          325,
          326,
          327,
          328,
          329,
          330,
          331,
          332,
          333,
          334,
          335,
          336,
          337,
          338,
          339,
          340,
          341,
          342,
          343,
          344,
          345,
          346,
          347,
          348,
          349,
          350,
          351,
          352,
          353,
          354,
          355,
          356,
          357,
          358,
          359,
          360,
          361,
          362,
          363,
          364,
          365,
          366,
          367,
          368,
          369,
          370,
          371,
          372,
          373,
          374,
          375,
          376,
          377,
          378,
          379,
          380,
          381,
          382,
          383,
          384,
          385,
          386,
          387,
          388,
          389,
          390,
          391,
          392,
          393,
          394,
          395,
          396,
          397,
          398,
          399,
          400,
          401,
          402,
          403,
          404,
          405,
          406,
          407,
          408,
          409,
          410,
          411,
          412,
          413,
          414,
          415,
          416,
          417,
          418,
          419,
          420,
          421,
          422,
          423,
          424,
          425,
          426,
          427,
          428,
          429,
          430,
          431,
          432,
          433,
          434,
          435,
          436,
          437,
          438,
          439,
          440,
          441,
          442,
          443
         ],
         "xaxis": "x",
         "y": [
          0.001902946844399457,
          0.0020707844804702144,
          0.007004182649884371,
          0.00797123493864899,
          0.007473891275838401,
          0.012161700979078278,
          0.013998336293306029,
          0.013022832646346565,
          0.017239028853657284,
          0.01994634508084162,
          0.018717792714673595,
          0.022273918857009623,
          0.025783655942279892,
          0.02454732383774275,
          0.027307504149015793,
          0.03148748165197467,
          0.030489258519406214,
          0.03238102182211412,
          0.03704566833494055,
          0.0365124752604796,
          0.03753252797815842,
          0.04245766363756636,
          0.042579377679524966,
          0.042793866201161844,
          0.04773456072778723,
          0.048648889419042184,
          0.04818813091565043,
          0.05289821461968653,
          0.05467972626455825,
          0.053727827698045336,
          0.05797950121560354,
          0.060633684821483944,
          0.05941387708961461,
          0.06301585774945426,
          0.06647868577562478,
          0.06523554126668354,
          0.06804830055814041,
          0.07219132931295864,
          0.07117127940951257,
          0.07311815774366665,
          0.07775875913540564,
          0.07719046363164837,
          0.0782637770002282,
          0.08317968658616266,
          0.08325581877979975,
          0.08351747085887604,
          0.0884644933033655,
          0.08932639175117892,
          0.08890294268981828,
          0.09363440422474674,
          0.09536081379419116,
          0.09443339850553838,
          0.09871979682126429,
          0.1013205959194701,
          0.10011049497741188,
          0.10375778124518027,
          0.10717319491070489,
          0.1059242074662143,
          0.1087892441566071,
          0.11289460569859448,
          0.1118536285791347,
          0.1138555917156033,
          0.11847127359090598,
          0.11786863364070072,
          0.11899545119120143,
          0.12390117403148705,
          0.12393228040715616,
          0.12424159393530196,
          0.12919397387524836,
          0.13000375186441981,
          0.1296183248355687,
          0.13437026133204324,
          0.13604160768802648,
          0.13513954620201163,
          0.1394599059216743,
          0.14200708535561624,
          0.1408076503169415,
          0.14449967908506983,
          0.14786718794724296,
          0.14661332886713271,
          0.14953032499238086,
          0.15359731266110024,
          0.15253631443871818,
          0.15459331488574538,
          0.1591832106586083,
          0.1585469950077588,
          0.15972754350391521,
          0.16462212211872645,
          0.16460877281709377,
          0.16496623074966532,
          0.16992299608371506,
          0.17068097973269453,
          0.17033427541138396,
          0.17510577758355944,
          0.17672211684390643,
          0.17584627173986397,
          0.18019981882631583,
          0.18269316024288004,
          0.18150534687865155,
          0.18524154101804524,
          0.18856066964669813,
          0.18730291175758423,
          0.190271533070419,
          0.19429945223114137,
          0.19321934529319584,
          0.19533131831128445,
          0.19989456947662268,
          0.19922555739297665,
          0.20046004676017434,
          0.20534252716209328,
          0.20528530625546532,
          0.20569137646019528,
          0.2106515537126881,
          0.21135808537137588,
          0.21105079229761012,
          0.21584094472809698,
          0.21740235024890503,
          0.21655357589040883,
          0.22093952590615554,
          0.22337882782413168,
          0.22220358826338038,
          0.22598335680428136,
          0.22925364493077366,
          0.2279929622810915,
          0.2310128583558031,
          0.23500102661719424,
          0.23390272933938505,
          0.23606959296158492,
          0.24060534936427272,
          0.23990433039351267,
          0.24119295365300122,
          0.2460623856459805,
          0.24596189095526608,
          0.24641702606564167,
          0.2513796406916811,
          0.25203507883414145,
          0.2517678731971213,
          0.2565757546238617,
          0.258082316976512,
          0.2572614592436324,
          0.261679017596662,
          0.26406409546988396,
          0.2629023779012283,
          0.26672511621841466,
          0.26994611887987474,
          0.26868348643462897,
          0.27175429077688423,
          0.27570203820485417,
          0.274586474663419,
          0.2768081297210139,
          0.2813155498223086,
          0.28058332354052185,
          0.2819262567489253,
          0.28678169422606337,
          0.28663853713342674,
          0.28714317440684245,
          0.29210725109770136,
          0.29271197020982265,
          0.2924855156360397,
          0.29731019924101487,
          0.298762026183789,
          0.2979699222080088,
          0.3024182844008031,
          0.3047489706759825,
          0.3036017190504824,
          0.30746680905274754,
          0.3106380967315161,
          0.3093744900667437,
          0.3124958202284387,
          0.3164024895560877,
          0.31527058923821266,
          0.31754691939179824,
          0.32202517053306395,
          0.32126254629616935,
          0.32265994849031304,
          0.3275004497303475,
          0.32731525498761177,
          0.3278698161683403,
          0.3328343791571056,
          0.3333887696192434,
          0.33320371696451073,
          0.33804427066419,
          0.33944148710850025,
          0.3386789650103719,
          0.34315731689202217,
          0.3454334610612568,
          0.3443016147965958,
          0.34820842512044764,
          0.35132958387868096,
          0.35006597887572244,
          0.3532374365748355,
          0.3571023834084298,
          0.3559550809209642,
          0.3582859526969065,
          0.362734211360555,
          0.36194200805066484,
          0.363394021197736,
          0.3682186491601628,
          0.36799205469302376,
          0.36859694588004865,
          0.3735610192474101,
          0.3740654872120482,
          0.3739224743575334,
          0.37877796109497286,
          0.3801207090662172,
          0.37938858769584466,
          0.3838961057171922,
          0.38611757436513244,
          0.3850020680512206,
          0.38894995425873957,
          0.3920205858681309,
          0.3907579584078059,
          0.3939791296532119,
          0.39780172267412595,
          0.3966399574506925,
          0.3990252202829568,
          0.40344267235052345,
          0.4026217181193199,
          0.40412846707237765,
          0.40893628969110346,
          0.4086689463992143,
          0.4093245579189657,
          0.4142871658990518,
          0.41474213316352126,
          0.41464178481584596,
          0.4195112628543458,
          0.4207997014473998,
          0.4200987901278243,
          0.4246346415995469,
          0.42680131844520597,
          0.4257030815512952,
          0.4296913863320904,
          0.4327111083986674,
          0.43145043405545064,
          0.434720889276659,
          0.4385005104392195,
          0.4373252264458125,
          0.4397647127231473,
          0.44415055373042195,
          0.4433016857396287,
          0.44486327819847726,
          0.4496533686739128,
          0.4493459402269037,
          0.45005264651093674,
          0.4550128137971029,
          0.4554187176713983,
          0.45536164516686534,
          0.4602441683850941,
          0.461478473714453,
          0.46080957198802597,
          0.4653729153415878,
          0.46748470127478214,
          0.46640465785818686,
          0.47043271123538566,
          0.47340115731934607,
          0.47214341105563923,
          0.4754627052374137,
          0.4791987499625846,
          0.47801089540174674,
          0.48050442052021103,
          0.48485785590934316,
          0.4839819200683732,
          0.4855984465458106,
          0.4903698836353137,
          0.49002304626480925,
          0.4907812057324634,
          0.4957379577829365,
          0.4960952509526701,
          0.49608205206568157,
          0.5009766702541741,
          0.5021570353987618,
          0.5015209327765816,
          0.5061109178279669,
          0.5081677309403755,
          0.5071067993568888,
          0.5111739188970958,
          0.5140907386276438,
          0.512836894488239,
          0.5162045673100576,
          0.5198964446749048,
          0.5186969716885775,
          0.5212443341093917,
          0.525564579477891,
          0.5246624301787536,
          0.5263339639722066,
          0.5310858322787835,
          0.5307002745664829,
          0.5315102295125602,
          0.5364625928558429,
          0.5367717432403811,
          0.5368030019961063,
          0.5417087611550429,
          0.5428353960977041,
          0.5422328718121974,
          0.5468486400283428,
          0.5488504156391758,
          0.5478095082552734,
          0.5519149992824333,
          0.5547798584675788,
          0.55353088927441,
          0.5569464652547221,
          0.5605935981775981,
          0.5593834625487362,
          0.5619844438614416,
          0.566270725207996,
          0.565343225057545,
          0.5670698222260987,
          0.5718012124852737,
          0.5713776351471623,
          0.5722397116346573,
          0.577186714174597,
          0.5774482047804226,
          0.5775244912717744,
          0.5824404339099478,
          0.5835135654716436,
          0.5829453882323665,
          0.5875860730002109,
          0.5895327636764798,
          0.588512786583399,
          0.5926559423964961,
          0.595468523127786,
          0.5942254001750631,
          0.5976883888202965,
          0.601290214241688,
          0.600070375094734,
          0.6027247400856387,
          0.6069762940526735,
          0.6060243136022805,
          0.607806012949111,
          0.6125160223138745,
          0.6120551379806303,
          0.612969645738548,
          0.6179103170589753,
          0.6181246458283213,
          0.6182465160372989,
          0.6231716814721758,
          0.6241915532409011,
          0.6236584809936403,
          0.628323207891706,
          0.6302147834630878,
          0.629216636192875,
          0.6333967382874014,
          0.6361567390395454,
          0.6349204317893677,
          0.638430327747641,
          0.6419862968066223,
          0.6407577163069337,
          0.6434652130328239,
          0.6476812871457243,
          0.6467057046184641,
          0.6485425276786774,
          0.653230260002422,
          0.6527327929960902,
          0.6537000253223824,
          0.6586333969912227,
          0.6588010766460259,
          0.65896907226948,
          0.6639024969282621,
          0.66486936918271,
          0.6643721488719542,
          0.669060035944376,
          0.6708964835126684,
          0.669921058756281,
          0.6741373770494031,
          0.676844512774767,
          0.6756159885533108,
          0.6791722717728017,
          0.6826818499790379,
          0.6814454930313607,
          0.6842058528984561,
          0.6883857058013801,
          0.68738740681681,
          0.6892793578506938,
          0.693943923968052,
          0.6934106100750548,
          0.6944308437447053,
          0.6993559496174683,
          0.6994775074986913,
          0.6996921557785654,
          0.7046328735001564,
          0.7055470231281511,
          0.7050863904630122,
          0.7097965484959268,
          0.7115778724390903,
          0.7106260557666431,
          0.7148778488259968,
          0.7175318510439315,
          0.7163120747383063,
          0.7199142106302274,
          0.7233768780314744,
          0.7221337119775593,
          0.7249466498256851,
          0.7290895515138914,
          0.7280694288105135,
          0.7300164948022022,
          0.7346570128076944,
          0.7340885990482481,
          0.7351620942265366,
          0.7400779707490898,
          0.7401539486514612,
          0.740415762209563,
          0.7453628045473468,
          0.7462245249590718,
          0.7458012041827268,
          0.7505327369829368,
          0.7522589589537226,
          0.7513316285369649,
          0.7556181438130082,
          0.7582187606939867,
          0.7570086944498565,
          0.7606561340559862,
          0.7640713854010349,
          0.7628223797164881,
          0.7656875939084402,
          0.769792825957059,
          0.7687517791125513,
          0.7707539297741047,
          0.7753695252985138,
          0.7747667696925261,
          0.7758937698534965,
          0.7807994563640259,
          0.7808304103662517,
          0.7811398870436064,
          0.7860922835689418,
          0.7869018846049899,
          0.7865165882677149,
          0.7912685929435409,
          0.7929397518627053,
          0.7920377781998174,
          0.7963582522616659,
          0.798905248706203,
          0.7977058516262663,
          0.801398031790982,
          0.8047653766879953,
          0.8035115026784627,
          0.8064286751945344,
          0.8104955309837097,
          0.8094344661330143,
          0.8114916539139093,
          0.8160814603982927,
          0.815445131727812,
          0.816625863577972,
          0.8215204026080372,
          0.8215069028985346
         ],
         "yaxis": "y"
        },
        {
         "name": "Actual",
         "type": "scatter",
         "x": [
          0,
          1,
          2,
          3,
          4,
          5,
          6,
          7,
          8,
          9,
          10,
          11,
          12,
          13,
          14,
          15,
          16,
          17,
          18,
          19,
          20,
          21,
          22,
          23,
          24,
          25,
          26,
          27,
          28,
          29,
          30,
          31,
          32,
          33,
          34,
          35,
          36,
          37,
          38,
          39,
          40,
          41,
          42,
          43,
          44,
          45,
          46,
          47,
          48,
          49,
          50,
          51,
          52,
          53,
          54,
          55,
          56,
          57,
          58,
          59,
          60,
          61,
          62,
          63,
          64,
          65,
          66,
          67,
          68,
          69,
          70,
          71,
          72,
          73,
          74,
          75,
          76,
          77,
          78,
          79,
          80,
          81,
          82,
          83,
          84,
          85,
          86,
          87,
          88,
          89,
          90,
          91,
          92,
          93,
          94,
          95,
          96,
          97,
          98,
          99,
          100,
          101,
          102,
          103,
          104,
          105,
          106,
          107,
          108,
          109,
          110,
          111,
          112,
          113,
          114,
          115,
          116,
          117,
          118,
          119,
          120,
          121,
          122,
          123,
          124,
          125,
          126,
          127,
          128,
          129,
          130,
          131,
          132,
          133,
          134,
          135,
          136,
          137,
          138,
          139,
          140,
          141,
          142,
          143,
          144,
          145,
          146,
          147,
          148,
          149,
          150,
          151,
          152,
          153,
          154,
          155,
          156,
          157,
          158,
          159,
          160,
          161,
          162,
          163,
          164,
          165,
          166,
          167,
          168,
          169,
          170,
          171,
          172,
          173,
          174,
          175,
          176,
          177,
          178,
          179,
          180,
          181,
          182,
          183,
          184,
          185,
          186,
          187,
          188,
          189,
          190,
          191,
          192,
          193,
          194,
          195,
          196,
          197,
          198,
          199,
          200,
          201,
          202,
          203,
          204,
          205,
          206,
          207,
          208,
          209,
          210,
          211,
          212,
          213,
          214,
          215,
          216,
          217,
          218,
          219,
          220,
          221,
          222,
          223,
          224,
          225,
          226,
          227,
          228,
          229,
          230,
          231,
          232,
          233,
          234,
          235,
          236,
          237,
          238,
          239,
          240,
          241,
          242,
          243,
          244,
          245,
          246,
          247,
          248,
          249,
          250,
          251,
          252,
          253,
          254,
          255,
          256,
          257,
          258,
          259,
          260,
          261,
          262,
          263,
          264,
          265,
          266,
          267,
          268,
          269,
          270,
          271,
          272,
          273,
          274,
          275,
          276,
          277,
          278,
          279,
          280,
          281,
          282,
          283,
          284,
          285,
          286,
          287,
          288,
          289,
          290,
          291,
          292,
          293,
          294,
          295,
          296,
          297,
          298,
          299,
          300,
          301,
          302,
          303,
          304,
          305,
          306,
          307,
          308,
          309,
          310,
          311,
          312,
          313,
          314,
          315,
          316,
          317,
          318,
          319,
          320,
          321,
          322,
          323,
          324,
          325,
          326,
          327,
          328,
          329,
          330,
          331,
          332,
          333,
          334,
          335,
          336,
          337,
          338,
          339,
          340,
          341,
          342,
          343,
          344,
          345,
          346,
          347,
          348,
          349,
          350,
          351,
          352,
          353,
          354,
          355,
          356,
          357,
          358,
          359,
          360,
          361,
          362,
          363,
          364,
          365,
          366,
          367,
          368,
          369,
          370,
          371,
          372,
          373,
          374,
          375,
          376,
          377,
          378,
          379,
          380,
          381,
          382,
          383,
          384,
          385,
          386,
          387,
          388,
          389,
          390,
          391,
          392,
          393,
          394,
          395,
          396,
          397,
          398,
          399,
          400,
          401,
          402,
          403,
          404,
          405,
          406,
          407,
          408,
          409,
          410,
          411,
          412,
          413,
          414,
          415,
          416,
          417,
          418,
          419,
          420,
          421,
          422,
          423,
          424,
          425,
          426,
          427,
          428,
          429,
          430,
          431,
          432,
          433,
          434,
          435,
          436,
          437,
          438,
          439,
          440,
          441,
          442,
          443
         ],
         "xaxis": "x",
         "y": [
          0.3,
          0.42,
          0.29,
          0.32,
          0.34,
          0.16,
          0.28,
          0.24,
          0.21,
          0.2,
          0.3,
          0.21,
          0.56,
          0.41,
          0.48,
          0.32,
          0.25,
          0.31,
          0.35,
          0.35,
          0.17,
          0.13,
          0.21,
          0.4,
          0.09,
          0.14,
          -0.01,
          0.1,
          0.16,
          0.05,
          0.13,
          0.08,
          0.15,
          0.13,
          0.14,
          0.43,
          0.52,
          0.4,
          0.42,
          0.3,
          0.35,
          0.18,
          0.15,
          0.3,
          0.38,
          0.15,
          0.3,
          0.17,
          0.3,
          0.17,
          0.29,
          0.08,
          0.33,
          0.04,
          0.16,
          0.15,
          0.2,
          0.15,
          0.04,
          -0.06,
          0.21,
          -0.06,
          0.17,
          0.11,
          0.17,
          0.17,
          0,
          0.15,
          0.14,
          0.11,
          0.09,
          0.15,
          0.3,
          0.39,
          0.29,
          0.26,
          0.26,
          0.12,
          0.13,
          0.12,
          0.02,
          0.14,
          0.11,
          0.16,
          0.36,
          0.46,
          0.17,
          0.24,
          0.26,
          0.36,
          0.46,
          0.28,
          0.39,
          0.32,
          0.25,
          0.47,
          0.57,
          0.42,
          0.49,
          0.45,
          0.44,
          0.42,
          0.35,
          0.46,
          0.42,
          0.4,
          0.13,
          0.34,
          0.16,
          0.35,
          0.36,
          0.33,
          0.17,
          0.15,
          0.34,
          0.36,
          0.37,
          0.32,
          0.21,
          0.37,
          0.41,
          0.41,
          0.76,
          0.55,
          0.46,
          0.38,
          0.44,
          0.3,
          0.3,
          0.43,
          0.46,
          0.42,
          0.42,
          0.51,
          0.36,
          0.53,
          0.39,
          0.54,
          0.51,
          0.42,
          0.5,
          0.32,
          0.31,
          0.33,
          0.45,
          0.42,
          0.47,
          0.24,
          0.32,
          0.24,
          0.13,
          0.1,
          0.01,
          0.11,
          0.04,
          0.22,
          0.37,
          0.39,
          0.36,
          0.28,
          0.26,
          0.24,
          0.28,
          0.13,
          0.11,
          0.24,
          0.07,
          0.19,
          0.3,
          0.04,
          0.26,
          0.41,
          0.29,
          0.42,
          0.32,
          0.23,
          0.32,
          0.42,
          0.46,
          0.36,
          0.5,
          0.77,
          0.45,
          0.47,
          0.29,
          0.45,
          0.49,
          0.48,
          0.34,
          0.49,
          0.45,
          0.3,
          0.27,
          0.5,
          0.34,
          0.38,
          0.3,
          0.27,
          0.37,
          0.49,
          0.27,
          0.2,
          0.42,
          0.41,
          0.33,
          0.37,
          0.52,
          0.38,
          0.39,
          0.55,
          0.35,
          0.43,
          0.56,
          0.64,
          0.66,
          0.6,
          0.61,
          0.9,
          0.63,
          0.64,
          0.71,
          0.78,
          0.71,
          0.68,
          0.45,
          0.47,
          0.5,
          0.56,
          0.48,
          0.66,
          0.34,
          0.34,
          0.33,
          0.37,
          0.41,
          0.34,
          0.43,
          0.43,
          0.42,
          0.46,
          0.26,
          0.58,
          0.6,
          0.59,
          0.4,
          0.44,
          0.42,
          0.43,
          0.42,
          0.3,
          0.34,
          0.3,
          0.44,
          0.46,
          0.58,
          0.52,
          0.59,
          0.55,
          0.61,
          0.49,
          0.56,
          0.52,
          0.7,
          0.55,
          0.75,
          0.76,
          0.91,
          0.58,
          0.65,
          0.54,
          0.62,
          0.55,
          0.65,
          0.57,
          0.59,
          0.43,
          0.73,
          0.55,
          0.57,
          0.55,
          0.62,
          0.49,
          0.55,
          0.66,
          0.66,
          0.75,
          0.55,
          0.75,
          0.59,
          0.71,
          0.64,
          0.62,
          0.42,
          0.43,
          0.26,
          0.45,
          0.53,
          0.66,
          0.72,
          0.52,
          0.72,
          0.58,
          0.69,
          0.69,
          0.65,
          0.67,
          0.66,
          0.63,
          0.78,
          0.8,
          0.76,
          0.68,
          0.57,
          0.7,
          0.63,
          0.5,
          0.47,
          0.64,
          0.54,
          0.72,
          0.64,
          0.69,
          0.72,
          0.77,
          0.96,
          0.7,
          0.7,
          0.76,
          0.67,
          0.58,
          0.62,
          0.6,
          0.64,
          0.6,
          0.57,
          0.5,
          0.24,
          0.36,
          0.73,
          0.53,
          0.51,
          0.48,
          0.6,
          0.44,
          0.65,
          0.67,
          0.66,
          0.54,
          0.62,
          0.53,
          0.53,
          0.61,
          0.65,
          0.65,
          0.72,
          0.66,
          0.7,
          0.64,
          0.77,
          0.65,
          0.73,
          0.78,
          0.92,
          0.87,
          0.75,
          0.64,
          0.62,
          0.65,
          0.61,
          0.71,
          0.79,
          0.49,
          0.51,
          0.53,
          0.64,
          0.65,
          0.53,
          0.59,
          0.73,
          0.73,
          0.56,
          0.66,
          0.56,
          0.54,
          0.46,
          0.49,
          0.58,
          0.69,
          0.76,
          0.62,
          0.57,
          0.63,
          0.76,
          0.78,
          0.75,
          0.53,
          0.68,
          0.55,
          0.66,
          0.52,
          0.61,
          0.65,
          0.59,
          0.66,
          0.78,
          0.69,
          0.81,
          0.67,
          0.73,
          0.51,
          0.77,
          0.78,
          0.87,
          0.66,
          0.57,
          0.82,
          0.9,
          0.85,
          0.67,
          0.79,
          0.81,
          0.86,
          0.9,
          0.74,
          0.78,
          0.78,
          0.71,
          0.78,
          0.81,
          1.06,
          1.04,
          1.11,
          1.17,
          1.35,
          1.3,
          1.09,
          0.93,
          0.76,
          0.83,
          0.98,
          0.87,
          0.89,
          0.93,
          0.81
         ],
         "yaxis": "y"
        }
       ],
       "layout": {
        "template": {
         "data": {
          "bar": [
           {
            "error_x": {
             "color": "#2a3f5f"
            },
            "error_y": {
             "color": "#2a3f5f"
            },
            "marker": {
             "line": {
              "color": "#E5ECF6",
              "width": 0.5
             },
             "pattern": {
              "fillmode": "overlay",
              "size": 10,
              "solidity": 0.2
             }
            },
            "type": "bar"
           }
          ],
          "barpolar": [
           {
            "marker": {
             "line": {
              "color": "#E5ECF6",
              "width": 0.5
             },
             "pattern": {
              "fillmode": "overlay",
              "size": 10,
              "solidity": 0.2
             }
            },
            "type": "barpolar"
           }
          ],
          "carpet": [
           {
            "aaxis": {
             "endlinecolor": "#2a3f5f",
             "gridcolor": "white",
             "linecolor": "white",
             "minorgridcolor": "white",
             "startlinecolor": "#2a3f5f"
            },
            "baxis": {
             "endlinecolor": "#2a3f5f",
             "gridcolor": "white",
             "linecolor": "white",
             "minorgridcolor": "white",
             "startlinecolor": "#2a3f5f"
            },
            "type": "carpet"
           }
          ],
          "choropleth": [
           {
            "colorbar": {
             "outlinewidth": 0,
             "ticks": ""
            },
            "type": "choropleth"
           }
          ],
          "contour": [
           {
            "colorbar": {
             "outlinewidth": 0,
             "ticks": ""
            },
            "colorscale": [
             [
              0,
              "#0d0887"
             ],
             [
              0.1111111111111111,
              "#46039f"
             ],
             [
              0.2222222222222222,
              "#7201a8"
             ],
             [
              0.3333333333333333,
              "#9c179e"
             ],
             [
              0.4444444444444444,
              "#bd3786"
             ],
             [
              0.5555555555555556,
              "#d8576b"
             ],
             [
              0.6666666666666666,
              "#ed7953"
             ],
             [
              0.7777777777777778,
              "#fb9f3a"
             ],
             [
              0.8888888888888888,
              "#fdca26"
             ],
             [
              1,
              "#f0f921"
             ]
            ],
            "type": "contour"
           }
          ],
          "contourcarpet": [
           {
            "colorbar": {
             "outlinewidth": 0,
             "ticks": ""
            },
            "type": "contourcarpet"
           }
          ],
          "heatmap": [
           {
            "colorbar": {
             "outlinewidth": 0,
             "ticks": ""
            },
            "colorscale": [
             [
              0,
              "#0d0887"
             ],
             [
              0.1111111111111111,
              "#46039f"
             ],
             [
              0.2222222222222222,
              "#7201a8"
             ],
             [
              0.3333333333333333,
              "#9c179e"
             ],
             [
              0.4444444444444444,
              "#bd3786"
             ],
             [
              0.5555555555555556,
              "#d8576b"
             ],
             [
              0.6666666666666666,
              "#ed7953"
             ],
             [
              0.7777777777777778,
              "#fb9f3a"
             ],
             [
              0.8888888888888888,
              "#fdca26"
             ],
             [
              1,
              "#f0f921"
             ]
            ],
            "type": "heatmap"
           }
          ],
          "heatmapgl": [
           {
            "colorbar": {
             "outlinewidth": 0,
             "ticks": ""
            },
            "colorscale": [
             [
              0,
              "#0d0887"
             ],
             [
              0.1111111111111111,
              "#46039f"
             ],
             [
              0.2222222222222222,
              "#7201a8"
             ],
             [
              0.3333333333333333,
              "#9c179e"
             ],
             [
              0.4444444444444444,
              "#bd3786"
             ],
             [
              0.5555555555555556,
              "#d8576b"
             ],
             [
              0.6666666666666666,
              "#ed7953"
             ],
             [
              0.7777777777777778,
              "#fb9f3a"
             ],
             [
              0.8888888888888888,
              "#fdca26"
             ],
             [
              1,
              "#f0f921"
             ]
            ],
            "type": "heatmapgl"
           }
          ],
          "histogram": [
           {
            "marker": {
             "pattern": {
              "fillmode": "overlay",
              "size": 10,
              "solidity": 0.2
             }
            },
            "type": "histogram"
           }
          ],
          "histogram2d": [
           {
            "colorbar": {
             "outlinewidth": 0,
             "ticks": ""
            },
            "colorscale": [
             [
              0,
              "#0d0887"
             ],
             [
              0.1111111111111111,
              "#46039f"
             ],
             [
              0.2222222222222222,
              "#7201a8"
             ],
             [
              0.3333333333333333,
              "#9c179e"
             ],
             [
              0.4444444444444444,
              "#bd3786"
             ],
             [
              0.5555555555555556,
              "#d8576b"
             ],
             [
              0.6666666666666666,
              "#ed7953"
             ],
             [
              0.7777777777777778,
              "#fb9f3a"
             ],
             [
              0.8888888888888888,
              "#fdca26"
             ],
             [
              1,
              "#f0f921"
             ]
            ],
            "type": "histogram2d"
           }
          ],
          "histogram2dcontour": [
           {
            "colorbar": {
             "outlinewidth": 0,
             "ticks": ""
            },
            "colorscale": [
             [
              0,
              "#0d0887"
             ],
             [
              0.1111111111111111,
              "#46039f"
             ],
             [
              0.2222222222222222,
              "#7201a8"
             ],
             [
              0.3333333333333333,
              "#9c179e"
             ],
             [
              0.4444444444444444,
              "#bd3786"
             ],
             [
              0.5555555555555556,
              "#d8576b"
             ],
             [
              0.6666666666666666,
              "#ed7953"
             ],
             [
              0.7777777777777778,
              "#fb9f3a"
             ],
             [
              0.8888888888888888,
              "#fdca26"
             ],
             [
              1,
              "#f0f921"
             ]
            ],
            "type": "histogram2dcontour"
           }
          ],
          "mesh3d": [
           {
            "colorbar": {
             "outlinewidth": 0,
             "ticks": ""
            },
            "type": "mesh3d"
           }
          ],
          "parcoords": [
           {
            "line": {
             "colorbar": {
              "outlinewidth": 0,
              "ticks": ""
             }
            },
            "type": "parcoords"
           }
          ],
          "pie": [
           {
            "automargin": true,
            "type": "pie"
           }
          ],
          "scatter": [
           {
            "fillpattern": {
             "fillmode": "overlay",
             "size": 10,
             "solidity": 0.2
            },
            "type": "scatter"
           }
          ],
          "scatter3d": [
           {
            "line": {
             "colorbar": {
              "outlinewidth": 0,
              "ticks": ""
             }
            },
            "marker": {
             "colorbar": {
              "outlinewidth": 0,
              "ticks": ""
             }
            },
            "type": "scatter3d"
           }
          ],
          "scattercarpet": [
           {
            "marker": {
             "colorbar": {
              "outlinewidth": 0,
              "ticks": ""
             }
            },
            "type": "scattercarpet"
           }
          ],
          "scattergeo": [
           {
            "marker": {
             "colorbar": {
              "outlinewidth": 0,
              "ticks": ""
             }
            },
            "type": "scattergeo"
           }
          ],
          "scattergl": [
           {
            "marker": {
             "colorbar": {
              "outlinewidth": 0,
              "ticks": ""
             }
            },
            "type": "scattergl"
           }
          ],
          "scattermapbox": [
           {
            "marker": {
             "colorbar": {
              "outlinewidth": 0,
              "ticks": ""
             }
            },
            "type": "scattermapbox"
           }
          ],
          "scatterpolar": [
           {
            "marker": {
             "colorbar": {
              "outlinewidth": 0,
              "ticks": ""
             }
            },
            "type": "scatterpolar"
           }
          ],
          "scatterpolargl": [
           {
            "marker": {
             "colorbar": {
              "outlinewidth": 0,
              "ticks": ""
             }
            },
            "type": "scatterpolargl"
           }
          ],
          "scatterternary": [
           {
            "marker": {
             "colorbar": {
              "outlinewidth": 0,
              "ticks": ""
             }
            },
            "type": "scatterternary"
           }
          ],
          "surface": [
           {
            "colorbar": {
             "outlinewidth": 0,
             "ticks": ""
            },
            "colorscale": [
             [
              0,
              "#0d0887"
             ],
             [
              0.1111111111111111,
              "#46039f"
             ],
             [
              0.2222222222222222,
              "#7201a8"
             ],
             [
              0.3333333333333333,
              "#9c179e"
             ],
             [
              0.4444444444444444,
              "#bd3786"
             ],
             [
              0.5555555555555556,
              "#d8576b"
             ],
             [
              0.6666666666666666,
              "#ed7953"
             ],
             [
              0.7777777777777778,
              "#fb9f3a"
             ],
             [
              0.8888888888888888,
              "#fdca26"
             ],
             [
              1,
              "#f0f921"
             ]
            ],
            "type": "surface"
           }
          ],
          "table": [
           {
            "cells": {
             "fill": {
              "color": "#EBF0F8"
             },
             "line": {
              "color": "white"
             }
            },
            "header": {
             "fill": {
              "color": "#C8D4E3"
             },
             "line": {
              "color": "white"
             }
            },
            "type": "table"
           }
          ]
         },
         "layout": {
          "annotationdefaults": {
           "arrowcolor": "#2a3f5f",
           "arrowhead": 0,
           "arrowwidth": 1
          },
          "autotypenumbers": "strict",
          "coloraxis": {
           "colorbar": {
            "outlinewidth": 0,
            "ticks": ""
           }
          },
          "colorscale": {
           "diverging": [
            [
             0,
             "#8e0152"
            ],
            [
             0.1,
             "#c51b7d"
            ],
            [
             0.2,
             "#de77ae"
            ],
            [
             0.3,
             "#f1b6da"
            ],
            [
             0.4,
             "#fde0ef"
            ],
            [
             0.5,
             "#f7f7f7"
            ],
            [
             0.6,
             "#e6f5d0"
            ],
            [
             0.7,
             "#b8e186"
            ],
            [
             0.8,
             "#7fbc41"
            ],
            [
             0.9,
             "#4d9221"
            ],
            [
             1,
             "#276419"
            ]
           ],
           "sequential": [
            [
             0,
             "#0d0887"
            ],
            [
             0.1111111111111111,
             "#46039f"
            ],
            [
             0.2222222222222222,
             "#7201a8"
            ],
            [
             0.3333333333333333,
             "#9c179e"
            ],
            [
             0.4444444444444444,
             "#bd3786"
            ],
            [
             0.5555555555555556,
             "#d8576b"
            ],
            [
             0.6666666666666666,
             "#ed7953"
            ],
            [
             0.7777777777777778,
             "#fb9f3a"
            ],
            [
             0.8888888888888888,
             "#fdca26"
            ],
            [
             1,
             "#f0f921"
            ]
           ],
           "sequentialminus": [
            [
             0,
             "#0d0887"
            ],
            [
             0.1111111111111111,
             "#46039f"
            ],
            [
             0.2222222222222222,
             "#7201a8"
            ],
            [
             0.3333333333333333,
             "#9c179e"
            ],
            [
             0.4444444444444444,
             "#bd3786"
            ],
            [
             0.5555555555555556,
             "#d8576b"
            ],
            [
             0.6666666666666666,
             "#ed7953"
            ],
            [
             0.7777777777777778,
             "#fb9f3a"
            ],
            [
             0.8888888888888888,
             "#fdca26"
            ],
            [
             1,
             "#f0f921"
            ]
           ]
          },
          "colorway": [
           "#636efa",
           "#EF553B",
           "#00cc96",
           "#ab63fa",
           "#FFA15A",
           "#19d3f3",
           "#FF6692",
           "#B6E880",
           "#FF97FF",
           "#FECB52"
          ],
          "font": {
           "color": "#2a3f5f"
          },
          "geo": {
           "bgcolor": "white",
           "lakecolor": "white",
           "landcolor": "#E5ECF6",
           "showlakes": true,
           "showland": true,
           "subunitcolor": "white"
          },
          "hoverlabel": {
           "align": "left"
          },
          "hovermode": "closest",
          "mapbox": {
           "style": "light"
          },
          "paper_bgcolor": "white",
          "plot_bgcolor": "#E5ECF6",
          "polar": {
           "angularaxis": {
            "gridcolor": "white",
            "linecolor": "white",
            "ticks": ""
           },
           "bgcolor": "#E5ECF6",
           "radialaxis": {
            "gridcolor": "white",
            "linecolor": "white",
            "ticks": ""
           }
          },
          "scene": {
           "xaxis": {
            "backgroundcolor": "#E5ECF6",
            "gridcolor": "white",
            "gridwidth": 2,
            "linecolor": "white",
            "showbackground": true,
            "ticks": "",
            "zerolinecolor": "white"
           },
           "yaxis": {
            "backgroundcolor": "#E5ECF6",
            "gridcolor": "white",
            "gridwidth": 2,
            "linecolor": "white",
            "showbackground": true,
            "ticks": "",
            "zerolinecolor": "white"
           },
           "zaxis": {
            "backgroundcolor": "#E5ECF6",
            "gridcolor": "white",
            "gridwidth": 2,
            "linecolor": "white",
            "showbackground": true,
            "ticks": "",
            "zerolinecolor": "white"
           }
          },
          "shapedefaults": {
           "line": {
            "color": "#2a3f5f"
           }
          },
          "ternary": {
           "aaxis": {
            "gridcolor": "white",
            "linecolor": "white",
            "ticks": ""
           },
           "baxis": {
            "gridcolor": "white",
            "linecolor": "white",
            "ticks": ""
           },
           "bgcolor": "#E5ECF6",
           "caxis": {
            "gridcolor": "white",
            "linecolor": "white",
            "ticks": ""
           }
          },
          "title": {
           "x": 0.05
          },
          "xaxis": {
           "automargin": true,
           "gridcolor": "white",
           "linecolor": "white",
           "ticks": "",
           "title": {
            "standoff": 15
           },
           "zerolinecolor": "white",
           "zerolinewidth": 2
          },
          "yaxis": {
           "automargin": true,
           "gridcolor": "white",
           "linecolor": "white",
           "ticks": "",
           "title": {
            "standoff": 15
           },
           "zerolinecolor": "white",
           "zerolinewidth": 2
          }
         }
        },
        "xaxis": {
         "anchor": "y",
         "domain": [
          0,
          1
         ]
        },
        "yaxis": {
         "anchor": "x",
         "domain": [
          0,
          1
         ]
        }
       }
      }
     },
     "metadata": {},
     "output_type": "display_data"
    }
   ],
   "source": [
    "ypred = regress.predict(np.reshape(np.array(xlist),(-1,1)))\n",
    "print(regress._program)\n",
    "print(np.array(testtemp['Mean']))\n",
    "print(ypred)\n",
    "fig = make_subplots(rows=1, cols=1)\n",
    "\n",
    "fig.add_trace(go.Scatter(x = np.asarray(xlist), y = ypred,\n",
    "                    name='Predicted'), row=1, col=1)\n",
    "fig.add_trace(go.Scatter(x = np.asarray(xlist), y = temp['Mean'], name='Actual'), row=1, col=1)\n",
    "\n",
    "fig.show()\n"
   ]
  },
  {
   "cell_type": "markdown",
   "metadata": {},
   "source": [
    "Ocean Temp Dataset"
   ]
  },
  {
   "cell_type": "code",
   "execution_count": 17,
   "metadata": {},
   "outputs": [
    {
     "data": {
      "application/vnd.plotly.v1+json": {
       "config": {
        "plotlyServerURL": "https://plot.ly"
       },
       "data": [
        {
         "mode": "markers+lines",
         "type": "scatter",
         "x": [
          1980,
          1981,
          1982,
          1983,
          1984,
          1985,
          1986,
          1987,
          1988,
          1989,
          1990,
          1991,
          1992,
          1993,
          1994,
          1995,
          1996,
          1997,
          1998,
          1999,
          2000,
          2001,
          2002,
          2003,
          2004,
          2005,
          2006,
          2007,
          2008,
          2009,
          2010,
          2011,
          2012,
          2013,
          2014,
          2015,
          2016,
          2017,
          2018,
          2019,
          2020
         ],
         "y": [
          0.066,
          -0.006,
          -0.006,
          0.138,
          -0.042,
          -0.114,
          -0.042,
          0.21,
          0.138,
          0.066,
          0.246,
          0.192,
          0.048,
          0.048,
          0.084,
          0.174,
          0.084,
          0.354,
          0.444,
          0.084,
          0.12,
          0.354,
          0.408,
          0.462,
          0.426,
          0.426,
          0.426,
          0.3,
          0.264,
          0.498,
          0.516,
          0.318,
          0.444,
          0.48,
          0.642,
          0.858,
          0.93,
          0.822,
          0.732,
          0.876,
          0.84
         ]
        }
       ],
       "layout": {
        "height": 400,
        "template": {
         "data": {
          "bar": [
           {
            "error_x": {
             "color": "#2a3f5f"
            },
            "error_y": {
             "color": "#2a3f5f"
            },
            "marker": {
             "line": {
              "color": "#E5ECF6",
              "width": 0.5
             },
             "pattern": {
              "fillmode": "overlay",
              "size": 10,
              "solidity": 0.2
             }
            },
            "type": "bar"
           }
          ],
          "barpolar": [
           {
            "marker": {
             "line": {
              "color": "#E5ECF6",
              "width": 0.5
             },
             "pattern": {
              "fillmode": "overlay",
              "size": 10,
              "solidity": 0.2
             }
            },
            "type": "barpolar"
           }
          ],
          "carpet": [
           {
            "aaxis": {
             "endlinecolor": "#2a3f5f",
             "gridcolor": "white",
             "linecolor": "white",
             "minorgridcolor": "white",
             "startlinecolor": "#2a3f5f"
            },
            "baxis": {
             "endlinecolor": "#2a3f5f",
             "gridcolor": "white",
             "linecolor": "white",
             "minorgridcolor": "white",
             "startlinecolor": "#2a3f5f"
            },
            "type": "carpet"
           }
          ],
          "choropleth": [
           {
            "colorbar": {
             "outlinewidth": 0,
             "ticks": ""
            },
            "type": "choropleth"
           }
          ],
          "contour": [
           {
            "colorbar": {
             "outlinewidth": 0,
             "ticks": ""
            },
            "colorscale": [
             [
              0,
              "#0d0887"
             ],
             [
              0.1111111111111111,
              "#46039f"
             ],
             [
              0.2222222222222222,
              "#7201a8"
             ],
             [
              0.3333333333333333,
              "#9c179e"
             ],
             [
              0.4444444444444444,
              "#bd3786"
             ],
             [
              0.5555555555555556,
              "#d8576b"
             ],
             [
              0.6666666666666666,
              "#ed7953"
             ],
             [
              0.7777777777777778,
              "#fb9f3a"
             ],
             [
              0.8888888888888888,
              "#fdca26"
             ],
             [
              1,
              "#f0f921"
             ]
            ],
            "type": "contour"
           }
          ],
          "contourcarpet": [
           {
            "colorbar": {
             "outlinewidth": 0,
             "ticks": ""
            },
            "type": "contourcarpet"
           }
          ],
          "heatmap": [
           {
            "colorbar": {
             "outlinewidth": 0,
             "ticks": ""
            },
            "colorscale": [
             [
              0,
              "#0d0887"
             ],
             [
              0.1111111111111111,
              "#46039f"
             ],
             [
              0.2222222222222222,
              "#7201a8"
             ],
             [
              0.3333333333333333,
              "#9c179e"
             ],
             [
              0.4444444444444444,
              "#bd3786"
             ],
             [
              0.5555555555555556,
              "#d8576b"
             ],
             [
              0.6666666666666666,
              "#ed7953"
             ],
             [
              0.7777777777777778,
              "#fb9f3a"
             ],
             [
              0.8888888888888888,
              "#fdca26"
             ],
             [
              1,
              "#f0f921"
             ]
            ],
            "type": "heatmap"
           }
          ],
          "heatmapgl": [
           {
            "colorbar": {
             "outlinewidth": 0,
             "ticks": ""
            },
            "colorscale": [
             [
              0,
              "#0d0887"
             ],
             [
              0.1111111111111111,
              "#46039f"
             ],
             [
              0.2222222222222222,
              "#7201a8"
             ],
             [
              0.3333333333333333,
              "#9c179e"
             ],
             [
              0.4444444444444444,
              "#bd3786"
             ],
             [
              0.5555555555555556,
              "#d8576b"
             ],
             [
              0.6666666666666666,
              "#ed7953"
             ],
             [
              0.7777777777777778,
              "#fb9f3a"
             ],
             [
              0.8888888888888888,
              "#fdca26"
             ],
             [
              1,
              "#f0f921"
             ]
            ],
            "type": "heatmapgl"
           }
          ],
          "histogram": [
           {
            "marker": {
             "pattern": {
              "fillmode": "overlay",
              "size": 10,
              "solidity": 0.2
             }
            },
            "type": "histogram"
           }
          ],
          "histogram2d": [
           {
            "colorbar": {
             "outlinewidth": 0,
             "ticks": ""
            },
            "colorscale": [
             [
              0,
              "#0d0887"
             ],
             [
              0.1111111111111111,
              "#46039f"
             ],
             [
              0.2222222222222222,
              "#7201a8"
             ],
             [
              0.3333333333333333,
              "#9c179e"
             ],
             [
              0.4444444444444444,
              "#bd3786"
             ],
             [
              0.5555555555555556,
              "#d8576b"
             ],
             [
              0.6666666666666666,
              "#ed7953"
             ],
             [
              0.7777777777777778,
              "#fb9f3a"
             ],
             [
              0.8888888888888888,
              "#fdca26"
             ],
             [
              1,
              "#f0f921"
             ]
            ],
            "type": "histogram2d"
           }
          ],
          "histogram2dcontour": [
           {
            "colorbar": {
             "outlinewidth": 0,
             "ticks": ""
            },
            "colorscale": [
             [
              0,
              "#0d0887"
             ],
             [
              0.1111111111111111,
              "#46039f"
             ],
             [
              0.2222222222222222,
              "#7201a8"
             ],
             [
              0.3333333333333333,
              "#9c179e"
             ],
             [
              0.4444444444444444,
              "#bd3786"
             ],
             [
              0.5555555555555556,
              "#d8576b"
             ],
             [
              0.6666666666666666,
              "#ed7953"
             ],
             [
              0.7777777777777778,
              "#fb9f3a"
             ],
             [
              0.8888888888888888,
              "#fdca26"
             ],
             [
              1,
              "#f0f921"
             ]
            ],
            "type": "histogram2dcontour"
           }
          ],
          "mesh3d": [
           {
            "colorbar": {
             "outlinewidth": 0,
             "ticks": ""
            },
            "type": "mesh3d"
           }
          ],
          "parcoords": [
           {
            "line": {
             "colorbar": {
              "outlinewidth": 0,
              "ticks": ""
             }
            },
            "type": "parcoords"
           }
          ],
          "pie": [
           {
            "automargin": true,
            "type": "pie"
           }
          ],
          "scatter": [
           {
            "fillpattern": {
             "fillmode": "overlay",
             "size": 10,
             "solidity": 0.2
            },
            "type": "scatter"
           }
          ],
          "scatter3d": [
           {
            "line": {
             "colorbar": {
              "outlinewidth": 0,
              "ticks": ""
             }
            },
            "marker": {
             "colorbar": {
              "outlinewidth": 0,
              "ticks": ""
             }
            },
            "type": "scatter3d"
           }
          ],
          "scattercarpet": [
           {
            "marker": {
             "colorbar": {
              "outlinewidth": 0,
              "ticks": ""
             }
            },
            "type": "scattercarpet"
           }
          ],
          "scattergeo": [
           {
            "marker": {
             "colorbar": {
              "outlinewidth": 0,
              "ticks": ""
             }
            },
            "type": "scattergeo"
           }
          ],
          "scattergl": [
           {
            "marker": {
             "colorbar": {
              "outlinewidth": 0,
              "ticks": ""
             }
            },
            "type": "scattergl"
           }
          ],
          "scattermapbox": [
           {
            "marker": {
             "colorbar": {
              "outlinewidth": 0,
              "ticks": ""
             }
            },
            "type": "scattermapbox"
           }
          ],
          "scatterpolar": [
           {
            "marker": {
             "colorbar": {
              "outlinewidth": 0,
              "ticks": ""
             }
            },
            "type": "scatterpolar"
           }
          ],
          "scatterpolargl": [
           {
            "marker": {
             "colorbar": {
              "outlinewidth": 0,
              "ticks": ""
             }
            },
            "type": "scatterpolargl"
           }
          ],
          "scatterternary": [
           {
            "marker": {
             "colorbar": {
              "outlinewidth": 0,
              "ticks": ""
             }
            },
            "type": "scatterternary"
           }
          ],
          "surface": [
           {
            "colorbar": {
             "outlinewidth": 0,
             "ticks": ""
            },
            "colorscale": [
             [
              0,
              "#0d0887"
             ],
             [
              0.1111111111111111,
              "#46039f"
             ],
             [
              0.2222222222222222,
              "#7201a8"
             ],
             [
              0.3333333333333333,
              "#9c179e"
             ],
             [
              0.4444444444444444,
              "#bd3786"
             ],
             [
              0.5555555555555556,
              "#d8576b"
             ],
             [
              0.6666666666666666,
              "#ed7953"
             ],
             [
              0.7777777777777778,
              "#fb9f3a"
             ],
             [
              0.8888888888888888,
              "#fdca26"
             ],
             [
              1,
              "#f0f921"
             ]
            ],
            "type": "surface"
           }
          ],
          "table": [
           {
            "cells": {
             "fill": {
              "color": "#EBF0F8"
             },
             "line": {
              "color": "white"
             }
            },
            "header": {
             "fill": {
              "color": "#C8D4E3"
             },
             "line": {
              "color": "white"
             }
            },
            "type": "table"
           }
          ]
         },
         "layout": {
          "annotationdefaults": {
           "arrowcolor": "#2a3f5f",
           "arrowhead": 0,
           "arrowwidth": 1
          },
          "autotypenumbers": "strict",
          "coloraxis": {
           "colorbar": {
            "outlinewidth": 0,
            "ticks": ""
           }
          },
          "colorscale": {
           "diverging": [
            [
             0,
             "#8e0152"
            ],
            [
             0.1,
             "#c51b7d"
            ],
            [
             0.2,
             "#de77ae"
            ],
            [
             0.3,
             "#f1b6da"
            ],
            [
             0.4,
             "#fde0ef"
            ],
            [
             0.5,
             "#f7f7f7"
            ],
            [
             0.6,
             "#e6f5d0"
            ],
            [
             0.7,
             "#b8e186"
            ],
            [
             0.8,
             "#7fbc41"
            ],
            [
             0.9,
             "#4d9221"
            ],
            [
             1,
             "#276419"
            ]
           ],
           "sequential": [
            [
             0,
             "#0d0887"
            ],
            [
             0.1111111111111111,
             "#46039f"
            ],
            [
             0.2222222222222222,
             "#7201a8"
            ],
            [
             0.3333333333333333,
             "#9c179e"
            ],
            [
             0.4444444444444444,
             "#bd3786"
            ],
            [
             0.5555555555555556,
             "#d8576b"
            ],
            [
             0.6666666666666666,
             "#ed7953"
            ],
            [
             0.7777777777777778,
             "#fb9f3a"
            ],
            [
             0.8888888888888888,
             "#fdca26"
            ],
            [
             1,
             "#f0f921"
            ]
           ],
           "sequentialminus": [
            [
             0,
             "#0d0887"
            ],
            [
             0.1111111111111111,
             "#46039f"
            ],
            [
             0.2222222222222222,
             "#7201a8"
            ],
            [
             0.3333333333333333,
             "#9c179e"
            ],
            [
             0.4444444444444444,
             "#bd3786"
            ],
            [
             0.5555555555555556,
             "#d8576b"
            ],
            [
             0.6666666666666666,
             "#ed7953"
            ],
            [
             0.7777777777777778,
             "#fb9f3a"
            ],
            [
             0.8888888888888888,
             "#fdca26"
            ],
            [
             1,
             "#f0f921"
            ]
           ]
          },
          "colorway": [
           "#636efa",
           "#EF553B",
           "#00cc96",
           "#ab63fa",
           "#FFA15A",
           "#19d3f3",
           "#FF6692",
           "#B6E880",
           "#FF97FF",
           "#FECB52"
          ],
          "font": {
           "color": "#2a3f5f"
          },
          "geo": {
           "bgcolor": "white",
           "lakecolor": "white",
           "landcolor": "#E5ECF6",
           "showlakes": true,
           "showland": true,
           "subunitcolor": "white"
          },
          "hoverlabel": {
           "align": "left"
          },
          "hovermode": "closest",
          "mapbox": {
           "style": "light"
          },
          "paper_bgcolor": "white",
          "plot_bgcolor": "#E5ECF6",
          "polar": {
           "angularaxis": {
            "gridcolor": "white",
            "linecolor": "white",
            "ticks": ""
           },
           "bgcolor": "#E5ECF6",
           "radialaxis": {
            "gridcolor": "white",
            "linecolor": "white",
            "ticks": ""
           }
          },
          "scene": {
           "xaxis": {
            "backgroundcolor": "#E5ECF6",
            "gridcolor": "white",
            "gridwidth": 2,
            "linecolor": "white",
            "showbackground": true,
            "ticks": "",
            "zerolinecolor": "white"
           },
           "yaxis": {
            "backgroundcolor": "#E5ECF6",
            "gridcolor": "white",
            "gridwidth": 2,
            "linecolor": "white",
            "showbackground": true,
            "ticks": "",
            "zerolinecolor": "white"
           },
           "zaxis": {
            "backgroundcolor": "#E5ECF6",
            "gridcolor": "white",
            "gridwidth": 2,
            "linecolor": "white",
            "showbackground": true,
            "ticks": "",
            "zerolinecolor": "white"
           }
          },
          "shapedefaults": {
           "line": {
            "color": "#2a3f5f"
           }
          },
          "ternary": {
           "aaxis": {
            "gridcolor": "white",
            "linecolor": "white",
            "ticks": ""
           },
           "baxis": {
            "gridcolor": "white",
            "linecolor": "white",
            "ticks": ""
           },
           "bgcolor": "#E5ECF6",
           "caxis": {
            "gridcolor": "white",
            "linecolor": "white",
            "ticks": ""
           }
          },
          "title": {
           "x": 0.05
          },
          "xaxis": {
           "automargin": true,
           "gridcolor": "white",
           "linecolor": "white",
           "ticks": "",
           "title": {
            "standoff": 15
           },
           "zerolinecolor": "white",
           "zerolinewidth": 2
          },
          "yaxis": {
           "automargin": true,
           "gridcolor": "white",
           "linecolor": "white",
           "ticks": "",
           "title": {
            "standoff": 15
           },
           "zerolinecolor": "white",
           "zerolinewidth": 2
          }
         }
        },
        "title": {
         "text": "Sea Temp (months)"
        },
        "width": 800,
        "xaxis": {
         "anchor": "y",
         "domain": [
          0,
          1
         ]
        },
        "yaxis": {
         "anchor": "x",
         "domain": [
          0,
          1
         ]
        }
       }
      }
     },
     "metadata": {},
     "output_type": "display_data"
    },
    {
     "data": {
      "text/html": [
       "<div>\n",
       "<style scoped>\n",
       "    .dataframe tbody tr th:only-of-type {\n",
       "        vertical-align: middle;\n",
       "    }\n",
       "\n",
       "    .dataframe tbody tr th {\n",
       "        vertical-align: top;\n",
       "    }\n",
       "\n",
       "    .dataframe thead th {\n",
       "        text-align: right;\n",
       "    }\n",
       "</style>\n",
       "<table border=\"1\" class=\"dataframe\">\n",
       "  <thead>\n",
       "    <tr style=\"text-align: right;\">\n",
       "      <th></th>\n",
       "      <th>Year</th>\n",
       "      <th>Annual anomaly</th>\n",
       "    </tr>\n",
       "  </thead>\n",
       "  <tbody>\n",
       "    <tr>\n",
       "      <th>0</th>\n",
       "      <td>1980</td>\n",
       "      <td>0.066</td>\n",
       "    </tr>\n",
       "    <tr>\n",
       "      <th>1</th>\n",
       "      <td>1981</td>\n",
       "      <td>-0.006</td>\n",
       "    </tr>\n",
       "    <tr>\n",
       "      <th>2</th>\n",
       "      <td>1982</td>\n",
       "      <td>-0.006</td>\n",
       "    </tr>\n",
       "    <tr>\n",
       "      <th>3</th>\n",
       "      <td>1983</td>\n",
       "      <td>0.138</td>\n",
       "    </tr>\n",
       "    <tr>\n",
       "      <th>4</th>\n",
       "      <td>1984</td>\n",
       "      <td>-0.042</td>\n",
       "    </tr>\n",
       "    <tr>\n",
       "      <th>5</th>\n",
       "      <td>1985</td>\n",
       "      <td>-0.114</td>\n",
       "    </tr>\n",
       "    <tr>\n",
       "      <th>6</th>\n",
       "      <td>1986</td>\n",
       "      <td>-0.042</td>\n",
       "    </tr>\n",
       "    <tr>\n",
       "      <th>7</th>\n",
       "      <td>1987</td>\n",
       "      <td>0.210</td>\n",
       "    </tr>\n",
       "    <tr>\n",
       "      <th>8</th>\n",
       "      <td>1988</td>\n",
       "      <td>0.138</td>\n",
       "    </tr>\n",
       "    <tr>\n",
       "      <th>9</th>\n",
       "      <td>1989</td>\n",
       "      <td>0.066</td>\n",
       "    </tr>\n",
       "    <tr>\n",
       "      <th>10</th>\n",
       "      <td>1990</td>\n",
       "      <td>0.246</td>\n",
       "    </tr>\n",
       "    <tr>\n",
       "      <th>11</th>\n",
       "      <td>1991</td>\n",
       "      <td>0.192</td>\n",
       "    </tr>\n",
       "    <tr>\n",
       "      <th>12</th>\n",
       "      <td>1992</td>\n",
       "      <td>0.048</td>\n",
       "    </tr>\n",
       "    <tr>\n",
       "      <th>13</th>\n",
       "      <td>1993</td>\n",
       "      <td>0.048</td>\n",
       "    </tr>\n",
       "    <tr>\n",
       "      <th>14</th>\n",
       "      <td>1994</td>\n",
       "      <td>0.084</td>\n",
       "    </tr>\n",
       "    <tr>\n",
       "      <th>15</th>\n",
       "      <td>1995</td>\n",
       "      <td>0.174</td>\n",
       "    </tr>\n",
       "    <tr>\n",
       "      <th>16</th>\n",
       "      <td>1996</td>\n",
       "      <td>0.084</td>\n",
       "    </tr>\n",
       "    <tr>\n",
       "      <th>17</th>\n",
       "      <td>1997</td>\n",
       "      <td>0.354</td>\n",
       "    </tr>\n",
       "    <tr>\n",
       "      <th>18</th>\n",
       "      <td>1998</td>\n",
       "      <td>0.444</td>\n",
       "    </tr>\n",
       "    <tr>\n",
       "      <th>19</th>\n",
       "      <td>1999</td>\n",
       "      <td>0.084</td>\n",
       "    </tr>\n",
       "    <tr>\n",
       "      <th>20</th>\n",
       "      <td>2000</td>\n",
       "      <td>0.120</td>\n",
       "    </tr>\n",
       "    <tr>\n",
       "      <th>21</th>\n",
       "      <td>2001</td>\n",
       "      <td>0.354</td>\n",
       "    </tr>\n",
       "    <tr>\n",
       "      <th>22</th>\n",
       "      <td>2002</td>\n",
       "      <td>0.408</td>\n",
       "    </tr>\n",
       "    <tr>\n",
       "      <th>23</th>\n",
       "      <td>2003</td>\n",
       "      <td>0.462</td>\n",
       "    </tr>\n",
       "    <tr>\n",
       "      <th>24</th>\n",
       "      <td>2004</td>\n",
       "      <td>0.426</td>\n",
       "    </tr>\n",
       "    <tr>\n",
       "      <th>25</th>\n",
       "      <td>2005</td>\n",
       "      <td>0.426</td>\n",
       "    </tr>\n",
       "    <tr>\n",
       "      <th>26</th>\n",
       "      <td>2006</td>\n",
       "      <td>0.426</td>\n",
       "    </tr>\n",
       "    <tr>\n",
       "      <th>27</th>\n",
       "      <td>2007</td>\n",
       "      <td>0.300</td>\n",
       "    </tr>\n",
       "    <tr>\n",
       "      <th>28</th>\n",
       "      <td>2008</td>\n",
       "      <td>0.264</td>\n",
       "    </tr>\n",
       "    <tr>\n",
       "      <th>29</th>\n",
       "      <td>2009</td>\n",
       "      <td>0.498</td>\n",
       "    </tr>\n",
       "    <tr>\n",
       "      <th>30</th>\n",
       "      <td>2010</td>\n",
       "      <td>0.516</td>\n",
       "    </tr>\n",
       "    <tr>\n",
       "      <th>31</th>\n",
       "      <td>2011</td>\n",
       "      <td>0.318</td>\n",
       "    </tr>\n",
       "    <tr>\n",
       "      <th>32</th>\n",
       "      <td>2012</td>\n",
       "      <td>0.444</td>\n",
       "    </tr>\n",
       "    <tr>\n",
       "      <th>33</th>\n",
       "      <td>2013</td>\n",
       "      <td>0.480</td>\n",
       "    </tr>\n",
       "    <tr>\n",
       "      <th>34</th>\n",
       "      <td>2014</td>\n",
       "      <td>0.642</td>\n",
       "    </tr>\n",
       "    <tr>\n",
       "      <th>35</th>\n",
       "      <td>2015</td>\n",
       "      <td>0.858</td>\n",
       "    </tr>\n",
       "    <tr>\n",
       "      <th>36</th>\n",
       "      <td>2016</td>\n",
       "      <td>0.930</td>\n",
       "    </tr>\n",
       "    <tr>\n",
       "      <th>37</th>\n",
       "      <td>2017</td>\n",
       "      <td>0.822</td>\n",
       "    </tr>\n",
       "    <tr>\n",
       "      <th>38</th>\n",
       "      <td>2018</td>\n",
       "      <td>0.732</td>\n",
       "    </tr>\n",
       "    <tr>\n",
       "      <th>39</th>\n",
       "      <td>2019</td>\n",
       "      <td>0.876</td>\n",
       "    </tr>\n",
       "    <tr>\n",
       "      <th>40</th>\n",
       "      <td>2020</td>\n",
       "      <td>0.840</td>\n",
       "    </tr>\n",
       "  </tbody>\n",
       "</table>\n",
       "</div>"
      ],
      "text/plain": [
       "    Year  Annual anomaly\n",
       "0   1980           0.066\n",
       "1   1981          -0.006\n",
       "2   1982          -0.006\n",
       "3   1983           0.138\n",
       "4   1984          -0.042\n",
       "5   1985          -0.114\n",
       "6   1986          -0.042\n",
       "7   1987           0.210\n",
       "8   1988           0.138\n",
       "9   1989           0.066\n",
       "10  1990           0.246\n",
       "11  1991           0.192\n",
       "12  1992           0.048\n",
       "13  1993           0.048\n",
       "14  1994           0.084\n",
       "15  1995           0.174\n",
       "16  1996           0.084\n",
       "17  1997           0.354\n",
       "18  1998           0.444\n",
       "19  1999           0.084\n",
       "20  2000           0.120\n",
       "21  2001           0.354\n",
       "22  2002           0.408\n",
       "23  2003           0.462\n",
       "24  2004           0.426\n",
       "25  2005           0.426\n",
       "26  2006           0.426\n",
       "27  2007           0.300\n",
       "28  2008           0.264\n",
       "29  2009           0.498\n",
       "30  2010           0.516\n",
       "31  2011           0.318\n",
       "32  2012           0.444\n",
       "33  2013           0.480\n",
       "34  2014           0.642\n",
       "35  2015           0.858\n",
       "36  2016           0.930\n",
       "37  2017           0.822\n",
       "38  2018           0.732\n",
       "39  2019           0.876\n",
       "40  2020           0.840"
      ]
     },
     "execution_count": 17,
     "metadata": {},
     "output_type": "execute_result"
    }
   ],
   "source": [
    "seatemp = pd.read_csv(r\"C:\\Users\\thewa\\OneDrive\\Documents\\VSCode Modsim\\VSCode Modsim Project 2\\sea-surface-temp_fig-1.csv\")\n",
    "seatemp = seatemp[seatemp[\"Year\"] >= 1980][[\"Year\", \"Annual anomaly\"]].reset_index(drop = True)\n",
    "\n",
    "\n",
    "fig = make_subplots(rows = 1, cols = 1)\n",
    "\n",
    "fig.add_trace(go.Scatter(x=seatemp[\"Year\"], y=seatemp[\"Annual anomaly\"],\n",
    "                    mode='markers+lines'))\n",
    "\n",
    "fig.update_layout(title = \"Sea Temp (months)\")\n",
    "\n",
    "fig.update_layout(height=400, width=800)\n",
    "\n",
    "fig.show()\n",
    "\n",
    "seatemp"
   ]
  },
  {
   "cell_type": "markdown",
   "metadata": {},
   "source": [
    "Delayed Temp Model"
   ]
  },
  {
   "cell_type": "code",
   "execution_count": 23,
   "metadata": {},
   "outputs": [
    {
     "name": "stdout",
     "output_type": "stream",
     "text": [
      "[ 0.94477285  0.16361221 -0.25091967]\n",
      "-0.16503648941267773\n"
     ]
    },
    {
     "name": "stderr",
     "output_type": "stream",
     "text": [
      "c:\\ProgramData\\Anaconda3\\lib\\site-packages\\sklearn\\linear_model\\_base.py:141: FutureWarning:\n",
      "\n",
      "'normalize' was deprecated in version 1.0 and will be removed in 1.2.\n",
      "If you wish to scale the data, use Pipeline with a StandardScaler in a preprocessing stage. To reproduce the previous behavior:\n",
      "\n",
      "from sklearn.pipeline import make_pipeline\n",
      "\n",
      "model = make_pipeline(StandardScaler(with_mean=False), LinearRegression())\n",
      "\n",
      "If you wish to pass a sample_weight parameter, you need to pass it as a fit parameter to each step of the pipeline as follows:\n",
      "\n",
      "kwargs = {s[0] + '__sample_weight': sample_weight for s in model.steps}\n",
      "model.fit(X, y, **kwargs)\n",
      "\n",
      "\n",
      "\n"
     ]
    },
    {
     "data": {
      "application/vnd.plotly.v1+json": {
       "config": {
        "plotlyServerURL": "https://plot.ly"
       },
       "data": [
        {
         "mode": "markers+lines",
         "name": "Actual",
         "type": "scatter",
         "x": [
          1980,
          1981,
          1982,
          1983,
          1984,
          1985,
          1986,
          1987,
          1988,
          1989,
          1990,
          1991,
          1992,
          1993,
          1994,
          1995,
          1996,
          1997,
          1998,
          1999,
          2000,
          2001,
          2002,
          2003,
          2004,
          2005,
          2006,
          2007,
          2008,
          2009,
          2010,
          2011,
          2012,
          2013,
          2014,
          2015,
          2016,
          2017,
          2018,
          2019,
          2020
         ],
         "y": [
          0.066,
          -0.006,
          -0.006,
          0.138,
          -0.042,
          -0.114,
          -0.042,
          0.21,
          0.138,
          0.066,
          0.246,
          0.192,
          0.048,
          0.048,
          0.084,
          0.174,
          0.084,
          0.354,
          0.444,
          0.084,
          0.12,
          0.354,
          0.408,
          0.462,
          0.426,
          0.426,
          0.426,
          0.3,
          0.264,
          0.498,
          0.516,
          0.318,
          0.444,
          0.48,
          0.642
         ]
        },
        {
         "mode": "markers+lines",
         "name": "Pred",
         "type": "scatter",
         "x": [
          1980,
          1981,
          1982,
          1983,
          1984,
          1985,
          1986,
          1987,
          1988,
          1989,
          1990,
          1991,
          1992,
          1993,
          1994,
          1995,
          1996,
          1997,
          1998,
          1999,
          2000,
          2001,
          2002,
          2003,
          2004,
          2005,
          2006,
          2007,
          2008,
          2009,
          2010,
          2011,
          2012,
          2013,
          2014,
          2015,
          2016,
          2017,
          2018,
          2019,
          2020
         ],
         "y": [
          0.0526203455370938,
          0.05959617475311196,
          -0.022715827161439828,
          0.05227719153621635,
          0.04417168784104028,
          -0.02823628503966452,
          -0.049271608253791885,
          0.12806136008297347,
          0.21046091950392487,
          0.12756943054703207,
          0.15865334877011833,
          0.17347567191097746,
          -0.0355164985486309,
          0.010307595752527043,
          0.19789266173279768,
          0.229689594899123,
          0.06090475401927947,
          0.29899228346409645,
          0.2894082606924295,
          0.1878765436671842,
          0.15046831169406133,
          0.2920196226283987,
          0.39502347977556146,
          0.44720022358810646,
          0.35842826663615707,
          0.4617398573600295,
          0.4208181779603976,
          0.34757092220046343,
          0.41060927174112755,
          0.4199042607092988,
          0.4214276676914846,
          0.38997522077934504,
          0.4799381112285918,
          0.47977910904334836,
          0.5521540788123429
         ]
        }
       ],
       "layout": {
        "height": 400,
        "template": {
         "data": {
          "bar": [
           {
            "error_x": {
             "color": "#2a3f5f"
            },
            "error_y": {
             "color": "#2a3f5f"
            },
            "marker": {
             "line": {
              "color": "#E5ECF6",
              "width": 0.5
             },
             "pattern": {
              "fillmode": "overlay",
              "size": 10,
              "solidity": 0.2
             }
            },
            "type": "bar"
           }
          ],
          "barpolar": [
           {
            "marker": {
             "line": {
              "color": "#E5ECF6",
              "width": 0.5
             },
             "pattern": {
              "fillmode": "overlay",
              "size": 10,
              "solidity": 0.2
             }
            },
            "type": "barpolar"
           }
          ],
          "carpet": [
           {
            "aaxis": {
             "endlinecolor": "#2a3f5f",
             "gridcolor": "white",
             "linecolor": "white",
             "minorgridcolor": "white",
             "startlinecolor": "#2a3f5f"
            },
            "baxis": {
             "endlinecolor": "#2a3f5f",
             "gridcolor": "white",
             "linecolor": "white",
             "minorgridcolor": "white",
             "startlinecolor": "#2a3f5f"
            },
            "type": "carpet"
           }
          ],
          "choropleth": [
           {
            "colorbar": {
             "outlinewidth": 0,
             "ticks": ""
            },
            "type": "choropleth"
           }
          ],
          "contour": [
           {
            "colorbar": {
             "outlinewidth": 0,
             "ticks": ""
            },
            "colorscale": [
             [
              0,
              "#0d0887"
             ],
             [
              0.1111111111111111,
              "#46039f"
             ],
             [
              0.2222222222222222,
              "#7201a8"
             ],
             [
              0.3333333333333333,
              "#9c179e"
             ],
             [
              0.4444444444444444,
              "#bd3786"
             ],
             [
              0.5555555555555556,
              "#d8576b"
             ],
             [
              0.6666666666666666,
              "#ed7953"
             ],
             [
              0.7777777777777778,
              "#fb9f3a"
             ],
             [
              0.8888888888888888,
              "#fdca26"
             ],
             [
              1,
              "#f0f921"
             ]
            ],
            "type": "contour"
           }
          ],
          "contourcarpet": [
           {
            "colorbar": {
             "outlinewidth": 0,
             "ticks": ""
            },
            "type": "contourcarpet"
           }
          ],
          "heatmap": [
           {
            "colorbar": {
             "outlinewidth": 0,
             "ticks": ""
            },
            "colorscale": [
             [
              0,
              "#0d0887"
             ],
             [
              0.1111111111111111,
              "#46039f"
             ],
             [
              0.2222222222222222,
              "#7201a8"
             ],
             [
              0.3333333333333333,
              "#9c179e"
             ],
             [
              0.4444444444444444,
              "#bd3786"
             ],
             [
              0.5555555555555556,
              "#d8576b"
             ],
             [
              0.6666666666666666,
              "#ed7953"
             ],
             [
              0.7777777777777778,
              "#fb9f3a"
             ],
             [
              0.8888888888888888,
              "#fdca26"
             ],
             [
              1,
              "#f0f921"
             ]
            ],
            "type": "heatmap"
           }
          ],
          "heatmapgl": [
           {
            "colorbar": {
             "outlinewidth": 0,
             "ticks": ""
            },
            "colorscale": [
             [
              0,
              "#0d0887"
             ],
             [
              0.1111111111111111,
              "#46039f"
             ],
             [
              0.2222222222222222,
              "#7201a8"
             ],
             [
              0.3333333333333333,
              "#9c179e"
             ],
             [
              0.4444444444444444,
              "#bd3786"
             ],
             [
              0.5555555555555556,
              "#d8576b"
             ],
             [
              0.6666666666666666,
              "#ed7953"
             ],
             [
              0.7777777777777778,
              "#fb9f3a"
             ],
             [
              0.8888888888888888,
              "#fdca26"
             ],
             [
              1,
              "#f0f921"
             ]
            ],
            "type": "heatmapgl"
           }
          ],
          "histogram": [
           {
            "marker": {
             "pattern": {
              "fillmode": "overlay",
              "size": 10,
              "solidity": 0.2
             }
            },
            "type": "histogram"
           }
          ],
          "histogram2d": [
           {
            "colorbar": {
             "outlinewidth": 0,
             "ticks": ""
            },
            "colorscale": [
             [
              0,
              "#0d0887"
             ],
             [
              0.1111111111111111,
              "#46039f"
             ],
             [
              0.2222222222222222,
              "#7201a8"
             ],
             [
              0.3333333333333333,
              "#9c179e"
             ],
             [
              0.4444444444444444,
              "#bd3786"
             ],
             [
              0.5555555555555556,
              "#d8576b"
             ],
             [
              0.6666666666666666,
              "#ed7953"
             ],
             [
              0.7777777777777778,
              "#fb9f3a"
             ],
             [
              0.8888888888888888,
              "#fdca26"
             ],
             [
              1,
              "#f0f921"
             ]
            ],
            "type": "histogram2d"
           }
          ],
          "histogram2dcontour": [
           {
            "colorbar": {
             "outlinewidth": 0,
             "ticks": ""
            },
            "colorscale": [
             [
              0,
              "#0d0887"
             ],
             [
              0.1111111111111111,
              "#46039f"
             ],
             [
              0.2222222222222222,
              "#7201a8"
             ],
             [
              0.3333333333333333,
              "#9c179e"
             ],
             [
              0.4444444444444444,
              "#bd3786"
             ],
             [
              0.5555555555555556,
              "#d8576b"
             ],
             [
              0.6666666666666666,
              "#ed7953"
             ],
             [
              0.7777777777777778,
              "#fb9f3a"
             ],
             [
              0.8888888888888888,
              "#fdca26"
             ],
             [
              1,
              "#f0f921"
             ]
            ],
            "type": "histogram2dcontour"
           }
          ],
          "mesh3d": [
           {
            "colorbar": {
             "outlinewidth": 0,
             "ticks": ""
            },
            "type": "mesh3d"
           }
          ],
          "parcoords": [
           {
            "line": {
             "colorbar": {
              "outlinewidth": 0,
              "ticks": ""
             }
            },
            "type": "parcoords"
           }
          ],
          "pie": [
           {
            "automargin": true,
            "type": "pie"
           }
          ],
          "scatter": [
           {
            "fillpattern": {
             "fillmode": "overlay",
             "size": 10,
             "solidity": 0.2
            },
            "type": "scatter"
           }
          ],
          "scatter3d": [
           {
            "line": {
             "colorbar": {
              "outlinewidth": 0,
              "ticks": ""
             }
            },
            "marker": {
             "colorbar": {
              "outlinewidth": 0,
              "ticks": ""
             }
            },
            "type": "scatter3d"
           }
          ],
          "scattercarpet": [
           {
            "marker": {
             "colorbar": {
              "outlinewidth": 0,
              "ticks": ""
             }
            },
            "type": "scattercarpet"
           }
          ],
          "scattergeo": [
           {
            "marker": {
             "colorbar": {
              "outlinewidth": 0,
              "ticks": ""
             }
            },
            "type": "scattergeo"
           }
          ],
          "scattergl": [
           {
            "marker": {
             "colorbar": {
              "outlinewidth": 0,
              "ticks": ""
             }
            },
            "type": "scattergl"
           }
          ],
          "scattermapbox": [
           {
            "marker": {
             "colorbar": {
              "outlinewidth": 0,
              "ticks": ""
             }
            },
            "type": "scattermapbox"
           }
          ],
          "scatterpolar": [
           {
            "marker": {
             "colorbar": {
              "outlinewidth": 0,
              "ticks": ""
             }
            },
            "type": "scatterpolar"
           }
          ],
          "scatterpolargl": [
           {
            "marker": {
             "colorbar": {
              "outlinewidth": 0,
              "ticks": ""
             }
            },
            "type": "scatterpolargl"
           }
          ],
          "scatterternary": [
           {
            "marker": {
             "colorbar": {
              "outlinewidth": 0,
              "ticks": ""
             }
            },
            "type": "scatterternary"
           }
          ],
          "surface": [
           {
            "colorbar": {
             "outlinewidth": 0,
             "ticks": ""
            },
            "colorscale": [
             [
              0,
              "#0d0887"
             ],
             [
              0.1111111111111111,
              "#46039f"
             ],
             [
              0.2222222222222222,
              "#7201a8"
             ],
             [
              0.3333333333333333,
              "#9c179e"
             ],
             [
              0.4444444444444444,
              "#bd3786"
             ],
             [
              0.5555555555555556,
              "#d8576b"
             ],
             [
              0.6666666666666666,
              "#ed7953"
             ],
             [
              0.7777777777777778,
              "#fb9f3a"
             ],
             [
              0.8888888888888888,
              "#fdca26"
             ],
             [
              1,
              "#f0f921"
             ]
            ],
            "type": "surface"
           }
          ],
          "table": [
           {
            "cells": {
             "fill": {
              "color": "#EBF0F8"
             },
             "line": {
              "color": "white"
             }
            },
            "header": {
             "fill": {
              "color": "#C8D4E3"
             },
             "line": {
              "color": "white"
             }
            },
            "type": "table"
           }
          ]
         },
         "layout": {
          "annotationdefaults": {
           "arrowcolor": "#2a3f5f",
           "arrowhead": 0,
           "arrowwidth": 1
          },
          "autotypenumbers": "strict",
          "coloraxis": {
           "colorbar": {
            "outlinewidth": 0,
            "ticks": ""
           }
          },
          "colorscale": {
           "diverging": [
            [
             0,
             "#8e0152"
            ],
            [
             0.1,
             "#c51b7d"
            ],
            [
             0.2,
             "#de77ae"
            ],
            [
             0.3,
             "#f1b6da"
            ],
            [
             0.4,
             "#fde0ef"
            ],
            [
             0.5,
             "#f7f7f7"
            ],
            [
             0.6,
             "#e6f5d0"
            ],
            [
             0.7,
             "#b8e186"
            ],
            [
             0.8,
             "#7fbc41"
            ],
            [
             0.9,
             "#4d9221"
            ],
            [
             1,
             "#276419"
            ]
           ],
           "sequential": [
            [
             0,
             "#0d0887"
            ],
            [
             0.1111111111111111,
             "#46039f"
            ],
            [
             0.2222222222222222,
             "#7201a8"
            ],
            [
             0.3333333333333333,
             "#9c179e"
            ],
            [
             0.4444444444444444,
             "#bd3786"
            ],
            [
             0.5555555555555556,
             "#d8576b"
            ],
            [
             0.6666666666666666,
             "#ed7953"
            ],
            [
             0.7777777777777778,
             "#fb9f3a"
            ],
            [
             0.8888888888888888,
             "#fdca26"
            ],
            [
             1,
             "#f0f921"
            ]
           ],
           "sequentialminus": [
            [
             0,
             "#0d0887"
            ],
            [
             0.1111111111111111,
             "#46039f"
            ],
            [
             0.2222222222222222,
             "#7201a8"
            ],
            [
             0.3333333333333333,
             "#9c179e"
            ],
            [
             0.4444444444444444,
             "#bd3786"
            ],
            [
             0.5555555555555556,
             "#d8576b"
            ],
            [
             0.6666666666666666,
             "#ed7953"
            ],
            [
             0.7777777777777778,
             "#fb9f3a"
            ],
            [
             0.8888888888888888,
             "#fdca26"
            ],
            [
             1,
             "#f0f921"
            ]
           ]
          },
          "colorway": [
           "#636efa",
           "#EF553B",
           "#00cc96",
           "#ab63fa",
           "#FFA15A",
           "#19d3f3",
           "#FF6692",
           "#B6E880",
           "#FF97FF",
           "#FECB52"
          ],
          "font": {
           "color": "#2a3f5f"
          },
          "geo": {
           "bgcolor": "white",
           "lakecolor": "white",
           "landcolor": "#E5ECF6",
           "showlakes": true,
           "showland": true,
           "subunitcolor": "white"
          },
          "hoverlabel": {
           "align": "left"
          },
          "hovermode": "closest",
          "mapbox": {
           "style": "light"
          },
          "paper_bgcolor": "white",
          "plot_bgcolor": "#E5ECF6",
          "polar": {
           "angularaxis": {
            "gridcolor": "white",
            "linecolor": "white",
            "ticks": ""
           },
           "bgcolor": "#E5ECF6",
           "radialaxis": {
            "gridcolor": "white",
            "linecolor": "white",
            "ticks": ""
           }
          },
          "scene": {
           "xaxis": {
            "backgroundcolor": "#E5ECF6",
            "gridcolor": "white",
            "gridwidth": 2,
            "linecolor": "white",
            "showbackground": true,
            "ticks": "",
            "zerolinecolor": "white"
           },
           "yaxis": {
            "backgroundcolor": "#E5ECF6",
            "gridcolor": "white",
            "gridwidth": 2,
            "linecolor": "white",
            "showbackground": true,
            "ticks": "",
            "zerolinecolor": "white"
           },
           "zaxis": {
            "backgroundcolor": "#E5ECF6",
            "gridcolor": "white",
            "gridwidth": 2,
            "linecolor": "white",
            "showbackground": true,
            "ticks": "",
            "zerolinecolor": "white"
           }
          },
          "shapedefaults": {
           "line": {
            "color": "#2a3f5f"
           }
          },
          "ternary": {
           "aaxis": {
            "gridcolor": "white",
            "linecolor": "white",
            "ticks": ""
           },
           "baxis": {
            "gridcolor": "white",
            "linecolor": "white",
            "ticks": ""
           },
           "bgcolor": "#E5ECF6",
           "caxis": {
            "gridcolor": "white",
            "linecolor": "white",
            "ticks": ""
           }
          },
          "title": {
           "x": 0.05
          },
          "xaxis": {
           "automargin": true,
           "gridcolor": "white",
           "linecolor": "white",
           "ticks": "",
           "title": {
            "standoff": 15
           },
           "zerolinecolor": "white",
           "zerolinewidth": 2
          },
          "yaxis": {
           "automargin": true,
           "gridcolor": "white",
           "linecolor": "white",
           "ticks": "",
           "title": {
            "standoff": 15
           },
           "zerolinecolor": "white",
           "zerolinewidth": 2
          }
         }
        },
        "width": 800,
        "xaxis": {
         "anchor": "y",
         "domain": [
          0,
          1
         ]
        },
        "yaxis": {
         "anchor": "x",
         "domain": [
          0,
          1
         ]
        }
       }
      }
     },
     "metadata": {},
     "output_type": "display_data"
    },
    {
     "name": "stdout",
     "output_type": "stream",
     "text": [
      "RMSE: 0.42161608366770287\n"
     ]
    }
   ],
   "source": [
    "pt = [newlis[9+12*i] for i in range(int(30))]\n",
    "ptlag1 = np.concatenate((np.array([0]), np.array(pt[:-1])))\n",
    "ptlag2 = np.concatenate((np.array([0]), np.array(ptlag1[:-1])))\n",
    "\n",
    "model = linear_model.LinearRegression(normalize=True)\n",
    "\n",
    "xval = []\n",
    "for i in range(len(pt)):\n",
    "    xval.append([pt[i], ptlag1[i], ptlag2[i]])\n",
    "    \n",
    "yval = seatemp[\"Annual anomaly\"][:30]\n",
    "model.fit(xval, yval)\n",
    "\n",
    "m = list(model.coef_)\n",
    "b = model.intercept_\n",
    "\n",
    "print(model.coef_)\n",
    "print(model.intercept_)\n",
    "\n",
    "pt = [newlis[9+12*i] for i in range(int(35))]\n",
    "ptlag1 = np.concatenate((np.array([0]), np.array(pt[:-1])))\n",
    "ptlag2 = np.concatenate((np.array([0]), np.array(ptlag1[:-1])))\n",
    "\n",
    "realy = seatemp[\"Annual anomaly\"][:35]\n",
    "predy = m[0] * np.array(pt) + m[1] * np.array(ptlag1) + m[2] * np.array(ptlag2) + b\n",
    "\n",
    "fig = make_subplots(rows = 1, cols = 1)\n",
    "\n",
    "fig.add_trace(go.Scatter(x=seatemp[\"Year\"], y=realy,\n",
    "                    mode='markers+lines', name = \"Actual\"))\n",
    "\n",
    "fig.add_trace(go.Scatter(x=seatemp[\"Year\"], y=predy,\n",
    "                    mode='markers+lines', name = \"Pred\"))\n",
    "\n",
    "fig.update_layout(height=400, width=800)\n",
    "\n",
    "fig.show()\n",
    "\n",
    "print(\"RMSE: \" + str(np.sqrt(sum((predy - realy) ** 2))))"
   ]
  },
  {
   "cell_type": "markdown",
   "metadata": {},
   "source": [
    "Linear Regression"
   ]
  },
  {
   "cell_type": "code",
   "execution_count": 24,
   "metadata": {},
   "outputs": [
    {
     "name": "stdout",
     "output_type": "stream",
     "text": [
      "[0.87513423]\n",
      "-0.16472165384695242\n"
     ]
    },
    {
     "name": "stderr",
     "output_type": "stream",
     "text": [
      "c:\\ProgramData\\Anaconda3\\lib\\site-packages\\sklearn\\linear_model\\_base.py:141: FutureWarning:\n",
      "\n",
      "'normalize' was deprecated in version 1.0 and will be removed in 1.2.\n",
      "If you wish to scale the data, use Pipeline with a StandardScaler in a preprocessing stage. To reproduce the previous behavior:\n",
      "\n",
      "from sklearn.pipeline import make_pipeline\n",
      "\n",
      "model = make_pipeline(StandardScaler(with_mean=False), LinearRegression())\n",
      "\n",
      "If you wish to pass a sample_weight parameter, you need to pass it as a fit parameter to each step of the pipeline as follows:\n",
      "\n",
      "kwargs = {s[0] + '__sample_weight': sample_weight for s in model.steps}\n",
      "model.fit(X, y, **kwargs)\n",
      "\n",
      "\n",
      "\n"
     ]
    },
    {
     "data": {
      "application/vnd.plotly.v1+json": {
       "config": {
        "plotlyServerURL": "https://plot.ly"
       },
       "data": [
        {
         "mode": "markers+lines",
         "name": "Actual",
         "type": "scatter",
         "x": [
          1980,
          1981,
          1982,
          1983,
          1984,
          1985,
          1986,
          1987,
          1988,
          1989,
          1990,
          1991,
          1992,
          1993,
          1994,
          1995,
          1996,
          1997,
          1998,
          1999,
          2000,
          2001,
          2002,
          2003,
          2004,
          2005,
          2006,
          2007,
          2008,
          2009,
          2010,
          2011,
          2012,
          2013,
          2014,
          2015,
          2016,
          2017,
          2018,
          2019,
          2020
         ],
         "y": [
          0.066,
          -0.006,
          -0.006,
          0.138,
          -0.042,
          -0.114,
          -0.042,
          0.21,
          0.138,
          0.066,
          0.246,
          0.192,
          0.048,
          0.048,
          0.084,
          0.174,
          0.084,
          0.354,
          0.444,
          0.084,
          0.12,
          0.354,
          0.408,
          0.462,
          0.426,
          0.426,
          0.426,
          0.3,
          0.264,
          0.498,
          0.516,
          0.318,
          0.444,
          0.48,
          0.642
         ]
        },
        {
         "mode": "markers+lines",
         "name": "Pred",
         "type": "scatter",
         "x": [
          1980,
          1981,
          1982,
          1983,
          1984,
          1985,
          1986,
          1987,
          1988,
          1989,
          1990,
          1991,
          1992,
          1993,
          1994,
          1995,
          1996,
          1997,
          1998,
          1999,
          2000,
          2001,
          2002,
          2003,
          2004,
          2005,
          2006,
          2007,
          2008,
          2009,
          2010,
          2011,
          2012,
          2013,
          2014,
          2015,
          2016,
          2017,
          2018,
          2019,
          2020
         ],
         "y": [
          0.036891831938137665,
          0.008438810473103936,
          -0.00933265542124026,
          0.05565350923270346,
          0.03217152135147505,
          -0.013573282272268367,
          -0.03137270947297069,
          0.12382235555124482,
          0.16854489427529223,
          0.12523624284776386,
          0.17340675313096426,
          0.16729231592440374,
          -0.012442821068607834,
          0.059505547356390964,
          0.17306871639066657,
          0.20196404745622426,
          0.07077718269534186,
          0.32170811117879017,
          0.23453367855944984,
          0.2222264110028338,
          0.16655442016282657,
          0.3040444848781214,
          0.3608602048052814,
          0.4358675161439118,
          0.3557389339417755,
          0.4852328487118442,
          0.40362107640602357,
          0.3842979903048505,
          0.42436107136527873,
          0.42090099215038507,
          0.4335515590256422,
          0.4013077215029008,
          0.4935832002817441,
          0.4688924430888746,
          0.5647157475029674
         ]
        }
       ],
       "layout": {
        "height": 400,
        "template": {
         "data": {
          "bar": [
           {
            "error_x": {
             "color": "#2a3f5f"
            },
            "error_y": {
             "color": "#2a3f5f"
            },
            "marker": {
             "line": {
              "color": "#E5ECF6",
              "width": 0.5
             },
             "pattern": {
              "fillmode": "overlay",
              "size": 10,
              "solidity": 0.2
             }
            },
            "type": "bar"
           }
          ],
          "barpolar": [
           {
            "marker": {
             "line": {
              "color": "#E5ECF6",
              "width": 0.5
             },
             "pattern": {
              "fillmode": "overlay",
              "size": 10,
              "solidity": 0.2
             }
            },
            "type": "barpolar"
           }
          ],
          "carpet": [
           {
            "aaxis": {
             "endlinecolor": "#2a3f5f",
             "gridcolor": "white",
             "linecolor": "white",
             "minorgridcolor": "white",
             "startlinecolor": "#2a3f5f"
            },
            "baxis": {
             "endlinecolor": "#2a3f5f",
             "gridcolor": "white",
             "linecolor": "white",
             "minorgridcolor": "white",
             "startlinecolor": "#2a3f5f"
            },
            "type": "carpet"
           }
          ],
          "choropleth": [
           {
            "colorbar": {
             "outlinewidth": 0,
             "ticks": ""
            },
            "type": "choropleth"
           }
          ],
          "contour": [
           {
            "colorbar": {
             "outlinewidth": 0,
             "ticks": ""
            },
            "colorscale": [
             [
              0,
              "#0d0887"
             ],
             [
              0.1111111111111111,
              "#46039f"
             ],
             [
              0.2222222222222222,
              "#7201a8"
             ],
             [
              0.3333333333333333,
              "#9c179e"
             ],
             [
              0.4444444444444444,
              "#bd3786"
             ],
             [
              0.5555555555555556,
              "#d8576b"
             ],
             [
              0.6666666666666666,
              "#ed7953"
             ],
             [
              0.7777777777777778,
              "#fb9f3a"
             ],
             [
              0.8888888888888888,
              "#fdca26"
             ],
             [
              1,
              "#f0f921"
             ]
            ],
            "type": "contour"
           }
          ],
          "contourcarpet": [
           {
            "colorbar": {
             "outlinewidth": 0,
             "ticks": ""
            },
            "type": "contourcarpet"
           }
          ],
          "heatmap": [
           {
            "colorbar": {
             "outlinewidth": 0,
             "ticks": ""
            },
            "colorscale": [
             [
              0,
              "#0d0887"
             ],
             [
              0.1111111111111111,
              "#46039f"
             ],
             [
              0.2222222222222222,
              "#7201a8"
             ],
             [
              0.3333333333333333,
              "#9c179e"
             ],
             [
              0.4444444444444444,
              "#bd3786"
             ],
             [
              0.5555555555555556,
              "#d8576b"
             ],
             [
              0.6666666666666666,
              "#ed7953"
             ],
             [
              0.7777777777777778,
              "#fb9f3a"
             ],
             [
              0.8888888888888888,
              "#fdca26"
             ],
             [
              1,
              "#f0f921"
             ]
            ],
            "type": "heatmap"
           }
          ],
          "heatmapgl": [
           {
            "colorbar": {
             "outlinewidth": 0,
             "ticks": ""
            },
            "colorscale": [
             [
              0,
              "#0d0887"
             ],
             [
              0.1111111111111111,
              "#46039f"
             ],
             [
              0.2222222222222222,
              "#7201a8"
             ],
             [
              0.3333333333333333,
              "#9c179e"
             ],
             [
              0.4444444444444444,
              "#bd3786"
             ],
             [
              0.5555555555555556,
              "#d8576b"
             ],
             [
              0.6666666666666666,
              "#ed7953"
             ],
             [
              0.7777777777777778,
              "#fb9f3a"
             ],
             [
              0.8888888888888888,
              "#fdca26"
             ],
             [
              1,
              "#f0f921"
             ]
            ],
            "type": "heatmapgl"
           }
          ],
          "histogram": [
           {
            "marker": {
             "pattern": {
              "fillmode": "overlay",
              "size": 10,
              "solidity": 0.2
             }
            },
            "type": "histogram"
           }
          ],
          "histogram2d": [
           {
            "colorbar": {
             "outlinewidth": 0,
             "ticks": ""
            },
            "colorscale": [
             [
              0,
              "#0d0887"
             ],
             [
              0.1111111111111111,
              "#46039f"
             ],
             [
              0.2222222222222222,
              "#7201a8"
             ],
             [
              0.3333333333333333,
              "#9c179e"
             ],
             [
              0.4444444444444444,
              "#bd3786"
             ],
             [
              0.5555555555555556,
              "#d8576b"
             ],
             [
              0.6666666666666666,
              "#ed7953"
             ],
             [
              0.7777777777777778,
              "#fb9f3a"
             ],
             [
              0.8888888888888888,
              "#fdca26"
             ],
             [
              1,
              "#f0f921"
             ]
            ],
            "type": "histogram2d"
           }
          ],
          "histogram2dcontour": [
           {
            "colorbar": {
             "outlinewidth": 0,
             "ticks": ""
            },
            "colorscale": [
             [
              0,
              "#0d0887"
             ],
             [
              0.1111111111111111,
              "#46039f"
             ],
             [
              0.2222222222222222,
              "#7201a8"
             ],
             [
              0.3333333333333333,
              "#9c179e"
             ],
             [
              0.4444444444444444,
              "#bd3786"
             ],
             [
              0.5555555555555556,
              "#d8576b"
             ],
             [
              0.6666666666666666,
              "#ed7953"
             ],
             [
              0.7777777777777778,
              "#fb9f3a"
             ],
             [
              0.8888888888888888,
              "#fdca26"
             ],
             [
              1,
              "#f0f921"
             ]
            ],
            "type": "histogram2dcontour"
           }
          ],
          "mesh3d": [
           {
            "colorbar": {
             "outlinewidth": 0,
             "ticks": ""
            },
            "type": "mesh3d"
           }
          ],
          "parcoords": [
           {
            "line": {
             "colorbar": {
              "outlinewidth": 0,
              "ticks": ""
             }
            },
            "type": "parcoords"
           }
          ],
          "pie": [
           {
            "automargin": true,
            "type": "pie"
           }
          ],
          "scatter": [
           {
            "fillpattern": {
             "fillmode": "overlay",
             "size": 10,
             "solidity": 0.2
            },
            "type": "scatter"
           }
          ],
          "scatter3d": [
           {
            "line": {
             "colorbar": {
              "outlinewidth": 0,
              "ticks": ""
             }
            },
            "marker": {
             "colorbar": {
              "outlinewidth": 0,
              "ticks": ""
             }
            },
            "type": "scatter3d"
           }
          ],
          "scattercarpet": [
           {
            "marker": {
             "colorbar": {
              "outlinewidth": 0,
              "ticks": ""
             }
            },
            "type": "scattercarpet"
           }
          ],
          "scattergeo": [
           {
            "marker": {
             "colorbar": {
              "outlinewidth": 0,
              "ticks": ""
             }
            },
            "type": "scattergeo"
           }
          ],
          "scattergl": [
           {
            "marker": {
             "colorbar": {
              "outlinewidth": 0,
              "ticks": ""
             }
            },
            "type": "scattergl"
           }
          ],
          "scattermapbox": [
           {
            "marker": {
             "colorbar": {
              "outlinewidth": 0,
              "ticks": ""
             }
            },
            "type": "scattermapbox"
           }
          ],
          "scatterpolar": [
           {
            "marker": {
             "colorbar": {
              "outlinewidth": 0,
              "ticks": ""
             }
            },
            "type": "scatterpolar"
           }
          ],
          "scatterpolargl": [
           {
            "marker": {
             "colorbar": {
              "outlinewidth": 0,
              "ticks": ""
             }
            },
            "type": "scatterpolargl"
           }
          ],
          "scatterternary": [
           {
            "marker": {
             "colorbar": {
              "outlinewidth": 0,
              "ticks": ""
             }
            },
            "type": "scatterternary"
           }
          ],
          "surface": [
           {
            "colorbar": {
             "outlinewidth": 0,
             "ticks": ""
            },
            "colorscale": [
             [
              0,
              "#0d0887"
             ],
             [
              0.1111111111111111,
              "#46039f"
             ],
             [
              0.2222222222222222,
              "#7201a8"
             ],
             [
              0.3333333333333333,
              "#9c179e"
             ],
             [
              0.4444444444444444,
              "#bd3786"
             ],
             [
              0.5555555555555556,
              "#d8576b"
             ],
             [
              0.6666666666666666,
              "#ed7953"
             ],
             [
              0.7777777777777778,
              "#fb9f3a"
             ],
             [
              0.8888888888888888,
              "#fdca26"
             ],
             [
              1,
              "#f0f921"
             ]
            ],
            "type": "surface"
           }
          ],
          "table": [
           {
            "cells": {
             "fill": {
              "color": "#EBF0F8"
             },
             "line": {
              "color": "white"
             }
            },
            "header": {
             "fill": {
              "color": "#C8D4E3"
             },
             "line": {
              "color": "white"
             }
            },
            "type": "table"
           }
          ]
         },
         "layout": {
          "annotationdefaults": {
           "arrowcolor": "#2a3f5f",
           "arrowhead": 0,
           "arrowwidth": 1
          },
          "autotypenumbers": "strict",
          "coloraxis": {
           "colorbar": {
            "outlinewidth": 0,
            "ticks": ""
           }
          },
          "colorscale": {
           "diverging": [
            [
             0,
             "#8e0152"
            ],
            [
             0.1,
             "#c51b7d"
            ],
            [
             0.2,
             "#de77ae"
            ],
            [
             0.3,
             "#f1b6da"
            ],
            [
             0.4,
             "#fde0ef"
            ],
            [
             0.5,
             "#f7f7f7"
            ],
            [
             0.6,
             "#e6f5d0"
            ],
            [
             0.7,
             "#b8e186"
            ],
            [
             0.8,
             "#7fbc41"
            ],
            [
             0.9,
             "#4d9221"
            ],
            [
             1,
             "#276419"
            ]
           ],
           "sequential": [
            [
             0,
             "#0d0887"
            ],
            [
             0.1111111111111111,
             "#46039f"
            ],
            [
             0.2222222222222222,
             "#7201a8"
            ],
            [
             0.3333333333333333,
             "#9c179e"
            ],
            [
             0.4444444444444444,
             "#bd3786"
            ],
            [
             0.5555555555555556,
             "#d8576b"
            ],
            [
             0.6666666666666666,
             "#ed7953"
            ],
            [
             0.7777777777777778,
             "#fb9f3a"
            ],
            [
             0.8888888888888888,
             "#fdca26"
            ],
            [
             1,
             "#f0f921"
            ]
           ],
           "sequentialminus": [
            [
             0,
             "#0d0887"
            ],
            [
             0.1111111111111111,
             "#46039f"
            ],
            [
             0.2222222222222222,
             "#7201a8"
            ],
            [
             0.3333333333333333,
             "#9c179e"
            ],
            [
             0.4444444444444444,
             "#bd3786"
            ],
            [
             0.5555555555555556,
             "#d8576b"
            ],
            [
             0.6666666666666666,
             "#ed7953"
            ],
            [
             0.7777777777777778,
             "#fb9f3a"
            ],
            [
             0.8888888888888888,
             "#fdca26"
            ],
            [
             1,
             "#f0f921"
            ]
           ]
          },
          "colorway": [
           "#636efa",
           "#EF553B",
           "#00cc96",
           "#ab63fa",
           "#FFA15A",
           "#19d3f3",
           "#FF6692",
           "#B6E880",
           "#FF97FF",
           "#FECB52"
          ],
          "font": {
           "color": "#2a3f5f"
          },
          "geo": {
           "bgcolor": "white",
           "lakecolor": "white",
           "landcolor": "#E5ECF6",
           "showlakes": true,
           "showland": true,
           "subunitcolor": "white"
          },
          "hoverlabel": {
           "align": "left"
          },
          "hovermode": "closest",
          "mapbox": {
           "style": "light"
          },
          "paper_bgcolor": "white",
          "plot_bgcolor": "#E5ECF6",
          "polar": {
           "angularaxis": {
            "gridcolor": "white",
            "linecolor": "white",
            "ticks": ""
           },
           "bgcolor": "#E5ECF6",
           "radialaxis": {
            "gridcolor": "white",
            "linecolor": "white",
            "ticks": ""
           }
          },
          "scene": {
           "xaxis": {
            "backgroundcolor": "#E5ECF6",
            "gridcolor": "white",
            "gridwidth": 2,
            "linecolor": "white",
            "showbackground": true,
            "ticks": "",
            "zerolinecolor": "white"
           },
           "yaxis": {
            "backgroundcolor": "#E5ECF6",
            "gridcolor": "white",
            "gridwidth": 2,
            "linecolor": "white",
            "showbackground": true,
            "ticks": "",
            "zerolinecolor": "white"
           },
           "zaxis": {
            "backgroundcolor": "#E5ECF6",
            "gridcolor": "white",
            "gridwidth": 2,
            "linecolor": "white",
            "showbackground": true,
            "ticks": "",
            "zerolinecolor": "white"
           }
          },
          "shapedefaults": {
           "line": {
            "color": "#2a3f5f"
           }
          },
          "ternary": {
           "aaxis": {
            "gridcolor": "white",
            "linecolor": "white",
            "ticks": ""
           },
           "baxis": {
            "gridcolor": "white",
            "linecolor": "white",
            "ticks": ""
           },
           "bgcolor": "#E5ECF6",
           "caxis": {
            "gridcolor": "white",
            "linecolor": "white",
            "ticks": ""
           }
          },
          "title": {
           "x": 0.05
          },
          "xaxis": {
           "automargin": true,
           "gridcolor": "white",
           "linecolor": "white",
           "ticks": "",
           "title": {
            "standoff": 15
           },
           "zerolinecolor": "white",
           "zerolinewidth": 2
          },
          "yaxis": {
           "automargin": true,
           "gridcolor": "white",
           "linecolor": "white",
           "ticks": "",
           "title": {
            "standoff": 15
           },
           "zerolinecolor": "white",
           "zerolinewidth": 2
          }
         }
        },
        "width": 800,
        "xaxis": {
         "anchor": "y",
         "domain": [
          0,
          1
         ]
        },
        "yaxis": {
         "anchor": "x",
         "domain": [
          0,
          1
         ]
        }
       }
      }
     },
     "metadata": {},
     "output_type": "display_data"
    },
    {
     "name": "stdout",
     "output_type": "stream",
     "text": [
      "RMSE: 0.44223331952783307\n"
     ]
    }
   ],
   "source": [
    "pt = [newlis[9+12*i] for i in range(int(30))]\n",
    "model = linear_model.LinearRegression(normalize=True)\n",
    "    \n",
    "yval = seatemp[\"Annual anomaly\"][:30]\n",
    "\n",
    "model.fit(np.array(pt).reshape(-1, 1), yval)\n",
    "\n",
    "m = list(model.coef_)\n",
    "b = model.intercept_\n",
    "\n",
    "print(model.coef_)\n",
    "print(model.intercept_)\n",
    "\n",
    "pt = [newlis[9+12*i] for i in range(int(35))]\n",
    "\n",
    "realy = seatemp[\"Annual anomaly\"][:35]\n",
    "predy2 = m * np.array(pt) + b\n",
    "\n",
    "fig = make_subplots(rows = 1, cols = 1)\n",
    "\n",
    "fig.add_trace(go.Scatter(x=seatemp[\"Year\"], y=realy,\n",
    "                    mode='markers+lines', name = \"Actual\"))\n",
    "\n",
    "fig.add_trace(go.Scatter(x=seatemp[\"Year\"], y=predy2,\n",
    "                    mode='markers+lines', name = \"Pred\"))\n",
    "\n",
    "fig.update_layout(height=400, width=800)\n",
    "\n",
    "fig.show()\n",
    "\n",
    "print(\"RMSE: \" + str(np.sqrt(sum((predy2 - realy) ** 2))))"
   ]
  },
  {
   "cell_type": "markdown",
   "metadata": {},
   "source": [
    "Coral Survival Rate"
   ]
  },
  {
   "cell_type": "code",
   "execution_count": 10,
   "metadata": {},
   "outputs": [
    {
     "data": {
      "application/vnd.plotly.v1+json": {
       "config": {
        "plotlyServerURL": "https://plot.ly"
       },
       "data": [
        {
         "mode": "markers+lines",
         "name": "Predicted Coral",
         "type": "scatter",
         "x": [
          2020,
          2021,
          2022,
          2023,
          2024,
          2025,
          2026,
          2027,
          2028,
          2029,
          2030,
          2031,
          2032,
          2033,
          2034,
          2035,
          2036,
          2037,
          2038,
          2039,
          2040
         ],
         "y": [
          60,
          60.61503523884103,
          60.94308739433671,
          61.02521491505591,
          60.899993994241306,
          60.60223493401278,
          60.16243518424796,
          59.60673269332621,
          58.95716375118505,
          58.23208025311217,
          57.44662818188128,
          56.61322637873261,
          55.74201154811317,
          54.84123338652928,
          53.91759488729786,
          52.97653928378782,
          52.02248838355772,
          51.0590384013222,
          50.08911962886566,
          49.115125908134,
          48.139019222392285
         ]
        }
       ],
       "layout": {
        "height": 400,
        "template": {
         "data": {
          "bar": [
           {
            "error_x": {
             "color": "#2a3f5f"
            },
            "error_y": {
             "color": "#2a3f5f"
            },
            "marker": {
             "line": {
              "color": "#E5ECF6",
              "width": 0.5
             },
             "pattern": {
              "fillmode": "overlay",
              "size": 10,
              "solidity": 0.2
             }
            },
            "type": "bar"
           }
          ],
          "barpolar": [
           {
            "marker": {
             "line": {
              "color": "#E5ECF6",
              "width": 0.5
             },
             "pattern": {
              "fillmode": "overlay",
              "size": 10,
              "solidity": 0.2
             }
            },
            "type": "barpolar"
           }
          ],
          "carpet": [
           {
            "aaxis": {
             "endlinecolor": "#2a3f5f",
             "gridcolor": "white",
             "linecolor": "white",
             "minorgridcolor": "white",
             "startlinecolor": "#2a3f5f"
            },
            "baxis": {
             "endlinecolor": "#2a3f5f",
             "gridcolor": "white",
             "linecolor": "white",
             "minorgridcolor": "white",
             "startlinecolor": "#2a3f5f"
            },
            "type": "carpet"
           }
          ],
          "choropleth": [
           {
            "colorbar": {
             "outlinewidth": 0,
             "ticks": ""
            },
            "type": "choropleth"
           }
          ],
          "contour": [
           {
            "colorbar": {
             "outlinewidth": 0,
             "ticks": ""
            },
            "colorscale": [
             [
              0,
              "#0d0887"
             ],
             [
              0.1111111111111111,
              "#46039f"
             ],
             [
              0.2222222222222222,
              "#7201a8"
             ],
             [
              0.3333333333333333,
              "#9c179e"
             ],
             [
              0.4444444444444444,
              "#bd3786"
             ],
             [
              0.5555555555555556,
              "#d8576b"
             ],
             [
              0.6666666666666666,
              "#ed7953"
             ],
             [
              0.7777777777777778,
              "#fb9f3a"
             ],
             [
              0.8888888888888888,
              "#fdca26"
             ],
             [
              1,
              "#f0f921"
             ]
            ],
            "type": "contour"
           }
          ],
          "contourcarpet": [
           {
            "colorbar": {
             "outlinewidth": 0,
             "ticks": ""
            },
            "type": "contourcarpet"
           }
          ],
          "heatmap": [
           {
            "colorbar": {
             "outlinewidth": 0,
             "ticks": ""
            },
            "colorscale": [
             [
              0,
              "#0d0887"
             ],
             [
              0.1111111111111111,
              "#46039f"
             ],
             [
              0.2222222222222222,
              "#7201a8"
             ],
             [
              0.3333333333333333,
              "#9c179e"
             ],
             [
              0.4444444444444444,
              "#bd3786"
             ],
             [
              0.5555555555555556,
              "#d8576b"
             ],
             [
              0.6666666666666666,
              "#ed7953"
             ],
             [
              0.7777777777777778,
              "#fb9f3a"
             ],
             [
              0.8888888888888888,
              "#fdca26"
             ],
             [
              1,
              "#f0f921"
             ]
            ],
            "type": "heatmap"
           }
          ],
          "heatmapgl": [
           {
            "colorbar": {
             "outlinewidth": 0,
             "ticks": ""
            },
            "colorscale": [
             [
              0,
              "#0d0887"
             ],
             [
              0.1111111111111111,
              "#46039f"
             ],
             [
              0.2222222222222222,
              "#7201a8"
             ],
             [
              0.3333333333333333,
              "#9c179e"
             ],
             [
              0.4444444444444444,
              "#bd3786"
             ],
             [
              0.5555555555555556,
              "#d8576b"
             ],
             [
              0.6666666666666666,
              "#ed7953"
             ],
             [
              0.7777777777777778,
              "#fb9f3a"
             ],
             [
              0.8888888888888888,
              "#fdca26"
             ],
             [
              1,
              "#f0f921"
             ]
            ],
            "type": "heatmapgl"
           }
          ],
          "histogram": [
           {
            "marker": {
             "pattern": {
              "fillmode": "overlay",
              "size": 10,
              "solidity": 0.2
             }
            },
            "type": "histogram"
           }
          ],
          "histogram2d": [
           {
            "colorbar": {
             "outlinewidth": 0,
             "ticks": ""
            },
            "colorscale": [
             [
              0,
              "#0d0887"
             ],
             [
              0.1111111111111111,
              "#46039f"
             ],
             [
              0.2222222222222222,
              "#7201a8"
             ],
             [
              0.3333333333333333,
              "#9c179e"
             ],
             [
              0.4444444444444444,
              "#bd3786"
             ],
             [
              0.5555555555555556,
              "#d8576b"
             ],
             [
              0.6666666666666666,
              "#ed7953"
             ],
             [
              0.7777777777777778,
              "#fb9f3a"
             ],
             [
              0.8888888888888888,
              "#fdca26"
             ],
             [
              1,
              "#f0f921"
             ]
            ],
            "type": "histogram2d"
           }
          ],
          "histogram2dcontour": [
           {
            "colorbar": {
             "outlinewidth": 0,
             "ticks": ""
            },
            "colorscale": [
             [
              0,
              "#0d0887"
             ],
             [
              0.1111111111111111,
              "#46039f"
             ],
             [
              0.2222222222222222,
              "#7201a8"
             ],
             [
              0.3333333333333333,
              "#9c179e"
             ],
             [
              0.4444444444444444,
              "#bd3786"
             ],
             [
              0.5555555555555556,
              "#d8576b"
             ],
             [
              0.6666666666666666,
              "#ed7953"
             ],
             [
              0.7777777777777778,
              "#fb9f3a"
             ],
             [
              0.8888888888888888,
              "#fdca26"
             ],
             [
              1,
              "#f0f921"
             ]
            ],
            "type": "histogram2dcontour"
           }
          ],
          "mesh3d": [
           {
            "colorbar": {
             "outlinewidth": 0,
             "ticks": ""
            },
            "type": "mesh3d"
           }
          ],
          "parcoords": [
           {
            "line": {
             "colorbar": {
              "outlinewidth": 0,
              "ticks": ""
             }
            },
            "type": "parcoords"
           }
          ],
          "pie": [
           {
            "automargin": true,
            "type": "pie"
           }
          ],
          "scatter": [
           {
            "fillpattern": {
             "fillmode": "overlay",
             "size": 10,
             "solidity": 0.2
            },
            "type": "scatter"
           }
          ],
          "scatter3d": [
           {
            "line": {
             "colorbar": {
              "outlinewidth": 0,
              "ticks": ""
             }
            },
            "marker": {
             "colorbar": {
              "outlinewidth": 0,
              "ticks": ""
             }
            },
            "type": "scatter3d"
           }
          ],
          "scattercarpet": [
           {
            "marker": {
             "colorbar": {
              "outlinewidth": 0,
              "ticks": ""
             }
            },
            "type": "scattercarpet"
           }
          ],
          "scattergeo": [
           {
            "marker": {
             "colorbar": {
              "outlinewidth": 0,
              "ticks": ""
             }
            },
            "type": "scattergeo"
           }
          ],
          "scattergl": [
           {
            "marker": {
             "colorbar": {
              "outlinewidth": 0,
              "ticks": ""
             }
            },
            "type": "scattergl"
           }
          ],
          "scattermapbox": [
           {
            "marker": {
             "colorbar": {
              "outlinewidth": 0,
              "ticks": ""
             }
            },
            "type": "scattermapbox"
           }
          ],
          "scatterpolar": [
           {
            "marker": {
             "colorbar": {
              "outlinewidth": 0,
              "ticks": ""
             }
            },
            "type": "scatterpolar"
           }
          ],
          "scatterpolargl": [
           {
            "marker": {
             "colorbar": {
              "outlinewidth": 0,
              "ticks": ""
             }
            },
            "type": "scatterpolargl"
           }
          ],
          "scatterternary": [
           {
            "marker": {
             "colorbar": {
              "outlinewidth": 0,
              "ticks": ""
             }
            },
            "type": "scatterternary"
           }
          ],
          "surface": [
           {
            "colorbar": {
             "outlinewidth": 0,
             "ticks": ""
            },
            "colorscale": [
             [
              0,
              "#0d0887"
             ],
             [
              0.1111111111111111,
              "#46039f"
             ],
             [
              0.2222222222222222,
              "#7201a8"
             ],
             [
              0.3333333333333333,
              "#9c179e"
             ],
             [
              0.4444444444444444,
              "#bd3786"
             ],
             [
              0.5555555555555556,
              "#d8576b"
             ],
             [
              0.6666666666666666,
              "#ed7953"
             ],
             [
              0.7777777777777778,
              "#fb9f3a"
             ],
             [
              0.8888888888888888,
              "#fdca26"
             ],
             [
              1,
              "#f0f921"
             ]
            ],
            "type": "surface"
           }
          ],
          "table": [
           {
            "cells": {
             "fill": {
              "color": "#EBF0F8"
             },
             "line": {
              "color": "white"
             }
            },
            "header": {
             "fill": {
              "color": "#C8D4E3"
             },
             "line": {
              "color": "white"
             }
            },
            "type": "table"
           }
          ]
         },
         "layout": {
          "annotationdefaults": {
           "arrowcolor": "#2a3f5f",
           "arrowhead": 0,
           "arrowwidth": 1
          },
          "autotypenumbers": "strict",
          "coloraxis": {
           "colorbar": {
            "outlinewidth": 0,
            "ticks": ""
           }
          },
          "colorscale": {
           "diverging": [
            [
             0,
             "#8e0152"
            ],
            [
             0.1,
             "#c51b7d"
            ],
            [
             0.2,
             "#de77ae"
            ],
            [
             0.3,
             "#f1b6da"
            ],
            [
             0.4,
             "#fde0ef"
            ],
            [
             0.5,
             "#f7f7f7"
            ],
            [
             0.6,
             "#e6f5d0"
            ],
            [
             0.7,
             "#b8e186"
            ],
            [
             0.8,
             "#7fbc41"
            ],
            [
             0.9,
             "#4d9221"
            ],
            [
             1,
             "#276419"
            ]
           ],
           "sequential": [
            [
             0,
             "#0d0887"
            ],
            [
             0.1111111111111111,
             "#46039f"
            ],
            [
             0.2222222222222222,
             "#7201a8"
            ],
            [
             0.3333333333333333,
             "#9c179e"
            ],
            [
             0.4444444444444444,
             "#bd3786"
            ],
            [
             0.5555555555555556,
             "#d8576b"
            ],
            [
             0.6666666666666666,
             "#ed7953"
            ],
            [
             0.7777777777777778,
             "#fb9f3a"
            ],
            [
             0.8888888888888888,
             "#fdca26"
            ],
            [
             1,
             "#f0f921"
            ]
           ],
           "sequentialminus": [
            [
             0,
             "#0d0887"
            ],
            [
             0.1111111111111111,
             "#46039f"
            ],
            [
             0.2222222222222222,
             "#7201a8"
            ],
            [
             0.3333333333333333,
             "#9c179e"
            ],
            [
             0.4444444444444444,
             "#bd3786"
            ],
            [
             0.5555555555555556,
             "#d8576b"
            ],
            [
             0.6666666666666666,
             "#ed7953"
            ],
            [
             0.7777777777777778,
             "#fb9f3a"
            ],
            [
             0.8888888888888888,
             "#fdca26"
            ],
            [
             1,
             "#f0f921"
            ]
           ]
          },
          "colorway": [
           "#636efa",
           "#EF553B",
           "#00cc96",
           "#ab63fa",
           "#FFA15A",
           "#19d3f3",
           "#FF6692",
           "#B6E880",
           "#FF97FF",
           "#FECB52"
          ],
          "font": {
           "color": "#2a3f5f"
          },
          "geo": {
           "bgcolor": "white",
           "lakecolor": "white",
           "landcolor": "#E5ECF6",
           "showlakes": true,
           "showland": true,
           "subunitcolor": "white"
          },
          "hoverlabel": {
           "align": "left"
          },
          "hovermode": "closest",
          "mapbox": {
           "style": "light"
          },
          "paper_bgcolor": "white",
          "plot_bgcolor": "#E5ECF6",
          "polar": {
           "angularaxis": {
            "gridcolor": "white",
            "linecolor": "white",
            "ticks": ""
           },
           "bgcolor": "#E5ECF6",
           "radialaxis": {
            "gridcolor": "white",
            "linecolor": "white",
            "ticks": ""
           }
          },
          "scene": {
           "xaxis": {
            "backgroundcolor": "#E5ECF6",
            "gridcolor": "white",
            "gridwidth": 2,
            "linecolor": "white",
            "showbackground": true,
            "ticks": "",
            "zerolinecolor": "white"
           },
           "yaxis": {
            "backgroundcolor": "#E5ECF6",
            "gridcolor": "white",
            "gridwidth": 2,
            "linecolor": "white",
            "showbackground": true,
            "ticks": "",
            "zerolinecolor": "white"
           },
           "zaxis": {
            "backgroundcolor": "#E5ECF6",
            "gridcolor": "white",
            "gridwidth": 2,
            "linecolor": "white",
            "showbackground": true,
            "ticks": "",
            "zerolinecolor": "white"
           }
          },
          "shapedefaults": {
           "line": {
            "color": "#2a3f5f"
           }
          },
          "ternary": {
           "aaxis": {
            "gridcolor": "white",
            "linecolor": "white",
            "ticks": ""
           },
           "baxis": {
            "gridcolor": "white",
            "linecolor": "white",
            "ticks": ""
           },
           "bgcolor": "#E5ECF6",
           "caxis": {
            "gridcolor": "white",
            "linecolor": "white",
            "ticks": ""
           }
          },
          "title": {
           "x": 0.05
          },
          "xaxis": {
           "automargin": true,
           "gridcolor": "white",
           "linecolor": "white",
           "ticks": "",
           "title": {
            "standoff": 15
           },
           "zerolinecolor": "white",
           "zerolinewidth": 2
          },
          "yaxis": {
           "automargin": true,
           "gridcolor": "white",
           "linecolor": "white",
           "ticks": "",
           "title": {
            "standoff": 15
           },
           "zerolinecolor": "white",
           "zerolinewidth": 2
          }
         }
        },
        "title": {
         "text": "Coral population oveseem r time"
        },
        "width": 800,
        "xaxis": {
         "anchor": "y",
         "domain": [
          0,
          1
         ]
        },
        "yaxis": {
         "anchor": "x",
         "domain": [
          0,
          1
         ]
        }
       }
      }
     },
     "metadata": {},
     "output_type": "display_data"
    }
   ],
   "source": [
    "r = 0.17\n",
    "K = 63.85\n",
    "P = 60\n",
    "\n",
    "temp = list(fit1.predict(n_periods = 26 * 12))\n",
    "temp = [temp[9+12*i] for i in range(int(26))][6:]\n",
    "seatemp = m * np.array(temp) + b\n",
    "seatemp = seatemp - list(seatemp)[0]\n",
    "\n",
    "poplist = [P]\n",
    "# P(t) = logistic growth (rP(t-1)(1-P(t-1)/K)) + P(t-1) * coral temp funx (1/2^(1/3x))\n",
    "\n",
    "for i in range(20):\n",
    "    pop = r * poplist[i] * (1 - poplist[i]/63.85) + 1/2 ** (1/3 * seatemp[i]) * poplist[i]\n",
    "    poplist.append(pop)\n",
    "\n",
    "xcoral = np.array([i for i in range(2020, 2041)])\n",
    "ycoral = np.array(poplist)\n",
    "\n",
    "fig = make_subplots(rows = 1, cols = 1)\n",
    "\n",
    "fig.add_trace(go.Scatter(x=xcoral, y=ycoral,\n",
    "                    mode='markers+lines', name = \"Predicted Coral\"))\n",
    "\n",
    "fig.update_layout(height=400, width=800, title = \"Coral population oveseem r time\")\n",
    "\n",
    "fig.show()\n"
   ]
  }
 ],
 "metadata": {
  "kernelspec": {
   "display_name": "Python 3.9.13 ('base')",
   "language": "python",
   "name": "python3"
  },
  "language_info": {
   "codemirror_mode": {
    "name": "ipython",
    "version": 3
   },
   "file_extension": ".py",
   "mimetype": "text/x-python",
   "name": "python",
   "nbconvert_exporter": "python",
   "pygments_lexer": "ipython3",
   "version": "3.9.13"
  },
  "orig_nbformat": 4,
  "vscode": {
   "interpreter": {
    "hash": "ad2bdc8ecc057115af97d19610ffacc2b4e99fae6737bb82f5d7fb13d2f2c186"
   }
  }
 },
 "nbformat": 4,
 "nbformat_minor": 2
}
