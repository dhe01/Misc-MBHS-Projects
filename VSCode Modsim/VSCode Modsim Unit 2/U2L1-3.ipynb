{
 "cells": [
  {
   "cell_type": "code",
   "execution_count": 4,
   "metadata": {},
   "outputs": [],
   "source": [
    "import pandas as pd\n",
    "import numpy as np\n",
    "import seaborn as sns\n",
    "import matplotlib.pyplot as plt\n",
    "from sklearn import preprocessing\n",
    "from sklearn import linear_model\n",
    "import statistics\n",
    "import copy\n",
    "import math\n",
    "import plotly.graph_objects as go\n",
    "import plotly.express as px\n",
    "from plotly.subplots import make_subplots"
   ]
  },
  {
   "cell_type": "markdown",
   "metadata": {},
   "source": [
    "Modsim Library"
   ]
  },
  {
   "cell_type": "code",
   "execution_count": 5,
   "metadata": {},
   "outputs": [],
   "source": [
    "\"\"\"\n",
    "Code from Modeling and Simulation in Python.\n",
    "\n",
    "Copyright 2020 Allen Downey\n",
    "\n",
    "MIT License: https://opensource.org/licenses/MIT\n",
    "\"\"\"\n",
    "\n",
    "import logging\n",
    "\n",
    "logger = logging.getLogger(name=\"modsim.py\")\n",
    "\n",
    "# make sure we have Python 3.6 or better\n",
    "import sys\n",
    "\n",
    "if sys.version_info < (3, 6):\n",
    "    logger.warning(\"modsim.py depends on Python 3.6 features.\")\n",
    "\n",
    "import inspect\n",
    "\n",
    "import matplotlib.pyplot as plt\n",
    "import numpy as np\n",
    "import pandas as pd\n",
    "import scipy\n",
    "\n",
    "import scipy.optimize as spo\n",
    "\n",
    "from scipy.interpolate import interp1d\n",
    "from scipy.interpolate import InterpolatedUnivariateSpline\n",
    "\n",
    "from scipy.integrate import solve_ivp\n",
    "\n",
    "from types import SimpleNamespace\n",
    "from copy import copy\n",
    "\n",
    "\n",
    "def flip(p=0.5):\n",
    "    \"\"\"Flips a coin with the given probability.\n",
    "\n",
    "    p: float 0-1\n",
    "\n",
    "    returns: boolean (True or False)\n",
    "    \"\"\"\n",
    "    return np.random.random() < p\n",
    "\n",
    "\n",
    "def cart2pol(x, y, z=None):\n",
    "    \"\"\"Convert Cartesian coordinates to polar.\n",
    "\n",
    "    x: number or sequence\n",
    "    y: number or sequence\n",
    "    z: number or sequence (optional)\n",
    "\n",
    "    returns: theta, rho OR theta, rho, z\n",
    "    \"\"\"\n",
    "    x = np.asarray(x)\n",
    "    y = np.asarray(y)\n",
    "\n",
    "    rho = np.hypot(x, y)\n",
    "    theta = np.arctan2(y, x)\n",
    "\n",
    "    if z is None:\n",
    "        return theta, rho\n",
    "    else:\n",
    "        return theta, rho, z\n",
    "\n",
    "\n",
    "def pol2cart(theta, rho, z=None):\n",
    "    \"\"\"Convert polar coordinates to Cartesian.\n",
    "\n",
    "    theta: number or sequence in radians\n",
    "    rho: number or sequence\n",
    "    z: number or sequence (optional)\n",
    "\n",
    "    returns: x, y OR x, y, z\n",
    "    \"\"\"\n",
    "    x = rho * np.cos(theta)\n",
    "    y = rho * np.sin(theta)\n",
    "\n",
    "    if z is None:\n",
    "        return x, y\n",
    "    else:\n",
    "        return x, y, z\n",
    "\n",
    "from numpy import linspace\n",
    "\n",
    "def linrange(start, stop=None, step=1, **options):\n",
    "    \"\"\"Make an array of equally spaced values.\n",
    "\n",
    "    start: first value\n",
    "    stop: last value (might be approximate)\n",
    "    step: difference between elements (should be consistent)\n",
    "\n",
    "    returns: NumPy array\n",
    "    \"\"\"\n",
    "    if stop is None:\n",
    "        stop = start\n",
    "        start = 0\n",
    "    n = int(round((stop-start) / step))\n",
    "    return linspace(start, stop, n+1, **options)\n",
    "\n",
    "\n",
    "def root_scalar(func, *args, **kwargs):\n",
    "    \"\"\"Finds the input value that minimizes `min_func`.\n",
    "\n",
    "    Wrapper for\n",
    "    https://docs.scipy.org/doc/scipy/reference/generated/scipy.optimize.root_scalar.html\n",
    "\n",
    "    func: computes the function to be minimized\n",
    "    bracket: sequence of two values, lower and upper bounds of the range to be searched\n",
    "    args: any additional positional arguments are passed to func\n",
    "    kwargs: any keyword arguments are passed to root_scalar\n",
    "\n",
    "    returns: RootResults object\n",
    "    \"\"\"\n",
    "    bracket = kwargs.get('bracket', None)\n",
    "    if bracket is None or len(bracket) != 2:\n",
    "        msg = (\"To run root_scalar, you have to provide a \"\n",
    "               \"`bracket` keyword argument with a sequence \"\n",
    "               \"of length 2.\")\n",
    "        raise ValueError(msg)\n",
    "\n",
    "    try:\n",
    "        func(bracket[0], *args)\n",
    "    except Exception as e:\n",
    "        msg = (\"Before running scipy.integrate.root_scalar \"\n",
    "               \"I tried running the function you provided \"\n",
    "               \"with `bracket[0]`, \"\n",
    "               \"and I got the following error:\")\n",
    "        logger.error(msg)\n",
    "        raise (e)\n",
    "\n",
    "    underride(kwargs, rtol=1e-4)\n",
    "\n",
    "    res = spo.root_scalar(func, *args, **kwargs)\n",
    "\n",
    "    if not res.converged:\n",
    "        msg = (\"scipy.optimize.root_scalar did not converge. \"\n",
    "               \"The message it returned is:\\n\" + res.flag)\n",
    "        raise ValueError(msg)\n",
    "\n",
    "    return res\n",
    "\n",
    "\n",
    "def minimize_scalar(func, *args, **kwargs):\n",
    "    \"\"\"Finds the input value that minimizes `func`.\n",
    "\n",
    "    Wrapper for\n",
    "    https://docs.scipy.org/doc/scipy/reference/generated/scipy.optimize.minimize_scalar.html\n",
    "\n",
    "    func: computes the function to be minimized\n",
    "    args: any additional positional arguments are passed to func\n",
    "    kwargs: any keyword arguments are passed to minimize_scalar\n",
    "\n",
    "    returns: OptimizeResult object\n",
    "    \"\"\"\n",
    "    bounds = kwargs.get('bounds', None)\n",
    "\n",
    "    if bounds is None or len(bounds) != 2:\n",
    "        msg = (\"To run maximize_scalar or minimize_scalar, \"\n",
    "               \"you have to provide a `bounds` \"\n",
    "               \"keyword argument with a sequence \"\n",
    "               \"of length 2.\")\n",
    "        raise ValueError(msg)\n",
    "\n",
    "    try:\n",
    "        func(bounds[0], *args)\n",
    "    except Exception as e:\n",
    "        msg = (\"Before running scipy.integrate.minimize_scalar, \"\n",
    "               \"I tried running the function you provided \"\n",
    "               \"with the lower bound, \"\n",
    "               \"and I got the following error:\")\n",
    "        logger.error(msg)\n",
    "        raise (e)\n",
    "\n",
    "    underride(kwargs, method='bounded')\n",
    "\n",
    "    res = spo.minimize_scalar(func, args=args, **kwargs)\n",
    "\n",
    "    if not res.success:\n",
    "        msg = (\"minimize_scalar did not succeed.\"\n",
    "               \"The message it returned is: \\n\" +\n",
    "               res.message)\n",
    "        raise Exception(msg)\n",
    "\n",
    "    return res\n",
    "\n",
    "\n",
    "def maximize_scalar(max_func, *args, **kwargs):\n",
    "    \"\"\"Finds the input value that maximizes `max_func`.\n",
    "\n",
    "    Wrapper for https://docs.scipy.org/doc/scipy/reference/generated/scipy.optimize.minimize_scalar.html\n",
    "\n",
    "    min_func: computes the function to be maximized\n",
    "    args: any additional positional arguments are passed to max_func\n",
    "    options: any keyword arguments are passed as options to minimize_scalar\n",
    "\n",
    "    returns: ModSimSeries object\n",
    "    \"\"\"\n",
    "    def min_func(*args):\n",
    "        return -max_func(*args)\n",
    "\n",
    "    res = minimize_scalar(min_func, *args, **kwargs)\n",
    "\n",
    "    # we have to negate the function value before returning res\n",
    "    res.fun = -res.fun\n",
    "    return res\n",
    "\n",
    "\n",
    "def run_solve_ivp(system, slope_func, **options):\n",
    "    \"\"\"Computes a numerical solution to a differential equation.\n",
    "\n",
    "    `system` must contain `init` with initial conditions,\n",
    "    `t_end` with the end time.  Optionally, it can contain\n",
    "    `t_0` with the start time.\n",
    "\n",
    "    It should contain any other parameters required by the\n",
    "    slope function.\n",
    "\n",
    "    `options` can be any legal options of `scipy.integrate.solve_ivp`\n",
    "\n",
    "    system: System object\n",
    "    slope_func: function that computes slopes\n",
    "\n",
    "    returns: TimeFrame\n",
    "    \"\"\"\n",
    "    system = remove_units(system)\n",
    "\n",
    "    # make sure `system` contains `init`\n",
    "    if not hasattr(system, \"init\"):\n",
    "        msg = \"\"\"It looks like `system` does not contain `init`\n",
    "                 as a system variable.  `init` should be a State\n",
    "                 object that specifies the initial condition:\"\"\"\n",
    "        raise ValueError(msg)\n",
    "\n",
    "    # make sure `system` contains `t_end`\n",
    "    if not hasattr(system, \"t_end\"):\n",
    "        msg = \"\"\"It looks like `system` does not contain `t_end`\n",
    "                 as a system variable.  `t_end` should be the\n",
    "                 final time:\"\"\"\n",
    "        raise ValueError(msg)\n",
    "\n",
    "    # the default value for t_0 is 0\n",
    "    t_0 = getattr(system, \"t_0\", 0)\n",
    "\n",
    "    # try running the slope function with the initial conditions\n",
    "    try:\n",
    "        slope_func(t_0, system.init, system)\n",
    "    except Exception as e:\n",
    "        msg = \"\"\"Before running scipy.integrate.solve_ivp, I tried\n",
    "                 running the slope function you provided with the\n",
    "                 initial conditions in `system` and `t=t_0` and I got\n",
    "                 the following error:\"\"\"\n",
    "        logger.error(msg)\n",
    "        raise (e)\n",
    "\n",
    "    # get the list of event functions\n",
    "    events = options.get('events', [])\n",
    "\n",
    "    # if there's only one event function, put it in a list\n",
    "    try:\n",
    "        iter(events)\n",
    "    except TypeError:\n",
    "        events = [events]\n",
    "\n",
    "    for event_func in events:\n",
    "        # make events terminal unless otherwise specified\n",
    "        if not hasattr(event_func, 'terminal'):\n",
    "            event_func.terminal = True\n",
    "\n",
    "        # test the event function with the initial conditions\n",
    "        try:\n",
    "            event_func(t_0, system.init, system)\n",
    "        except Exception as e:\n",
    "            msg = \"\"\"Before running scipy.integrate.solve_ivp, I tried\n",
    "                     running the event function you provided with the\n",
    "                     initial conditions in `system` and `t=t_0` and I got\n",
    "                     the following error:\"\"\"\n",
    "            logger.error(msg)\n",
    "            raise (e)\n",
    "\n",
    "    # get dense output unless otherwise specified\n",
    "    if not 't_eval' in options:\n",
    "        underride(options, dense_output=True)\n",
    "\n",
    "    # run the solver\n",
    "    bunch = solve_ivp(slope_func, [t_0, system.t_end], system.init,\n",
    "                      args=[system], **options)\n",
    "\n",
    "    # separate the results from the details\n",
    "    y = bunch.pop(\"y\")\n",
    "    t = bunch.pop(\"t\")\n",
    "\n",
    "    # get the column names from `init`, if possible\n",
    "    if hasattr(system.init, 'index'):\n",
    "        columns = system.init.index\n",
    "    else:\n",
    "        columns = range(len(system.init))\n",
    "\n",
    "    # evaluate the results at equally-spaced points\n",
    "    if options.get('dense_output', False):\n",
    "        try:\n",
    "            num = system.num\n",
    "        except AttributeError:\n",
    "            num = 101\n",
    "        t_final = t[-1]\n",
    "        t_array = linspace(t_0, t_final, num)\n",
    "        y_array = bunch.sol(t_array)\n",
    "\n",
    "        # pack the results into a TimeFrame\n",
    "        results = TimeFrame(y_array.T, index=t_array,\n",
    "                        columns=columns)\n",
    "    else:\n",
    "        results = TimeFrame(y.T, index=t,\n",
    "                        columns=columns)\n",
    "\n",
    "    return results, bunch\n",
    "\n",
    "\n",
    "def leastsq(error_func, x0, *args, **options):\n",
    "    \"\"\"Find the parameters that yield the best fit for the data.\n",
    "\n",
    "    `x0` can be a sequence, array, Series, or Params\n",
    "\n",
    "    Positional arguments are passed along to `error_func`.\n",
    "\n",
    "    Keyword arguments are passed to `scipy.optimize.leastsq`\n",
    "\n",
    "    error_func: function that computes a sequence of errors\n",
    "    x0: initial guess for the best parameters\n",
    "    args: passed to error_func\n",
    "    options: passed to leastsq\n",
    "\n",
    "    :returns: Params object with best_params and ModSimSeries with details\n",
    "    \"\"\"\n",
    "    # override `full_output` so we get a message if something goes wrong\n",
    "    options[\"full_output\"] = True\n",
    "\n",
    "    # run leastsq\n",
    "    t = scipy.optimize.leastsq(error_func, x0=x0, args=args, **options)\n",
    "    best_params, cov_x, infodict, mesg, ier = t\n",
    "\n",
    "    # pack the results into a ModSimSeries object\n",
    "    details = SimpleNamespace(cov_x=cov_x,\n",
    "                              mesg=mesg,\n",
    "                              ier=ier,\n",
    "                              **infodict)\n",
    "    details.success = details.ier in [1,2,3,4]\n",
    "\n",
    "    # if we got a Params object, we should return a Params object\n",
    "    if isinstance(x0, Params):\n",
    "        best_params = Params(pd.Series(best_params, x0.index))\n",
    "\n",
    "    # return the best parameters and details\n",
    "    return best_params, details\n",
    "\n",
    "\n",
    "def crossings(series, value):\n",
    "    \"\"\"Find the labels where the series passes through value.\n",
    "\n",
    "    The labels in series must be increasing numerical values.\n",
    "\n",
    "    series: Series\n",
    "    value: number\n",
    "\n",
    "    returns: sequence of labels\n",
    "    \"\"\"\n",
    "    values = series.values - value\n",
    "    interp = InterpolatedUnivariateSpline(series.index, values)\n",
    "    return interp.roots()\n",
    "\n",
    "\n",
    "def has_nan(a):\n",
    "    \"\"\"Checks whether the an array contains any NaNs.\n",
    "\n",
    "    :param a: NumPy array or Pandas Series\n",
    "    :return: boolean\n",
    "    \"\"\"\n",
    "    return np.any(np.isnan(a))\n",
    "\n",
    "\n",
    "def is_strictly_increasing(a):\n",
    "    \"\"\"Checks whether the elements of an array are strictly increasing.\n",
    "\n",
    "    :param a: NumPy array or Pandas Series\n",
    "    :return: boolean\n",
    "    \"\"\"\n",
    "    return np.all(np.diff(a) > 0)\n",
    "\n",
    "\n",
    "def interpolate(series, **options):\n",
    "    \"\"\"Creates an interpolation function.\n",
    "\n",
    "    series: Series object\n",
    "    options: any legal options to scipy.interpolate.interp1d\n",
    "\n",
    "    returns: function that maps from the index to the values\n",
    "    \"\"\"\n",
    "    if has_nan(series.index):\n",
    "        msg = \"\"\"The Series you passed to interpolate contains\n",
    "                 NaN values in the index, which would result in\n",
    "                 undefined behavior.  So I'm putting a stop to that.\"\"\"\n",
    "        raise ValueError(msg)\n",
    "\n",
    "    if not is_strictly_increasing(series.index):\n",
    "        msg = \"\"\"The Series you passed to interpolate has an index\n",
    "                 that is not strictly increasing, which would result in\n",
    "                 undefined behavior.  So I'm putting a stop to that.\"\"\"\n",
    "        raise ValueError(msg)\n",
    "\n",
    "    # make the interpolate function extrapolate past the ends of\n",
    "    # the range, unless `options` already specifies a value for `fill_value`\n",
    "    underride(options, fill_value=\"extrapolate\")\n",
    "\n",
    "    # call interp1d, which returns a new function object\n",
    "    x = series.index\n",
    "    y = series.values\n",
    "    interp_func = interp1d(x, y, **options)\n",
    "    return interp_func\n",
    "\n",
    "\n",
    "def interpolate_inverse(series, **options):\n",
    "    \"\"\"Interpolate the inverse function of a Series.\n",
    "\n",
    "    series: Series object, represents a mapping from `a` to `b`\n",
    "    options: any legal options to scipy.interpolate.interp1d\n",
    "\n",
    "    returns: interpolation object, can be used as a function\n",
    "             from `b` to `a`\n",
    "    \"\"\"\n",
    "    inverse = pd.Series(series.index, index=series.values)\n",
    "    interp_func = interpolate(inverse, **options)\n",
    "    return interp_func\n",
    "\n",
    "\n",
    "def gradient(series, **options):\n",
    "    \"\"\"Computes the numerical derivative of a series.\n",
    "\n",
    "    If the elements of series have units, they are dropped.\n",
    "\n",
    "    series: Series object\n",
    "    options: any legal options to np.gradient\n",
    "\n",
    "    returns: Series, same subclass as series\n",
    "    \"\"\"\n",
    "    x = series.index\n",
    "    y = series.values\n",
    "\n",
    "    a = np.gradient(y, x, **options)\n",
    "    return series.__class__(a, series.index)\n",
    "\n",
    "\n",
    "def source_code(obj):\n",
    "    \"\"\"Prints the source code for a given object.\n",
    "\n",
    "    obj: function or method object\n",
    "    \"\"\"\n",
    "    print(inspect.getsource(obj))\n",
    "\n",
    "\n",
    "def underride(d, **options):\n",
    "    \"\"\"Add key-value pairs to d only if key is not in d.\n",
    "\n",
    "    If d is None, create a new dictionary.\n",
    "\n",
    "    d: dictionary\n",
    "    options: keyword args to add to d\n",
    "    \"\"\"\n",
    "    if d is None:\n",
    "        d = {}\n",
    "\n",
    "    for key, val in options.items():\n",
    "        d.setdefault(key, val)\n",
    "\n",
    "    return d\n",
    "\n",
    "\n",
    "def contour(df, **options):\n",
    "    \"\"\"Makes a contour plot from a DataFrame.\n",
    "\n",
    "    Wrapper for plt.contour\n",
    "    https://matplotlib.org/3.1.0/api/_as_gen/matplotlib.pyplot.contour.html\n",
    "\n",
    "    Note: columns and index must be numerical\n",
    "\n",
    "    df: DataFrame\n",
    "    options: passed to plt.contour\n",
    "    \"\"\"\n",
    "    fontsize = options.pop(\"fontsize\", 12)\n",
    "    underride(options, cmap=\"viridis\")\n",
    "    x = df.columns\n",
    "    y = df.index\n",
    "    X, Y = np.meshgrid(x, y)\n",
    "    cs = plt.contour(X, Y, df, **options)\n",
    "    plt.clabel(cs, inline=1, fontsize=fontsize)\n",
    "\n",
    "\n",
    "def savefig(filename, **options):\n",
    "    \"\"\"Save the current figure.\n",
    "\n",
    "    Keyword arguments are passed along to plt.savefig\n",
    "\n",
    "    https://matplotlib.org/api/_as_gen/matplotlib.pyplot.savefig.html\n",
    "\n",
    "    filename: string\n",
    "    \"\"\"\n",
    "    print(\"Saving figure to file\", filename)\n",
    "    plt.savefig(filename, **options)\n",
    "\n",
    "\n",
    "def decorate(**options):\n",
    "    \"\"\"Decorate the current axes.\n",
    "\n",
    "    Call decorate with keyword arguments like\n",
    "    decorate(title='Title',\n",
    "             xlabel='x',\n",
    "             ylabel='y')\n",
    "\n",
    "    The keyword arguments can be any of the axis properties\n",
    "    https://matplotlib.org/api/axes_api.html\n",
    "    \"\"\"\n",
    "    ax = plt.gca()\n",
    "    ax.set(**options)\n",
    "\n",
    "    handles, labels = ax.get_legend_handles_labels()\n",
    "    if handles:\n",
    "        ax.legend(handles, labels)\n",
    "\n",
    "    plt.tight_layout()\n",
    "\n",
    "\n",
    "def remove_from_legend(bad_labels):\n",
    "    \"\"\"Removes some labels from the legend.\n",
    "\n",
    "    bad_labels: sequence of strings\n",
    "    \"\"\"\n",
    "    ax = plt.gca()\n",
    "    handles, labels = ax.get_legend_handles_labels()\n",
    "    handle_list, label_list = [], []\n",
    "    for handle, label in zip(handles, labels):\n",
    "        if label not in bad_labels:\n",
    "            handle_list.append(handle)\n",
    "            label_list.append(label)\n",
    "    ax.legend(handle_list, label_list)\n",
    "\n",
    "\n",
    "class SettableNamespace(SimpleNamespace):\n",
    "    \"\"\"Contains a collection of parameters.\n",
    "\n",
    "    Used to make a System object.\n",
    "\n",
    "    Takes keyword arguments and stores them as attributes.\n",
    "    \"\"\"\n",
    "    def __init__(self, namespace=None, **kwargs):\n",
    "        super().__init__()\n",
    "        if namespace:\n",
    "            self.__dict__.update(namespace.__dict__)\n",
    "        self.__dict__.update(kwargs)\n",
    "\n",
    "    def get(self, name, default=None):\n",
    "        \"\"\"Look up a variable.\n",
    "\n",
    "        name: string varname\n",
    "        default: value returned if `name` is not present\n",
    "        \"\"\"\n",
    "        try:\n",
    "            return self.__getattribute__(name, default)\n",
    "        except AttributeError:\n",
    "            return default\n",
    "\n",
    "    def set(self, **variables):\n",
    "        \"\"\"Make a copy and update the given variables.\n",
    "\n",
    "        returns: Params\n",
    "        \"\"\"\n",
    "        new = copy(self)\n",
    "        new.__dict__.update(variables)\n",
    "        return new\n",
    "\n",
    "\n",
    "def magnitude(x):\n",
    "    \"\"\"Returns the magnitude of a Quantity or number.\n",
    "\n",
    "    x: Quantity or number\n",
    "\n",
    "    returns: number\n",
    "    \"\"\"\n",
    "    return x.magnitude if hasattr(x, 'magnitude') else x\n",
    "\n",
    "\n",
    "def remove_units(namespace):\n",
    "    \"\"\"Removes units from the values in a Namespace.\n",
    "\n",
    "    Only removes units from top-level values;\n",
    "    does not traverse nested values.\n",
    "\n",
    "    returns: new Namespace object\n",
    "    \"\"\"\n",
    "    res = copy(namespace)\n",
    "    for label, value in res.__dict__.items():\n",
    "        if isinstance(value, pd.Series):\n",
    "            value = remove_units_series(value)\n",
    "        res.__dict__[label] = magnitude(value)\n",
    "    return res\n",
    "\n",
    "\n",
    "def remove_units_series(series):\n",
    "    \"\"\"Removes units from the values in a Series.\n",
    "\n",
    "    Only removes units from top-level values;\n",
    "    does not traverse nested values.\n",
    "\n",
    "    returns: new Series object\n",
    "    \"\"\"\n",
    "    res = copy(series)\n",
    "    for label, value in res.iteritems():\n",
    "        res[label] = magnitude(value)\n",
    "    return res\n",
    "\n",
    "\n",
    "class System(SettableNamespace):\n",
    "    \"\"\"Contains system parameters and their values.\n",
    "\n",
    "    Takes keyword arguments and stores them as attributes.\n",
    "    \"\"\"\n",
    "    pass\n",
    "\n",
    "\n",
    "class Params(SettableNamespace):\n",
    "    \"\"\"Contains system parameters and their values.\n",
    "\n",
    "    Takes keyword arguments and stores them as attributes.\n",
    "    \"\"\"\n",
    "    pass\n",
    "\n",
    "\n",
    "def State(**variables):\n",
    "    \"\"\"Contains the values of state variables.\"\"\"\n",
    "    return pd.Series(variables, name='state')\n",
    "\n",
    "\n",
    "def make_series(x, y, **options):\n",
    "    \"\"\"Make a Pandas Series.\n",
    "\n",
    "    x: sequence used as the index\n",
    "    y: sequence used as the values\n",
    "\n",
    "    returns: Pandas Series\n",
    "    \"\"\"\n",
    "    underride(options, name='values')\n",
    "    if isinstance(y, pd.Series):\n",
    "        y = y.values\n",
    "    series = pd.Series(y, index=x, **options)\n",
    "    series.index.name = 'index'\n",
    "    return series\n",
    "\n",
    "\n",
    "def TimeSeries(*args, **kwargs):\n",
    "    \"\"\"\n",
    "    \"\"\"\n",
    "    if args or kwargs:\n",
    "        series = pd.Series(*args, **kwargs)\n",
    "    else:\n",
    "        series = pd.Series([], dtype=np.float64)\n",
    "\n",
    "    series.index.name = 'Time'\n",
    "    if 'name' not in kwargs:\n",
    "        series.name = 'Quantity'\n",
    "    return series\n",
    "\n",
    "\n",
    "def SweepSeries(*args, **kwargs):\n",
    "    \"\"\"\n",
    "    \"\"\"\n",
    "    if args or kwargs:\n",
    "        series = pd.Series(*args, **kwargs)\n",
    "    else:\n",
    "        series = pd.Series([], dtype=np.float64)\n",
    "\n",
    "    series.index.name = 'Parameter'\n",
    "    if 'name' not in kwargs:\n",
    "        series.name = 'Metric'\n",
    "    return series\n",
    "\n",
    "\n",
    "def show(obj):\n",
    "    \"\"\"Display a Series or Namespace as a DataFrame.\"\"\"\n",
    "    if isinstance(obj, pd.Series):\n",
    "        df = pd.DataFrame(obj)\n",
    "        return df\n",
    "    elif hasattr(obj, '__dict__'):\n",
    "        return pd.DataFrame(pd.Series(obj.__dict__),\n",
    "                            columns=['value'])\n",
    "    else:\n",
    "        return obj\n",
    "\n",
    "\n",
    "def TimeFrame(*args, **kwargs):\n",
    "    \"\"\"DataFrame that maps from time to State.\n",
    "    \"\"\"\n",
    "    underride(kwargs, dtype=float)\n",
    "    return pd.DataFrame(*args, **kwargs)\n",
    "\n",
    "\n",
    "def SweepFrame(*args, **kwargs):\n",
    "    \"\"\"DataFrame that maps from parameter value to SweepSeries.\n",
    "    \"\"\"\n",
    "    underride(kwargs, dtype=float)\n",
    "    return pd.DataFrame(*args, **kwargs)\n",
    "\n",
    "\n",
    "def Vector(x, y, z=None, **options):\n",
    "    \"\"\"\n",
    "    \"\"\"\n",
    "    underride(options, name='component')\n",
    "    if z is None:\n",
    "        return pd.Series(dict(x=x, y=y), **options)\n",
    "    else:\n",
    "        return pd.Series(dict(x=x, y=y, z=z), **options)\n",
    "\n",
    "\n",
    "## Vector functions (should work with any sequence)\n",
    "\n",
    "def vector_mag(v):\n",
    "    \"\"\"Vector magnitude.\"\"\"\n",
    "    return np.sqrt(np.dot(v, v))\n",
    "\n",
    "\n",
    "def vector_mag2(v):\n",
    "    \"\"\"Vector magnitude squared.\"\"\"\n",
    "    return np.dot(v, v)\n",
    "\n",
    "\n",
    "def vector_angle(v):\n",
    "    \"\"\"Angle between v and the positive x axis.\n",
    "\n",
    "    Only works with 2-D vectors.\n",
    "\n",
    "    returns: angle in radians\n",
    "    \"\"\"\n",
    "    assert len(v) == 2\n",
    "    x, y = v\n",
    "    return np.arctan2(y, x)\n",
    "\n",
    "\n",
    "def vector_polar(v):\n",
    "    \"\"\"Vector magnitude and angle.\n",
    "\n",
    "    returns: (number, angle in radians)\n",
    "    \"\"\"\n",
    "    return vector_mag(v), vector_angle(v)\n",
    "\n",
    "\n",
    "def vector_hat(v):\n",
    "    \"\"\"Unit vector in the direction of v.\n",
    "\n",
    "    returns: Vector or array\n",
    "    \"\"\"\n",
    "    # check if the magnitude of the Quantity is 0\n",
    "    mag = vector_mag(v)\n",
    "    if mag == 0:\n",
    "        return v\n",
    "    else:\n",
    "        return v / mag\n",
    "\n",
    "\n",
    "def vector_perp(v):\n",
    "    \"\"\"Perpendicular Vector (rotated left).\n",
    "\n",
    "    Only works with 2-D Vectors.\n",
    "\n",
    "    returns: Vector\n",
    "    \"\"\"\n",
    "    assert len(v) == 2\n",
    "    x, y = v\n",
    "    return Vector(-y, x)\n",
    "\n",
    "\n",
    "def vector_dot(v, w):\n",
    "    \"\"\"Dot product of v and w.\n",
    "\n",
    "    returns: number or Quantity\n",
    "    \"\"\"\n",
    "    return np.dot(v, w)\n",
    "\n",
    "\n",
    "def vector_cross(v, w):\n",
    "    \"\"\"Cross product of v and w.\n",
    "\n",
    "    returns: number or Quantity for 2-D, Vector for 3-D\n",
    "    \"\"\"\n",
    "    res = np.cross(v, w)\n",
    "\n",
    "    if len(v) == 3:\n",
    "        return Vector(*res)\n",
    "    else:\n",
    "        return res\n",
    "\n",
    "\n",
    "def vector_proj(v, w):\n",
    "    \"\"\"Projection of v onto w.\n",
    "\n",
    "    returns: array or Vector with direction of w and units of v.\n",
    "    \"\"\"\n",
    "    w_hat = vector_hat(w)\n",
    "    return vector_dot(v, w_hat) * w_hat\n",
    "\n",
    "\n",
    "def scalar_proj(v, w):\n",
    "    \"\"\"Returns the scalar projection of v onto w.\n",
    "\n",
    "    Which is the magnitude of the projection of v onto w.\n",
    "\n",
    "    returns: scalar with units of v.\n",
    "    \"\"\"\n",
    "    return vector_dot(v, vector_hat(w))\n",
    "\n",
    "\n",
    "def vector_dist(v, w):\n",
    "    \"\"\"Euclidean distance from v to w, with units.\"\"\"\n",
    "    if isinstance(v, list):\n",
    "        v = np.asarray(v)\n",
    "    return vector_mag(v - w)\n",
    "\n",
    "\n",
    "def vector_diff_angle(v, w):\n",
    "    \"\"\"Angular difference between two vectors, in radians.\n",
    "    \"\"\"\n",
    "    if len(v) == 2:\n",
    "        return vector_angle(v) - vector_angle(w)\n",
    "    else:\n",
    "        # TODO: see http://www.euclideanspace.com/maths/algebra/\n",
    "        # vectors/angleBetween/\n",
    "        raise NotImplementedError()\n",
    "\n",
    "\n",
    "def plot_segment(A, B, **options):\n",
    "    \"\"\"Plots a line segment between two Vectors.\n",
    "\n",
    "    For 3-D vectors, the z axis is ignored.\n",
    "\n",
    "    Additional options are passed along to plot().\n",
    "\n",
    "    A: Vector\n",
    "    B: Vector\n",
    "    \"\"\"\n",
    "    xs = A.x, B.x\n",
    "    ys = A.y, B.y\n",
    "    plt.plot(xs, ys, **options)\n",
    "\n",
    "\n",
    "from time import sleep\n",
    "from IPython.display import clear_output\n",
    "\n",
    "def animate(results, draw_func, *args, interval=None):\n",
    "    \"\"\"Animate results from a simulation.\n",
    "\n",
    "    results: TimeFrame\n",
    "    draw_func: function that draws state\n",
    "    interval: time between frames in seconds\n",
    "    \"\"\"\n",
    "    plt.figure()\n",
    "    try:\n",
    "        for t, state in results.iterrows():\n",
    "            draw_func(t, state, *args)\n",
    "            plt.show()\n",
    "            if interval:\n",
    "                sleep(interval)\n",
    "            clear_output(wait=True)\n",
    "        draw_func(t, state, *args)\n",
    "        plt.show()\n",
    "    except KeyboardInterrupt:\n",
    "        pass\n"
   ]
  },
  {
   "cell_type": "markdown",
   "metadata": {},
   "source": [
    "Definitions"
   ]
  },
  {
   "cell_type": "code",
   "execution_count": 6,
   "metadata": {},
   "outputs": [],
   "source": [
    "def make_system(beta, gamma):\n",
    "    init = State(s = 89, i = 1, r = 0)\n",
    "    init = init/sum(init)\n",
    "\n",
    "    return System(init = init, t_end = 7*14, beta = beta, gamma = gamma)\n",
    "\n",
    "def update_func(t, state, system):\n",
    "    s, i, r = state.s, state.i, state.r\n",
    "    \n",
    "    infected = system.beta * i * s\n",
    "    recovered = system.gamma * i\n",
    "    \n",
    "    s -= infected\n",
    "    i += infected - recovered\n",
    "    r += recovered\n",
    "    \n",
    "    return State(s=s, i=i, r=r)\n",
    "\n",
    "def run_simulation1(system, update_func):\n",
    "    state = system.init\n",
    "    \n",
    "    for t in range(system.t_end):\n",
    "        state = update_func(t, state, system)\n",
    "    \n",
    "    return(state)\n",
    "\n",
    "def run_simulation(system, update_func):\n",
    "    S = TimeSeries()\n",
    "    I = TimeSeries()\n",
    "    R = TimeSeries()\n",
    "\n",
    "    state = system.init\n",
    "    S[0], I[0], R[0] = state\n",
    "    \n",
    "    for t in range(0, system.t_end):\n",
    "        state = update_func(t, state, system)\n",
    "        S[t+1], I[t+1], R[t+1] = state.s, state.i, state.r\n",
    "    \n",
    "    return S, I, R\n",
    "\n",
    "def add_immunization(system, fraction):\n",
    "    system.init.s -= fraction\n",
    "    system.init.r += fraction\n",
    "    \n",
    "def calc_total_infected(results, system):\n",
    "    s_0 = results[0][0]\n",
    "    s_end = results[0][system.t_end]\n",
    "    return s_0 - s_end\n",
    "\n",
    "def sweep_immunity(fraction_array):\n",
    "    sweep = SweepSeries()\n",
    "\n",
    "    for fraction in fraction_array:\n",
    "        system = make_system(beta, gamma)\n",
    "        add_immunization(system, fraction)\n",
    "        results = run_simulation(system, update_func)\n",
    "        sweep[fraction] = calc_total_infected(results, system)\n",
    "\n",
    "    return sweep\n",
    "\n",
    "def sweep_beta(beta_array, gamma):\n",
    "    sweep = SweepSeries()\n",
    "    for beta in beta_array:\n",
    "        system = make_system(beta, gamma)\n",
    "        results = run_simulation(system, update_func)\n",
    "        sweep[beta] = calc_total_infected(results, system)\n",
    "    return sweep\n"
   ]
  },
  {
   "cell_type": "markdown",
   "metadata": {},
   "source": [
    "First Implementation (w/o Series)"
   ]
  },
  {
   "cell_type": "code",
   "execution_count": 7,
   "metadata": {},
   "outputs": [
    {
     "data": {
      "text/plain": [
       "namespace(init=s    0.988889\n",
       "               i    0.011111\n",
       "               r    0.000000\n",
       "               Name: state, dtype: float64,\n",
       "          t_end=98,\n",
       "          beta=0.3333333333333333,\n",
       "          gamma=0.25)"
      ]
     },
     "execution_count": 7,
     "metadata": {},
     "output_type": "execute_result"
    }
   ],
   "source": [
    "init = State(s = 89, i = 1, r = 0)\n",
    "init = init/sum(init)\n",
    "\n",
    "tc = 3\n",
    "tr = 4\n",
    "\n",
    "beta = 1 / tc\n",
    "gamma = 1 / tr\n",
    "\n",
    "system = make_system(beta, gamma)\n",
    "show(system)\n",
    "\n",
    "system"
   ]
  },
  {
   "cell_type": "markdown",
   "metadata": {},
   "source": [
    "Second Implementation (With Time Series)"
   ]
  },
  {
   "cell_type": "code",
   "execution_count": 8,
   "metadata": {},
   "outputs": [],
   "source": [
    "final_state = run_simulation(system, update_func)\n",
    "show(final_state)\n",
    "\n",
    "S, I, R = run_simulation(system, update_func)"
   ]
  },
  {
   "cell_type": "markdown",
   "metadata": {},
   "source": [
    "Graphing SIR with Time Series"
   ]
  },
  {
   "cell_type": "code",
   "execution_count": 9,
   "metadata": {},
   "outputs": [
    {
     "data": {
      "application/vnd.plotly.v1+json": {
       "config": {
        "plotlyServerURL": "https://plot.ly"
       },
       "data": [
        {
         "marker": {
          "size": 3
         },
         "mode": "lines+markers",
         "name": "Susceptible",
         "type": "scatter",
         "x": [
          0,
          1,
          2,
          3,
          4,
          5,
          6,
          7,
          8,
          9,
          10,
          11,
          12,
          13,
          14,
          15,
          16,
          17,
          18,
          19,
          20,
          21,
          22,
          23,
          24,
          25,
          26,
          27,
          28,
          29,
          30,
          31,
          32,
          33,
          34,
          35,
          36,
          37,
          38,
          39,
          40,
          41,
          42,
          43,
          44,
          45,
          46,
          47,
          48,
          49,
          50,
          51,
          52,
          53,
          54,
          55,
          56,
          57,
          58,
          59,
          60,
          61,
          62,
          63,
          64,
          65,
          66,
          67,
          68,
          69,
          70,
          71,
          72,
          73,
          74,
          75,
          76,
          77,
          78,
          79,
          80,
          81,
          82,
          83,
          84,
          85,
          86,
          87,
          88,
          89,
          90,
          91,
          92,
          93,
          94,
          95,
          96,
          97
         ],
         "xaxis": "x",
         "y": [
          0.9888888888888889,
          0.9852263374485597,
          0.9812867835752228,
          0.9770553220624386,
          0.9725172869718297,
          0.967658462827773,
          0.9624653237784668,
          0.9569252999461504,
          0.9510270690159768,
          0.9447608697290061,
          0.9381188323745546,
          0.9310953196675277,
          0.9236872696197596,
          0.9158945302703474,
          0.9077201745542357,
          0.8991707823083702,
          0.8902566756011724,
          0.8809920933845797,
          0.8713952920521992,
          0.8614885599492463,
          0.8512981362697163,
          0.8408540280681351,
          0.830189723193923,
          0.81934180162122,
          0.8083494526080995,
          0.7972539100258635,
          0.7860978226703987,
          0.7749245800317278,
          0.763777616535704,
          0.7526997184558658,
          0.7417323574172988,
          0.7309150727065395,
          0.7202849216221636,
          0.7098760131205963,
          0.699719135378241,
          0.6898414829860006,
          0.6802664846885856,
          0.6710137282047662,
          0.6620989749673696,
          0.6535342547649019,
          0.6453280283194474,
          0.6374854047835732,
          0.6300084009006621,
          0.6228962290199442,
          0.6161456021354276,
          0.6097510454662796,
          0.6037052056629638,
          0.5979991503757784,
          0.5926226525527573,
          0.5875644553618061,
          0.5828125150033096,
          0.5783542198633101,
          0.5741765854418429,
          0.5702664252787588,
          0.5666104987032975,
          0.5631956366730989,
          0.5600088472659538,
          0.5570374025670066,
          0.5542689087782341,
          0.5516913613868801,
          0.5492931871837368,
          0.5470632748365782,
          0.5449909956118382,
          0.5430662157093246,
          0.5412793015386624,
          0.5396211191284979,
          0.5380830287248558,
          0.5366568755066202,
          0.5353349772259792,
          0.5341101094710851,
          0.5329754891476949,
          0.5319247566862778,
          0.5309519574007487,
          0.5300515223541382,
          0.5292182490245024,
          0.5284472820105012,
          0.5277340939695787,
          0.5270744669418218,
          0.5264644741786138,
          0.5259004625664621,
          0.5253790357122163,
          0.5248970377357152,
          0.5244515377991861,
          0.5240398153889859,
          0.5236593463540856,
          0.5233077896967079,
          0.5229829751033747,
          0.5226828911990409,
          0.5224056745027218,
          0.5221495990598511,
          0.5219130667243522,
          0.5216945980619023,
          0.5214928238449841,
          0.5213064771099376,
          0.521134385746246,
          0.5209754655886312,
          0.5208287139831301,
          0.5206932037991095
         ],
         "yaxis": "y"
        },
        {
         "marker": {
          "color": "orange",
          "size": 3
         },
         "name": "Infected",
         "type": "scatter",
         "x": [
          0,
          1,
          2,
          3,
          4,
          5,
          6,
          7,
          8,
          9,
          10,
          11,
          12,
          13,
          14,
          15,
          16,
          17,
          18,
          19,
          20,
          21,
          22,
          23,
          24,
          25,
          26,
          27,
          28,
          29,
          30,
          31,
          32,
          33,
          34,
          35,
          36,
          37,
          38,
          39,
          40,
          41,
          42,
          43,
          44,
          45,
          46,
          47,
          48,
          49,
          50,
          51,
          52,
          53,
          54,
          55,
          56,
          57,
          58,
          59,
          60,
          61,
          62,
          63,
          64,
          65,
          66,
          67,
          68,
          69,
          70,
          71,
          72,
          73,
          74,
          75,
          76,
          77,
          78,
          79,
          80,
          81,
          82,
          83,
          84,
          85,
          86,
          87,
          88,
          89,
          90,
          91,
          92,
          93,
          94,
          95,
          96,
          97
         ],
         "xaxis": "x",
         "y": [
          0.011111111111111112,
          0.011995884773662552,
          0.012936467453583747,
          0.01393381210297206,
          0.014988394167838,
          0.016100119769935237,
          0.017268228876757618,
          0.01849119548988461,
          0.019766627547587037,
          0.021091169947660998,
          0.02246041481519724,
          0.023868823818424926,
          0.02530966791158678,
          0.026774990283102228,
          0.028255598428438347,
          0.02974109106719424,
          0.031219925007593522,
          0.03267952597228785,
          0.03410644581159643,
          0.03548656646165018,
          0.036805348525767716,
          0.03804811959590692,
          0.03920039457114235,
          0.040248217501059835,
          0.041178512138915234,
          0.04197942668642246,
          0.04264065737028164,
          0.04315373566638219,
          0.04351226524581045,
          0.04371209701419599,
          0.04375143379921393,
          0.043630860060169724,
          0.04335329612950323,
          0.04292388059869465,
          0.042349788191376275,
          0.04163999353577269,
          0.04080499344924449,
          0.0398565015707528,
          0.03880712941546125,
          0.03767006726406359,
          0.0364587768935022,
          0.035186706206000784,
          0.03386703353741161,
          0.032512447033776634,
          0.031134962159849188,
          0.0297457782890349,
          0.028355173520091904,
          0.026972435427254297,
          0.02560582439346193,
          0.024262565486047615,
          0.022948864473032286,
          0.021669943494773563,
          0.02043009204254743,
          0.019232729194994722,
          0.018080473471707395,
          0.01697521713397917,
          0.015918202257629542,
          0.014910096392169298,
          0.013951066082899534,
          0.01304084695352857,
          0.012178809418289803,
          0.011364019410875923,
          0.010595293782897017,
          0.009871250239686418,
          0.009190351850426902,
          0.008550946297984719,
          0.007951300127130606,
          0.007389628313583543,
          0.006864119515828658,
          0.006372957391765671,
          0.005914338367214428,
          0.00548648623682785,
          0.0050876639631499765,
          0.00471618301897306,
          0.004370410593865596,
          0.004048774959400426,
          0.0037497692604727636,
          0.00347195397311143,
          0.0032139582430416548,
          0.00297448029443289,
          0.0027522870750703618,
          0.0025462132828039923,
          0.002355159898632043,
          0.0021780923341742156,
          0.0020140382855309354,
          0.0018620853715259457,
          0.0017213786219777312,
          0.0015911178708170521,
          0.0014705550994318288,
          0.001358991767444572,
          0.0012557761610823696,
          0.0011603007832617217,
          0.0010719998043645027,
          0.0009903465883198152,
          0.0009148513049314776,
          0.0008450586363134805,
          0.0007805455827361468,
          0.0007209193710726702
         ],
         "yaxis": "y"
        },
        {
         "marker": {
          "size": 3
         },
         "mode": "markers",
         "name": "Resistant",
         "type": "scatter",
         "x": [
          0,
          1,
          2,
          3,
          4,
          5,
          6,
          7,
          8,
          9,
          10,
          11,
          12,
          13,
          14,
          15,
          16,
          17,
          18,
          19,
          20,
          21,
          22,
          23,
          24,
          25,
          26,
          27,
          28,
          29,
          30,
          31,
          32,
          33,
          34,
          35,
          36,
          37,
          38,
          39,
          40,
          41,
          42,
          43,
          44,
          45,
          46,
          47,
          48,
          49,
          50,
          51,
          52,
          53,
          54,
          55,
          56,
          57,
          58,
          59,
          60,
          61,
          62,
          63,
          64,
          65,
          66,
          67,
          68,
          69,
          70,
          71,
          72,
          73,
          74,
          75,
          76,
          77,
          78,
          79,
          80,
          81,
          82,
          83,
          84,
          85,
          86,
          87,
          88,
          89,
          90,
          91,
          92,
          93,
          94,
          95,
          96,
          97
         ],
         "xaxis": "x",
         "y": [
          0,
          0.002777777777777778,
          0.005776748971193416,
          0.009010865834589352,
          0.012494318860332367,
          0.016241417402291868,
          0.020266447344775677,
          0.024583504563965082,
          0.029206303436436234,
          0.03414796032333299,
          0.03942075281024824,
          0.045035856514047554,
          0.051003062468653784,
          0.05733047944655048,
          0.06402422701732603,
          0.07108812662443562,
          0.07852339939123418,
          0.08632838064313256,
          0.09449826213620452,
          0.10302487358910363,
          0.11189651520451617,
          0.1210978523359581,
          0.13060988223493483,
          0.14040998087772041,
          0.15047203525298536,
          0.16076666328771416,
          0.17126151995931976,
          0.18192168430189018,
          0.19271011821848572,
          0.20358818452993832,
          0.21451620878348732,
          0.2254540672332908,
          0.23636178224833324,
          0.24720010628070904,
          0.2579310764303827,
          0.2685185234782268,
          0.27892852186217,
          0.2891297702244811,
          0.2990938956171693,
          0.30879567797103463,
          0.3182131947870505,
          0.3273278890104261,
          0.33612456556192627,
          0.34459132394627917,
          0.3527194357047233,
          0.3605031762446856,
          0.3679396208169443,
          0.3750284141969673,
          0.38177152305378087,
          0.3881729791521463,
          0.3942386205236582,
          0.39997583664191627,
          0.40539332251560967,
          0.41050084552624655,
          0.41530902782499524,
          0.4198291461929221,
          0.4240729504764169,
          0.4280525010408243,
          0.43178002513886665,
          0.43526779165959156,
          0.4385280033979737,
          0.44157270575254615,
          0.44441371060526513,
          0.4470625340509894,
          0.449530346610911,
          0.4518279345735177,
          0.4539656711480139,
          0.4559534961797965,
          0.4578009032581924,
          0.45951693313714953,
          0.46111017248509095,
          0.46258875707689456,
          0.4639603786361015,
          0.46523229462688903,
          0.4664113403816323,
          0.4675039430300987,
          0.4685161367699488,
          0.46945357908506696,
          0.4703215675783448,
          0.47112505713910524,
          0.47186867721271347,
          0.4725567489814811,
          0.4731933023021821,
          0.4737820922768401,
          0.4743266153603837,
          0.4748301249317664,
          0.4752956462746479,
          0.4757259909301423,
          0.47612377039784654,
          0.4764914091727045,
          0.47683115711456564,
          0.4771451011548362,
          0.47743517635065164,
          0.47770317630174275,
          0.4779507629488227,
          0.4781794757750556,
          0.478390740434134,
          0.478585876829818
         ],
         "yaxis": "y"
        }
       ],
       "layout": {
        "template": {
         "data": {
          "bar": [
           {
            "error_x": {
             "color": "#2a3f5f"
            },
            "error_y": {
             "color": "#2a3f5f"
            },
            "marker": {
             "line": {
              "color": "#E5ECF6",
              "width": 0.5
             },
             "pattern": {
              "fillmode": "overlay",
              "size": 10,
              "solidity": 0.2
             }
            },
            "type": "bar"
           }
          ],
          "barpolar": [
           {
            "marker": {
             "line": {
              "color": "#E5ECF6",
              "width": 0.5
             },
             "pattern": {
              "fillmode": "overlay",
              "size": 10,
              "solidity": 0.2
             }
            },
            "type": "barpolar"
           }
          ],
          "carpet": [
           {
            "aaxis": {
             "endlinecolor": "#2a3f5f",
             "gridcolor": "white",
             "linecolor": "white",
             "minorgridcolor": "white",
             "startlinecolor": "#2a3f5f"
            },
            "baxis": {
             "endlinecolor": "#2a3f5f",
             "gridcolor": "white",
             "linecolor": "white",
             "minorgridcolor": "white",
             "startlinecolor": "#2a3f5f"
            },
            "type": "carpet"
           }
          ],
          "choropleth": [
           {
            "colorbar": {
             "outlinewidth": 0,
             "ticks": ""
            },
            "type": "choropleth"
           }
          ],
          "contour": [
           {
            "colorbar": {
             "outlinewidth": 0,
             "ticks": ""
            },
            "colorscale": [
             [
              0,
              "#0d0887"
             ],
             [
              0.1111111111111111,
              "#46039f"
             ],
             [
              0.2222222222222222,
              "#7201a8"
             ],
             [
              0.3333333333333333,
              "#9c179e"
             ],
             [
              0.4444444444444444,
              "#bd3786"
             ],
             [
              0.5555555555555556,
              "#d8576b"
             ],
             [
              0.6666666666666666,
              "#ed7953"
             ],
             [
              0.7777777777777778,
              "#fb9f3a"
             ],
             [
              0.8888888888888888,
              "#fdca26"
             ],
             [
              1,
              "#f0f921"
             ]
            ],
            "type": "contour"
           }
          ],
          "contourcarpet": [
           {
            "colorbar": {
             "outlinewidth": 0,
             "ticks": ""
            },
            "type": "contourcarpet"
           }
          ],
          "heatmap": [
           {
            "colorbar": {
             "outlinewidth": 0,
             "ticks": ""
            },
            "colorscale": [
             [
              0,
              "#0d0887"
             ],
             [
              0.1111111111111111,
              "#46039f"
             ],
             [
              0.2222222222222222,
              "#7201a8"
             ],
             [
              0.3333333333333333,
              "#9c179e"
             ],
             [
              0.4444444444444444,
              "#bd3786"
             ],
             [
              0.5555555555555556,
              "#d8576b"
             ],
             [
              0.6666666666666666,
              "#ed7953"
             ],
             [
              0.7777777777777778,
              "#fb9f3a"
             ],
             [
              0.8888888888888888,
              "#fdca26"
             ],
             [
              1,
              "#f0f921"
             ]
            ],
            "type": "heatmap"
           }
          ],
          "heatmapgl": [
           {
            "colorbar": {
             "outlinewidth": 0,
             "ticks": ""
            },
            "colorscale": [
             [
              0,
              "#0d0887"
             ],
             [
              0.1111111111111111,
              "#46039f"
             ],
             [
              0.2222222222222222,
              "#7201a8"
             ],
             [
              0.3333333333333333,
              "#9c179e"
             ],
             [
              0.4444444444444444,
              "#bd3786"
             ],
             [
              0.5555555555555556,
              "#d8576b"
             ],
             [
              0.6666666666666666,
              "#ed7953"
             ],
             [
              0.7777777777777778,
              "#fb9f3a"
             ],
             [
              0.8888888888888888,
              "#fdca26"
             ],
             [
              1,
              "#f0f921"
             ]
            ],
            "type": "heatmapgl"
           }
          ],
          "histogram": [
           {
            "marker": {
             "pattern": {
              "fillmode": "overlay",
              "size": 10,
              "solidity": 0.2
             }
            },
            "type": "histogram"
           }
          ],
          "histogram2d": [
           {
            "colorbar": {
             "outlinewidth": 0,
             "ticks": ""
            },
            "colorscale": [
             [
              0,
              "#0d0887"
             ],
             [
              0.1111111111111111,
              "#46039f"
             ],
             [
              0.2222222222222222,
              "#7201a8"
             ],
             [
              0.3333333333333333,
              "#9c179e"
             ],
             [
              0.4444444444444444,
              "#bd3786"
             ],
             [
              0.5555555555555556,
              "#d8576b"
             ],
             [
              0.6666666666666666,
              "#ed7953"
             ],
             [
              0.7777777777777778,
              "#fb9f3a"
             ],
             [
              0.8888888888888888,
              "#fdca26"
             ],
             [
              1,
              "#f0f921"
             ]
            ],
            "type": "histogram2d"
           }
          ],
          "histogram2dcontour": [
           {
            "colorbar": {
             "outlinewidth": 0,
             "ticks": ""
            },
            "colorscale": [
             [
              0,
              "#0d0887"
             ],
             [
              0.1111111111111111,
              "#46039f"
             ],
             [
              0.2222222222222222,
              "#7201a8"
             ],
             [
              0.3333333333333333,
              "#9c179e"
             ],
             [
              0.4444444444444444,
              "#bd3786"
             ],
             [
              0.5555555555555556,
              "#d8576b"
             ],
             [
              0.6666666666666666,
              "#ed7953"
             ],
             [
              0.7777777777777778,
              "#fb9f3a"
             ],
             [
              0.8888888888888888,
              "#fdca26"
             ],
             [
              1,
              "#f0f921"
             ]
            ],
            "type": "histogram2dcontour"
           }
          ],
          "mesh3d": [
           {
            "colorbar": {
             "outlinewidth": 0,
             "ticks": ""
            },
            "type": "mesh3d"
           }
          ],
          "parcoords": [
           {
            "line": {
             "colorbar": {
              "outlinewidth": 0,
              "ticks": ""
             }
            },
            "type": "parcoords"
           }
          ],
          "pie": [
           {
            "automargin": true,
            "type": "pie"
           }
          ],
          "scatter": [
           {
            "fillpattern": {
             "fillmode": "overlay",
             "size": 10,
             "solidity": 0.2
            },
            "type": "scatter"
           }
          ],
          "scatter3d": [
           {
            "line": {
             "colorbar": {
              "outlinewidth": 0,
              "ticks": ""
             }
            },
            "marker": {
             "colorbar": {
              "outlinewidth": 0,
              "ticks": ""
             }
            },
            "type": "scatter3d"
           }
          ],
          "scattercarpet": [
           {
            "marker": {
             "colorbar": {
              "outlinewidth": 0,
              "ticks": ""
             }
            },
            "type": "scattercarpet"
           }
          ],
          "scattergeo": [
           {
            "marker": {
             "colorbar": {
              "outlinewidth": 0,
              "ticks": ""
             }
            },
            "type": "scattergeo"
           }
          ],
          "scattergl": [
           {
            "marker": {
             "colorbar": {
              "outlinewidth": 0,
              "ticks": ""
             }
            },
            "type": "scattergl"
           }
          ],
          "scattermapbox": [
           {
            "marker": {
             "colorbar": {
              "outlinewidth": 0,
              "ticks": ""
             }
            },
            "type": "scattermapbox"
           }
          ],
          "scatterpolar": [
           {
            "marker": {
             "colorbar": {
              "outlinewidth": 0,
              "ticks": ""
             }
            },
            "type": "scatterpolar"
           }
          ],
          "scatterpolargl": [
           {
            "marker": {
             "colorbar": {
              "outlinewidth": 0,
              "ticks": ""
             }
            },
            "type": "scatterpolargl"
           }
          ],
          "scatterternary": [
           {
            "marker": {
             "colorbar": {
              "outlinewidth": 0,
              "ticks": ""
             }
            },
            "type": "scatterternary"
           }
          ],
          "surface": [
           {
            "colorbar": {
             "outlinewidth": 0,
             "ticks": ""
            },
            "colorscale": [
             [
              0,
              "#0d0887"
             ],
             [
              0.1111111111111111,
              "#46039f"
             ],
             [
              0.2222222222222222,
              "#7201a8"
             ],
             [
              0.3333333333333333,
              "#9c179e"
             ],
             [
              0.4444444444444444,
              "#bd3786"
             ],
             [
              0.5555555555555556,
              "#d8576b"
             ],
             [
              0.6666666666666666,
              "#ed7953"
             ],
             [
              0.7777777777777778,
              "#fb9f3a"
             ],
             [
              0.8888888888888888,
              "#fdca26"
             ],
             [
              1,
              "#f0f921"
             ]
            ],
            "type": "surface"
           }
          ],
          "table": [
           {
            "cells": {
             "fill": {
              "color": "#EBF0F8"
             },
             "line": {
              "color": "white"
             }
            },
            "header": {
             "fill": {
              "color": "#C8D4E3"
             },
             "line": {
              "color": "white"
             }
            },
            "type": "table"
           }
          ]
         },
         "layout": {
          "annotationdefaults": {
           "arrowcolor": "#2a3f5f",
           "arrowhead": 0,
           "arrowwidth": 1
          },
          "autotypenumbers": "strict",
          "coloraxis": {
           "colorbar": {
            "outlinewidth": 0,
            "ticks": ""
           }
          },
          "colorscale": {
           "diverging": [
            [
             0,
             "#8e0152"
            ],
            [
             0.1,
             "#c51b7d"
            ],
            [
             0.2,
             "#de77ae"
            ],
            [
             0.3,
             "#f1b6da"
            ],
            [
             0.4,
             "#fde0ef"
            ],
            [
             0.5,
             "#f7f7f7"
            ],
            [
             0.6,
             "#e6f5d0"
            ],
            [
             0.7,
             "#b8e186"
            ],
            [
             0.8,
             "#7fbc41"
            ],
            [
             0.9,
             "#4d9221"
            ],
            [
             1,
             "#276419"
            ]
           ],
           "sequential": [
            [
             0,
             "#0d0887"
            ],
            [
             0.1111111111111111,
             "#46039f"
            ],
            [
             0.2222222222222222,
             "#7201a8"
            ],
            [
             0.3333333333333333,
             "#9c179e"
            ],
            [
             0.4444444444444444,
             "#bd3786"
            ],
            [
             0.5555555555555556,
             "#d8576b"
            ],
            [
             0.6666666666666666,
             "#ed7953"
            ],
            [
             0.7777777777777778,
             "#fb9f3a"
            ],
            [
             0.8888888888888888,
             "#fdca26"
            ],
            [
             1,
             "#f0f921"
            ]
           ],
           "sequentialminus": [
            [
             0,
             "#0d0887"
            ],
            [
             0.1111111111111111,
             "#46039f"
            ],
            [
             0.2222222222222222,
             "#7201a8"
            ],
            [
             0.3333333333333333,
             "#9c179e"
            ],
            [
             0.4444444444444444,
             "#bd3786"
            ],
            [
             0.5555555555555556,
             "#d8576b"
            ],
            [
             0.6666666666666666,
             "#ed7953"
            ],
            [
             0.7777777777777778,
             "#fb9f3a"
            ],
            [
             0.8888888888888888,
             "#fdca26"
            ],
            [
             1,
             "#f0f921"
            ]
           ]
          },
          "colorway": [
           "#636efa",
           "#EF553B",
           "#00cc96",
           "#ab63fa",
           "#FFA15A",
           "#19d3f3",
           "#FF6692",
           "#B6E880",
           "#FF97FF",
           "#FECB52"
          ],
          "font": {
           "color": "#2a3f5f"
          },
          "geo": {
           "bgcolor": "white",
           "lakecolor": "white",
           "landcolor": "#E5ECF6",
           "showlakes": true,
           "showland": true,
           "subunitcolor": "white"
          },
          "hoverlabel": {
           "align": "left"
          },
          "hovermode": "closest",
          "mapbox": {
           "style": "light"
          },
          "paper_bgcolor": "white",
          "plot_bgcolor": "#E5ECF6",
          "polar": {
           "angularaxis": {
            "gridcolor": "white",
            "linecolor": "white",
            "ticks": ""
           },
           "bgcolor": "#E5ECF6",
           "radialaxis": {
            "gridcolor": "white",
            "linecolor": "white",
            "ticks": ""
           }
          },
          "scene": {
           "xaxis": {
            "backgroundcolor": "#E5ECF6",
            "gridcolor": "white",
            "gridwidth": 2,
            "linecolor": "white",
            "showbackground": true,
            "ticks": "",
            "zerolinecolor": "white"
           },
           "yaxis": {
            "backgroundcolor": "#E5ECF6",
            "gridcolor": "white",
            "gridwidth": 2,
            "linecolor": "white",
            "showbackground": true,
            "ticks": "",
            "zerolinecolor": "white"
           },
           "zaxis": {
            "backgroundcolor": "#E5ECF6",
            "gridcolor": "white",
            "gridwidth": 2,
            "linecolor": "white",
            "showbackground": true,
            "ticks": "",
            "zerolinecolor": "white"
           }
          },
          "shapedefaults": {
           "line": {
            "color": "#2a3f5f"
           }
          },
          "ternary": {
           "aaxis": {
            "gridcolor": "white",
            "linecolor": "white",
            "ticks": ""
           },
           "baxis": {
            "gridcolor": "white",
            "linecolor": "white",
            "ticks": ""
           },
           "bgcolor": "#E5ECF6",
           "caxis": {
            "gridcolor": "white",
            "linecolor": "white",
            "ticks": ""
           }
          },
          "title": {
           "x": 0.05
          },
          "xaxis": {
           "automargin": true,
           "gridcolor": "white",
           "linecolor": "white",
           "ticks": "",
           "title": {
            "standoff": 15
           },
           "zerolinecolor": "white",
           "zerolinewidth": 2
          },
          "yaxis": {
           "automargin": true,
           "gridcolor": "white",
           "linecolor": "white",
           "ticks": "",
           "title": {
            "standoff": 15
           },
           "zerolinecolor": "white",
           "zerolinewidth": 2
          }
         }
        },
        "xaxis": {
         "anchor": "y",
         "domain": [
          0,
          1
         ]
        },
        "yaxis": {
         "anchor": "x",
         "domain": [
          0,
          1
         ]
        }
       }
      }
     },
     "metadata": {},
     "output_type": "display_data"
    }
   ],
   "source": [
    "fig = make_subplots(rows=1, cols=1)\n",
    "\n",
    "time = []\n",
    "Sval = []\n",
    "Ival = []\n",
    "Rval = []\n",
    "\n",
    "for t in range(7*14):  \n",
    "    Sval.append(S[t])\n",
    "    Ival.append(I[t])\n",
    "    Rval.append(R[t])\n",
    "    time.append(t)\n",
    "    \n",
    "fig.add_trace(go.Scatter(x=time, y=Sval, mode = \"lines+markers\", name = \"Susceptible\"),\n",
    "    row=1, col=1)\n",
    "\n",
    "fig.add_trace(go.Scatter(x=time, y=Ival, name = \"Infected\", marker_color = \"orange\"),\n",
    "    row=1, col=1)\n",
    "\n",
    "fig.add_trace(go.Scatter(x=time, y=Rval, mode = \"markers\", name = \"Resistant\"),\n",
    "    row=1, col=1)\n",
    "\n",
    "fig.update_traces(marker_size=3)\n",
    "\n",
    "fig.show()"
   ]
  },
  {
   "cell_type": "markdown",
   "metadata": {},
   "source": [
    "Adding Immunization and Graphing it"
   ]
  },
  {
   "cell_type": "code",
   "execution_count": 10,
   "metadata": {},
   "outputs": [
    {
     "data": {
      "application/vnd.plotly.v1+json": {
       "config": {
        "plotlyServerURL": "https://plot.ly"
       },
       "data": [
        {
         "marker": {
          "size": 3
         },
         "mode": "lines",
         "name": "10% immunization",
         "type": "scatter",
         "x": [
          0,
          1,
          2,
          3,
          4,
          5,
          6,
          7,
          8,
          9,
          10,
          11,
          12,
          13,
          14,
          15,
          16,
          17,
          18,
          19,
          20,
          21,
          22,
          23,
          24,
          25,
          26,
          27,
          28,
          29,
          30,
          31,
          32,
          33,
          34,
          35,
          36,
          37,
          38,
          39,
          40,
          41,
          42,
          43,
          44,
          45,
          46,
          47,
          48,
          49,
          50,
          51,
          52,
          53,
          54,
          55,
          56,
          57,
          58,
          59,
          60,
          61,
          62,
          63,
          64,
          65,
          66,
          67,
          68,
          69,
          70,
          71,
          72,
          73,
          74,
          75,
          76,
          77,
          78,
          79,
          80,
          81,
          82,
          83,
          84,
          85,
          86,
          87,
          88,
          89,
          90,
          91,
          92,
          93,
          94,
          95,
          96,
          97
         ],
         "xaxis": "x",
         "y": [
          0.888888888888889,
          0.8855967078189301,
          0.8821648687248443,
          0.878591814333345,
          0.8748764587830945,
          0.8710182332668027,
          0.8670171303534825,
          0.8628737461573333,
          0.8585893194623501,
          0.854165766871057,
          0.8496057130256763,
          0.8449125149542688,
          0.8400902796261277,
          0.8351438738624527,
          0.8300789258415621,
          0.8249018175628858,
          0.8196196677895805,
          0.8142403051731366,
          0.8087722314705604,
          0.8032245749898212,
          0.797607034635117,
          0.7919298151619026,
          0.7862035544835935,
          0.7804392440881798,
          0.7746481438147096,
          0.7688416923984784,
          0.7630314153128648,
          0.7572288315098042,
          0.751445360686662,
          0.745692232683756,
          0.7399804005452888,
          0.7343204586604725,
          0.7287225672466312,
          0.7231963842491277,
          0.717751005522291,
          0.712394913930027,
          0.7071359377734725,
          0.70198121872459,
          0.6969371892268755,
          0.6920095591241365,
          0.6872033111009853,
          0.6825227043681982,
          0.6779712859047785,
          0.6735519084773548,
          0.6692667545960347,
          0.6651173655324868,
          0.6611046745184145,
          0.6572290432576318,
          0.6534903009191716,
          0.6498877848285639,
          0.6464203821359434,
          0.6430865718094704,
          0.6398844663774371,
          0.6368118529195271,
          0.6338662328845326,
          0.6310448603864168,
          0.6283447787013344,
          0.6257628547539258,
          0.6232958114410739,
          0.6209402576948774,
          0.6186927162336471,
          0.6165496489903085,
          0.6145074802418855,
          0.6125626174921048,
          0.6107114701820175,
          0.6089504663213926,
          0.6072760671470167,
          0.6056847799234765,
          0.6041731690080336,
          0.6027378653043258,
          0.6013755742303241,
          0.6000830823246708,
          0.5988572626126116,
          0.5976950788485664,
          0.5965935887472625,
          0.5955499463095452,
          0.5945614033427048,
          0.5936253102686176,
          0.5927391163063274,
          0.591900369109042,
          0.5911067139289761,
          0.5903558923771122,
          0.5896457408388512,
          0.58897418860071,
          0.5883392557377345,
          0.5877390508061497,
          0.5871717683809715,
          0.5866356864738539,
          0.5861291638623537,
          0.5856506373580257,
          0.5851986190373317,
          0.5847716934562167,
          0.5843685148663773,
          0.5839878044486887,
          0.5836283475769608,
          0.5832889911231337,
          0.5829686408131842,
          0.5826662586413833
         ],
         "yaxis": "y"
        },
        {
         "marker": {
          "size": 3
         },
         "mode": "markers",
         "name": "No immunization",
         "type": "scatter",
         "x": [
          0,
          1,
          2,
          3,
          4,
          5,
          6,
          7,
          8,
          9,
          10,
          11,
          12,
          13,
          14,
          15,
          16,
          17,
          18,
          19,
          20,
          21,
          22,
          23,
          24,
          25,
          26,
          27,
          28,
          29,
          30,
          31,
          32,
          33,
          34,
          35,
          36,
          37,
          38,
          39,
          40,
          41,
          42,
          43,
          44,
          45,
          46,
          47,
          48,
          49,
          50,
          51,
          52,
          53,
          54,
          55,
          56,
          57,
          58,
          59,
          60,
          61,
          62,
          63,
          64,
          65,
          66,
          67,
          68,
          69,
          70,
          71,
          72,
          73,
          74,
          75,
          76,
          77,
          78,
          79,
          80,
          81,
          82,
          83,
          84,
          85,
          86,
          87,
          88,
          89,
          90,
          91,
          92,
          93,
          94,
          95,
          96,
          97
         ],
         "xaxis": "x",
         "y": [
          0.9888888888888889,
          0.9852263374485597,
          0.9812867835752228,
          0.9770553220624386,
          0.9725172869718297,
          0.967658462827773,
          0.9624653237784668,
          0.9569252999461504,
          0.9510270690159768,
          0.9447608697290061,
          0.9381188323745546,
          0.9310953196675277,
          0.9236872696197596,
          0.9158945302703474,
          0.9077201745542357,
          0.8991707823083702,
          0.8902566756011724,
          0.8809920933845797,
          0.8713952920521992,
          0.8614885599492463,
          0.8512981362697163,
          0.8408540280681351,
          0.830189723193923,
          0.81934180162122,
          0.8083494526080995,
          0.7972539100258635,
          0.7860978226703987,
          0.7749245800317278,
          0.763777616535704,
          0.7526997184558658,
          0.7417323574172988,
          0.7309150727065395,
          0.7202849216221636,
          0.7098760131205963,
          0.699719135378241,
          0.6898414829860006,
          0.6802664846885856,
          0.6710137282047662,
          0.6620989749673696,
          0.6535342547649019,
          0.6453280283194474,
          0.6374854047835732,
          0.6300084009006621,
          0.6228962290199442,
          0.6161456021354276,
          0.6097510454662796,
          0.6037052056629638,
          0.5979991503757784,
          0.5926226525527573,
          0.5875644553618061,
          0.5828125150033096,
          0.5783542198633101,
          0.5741765854418429,
          0.5702664252787588,
          0.5666104987032975,
          0.5631956366730989,
          0.5600088472659538,
          0.5570374025670066,
          0.5542689087782341,
          0.5516913613868801,
          0.5492931871837368,
          0.5470632748365782,
          0.5449909956118382,
          0.5430662157093246,
          0.5412793015386624,
          0.5396211191284979,
          0.5380830287248558,
          0.5366568755066202,
          0.5353349772259792,
          0.5341101094710851,
          0.5329754891476949,
          0.5319247566862778,
          0.5309519574007487,
          0.5300515223541382,
          0.5292182490245024,
          0.5284472820105012,
          0.5277340939695787,
          0.5270744669418218,
          0.5264644741786138,
          0.5259004625664621,
          0.5253790357122163,
          0.5248970377357152,
          0.5244515377991861,
          0.5240398153889859,
          0.5236593463540856,
          0.5233077896967079,
          0.5229829751033747,
          0.5226828911990409,
          0.5224056745027218,
          0.5221495990598511,
          0.5219130667243522,
          0.5216945980619023,
          0.5214928238449841,
          0.5213064771099376,
          0.521134385746246,
          0.5209754655886312,
          0.5208287139831301,
          0.5206932037991095
         ],
         "yaxis": "y"
        }
       ],
       "layout": {
        "template": {
         "data": {
          "bar": [
           {
            "error_x": {
             "color": "#2a3f5f"
            },
            "error_y": {
             "color": "#2a3f5f"
            },
            "marker": {
             "line": {
              "color": "#E5ECF6",
              "width": 0.5
             },
             "pattern": {
              "fillmode": "overlay",
              "size": 10,
              "solidity": 0.2
             }
            },
            "type": "bar"
           }
          ],
          "barpolar": [
           {
            "marker": {
             "line": {
              "color": "#E5ECF6",
              "width": 0.5
             },
             "pattern": {
              "fillmode": "overlay",
              "size": 10,
              "solidity": 0.2
             }
            },
            "type": "barpolar"
           }
          ],
          "carpet": [
           {
            "aaxis": {
             "endlinecolor": "#2a3f5f",
             "gridcolor": "white",
             "linecolor": "white",
             "minorgridcolor": "white",
             "startlinecolor": "#2a3f5f"
            },
            "baxis": {
             "endlinecolor": "#2a3f5f",
             "gridcolor": "white",
             "linecolor": "white",
             "minorgridcolor": "white",
             "startlinecolor": "#2a3f5f"
            },
            "type": "carpet"
           }
          ],
          "choropleth": [
           {
            "colorbar": {
             "outlinewidth": 0,
             "ticks": ""
            },
            "type": "choropleth"
           }
          ],
          "contour": [
           {
            "colorbar": {
             "outlinewidth": 0,
             "ticks": ""
            },
            "colorscale": [
             [
              0,
              "#0d0887"
             ],
             [
              0.1111111111111111,
              "#46039f"
             ],
             [
              0.2222222222222222,
              "#7201a8"
             ],
             [
              0.3333333333333333,
              "#9c179e"
             ],
             [
              0.4444444444444444,
              "#bd3786"
             ],
             [
              0.5555555555555556,
              "#d8576b"
             ],
             [
              0.6666666666666666,
              "#ed7953"
             ],
             [
              0.7777777777777778,
              "#fb9f3a"
             ],
             [
              0.8888888888888888,
              "#fdca26"
             ],
             [
              1,
              "#f0f921"
             ]
            ],
            "type": "contour"
           }
          ],
          "contourcarpet": [
           {
            "colorbar": {
             "outlinewidth": 0,
             "ticks": ""
            },
            "type": "contourcarpet"
           }
          ],
          "heatmap": [
           {
            "colorbar": {
             "outlinewidth": 0,
             "ticks": ""
            },
            "colorscale": [
             [
              0,
              "#0d0887"
             ],
             [
              0.1111111111111111,
              "#46039f"
             ],
             [
              0.2222222222222222,
              "#7201a8"
             ],
             [
              0.3333333333333333,
              "#9c179e"
             ],
             [
              0.4444444444444444,
              "#bd3786"
             ],
             [
              0.5555555555555556,
              "#d8576b"
             ],
             [
              0.6666666666666666,
              "#ed7953"
             ],
             [
              0.7777777777777778,
              "#fb9f3a"
             ],
             [
              0.8888888888888888,
              "#fdca26"
             ],
             [
              1,
              "#f0f921"
             ]
            ],
            "type": "heatmap"
           }
          ],
          "heatmapgl": [
           {
            "colorbar": {
             "outlinewidth": 0,
             "ticks": ""
            },
            "colorscale": [
             [
              0,
              "#0d0887"
             ],
             [
              0.1111111111111111,
              "#46039f"
             ],
             [
              0.2222222222222222,
              "#7201a8"
             ],
             [
              0.3333333333333333,
              "#9c179e"
             ],
             [
              0.4444444444444444,
              "#bd3786"
             ],
             [
              0.5555555555555556,
              "#d8576b"
             ],
             [
              0.6666666666666666,
              "#ed7953"
             ],
             [
              0.7777777777777778,
              "#fb9f3a"
             ],
             [
              0.8888888888888888,
              "#fdca26"
             ],
             [
              1,
              "#f0f921"
             ]
            ],
            "type": "heatmapgl"
           }
          ],
          "histogram": [
           {
            "marker": {
             "pattern": {
              "fillmode": "overlay",
              "size": 10,
              "solidity": 0.2
             }
            },
            "type": "histogram"
           }
          ],
          "histogram2d": [
           {
            "colorbar": {
             "outlinewidth": 0,
             "ticks": ""
            },
            "colorscale": [
             [
              0,
              "#0d0887"
             ],
             [
              0.1111111111111111,
              "#46039f"
             ],
             [
              0.2222222222222222,
              "#7201a8"
             ],
             [
              0.3333333333333333,
              "#9c179e"
             ],
             [
              0.4444444444444444,
              "#bd3786"
             ],
             [
              0.5555555555555556,
              "#d8576b"
             ],
             [
              0.6666666666666666,
              "#ed7953"
             ],
             [
              0.7777777777777778,
              "#fb9f3a"
             ],
             [
              0.8888888888888888,
              "#fdca26"
             ],
             [
              1,
              "#f0f921"
             ]
            ],
            "type": "histogram2d"
           }
          ],
          "histogram2dcontour": [
           {
            "colorbar": {
             "outlinewidth": 0,
             "ticks": ""
            },
            "colorscale": [
             [
              0,
              "#0d0887"
             ],
             [
              0.1111111111111111,
              "#46039f"
             ],
             [
              0.2222222222222222,
              "#7201a8"
             ],
             [
              0.3333333333333333,
              "#9c179e"
             ],
             [
              0.4444444444444444,
              "#bd3786"
             ],
             [
              0.5555555555555556,
              "#d8576b"
             ],
             [
              0.6666666666666666,
              "#ed7953"
             ],
             [
              0.7777777777777778,
              "#fb9f3a"
             ],
             [
              0.8888888888888888,
              "#fdca26"
             ],
             [
              1,
              "#f0f921"
             ]
            ],
            "type": "histogram2dcontour"
           }
          ],
          "mesh3d": [
           {
            "colorbar": {
             "outlinewidth": 0,
             "ticks": ""
            },
            "type": "mesh3d"
           }
          ],
          "parcoords": [
           {
            "line": {
             "colorbar": {
              "outlinewidth": 0,
              "ticks": ""
             }
            },
            "type": "parcoords"
           }
          ],
          "pie": [
           {
            "automargin": true,
            "type": "pie"
           }
          ],
          "scatter": [
           {
            "fillpattern": {
             "fillmode": "overlay",
             "size": 10,
             "solidity": 0.2
            },
            "type": "scatter"
           }
          ],
          "scatter3d": [
           {
            "line": {
             "colorbar": {
              "outlinewidth": 0,
              "ticks": ""
             }
            },
            "marker": {
             "colorbar": {
              "outlinewidth": 0,
              "ticks": ""
             }
            },
            "type": "scatter3d"
           }
          ],
          "scattercarpet": [
           {
            "marker": {
             "colorbar": {
              "outlinewidth": 0,
              "ticks": ""
             }
            },
            "type": "scattercarpet"
           }
          ],
          "scattergeo": [
           {
            "marker": {
             "colorbar": {
              "outlinewidth": 0,
              "ticks": ""
             }
            },
            "type": "scattergeo"
           }
          ],
          "scattergl": [
           {
            "marker": {
             "colorbar": {
              "outlinewidth": 0,
              "ticks": ""
             }
            },
            "type": "scattergl"
           }
          ],
          "scattermapbox": [
           {
            "marker": {
             "colorbar": {
              "outlinewidth": 0,
              "ticks": ""
             }
            },
            "type": "scattermapbox"
           }
          ],
          "scatterpolar": [
           {
            "marker": {
             "colorbar": {
              "outlinewidth": 0,
              "ticks": ""
             }
            },
            "type": "scatterpolar"
           }
          ],
          "scatterpolargl": [
           {
            "marker": {
             "colorbar": {
              "outlinewidth": 0,
              "ticks": ""
             }
            },
            "type": "scatterpolargl"
           }
          ],
          "scatterternary": [
           {
            "marker": {
             "colorbar": {
              "outlinewidth": 0,
              "ticks": ""
             }
            },
            "type": "scatterternary"
           }
          ],
          "surface": [
           {
            "colorbar": {
             "outlinewidth": 0,
             "ticks": ""
            },
            "colorscale": [
             [
              0,
              "#0d0887"
             ],
             [
              0.1111111111111111,
              "#46039f"
             ],
             [
              0.2222222222222222,
              "#7201a8"
             ],
             [
              0.3333333333333333,
              "#9c179e"
             ],
             [
              0.4444444444444444,
              "#bd3786"
             ],
             [
              0.5555555555555556,
              "#d8576b"
             ],
             [
              0.6666666666666666,
              "#ed7953"
             ],
             [
              0.7777777777777778,
              "#fb9f3a"
             ],
             [
              0.8888888888888888,
              "#fdca26"
             ],
             [
              1,
              "#f0f921"
             ]
            ],
            "type": "surface"
           }
          ],
          "table": [
           {
            "cells": {
             "fill": {
              "color": "#EBF0F8"
             },
             "line": {
              "color": "white"
             }
            },
            "header": {
             "fill": {
              "color": "#C8D4E3"
             },
             "line": {
              "color": "white"
             }
            },
            "type": "table"
           }
          ]
         },
         "layout": {
          "annotationdefaults": {
           "arrowcolor": "#2a3f5f",
           "arrowhead": 0,
           "arrowwidth": 1
          },
          "autotypenumbers": "strict",
          "coloraxis": {
           "colorbar": {
            "outlinewidth": 0,
            "ticks": ""
           }
          },
          "colorscale": {
           "diverging": [
            [
             0,
             "#8e0152"
            ],
            [
             0.1,
             "#c51b7d"
            ],
            [
             0.2,
             "#de77ae"
            ],
            [
             0.3,
             "#f1b6da"
            ],
            [
             0.4,
             "#fde0ef"
            ],
            [
             0.5,
             "#f7f7f7"
            ],
            [
             0.6,
             "#e6f5d0"
            ],
            [
             0.7,
             "#b8e186"
            ],
            [
             0.8,
             "#7fbc41"
            ],
            [
             0.9,
             "#4d9221"
            ],
            [
             1,
             "#276419"
            ]
           ],
           "sequential": [
            [
             0,
             "#0d0887"
            ],
            [
             0.1111111111111111,
             "#46039f"
            ],
            [
             0.2222222222222222,
             "#7201a8"
            ],
            [
             0.3333333333333333,
             "#9c179e"
            ],
            [
             0.4444444444444444,
             "#bd3786"
            ],
            [
             0.5555555555555556,
             "#d8576b"
            ],
            [
             0.6666666666666666,
             "#ed7953"
            ],
            [
             0.7777777777777778,
             "#fb9f3a"
            ],
            [
             0.8888888888888888,
             "#fdca26"
            ],
            [
             1,
             "#f0f921"
            ]
           ],
           "sequentialminus": [
            [
             0,
             "#0d0887"
            ],
            [
             0.1111111111111111,
             "#46039f"
            ],
            [
             0.2222222222222222,
             "#7201a8"
            ],
            [
             0.3333333333333333,
             "#9c179e"
            ],
            [
             0.4444444444444444,
             "#bd3786"
            ],
            [
             0.5555555555555556,
             "#d8576b"
            ],
            [
             0.6666666666666666,
             "#ed7953"
            ],
            [
             0.7777777777777778,
             "#fb9f3a"
            ],
            [
             0.8888888888888888,
             "#fdca26"
            ],
            [
             1,
             "#f0f921"
            ]
           ]
          },
          "colorway": [
           "#636efa",
           "#EF553B",
           "#00cc96",
           "#ab63fa",
           "#FFA15A",
           "#19d3f3",
           "#FF6692",
           "#B6E880",
           "#FF97FF",
           "#FECB52"
          ],
          "font": {
           "color": "#2a3f5f"
          },
          "geo": {
           "bgcolor": "white",
           "lakecolor": "white",
           "landcolor": "#E5ECF6",
           "showlakes": true,
           "showland": true,
           "subunitcolor": "white"
          },
          "hoverlabel": {
           "align": "left"
          },
          "hovermode": "closest",
          "mapbox": {
           "style": "light"
          },
          "paper_bgcolor": "white",
          "plot_bgcolor": "#E5ECF6",
          "polar": {
           "angularaxis": {
            "gridcolor": "white",
            "linecolor": "white",
            "ticks": ""
           },
           "bgcolor": "#E5ECF6",
           "radialaxis": {
            "gridcolor": "white",
            "linecolor": "white",
            "ticks": ""
           }
          },
          "scene": {
           "xaxis": {
            "backgroundcolor": "#E5ECF6",
            "gridcolor": "white",
            "gridwidth": 2,
            "linecolor": "white",
            "showbackground": true,
            "ticks": "",
            "zerolinecolor": "white"
           },
           "yaxis": {
            "backgroundcolor": "#E5ECF6",
            "gridcolor": "white",
            "gridwidth": 2,
            "linecolor": "white",
            "showbackground": true,
            "ticks": "",
            "zerolinecolor": "white"
           },
           "zaxis": {
            "backgroundcolor": "#E5ECF6",
            "gridcolor": "white",
            "gridwidth": 2,
            "linecolor": "white",
            "showbackground": true,
            "ticks": "",
            "zerolinecolor": "white"
           }
          },
          "shapedefaults": {
           "line": {
            "color": "#2a3f5f"
           }
          },
          "ternary": {
           "aaxis": {
            "gridcolor": "white",
            "linecolor": "white",
            "ticks": ""
           },
           "baxis": {
            "gridcolor": "white",
            "linecolor": "white",
            "ticks": ""
           },
           "bgcolor": "#E5ECF6",
           "caxis": {
            "gridcolor": "white",
            "linecolor": "white",
            "ticks": ""
           }
          },
          "title": {
           "x": 0.05
          },
          "xaxis": {
           "automargin": true,
           "gridcolor": "white",
           "linecolor": "white",
           "ticks": "",
           "title": {
            "standoff": 15
           },
           "zerolinecolor": "white",
           "zerolinewidth": 2
          },
          "yaxis": {
           "automargin": true,
           "gridcolor": "white",
           "linecolor": "white",
           "ticks": "",
           "title": {
            "standoff": 15
           },
           "zerolinecolor": "white",
           "zerolinewidth": 2
          }
         }
        },
        "xaxis": {
         "anchor": "y",
         "domain": [
          0,
          1
         ],
         "title": {
          "text": "Time (Days)"
         }
        },
        "yaxis": {
         "anchor": "x",
         "domain": [
          0,
          1
         ],
         "title": {
          "text": "Fraction of Population"
         }
        }
       }
      }
     },
     "metadata": {},
     "output_type": "display_data"
    }
   ],
   "source": [
    "from matplotlib.axis import XAxis\n",
    "\n",
    "\n",
    "system2 = make_system(beta, gamma)\n",
    "add_immunization(system2, 0.1)\n",
    "\n",
    "results2 = run_simulation(system2, update_func)\n",
    "results2[0]\n",
    "\n",
    "fig = make_subplots(rows=1, cols=1)\n",
    "\n",
    "time2 = []\n",
    "Sval2 = []\n",
    "\n",
    "for t in range(7*14):  \n",
    "    Sval2.append(results2[0][t])\n",
    "    time2.append(t)\n",
    "    \n",
    "fig.add_trace(go.Scatter(x=time2, y=Sval2, mode = \"lines\", name = \"10% immunization\"),\n",
    "    row=1, col=1)\n",
    "\n",
    "fig.add_trace(go.Scatter(x=time, y=Sval, mode = \"markers\", name = \"No immunization\"),\n",
    "    row=1, col=1)\n",
    "\n",
    "fig.update_traces(marker_size=3)\n",
    "fig.update_xaxes(title_text = \"Time (Days)\")\n",
    "fig.update_yaxes(title_text = \"Fraction of Population\")\n",
    "\n",
    "fig.show()"
   ]
  },
  {
   "cell_type": "markdown",
   "metadata": {},
   "source": [
    "Sweeping Immunization"
   ]
  },
  {
   "cell_type": "code",
   "execution_count": 11,
   "metadata": {},
   "outputs": [],
   "source": [
    "fraction_array = linspace(0, 1, 21)\n",
    "infected_sweep = sweep_immunity(fraction_array)"
   ]
  },
  {
   "cell_type": "markdown",
   "metadata": {},
   "source": [
    "Graphing Sweeping Immunization"
   ]
  },
  {
   "cell_type": "code",
   "execution_count": 12,
   "metadata": {},
   "outputs": [
    {
     "data": {
      "application/vnd.plotly.v1+json": {
       "config": {
        "plotlyServerURL": "https://plot.ly"
       },
       "data": [
        {
         "marker": {
          "size": 3
         },
         "mode": "lines",
         "name": "10% immunization",
         "type": "scatter",
         "x": [
          0,
          0.05,
          0.1,
          0.15000000000000002,
          0.2,
          0.25,
          0.30000000000000004,
          0.35000000000000003,
          0.4,
          0.45,
          0.5,
          0.55,
          0.6000000000000001,
          0.65,
          0.7000000000000001,
          0.75,
          0.8,
          0.8500000000000001,
          0.9,
          0.9500000000000001,
          1
         ],
         "xaxis": "x",
         "y": [
          0.468320811028781,
          0.38728831880402126,
          0.30650802853979753,
          0.22923409016575969,
          0.16136545700638427,
          0.10879114105375787,
          0.0728155898425179,
          0.049938457998750074,
          0.03552021675299155,
          0.026121401417599333,
          0.019688715782459176,
          0.015072289809266115,
          0.011622057998337987,
          0.008955926391111535,
          0.006838737800619332,
          0.0051192862447051735,
          0.003696496253713877,
          0.0025004897965597295,
          0.0014815326722661948,
          0.0006033255857651743,
          -0.00016121210941239666
         ],
         "yaxis": "y"
        }
       ],
       "layout": {
        "template": {
         "data": {
          "bar": [
           {
            "error_x": {
             "color": "#2a3f5f"
            },
            "error_y": {
             "color": "#2a3f5f"
            },
            "marker": {
             "line": {
              "color": "#E5ECF6",
              "width": 0.5
             },
             "pattern": {
              "fillmode": "overlay",
              "size": 10,
              "solidity": 0.2
             }
            },
            "type": "bar"
           }
          ],
          "barpolar": [
           {
            "marker": {
             "line": {
              "color": "#E5ECF6",
              "width": 0.5
             },
             "pattern": {
              "fillmode": "overlay",
              "size": 10,
              "solidity": 0.2
             }
            },
            "type": "barpolar"
           }
          ],
          "carpet": [
           {
            "aaxis": {
             "endlinecolor": "#2a3f5f",
             "gridcolor": "white",
             "linecolor": "white",
             "minorgridcolor": "white",
             "startlinecolor": "#2a3f5f"
            },
            "baxis": {
             "endlinecolor": "#2a3f5f",
             "gridcolor": "white",
             "linecolor": "white",
             "minorgridcolor": "white",
             "startlinecolor": "#2a3f5f"
            },
            "type": "carpet"
           }
          ],
          "choropleth": [
           {
            "colorbar": {
             "outlinewidth": 0,
             "ticks": ""
            },
            "type": "choropleth"
           }
          ],
          "contour": [
           {
            "colorbar": {
             "outlinewidth": 0,
             "ticks": ""
            },
            "colorscale": [
             [
              0,
              "#0d0887"
             ],
             [
              0.1111111111111111,
              "#46039f"
             ],
             [
              0.2222222222222222,
              "#7201a8"
             ],
             [
              0.3333333333333333,
              "#9c179e"
             ],
             [
              0.4444444444444444,
              "#bd3786"
             ],
             [
              0.5555555555555556,
              "#d8576b"
             ],
             [
              0.6666666666666666,
              "#ed7953"
             ],
             [
              0.7777777777777778,
              "#fb9f3a"
             ],
             [
              0.8888888888888888,
              "#fdca26"
             ],
             [
              1,
              "#f0f921"
             ]
            ],
            "type": "contour"
           }
          ],
          "contourcarpet": [
           {
            "colorbar": {
             "outlinewidth": 0,
             "ticks": ""
            },
            "type": "contourcarpet"
           }
          ],
          "heatmap": [
           {
            "colorbar": {
             "outlinewidth": 0,
             "ticks": ""
            },
            "colorscale": [
             [
              0,
              "#0d0887"
             ],
             [
              0.1111111111111111,
              "#46039f"
             ],
             [
              0.2222222222222222,
              "#7201a8"
             ],
             [
              0.3333333333333333,
              "#9c179e"
             ],
             [
              0.4444444444444444,
              "#bd3786"
             ],
             [
              0.5555555555555556,
              "#d8576b"
             ],
             [
              0.6666666666666666,
              "#ed7953"
             ],
             [
              0.7777777777777778,
              "#fb9f3a"
             ],
             [
              0.8888888888888888,
              "#fdca26"
             ],
             [
              1,
              "#f0f921"
             ]
            ],
            "type": "heatmap"
           }
          ],
          "heatmapgl": [
           {
            "colorbar": {
             "outlinewidth": 0,
             "ticks": ""
            },
            "colorscale": [
             [
              0,
              "#0d0887"
             ],
             [
              0.1111111111111111,
              "#46039f"
             ],
             [
              0.2222222222222222,
              "#7201a8"
             ],
             [
              0.3333333333333333,
              "#9c179e"
             ],
             [
              0.4444444444444444,
              "#bd3786"
             ],
             [
              0.5555555555555556,
              "#d8576b"
             ],
             [
              0.6666666666666666,
              "#ed7953"
             ],
             [
              0.7777777777777778,
              "#fb9f3a"
             ],
             [
              0.8888888888888888,
              "#fdca26"
             ],
             [
              1,
              "#f0f921"
             ]
            ],
            "type": "heatmapgl"
           }
          ],
          "histogram": [
           {
            "marker": {
             "pattern": {
              "fillmode": "overlay",
              "size": 10,
              "solidity": 0.2
             }
            },
            "type": "histogram"
           }
          ],
          "histogram2d": [
           {
            "colorbar": {
             "outlinewidth": 0,
             "ticks": ""
            },
            "colorscale": [
             [
              0,
              "#0d0887"
             ],
             [
              0.1111111111111111,
              "#46039f"
             ],
             [
              0.2222222222222222,
              "#7201a8"
             ],
             [
              0.3333333333333333,
              "#9c179e"
             ],
             [
              0.4444444444444444,
              "#bd3786"
             ],
             [
              0.5555555555555556,
              "#d8576b"
             ],
             [
              0.6666666666666666,
              "#ed7953"
             ],
             [
              0.7777777777777778,
              "#fb9f3a"
             ],
             [
              0.8888888888888888,
              "#fdca26"
             ],
             [
              1,
              "#f0f921"
             ]
            ],
            "type": "histogram2d"
           }
          ],
          "histogram2dcontour": [
           {
            "colorbar": {
             "outlinewidth": 0,
             "ticks": ""
            },
            "colorscale": [
             [
              0,
              "#0d0887"
             ],
             [
              0.1111111111111111,
              "#46039f"
             ],
             [
              0.2222222222222222,
              "#7201a8"
             ],
             [
              0.3333333333333333,
              "#9c179e"
             ],
             [
              0.4444444444444444,
              "#bd3786"
             ],
             [
              0.5555555555555556,
              "#d8576b"
             ],
             [
              0.6666666666666666,
              "#ed7953"
             ],
             [
              0.7777777777777778,
              "#fb9f3a"
             ],
             [
              0.8888888888888888,
              "#fdca26"
             ],
             [
              1,
              "#f0f921"
             ]
            ],
            "type": "histogram2dcontour"
           }
          ],
          "mesh3d": [
           {
            "colorbar": {
             "outlinewidth": 0,
             "ticks": ""
            },
            "type": "mesh3d"
           }
          ],
          "parcoords": [
           {
            "line": {
             "colorbar": {
              "outlinewidth": 0,
              "ticks": ""
             }
            },
            "type": "parcoords"
           }
          ],
          "pie": [
           {
            "automargin": true,
            "type": "pie"
           }
          ],
          "scatter": [
           {
            "fillpattern": {
             "fillmode": "overlay",
             "size": 10,
             "solidity": 0.2
            },
            "type": "scatter"
           }
          ],
          "scatter3d": [
           {
            "line": {
             "colorbar": {
              "outlinewidth": 0,
              "ticks": ""
             }
            },
            "marker": {
             "colorbar": {
              "outlinewidth": 0,
              "ticks": ""
             }
            },
            "type": "scatter3d"
           }
          ],
          "scattercarpet": [
           {
            "marker": {
             "colorbar": {
              "outlinewidth": 0,
              "ticks": ""
             }
            },
            "type": "scattercarpet"
           }
          ],
          "scattergeo": [
           {
            "marker": {
             "colorbar": {
              "outlinewidth": 0,
              "ticks": ""
             }
            },
            "type": "scattergeo"
           }
          ],
          "scattergl": [
           {
            "marker": {
             "colorbar": {
              "outlinewidth": 0,
              "ticks": ""
             }
            },
            "type": "scattergl"
           }
          ],
          "scattermapbox": [
           {
            "marker": {
             "colorbar": {
              "outlinewidth": 0,
              "ticks": ""
             }
            },
            "type": "scattermapbox"
           }
          ],
          "scatterpolar": [
           {
            "marker": {
             "colorbar": {
              "outlinewidth": 0,
              "ticks": ""
             }
            },
            "type": "scatterpolar"
           }
          ],
          "scatterpolargl": [
           {
            "marker": {
             "colorbar": {
              "outlinewidth": 0,
              "ticks": ""
             }
            },
            "type": "scatterpolargl"
           }
          ],
          "scatterternary": [
           {
            "marker": {
             "colorbar": {
              "outlinewidth": 0,
              "ticks": ""
             }
            },
            "type": "scatterternary"
           }
          ],
          "surface": [
           {
            "colorbar": {
             "outlinewidth": 0,
             "ticks": ""
            },
            "colorscale": [
             [
              0,
              "#0d0887"
             ],
             [
              0.1111111111111111,
              "#46039f"
             ],
             [
              0.2222222222222222,
              "#7201a8"
             ],
             [
              0.3333333333333333,
              "#9c179e"
             ],
             [
              0.4444444444444444,
              "#bd3786"
             ],
             [
              0.5555555555555556,
              "#d8576b"
             ],
             [
              0.6666666666666666,
              "#ed7953"
             ],
             [
              0.7777777777777778,
              "#fb9f3a"
             ],
             [
              0.8888888888888888,
              "#fdca26"
             ],
             [
              1,
              "#f0f921"
             ]
            ],
            "type": "surface"
           }
          ],
          "table": [
           {
            "cells": {
             "fill": {
              "color": "#EBF0F8"
             },
             "line": {
              "color": "white"
             }
            },
            "header": {
             "fill": {
              "color": "#C8D4E3"
             },
             "line": {
              "color": "white"
             }
            },
            "type": "table"
           }
          ]
         },
         "layout": {
          "annotationdefaults": {
           "arrowcolor": "#2a3f5f",
           "arrowhead": 0,
           "arrowwidth": 1
          },
          "autotypenumbers": "strict",
          "coloraxis": {
           "colorbar": {
            "outlinewidth": 0,
            "ticks": ""
           }
          },
          "colorscale": {
           "diverging": [
            [
             0,
             "#8e0152"
            ],
            [
             0.1,
             "#c51b7d"
            ],
            [
             0.2,
             "#de77ae"
            ],
            [
             0.3,
             "#f1b6da"
            ],
            [
             0.4,
             "#fde0ef"
            ],
            [
             0.5,
             "#f7f7f7"
            ],
            [
             0.6,
             "#e6f5d0"
            ],
            [
             0.7,
             "#b8e186"
            ],
            [
             0.8,
             "#7fbc41"
            ],
            [
             0.9,
             "#4d9221"
            ],
            [
             1,
             "#276419"
            ]
           ],
           "sequential": [
            [
             0,
             "#0d0887"
            ],
            [
             0.1111111111111111,
             "#46039f"
            ],
            [
             0.2222222222222222,
             "#7201a8"
            ],
            [
             0.3333333333333333,
             "#9c179e"
            ],
            [
             0.4444444444444444,
             "#bd3786"
            ],
            [
             0.5555555555555556,
             "#d8576b"
            ],
            [
             0.6666666666666666,
             "#ed7953"
            ],
            [
             0.7777777777777778,
             "#fb9f3a"
            ],
            [
             0.8888888888888888,
             "#fdca26"
            ],
            [
             1,
             "#f0f921"
            ]
           ],
           "sequentialminus": [
            [
             0,
             "#0d0887"
            ],
            [
             0.1111111111111111,
             "#46039f"
            ],
            [
             0.2222222222222222,
             "#7201a8"
            ],
            [
             0.3333333333333333,
             "#9c179e"
            ],
            [
             0.4444444444444444,
             "#bd3786"
            ],
            [
             0.5555555555555556,
             "#d8576b"
            ],
            [
             0.6666666666666666,
             "#ed7953"
            ],
            [
             0.7777777777777778,
             "#fb9f3a"
            ],
            [
             0.8888888888888888,
             "#fdca26"
            ],
            [
             1,
             "#f0f921"
            ]
           ]
          },
          "colorway": [
           "#636efa",
           "#EF553B",
           "#00cc96",
           "#ab63fa",
           "#FFA15A",
           "#19d3f3",
           "#FF6692",
           "#B6E880",
           "#FF97FF",
           "#FECB52"
          ],
          "font": {
           "color": "#2a3f5f"
          },
          "geo": {
           "bgcolor": "white",
           "lakecolor": "white",
           "landcolor": "#E5ECF6",
           "showlakes": true,
           "showland": true,
           "subunitcolor": "white"
          },
          "hoverlabel": {
           "align": "left"
          },
          "hovermode": "closest",
          "mapbox": {
           "style": "light"
          },
          "paper_bgcolor": "white",
          "plot_bgcolor": "#E5ECF6",
          "polar": {
           "angularaxis": {
            "gridcolor": "white",
            "linecolor": "white",
            "ticks": ""
           },
           "bgcolor": "#E5ECF6",
           "radialaxis": {
            "gridcolor": "white",
            "linecolor": "white",
            "ticks": ""
           }
          },
          "scene": {
           "xaxis": {
            "backgroundcolor": "#E5ECF6",
            "gridcolor": "white",
            "gridwidth": 2,
            "linecolor": "white",
            "showbackground": true,
            "ticks": "",
            "zerolinecolor": "white"
           },
           "yaxis": {
            "backgroundcolor": "#E5ECF6",
            "gridcolor": "white",
            "gridwidth": 2,
            "linecolor": "white",
            "showbackground": true,
            "ticks": "",
            "zerolinecolor": "white"
           },
           "zaxis": {
            "backgroundcolor": "#E5ECF6",
            "gridcolor": "white",
            "gridwidth": 2,
            "linecolor": "white",
            "showbackground": true,
            "ticks": "",
            "zerolinecolor": "white"
           }
          },
          "shapedefaults": {
           "line": {
            "color": "#2a3f5f"
           }
          },
          "ternary": {
           "aaxis": {
            "gridcolor": "white",
            "linecolor": "white",
            "ticks": ""
           },
           "baxis": {
            "gridcolor": "white",
            "linecolor": "white",
            "ticks": ""
           },
           "bgcolor": "#E5ECF6",
           "caxis": {
            "gridcolor": "white",
            "linecolor": "white",
            "ticks": ""
           }
          },
          "title": {
           "x": 0.05
          },
          "xaxis": {
           "automargin": true,
           "gridcolor": "white",
           "linecolor": "white",
           "ticks": "",
           "title": {
            "standoff": 15
           },
           "zerolinecolor": "white",
           "zerolinewidth": 2
          },
          "yaxis": {
           "automargin": true,
           "gridcolor": "white",
           "linecolor": "white",
           "ticks": "",
           "title": {
            "standoff": 15
           },
           "zerolinecolor": "white",
           "zerolinewidth": 2
          }
         }
        },
        "title": {
         "text": "Fraction infected vs. immunization rate"
        },
        "xaxis": {
         "anchor": "y",
         "domain": [
          0,
          1
         ],
         "title": {
          "text": "Fraction immunized"
         }
        },
        "yaxis": {
         "anchor": "x",
         "domain": [
          0,
          1
         ],
         "title": {
          "text": "Total fraction infected"
         }
        }
       }
      }
     },
     "metadata": {},
     "output_type": "display_data"
    }
   ],
   "source": [
    "fig = make_subplots(rows=1, cols=1)\n",
    "\n",
    "sweep = []\n",
    "infected = []\n",
    "\n",
    "for t in linspace(0, 1, 21):  \n",
    "    sweep.append(t)\n",
    "    infected.append(infected_sweep[t])\n",
    "    \n",
    "fig.add_trace(go.Scatter(x=sweep, y=infected, mode = \"lines\", name = \"10% immunization\"),\n",
    "    row=1, col=1)\n",
    "\n",
    "fig.update_traces(marker_size=3)\n",
    "fig.update_xaxes(title_text = \"Fraction immunized\")\n",
    "fig.update_yaxes(title_text = \"Total fraction infected\")\n",
    "fig.update_layout(title_text = \"Fraction infected vs. immunization rate\")\n",
    "fig.show()"
   ]
  },
  {
   "cell_type": "markdown",
   "metadata": {},
   "source": [
    "Sweeping Beta and Graphing it"
   ]
  },
  {
   "cell_type": "code",
   "execution_count": 13,
   "metadata": {},
   "outputs": [
    {
     "data": {
      "application/vnd.plotly.v1+json": {
       "config": {
        "plotlyServerURL": "https://plot.ly"
       },
       "data": [
        {
         "marker": {
          "size": 3
         },
         "mode": "lines",
         "name": "10% immunization",
         "type": "scatter",
         "x": [
          0.1,
          0.2,
          0.30000000000000004,
          0.4,
          0.5,
          0.6,
          0.7000000000000001,
          0.8,
          0.9,
          1,
          1.1
         ],
         "xaxis": "x",
         "y": [
          0.0072309016649785285,
          0.038410532615067994,
          0.33703425948982,
          0.6502429153895082,
          0.8045061124629623,
          0.8862866308018508,
          0.9316695082755875,
          0.9574278300784942,
          0.9720993156325133,
          0.9803437149675784,
          0.9848347293510136
         ],
         "yaxis": "y"
        }
       ],
       "layout": {
        "template": {
         "data": {
          "bar": [
           {
            "error_x": {
             "color": "#2a3f5f"
            },
            "error_y": {
             "color": "#2a3f5f"
            },
            "marker": {
             "line": {
              "color": "#E5ECF6",
              "width": 0.5
             },
             "pattern": {
              "fillmode": "overlay",
              "size": 10,
              "solidity": 0.2
             }
            },
            "type": "bar"
           }
          ],
          "barpolar": [
           {
            "marker": {
             "line": {
              "color": "#E5ECF6",
              "width": 0.5
             },
             "pattern": {
              "fillmode": "overlay",
              "size": 10,
              "solidity": 0.2
             }
            },
            "type": "barpolar"
           }
          ],
          "carpet": [
           {
            "aaxis": {
             "endlinecolor": "#2a3f5f",
             "gridcolor": "white",
             "linecolor": "white",
             "minorgridcolor": "white",
             "startlinecolor": "#2a3f5f"
            },
            "baxis": {
             "endlinecolor": "#2a3f5f",
             "gridcolor": "white",
             "linecolor": "white",
             "minorgridcolor": "white",
             "startlinecolor": "#2a3f5f"
            },
            "type": "carpet"
           }
          ],
          "choropleth": [
           {
            "colorbar": {
             "outlinewidth": 0,
             "ticks": ""
            },
            "type": "choropleth"
           }
          ],
          "contour": [
           {
            "colorbar": {
             "outlinewidth": 0,
             "ticks": ""
            },
            "colorscale": [
             [
              0,
              "#0d0887"
             ],
             [
              0.1111111111111111,
              "#46039f"
             ],
             [
              0.2222222222222222,
              "#7201a8"
             ],
             [
              0.3333333333333333,
              "#9c179e"
             ],
             [
              0.4444444444444444,
              "#bd3786"
             ],
             [
              0.5555555555555556,
              "#d8576b"
             ],
             [
              0.6666666666666666,
              "#ed7953"
             ],
             [
              0.7777777777777778,
              "#fb9f3a"
             ],
             [
              0.8888888888888888,
              "#fdca26"
             ],
             [
              1,
              "#f0f921"
             ]
            ],
            "type": "contour"
           }
          ],
          "contourcarpet": [
           {
            "colorbar": {
             "outlinewidth": 0,
             "ticks": ""
            },
            "type": "contourcarpet"
           }
          ],
          "heatmap": [
           {
            "colorbar": {
             "outlinewidth": 0,
             "ticks": ""
            },
            "colorscale": [
             [
              0,
              "#0d0887"
             ],
             [
              0.1111111111111111,
              "#46039f"
             ],
             [
              0.2222222222222222,
              "#7201a8"
             ],
             [
              0.3333333333333333,
              "#9c179e"
             ],
             [
              0.4444444444444444,
              "#bd3786"
             ],
             [
              0.5555555555555556,
              "#d8576b"
             ],
             [
              0.6666666666666666,
              "#ed7953"
             ],
             [
              0.7777777777777778,
              "#fb9f3a"
             ],
             [
              0.8888888888888888,
              "#fdca26"
             ],
             [
              1,
              "#f0f921"
             ]
            ],
            "type": "heatmap"
           }
          ],
          "heatmapgl": [
           {
            "colorbar": {
             "outlinewidth": 0,
             "ticks": ""
            },
            "colorscale": [
             [
              0,
              "#0d0887"
             ],
             [
              0.1111111111111111,
              "#46039f"
             ],
             [
              0.2222222222222222,
              "#7201a8"
             ],
             [
              0.3333333333333333,
              "#9c179e"
             ],
             [
              0.4444444444444444,
              "#bd3786"
             ],
             [
              0.5555555555555556,
              "#d8576b"
             ],
             [
              0.6666666666666666,
              "#ed7953"
             ],
             [
              0.7777777777777778,
              "#fb9f3a"
             ],
             [
              0.8888888888888888,
              "#fdca26"
             ],
             [
              1,
              "#f0f921"
             ]
            ],
            "type": "heatmapgl"
           }
          ],
          "histogram": [
           {
            "marker": {
             "pattern": {
              "fillmode": "overlay",
              "size": 10,
              "solidity": 0.2
             }
            },
            "type": "histogram"
           }
          ],
          "histogram2d": [
           {
            "colorbar": {
             "outlinewidth": 0,
             "ticks": ""
            },
            "colorscale": [
             [
              0,
              "#0d0887"
             ],
             [
              0.1111111111111111,
              "#46039f"
             ],
             [
              0.2222222222222222,
              "#7201a8"
             ],
             [
              0.3333333333333333,
              "#9c179e"
             ],
             [
              0.4444444444444444,
              "#bd3786"
             ],
             [
              0.5555555555555556,
              "#d8576b"
             ],
             [
              0.6666666666666666,
              "#ed7953"
             ],
             [
              0.7777777777777778,
              "#fb9f3a"
             ],
             [
              0.8888888888888888,
              "#fdca26"
             ],
             [
              1,
              "#f0f921"
             ]
            ],
            "type": "histogram2d"
           }
          ],
          "histogram2dcontour": [
           {
            "colorbar": {
             "outlinewidth": 0,
             "ticks": ""
            },
            "colorscale": [
             [
              0,
              "#0d0887"
             ],
             [
              0.1111111111111111,
              "#46039f"
             ],
             [
              0.2222222222222222,
              "#7201a8"
             ],
             [
              0.3333333333333333,
              "#9c179e"
             ],
             [
              0.4444444444444444,
              "#bd3786"
             ],
             [
              0.5555555555555556,
              "#d8576b"
             ],
             [
              0.6666666666666666,
              "#ed7953"
             ],
             [
              0.7777777777777778,
              "#fb9f3a"
             ],
             [
              0.8888888888888888,
              "#fdca26"
             ],
             [
              1,
              "#f0f921"
             ]
            ],
            "type": "histogram2dcontour"
           }
          ],
          "mesh3d": [
           {
            "colorbar": {
             "outlinewidth": 0,
             "ticks": ""
            },
            "type": "mesh3d"
           }
          ],
          "parcoords": [
           {
            "line": {
             "colorbar": {
              "outlinewidth": 0,
              "ticks": ""
             }
            },
            "type": "parcoords"
           }
          ],
          "pie": [
           {
            "automargin": true,
            "type": "pie"
           }
          ],
          "scatter": [
           {
            "fillpattern": {
             "fillmode": "overlay",
             "size": 10,
             "solidity": 0.2
            },
            "type": "scatter"
           }
          ],
          "scatter3d": [
           {
            "line": {
             "colorbar": {
              "outlinewidth": 0,
              "ticks": ""
             }
            },
            "marker": {
             "colorbar": {
              "outlinewidth": 0,
              "ticks": ""
             }
            },
            "type": "scatter3d"
           }
          ],
          "scattercarpet": [
           {
            "marker": {
             "colorbar": {
              "outlinewidth": 0,
              "ticks": ""
             }
            },
            "type": "scattercarpet"
           }
          ],
          "scattergeo": [
           {
            "marker": {
             "colorbar": {
              "outlinewidth": 0,
              "ticks": ""
             }
            },
            "type": "scattergeo"
           }
          ],
          "scattergl": [
           {
            "marker": {
             "colorbar": {
              "outlinewidth": 0,
              "ticks": ""
             }
            },
            "type": "scattergl"
           }
          ],
          "scattermapbox": [
           {
            "marker": {
             "colorbar": {
              "outlinewidth": 0,
              "ticks": ""
             }
            },
            "type": "scattermapbox"
           }
          ],
          "scatterpolar": [
           {
            "marker": {
             "colorbar": {
              "outlinewidth": 0,
              "ticks": ""
             }
            },
            "type": "scatterpolar"
           }
          ],
          "scatterpolargl": [
           {
            "marker": {
             "colorbar": {
              "outlinewidth": 0,
              "ticks": ""
             }
            },
            "type": "scatterpolargl"
           }
          ],
          "scatterternary": [
           {
            "marker": {
             "colorbar": {
              "outlinewidth": 0,
              "ticks": ""
             }
            },
            "type": "scatterternary"
           }
          ],
          "surface": [
           {
            "colorbar": {
             "outlinewidth": 0,
             "ticks": ""
            },
            "colorscale": [
             [
              0,
              "#0d0887"
             ],
             [
              0.1111111111111111,
              "#46039f"
             ],
             [
              0.2222222222222222,
              "#7201a8"
             ],
             [
              0.3333333333333333,
              "#9c179e"
             ],
             [
              0.4444444444444444,
              "#bd3786"
             ],
             [
              0.5555555555555556,
              "#d8576b"
             ],
             [
              0.6666666666666666,
              "#ed7953"
             ],
             [
              0.7777777777777778,
              "#fb9f3a"
             ],
             [
              0.8888888888888888,
              "#fdca26"
             ],
             [
              1,
              "#f0f921"
             ]
            ],
            "type": "surface"
           }
          ],
          "table": [
           {
            "cells": {
             "fill": {
              "color": "#EBF0F8"
             },
             "line": {
              "color": "white"
             }
            },
            "header": {
             "fill": {
              "color": "#C8D4E3"
             },
             "line": {
              "color": "white"
             }
            },
            "type": "table"
           }
          ]
         },
         "layout": {
          "annotationdefaults": {
           "arrowcolor": "#2a3f5f",
           "arrowhead": 0,
           "arrowwidth": 1
          },
          "autotypenumbers": "strict",
          "coloraxis": {
           "colorbar": {
            "outlinewidth": 0,
            "ticks": ""
           }
          },
          "colorscale": {
           "diverging": [
            [
             0,
             "#8e0152"
            ],
            [
             0.1,
             "#c51b7d"
            ],
            [
             0.2,
             "#de77ae"
            ],
            [
             0.3,
             "#f1b6da"
            ],
            [
             0.4,
             "#fde0ef"
            ],
            [
             0.5,
             "#f7f7f7"
            ],
            [
             0.6,
             "#e6f5d0"
            ],
            [
             0.7,
             "#b8e186"
            ],
            [
             0.8,
             "#7fbc41"
            ],
            [
             0.9,
             "#4d9221"
            ],
            [
             1,
             "#276419"
            ]
           ],
           "sequential": [
            [
             0,
             "#0d0887"
            ],
            [
             0.1111111111111111,
             "#46039f"
            ],
            [
             0.2222222222222222,
             "#7201a8"
            ],
            [
             0.3333333333333333,
             "#9c179e"
            ],
            [
             0.4444444444444444,
             "#bd3786"
            ],
            [
             0.5555555555555556,
             "#d8576b"
            ],
            [
             0.6666666666666666,
             "#ed7953"
            ],
            [
             0.7777777777777778,
             "#fb9f3a"
            ],
            [
             0.8888888888888888,
             "#fdca26"
            ],
            [
             1,
             "#f0f921"
            ]
           ],
           "sequentialminus": [
            [
             0,
             "#0d0887"
            ],
            [
             0.1111111111111111,
             "#46039f"
            ],
            [
             0.2222222222222222,
             "#7201a8"
            ],
            [
             0.3333333333333333,
             "#9c179e"
            ],
            [
             0.4444444444444444,
             "#bd3786"
            ],
            [
             0.5555555555555556,
             "#d8576b"
            ],
            [
             0.6666666666666666,
             "#ed7953"
            ],
            [
             0.7777777777777778,
             "#fb9f3a"
            ],
            [
             0.8888888888888888,
             "#fdca26"
            ],
            [
             1,
             "#f0f921"
            ]
           ]
          },
          "colorway": [
           "#636efa",
           "#EF553B",
           "#00cc96",
           "#ab63fa",
           "#FFA15A",
           "#19d3f3",
           "#FF6692",
           "#B6E880",
           "#FF97FF",
           "#FECB52"
          ],
          "font": {
           "color": "#2a3f5f"
          },
          "geo": {
           "bgcolor": "white",
           "lakecolor": "white",
           "landcolor": "#E5ECF6",
           "showlakes": true,
           "showland": true,
           "subunitcolor": "white"
          },
          "hoverlabel": {
           "align": "left"
          },
          "hovermode": "closest",
          "mapbox": {
           "style": "light"
          },
          "paper_bgcolor": "white",
          "plot_bgcolor": "#E5ECF6",
          "polar": {
           "angularaxis": {
            "gridcolor": "white",
            "linecolor": "white",
            "ticks": ""
           },
           "bgcolor": "#E5ECF6",
           "radialaxis": {
            "gridcolor": "white",
            "linecolor": "white",
            "ticks": ""
           }
          },
          "scene": {
           "xaxis": {
            "backgroundcolor": "#E5ECF6",
            "gridcolor": "white",
            "gridwidth": 2,
            "linecolor": "white",
            "showbackground": true,
            "ticks": "",
            "zerolinecolor": "white"
           },
           "yaxis": {
            "backgroundcolor": "#E5ECF6",
            "gridcolor": "white",
            "gridwidth": 2,
            "linecolor": "white",
            "showbackground": true,
            "ticks": "",
            "zerolinecolor": "white"
           },
           "zaxis": {
            "backgroundcolor": "#E5ECF6",
            "gridcolor": "white",
            "gridwidth": 2,
            "linecolor": "white",
            "showbackground": true,
            "ticks": "",
            "zerolinecolor": "white"
           }
          },
          "shapedefaults": {
           "line": {
            "color": "#2a3f5f"
           }
          },
          "ternary": {
           "aaxis": {
            "gridcolor": "white",
            "linecolor": "white",
            "ticks": ""
           },
           "baxis": {
            "gridcolor": "white",
            "linecolor": "white",
            "ticks": ""
           },
           "bgcolor": "#E5ECF6",
           "caxis": {
            "gridcolor": "white",
            "linecolor": "white",
            "ticks": ""
           }
          },
          "title": {
           "x": 0.05
          },
          "xaxis": {
           "automargin": true,
           "gridcolor": "white",
           "linecolor": "white",
           "ticks": "",
           "title": {
            "standoff": 15
           },
           "zerolinecolor": "white",
           "zerolinewidth": 2
          },
          "yaxis": {
           "automargin": true,
           "gridcolor": "white",
           "linecolor": "white",
           "ticks": "",
           "title": {
            "standoff": 15
           },
           "zerolinecolor": "white",
           "zerolinewidth": 2
          }
         }
        },
        "xaxis": {
         "anchor": "y",
         "domain": [
          0,
          1
         ],
         "title": {
          "text": "Contact rate (beta)"
         }
        },
        "yaxis": {
         "anchor": "x",
         "domain": [
          0,
          1
         ],
         "title": {
          "text": "Fraction infected"
         }
        }
       }
      }
     },
     "metadata": {},
     "output_type": "display_data"
    }
   ],
   "source": [
    "fig = make_subplots(rows=1, cols=1)\n",
    "\n",
    "beta_array = linspace(0.1, 1.1, 11)\n",
    "gamma = 0.25\n",
    "\n",
    "infected_sweep = sweep_beta(beta_array, gamma)\n",
    "\n",
    "sweep = []\n",
    "infected = []\n",
    "\n",
    "for t in beta_array:  \n",
    "    sweep.append(t)\n",
    "    infected.append(infected_sweep[t])\n",
    "    \n",
    "fig.add_trace(go.Scatter(x=sweep, y=infected, mode = \"lines\", name = \"10% immunization\"),\n",
    "    row=1, col=1)\n",
    "\n",
    "fig.update_traces(marker_size=3)\n",
    "fig.update_xaxes(title_text = \"Contact rate (beta)\")\n",
    "fig.update_yaxes(title_text = \"Fraction infected\")\n",
    "fig.show()"
   ]
  },
  {
   "cell_type": "markdown",
   "metadata": {},
   "source": [
    "Creating a Heatmap/Surface graph/Countor Map of both sweeps"
   ]
  },
  {
   "cell_type": "code",
   "execution_count": 14,
   "metadata": {},
   "outputs": [
    {
     "data": {
      "application/vnd.plotly.v1+json": {
       "config": {
        "plotlyServerURL": "https://plot.ly"
       },
       "data": [
        {
         "contours": {
          "z": {
           "highlightcolor": "limegreen",
           "project": {
            "z": true
           },
           "show": true,
           "usecolormap": true
          }
         },
         "type": "surface",
         "x": [
          0.1,
          0.2,
          0.30000000000000004,
          0.4,
          0.5,
          0.6,
          0.7000000000000001,
          0.8,
          0.9,
          1,
          1.1
         ],
         "y": [
          0.1,
          0.2,
          0.30000000000000004,
          0.4,
          0.5,
          0.6,
          0.7000000000000001,
          0.8,
          0.9,
          1,
          1.1
         ],
         "z": [
          [
           0.0846929424381071,
           0.7856728470978496,
           0.9361182541118539,
           0.9736917715565451,
           0.9845958628261559,
           0.9877570386599304,
           0.9886203255674237,
           0.9888336877600417,
           0.9888795705171926,
           0.9888877102258273,
           0.9888887974106683
          ],
          [
           0.010756340768063644,
           0.11898421353185373,
           0.5890954199973404,
           0.8013385277185551,
           0.8965769637207062,
           0.942929291399791,
           0.966299311298026,
           0.9781518959989762,
           0.9840568957948106,
           0.9868823507202488,
           0.988148177093735
          ],
          [
           0.0054435591223862545,
           0.020877729052614313,
           0.128878443068544,
           0.47070652896881116,
           0.6860504839161878,
           0.8077412057966196,
           0.8794736867320926,
           0.923023563962876,
           0.9498533103273188,
           0.9664030794908725,
           0.9764926647014404
          ],
          [
           0.0036416926514175607,
           0.010763463373360094,
           0.030184952469116788,
           0.131562924303259,
           0.3964094037932606,
           0.5979016626615987,
           0.7284704154876108,
           0.8144604459153759,
           0.8722697237137128,
           0.9116692168795855,
           0.9386802509510287
          ],
          [
           0.0027357655411521797,
           0.007235113852079311,
           0.015929222442200408,
           0.03860349666182916,
           0.13243803845818214,
           0.3467646196179077,
           0.5305845371114153,
           0.6615532822708375,
           0.7545952983288148,
           0.8215339542923461,
           0.8702193295826327
          ],
          [
           0.002190722188881611,
           0.005446688837466351,
           0.010771139974975696,
           0.020916599304195316,
           0.04614035896610047,
           0.13288938996079536,
           0.31184325128474544,
           0.47832565854255393,
           0.605687582114665,
           0.7014254793376209,
           0.7738176405451065
          ],
          [
           0.001826769346999102,
           0.004366666487649051,
           0.008129147084748212,
           0.014241705308126185,
           0.025707925046422053,
           0.052853137318989885,
           0.1332477176566631,
           0.28625773348558436,
           0.436999374456313,
           0.5589462442192292,
           0.6547812528906267
          ],
          [
           0.0015665254038139675,
           0.003643953969662994,
           0.006526163529085305,
           0.010779807499500693,
           0.017639902596349066,
           0.030291868201986594,
           0.05882382948158804,
           0.13358889291095588,
           0.2668895539427739,
           0.40375121210421994,
           0.519583469821867
          ],
          [
           0.001371197397731172,
           0.003126486028062314,
           0.005450726560987329,
           0.00866764786609786,
           0.013395655647118643,
           0.02096003219923004,
           0.03466280457765747,
           0.06414123643615277,
           0.13392978012156054,
           0.25183205608417725,
           0.376589842682314
          ],
          [
           0.001219194989011907,
           0.0027377437297855245,
           0.004679467875123411,
           0.007246303756795691,
           0.010789667259955782,
           0.015974015399254582,
           0.024197603733769113,
           0.03881995142395056,
           0.06889099065212712,
           0.13427403425982565,
           0.2398653144940497
          ],
          [
           0.0010975474252924444,
           0.0024350358024346486,
           0.0040994481384265535,
           0.006225077654527955,
           0.009029949523156056,
           0.012890890046904246,
           0.018512560599413863,
           0.027349296924970123,
           0.04276641237157908,
           0.07315082776527682,
           0.13462244761088482
          ]
         ]
        }
       ],
       "layout": {
        "margin": {
         "b": 10,
         "l": 10,
         "r": 10,
         "t": 10
        },
        "scene": {
         "xaxis": {
          "backgroundcolor": "rgb(200, 200, 230)",
          "gridcolor": "white",
          "showbackground": true,
          "title": {
           "text": "Contact rate (beta)"
          },
          "zerolinecolor": "white"
         },
         "yaxis": {
          "backgroundcolor": "rgb(230, 200,230)",
          "gridcolor": "white",
          "showbackground": true,
          "title": {
           "text": "Recovery rate (gamma)"
          },
          "zerolinecolor": "white"
         },
         "zaxis": {
          "backgroundcolor": "rgb(230, 230,200)",
          "gridcolor": "white",
          "showbackground": true,
          "title": {
           "text": "Fraction Infected"
          },
          "zerolinecolor": "white"
         }
        },
        "template": {
         "data": {
          "bar": [
           {
            "error_x": {
             "color": "#2a3f5f"
            },
            "error_y": {
             "color": "#2a3f5f"
            },
            "marker": {
             "line": {
              "color": "#E5ECF6",
              "width": 0.5
             },
             "pattern": {
              "fillmode": "overlay",
              "size": 10,
              "solidity": 0.2
             }
            },
            "type": "bar"
           }
          ],
          "barpolar": [
           {
            "marker": {
             "line": {
              "color": "#E5ECF6",
              "width": 0.5
             },
             "pattern": {
              "fillmode": "overlay",
              "size": 10,
              "solidity": 0.2
             }
            },
            "type": "barpolar"
           }
          ],
          "carpet": [
           {
            "aaxis": {
             "endlinecolor": "#2a3f5f",
             "gridcolor": "white",
             "linecolor": "white",
             "minorgridcolor": "white",
             "startlinecolor": "#2a3f5f"
            },
            "baxis": {
             "endlinecolor": "#2a3f5f",
             "gridcolor": "white",
             "linecolor": "white",
             "minorgridcolor": "white",
             "startlinecolor": "#2a3f5f"
            },
            "type": "carpet"
           }
          ],
          "choropleth": [
           {
            "colorbar": {
             "outlinewidth": 0,
             "ticks": ""
            },
            "type": "choropleth"
           }
          ],
          "contour": [
           {
            "colorbar": {
             "outlinewidth": 0,
             "ticks": ""
            },
            "colorscale": [
             [
              0,
              "#0d0887"
             ],
             [
              0.1111111111111111,
              "#46039f"
             ],
             [
              0.2222222222222222,
              "#7201a8"
             ],
             [
              0.3333333333333333,
              "#9c179e"
             ],
             [
              0.4444444444444444,
              "#bd3786"
             ],
             [
              0.5555555555555556,
              "#d8576b"
             ],
             [
              0.6666666666666666,
              "#ed7953"
             ],
             [
              0.7777777777777778,
              "#fb9f3a"
             ],
             [
              0.8888888888888888,
              "#fdca26"
             ],
             [
              1,
              "#f0f921"
             ]
            ],
            "type": "contour"
           }
          ],
          "contourcarpet": [
           {
            "colorbar": {
             "outlinewidth": 0,
             "ticks": ""
            },
            "type": "contourcarpet"
           }
          ],
          "heatmap": [
           {
            "colorbar": {
             "outlinewidth": 0,
             "ticks": ""
            },
            "colorscale": [
             [
              0,
              "#0d0887"
             ],
             [
              0.1111111111111111,
              "#46039f"
             ],
             [
              0.2222222222222222,
              "#7201a8"
             ],
             [
              0.3333333333333333,
              "#9c179e"
             ],
             [
              0.4444444444444444,
              "#bd3786"
             ],
             [
              0.5555555555555556,
              "#d8576b"
             ],
             [
              0.6666666666666666,
              "#ed7953"
             ],
             [
              0.7777777777777778,
              "#fb9f3a"
             ],
             [
              0.8888888888888888,
              "#fdca26"
             ],
             [
              1,
              "#f0f921"
             ]
            ],
            "type": "heatmap"
           }
          ],
          "heatmapgl": [
           {
            "colorbar": {
             "outlinewidth": 0,
             "ticks": ""
            },
            "colorscale": [
             [
              0,
              "#0d0887"
             ],
             [
              0.1111111111111111,
              "#46039f"
             ],
             [
              0.2222222222222222,
              "#7201a8"
             ],
             [
              0.3333333333333333,
              "#9c179e"
             ],
             [
              0.4444444444444444,
              "#bd3786"
             ],
             [
              0.5555555555555556,
              "#d8576b"
             ],
             [
              0.6666666666666666,
              "#ed7953"
             ],
             [
              0.7777777777777778,
              "#fb9f3a"
             ],
             [
              0.8888888888888888,
              "#fdca26"
             ],
             [
              1,
              "#f0f921"
             ]
            ],
            "type": "heatmapgl"
           }
          ],
          "histogram": [
           {
            "marker": {
             "pattern": {
              "fillmode": "overlay",
              "size": 10,
              "solidity": 0.2
             }
            },
            "type": "histogram"
           }
          ],
          "histogram2d": [
           {
            "colorbar": {
             "outlinewidth": 0,
             "ticks": ""
            },
            "colorscale": [
             [
              0,
              "#0d0887"
             ],
             [
              0.1111111111111111,
              "#46039f"
             ],
             [
              0.2222222222222222,
              "#7201a8"
             ],
             [
              0.3333333333333333,
              "#9c179e"
             ],
             [
              0.4444444444444444,
              "#bd3786"
             ],
             [
              0.5555555555555556,
              "#d8576b"
             ],
             [
              0.6666666666666666,
              "#ed7953"
             ],
             [
              0.7777777777777778,
              "#fb9f3a"
             ],
             [
              0.8888888888888888,
              "#fdca26"
             ],
             [
              1,
              "#f0f921"
             ]
            ],
            "type": "histogram2d"
           }
          ],
          "histogram2dcontour": [
           {
            "colorbar": {
             "outlinewidth": 0,
             "ticks": ""
            },
            "colorscale": [
             [
              0,
              "#0d0887"
             ],
             [
              0.1111111111111111,
              "#46039f"
             ],
             [
              0.2222222222222222,
              "#7201a8"
             ],
             [
              0.3333333333333333,
              "#9c179e"
             ],
             [
              0.4444444444444444,
              "#bd3786"
             ],
             [
              0.5555555555555556,
              "#d8576b"
             ],
             [
              0.6666666666666666,
              "#ed7953"
             ],
             [
              0.7777777777777778,
              "#fb9f3a"
             ],
             [
              0.8888888888888888,
              "#fdca26"
             ],
             [
              1,
              "#f0f921"
             ]
            ],
            "type": "histogram2dcontour"
           }
          ],
          "mesh3d": [
           {
            "colorbar": {
             "outlinewidth": 0,
             "ticks": ""
            },
            "type": "mesh3d"
           }
          ],
          "parcoords": [
           {
            "line": {
             "colorbar": {
              "outlinewidth": 0,
              "ticks": ""
             }
            },
            "type": "parcoords"
           }
          ],
          "pie": [
           {
            "automargin": true,
            "type": "pie"
           }
          ],
          "scatter": [
           {
            "fillpattern": {
             "fillmode": "overlay",
             "size": 10,
             "solidity": 0.2
            },
            "type": "scatter"
           }
          ],
          "scatter3d": [
           {
            "line": {
             "colorbar": {
              "outlinewidth": 0,
              "ticks": ""
             }
            },
            "marker": {
             "colorbar": {
              "outlinewidth": 0,
              "ticks": ""
             }
            },
            "type": "scatter3d"
           }
          ],
          "scattercarpet": [
           {
            "marker": {
             "colorbar": {
              "outlinewidth": 0,
              "ticks": ""
             }
            },
            "type": "scattercarpet"
           }
          ],
          "scattergeo": [
           {
            "marker": {
             "colorbar": {
              "outlinewidth": 0,
              "ticks": ""
             }
            },
            "type": "scattergeo"
           }
          ],
          "scattergl": [
           {
            "marker": {
             "colorbar": {
              "outlinewidth": 0,
              "ticks": ""
             }
            },
            "type": "scattergl"
           }
          ],
          "scattermapbox": [
           {
            "marker": {
             "colorbar": {
              "outlinewidth": 0,
              "ticks": ""
             }
            },
            "type": "scattermapbox"
           }
          ],
          "scatterpolar": [
           {
            "marker": {
             "colorbar": {
              "outlinewidth": 0,
              "ticks": ""
             }
            },
            "type": "scatterpolar"
           }
          ],
          "scatterpolargl": [
           {
            "marker": {
             "colorbar": {
              "outlinewidth": 0,
              "ticks": ""
             }
            },
            "type": "scatterpolargl"
           }
          ],
          "scatterternary": [
           {
            "marker": {
             "colorbar": {
              "outlinewidth": 0,
              "ticks": ""
             }
            },
            "type": "scatterternary"
           }
          ],
          "surface": [
           {
            "colorbar": {
             "outlinewidth": 0,
             "ticks": ""
            },
            "colorscale": [
             [
              0,
              "#0d0887"
             ],
             [
              0.1111111111111111,
              "#46039f"
             ],
             [
              0.2222222222222222,
              "#7201a8"
             ],
             [
              0.3333333333333333,
              "#9c179e"
             ],
             [
              0.4444444444444444,
              "#bd3786"
             ],
             [
              0.5555555555555556,
              "#d8576b"
             ],
             [
              0.6666666666666666,
              "#ed7953"
             ],
             [
              0.7777777777777778,
              "#fb9f3a"
             ],
             [
              0.8888888888888888,
              "#fdca26"
             ],
             [
              1,
              "#f0f921"
             ]
            ],
            "type": "surface"
           }
          ],
          "table": [
           {
            "cells": {
             "fill": {
              "color": "#EBF0F8"
             },
             "line": {
              "color": "white"
             }
            },
            "header": {
             "fill": {
              "color": "#C8D4E3"
             },
             "line": {
              "color": "white"
             }
            },
            "type": "table"
           }
          ]
         },
         "layout": {
          "annotationdefaults": {
           "arrowcolor": "#2a3f5f",
           "arrowhead": 0,
           "arrowwidth": 1
          },
          "autotypenumbers": "strict",
          "coloraxis": {
           "colorbar": {
            "outlinewidth": 0,
            "ticks": ""
           }
          },
          "colorscale": {
           "diverging": [
            [
             0,
             "#8e0152"
            ],
            [
             0.1,
             "#c51b7d"
            ],
            [
             0.2,
             "#de77ae"
            ],
            [
             0.3,
             "#f1b6da"
            ],
            [
             0.4,
             "#fde0ef"
            ],
            [
             0.5,
             "#f7f7f7"
            ],
            [
             0.6,
             "#e6f5d0"
            ],
            [
             0.7,
             "#b8e186"
            ],
            [
             0.8,
             "#7fbc41"
            ],
            [
             0.9,
             "#4d9221"
            ],
            [
             1,
             "#276419"
            ]
           ],
           "sequential": [
            [
             0,
             "#0d0887"
            ],
            [
             0.1111111111111111,
             "#46039f"
            ],
            [
             0.2222222222222222,
             "#7201a8"
            ],
            [
             0.3333333333333333,
             "#9c179e"
            ],
            [
             0.4444444444444444,
             "#bd3786"
            ],
            [
             0.5555555555555556,
             "#d8576b"
            ],
            [
             0.6666666666666666,
             "#ed7953"
            ],
            [
             0.7777777777777778,
             "#fb9f3a"
            ],
            [
             0.8888888888888888,
             "#fdca26"
            ],
            [
             1,
             "#f0f921"
            ]
           ],
           "sequentialminus": [
            [
             0,
             "#0d0887"
            ],
            [
             0.1111111111111111,
             "#46039f"
            ],
            [
             0.2222222222222222,
             "#7201a8"
            ],
            [
             0.3333333333333333,
             "#9c179e"
            ],
            [
             0.4444444444444444,
             "#bd3786"
            ],
            [
             0.5555555555555556,
             "#d8576b"
            ],
            [
             0.6666666666666666,
             "#ed7953"
            ],
            [
             0.7777777777777778,
             "#fb9f3a"
            ],
            [
             0.8888888888888888,
             "#fdca26"
            ],
            [
             1,
             "#f0f921"
            ]
           ]
          },
          "colorway": [
           "#636efa",
           "#EF553B",
           "#00cc96",
           "#ab63fa",
           "#FFA15A",
           "#19d3f3",
           "#FF6692",
           "#B6E880",
           "#FF97FF",
           "#FECB52"
          ],
          "font": {
           "color": "#2a3f5f"
          },
          "geo": {
           "bgcolor": "white",
           "lakecolor": "white",
           "landcolor": "#E5ECF6",
           "showlakes": true,
           "showland": true,
           "subunitcolor": "white"
          },
          "hoverlabel": {
           "align": "left"
          },
          "hovermode": "closest",
          "mapbox": {
           "style": "light"
          },
          "paper_bgcolor": "white",
          "plot_bgcolor": "#E5ECF6",
          "polar": {
           "angularaxis": {
            "gridcolor": "white",
            "linecolor": "white",
            "ticks": ""
           },
           "bgcolor": "#E5ECF6",
           "radialaxis": {
            "gridcolor": "white",
            "linecolor": "white",
            "ticks": ""
           }
          },
          "scene": {
           "xaxis": {
            "backgroundcolor": "#E5ECF6",
            "gridcolor": "white",
            "gridwidth": 2,
            "linecolor": "white",
            "showbackground": true,
            "ticks": "",
            "zerolinecolor": "white"
           },
           "yaxis": {
            "backgroundcolor": "#E5ECF6",
            "gridcolor": "white",
            "gridwidth": 2,
            "linecolor": "white",
            "showbackground": true,
            "ticks": "",
            "zerolinecolor": "white"
           },
           "zaxis": {
            "backgroundcolor": "#E5ECF6",
            "gridcolor": "white",
            "gridwidth": 2,
            "linecolor": "white",
            "showbackground": true,
            "ticks": "",
            "zerolinecolor": "white"
           }
          },
          "shapedefaults": {
           "line": {
            "color": "#2a3f5f"
           }
          },
          "ternary": {
           "aaxis": {
            "gridcolor": "white",
            "linecolor": "white",
            "ticks": ""
           },
           "baxis": {
            "gridcolor": "white",
            "linecolor": "white",
            "ticks": ""
           },
           "bgcolor": "#E5ECF6",
           "caxis": {
            "gridcolor": "white",
            "linecolor": "white",
            "ticks": ""
           }
          },
          "title": {
           "x": 0.05
          },
          "xaxis": {
           "automargin": true,
           "gridcolor": "white",
           "linecolor": "white",
           "ticks": "",
           "title": {
            "standoff": 15
           },
           "zerolinecolor": "white",
           "zerolinewidth": 2
          },
          "yaxis": {
           "automargin": true,
           "gridcolor": "white",
           "linecolor": "white",
           "ticks": "",
           "title": {
            "standoff": 15
           },
           "zerolinecolor": "white",
           "zerolinewidth": 2
          }
         }
        },
        "width": 700
       }
      }
     },
     "metadata": {},
     "output_type": "display_data"
    }
   ],
   "source": [
    "final = []\n",
    "\n",
    "for i in linspace(0.1, 1.1, 11):\n",
    "    infected_sweep = sweep_beta(beta_array, i)\n",
    "\n",
    "    infected = []\n",
    "\n",
    "    for t in beta_array:  \n",
    "        infected.append(infected_sweep[t])\n",
    "\n",
    "    final.append(infected)    \n",
    "    \n",
    "fig = go.Figure(data=[go.Surface(z=final, x=linspace(0.1, 1.1, 11), y=linspace(0.1, 1.1, 11))])\n",
    "fig.update_traces(contours_z=dict(show=True, usecolormap=True,\n",
    "                                  highlightcolor=\"limegreen\", project_z=True))\n",
    "fig.update_layout(scene = dict(\n",
    "                    xaxis_title='Contact rate (beta)',\n",
    "                    yaxis_title='Recovery rate (gamma)',\n",
    "                    zaxis_title='Fraction Infected'),\n",
    ")\n",
    "fig.update_layout(scene = dict(\n",
    "                    xaxis = dict(\n",
    "                         backgroundcolor=\"rgb(200, 200, 230)\",\n",
    "                         gridcolor=\"white\",\n",
    "                         showbackground=True,\n",
    "                         zerolinecolor=\"white\",),\n",
    "                    yaxis = dict(\n",
    "                        backgroundcolor=\"rgb(230, 200,230)\",\n",
    "                        gridcolor=\"white\",\n",
    "                        showbackground=True,\n",
    "                        zerolinecolor=\"white\"),\n",
    "                    zaxis = dict(\n",
    "                        backgroundcolor=\"rgb(230, 230,200)\",\n",
    "                        gridcolor=\"white\",\n",
    "                        showbackground=True,\n",
    "                        zerolinecolor=\"white\",),),\n",
    "                    width=700,\n",
    "                    margin=dict(\n",
    "                    r=10, l=10,\n",
    "                    b=10, t=10)\n",
    "                  )\n",
    "\n",
    "fig.show()"
   ]
  },
  {
   "cell_type": "markdown",
   "metadata": {},
   "source": [
    "Unit 2 Question 2"
   ]
  },
  {
   "cell_type": "code",
   "execution_count": 15,
   "metadata": {},
   "outputs": [
    {
     "data": {
      "application/vnd.plotly.v1+json": {
       "config": {
        "plotlyServerURL": "https://plot.ly"
       },
       "data": [
        {
         "marker": {
          "size": 3
         },
         "mode": "lines+markers",
         "name": "Susceptible",
         "type": "scatter",
         "x": [
          0,
          1,
          2,
          3,
          4,
          5,
          6,
          7,
          8,
          9,
          10,
          11,
          12,
          13,
          14,
          15,
          16,
          17,
          18,
          19,
          20,
          21,
          22,
          23,
          24,
          25,
          26,
          27,
          28,
          29,
          30,
          31,
          32,
          33,
          34,
          35,
          36,
          37,
          38,
          39,
          40,
          41,
          42,
          43,
          44,
          45,
          46,
          47,
          48,
          49,
          50,
          51,
          52,
          53,
          54,
          55,
          56,
          57,
          58,
          59,
          60,
          61,
          62,
          63,
          64,
          65,
          66,
          67,
          68,
          69,
          70,
          71,
          72,
          73,
          74,
          75,
          76,
          77,
          78,
          79,
          80,
          81,
          82,
          83,
          84,
          85,
          86,
          87,
          88,
          89,
          90,
          91,
          92,
          93,
          94,
          95,
          96,
          97
         ],
         "xaxis": "x",
         "y": [
          0.9888888888888889,
          0.9779012345679012,
          0.9563994802621552,
          0.9150165222662863,
          0.8379540185603306,
          0.7035125915939477,
          0.4971884402900847,
          0.2502506001935809,
          0.06540558156427173,
          0.005487640557843287,
          0.00018188651974489906,
          0.000006822118942484846,
          3.2034908181451343e-7,
          1.8093745646397e-8,
          1.1926714105569892e-9,
          8.975692712072003e-11,
          7.584861946983154e-12,
          7.103938430902941e-13,
          7.297366969730642e-14,
          8.150838323409226e-15,
          9.828170880504283e-16,
          1.2714986177109867e-16,
          1.7556743013160542e-17,
          2.5755451314618497e-18,
          3.9980537572441183e-19,
          6.54397629862873e-20,
          1.1258404507516214e-20,
          2.030136151133487e-21,
          3.827184572457874e-22,
          7.525524286326113e-23,
          1.5402271971747344e-23,
          3.2748376043294838e-24,
          7.220827639088447e-25,
          1.6484375284077418e-25,
          3.890417823671246e-26,
          9.478859913834239e-27,
          2.3811830545671304e-27,
          6.160067213860252e-28,
          1.6392603034059028e-28,
          4.482551958501674e-29,
          1.2583203683732213e-29,
          3.6228053290158474e-30,
          1.0688324356084989e-30,
          3.2287146557994527e-31,
          9.978596723779974e-32,
          3.152910171726096e-32,
          1.0177834216268971e-32,
          3.354405935557569e-33,
          1.1280321942568706e-33,
          3.8682582513098296e-34,
          1.3519241509062239e-34,
          4.812806481040825e-35,
          1.7443382513314217e-35,
          6.43333658296009e-36,
          2.4133010251973532e-36,
          9.203680424914144e-37,
          3.5669723864544503e-37,
          1.404259082049346e-37,
          5.613482389484259e-38,
          2.2776673808466927e-38,
          9.376973334717753e-39,
          3.915589958846856e-39,
          1.6578579835931658e-39,
          7.114951036354002e-40,
          3.0941046406092538e-40,
          1.363030142078368e-40,
          6.080745333294585e-41,
          2.74642004840609e-41,
          1.2555036006176235e-41,
          5.8075886890415e-42,
          2.7176306265857768e-42,
          1.286160275658871e-42,
          6.154696820574584e-43,
          2.9773180997972436e-43,
          1.4556401396058842e-43,
          7.191164327928967e-44,
          3.588970190539918e-44,
          1.8091630380149078e-44,
          9.209523444867398e-45,
          4.7333114817626294e-45,
          2.455730828372873e-45,
          1.2858957571498564e-45,
          6.794599548632445e-46,
          3.6222712152317286e-46,
          1.9479822170585068e-46,
          1.0565883509299606e-46,
          5.779299714405448e-47,
          3.1873279866159883e-47,
          1.7721306803006255e-47,
          9.93159884080717e-48,
          5.609648271736615e-48,
          3.192899800554526e-48,
          1.8310904705470078e-48,
          1.0579186580205892e-48,
          6.156830773711437e-49,
          3.608863673013545e-49,
          2.1302923779384292e-49,
          1.266227799424771e-49
         ],
         "yaxis": "y"
        },
        {
         "marker": {
          "color": "orange",
          "size": 3
         },
         "name": "Infected",
         "type": "scatter",
         "x": [
          0,
          1,
          2,
          3,
          4,
          5,
          6,
          7,
          8,
          9,
          10,
          11,
          12,
          13,
          14,
          15,
          16,
          17,
          18,
          19,
          20,
          21,
          22,
          23,
          24,
          25,
          26,
          27,
          28,
          29,
          30,
          31,
          32,
          33,
          34,
          35,
          36,
          37,
          38,
          39,
          40,
          41,
          42,
          43,
          44,
          45,
          46,
          47,
          48,
          49,
          50,
          51,
          52,
          53,
          54,
          55,
          56,
          57,
          58,
          59,
          60,
          61,
          62,
          63,
          64,
          65,
          66,
          67,
          68,
          69,
          70,
          71,
          72,
          73,
          74,
          75,
          76,
          77,
          78,
          79,
          80,
          81,
          82,
          83,
          84,
          85,
          86,
          87,
          88,
          89,
          90,
          91,
          92,
          93,
          94,
          95,
          96,
          97
         ],
         "xaxis": "x",
         "y": [
          0.011111111111111112,
          0.021987654320987655,
          0.043269532083523854,
          0.08421979475855748,
          0.1604401005169276,
          0.29327712647814114,
          0.4966685065172228,
          0.7386396615485543,
          0.916098283562378,
          0.9668552417331826,
          0.9624924433539491,
          0.9530425833212121,
          0.9435186592578606,
          0.9340837749206181,
          0.9247429540724862,
          0.9154955256346758,
          0.9063405704605012,
          0.8972771647627706,
          0.8883043931157804,
          0.8794213491846874,
          0.8706271356928477,
          0.8619208643359201,
          0.853301655692561,
          0.8447686391356354,
          0.836320952744279,
          0.8279577432168362,
          0.8196781657846679,
          0.8114813841268212,
          0.803366570285553,
          0.7953329045826975,
          0.7873795755368704,
          0.7795057797815017,
          0.7717107219836867,
          0.7639936147638499,
          0.7563536786162114,
          0.7487901418300493,
          0.7413022404117489,
          0.7338892180076314,
          0.7265503258275551,
          0.7192848225692795,
          0.7120919743435867,
          0.7049710546001509,
          0.6979213440541494,
          0.6909421306136079,
          0.6840327093074718,
          0.6771923822143971,
          0.6704204583922532,
          0.6637162538083307,
          0.6570790912702473,
          0.6505083003575448,
          0.6440032173539694,
          0.6375631851804296,
          0.6311875533286253,
          0.624875677795339,
          0.6186269210173856,
          0.6124406518072117,
          0.6063162452891396,
          0.6002530828362482,
          0.5942505520078858,
          0.5883080464878069,
          0.5824249660229288,
          0.5766007163626995,
          0.5708347091990725,
          0.5651263621070818,
          0.559475098486011,
          0.5538803475011509,
          0.5483415440261394,
          0.542858128585878,
          0.5374295473000192,
          0.5320552518270191,
          0.5267346993087488,
          0.5214673523156613,
          0.5162526787925047,
          0.5110901520045796,
          0.5059792504845338,
          0.5009194579796885,
          0.49591026339989164,
          0.49095116076589274,
          0.48604164915823383,
          0.48118123266665147,
          0.476369420339985,
          0.47160572613658513,
          0.46688966887521927,
          0.46222077218646707,
          0.4575985644646024,
          0.4530225788199564,
          0.44849235303175683,
          0.4440074295014393,
          0.43956735520642487,
          0.4351716816543606,
          0.430819964837817,
          0.4265117651894388,
          0.4222466475375444,
          0.41802418106216893,
          0.4138439392515472,
          0.40970549985903176,
          0.40560844486044145,
          0.40155236041183706
         ],
         "yaxis": "y"
        },
        {
         "marker": {
          "size": 3
         },
         "mode": "markers",
         "name": "Resistant",
         "type": "scatter",
         "x": [
          0,
          1,
          2,
          3,
          4,
          5,
          6,
          7,
          8,
          9,
          10,
          11,
          12,
          13,
          14,
          15,
          16,
          17,
          18,
          19,
          20,
          21,
          22,
          23,
          24,
          25,
          26,
          27,
          28,
          29,
          30,
          31,
          32,
          33,
          34,
          35,
          36,
          37,
          38,
          39,
          40,
          41,
          42,
          43,
          44,
          45,
          46,
          47,
          48,
          49,
          50,
          51,
          52,
          53,
          54,
          55,
          56,
          57,
          58,
          59,
          60,
          61,
          62,
          63,
          64,
          65,
          66,
          67,
          68,
          69,
          70,
          71,
          72,
          73,
          74,
          75,
          76,
          77,
          78,
          79,
          80,
          81,
          82,
          83,
          84,
          85,
          86,
          87,
          88,
          89,
          90,
          91,
          92,
          93,
          94,
          95,
          96,
          97
         ],
         "xaxis": "x",
         "y": [
          0,
          0.00011111111111111112,
          0.00033098765432098767,
          0.0007636829751562263,
          0.001605880922741801,
          0.0032102819279110767,
          0.006143053192692488,
          0.011109738257864717,
          0.01849613487335026,
          0.02765711770897404,
          0.03732567012630587,
          0.046950594559845356,
          0.056481020393057475,
          0.06591620698563608,
          0.07525704473484227,
          0.08450447427556712,
          0.09365942953191388,
          0.10272283523651889,
          0.11169560688414659,
          0.12057865081530439,
          0.12937286430715125,
          0.13807913566407973,
          0.14669834430743892,
          0.15523136086436454,
          0.16367904725572088,
          0.17204225678316368,
          0.18032183421533204,
          0.18851861587317872,
          0.19663342971444694,
          0.20466709541730246,
          0.21262042446312943,
          0.22049422021849813,
          0.22828927801631316,
          0.23600638523615003,
          0.24364632138378853,
          0.2512098581699506,
          0.2586977595882511,
          0.2661107819923686,
          0.2734496741724449,
          0.2807151774307205,
          0.28790802565641327,
          0.29502894539984914,
          0.30207865594585065,
          0.3090578693863921,
          0.3159672906925282,
          0.3228076177856029,
          0.3295795416077469,
          0.3362837461916694,
          0.3429209087297527,
          0.3494916996424552,
          0.35599678264603063,
          0.3624368148195703,
          0.3688124466713746,
          0.37512432220466085,
          0.38137307898261424,
          0.3875593481927881,
          0.3936837547108602,
          0.3997469171637516,
          0.4057494479921141,
          0.41169195351219295,
          0.417575033977071,
          0.4233992836373003,
          0.4291652908009273,
          0.43487363789291805,
          0.4405249015139889,
          0.446119652498849,
          0.4516584559738605,
          0.4571418714141219,
          0.46257045269998065,
          0.4679447481729808,
          0.473265300691251,
          0.4785326476843385,
          0.48374732120749514,
          0.4889098479954202,
          0.494020749515466,
          0.4990805420203113,
          0.5040897366001083,
          0.5090488392341072,
          0.5139583508417661,
          0.5188187673333484,
          0.5236305796600149,
          0.5283942738634148,
          0.5331103311247806,
          0.5377792278135327,
          0.5424014355353974,
          0.5469774211800434,
          0.5515076469682431,
          0.5559925704985607,
          0.560432644793575,
          0.5648283183456393,
          0.5691800351621829,
          0.573488234810561,
          0.5777533524624554,
          0.5819758189378309,
          0.5861560607484526,
          0.5902945001409681,
          0.5943915551395584,
          0.5984476395881628
         ],
         "yaxis": "y"
        }
       ],
       "layout": {
        "template": {
         "data": {
          "bar": [
           {
            "error_x": {
             "color": "#2a3f5f"
            },
            "error_y": {
             "color": "#2a3f5f"
            },
            "marker": {
             "line": {
              "color": "#E5ECF6",
              "width": 0.5
             },
             "pattern": {
              "fillmode": "overlay",
              "size": 10,
              "solidity": 0.2
             }
            },
            "type": "bar"
           }
          ],
          "barpolar": [
           {
            "marker": {
             "line": {
              "color": "#E5ECF6",
              "width": 0.5
             },
             "pattern": {
              "fillmode": "overlay",
              "size": 10,
              "solidity": 0.2
             }
            },
            "type": "barpolar"
           }
          ],
          "carpet": [
           {
            "aaxis": {
             "endlinecolor": "#2a3f5f",
             "gridcolor": "white",
             "linecolor": "white",
             "minorgridcolor": "white",
             "startlinecolor": "#2a3f5f"
            },
            "baxis": {
             "endlinecolor": "#2a3f5f",
             "gridcolor": "white",
             "linecolor": "white",
             "minorgridcolor": "white",
             "startlinecolor": "#2a3f5f"
            },
            "type": "carpet"
           }
          ],
          "choropleth": [
           {
            "colorbar": {
             "outlinewidth": 0,
             "ticks": ""
            },
            "type": "choropleth"
           }
          ],
          "contour": [
           {
            "colorbar": {
             "outlinewidth": 0,
             "ticks": ""
            },
            "colorscale": [
             [
              0,
              "#0d0887"
             ],
             [
              0.1111111111111111,
              "#46039f"
             ],
             [
              0.2222222222222222,
              "#7201a8"
             ],
             [
              0.3333333333333333,
              "#9c179e"
             ],
             [
              0.4444444444444444,
              "#bd3786"
             ],
             [
              0.5555555555555556,
              "#d8576b"
             ],
             [
              0.6666666666666666,
              "#ed7953"
             ],
             [
              0.7777777777777778,
              "#fb9f3a"
             ],
             [
              0.8888888888888888,
              "#fdca26"
             ],
             [
              1,
              "#f0f921"
             ]
            ],
            "type": "contour"
           }
          ],
          "contourcarpet": [
           {
            "colorbar": {
             "outlinewidth": 0,
             "ticks": ""
            },
            "type": "contourcarpet"
           }
          ],
          "heatmap": [
           {
            "colorbar": {
             "outlinewidth": 0,
             "ticks": ""
            },
            "colorscale": [
             [
              0,
              "#0d0887"
             ],
             [
              0.1111111111111111,
              "#46039f"
             ],
             [
              0.2222222222222222,
              "#7201a8"
             ],
             [
              0.3333333333333333,
              "#9c179e"
             ],
             [
              0.4444444444444444,
              "#bd3786"
             ],
             [
              0.5555555555555556,
              "#d8576b"
             ],
             [
              0.6666666666666666,
              "#ed7953"
             ],
             [
              0.7777777777777778,
              "#fb9f3a"
             ],
             [
              0.8888888888888888,
              "#fdca26"
             ],
             [
              1,
              "#f0f921"
             ]
            ],
            "type": "heatmap"
           }
          ],
          "heatmapgl": [
           {
            "colorbar": {
             "outlinewidth": 0,
             "ticks": ""
            },
            "colorscale": [
             [
              0,
              "#0d0887"
             ],
             [
              0.1111111111111111,
              "#46039f"
             ],
             [
              0.2222222222222222,
              "#7201a8"
             ],
             [
              0.3333333333333333,
              "#9c179e"
             ],
             [
              0.4444444444444444,
              "#bd3786"
             ],
             [
              0.5555555555555556,
              "#d8576b"
             ],
             [
              0.6666666666666666,
              "#ed7953"
             ],
             [
              0.7777777777777778,
              "#fb9f3a"
             ],
             [
              0.8888888888888888,
              "#fdca26"
             ],
             [
              1,
              "#f0f921"
             ]
            ],
            "type": "heatmapgl"
           }
          ],
          "histogram": [
           {
            "marker": {
             "pattern": {
              "fillmode": "overlay",
              "size": 10,
              "solidity": 0.2
             }
            },
            "type": "histogram"
           }
          ],
          "histogram2d": [
           {
            "colorbar": {
             "outlinewidth": 0,
             "ticks": ""
            },
            "colorscale": [
             [
              0,
              "#0d0887"
             ],
             [
              0.1111111111111111,
              "#46039f"
             ],
             [
              0.2222222222222222,
              "#7201a8"
             ],
             [
              0.3333333333333333,
              "#9c179e"
             ],
             [
              0.4444444444444444,
              "#bd3786"
             ],
             [
              0.5555555555555556,
              "#d8576b"
             ],
             [
              0.6666666666666666,
              "#ed7953"
             ],
             [
              0.7777777777777778,
              "#fb9f3a"
             ],
             [
              0.8888888888888888,
              "#fdca26"
             ],
             [
              1,
              "#f0f921"
             ]
            ],
            "type": "histogram2d"
           }
          ],
          "histogram2dcontour": [
           {
            "colorbar": {
             "outlinewidth": 0,
             "ticks": ""
            },
            "colorscale": [
             [
              0,
              "#0d0887"
             ],
             [
              0.1111111111111111,
              "#46039f"
             ],
             [
              0.2222222222222222,
              "#7201a8"
             ],
             [
              0.3333333333333333,
              "#9c179e"
             ],
             [
              0.4444444444444444,
              "#bd3786"
             ],
             [
              0.5555555555555556,
              "#d8576b"
             ],
             [
              0.6666666666666666,
              "#ed7953"
             ],
             [
              0.7777777777777778,
              "#fb9f3a"
             ],
             [
              0.8888888888888888,
              "#fdca26"
             ],
             [
              1,
              "#f0f921"
             ]
            ],
            "type": "histogram2dcontour"
           }
          ],
          "mesh3d": [
           {
            "colorbar": {
             "outlinewidth": 0,
             "ticks": ""
            },
            "type": "mesh3d"
           }
          ],
          "parcoords": [
           {
            "line": {
             "colorbar": {
              "outlinewidth": 0,
              "ticks": ""
             }
            },
            "type": "parcoords"
           }
          ],
          "pie": [
           {
            "automargin": true,
            "type": "pie"
           }
          ],
          "scatter": [
           {
            "fillpattern": {
             "fillmode": "overlay",
             "size": 10,
             "solidity": 0.2
            },
            "type": "scatter"
           }
          ],
          "scatter3d": [
           {
            "line": {
             "colorbar": {
              "outlinewidth": 0,
              "ticks": ""
             }
            },
            "marker": {
             "colorbar": {
              "outlinewidth": 0,
              "ticks": ""
             }
            },
            "type": "scatter3d"
           }
          ],
          "scattercarpet": [
           {
            "marker": {
             "colorbar": {
              "outlinewidth": 0,
              "ticks": ""
             }
            },
            "type": "scattercarpet"
           }
          ],
          "scattergeo": [
           {
            "marker": {
             "colorbar": {
              "outlinewidth": 0,
              "ticks": ""
             }
            },
            "type": "scattergeo"
           }
          ],
          "scattergl": [
           {
            "marker": {
             "colorbar": {
              "outlinewidth": 0,
              "ticks": ""
             }
            },
            "type": "scattergl"
           }
          ],
          "scattermapbox": [
           {
            "marker": {
             "colorbar": {
              "outlinewidth": 0,
              "ticks": ""
             }
            },
            "type": "scattermapbox"
           }
          ],
          "scatterpolar": [
           {
            "marker": {
             "colorbar": {
              "outlinewidth": 0,
              "ticks": ""
             }
            },
            "type": "scatterpolar"
           }
          ],
          "scatterpolargl": [
           {
            "marker": {
             "colorbar": {
              "outlinewidth": 0,
              "ticks": ""
             }
            },
            "type": "scatterpolargl"
           }
          ],
          "scatterternary": [
           {
            "marker": {
             "colorbar": {
              "outlinewidth": 0,
              "ticks": ""
             }
            },
            "type": "scatterternary"
           }
          ],
          "surface": [
           {
            "colorbar": {
             "outlinewidth": 0,
             "ticks": ""
            },
            "colorscale": [
             [
              0,
              "#0d0887"
             ],
             [
              0.1111111111111111,
              "#46039f"
             ],
             [
              0.2222222222222222,
              "#7201a8"
             ],
             [
              0.3333333333333333,
              "#9c179e"
             ],
             [
              0.4444444444444444,
              "#bd3786"
             ],
             [
              0.5555555555555556,
              "#d8576b"
             ],
             [
              0.6666666666666666,
              "#ed7953"
             ],
             [
              0.7777777777777778,
              "#fb9f3a"
             ],
             [
              0.8888888888888888,
              "#fdca26"
             ],
             [
              1,
              "#f0f921"
             ]
            ],
            "type": "surface"
           }
          ],
          "table": [
           {
            "cells": {
             "fill": {
              "color": "#EBF0F8"
             },
             "line": {
              "color": "white"
             }
            },
            "header": {
             "fill": {
              "color": "#C8D4E3"
             },
             "line": {
              "color": "white"
             }
            },
            "type": "table"
           }
          ]
         },
         "layout": {
          "annotationdefaults": {
           "arrowcolor": "#2a3f5f",
           "arrowhead": 0,
           "arrowwidth": 1
          },
          "autotypenumbers": "strict",
          "coloraxis": {
           "colorbar": {
            "outlinewidth": 0,
            "ticks": ""
           }
          },
          "colorscale": {
           "diverging": [
            [
             0,
             "#8e0152"
            ],
            [
             0.1,
             "#c51b7d"
            ],
            [
             0.2,
             "#de77ae"
            ],
            [
             0.3,
             "#f1b6da"
            ],
            [
             0.4,
             "#fde0ef"
            ],
            [
             0.5,
             "#f7f7f7"
            ],
            [
             0.6,
             "#e6f5d0"
            ],
            [
             0.7,
             "#b8e186"
            ],
            [
             0.8,
             "#7fbc41"
            ],
            [
             0.9,
             "#4d9221"
            ],
            [
             1,
             "#276419"
            ]
           ],
           "sequential": [
            [
             0,
             "#0d0887"
            ],
            [
             0.1111111111111111,
             "#46039f"
            ],
            [
             0.2222222222222222,
             "#7201a8"
            ],
            [
             0.3333333333333333,
             "#9c179e"
            ],
            [
             0.4444444444444444,
             "#bd3786"
            ],
            [
             0.5555555555555556,
             "#d8576b"
            ],
            [
             0.6666666666666666,
             "#ed7953"
            ],
            [
             0.7777777777777778,
             "#fb9f3a"
            ],
            [
             0.8888888888888888,
             "#fdca26"
            ],
            [
             1,
             "#f0f921"
            ]
           ],
           "sequentialminus": [
            [
             0,
             "#0d0887"
            ],
            [
             0.1111111111111111,
             "#46039f"
            ],
            [
             0.2222222222222222,
             "#7201a8"
            ],
            [
             0.3333333333333333,
             "#9c179e"
            ],
            [
             0.4444444444444444,
             "#bd3786"
            ],
            [
             0.5555555555555556,
             "#d8576b"
            ],
            [
             0.6666666666666666,
             "#ed7953"
            ],
            [
             0.7777777777777778,
             "#fb9f3a"
            ],
            [
             0.8888888888888888,
             "#fdca26"
            ],
            [
             1,
             "#f0f921"
            ]
           ]
          },
          "colorway": [
           "#636efa",
           "#EF553B",
           "#00cc96",
           "#ab63fa",
           "#FFA15A",
           "#19d3f3",
           "#FF6692",
           "#B6E880",
           "#FF97FF",
           "#FECB52"
          ],
          "font": {
           "color": "#2a3f5f"
          },
          "geo": {
           "bgcolor": "white",
           "lakecolor": "white",
           "landcolor": "#E5ECF6",
           "showlakes": true,
           "showland": true,
           "subunitcolor": "white"
          },
          "hoverlabel": {
           "align": "left"
          },
          "hovermode": "closest",
          "mapbox": {
           "style": "light"
          },
          "paper_bgcolor": "white",
          "plot_bgcolor": "#E5ECF6",
          "polar": {
           "angularaxis": {
            "gridcolor": "white",
            "linecolor": "white",
            "ticks": ""
           },
           "bgcolor": "#E5ECF6",
           "radialaxis": {
            "gridcolor": "white",
            "linecolor": "white",
            "ticks": ""
           }
          },
          "scene": {
           "xaxis": {
            "backgroundcolor": "#E5ECF6",
            "gridcolor": "white",
            "gridwidth": 2,
            "linecolor": "white",
            "showbackground": true,
            "ticks": "",
            "zerolinecolor": "white"
           },
           "yaxis": {
            "backgroundcolor": "#E5ECF6",
            "gridcolor": "white",
            "gridwidth": 2,
            "linecolor": "white",
            "showbackground": true,
            "ticks": "",
            "zerolinecolor": "white"
           },
           "zaxis": {
            "backgroundcolor": "#E5ECF6",
            "gridcolor": "white",
            "gridwidth": 2,
            "linecolor": "white",
            "showbackground": true,
            "ticks": "",
            "zerolinecolor": "white"
           }
          },
          "shapedefaults": {
           "line": {
            "color": "#2a3f5f"
           }
          },
          "ternary": {
           "aaxis": {
            "gridcolor": "white",
            "linecolor": "white",
            "ticks": ""
           },
           "baxis": {
            "gridcolor": "white",
            "linecolor": "white",
            "ticks": ""
           },
           "bgcolor": "#E5ECF6",
           "caxis": {
            "gridcolor": "white",
            "linecolor": "white",
            "ticks": ""
           }
          },
          "title": {
           "x": 0.05
          },
          "xaxis": {
           "automargin": true,
           "gridcolor": "white",
           "linecolor": "white",
           "ticks": "",
           "title": {
            "standoff": 15
           },
           "zerolinecolor": "white",
           "zerolinewidth": 2
          },
          "yaxis": {
           "automargin": true,
           "gridcolor": "white",
           "linecolor": "white",
           "ticks": "",
           "title": {
            "standoff": 15
           },
           "zerolinecolor": "white",
           "zerolinewidth": 2
          }
         }
        },
        "xaxis": {
         "anchor": "y",
         "domain": [
          0,
          1
         ]
        },
        "yaxis": {
         "anchor": "x",
         "domain": [
          0,
          1
         ]
        }
       }
      }
     },
     "metadata": {},
     "output_type": "display_data"
    },
    {
     "data": {
      "application/vnd.plotly.v1+json": {
       "config": {
        "plotlyServerURL": "https://plot.ly"
       },
       "data": [
        {
         "marker": {
          "size": 3
         },
         "mode": "lines+markers",
         "name": "Susceptible",
         "type": "scatter",
         "x": [
          0,
          1,
          2,
          3,
          4,
          5,
          6,
          7,
          8,
          9,
          10,
          11,
          12,
          13,
          14,
          15,
          16,
          17,
          18,
          19,
          20,
          21,
          22,
          23,
          24,
          25,
          26,
          27,
          28,
          29,
          30,
          31,
          32,
          33,
          34,
          35,
          36,
          37,
          38,
          39,
          40,
          41,
          42,
          43,
          44,
          45,
          46,
          47,
          48,
          49,
          50,
          51,
          52,
          53,
          54,
          55,
          56,
          57,
          58,
          59,
          60,
          61,
          62,
          63,
          64,
          65,
          66,
          67,
          68,
          69,
          70,
          71,
          72,
          73,
          74,
          75,
          76,
          77,
          78,
          79,
          80,
          81,
          82,
          83,
          84,
          85,
          86,
          87,
          88,
          89,
          90,
          91,
          92,
          93,
          94,
          95,
          96,
          97
         ],
         "xaxis": "x",
         "y": [
          0.9888888888888889,
          0.9877901234567902,
          0.986693798369151,
          0.9856000271807276,
          0.9845089222417323,
          0.9834205946552746,
          0.9823351542359819,
          0.9812527094698298,
          0.9801733674752078,
          0.9790972339652453,
          0.9780244132114193,
          0.9769550080084651,
          0.9758891196406083,
          0.9748268478491351,
          0.9737682908013151,
          0.9727135450606907,
          0.9716627055587425,
          0.9706158655679409,
          0.9695731166761915,
          0.9685345487626783,
          0.9675002499751094,
          0.9664703067083671,
          0.9654448035845611,
          0.9644238234344853,
          0.9634074472804725,
          0.9623957543206432,
          0.9613888219145421,
          0.960386725570153,
          0.959389538932283,
          0.9583973337723042,
          0.9574101799792416,
          0.9564281455521911,
          0.9554512965940533,
          0.9544796973065665,
          0.9535134099866206,
          0.952552495023833,
          0.9515970108993657,
          0.9506470141859634,
          0.9497025595491896,
          0.9487636997498369,
          0.9478304856474894,
          0.9469029662052096,
          0.9459811884953266,
          0.9450651977062972,
          0.944155037150614,
          0.9432507482737331,
          0.9423523706639918,
          0.9414599420634888,
          0.940573498379898,
          0.9396930736991849,
          0.9388187002991977,
          0.9379504086641017,
          0.9370882274996274,
          0.9362321837491013,
          0.9353823026102298,
          0.9345386075526041,
          0.9337011203358969,
          0.9328698610287199,
          0.9320448480281104,
          0.9312260980796181,
          0.9304136262979613,
          0.9296074461882217,
          0.9288075696675483,
          0.9280140070873417,
          0.9272267672558878,
          0.9264458574614127,
          0.9256712834955305,
          0.9249030496770548,
          0.924141158876147,
          0.9233856125387725,
          0.9226364107114395,
          0.921893552066193,
          0.9211570339258371,
          0.9204268522893626,
          0.9197030018575514,
          0.9189854760587365,
          0.9182742670746924,
          0.9175693658666317,
          0.916870762201287,
          0.9161784446770547,
          0.9154924007501792,
          0.9148126167609584,
          0.914139077959947,
          0.9134717685341409,
          0.9128106716331229,
          0.9121557693951498,
          0.9115070429731652,
          0.91086447256072,
          0.9102280374177838,
          0.9095977158964316,
          0.908973485466391,
          0.9083553227404347,
          0.9077432034996044,
          0.9071371027182527,
          0.9065369945888908,
          0.905942852546829,
          0.905354649294599,
          0.9047723568261459
         ],
         "yaxis": "y"
        },
        {
         "marker": {
          "color": "orange",
          "size": 3
         },
         "name": "Infected",
         "type": "scatter",
         "x": [
          0,
          1,
          2,
          3,
          4,
          5,
          6,
          7,
          8,
          9,
          10,
          11,
          12,
          13,
          14,
          15,
          16,
          17,
          18,
          19,
          20,
          21,
          22,
          23,
          24,
          25,
          26,
          27,
          28,
          29,
          30,
          31,
          32,
          33,
          34,
          35,
          36,
          37,
          38,
          39,
          40,
          41,
          42,
          43,
          44,
          45,
          46,
          47,
          48,
          49,
          50,
          51,
          52,
          53,
          54,
          55,
          56,
          57,
          58,
          59,
          60,
          61,
          62,
          63,
          64,
          65,
          66,
          67,
          68,
          69,
          70,
          71,
          72,
          73,
          74,
          75,
          76,
          77,
          78,
          79,
          80,
          81,
          82,
          83,
          84,
          85,
          86,
          87,
          88,
          89,
          90,
          91,
          92,
          93,
          94,
          95,
          96,
          97
         ],
         "xaxis": "x",
         "y": [
          0.011111111111111112,
          0.011098765432098767,
          0.01108521397652797,
          0.01107046376729869,
          0.011054522329564106,
          0.011037397683065327,
          0.01101909833405148,
          0.010999633266798524,
          0.010979011934740724,
          0.010957244251229183,
          0.010934340579932273,
          0.010910311724893252,
          0.01088516892026072,
          0.010858923819707903,
          0.010831588485557087,
          0.010803175377625792,
          0.010773697341811488,
          0.010743167598431897,
          0.010711599730338051,
          0.010679007670817418,
          0.010645405691304509,
          0.010610808388916414,
          0.01057523067383075,
          0.01053868775652347,
          0.01050119513488398,
          0.010462768581224852,
          0.010423424129203388,
          0.010383178060672096,
          0.010342046892474959,
          0.010300047363206223,
          0.010257196419948131,
          0.010213511205003816,
          0.010169009042641267,
          0.010123707425863965,
          0.010077624003223457,
          0.010030776565688772,
          0.009983183033587239,
          0.009934861443630802,
          0.00988582993604161,
          0.00983610674179012,
          0.009785710169958618,
          0.009734658595242501,
          0.009682970445601267,
          0.00963066419007064,
          0.009577758326746783,
          0.009524271370953026,
          0.009470221843599077,
          0.00941562825974212,
          0.009360509117358725,
          0.009304882886335955,
          0.009248767997689557,
          0.009192182833016574,
          0.00913514571418922,
          0.009077674893296339,
          0.009019788542838227,
          0.008961504746180142,
          0.008902841488269253,
          0.008843816646619318,
          0.00878444798256691,
          0.008724753132802462,
          0.008664749601178972,
          0.008604454750800749,
          0.008543885796394073,
          0.008483059796961252,
          0.008421993648719081,
          0.008360704078322314,
          0.008299207636372328,
          0.008237520691210762,
          0.008175659422997554,
          0.008113639818072364,
          0.0080514776635981,
          0.007989188542484838,
          0.007926787828592142,
          0.007864290682207464,
          0.007801712045797995,
          0.007739066640033059,
          0.00767636896007386,
          0.007613633272127149,
          0.007550873610259114,
          0.007488103773465588,
          0.007425337322994437,
          0.007362587579915802,
          0.0072998676229356725,
          0.007237190286448114,
          0.007174568158821289,
          0.007112013580912287,
          0.007049538644805639,
          0.006987155192770259,
          0.006924874816429491,
          0.006862708856138787,
          0.006800668400565513,
          0.00673876428646528,
          0.0066770070986491405,
          0.006615407170135964,
          0.006553974582484237,
          0.0064927191662975375,
          0.00643165050189789,
          0.006370777920161221
         ],
         "yaxis": "y"
        },
        {
         "marker": {
          "size": 3
         },
         "mode": "markers",
         "name": "Resistant",
         "type": "scatter",
         "x": [
          0,
          1,
          2,
          3,
          4,
          5,
          6,
          7,
          8,
          9,
          10,
          11,
          12,
          13,
          14,
          15,
          16,
          17,
          18,
          19,
          20,
          21,
          22,
          23,
          24,
          25,
          26,
          27,
          28,
          29,
          30,
          31,
          32,
          33,
          34,
          35,
          36,
          37,
          38,
          39,
          40,
          41,
          42,
          43,
          44,
          45,
          46,
          47,
          48,
          49,
          50,
          51,
          52,
          53,
          54,
          55,
          56,
          57,
          58,
          59,
          60,
          61,
          62,
          63,
          64,
          65,
          66,
          67,
          68,
          69,
          70,
          71,
          72,
          73,
          74,
          75,
          76,
          77,
          78,
          79,
          80,
          81,
          82,
          83,
          84,
          85,
          86,
          87,
          88,
          89,
          90,
          91,
          92,
          93,
          94,
          95,
          96,
          97
         ],
         "xaxis": "x",
         "y": [
          0,
          0.0011111111111111111,
          0.002220987654320988,
          0.003329509051973785,
          0.004436555428703654,
          0.005542007661660065,
          0.0066457474299665975,
          0.007747657263371746,
          0.008847620590051598,
          0.00994552178352567,
          0.011041246208648589,
          0.012134680266641816,
          0.013225711439131142,
          0.014314228331157215,
          0.015400120713128004,
          0.016483279561683713,
          0.01756359709944629,
          0.01864096683362744,
          0.01971528359347063,
          0.020786443566504435,
          0.021854344333586177,
          0.022918884902716628,
          0.02397996574160827,
          0.025037488808991346,
          0.026091357584643694,
          0.02714147709813209,
          0.028187753956254575,
          0.029230096369174913,
          0.030268414175242123,
          0.031302618864489616,
          0.03233262360081024,
          0.03335834324280505,
          0.03437969436330544,
          0.03539659526756957,
          0.03640896601015596,
          0.03741672841047831,
          0.03841980606704719,
          0.03941812437040591,
          0.04041161051476899,
          0.04140019350837315,
          0.042383804182552165,
          0.043362375199548026,
          0.044335841059072276,
          0.0453041381036324,
          0.046267204522639466,
          0.047224980355314146,
          0.04817740749240945,
          0.04912442967676936,
          0.05006599250274357,
          0.05100204341447945,
          0.051932531703113044,
          0.052857408502882,
          0.05377662678618366,
          0.054690141357602584,
          0.05559790884693222,
          0.05649988770121604,
          0.05739603817583406,
          0.05828632232466099,
          0.05917070398932292,
          0.06004914878757961,
          0.060921624100859856,
          0.06178809906097775,
          0.06264854453605782,
          0.06350293311569723,
          0.06435123909539335,
          0.06519343846026526,
          0.0660295088680975,
          0.06685942963173473,
          0.06768318170085581,
          0.06850074764315557,
          0.06931211162496281,
          0.07011725939132263,
          0.07091617824557112,
          0.07170885702843033,
          0.07249528609665107,
          0.07327545730123086,
          0.07404936396523416,
          0.07481700086124154,
          0.07557836418845426,
          0.07633345154948017,
          0.07708226192682673,
          0.07782479565912617,
          0.07856105441711775,
          0.07929104117941131,
          0.08001476020805612,
          0.08073221702393825,
          0.08144341838202948,
          0.08214837224651005,
          0.08284708776578707,
          0.08353957524743003,
          0.0842258461330439,
          0.08490591297310045,
          0.08557978940174697,
          0.08624749011161188,
          0.08690903082862547,
          0.0875644282868739,
          0.08821370020350365,
          0.08885686525369343
         ],
         "yaxis": "y"
        }
       ],
       "layout": {
        "template": {
         "data": {
          "bar": [
           {
            "error_x": {
             "color": "#2a3f5f"
            },
            "error_y": {
             "color": "#2a3f5f"
            },
            "marker": {
             "line": {
              "color": "#E5ECF6",
              "width": 0.5
             },
             "pattern": {
              "fillmode": "overlay",
              "size": 10,
              "solidity": 0.2
             }
            },
            "type": "bar"
           }
          ],
          "barpolar": [
           {
            "marker": {
             "line": {
              "color": "#E5ECF6",
              "width": 0.5
             },
             "pattern": {
              "fillmode": "overlay",
              "size": 10,
              "solidity": 0.2
             }
            },
            "type": "barpolar"
           }
          ],
          "carpet": [
           {
            "aaxis": {
             "endlinecolor": "#2a3f5f",
             "gridcolor": "white",
             "linecolor": "white",
             "minorgridcolor": "white",
             "startlinecolor": "#2a3f5f"
            },
            "baxis": {
             "endlinecolor": "#2a3f5f",
             "gridcolor": "white",
             "linecolor": "white",
             "minorgridcolor": "white",
             "startlinecolor": "#2a3f5f"
            },
            "type": "carpet"
           }
          ],
          "choropleth": [
           {
            "colorbar": {
             "outlinewidth": 0,
             "ticks": ""
            },
            "type": "choropleth"
           }
          ],
          "contour": [
           {
            "colorbar": {
             "outlinewidth": 0,
             "ticks": ""
            },
            "colorscale": [
             [
              0,
              "#0d0887"
             ],
             [
              0.1111111111111111,
              "#46039f"
             ],
             [
              0.2222222222222222,
              "#7201a8"
             ],
             [
              0.3333333333333333,
              "#9c179e"
             ],
             [
              0.4444444444444444,
              "#bd3786"
             ],
             [
              0.5555555555555556,
              "#d8576b"
             ],
             [
              0.6666666666666666,
              "#ed7953"
             ],
             [
              0.7777777777777778,
              "#fb9f3a"
             ],
             [
              0.8888888888888888,
              "#fdca26"
             ],
             [
              1,
              "#f0f921"
             ]
            ],
            "type": "contour"
           }
          ],
          "contourcarpet": [
           {
            "colorbar": {
             "outlinewidth": 0,
             "ticks": ""
            },
            "type": "contourcarpet"
           }
          ],
          "heatmap": [
           {
            "colorbar": {
             "outlinewidth": 0,
             "ticks": ""
            },
            "colorscale": [
             [
              0,
              "#0d0887"
             ],
             [
              0.1111111111111111,
              "#46039f"
             ],
             [
              0.2222222222222222,
              "#7201a8"
             ],
             [
              0.3333333333333333,
              "#9c179e"
             ],
             [
              0.4444444444444444,
              "#bd3786"
             ],
             [
              0.5555555555555556,
              "#d8576b"
             ],
             [
              0.6666666666666666,
              "#ed7953"
             ],
             [
              0.7777777777777778,
              "#fb9f3a"
             ],
             [
              0.8888888888888888,
              "#fdca26"
             ],
             [
              1,
              "#f0f921"
             ]
            ],
            "type": "heatmap"
           }
          ],
          "heatmapgl": [
           {
            "colorbar": {
             "outlinewidth": 0,
             "ticks": ""
            },
            "colorscale": [
             [
              0,
              "#0d0887"
             ],
             [
              0.1111111111111111,
              "#46039f"
             ],
             [
              0.2222222222222222,
              "#7201a8"
             ],
             [
              0.3333333333333333,
              "#9c179e"
             ],
             [
              0.4444444444444444,
              "#bd3786"
             ],
             [
              0.5555555555555556,
              "#d8576b"
             ],
             [
              0.6666666666666666,
              "#ed7953"
             ],
             [
              0.7777777777777778,
              "#fb9f3a"
             ],
             [
              0.8888888888888888,
              "#fdca26"
             ],
             [
              1,
              "#f0f921"
             ]
            ],
            "type": "heatmapgl"
           }
          ],
          "histogram": [
           {
            "marker": {
             "pattern": {
              "fillmode": "overlay",
              "size": 10,
              "solidity": 0.2
             }
            },
            "type": "histogram"
           }
          ],
          "histogram2d": [
           {
            "colorbar": {
             "outlinewidth": 0,
             "ticks": ""
            },
            "colorscale": [
             [
              0,
              "#0d0887"
             ],
             [
              0.1111111111111111,
              "#46039f"
             ],
             [
              0.2222222222222222,
              "#7201a8"
             ],
             [
              0.3333333333333333,
              "#9c179e"
             ],
             [
              0.4444444444444444,
              "#bd3786"
             ],
             [
              0.5555555555555556,
              "#d8576b"
             ],
             [
              0.6666666666666666,
              "#ed7953"
             ],
             [
              0.7777777777777778,
              "#fb9f3a"
             ],
             [
              0.8888888888888888,
              "#fdca26"
             ],
             [
              1,
              "#f0f921"
             ]
            ],
            "type": "histogram2d"
           }
          ],
          "histogram2dcontour": [
           {
            "colorbar": {
             "outlinewidth": 0,
             "ticks": ""
            },
            "colorscale": [
             [
              0,
              "#0d0887"
             ],
             [
              0.1111111111111111,
              "#46039f"
             ],
             [
              0.2222222222222222,
              "#7201a8"
             ],
             [
              0.3333333333333333,
              "#9c179e"
             ],
             [
              0.4444444444444444,
              "#bd3786"
             ],
             [
              0.5555555555555556,
              "#d8576b"
             ],
             [
              0.6666666666666666,
              "#ed7953"
             ],
             [
              0.7777777777777778,
              "#fb9f3a"
             ],
             [
              0.8888888888888888,
              "#fdca26"
             ],
             [
              1,
              "#f0f921"
             ]
            ],
            "type": "histogram2dcontour"
           }
          ],
          "mesh3d": [
           {
            "colorbar": {
             "outlinewidth": 0,
             "ticks": ""
            },
            "type": "mesh3d"
           }
          ],
          "parcoords": [
           {
            "line": {
             "colorbar": {
              "outlinewidth": 0,
              "ticks": ""
             }
            },
            "type": "parcoords"
           }
          ],
          "pie": [
           {
            "automargin": true,
            "type": "pie"
           }
          ],
          "scatter": [
           {
            "fillpattern": {
             "fillmode": "overlay",
             "size": 10,
             "solidity": 0.2
            },
            "type": "scatter"
           }
          ],
          "scatter3d": [
           {
            "line": {
             "colorbar": {
              "outlinewidth": 0,
              "ticks": ""
             }
            },
            "marker": {
             "colorbar": {
              "outlinewidth": 0,
              "ticks": ""
             }
            },
            "type": "scatter3d"
           }
          ],
          "scattercarpet": [
           {
            "marker": {
             "colorbar": {
              "outlinewidth": 0,
              "ticks": ""
             }
            },
            "type": "scattercarpet"
           }
          ],
          "scattergeo": [
           {
            "marker": {
             "colorbar": {
              "outlinewidth": 0,
              "ticks": ""
             }
            },
            "type": "scattergeo"
           }
          ],
          "scattergl": [
           {
            "marker": {
             "colorbar": {
              "outlinewidth": 0,
              "ticks": ""
             }
            },
            "type": "scattergl"
           }
          ],
          "scattermapbox": [
           {
            "marker": {
             "colorbar": {
              "outlinewidth": 0,
              "ticks": ""
             }
            },
            "type": "scattermapbox"
           }
          ],
          "scatterpolar": [
           {
            "marker": {
             "colorbar": {
              "outlinewidth": 0,
              "ticks": ""
             }
            },
            "type": "scatterpolar"
           }
          ],
          "scatterpolargl": [
           {
            "marker": {
             "colorbar": {
              "outlinewidth": 0,
              "ticks": ""
             }
            },
            "type": "scatterpolargl"
           }
          ],
          "scatterternary": [
           {
            "marker": {
             "colorbar": {
              "outlinewidth": 0,
              "ticks": ""
             }
            },
            "type": "scatterternary"
           }
          ],
          "surface": [
           {
            "colorbar": {
             "outlinewidth": 0,
             "ticks": ""
            },
            "colorscale": [
             [
              0,
              "#0d0887"
             ],
             [
              0.1111111111111111,
              "#46039f"
             ],
             [
              0.2222222222222222,
              "#7201a8"
             ],
             [
              0.3333333333333333,
              "#9c179e"
             ],
             [
              0.4444444444444444,
              "#bd3786"
             ],
             [
              0.5555555555555556,
              "#d8576b"
             ],
             [
              0.6666666666666666,
              "#ed7953"
             ],
             [
              0.7777777777777778,
              "#fb9f3a"
             ],
             [
              0.8888888888888888,
              "#fdca26"
             ],
             [
              1,
              "#f0f921"
             ]
            ],
            "type": "surface"
           }
          ],
          "table": [
           {
            "cells": {
             "fill": {
              "color": "#EBF0F8"
             },
             "line": {
              "color": "white"
             }
            },
            "header": {
             "fill": {
              "color": "#C8D4E3"
             },
             "line": {
              "color": "white"
             }
            },
            "type": "table"
           }
          ]
         },
         "layout": {
          "annotationdefaults": {
           "arrowcolor": "#2a3f5f",
           "arrowhead": 0,
           "arrowwidth": 1
          },
          "autotypenumbers": "strict",
          "coloraxis": {
           "colorbar": {
            "outlinewidth": 0,
            "ticks": ""
           }
          },
          "colorscale": {
           "diverging": [
            [
             0,
             "#8e0152"
            ],
            [
             0.1,
             "#c51b7d"
            ],
            [
             0.2,
             "#de77ae"
            ],
            [
             0.3,
             "#f1b6da"
            ],
            [
             0.4,
             "#fde0ef"
            ],
            [
             0.5,
             "#f7f7f7"
            ],
            [
             0.6,
             "#e6f5d0"
            ],
            [
             0.7,
             "#b8e186"
            ],
            [
             0.8,
             "#7fbc41"
            ],
            [
             0.9,
             "#4d9221"
            ],
            [
             1,
             "#276419"
            ]
           ],
           "sequential": [
            [
             0,
             "#0d0887"
            ],
            [
             0.1111111111111111,
             "#46039f"
            ],
            [
             0.2222222222222222,
             "#7201a8"
            ],
            [
             0.3333333333333333,
             "#9c179e"
            ],
            [
             0.4444444444444444,
             "#bd3786"
            ],
            [
             0.5555555555555556,
             "#d8576b"
            ],
            [
             0.6666666666666666,
             "#ed7953"
            ],
            [
             0.7777777777777778,
             "#fb9f3a"
            ],
            [
             0.8888888888888888,
             "#fdca26"
            ],
            [
             1,
             "#f0f921"
            ]
           ],
           "sequentialminus": [
            [
             0,
             "#0d0887"
            ],
            [
             0.1111111111111111,
             "#46039f"
            ],
            [
             0.2222222222222222,
             "#7201a8"
            ],
            [
             0.3333333333333333,
             "#9c179e"
            ],
            [
             0.4444444444444444,
             "#bd3786"
            ],
            [
             0.5555555555555556,
             "#d8576b"
            ],
            [
             0.6666666666666666,
             "#ed7953"
            ],
            [
             0.7777777777777778,
             "#fb9f3a"
            ],
            [
             0.8888888888888888,
             "#fdca26"
            ],
            [
             1,
             "#f0f921"
            ]
           ]
          },
          "colorway": [
           "#636efa",
           "#EF553B",
           "#00cc96",
           "#ab63fa",
           "#FFA15A",
           "#19d3f3",
           "#FF6692",
           "#B6E880",
           "#FF97FF",
           "#FECB52"
          ],
          "font": {
           "color": "#2a3f5f"
          },
          "geo": {
           "bgcolor": "white",
           "lakecolor": "white",
           "landcolor": "#E5ECF6",
           "showlakes": true,
           "showland": true,
           "subunitcolor": "white"
          },
          "hoverlabel": {
           "align": "left"
          },
          "hovermode": "closest",
          "mapbox": {
           "style": "light"
          },
          "paper_bgcolor": "white",
          "plot_bgcolor": "#E5ECF6",
          "polar": {
           "angularaxis": {
            "gridcolor": "white",
            "linecolor": "white",
            "ticks": ""
           },
           "bgcolor": "#E5ECF6",
           "radialaxis": {
            "gridcolor": "white",
            "linecolor": "white",
            "ticks": ""
           }
          },
          "scene": {
           "xaxis": {
            "backgroundcolor": "#E5ECF6",
            "gridcolor": "white",
            "gridwidth": 2,
            "linecolor": "white",
            "showbackground": true,
            "ticks": "",
            "zerolinecolor": "white"
           },
           "yaxis": {
            "backgroundcolor": "#E5ECF6",
            "gridcolor": "white",
            "gridwidth": 2,
            "linecolor": "white",
            "showbackground": true,
            "ticks": "",
            "zerolinecolor": "white"
           },
           "zaxis": {
            "backgroundcolor": "#E5ECF6",
            "gridcolor": "white",
            "gridwidth": 2,
            "linecolor": "white",
            "showbackground": true,
            "ticks": "",
            "zerolinecolor": "white"
           }
          },
          "shapedefaults": {
           "line": {
            "color": "#2a3f5f"
           }
          },
          "ternary": {
           "aaxis": {
            "gridcolor": "white",
            "linecolor": "white",
            "ticks": ""
           },
           "baxis": {
            "gridcolor": "white",
            "linecolor": "white",
            "ticks": ""
           },
           "bgcolor": "#E5ECF6",
           "caxis": {
            "gridcolor": "white",
            "linecolor": "white",
            "ticks": ""
           }
          },
          "title": {
           "x": 0.05
          },
          "xaxis": {
           "automargin": true,
           "gridcolor": "white",
           "linecolor": "white",
           "ticks": "",
           "title": {
            "standoff": 15
           },
           "zerolinecolor": "white",
           "zerolinewidth": 2
          },
          "yaxis": {
           "automargin": true,
           "gridcolor": "white",
           "linecolor": "white",
           "ticks": "",
           "title": {
            "standoff": 15
           },
           "zerolinecolor": "white",
           "zerolinewidth": 2
          }
         }
        },
        "xaxis": {
         "anchor": "y",
         "domain": [
          0,
          1
         ]
        },
        "yaxis": {
         "anchor": "x",
         "domain": [
          0,
          1
         ]
        }
       }
      }
     },
     "metadata": {},
     "output_type": "display_data"
    }
   ],
   "source": [
    "def plot_simulation(tc, tr):\n",
    "    system = make_system(1/tc, 1/tr)\n",
    "    S, I, R = run_simulation(system, update_func)\n",
    "    \n",
    "    fig = make_subplots(rows=1, cols=1)\n",
    "\n",
    "    time = []\n",
    "    Sval = []\n",
    "    Ival = []\n",
    "    Rval = []\n",
    "\n",
    "    for t in range(7*14):  \n",
    "        Sval.append(S[t])\n",
    "        Ival.append(I[t])\n",
    "        Rval.append(R[t])\n",
    "        time.append(t)\n",
    "        \n",
    "    fig.add_trace(go.Scatter(x=time, y=Sval, mode = \"lines+markers\", name = \"Susceptible\"),\n",
    "        row=1, col=1)\n",
    "\n",
    "    fig.add_trace(go.Scatter(x=time, y=Ival, name = \"Infected\", marker_color = \"orange\"),\n",
    "        row=1, col=1)\n",
    "\n",
    "    fig.add_trace(go.Scatter(x=time, y=Rval, mode = \"markers\", name = \"Resistant\"),\n",
    "        row=1, col=1)\n",
    "\n",
    "    fig.update_traces(marker_size=3)\n",
    "\n",
    "    fig.show()\n",
    "    \n",
    "    return\n",
    "plot_simulation(1,100)\n",
    "plot_simulation(10,10)"
   ]
  },
  {
   "cell_type": "markdown",
   "metadata": {},
   "source": [
    "Unit 2 Question 3"
   ]
  },
  {
   "cell_type": "code",
   "execution_count": 16,
   "metadata": {},
   "outputs": [
    {
     "data": {
      "application/vnd.plotly.v1+json": {
       "config": {
        "plotlyServerURL": "https://plot.ly"
       },
       "data": [
        {
         "marker": {
          "size": 3
         },
         "mode": "lines+markers",
         "name": "Susceptible",
         "type": "scatter",
         "x": [
          0,
          1,
          2,
          3,
          4,
          5,
          6,
          7,
          8,
          9,
          10,
          11,
          12,
          13,
          14,
          15,
          16,
          17,
          18,
          19,
          20,
          21,
          22,
          23,
          24,
          25,
          26,
          27,
          28,
          29,
          30,
          31,
          32,
          33,
          34,
          35,
          36,
          37,
          38,
          39,
          40,
          41,
          42,
          43,
          44,
          45,
          46,
          47,
          48,
          49,
          50,
          51,
          52,
          53,
          54,
          55,
          56,
          57,
          58,
          59,
          60,
          61,
          62,
          63,
          64,
          65,
          66,
          67,
          68,
          69,
          70,
          71,
          72,
          73,
          74,
          75,
          76,
          77,
          78,
          79,
          80,
          81,
          82,
          83,
          84,
          85,
          86,
          87,
          88,
          89,
          90,
          91,
          92,
          93,
          94,
          95,
          96,
          97
         ],
         "xaxis": "x",
         "y": [
          0.8777777777777778,
          0.8745267489711934,
          0.8711378078657838,
          0.8676093749775314,
          0.8639403296189035,
          0.8601300547123492,
          0.8561784803920086,
          0.8520861255879155,
          0.8478541367298186,
          0.8434843226663487,
          0.8389791848734316,
          0.8343419420272041,
          0.8295765480443951,
          0.8246877027496711,
          0.8196808544163685,
          0.8145621935447537,
          0.8093386373895342,
          0.8040178049233888,
          0.7986079821218681,
          0.7931180776717404,
          0.7875575694329842,
          0.7819364422163246,
          0.7762651176649064,
          0.7705543772415032,
          0.764815279512842,
          0.7590590730821051,
          0.7532971066425399,
          0.7475407377039973,
          0.7418012415767066,
          0.7360897221813623,
          0.7304170261925597,
          0.7247936619168085,
          0.7192297241617774,
          0.713734826176665,
          0.7083180395424474,
          0.7029878426737276,
          0.6977520783697144,
          0.6926179206289766,
          0.6875918507287978,
          0.6826796423719834,
          0.677886355527288,
          0.6732163384383021,
          0.6686732371522269,
          0.6642600118256272,
          0.6599789589988244,
          0.6558317389928062,
          0.6518194075701839,
          0.6479424510119768,
          0.6442008237915317,
          0.6405939880721652,
          0.6371209543125961,
          0.6337803223304602,
          0.6305703222460031,
          0.6274888548025604,
          0.6245335306352193,
          0.6217017081320493,
          0.6189905296018955,
          0.6163969555276952,
          0.6139177967437721,
          0.6115497444290351,
          0.6092893978552179,
          0.6071332898702051,
          0.6050779101312759,
          0.6031197261320405,
          0.6012552020903654,
          0.5994808157831273,
          0.5977930734277271,
          0.5961885227204361,
          0.5946637641483549,
          0.5932154606955399,
          0.5918403460651491,
          0.5905352315387107,
          0.5892970115912187,
          0.5881226683770505,
          0.5870092751969866,
          0.5859539990511714,
          0.5849541023768926,
          0.58400694406379,
          0.5831099798326714,
          0.5822607620576609,
          0.581456939105026,
          0.580696254255818,
          0.5799765442734636,
          0.5792957376717315,
          0.5786518527330753,
          0.5780429953222633,
          0.5774673565354489,
          0.5769232102204145,
          0.5764089103996431,
          0.5759228886241159,
          0.5754636512823026,
          0.5750297768856801,
          0.574619913349275,
          0.5742327752831554,
          0.5738671413084869,
          0.5735218514096876,
          0.5731958043323612,
          0.5728879550350343
         ],
         "yaxis": "y"
        },
        {
         "marker": {
          "size": 3
         },
         "mode": "lines+markers",
         "name": "Quarantining",
         "type": "scatter",
         "x": [
          0,
          1,
          2,
          3,
          4,
          5,
          6,
          7,
          8,
          9,
          10,
          11,
          12,
          13,
          14,
          15,
          16,
          17,
          18,
          19,
          20,
          21,
          22,
          23,
          24,
          25,
          26,
          27,
          28,
          29,
          30,
          31,
          32,
          33,
          34,
          35,
          36,
          37,
          38,
          39,
          40,
          41,
          42,
          43,
          44,
          45,
          46,
          47,
          48,
          49,
          50,
          51,
          52,
          53,
          54,
          55,
          56,
          57,
          58,
          59,
          60,
          61,
          62,
          63,
          64,
          65,
          66,
          67,
          68,
          69,
          70,
          71,
          72,
          73,
          74,
          75,
          76,
          77,
          78,
          79,
          80,
          81,
          82,
          83,
          84,
          85,
          86,
          87,
          88,
          89,
          90,
          91,
          92,
          93,
          94,
          95,
          96,
          97
         ],
         "xaxis": "x",
         "y": [
          0.1111111111111111,
          0.11106995884773661,
          0.11102691733419137,
          0.11098194729350826,
          0.11093501398338591,
          0.11088608781504444,
          0.1108351449820749,
          0.11078216809134273,
          0.11072714678692765,
          0.11067007835707914,
          0.11061096831328182,
          0.1105498309298076,
          0.11048668973162769,
          0.11042157791831794,
          0.11035453871165612,
          0.11028562561502041,
          0.11021490257347995,
          0.11014244402463845,
          0.11006833483185055,
          0.1099926700933632,
          0.10991555482320667,
          0.10983710350221997,
          0.10975743950037563,
          0.10967669437448237,
          0.10959500704829715,
          0.10951252288496428,
          0.109429392664412,
          0.10934577148077244,
          0.10926181757695215,
          0.10917769113508546,
          0.10909355304268915,
          0.10900956365486054,
          0.10892588157280773,
          0.10884266245837547,
          0.10876005790306809,
          0.10867821436842492,
          0.10859727221254782,
          0.10851736481520179,
          0.10843861781130545,
          0.10836114843989718,
          0.10828506501290522,
          0.10821046650535761,
          0.10813744226612305,
          0.10806607184594667,
          0.10799642493748893,
          0.10792856142033096,
          0.10786253150249711,
          0.10779837594897466,
          0.10773612638697413,
          0.10767580567725638,
          0.10761742834072667,
          0.10756100102963029,
          0.10750652303303995,
          0.10745398680686552,
          0.10740337851929882,
          0.1073546786033955,
          0.10730786230935384,
          0.10726290024994682,
          0.10721975893346902,
          0.10717840127945172,
          0.10713878711325737,
          0.10710087363647398,
          0.10706461587077955,
          0.10702996707362929,
          0.10699687912472927,
          0.10696530288279804,
          0.10693518851258293,
          0.10690648578249302,
          0.10687914433353923,
          0.10685311392053873,
          0.10682834462675082,
          0.10680478705327097,
          0.10678239248462307,
          0.10676111303206512,
          0.10674090175616345,
          0.10672171277020266,
          0.10670350132598604,
          0.10668622388354955,
          0.10666983816626496,
          0.10665430320274842,
          0.10663957935692225,
          0.10662562834750312,
          0.10661241325811102,
          0.10659989853911257,
          0.10658805000223097,
          0.10657683480887398,
          0.10656622145305297,
          0.10655617973968952,
          0.10654668075903292,
          0.1065376968578432,
          0.10652920160792792,
          0.1065211697725605,
          0.10651357727125015,
          0.10650640114328062,
          0.10649961951038646,
          0.10649321153888995,
          0.10648715740158167,
          0.10648143823958979
         ],
         "yaxis": "y"
        },
        {
         "marker": {
          "color": "orange",
          "size": 3
         },
         "name": "Infected",
         "type": "scatter",
         "x": [
          0,
          1,
          2,
          3,
          4,
          5,
          6,
          7,
          8,
          9,
          10,
          11,
          12,
          13,
          14,
          15,
          16,
          17,
          18,
          19,
          20,
          21,
          22,
          23,
          24,
          25,
          26,
          27,
          28,
          29,
          30,
          31,
          32,
          33,
          34,
          35,
          36,
          37,
          38,
          39,
          40,
          41,
          42,
          43,
          44,
          45,
          46,
          47,
          48,
          49,
          50,
          51,
          52,
          53,
          54,
          55,
          56,
          57,
          58,
          59,
          60,
          61,
          62,
          63,
          64,
          65,
          66,
          67,
          68,
          69,
          70,
          71,
          72,
          73,
          74,
          75,
          76,
          77,
          78,
          79,
          80,
          81,
          82,
          83,
          84,
          85,
          86,
          87,
          88,
          89,
          90,
          91,
          92,
          93,
          94,
          95,
          96,
          97
         ],
         "xaxis": "x",
         "y": [
          0.011111111111111112,
          0.011625514403292181,
          0.012151118421424014,
          0.012686741745003411,
          0.013231034977502824,
          0.013782477308022926,
          0.014339375134327228,
          0.014899863045570685,
          0.015461907446690055,
          0.016023313078335977,
          0.01658173264546632,
          0.017134679713801476,
          0.017679544966340097,
          0.018213615832788844,
          0.018734099414556008,
          0.019238148529167547,
          0.019722890593635623,
          0.02018545896021352,
          0.020623026214468713,
          0.021032838849466624,
          0.021412252646012667,
          0.02175876802215578,
          0.022070064569879453,
          0.022344033976706038,
          0.02257881053737597,
          0.022772798497101742,
          0.02292469553294379,
          0.023033511771889968,
          0.023098583860028547,
          0.02311958373223237,
          0.023096521880373148,
          0.023029745073859645,
          0.022919928642478642,
          0.022768063581403757,
          0.02257543887557769,
          0.022343619560046282,
          0.022074421129924963,
          0.021769880985527578,
          0.021432227643220822,
          0.021063848460638256,
          0.020667256617166042,
          0.02024505805940811,
          0.019799919069865824,
          0.019334535049175518,
          0.018851601022142155,
          0.018353784289782776,
          0.01784369955779329,
          0.017323886780074477,
          0.016796791867501534,
          0.016264750329710375,
          0.015729973843381557,
          0.015194539675768365,
          0.014660382837873756,
          0.014129290798022361,
          0.013602900553424608,
          0.0130826978341418,
          0.01257001819980181,
          0.012066049783458634,
          0.011571837437994946,
          0.011088288047250497,
          0.010616176775449408,
          0.010156154043383148,
          0.009708753037161058,
          0.00927439757425642,
          0.008853410171267393,
          0.008446020177619862,
          0.00805237185883011,
          0.007672532331503494,
          0.007306499269662691,
          0.006954208318062464,
          0.006615540162725478,
          0.006290327221962413,
          0.005978359932611655,
          0.005679392616184933,
          0.005393148918104234,
          0.005119326820354226,
          0.004857603233761117,
          0.004607638180859937,
          0.0043690785840480905,
          0.004141561676563151,
          0.003924718055883353,
          0.0037181744005397,
          0.0035215558721513047,
          0.0033344882248440015,
          0.003156599644170845,
          0.0029875223372971393,
          0.0028268938956083215,
          0.0026743584501040755,
          0.0025295676390060234,
          0.002392181405971456,
          0.002261868646207197,
          0.002138307716645264,
          0.0020211868251994573,
          0.0019102043129887128,
          0.0018050688423041487,
          0.0017054995020239936,
          0.001611225841152646,
          0.0015219878401832206
         ],
         "yaxis": "y"
        },
        {
         "marker": {
          "size": 3
         },
         "mode": "markers",
         "name": "Resistant",
         "type": "scatter",
         "x": [
          0,
          1,
          2,
          3,
          4,
          5,
          6,
          7,
          8,
          9,
          10,
          11,
          12,
          13,
          14,
          15,
          16,
          17,
          18,
          19,
          20,
          21,
          22,
          23,
          24,
          25,
          26,
          27,
          28,
          29,
          30,
          31,
          32,
          33,
          34,
          35,
          36,
          37,
          38,
          39,
          40,
          41,
          42,
          43,
          44,
          45,
          46,
          47,
          48,
          49,
          50,
          51,
          52,
          53,
          54,
          55,
          56,
          57,
          58,
          59,
          60,
          61,
          62,
          63,
          64,
          65,
          66,
          67,
          68,
          69,
          70,
          71,
          72,
          73,
          74,
          75,
          76,
          77,
          78,
          79,
          80,
          81,
          82,
          83,
          84,
          85,
          86,
          87,
          88,
          89,
          90,
          91,
          92,
          93,
          94,
          95,
          96,
          97
         ],
         "xaxis": "x",
         "y": [
          0,
          0.002777777777777778,
          0.0056841563786008235,
          0.008721935983956828,
          0.011893621420207681,
          0.015201380164583387,
          0.018646999491589118,
          0.022231843275170925,
          0.025956809036563597,
          0.02982228589823611,
          0.033828114167820104,
          0.03797354732918669,
          0.04225721725763706,
          0.04667710349922208,
          0.05123050745741929,
          0.05591403231105829,
          0.06072356944335018,
          0.06565429209175909,
          0.07070065683181247,
          0.07585641338542964,
          0.0811146230977963,
          0.08646768625929946,
          0.0919073782648384,
          0.09742489440730827,
          0.10301090290148478,
          0.10865560553582877,
          0.1143488051601042,
          0.12007997904334015,
          0.12583835698631265,
          0.13161300295131978,
          0.13739289888437786,
          0.14316702935447115,
          0.14892446562293607,
          0.15465444778355572,
          0.16034646367890665,
          0.16599032339780107,
          0.17157622828781263,
          0.17709483357029387,
          0.18253730381667577,
          0.18789536072748098,
          0.19316132284264054,
          0.19832813699693205,
          0.20338940151178408,
          0.20833938127925053,
          0.2131730150415444,
          0.21788591529707993,
          0.22247436136952561,
          0.22693528625897394,
          0.23126625795399255,
          0.23546545592086793,
          0.23953164350329553,
          0.24346413696414093,
          0.24726277188308302,
          0.2509278675925515,
          0.2544601902920571,
          0.25786091543041323,
          0.2611315898889487,
          0.26427409443889915,
          0.2672906068847638,
          0.27018356624426254,
          0.27295563825607516,
          0.2756096824499375,
          0.2781487209607833,
          0.2805759092200736,
          0.2828945086136377,
          0.28510786115645453,
          0.2872193662008595,
          0.28923245916556706,
          0.2911505922484429,
          0.2929772170658586,
          0.29471576914537423,
          0.2963696541860556,
          0.2979422359915462,
          0.2994368259746991,
          0.30085667412874534,
          0.3022049613582714,
          0.30348479306335996,
          0.3046991938718002,
          0.3058511034170152,
          0.3069433730630272,
          0.307978763482168,
          0.3089599429961389,
          0.3098894865962738,
          0.3107698755643116,
          0.31160349762052264,
          0.31239264753156537,
          0.31313952811588963,
          0.31384625158979174,
          0.31451484120231776,
          0.31514723311206927,
          0.31574527846356215,
          0.31631074562511396,
          0.3168453225542753,
          0.3173506192605751,
          0.31782817033882227,
          0.3182794375493983,
          0.3187058124249043,
          0.3191086188851925
         ],
         "yaxis": "y"
        }
       ],
       "layout": {
        "template": {
         "data": {
          "bar": [
           {
            "error_x": {
             "color": "#2a3f5f"
            },
            "error_y": {
             "color": "#2a3f5f"
            },
            "marker": {
             "line": {
              "color": "#E5ECF6",
              "width": 0.5
             },
             "pattern": {
              "fillmode": "overlay",
              "size": 10,
              "solidity": 0.2
             }
            },
            "type": "bar"
           }
          ],
          "barpolar": [
           {
            "marker": {
             "line": {
              "color": "#E5ECF6",
              "width": 0.5
             },
             "pattern": {
              "fillmode": "overlay",
              "size": 10,
              "solidity": 0.2
             }
            },
            "type": "barpolar"
           }
          ],
          "carpet": [
           {
            "aaxis": {
             "endlinecolor": "#2a3f5f",
             "gridcolor": "white",
             "linecolor": "white",
             "minorgridcolor": "white",
             "startlinecolor": "#2a3f5f"
            },
            "baxis": {
             "endlinecolor": "#2a3f5f",
             "gridcolor": "white",
             "linecolor": "white",
             "minorgridcolor": "white",
             "startlinecolor": "#2a3f5f"
            },
            "type": "carpet"
           }
          ],
          "choropleth": [
           {
            "colorbar": {
             "outlinewidth": 0,
             "ticks": ""
            },
            "type": "choropleth"
           }
          ],
          "contour": [
           {
            "colorbar": {
             "outlinewidth": 0,
             "ticks": ""
            },
            "colorscale": [
             [
              0,
              "#0d0887"
             ],
             [
              0.1111111111111111,
              "#46039f"
             ],
             [
              0.2222222222222222,
              "#7201a8"
             ],
             [
              0.3333333333333333,
              "#9c179e"
             ],
             [
              0.4444444444444444,
              "#bd3786"
             ],
             [
              0.5555555555555556,
              "#d8576b"
             ],
             [
              0.6666666666666666,
              "#ed7953"
             ],
             [
              0.7777777777777778,
              "#fb9f3a"
             ],
             [
              0.8888888888888888,
              "#fdca26"
             ],
             [
              1,
              "#f0f921"
             ]
            ],
            "type": "contour"
           }
          ],
          "contourcarpet": [
           {
            "colorbar": {
             "outlinewidth": 0,
             "ticks": ""
            },
            "type": "contourcarpet"
           }
          ],
          "heatmap": [
           {
            "colorbar": {
             "outlinewidth": 0,
             "ticks": ""
            },
            "colorscale": [
             [
              0,
              "#0d0887"
             ],
             [
              0.1111111111111111,
              "#46039f"
             ],
             [
              0.2222222222222222,
              "#7201a8"
             ],
             [
              0.3333333333333333,
              "#9c179e"
             ],
             [
              0.4444444444444444,
              "#bd3786"
             ],
             [
              0.5555555555555556,
              "#d8576b"
             ],
             [
              0.6666666666666666,
              "#ed7953"
             ],
             [
              0.7777777777777778,
              "#fb9f3a"
             ],
             [
              0.8888888888888888,
              "#fdca26"
             ],
             [
              1,
              "#f0f921"
             ]
            ],
            "type": "heatmap"
           }
          ],
          "heatmapgl": [
           {
            "colorbar": {
             "outlinewidth": 0,
             "ticks": ""
            },
            "colorscale": [
             [
              0,
              "#0d0887"
             ],
             [
              0.1111111111111111,
              "#46039f"
             ],
             [
              0.2222222222222222,
              "#7201a8"
             ],
             [
              0.3333333333333333,
              "#9c179e"
             ],
             [
              0.4444444444444444,
              "#bd3786"
             ],
             [
              0.5555555555555556,
              "#d8576b"
             ],
             [
              0.6666666666666666,
              "#ed7953"
             ],
             [
              0.7777777777777778,
              "#fb9f3a"
             ],
             [
              0.8888888888888888,
              "#fdca26"
             ],
             [
              1,
              "#f0f921"
             ]
            ],
            "type": "heatmapgl"
           }
          ],
          "histogram": [
           {
            "marker": {
             "pattern": {
              "fillmode": "overlay",
              "size": 10,
              "solidity": 0.2
             }
            },
            "type": "histogram"
           }
          ],
          "histogram2d": [
           {
            "colorbar": {
             "outlinewidth": 0,
             "ticks": ""
            },
            "colorscale": [
             [
              0,
              "#0d0887"
             ],
             [
              0.1111111111111111,
              "#46039f"
             ],
             [
              0.2222222222222222,
              "#7201a8"
             ],
             [
              0.3333333333333333,
              "#9c179e"
             ],
             [
              0.4444444444444444,
              "#bd3786"
             ],
             [
              0.5555555555555556,
              "#d8576b"
             ],
             [
              0.6666666666666666,
              "#ed7953"
             ],
             [
              0.7777777777777778,
              "#fb9f3a"
             ],
             [
              0.8888888888888888,
              "#fdca26"
             ],
             [
              1,
              "#f0f921"
             ]
            ],
            "type": "histogram2d"
           }
          ],
          "histogram2dcontour": [
           {
            "colorbar": {
             "outlinewidth": 0,
             "ticks": ""
            },
            "colorscale": [
             [
              0,
              "#0d0887"
             ],
             [
              0.1111111111111111,
              "#46039f"
             ],
             [
              0.2222222222222222,
              "#7201a8"
             ],
             [
              0.3333333333333333,
              "#9c179e"
             ],
             [
              0.4444444444444444,
              "#bd3786"
             ],
             [
              0.5555555555555556,
              "#d8576b"
             ],
             [
              0.6666666666666666,
              "#ed7953"
             ],
             [
              0.7777777777777778,
              "#fb9f3a"
             ],
             [
              0.8888888888888888,
              "#fdca26"
             ],
             [
              1,
              "#f0f921"
             ]
            ],
            "type": "histogram2dcontour"
           }
          ],
          "mesh3d": [
           {
            "colorbar": {
             "outlinewidth": 0,
             "ticks": ""
            },
            "type": "mesh3d"
           }
          ],
          "parcoords": [
           {
            "line": {
             "colorbar": {
              "outlinewidth": 0,
              "ticks": ""
             }
            },
            "type": "parcoords"
           }
          ],
          "pie": [
           {
            "automargin": true,
            "type": "pie"
           }
          ],
          "scatter": [
           {
            "fillpattern": {
             "fillmode": "overlay",
             "size": 10,
             "solidity": 0.2
            },
            "type": "scatter"
           }
          ],
          "scatter3d": [
           {
            "line": {
             "colorbar": {
              "outlinewidth": 0,
              "ticks": ""
             }
            },
            "marker": {
             "colorbar": {
              "outlinewidth": 0,
              "ticks": ""
             }
            },
            "type": "scatter3d"
           }
          ],
          "scattercarpet": [
           {
            "marker": {
             "colorbar": {
              "outlinewidth": 0,
              "ticks": ""
             }
            },
            "type": "scattercarpet"
           }
          ],
          "scattergeo": [
           {
            "marker": {
             "colorbar": {
              "outlinewidth": 0,
              "ticks": ""
             }
            },
            "type": "scattergeo"
           }
          ],
          "scattergl": [
           {
            "marker": {
             "colorbar": {
              "outlinewidth": 0,
              "ticks": ""
             }
            },
            "type": "scattergl"
           }
          ],
          "scattermapbox": [
           {
            "marker": {
             "colorbar": {
              "outlinewidth": 0,
              "ticks": ""
             }
            },
            "type": "scattermapbox"
           }
          ],
          "scatterpolar": [
           {
            "marker": {
             "colorbar": {
              "outlinewidth": 0,
              "ticks": ""
             }
            },
            "type": "scatterpolar"
           }
          ],
          "scatterpolargl": [
           {
            "marker": {
             "colorbar": {
              "outlinewidth": 0,
              "ticks": ""
             }
            },
            "type": "scatterpolargl"
           }
          ],
          "scatterternary": [
           {
            "marker": {
             "colorbar": {
              "outlinewidth": 0,
              "ticks": ""
             }
            },
            "type": "scatterternary"
           }
          ],
          "surface": [
           {
            "colorbar": {
             "outlinewidth": 0,
             "ticks": ""
            },
            "colorscale": [
             [
              0,
              "#0d0887"
             ],
             [
              0.1111111111111111,
              "#46039f"
             ],
             [
              0.2222222222222222,
              "#7201a8"
             ],
             [
              0.3333333333333333,
              "#9c179e"
             ],
             [
              0.4444444444444444,
              "#bd3786"
             ],
             [
              0.5555555555555556,
              "#d8576b"
             ],
             [
              0.6666666666666666,
              "#ed7953"
             ],
             [
              0.7777777777777778,
              "#fb9f3a"
             ],
             [
              0.8888888888888888,
              "#fdca26"
             ],
             [
              1,
              "#f0f921"
             ]
            ],
            "type": "surface"
           }
          ],
          "table": [
           {
            "cells": {
             "fill": {
              "color": "#EBF0F8"
             },
             "line": {
              "color": "white"
             }
            },
            "header": {
             "fill": {
              "color": "#C8D4E3"
             },
             "line": {
              "color": "white"
             }
            },
            "type": "table"
           }
          ]
         },
         "layout": {
          "annotationdefaults": {
           "arrowcolor": "#2a3f5f",
           "arrowhead": 0,
           "arrowwidth": 1
          },
          "autotypenumbers": "strict",
          "coloraxis": {
           "colorbar": {
            "outlinewidth": 0,
            "ticks": ""
           }
          },
          "colorscale": {
           "diverging": [
            [
             0,
             "#8e0152"
            ],
            [
             0.1,
             "#c51b7d"
            ],
            [
             0.2,
             "#de77ae"
            ],
            [
             0.3,
             "#f1b6da"
            ],
            [
             0.4,
             "#fde0ef"
            ],
            [
             0.5,
             "#f7f7f7"
            ],
            [
             0.6,
             "#e6f5d0"
            ],
            [
             0.7,
             "#b8e186"
            ],
            [
             0.8,
             "#7fbc41"
            ],
            [
             0.9,
             "#4d9221"
            ],
            [
             1,
             "#276419"
            ]
           ],
           "sequential": [
            [
             0,
             "#0d0887"
            ],
            [
             0.1111111111111111,
             "#46039f"
            ],
            [
             0.2222222222222222,
             "#7201a8"
            ],
            [
             0.3333333333333333,
             "#9c179e"
            ],
            [
             0.4444444444444444,
             "#bd3786"
            ],
            [
             0.5555555555555556,
             "#d8576b"
            ],
            [
             0.6666666666666666,
             "#ed7953"
            ],
            [
             0.7777777777777778,
             "#fb9f3a"
            ],
            [
             0.8888888888888888,
             "#fdca26"
            ],
            [
             1,
             "#f0f921"
            ]
           ],
           "sequentialminus": [
            [
             0,
             "#0d0887"
            ],
            [
             0.1111111111111111,
             "#46039f"
            ],
            [
             0.2222222222222222,
             "#7201a8"
            ],
            [
             0.3333333333333333,
             "#9c179e"
            ],
            [
             0.4444444444444444,
             "#bd3786"
            ],
            [
             0.5555555555555556,
             "#d8576b"
            ],
            [
             0.6666666666666666,
             "#ed7953"
            ],
            [
             0.7777777777777778,
             "#fb9f3a"
            ],
            [
             0.8888888888888888,
             "#fdca26"
            ],
            [
             1,
             "#f0f921"
            ]
           ]
          },
          "colorway": [
           "#636efa",
           "#EF553B",
           "#00cc96",
           "#ab63fa",
           "#FFA15A",
           "#19d3f3",
           "#FF6692",
           "#B6E880",
           "#FF97FF",
           "#FECB52"
          ],
          "font": {
           "color": "#2a3f5f"
          },
          "geo": {
           "bgcolor": "white",
           "lakecolor": "white",
           "landcolor": "#E5ECF6",
           "showlakes": true,
           "showland": true,
           "subunitcolor": "white"
          },
          "hoverlabel": {
           "align": "left"
          },
          "hovermode": "closest",
          "mapbox": {
           "style": "light"
          },
          "paper_bgcolor": "white",
          "plot_bgcolor": "#E5ECF6",
          "polar": {
           "angularaxis": {
            "gridcolor": "white",
            "linecolor": "white",
            "ticks": ""
           },
           "bgcolor": "#E5ECF6",
           "radialaxis": {
            "gridcolor": "white",
            "linecolor": "white",
            "ticks": ""
           }
          },
          "scene": {
           "xaxis": {
            "backgroundcolor": "#E5ECF6",
            "gridcolor": "white",
            "gridwidth": 2,
            "linecolor": "white",
            "showbackground": true,
            "ticks": "",
            "zerolinecolor": "white"
           },
           "yaxis": {
            "backgroundcolor": "#E5ECF6",
            "gridcolor": "white",
            "gridwidth": 2,
            "linecolor": "white",
            "showbackground": true,
            "ticks": "",
            "zerolinecolor": "white"
           },
           "zaxis": {
            "backgroundcolor": "#E5ECF6",
            "gridcolor": "white",
            "gridwidth": 2,
            "linecolor": "white",
            "showbackground": true,
            "ticks": "",
            "zerolinecolor": "white"
           }
          },
          "shapedefaults": {
           "line": {
            "color": "#2a3f5f"
           }
          },
          "ternary": {
           "aaxis": {
            "gridcolor": "white",
            "linecolor": "white",
            "ticks": ""
           },
           "baxis": {
            "gridcolor": "white",
            "linecolor": "white",
            "ticks": ""
           },
           "bgcolor": "#E5ECF6",
           "caxis": {
            "gridcolor": "white",
            "linecolor": "white",
            "ticks": ""
           }
          },
          "title": {
           "x": 0.05
          },
          "xaxis": {
           "automargin": true,
           "gridcolor": "white",
           "linecolor": "white",
           "ticks": "",
           "title": {
            "standoff": 15
           },
           "zerolinecolor": "white",
           "zerolinewidth": 2
          },
          "yaxis": {
           "automargin": true,
           "gridcolor": "white",
           "linecolor": "white",
           "ticks": "",
           "title": {
            "standoff": 15
           },
           "zerolinecolor": "white",
           "zerolinewidth": 2
          }
         }
        },
        "xaxis": {
         "anchor": "y",
         "domain": [
          0,
          1
         ]
        },
        "yaxis": {
         "anchor": "x",
         "domain": [
          0,
          1
         ]
        }
       }
      }
     },
     "metadata": {},
     "output_type": "display_data"
    }
   ],
   "source": [
    "def make_system(beta, gamma, quar):\n",
    "    init = State(s = 89-quar, i = 1, r = 0, q = quar)\n",
    "    init = init/sum(init)\n",
    "    return System(init = init, t_end = 7*14, beta = beta, gamma = gamma)\n",
    "\n",
    "def update_func(t, state, system):\n",
    "    s, i, r, q = state.s, state.i, state.r, state.q\n",
    "    \n",
    "    infectedn = system.beta * i * s\n",
    "    infectedq = system.beta * 1/10 * i * q\n",
    "    recovered = system.gamma * i\n",
    "    \n",
    "    s -= infectedn\n",
    "    q -= infectedq\n",
    "    i += infectedn + infectedq - recovered\n",
    "    r += recovered\n",
    "    \n",
    "    return State(s=s, i=i, r=r, q=q)\n",
    "\n",
    "def run_simulation(system, update_func):\n",
    "    S = TimeSeries()\n",
    "    I = TimeSeries()\n",
    "    R = TimeSeries()\n",
    "    Q = TimeSeries()\n",
    "\n",
    "    state = system.init\n",
    "    S[0], I[0], R[0], Q[0] = state\n",
    "    \n",
    "    for t in range(0, system.t_end):\n",
    "        state = update_func(t, state, system)\n",
    "        S[t+1], I[t+1], R[t+1], Q[t+1] = state.s, state.i, state.r, state.q\n",
    "    \n",
    "    return S, I, R, Q\n",
    "\n",
    "def plot_simulation(tc, tr, quar):\n",
    "    system = make_system(1/tc, 1/tr, quar)\n",
    "    S, I, R, Q = run_simulation(system, update_func)\n",
    "    \n",
    "    fig = make_subplots(rows=1, cols=1)\n",
    "\n",
    "    time = []\n",
    "    Sval = []\n",
    "    Ival = []\n",
    "    Rval = []\n",
    "    Qval = []\n",
    "\n",
    "    for t in range(7*14):  \n",
    "        Sval.append(S[t])\n",
    "        Ival.append(I[t])\n",
    "        Rval.append(R[t])\n",
    "        Qval.append(Q[t])\n",
    "        time.append(t)\n",
    "        \n",
    "    fig.add_trace(go.Scatter(x=time, y=Sval, mode = \"lines+markers\", name = \"Susceptible\"),\n",
    "        row=1, col=1)\n",
    "\n",
    "    fig.add_trace(go.Scatter(x=time, y=Qval, mode = \"lines+markers\", name = \"Quarantining\"),\n",
    "        row=1, col=1)\n",
    "\n",
    "    fig.add_trace(go.Scatter(x=time, y=Ival, name = \"Infected\", marker_color = \"orange\"),\n",
    "        row=1, col=1)\n",
    "\n",
    "    fig.add_trace(go.Scatter(x=time, y=Rval, mode = \"markers\", name = \"Resistant\"),\n",
    "        row=1, col=1)\n",
    "\n",
    "    fig.update_traces(marker_size=3)\n",
    "\n",
    "    fig.show()\n",
    "    \n",
    "    return\n",
    "plot_simulation(3, 4, 10)"
   ]
  }
 ],
 "metadata": {
  "kernelspec": {
   "display_name": "Python 3.9.7 ('base')",
   "language": "python",
   "name": "python3"
  },
  "language_info": {
   "codemirror_mode": {
    "name": "ipython",
    "version": 3
   },
   "file_extension": ".py",
   "mimetype": "text/x-python",
   "name": "python",
   "nbconvert_exporter": "python",
   "pygments_lexer": "ipython3",
   "version": "3.9.13"
  },
  "orig_nbformat": 4,
  "vscode": {
   "interpreter": {
    "hash": "ad2bdc8ecc057115af97d19610ffacc2b4e99fae6737bb82f5d7fb13d2f2c186"
   }
  }
 },
 "nbformat": 4,
 "nbformat_minor": 2
}
