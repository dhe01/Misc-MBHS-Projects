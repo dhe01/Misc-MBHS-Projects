{
 "cells": [
  {
   "cell_type": "code",
   "execution_count": 1,
   "metadata": {},
   "outputs": [],
   "source": [
    "import numpy as np\n",
    "import pandas as pd\n",
    "\n",
    "import plotly.graph_objects as go\n",
    "import plotly.express as px\n",
    "from plotly.subplots import make_subplots\n",
    "\n",
    "from scipy import stats\n",
    "import matplotlib.pyplot as plt\n",
    "\n",
    "rng = np.random.default_rng(1)"
   ]
  },
  {
   "cell_type": "code",
   "execution_count": 2,
   "metadata": {},
   "outputs": [],
   "source": [
    "data = pd.read_excel(\"homicide.xlsx\").fillna(0).replace(\" \", 0)\n",
    "data[\"Year\"], data[\"Victim Age\"], data[\"Perpetrator Age\"] = data[\"Year\"].astype(int), data[\"Victim Age\"].astype(int), data[\"Perpetrator Age\"].astype(int)"
   ]
  },
  {
   "cell_type": "code",
   "execution_count": 3,
   "metadata": {},
   "outputs": [],
   "source": [
    "data = data[~(data[\"Victim Age\"] > 99) & ~(data[\"Victim Age\"] < 1) & ~(data[\"Perpetrator Age\"] > 99) & ~(data[\"Perpetrator Age\"] < 1)]"
   ]
  },
  {
   "attachments": {},
   "cell_type": "markdown",
   "metadata": {},
   "source": [
    "Question 1"
   ]
  },
  {
   "cell_type": "code",
   "execution_count": 4,
   "metadata": {},
   "outputs": [
    {
     "data": {
      "text/html": [
       "<div>\n",
       "<style scoped>\n",
       "    .dataframe tbody tr th:only-of-type {\n",
       "        vertical-align: middle;\n",
       "    }\n",
       "\n",
       "    .dataframe tbody tr th {\n",
       "        vertical-align: top;\n",
       "    }\n",
       "\n",
       "    .dataframe thead th {\n",
       "        text-align: right;\n",
       "    }\n",
       "</style>\n",
       "<table border=\"1\" class=\"dataframe\">\n",
       "  <thead>\n",
       "    <tr style=\"text-align: right;\">\n",
       "      <th></th>\n",
       "      <th>Record ID</th>\n",
       "      <th>Agency Code</th>\n",
       "      <th>Agency Name</th>\n",
       "      <th>Agency Type</th>\n",
       "      <th>City</th>\n",
       "      <th>State</th>\n",
       "      <th>Year</th>\n",
       "      <th>Month</th>\n",
       "      <th>Incident</th>\n",
       "      <th>Crime Type</th>\n",
       "      <th>...</th>\n",
       "      <th>Victim Ethnicity</th>\n",
       "      <th>Perpetrator Sex</th>\n",
       "      <th>Perpetrator Age</th>\n",
       "      <th>Perpetrator Race</th>\n",
       "      <th>Perpetrator Ethnicity</th>\n",
       "      <th>Relationship</th>\n",
       "      <th>Weapon</th>\n",
       "      <th>Victim Count</th>\n",
       "      <th>Perpetrator Count</th>\n",
       "      <th>Record Source</th>\n",
       "    </tr>\n",
       "  </thead>\n",
       "  <tbody>\n",
       "    <tr>\n",
       "      <th>571510</th>\n",
       "      <td>571511</td>\n",
       "      <td>MD00102</td>\n",
       "      <td>Cumberland</td>\n",
       "      <td>Municipal Police</td>\n",
       "      <td>Allegany</td>\n",
       "      <td>Maryland</td>\n",
       "      <td>2010</td>\n",
       "      <td>August</td>\n",
       "      <td>1</td>\n",
       "      <td>Murder or Manslaughter</td>\n",
       "      <td>...</td>\n",
       "      <td>Unknown</td>\n",
       "      <td>Male</td>\n",
       "      <td>46</td>\n",
       "      <td>Black</td>\n",
       "      <td>Unknown</td>\n",
       "      <td>Acquaintance</td>\n",
       "      <td>Blunt Object</td>\n",
       "      <td>0</td>\n",
       "      <td>0</td>\n",
       "      <td>FBI</td>\n",
       "    </tr>\n",
       "    <tr>\n",
       "      <th>571511</th>\n",
       "      <td>571512</td>\n",
       "      <td>MD00103</td>\n",
       "      <td>Frostburg</td>\n",
       "      <td>Municipal Police</td>\n",
       "      <td>Allegany</td>\n",
       "      <td>Maryland</td>\n",
       "      <td>2010</td>\n",
       "      <td>April</td>\n",
       "      <td>1</td>\n",
       "      <td>Murder or Manslaughter</td>\n",
       "      <td>...</td>\n",
       "      <td>Unknown</td>\n",
       "      <td>Male</td>\n",
       "      <td>21</td>\n",
       "      <td>Black</td>\n",
       "      <td>Unknown</td>\n",
       "      <td>Unknown</td>\n",
       "      <td>Shotgun</td>\n",
       "      <td>0</td>\n",
       "      <td>0</td>\n",
       "      <td>FBI</td>\n",
       "    </tr>\n",
       "    <tr>\n",
       "      <th>571512</th>\n",
       "      <td>571513</td>\n",
       "      <td>MD00110</td>\n",
       "      <td>Unknown</td>\n",
       "      <td>Municipal Police</td>\n",
       "      <td>Allegany</td>\n",
       "      <td>Maryland</td>\n",
       "      <td>2010</td>\n",
       "      <td>August</td>\n",
       "      <td>1</td>\n",
       "      <td>Murder or Manslaughter</td>\n",
       "      <td>...</td>\n",
       "      <td>Unknown</td>\n",
       "      <td>Male</td>\n",
       "      <td>42</td>\n",
       "      <td>White</td>\n",
       "      <td>Unknown</td>\n",
       "      <td>Brother</td>\n",
       "      <td>Knife</td>\n",
       "      <td>0</td>\n",
       "      <td>0</td>\n",
       "      <td>FBI</td>\n",
       "    </tr>\n",
       "    <tr>\n",
       "      <th>571513</th>\n",
       "      <td>571514</td>\n",
       "      <td>MD00201</td>\n",
       "      <td>Annapolis</td>\n",
       "      <td>Municipal Police</td>\n",
       "      <td>Anne Arundel</td>\n",
       "      <td>Maryland</td>\n",
       "      <td>2010</td>\n",
       "      <td>April</td>\n",
       "      <td>1</td>\n",
       "      <td>Murder or Manslaughter</td>\n",
       "      <td>...</td>\n",
       "      <td>Unknown</td>\n",
       "      <td>Female</td>\n",
       "      <td>38</td>\n",
       "      <td>Black</td>\n",
       "      <td>Unknown</td>\n",
       "      <td>Acquaintance</td>\n",
       "      <td>Knife</td>\n",
       "      <td>0</td>\n",
       "      <td>0</td>\n",
       "      <td>FBI</td>\n",
       "    </tr>\n",
       "    <tr>\n",
       "      <th>571514</th>\n",
       "      <td>571515</td>\n",
       "      <td>MD00201</td>\n",
       "      <td>Annapolis</td>\n",
       "      <td>Municipal Police</td>\n",
       "      <td>Anne Arundel</td>\n",
       "      <td>Maryland</td>\n",
       "      <td>2010</td>\n",
       "      <td>June</td>\n",
       "      <td>1</td>\n",
       "      <td>Murder or Manslaughter</td>\n",
       "      <td>...</td>\n",
       "      <td>Unknown</td>\n",
       "      <td>Male</td>\n",
       "      <td>17</td>\n",
       "      <td>Black</td>\n",
       "      <td>Unknown</td>\n",
       "      <td>Unknown</td>\n",
       "      <td>Blunt Object</td>\n",
       "      <td>0</td>\n",
       "      <td>0</td>\n",
       "      <td>FBI</td>\n",
       "    </tr>\n",
       "    <tr>\n",
       "      <th>...</th>\n",
       "      <td>...</td>\n",
       "      <td>...</td>\n",
       "      <td>...</td>\n",
       "      <td>...</td>\n",
       "      <td>...</td>\n",
       "      <td>...</td>\n",
       "      <td>...</td>\n",
       "      <td>...</td>\n",
       "      <td>...</td>\n",
       "      <td>...</td>\n",
       "      <td>...</td>\n",
       "      <td>...</td>\n",
       "      <td>...</td>\n",
       "      <td>...</td>\n",
       "      <td>...</td>\n",
       "      <td>...</td>\n",
       "      <td>...</td>\n",
       "      <td>...</td>\n",
       "      <td>...</td>\n",
       "      <td>...</td>\n",
       "      <td>...</td>\n",
       "    </tr>\n",
       "    <tr>\n",
       "      <th>616109</th>\n",
       "      <td>616110</td>\n",
       "      <td>MDBPD00</td>\n",
       "      <td>Baltimore</td>\n",
       "      <td>Municipal Police</td>\n",
       "      <td>Baltimore city</td>\n",
       "      <td>Maryland</td>\n",
       "      <td>2012</td>\n",
       "      <td>December</td>\n",
       "      <td>2</td>\n",
       "      <td>Murder or Manslaughter</td>\n",
       "      <td>...</td>\n",
       "      <td>Unknown</td>\n",
       "      <td>Female</td>\n",
       "      <td>32</td>\n",
       "      <td>Black</td>\n",
       "      <td>Unknown</td>\n",
       "      <td>Son</td>\n",
       "      <td>Knife</td>\n",
       "      <td>0</td>\n",
       "      <td>0</td>\n",
       "      <td>FBI</td>\n",
       "    </tr>\n",
       "    <tr>\n",
       "      <th>616110</th>\n",
       "      <td>616111</td>\n",
       "      <td>MDBPD00</td>\n",
       "      <td>Baltimore</td>\n",
       "      <td>Municipal Police</td>\n",
       "      <td>Baltimore city</td>\n",
       "      <td>Maryland</td>\n",
       "      <td>2012</td>\n",
       "      <td>December</td>\n",
       "      <td>3</td>\n",
       "      <td>Murder or Manslaughter</td>\n",
       "      <td>...</td>\n",
       "      <td>Unknown</td>\n",
       "      <td>Male</td>\n",
       "      <td>24</td>\n",
       "      <td>Black</td>\n",
       "      <td>Unknown</td>\n",
       "      <td>Acquaintance</td>\n",
       "      <td>Knife</td>\n",
       "      <td>0</td>\n",
       "      <td>0</td>\n",
       "      <td>FBI</td>\n",
       "    </tr>\n",
       "    <tr>\n",
       "      <th>616111</th>\n",
       "      <td>616112</td>\n",
       "      <td>MDBPD00</td>\n",
       "      <td>Baltimore</td>\n",
       "      <td>Municipal Police</td>\n",
       "      <td>Baltimore city</td>\n",
       "      <td>Maryland</td>\n",
       "      <td>2012</td>\n",
       "      <td>December</td>\n",
       "      <td>4</td>\n",
       "      <td>Murder or Manslaughter</td>\n",
       "      <td>...</td>\n",
       "      <td>Unknown</td>\n",
       "      <td>Female</td>\n",
       "      <td>19</td>\n",
       "      <td>Black</td>\n",
       "      <td>Unknown</td>\n",
       "      <td>Unknown</td>\n",
       "      <td>Unknown</td>\n",
       "      <td>0</td>\n",
       "      <td>0</td>\n",
       "      <td>FBI</td>\n",
       "    </tr>\n",
       "    <tr>\n",
       "      <th>616116</th>\n",
       "      <td>616117</td>\n",
       "      <td>MDBPD00</td>\n",
       "      <td>Baltimore</td>\n",
       "      <td>Municipal Police</td>\n",
       "      <td>Baltimore city</td>\n",
       "      <td>Maryland</td>\n",
       "      <td>2012</td>\n",
       "      <td>December</td>\n",
       "      <td>9</td>\n",
       "      <td>Murder or Manslaughter</td>\n",
       "      <td>...</td>\n",
       "      <td>Unknown</td>\n",
       "      <td>Male</td>\n",
       "      <td>31</td>\n",
       "      <td>Black</td>\n",
       "      <td>Unknown</td>\n",
       "      <td>Unknown</td>\n",
       "      <td>Handgun</td>\n",
       "      <td>0</td>\n",
       "      <td>1</td>\n",
       "      <td>FBI</td>\n",
       "    </tr>\n",
       "    <tr>\n",
       "      <th>616119</th>\n",
       "      <td>616120</td>\n",
       "      <td>MDBPD00</td>\n",
       "      <td>Baltimore</td>\n",
       "      <td>Municipal Police</td>\n",
       "      <td>Baltimore city</td>\n",
       "      <td>Maryland</td>\n",
       "      <td>2012</td>\n",
       "      <td>December</td>\n",
       "      <td>12</td>\n",
       "      <td>Murder or Manslaughter</td>\n",
       "      <td>...</td>\n",
       "      <td>Unknown</td>\n",
       "      <td>Male</td>\n",
       "      <td>25</td>\n",
       "      <td>Black</td>\n",
       "      <td>Unknown</td>\n",
       "      <td>Girlfriend</td>\n",
       "      <td>Knife</td>\n",
       "      <td>0</td>\n",
       "      <td>0</td>\n",
       "      <td>FBI</td>\n",
       "    </tr>\n",
       "  </tbody>\n",
       "</table>\n",
       "<p>620 rows × 24 columns</p>\n",
       "</div>"
      ],
      "text/plain": [
       "        Record ID Agency Code Agency Name       Agency Type            City  \\\n",
       "571510     571511     MD00102  Cumberland  Municipal Police        Allegany   \n",
       "571511     571512     MD00103   Frostburg  Municipal Police        Allegany   \n",
       "571512     571513     MD00110     Unknown  Municipal Police        Allegany   \n",
       "571513     571514     MD00201   Annapolis  Municipal Police    Anne Arundel   \n",
       "571514     571515     MD00201   Annapolis  Municipal Police    Anne Arundel   \n",
       "...           ...         ...         ...               ...             ...   \n",
       "616109     616110     MDBPD00   Baltimore  Municipal Police  Baltimore city   \n",
       "616110     616111     MDBPD00   Baltimore  Municipal Police  Baltimore city   \n",
       "616111     616112     MDBPD00   Baltimore  Municipal Police  Baltimore city   \n",
       "616116     616117     MDBPD00   Baltimore  Municipal Police  Baltimore city   \n",
       "616119     616120     MDBPD00   Baltimore  Municipal Police  Baltimore city   \n",
       "\n",
       "           State  Year     Month  Incident              Crime Type  ...  \\\n",
       "571510  Maryland  2010    August         1  Murder or Manslaughter  ...   \n",
       "571511  Maryland  2010     April         1  Murder or Manslaughter  ...   \n",
       "571512  Maryland  2010    August         1  Murder or Manslaughter  ...   \n",
       "571513  Maryland  2010     April         1  Murder or Manslaughter  ...   \n",
       "571514  Maryland  2010      June         1  Murder or Manslaughter  ...   \n",
       "...          ...   ...       ...       ...                     ...  ...   \n",
       "616109  Maryland  2012  December         2  Murder or Manslaughter  ...   \n",
       "616110  Maryland  2012  December         3  Murder or Manslaughter  ...   \n",
       "616111  Maryland  2012  December         4  Murder or Manslaughter  ...   \n",
       "616116  Maryland  2012  December         9  Murder or Manslaughter  ...   \n",
       "616119  Maryland  2012  December        12  Murder or Manslaughter  ...   \n",
       "\n",
       "       Victim Ethnicity Perpetrator Sex  Perpetrator Age Perpetrator Race  \\\n",
       "571510          Unknown            Male               46            Black   \n",
       "571511          Unknown            Male               21            Black   \n",
       "571512          Unknown            Male               42            White   \n",
       "571513          Unknown          Female               38            Black   \n",
       "571514          Unknown            Male               17            Black   \n",
       "...                 ...             ...              ...              ...   \n",
       "616109          Unknown          Female               32            Black   \n",
       "616110          Unknown            Male               24            Black   \n",
       "616111          Unknown          Female               19            Black   \n",
       "616116          Unknown            Male               31            Black   \n",
       "616119          Unknown            Male               25            Black   \n",
       "\n",
       "       Perpetrator Ethnicity  Relationship        Weapon Victim Count  \\\n",
       "571510               Unknown  Acquaintance  Blunt Object            0   \n",
       "571511               Unknown       Unknown       Shotgun            0   \n",
       "571512               Unknown       Brother         Knife            0   \n",
       "571513               Unknown  Acquaintance         Knife            0   \n",
       "571514               Unknown       Unknown  Blunt Object            0   \n",
       "...                      ...           ...           ...          ...   \n",
       "616109               Unknown           Son         Knife            0   \n",
       "616110               Unknown  Acquaintance         Knife            0   \n",
       "616111               Unknown       Unknown       Unknown            0   \n",
       "616116               Unknown       Unknown       Handgun            0   \n",
       "616119               Unknown    Girlfriend         Knife            0   \n",
       "\n",
       "       Perpetrator Count Record Source  \n",
       "571510                 0           FBI  \n",
       "571511                 0           FBI  \n",
       "571512                 0           FBI  \n",
       "571513                 0           FBI  \n",
       "571514                 0           FBI  \n",
       "...                  ...           ...  \n",
       "616109                 0           FBI  \n",
       "616110                 0           FBI  \n",
       "616111                 0           FBI  \n",
       "616116                 1           FBI  \n",
       "616119                 0           FBI  \n",
       "\n",
       "[620 rows x 24 columns]"
      ]
     },
     "execution_count": 4,
     "metadata": {},
     "output_type": "execute_result"
    }
   ],
   "source": [
    "q1 = data[((data[\"Year\"] == 2010) | (data[\"Year\"] == 2011) | (data[\"Year\"] == 2012)) & (data[\"State\"] == \"Maryland\")]\n",
    "q1"
   ]
  },
  {
   "cell_type": "code",
   "execution_count": 12,
   "metadata": {},
   "outputs": [
    {
     "data": {
      "application/vnd.plotly.v1+json": {
       "config": {
        "plotlyServerURL": "https://plot.ly"
       },
       "data": [
        {
         "name": "Victim Age",
         "type": "histogram",
         "x": [
          50,
          20,
          46,
          31,
          2,
          54,
          48,
          52,
          21,
          23,
          40,
          30,
          46,
          20,
          45,
          30,
          43,
          29,
          23,
          49,
          48,
          22,
          29,
          16,
          43,
          26,
          48,
          88,
          34,
          41,
          17,
          44,
          43,
          37,
          61,
          39,
          16,
          33,
          51,
          33,
          25,
          40,
          27,
          30,
          34,
          38,
          43,
          27,
          30,
          46,
          71,
          34,
          16,
          1,
          23,
          18,
          37,
          99,
          37,
          42,
          29,
          51,
          24,
          27,
          45,
          23,
          29,
          21,
          28,
          43,
          19,
          16,
          41,
          38,
          48,
          26,
          4,
          43,
          23,
          34,
          47,
          40,
          39,
          26,
          26,
          29,
          53,
          21,
          39,
          38,
          53,
          33,
          16,
          32,
          15,
          39,
          24,
          20,
          43,
          21,
          33,
          29,
          3,
          16,
          46,
          18,
          80,
          49,
          25,
          42,
          25,
          28,
          83,
          36,
          43,
          37,
          22,
          55,
          58,
          19,
          29,
          37,
          25,
          25,
          20,
          26,
          85,
          22,
          18,
          38,
          51,
          48,
          23,
          24,
          29,
          71,
          46,
          45,
          65,
          82,
          42,
          99,
          30,
          21,
          20,
          41,
          24,
          27,
          23,
          29,
          44,
          22,
          30,
          72,
          23,
          2,
          33,
          27,
          49,
          36,
          29,
          32,
          30,
          18,
          28,
          44,
          31,
          44,
          32,
          83,
          33,
          29,
          47,
          23,
          72,
          27,
          42,
          26,
          28,
          24,
          23,
          19,
          20,
          20,
          30,
          45,
          28,
          46,
          51,
          23,
          22,
          35,
          33,
          84,
          66,
          28,
          38,
          22,
          55,
          37,
          48,
          19,
          52,
          19,
          28,
          29,
          51,
          46,
          38,
          23,
          29,
          13,
          19,
          53,
          19,
          34,
          15,
          30,
          57,
          38,
          66,
          15,
          47,
          23,
          25,
          25,
          33,
          25,
          42,
          41,
          20,
          18,
          17,
          19,
          1,
          35,
          35,
          26,
          46,
          30,
          4,
          17,
          19,
          38,
          24,
          40,
          18,
          84,
          54,
          66,
          44,
          19,
          23,
          36,
          39,
          99,
          19,
          22,
          44,
          24,
          49,
          35,
          99,
          33,
          24,
          18,
          50,
          29,
          37,
          56,
          21,
          16,
          17,
          42,
          46,
          19,
          51,
          40,
          33,
          26,
          30,
          81,
          41,
          22,
          27,
          12,
          28,
          13,
          35,
          11,
          74,
          84,
          43,
          32,
          63,
          30,
          21,
          26,
          24,
          28,
          56,
          58,
          30,
          26,
          30,
          21,
          22,
          30,
          29,
          45,
          58,
          18,
          36,
          33,
          70,
          27,
          22,
          27,
          33,
          25,
          43,
          23,
          25,
          51,
          43,
          63,
          46,
          74,
          20,
          20,
          40,
          48,
          93,
          51,
          58,
          21,
          23,
          46,
          35,
          99,
          21,
          30,
          19,
          20,
          22,
          51,
          38,
          20,
          18,
          30,
          43,
          55,
          28,
          38,
          23,
          33,
          37,
          45,
          87,
          62,
          38,
          41,
          53,
          57,
          71,
          40,
          26,
          25,
          22,
          40,
          55,
          23,
          34,
          40,
          21,
          51,
          19,
          22,
          45,
          61,
          57,
          17,
          23,
          46,
          20,
          32,
          43,
          47,
          50,
          22,
          16,
          27,
          50,
          54,
          25,
          40,
          22,
          26,
          29,
          46,
          43,
          21,
          24,
          35,
          4,
          51,
          1,
          18,
          52,
          54,
          36,
          24,
          46,
          19,
          53,
          44,
          67,
          26,
          25,
          45,
          66,
          22,
          33,
          41,
          53,
          51,
          21,
          45,
          30,
          31,
          45,
          87,
          50,
          35,
          28,
          86,
          57,
          21,
          22,
          17,
          30,
          31,
          48,
          52,
          91,
          17,
          26,
          85,
          38,
          25,
          38,
          48,
          27,
          35,
          42,
          36,
          32,
          2,
          21,
          26,
          55,
          45,
          41,
          40,
          21,
          36,
          20,
          58,
          37,
          52,
          62,
          34,
          59,
          32,
          46,
          62,
          20,
          36,
          47,
          23,
          39,
          35,
          63,
          37,
          34,
          28,
          36,
          54,
          21,
          23,
          35,
          26,
          44,
          32,
          20,
          54,
          40,
          18,
          25,
          17,
          50,
          83,
          53,
          33,
          29,
          21,
          6,
          42,
          52,
          2,
          43,
          18,
          28,
          40,
          30,
          37,
          23,
          25,
          14,
          30,
          45,
          53,
          41,
          38,
          51,
          42,
          30,
          29,
          25,
          20,
          12,
          39,
          25,
          23,
          38,
          43,
          28,
          20,
          37,
          89,
          22,
          36,
          21,
          41,
          21,
          25,
          47,
          55,
          35,
          33,
          29,
          27,
          65,
          67,
          26,
          25,
          31,
          26,
          47,
          32,
          5,
          42,
          13,
          37,
          23,
          21,
          59,
          29,
          33,
          21,
          34,
          37,
          43,
          45,
          23,
          44,
          18,
          46,
          34,
          19,
          43,
          31,
          58,
          47,
          47,
          44,
          42,
          1,
          38,
          27,
          35,
          20,
          35,
          35,
          50,
          40,
          42,
          27,
          63,
          61,
          33,
          21,
          27,
          21,
          34,
          27,
          22,
          35,
          18,
          40,
          41,
          29,
          55,
          33,
          55,
          2,
          24,
          35,
          26,
          23
         ],
         "xaxis": "x",
         "yaxis": "y"
        }
       ],
       "layout": {
        "height": 400,
        "template": {
         "data": {
          "bar": [
           {
            "error_x": {
             "color": "#2a3f5f"
            },
            "error_y": {
             "color": "#2a3f5f"
            },
            "marker": {
             "line": {
              "color": "#E5ECF6",
              "width": 0.5
             },
             "pattern": {
              "fillmode": "overlay",
              "size": 10,
              "solidity": 0.2
             }
            },
            "type": "bar"
           }
          ],
          "barpolar": [
           {
            "marker": {
             "line": {
              "color": "#E5ECF6",
              "width": 0.5
             },
             "pattern": {
              "fillmode": "overlay",
              "size": 10,
              "solidity": 0.2
             }
            },
            "type": "barpolar"
           }
          ],
          "carpet": [
           {
            "aaxis": {
             "endlinecolor": "#2a3f5f",
             "gridcolor": "white",
             "linecolor": "white",
             "minorgridcolor": "white",
             "startlinecolor": "#2a3f5f"
            },
            "baxis": {
             "endlinecolor": "#2a3f5f",
             "gridcolor": "white",
             "linecolor": "white",
             "minorgridcolor": "white",
             "startlinecolor": "#2a3f5f"
            },
            "type": "carpet"
           }
          ],
          "choropleth": [
           {
            "colorbar": {
             "outlinewidth": 0,
             "ticks": ""
            },
            "type": "choropleth"
           }
          ],
          "contour": [
           {
            "colorbar": {
             "outlinewidth": 0,
             "ticks": ""
            },
            "colorscale": [
             [
              0,
              "#0d0887"
             ],
             [
              0.1111111111111111,
              "#46039f"
             ],
             [
              0.2222222222222222,
              "#7201a8"
             ],
             [
              0.3333333333333333,
              "#9c179e"
             ],
             [
              0.4444444444444444,
              "#bd3786"
             ],
             [
              0.5555555555555556,
              "#d8576b"
             ],
             [
              0.6666666666666666,
              "#ed7953"
             ],
             [
              0.7777777777777778,
              "#fb9f3a"
             ],
             [
              0.8888888888888888,
              "#fdca26"
             ],
             [
              1,
              "#f0f921"
             ]
            ],
            "type": "contour"
           }
          ],
          "contourcarpet": [
           {
            "colorbar": {
             "outlinewidth": 0,
             "ticks": ""
            },
            "type": "contourcarpet"
           }
          ],
          "heatmap": [
           {
            "colorbar": {
             "outlinewidth": 0,
             "ticks": ""
            },
            "colorscale": [
             [
              0,
              "#0d0887"
             ],
             [
              0.1111111111111111,
              "#46039f"
             ],
             [
              0.2222222222222222,
              "#7201a8"
             ],
             [
              0.3333333333333333,
              "#9c179e"
             ],
             [
              0.4444444444444444,
              "#bd3786"
             ],
             [
              0.5555555555555556,
              "#d8576b"
             ],
             [
              0.6666666666666666,
              "#ed7953"
             ],
             [
              0.7777777777777778,
              "#fb9f3a"
             ],
             [
              0.8888888888888888,
              "#fdca26"
             ],
             [
              1,
              "#f0f921"
             ]
            ],
            "type": "heatmap"
           }
          ],
          "heatmapgl": [
           {
            "colorbar": {
             "outlinewidth": 0,
             "ticks": ""
            },
            "colorscale": [
             [
              0,
              "#0d0887"
             ],
             [
              0.1111111111111111,
              "#46039f"
             ],
             [
              0.2222222222222222,
              "#7201a8"
             ],
             [
              0.3333333333333333,
              "#9c179e"
             ],
             [
              0.4444444444444444,
              "#bd3786"
             ],
             [
              0.5555555555555556,
              "#d8576b"
             ],
             [
              0.6666666666666666,
              "#ed7953"
             ],
             [
              0.7777777777777778,
              "#fb9f3a"
             ],
             [
              0.8888888888888888,
              "#fdca26"
             ],
             [
              1,
              "#f0f921"
             ]
            ],
            "type": "heatmapgl"
           }
          ],
          "histogram": [
           {
            "marker": {
             "pattern": {
              "fillmode": "overlay",
              "size": 10,
              "solidity": 0.2
             }
            },
            "type": "histogram"
           }
          ],
          "histogram2d": [
           {
            "colorbar": {
             "outlinewidth": 0,
             "ticks": ""
            },
            "colorscale": [
             [
              0,
              "#0d0887"
             ],
             [
              0.1111111111111111,
              "#46039f"
             ],
             [
              0.2222222222222222,
              "#7201a8"
             ],
             [
              0.3333333333333333,
              "#9c179e"
             ],
             [
              0.4444444444444444,
              "#bd3786"
             ],
             [
              0.5555555555555556,
              "#d8576b"
             ],
             [
              0.6666666666666666,
              "#ed7953"
             ],
             [
              0.7777777777777778,
              "#fb9f3a"
             ],
             [
              0.8888888888888888,
              "#fdca26"
             ],
             [
              1,
              "#f0f921"
             ]
            ],
            "type": "histogram2d"
           }
          ],
          "histogram2dcontour": [
           {
            "colorbar": {
             "outlinewidth": 0,
             "ticks": ""
            },
            "colorscale": [
             [
              0,
              "#0d0887"
             ],
             [
              0.1111111111111111,
              "#46039f"
             ],
             [
              0.2222222222222222,
              "#7201a8"
             ],
             [
              0.3333333333333333,
              "#9c179e"
             ],
             [
              0.4444444444444444,
              "#bd3786"
             ],
             [
              0.5555555555555556,
              "#d8576b"
             ],
             [
              0.6666666666666666,
              "#ed7953"
             ],
             [
              0.7777777777777778,
              "#fb9f3a"
             ],
             [
              0.8888888888888888,
              "#fdca26"
             ],
             [
              1,
              "#f0f921"
             ]
            ],
            "type": "histogram2dcontour"
           }
          ],
          "mesh3d": [
           {
            "colorbar": {
             "outlinewidth": 0,
             "ticks": ""
            },
            "type": "mesh3d"
           }
          ],
          "parcoords": [
           {
            "line": {
             "colorbar": {
              "outlinewidth": 0,
              "ticks": ""
             }
            },
            "type": "parcoords"
           }
          ],
          "pie": [
           {
            "automargin": true,
            "type": "pie"
           }
          ],
          "scatter": [
           {
            "fillpattern": {
             "fillmode": "overlay",
             "size": 10,
             "solidity": 0.2
            },
            "type": "scatter"
           }
          ],
          "scatter3d": [
           {
            "line": {
             "colorbar": {
              "outlinewidth": 0,
              "ticks": ""
             }
            },
            "marker": {
             "colorbar": {
              "outlinewidth": 0,
              "ticks": ""
             }
            },
            "type": "scatter3d"
           }
          ],
          "scattercarpet": [
           {
            "marker": {
             "colorbar": {
              "outlinewidth": 0,
              "ticks": ""
             }
            },
            "type": "scattercarpet"
           }
          ],
          "scattergeo": [
           {
            "marker": {
             "colorbar": {
              "outlinewidth": 0,
              "ticks": ""
             }
            },
            "type": "scattergeo"
           }
          ],
          "scattergl": [
           {
            "marker": {
             "colorbar": {
              "outlinewidth": 0,
              "ticks": ""
             }
            },
            "type": "scattergl"
           }
          ],
          "scattermapbox": [
           {
            "marker": {
             "colorbar": {
              "outlinewidth": 0,
              "ticks": ""
             }
            },
            "type": "scattermapbox"
           }
          ],
          "scatterpolar": [
           {
            "marker": {
             "colorbar": {
              "outlinewidth": 0,
              "ticks": ""
             }
            },
            "type": "scatterpolar"
           }
          ],
          "scatterpolargl": [
           {
            "marker": {
             "colorbar": {
              "outlinewidth": 0,
              "ticks": ""
             }
            },
            "type": "scatterpolargl"
           }
          ],
          "scatterternary": [
           {
            "marker": {
             "colorbar": {
              "outlinewidth": 0,
              "ticks": ""
             }
            },
            "type": "scatterternary"
           }
          ],
          "surface": [
           {
            "colorbar": {
             "outlinewidth": 0,
             "ticks": ""
            },
            "colorscale": [
             [
              0,
              "#0d0887"
             ],
             [
              0.1111111111111111,
              "#46039f"
             ],
             [
              0.2222222222222222,
              "#7201a8"
             ],
             [
              0.3333333333333333,
              "#9c179e"
             ],
             [
              0.4444444444444444,
              "#bd3786"
             ],
             [
              0.5555555555555556,
              "#d8576b"
             ],
             [
              0.6666666666666666,
              "#ed7953"
             ],
             [
              0.7777777777777778,
              "#fb9f3a"
             ],
             [
              0.8888888888888888,
              "#fdca26"
             ],
             [
              1,
              "#f0f921"
             ]
            ],
            "type": "surface"
           }
          ],
          "table": [
           {
            "cells": {
             "fill": {
              "color": "#EBF0F8"
             },
             "line": {
              "color": "white"
             }
            },
            "header": {
             "fill": {
              "color": "#C8D4E3"
             },
             "line": {
              "color": "white"
             }
            },
            "type": "table"
           }
          ]
         },
         "layout": {
          "annotationdefaults": {
           "arrowcolor": "#2a3f5f",
           "arrowhead": 0,
           "arrowwidth": 1
          },
          "autotypenumbers": "strict",
          "coloraxis": {
           "colorbar": {
            "outlinewidth": 0,
            "ticks": ""
           }
          },
          "colorscale": {
           "diverging": [
            [
             0,
             "#8e0152"
            ],
            [
             0.1,
             "#c51b7d"
            ],
            [
             0.2,
             "#de77ae"
            ],
            [
             0.3,
             "#f1b6da"
            ],
            [
             0.4,
             "#fde0ef"
            ],
            [
             0.5,
             "#f7f7f7"
            ],
            [
             0.6,
             "#e6f5d0"
            ],
            [
             0.7,
             "#b8e186"
            ],
            [
             0.8,
             "#7fbc41"
            ],
            [
             0.9,
             "#4d9221"
            ],
            [
             1,
             "#276419"
            ]
           ],
           "sequential": [
            [
             0,
             "#0d0887"
            ],
            [
             0.1111111111111111,
             "#46039f"
            ],
            [
             0.2222222222222222,
             "#7201a8"
            ],
            [
             0.3333333333333333,
             "#9c179e"
            ],
            [
             0.4444444444444444,
             "#bd3786"
            ],
            [
             0.5555555555555556,
             "#d8576b"
            ],
            [
             0.6666666666666666,
             "#ed7953"
            ],
            [
             0.7777777777777778,
             "#fb9f3a"
            ],
            [
             0.8888888888888888,
             "#fdca26"
            ],
            [
             1,
             "#f0f921"
            ]
           ],
           "sequentialminus": [
            [
             0,
             "#0d0887"
            ],
            [
             0.1111111111111111,
             "#46039f"
            ],
            [
             0.2222222222222222,
             "#7201a8"
            ],
            [
             0.3333333333333333,
             "#9c179e"
            ],
            [
             0.4444444444444444,
             "#bd3786"
            ],
            [
             0.5555555555555556,
             "#d8576b"
            ],
            [
             0.6666666666666666,
             "#ed7953"
            ],
            [
             0.7777777777777778,
             "#fb9f3a"
            ],
            [
             0.8888888888888888,
             "#fdca26"
            ],
            [
             1,
             "#f0f921"
            ]
           ]
          },
          "colorway": [
           "#636efa",
           "#EF553B",
           "#00cc96",
           "#ab63fa",
           "#FFA15A",
           "#19d3f3",
           "#FF6692",
           "#B6E880",
           "#FF97FF",
           "#FECB52"
          ],
          "font": {
           "color": "#2a3f5f"
          },
          "geo": {
           "bgcolor": "white",
           "lakecolor": "white",
           "landcolor": "#E5ECF6",
           "showlakes": true,
           "showland": true,
           "subunitcolor": "white"
          },
          "hoverlabel": {
           "align": "left"
          },
          "hovermode": "closest",
          "mapbox": {
           "style": "light"
          },
          "paper_bgcolor": "white",
          "plot_bgcolor": "#E5ECF6",
          "polar": {
           "angularaxis": {
            "gridcolor": "white",
            "linecolor": "white",
            "ticks": ""
           },
           "bgcolor": "#E5ECF6",
           "radialaxis": {
            "gridcolor": "white",
            "linecolor": "white",
            "ticks": ""
           }
          },
          "scene": {
           "xaxis": {
            "backgroundcolor": "#E5ECF6",
            "gridcolor": "white",
            "gridwidth": 2,
            "linecolor": "white",
            "showbackground": true,
            "ticks": "",
            "zerolinecolor": "white"
           },
           "yaxis": {
            "backgroundcolor": "#E5ECF6",
            "gridcolor": "white",
            "gridwidth": 2,
            "linecolor": "white",
            "showbackground": true,
            "ticks": "",
            "zerolinecolor": "white"
           },
           "zaxis": {
            "backgroundcolor": "#E5ECF6",
            "gridcolor": "white",
            "gridwidth": 2,
            "linecolor": "white",
            "showbackground": true,
            "ticks": "",
            "zerolinecolor": "white"
           }
          },
          "shapedefaults": {
           "line": {
            "color": "#2a3f5f"
           }
          },
          "ternary": {
           "aaxis": {
            "gridcolor": "white",
            "linecolor": "white",
            "ticks": ""
           },
           "baxis": {
            "gridcolor": "white",
            "linecolor": "white",
            "ticks": ""
           },
           "bgcolor": "#E5ECF6",
           "caxis": {
            "gridcolor": "white",
            "linecolor": "white",
            "ticks": ""
           }
          },
          "title": {
           "x": 0.05
          },
          "xaxis": {
           "automargin": true,
           "gridcolor": "white",
           "linecolor": "white",
           "ticks": "",
           "title": {
            "standoff": 15
           },
           "zerolinecolor": "white",
           "zerolinewidth": 2
          },
          "yaxis": {
           "automargin": true,
           "gridcolor": "white",
           "linecolor": "white",
           "ticks": "",
           "title": {
            "standoff": 15
           },
           "zerolinecolor": "white",
           "zerolinewidth": 2
          }
         }
        },
        "title": {
         "text": "Distribution of Victim Ages in Maryland from 2010-2012"
        },
        "width": 700,
        "xaxis": {
         "anchor": "y",
         "domain": [
          0,
          1
         ],
         "title": {
          "text": "Victim Age"
         }
        },
        "yaxis": {
         "anchor": "x",
         "domain": [
          0,
          1
         ],
         "title": {
          "text": "Number of Deaths"
         }
        }
       }
      }
     },
     "metadata": {},
     "output_type": "display_data"
    }
   ],
   "source": [
    "fig = make_subplots(rows=1, cols=1)\n",
    "fig.add_trace(go.Histogram(x=q1[\"Victim Age\"], name = \"Victim Age\"), row=1, col=1)\n",
    "\n",
    "fig.update_xaxes(title=\"Victim Age\", row=1, col=1)\n",
    "fig.update_yaxes(title=\"Number of Deaths\", row=1, col=1)\n",
    "fig.update_layout(title_text=\"Distribution of Victim Ages in Maryland from 2010-2012\", width = 700, height = 400)\n",
    "\n",
    "fig.show()"
   ]
  },
  {
   "cell_type": "code",
   "execution_count": 39,
   "metadata": {},
   "outputs": [
    {
     "name": "stdout",
     "output_type": "stream",
     "text": [
      "Mean: 35.985, Standard Error: 0.688\n",
      "95% Confidence Interval: [34.62, 37.351]\n"
     ]
    }
   ],
   "source": [
    "mean = np.mean(q1[\"Victim Age\"])\n",
    "se = np.std(q1[\"Victim Age\"])/np.sqrt(len(q1[\"Victim Age\"]))\n",
    "\n",
    "print(\"Mean: \" + str(np.round(mean, 3)) + \", Standard Error: \" + str(np.round(se, 3)))\n",
    "print(\"95% Confidence Interval: [\" + str(np.round(mean - 1.984 * se, 3)) + \", \" + str(np.round(mean + 1.984 * se, 3)) + \"]\")"
   ]
  },
  {
   "attachments": {},
   "cell_type": "markdown",
   "metadata": {},
   "source": [
    "Question 2"
   ]
  },
  {
   "cell_type": "code",
   "execution_count": 26,
   "metadata": {},
   "outputs": [
    {
     "data": {
      "text/html": [
       "<div>\n",
       "<style scoped>\n",
       "    .dataframe tbody tr th:only-of-type {\n",
       "        vertical-align: middle;\n",
       "    }\n",
       "\n",
       "    .dataframe tbody tr th {\n",
       "        vertical-align: top;\n",
       "    }\n",
       "\n",
       "    .dataframe thead th {\n",
       "        text-align: right;\n",
       "    }\n",
       "</style>\n",
       "<table border=\"1\" class=\"dataframe\">\n",
       "  <thead>\n",
       "    <tr style=\"text-align: right;\">\n",
       "      <th></th>\n",
       "      <th>Record ID</th>\n",
       "      <th>Agency Code</th>\n",
       "      <th>Agency Name</th>\n",
       "      <th>Agency Type</th>\n",
       "      <th>City</th>\n",
       "      <th>State</th>\n",
       "      <th>Year</th>\n",
       "      <th>Month</th>\n",
       "      <th>Incident</th>\n",
       "      <th>Crime Type</th>\n",
       "      <th>...</th>\n",
       "      <th>Victim Ethnicity</th>\n",
       "      <th>Perpetrator Sex</th>\n",
       "      <th>Perpetrator Age</th>\n",
       "      <th>Perpetrator Race</th>\n",
       "      <th>Perpetrator Ethnicity</th>\n",
       "      <th>Relationship</th>\n",
       "      <th>Weapon</th>\n",
       "      <th>Victim Count</th>\n",
       "      <th>Perpetrator Count</th>\n",
       "      <th>Record Source</th>\n",
       "    </tr>\n",
       "  </thead>\n",
       "  <tbody>\n",
       "    <tr>\n",
       "      <th>571510</th>\n",
       "      <td>571511</td>\n",
       "      <td>MD00102</td>\n",
       "      <td>Cumberland</td>\n",
       "      <td>Municipal Police</td>\n",
       "      <td>Allegany</td>\n",
       "      <td>Maryland</td>\n",
       "      <td>2010</td>\n",
       "      <td>August</td>\n",
       "      <td>1</td>\n",
       "      <td>Murder or Manslaughter</td>\n",
       "      <td>...</td>\n",
       "      <td>Unknown</td>\n",
       "      <td>Male</td>\n",
       "      <td>46</td>\n",
       "      <td>Black</td>\n",
       "      <td>Unknown</td>\n",
       "      <td>Acquaintance</td>\n",
       "      <td>Blunt Object</td>\n",
       "      <td>0</td>\n",
       "      <td>0</td>\n",
       "      <td>FBI</td>\n",
       "    </tr>\n",
       "    <tr>\n",
       "      <th>571511</th>\n",
       "      <td>571512</td>\n",
       "      <td>MD00103</td>\n",
       "      <td>Frostburg</td>\n",
       "      <td>Municipal Police</td>\n",
       "      <td>Allegany</td>\n",
       "      <td>Maryland</td>\n",
       "      <td>2010</td>\n",
       "      <td>April</td>\n",
       "      <td>1</td>\n",
       "      <td>Murder or Manslaughter</td>\n",
       "      <td>...</td>\n",
       "      <td>Unknown</td>\n",
       "      <td>Male</td>\n",
       "      <td>21</td>\n",
       "      <td>Black</td>\n",
       "      <td>Unknown</td>\n",
       "      <td>Unknown</td>\n",
       "      <td>Shotgun</td>\n",
       "      <td>0</td>\n",
       "      <td>0</td>\n",
       "      <td>FBI</td>\n",
       "    </tr>\n",
       "    <tr>\n",
       "      <th>571512</th>\n",
       "      <td>571513</td>\n",
       "      <td>MD00110</td>\n",
       "      <td>Unknown</td>\n",
       "      <td>Municipal Police</td>\n",
       "      <td>Allegany</td>\n",
       "      <td>Maryland</td>\n",
       "      <td>2010</td>\n",
       "      <td>August</td>\n",
       "      <td>1</td>\n",
       "      <td>Murder or Manslaughter</td>\n",
       "      <td>...</td>\n",
       "      <td>Unknown</td>\n",
       "      <td>Male</td>\n",
       "      <td>42</td>\n",
       "      <td>White</td>\n",
       "      <td>Unknown</td>\n",
       "      <td>Brother</td>\n",
       "      <td>Knife</td>\n",
       "      <td>0</td>\n",
       "      <td>0</td>\n",
       "      <td>FBI</td>\n",
       "    </tr>\n",
       "    <tr>\n",
       "      <th>571513</th>\n",
       "      <td>571514</td>\n",
       "      <td>MD00201</td>\n",
       "      <td>Annapolis</td>\n",
       "      <td>Municipal Police</td>\n",
       "      <td>Anne Arundel</td>\n",
       "      <td>Maryland</td>\n",
       "      <td>2010</td>\n",
       "      <td>April</td>\n",
       "      <td>1</td>\n",
       "      <td>Murder or Manslaughter</td>\n",
       "      <td>...</td>\n",
       "      <td>Unknown</td>\n",
       "      <td>Female</td>\n",
       "      <td>38</td>\n",
       "      <td>Black</td>\n",
       "      <td>Unknown</td>\n",
       "      <td>Acquaintance</td>\n",
       "      <td>Knife</td>\n",
       "      <td>0</td>\n",
       "      <td>0</td>\n",
       "      <td>FBI</td>\n",
       "    </tr>\n",
       "    <tr>\n",
       "      <th>571514</th>\n",
       "      <td>571515</td>\n",
       "      <td>MD00201</td>\n",
       "      <td>Annapolis</td>\n",
       "      <td>Municipal Police</td>\n",
       "      <td>Anne Arundel</td>\n",
       "      <td>Maryland</td>\n",
       "      <td>2010</td>\n",
       "      <td>June</td>\n",
       "      <td>1</td>\n",
       "      <td>Murder or Manslaughter</td>\n",
       "      <td>...</td>\n",
       "      <td>Unknown</td>\n",
       "      <td>Male</td>\n",
       "      <td>17</td>\n",
       "      <td>Black</td>\n",
       "      <td>Unknown</td>\n",
       "      <td>Unknown</td>\n",
       "      <td>Blunt Object</td>\n",
       "      <td>0</td>\n",
       "      <td>0</td>\n",
       "      <td>FBI</td>\n",
       "    </tr>\n",
       "    <tr>\n",
       "      <th>...</th>\n",
       "      <td>...</td>\n",
       "      <td>...</td>\n",
       "      <td>...</td>\n",
       "      <td>...</td>\n",
       "      <td>...</td>\n",
       "      <td>...</td>\n",
       "      <td>...</td>\n",
       "      <td>...</td>\n",
       "      <td>...</td>\n",
       "      <td>...</td>\n",
       "      <td>...</td>\n",
       "      <td>...</td>\n",
       "      <td>...</td>\n",
       "      <td>...</td>\n",
       "      <td>...</td>\n",
       "      <td>...</td>\n",
       "      <td>...</td>\n",
       "      <td>...</td>\n",
       "      <td>...</td>\n",
       "      <td>...</td>\n",
       "      <td>...</td>\n",
       "    </tr>\n",
       "    <tr>\n",
       "      <th>571934</th>\n",
       "      <td>571935</td>\n",
       "      <td>MDBPD00</td>\n",
       "      <td>Baltimore</td>\n",
       "      <td>Municipal Police</td>\n",
       "      <td>Baltimore city</td>\n",
       "      <td>Maryland</td>\n",
       "      <td>2010</td>\n",
       "      <td>December</td>\n",
       "      <td>1</td>\n",
       "      <td>Murder or Manslaughter</td>\n",
       "      <td>...</td>\n",
       "      <td>Unknown</td>\n",
       "      <td>Male</td>\n",
       "      <td>49</td>\n",
       "      <td>Black</td>\n",
       "      <td>Unknown</td>\n",
       "      <td>Acquaintance</td>\n",
       "      <td>Blunt Object</td>\n",
       "      <td>0</td>\n",
       "      <td>0</td>\n",
       "      <td>FBI</td>\n",
       "    </tr>\n",
       "    <tr>\n",
       "      <th>571942</th>\n",
       "      <td>571943</td>\n",
       "      <td>MDBPD00</td>\n",
       "      <td>Baltimore</td>\n",
       "      <td>Municipal Police</td>\n",
       "      <td>Baltimore city</td>\n",
       "      <td>Maryland</td>\n",
       "      <td>2010</td>\n",
       "      <td>December</td>\n",
       "      <td>9</td>\n",
       "      <td>Murder or Manslaughter</td>\n",
       "      <td>...</td>\n",
       "      <td>Unknown</td>\n",
       "      <td>Male</td>\n",
       "      <td>42</td>\n",
       "      <td>Black</td>\n",
       "      <td>Unknown</td>\n",
       "      <td>Acquaintance</td>\n",
       "      <td>Handgun</td>\n",
       "      <td>0</td>\n",
       "      <td>0</td>\n",
       "      <td>FBI</td>\n",
       "    </tr>\n",
       "    <tr>\n",
       "      <th>571946</th>\n",
       "      <td>571947</td>\n",
       "      <td>MDBPD00</td>\n",
       "      <td>Baltimore</td>\n",
       "      <td>Municipal Police</td>\n",
       "      <td>Baltimore city</td>\n",
       "      <td>Maryland</td>\n",
       "      <td>2010</td>\n",
       "      <td>December</td>\n",
       "      <td>13</td>\n",
       "      <td>Murder or Manslaughter</td>\n",
       "      <td>...</td>\n",
       "      <td>Unknown</td>\n",
       "      <td>Male</td>\n",
       "      <td>19</td>\n",
       "      <td>Black</td>\n",
       "      <td>Unknown</td>\n",
       "      <td>Unknown</td>\n",
       "      <td>Handgun</td>\n",
       "      <td>0</td>\n",
       "      <td>2</td>\n",
       "      <td>FBI</td>\n",
       "    </tr>\n",
       "    <tr>\n",
       "      <th>571947</th>\n",
       "      <td>571948</td>\n",
       "      <td>MDBPD00</td>\n",
       "      <td>Baltimore</td>\n",
       "      <td>Municipal Police</td>\n",
       "      <td>Baltimore city</td>\n",
       "      <td>Maryland</td>\n",
       "      <td>2010</td>\n",
       "      <td>December</td>\n",
       "      <td>14</td>\n",
       "      <td>Murder or Manslaughter</td>\n",
       "      <td>...</td>\n",
       "      <td>Unknown</td>\n",
       "      <td>Male</td>\n",
       "      <td>21</td>\n",
       "      <td>Black</td>\n",
       "      <td>Unknown</td>\n",
       "      <td>Stranger</td>\n",
       "      <td>Handgun</td>\n",
       "      <td>0</td>\n",
       "      <td>1</td>\n",
       "      <td>FBI</td>\n",
       "    </tr>\n",
       "    <tr>\n",
       "      <th>571954</th>\n",
       "      <td>571955</td>\n",
       "      <td>MDBPD00</td>\n",
       "      <td>Baltimore</td>\n",
       "      <td>Municipal Police</td>\n",
       "      <td>Baltimore city</td>\n",
       "      <td>Maryland</td>\n",
       "      <td>2010</td>\n",
       "      <td>December</td>\n",
       "      <td>21</td>\n",
       "      <td>Manslaughter by Negligence</td>\n",
       "      <td>...</td>\n",
       "      <td>Unknown</td>\n",
       "      <td>Male</td>\n",
       "      <td>14</td>\n",
       "      <td>Black</td>\n",
       "      <td>Unknown</td>\n",
       "      <td>Friend</td>\n",
       "      <td>Handgun</td>\n",
       "      <td>0</td>\n",
       "      <td>0</td>\n",
       "      <td>FBI</td>\n",
       "    </tr>\n",
       "  </tbody>\n",
       "</table>\n",
       "<p>212 rows × 24 columns</p>\n",
       "</div>"
      ],
      "text/plain": [
       "        Record ID Agency Code Agency Name       Agency Type            City  \\\n",
       "571510     571511     MD00102  Cumberland  Municipal Police        Allegany   \n",
       "571511     571512     MD00103   Frostburg  Municipal Police        Allegany   \n",
       "571512     571513     MD00110     Unknown  Municipal Police        Allegany   \n",
       "571513     571514     MD00201   Annapolis  Municipal Police    Anne Arundel   \n",
       "571514     571515     MD00201   Annapolis  Municipal Police    Anne Arundel   \n",
       "...           ...         ...         ...               ...             ...   \n",
       "571934     571935     MDBPD00   Baltimore  Municipal Police  Baltimore city   \n",
       "571942     571943     MDBPD00   Baltimore  Municipal Police  Baltimore city   \n",
       "571946     571947     MDBPD00   Baltimore  Municipal Police  Baltimore city   \n",
       "571947     571948     MDBPD00   Baltimore  Municipal Police  Baltimore city   \n",
       "571954     571955     MDBPD00   Baltimore  Municipal Police  Baltimore city   \n",
       "\n",
       "           State  Year     Month  Incident                  Crime Type  ...  \\\n",
       "571510  Maryland  2010    August         1      Murder or Manslaughter  ...   \n",
       "571511  Maryland  2010     April         1      Murder or Manslaughter  ...   \n",
       "571512  Maryland  2010    August         1      Murder or Manslaughter  ...   \n",
       "571513  Maryland  2010     April         1      Murder or Manslaughter  ...   \n",
       "571514  Maryland  2010      June         1      Murder or Manslaughter  ...   \n",
       "...          ...   ...       ...       ...                         ...  ...   \n",
       "571934  Maryland  2010  December         1      Murder or Manslaughter  ...   \n",
       "571942  Maryland  2010  December         9      Murder or Manslaughter  ...   \n",
       "571946  Maryland  2010  December        13      Murder or Manslaughter  ...   \n",
       "571947  Maryland  2010  December        14      Murder or Manslaughter  ...   \n",
       "571954  Maryland  2010  December        21  Manslaughter by Negligence  ...   \n",
       "\n",
       "       Victim Ethnicity Perpetrator Sex  Perpetrator Age Perpetrator Race  \\\n",
       "571510          Unknown            Male               46            Black   \n",
       "571511          Unknown            Male               21            Black   \n",
       "571512          Unknown            Male               42            White   \n",
       "571513          Unknown          Female               38            Black   \n",
       "571514          Unknown            Male               17            Black   \n",
       "...                 ...             ...              ...              ...   \n",
       "571934          Unknown            Male               49            Black   \n",
       "571942          Unknown            Male               42            Black   \n",
       "571946          Unknown            Male               19            Black   \n",
       "571947          Unknown            Male               21            Black   \n",
       "571954          Unknown            Male               14            Black   \n",
       "\n",
       "       Perpetrator Ethnicity  Relationship        Weapon Victim Count  \\\n",
       "571510               Unknown  Acquaintance  Blunt Object            0   \n",
       "571511               Unknown       Unknown       Shotgun            0   \n",
       "571512               Unknown       Brother         Knife            0   \n",
       "571513               Unknown  Acquaintance         Knife            0   \n",
       "571514               Unknown       Unknown  Blunt Object            0   \n",
       "...                      ...           ...           ...          ...   \n",
       "571934               Unknown  Acquaintance  Blunt Object            0   \n",
       "571942               Unknown  Acquaintance       Handgun            0   \n",
       "571946               Unknown       Unknown       Handgun            0   \n",
       "571947               Unknown      Stranger       Handgun            0   \n",
       "571954               Unknown        Friend       Handgun            0   \n",
       "\n",
       "       Perpetrator Count Record Source  \n",
       "571510                 0           FBI  \n",
       "571511                 0           FBI  \n",
       "571512                 0           FBI  \n",
       "571513                 0           FBI  \n",
       "571514                 0           FBI  \n",
       "...                  ...           ...  \n",
       "571934                 0           FBI  \n",
       "571942                 0           FBI  \n",
       "571946                 2           FBI  \n",
       "571947                 1           FBI  \n",
       "571954                 0           FBI  \n",
       "\n",
       "[212 rows x 24 columns]"
      ]
     },
     "execution_count": 26,
     "metadata": {},
     "output_type": "execute_result"
    }
   ],
   "source": [
    "q2 = data[(data[\"Year\"] == 2010) & (data[\"State\"] == \"Maryland\")]\n",
    "q2p1 = q2[\"Victim Age\"]\n",
    "q2p2 = q2[\"Perpetrator Age\"]\n",
    "q2"
   ]
  },
  {
   "cell_type": "code",
   "execution_count": 29,
   "metadata": {},
   "outputs": [
    {
     "data": {
      "application/vnd.plotly.v1+json": {
       "config": {
        "plotlyServerURL": "https://plot.ly"
       },
       "data": [
        {
         "name": "Victim Age",
         "type": "histogram",
         "x": [
          50,
          20,
          46,
          31,
          2,
          54,
          48,
          52,
          21,
          23,
          40,
          30,
          46,
          20,
          45,
          30,
          43,
          29,
          23,
          49,
          48,
          22,
          29,
          16,
          43,
          26,
          48,
          88,
          34,
          41,
          17,
          44,
          43,
          37,
          61,
          39,
          16,
          33,
          51,
          33,
          25,
          40,
          27,
          30,
          34,
          38,
          43,
          27,
          30,
          46,
          71,
          34,
          16,
          1,
          23,
          18,
          37,
          99,
          37,
          42,
          29,
          51,
          24,
          27,
          45,
          23,
          29,
          21,
          28,
          43,
          19,
          16,
          41,
          38,
          48,
          26,
          4,
          43,
          23,
          34,
          47,
          40,
          39,
          26,
          26,
          29,
          53,
          21,
          39,
          38,
          53,
          33,
          16,
          32,
          15,
          39,
          24,
          20,
          43,
          21,
          33,
          29,
          3,
          16,
          46,
          18,
          80,
          49,
          25,
          42,
          25,
          28,
          83,
          36,
          43,
          37,
          22,
          55,
          58,
          19,
          29,
          37,
          25,
          25,
          20,
          26,
          85,
          22,
          18,
          38,
          51,
          48,
          23,
          24,
          29,
          71,
          46,
          45,
          65,
          82,
          42,
          99,
          30,
          21,
          20,
          41,
          24,
          27,
          23,
          29,
          44,
          22,
          30,
          72,
          23,
          2,
          33,
          27,
          49,
          36,
          29,
          32,
          30,
          18,
          28,
          44,
          31,
          44,
          32,
          83,
          33,
          29,
          47,
          23,
          72,
          27,
          42,
          26,
          28,
          24,
          23,
          19,
          20,
          20,
          30,
          45,
          28,
          46,
          51,
          23,
          22,
          35,
          33,
          84,
          66,
          28,
          38,
          22,
          55,
          37,
          48,
          19,
          52,
          19,
          28,
          29,
          51,
          46,
          38,
          23,
          29,
          13
         ],
         "xaxis": "x",
         "yaxis": "y"
        },
        {
         "name": "Perpetrator Age",
         "type": "histogram",
         "x": [
          46,
          21,
          42,
          38,
          17,
          35,
          43,
          22,
          22,
          25,
          26,
          18,
          48,
          17,
          45,
          33,
          40,
          48,
          30,
          27,
          41,
          40,
          68,
          35,
          26,
          42,
          36,
          54,
          31,
          36,
          15,
          23,
          32,
          27,
          19,
          32,
          17,
          19,
          23,
          22,
          22,
          27,
          25,
          31,
          22,
          39,
          19,
          29,
          20,
          48,
          46,
          34,
          18,
          24,
          20,
          46,
          35,
          49,
          48,
          18,
          28,
          31,
          25,
          27,
          35,
          19,
          19,
          21,
          18,
          41,
          15,
          20,
          43,
          43,
          27,
          20,
          43,
          27,
          30,
          19,
          34,
          20,
          55,
          30,
          28,
          17,
          27,
          24,
          23,
          35,
          54,
          30,
          23,
          40,
          18,
          64,
          28,
          20,
          24,
          29,
          31,
          21,
          43,
          23,
          48,
          21,
          20,
          22,
          25,
          19,
          29,
          25,
          34,
          25,
          21,
          46,
          24,
          40,
          38,
          22,
          39,
          18,
          18,
          18,
          26,
          19,
          58,
          19,
          29,
          23,
          45,
          51,
          23,
          24,
          50,
          31,
          31,
          50,
          13,
          82,
          25,
          25,
          30,
          26,
          22,
          27,
          25,
          22,
          35,
          14,
          38,
          28,
          34,
          18,
          22,
          22,
          33,
          25,
          18,
          27,
          29,
          23,
          23,
          18,
          36,
          40,
          31,
          26,
          36,
          80,
          40,
          32,
          41,
          19,
          28,
          32,
          34,
          24,
          19,
          28,
          34,
          17,
          21,
          21,
          59,
          24,
          21,
          14,
          19,
          28,
          20,
          21,
          21,
          50,
          34,
          22,
          21,
          34,
          30,
          25,
          31,
          44,
          54,
          28,
          32,
          30,
          68,
          49,
          42,
          19,
          21,
          14
         ],
         "xaxis": "x2",
         "yaxis": "y2"
        }
       ],
       "layout": {
        "height": 400,
        "template": {
         "data": {
          "bar": [
           {
            "error_x": {
             "color": "#2a3f5f"
            },
            "error_y": {
             "color": "#2a3f5f"
            },
            "marker": {
             "line": {
              "color": "#E5ECF6",
              "width": 0.5
             },
             "pattern": {
              "fillmode": "overlay",
              "size": 10,
              "solidity": 0.2
             }
            },
            "type": "bar"
           }
          ],
          "barpolar": [
           {
            "marker": {
             "line": {
              "color": "#E5ECF6",
              "width": 0.5
             },
             "pattern": {
              "fillmode": "overlay",
              "size": 10,
              "solidity": 0.2
             }
            },
            "type": "barpolar"
           }
          ],
          "carpet": [
           {
            "aaxis": {
             "endlinecolor": "#2a3f5f",
             "gridcolor": "white",
             "linecolor": "white",
             "minorgridcolor": "white",
             "startlinecolor": "#2a3f5f"
            },
            "baxis": {
             "endlinecolor": "#2a3f5f",
             "gridcolor": "white",
             "linecolor": "white",
             "minorgridcolor": "white",
             "startlinecolor": "#2a3f5f"
            },
            "type": "carpet"
           }
          ],
          "choropleth": [
           {
            "colorbar": {
             "outlinewidth": 0,
             "ticks": ""
            },
            "type": "choropleth"
           }
          ],
          "contour": [
           {
            "colorbar": {
             "outlinewidth": 0,
             "ticks": ""
            },
            "colorscale": [
             [
              0,
              "#0d0887"
             ],
             [
              0.1111111111111111,
              "#46039f"
             ],
             [
              0.2222222222222222,
              "#7201a8"
             ],
             [
              0.3333333333333333,
              "#9c179e"
             ],
             [
              0.4444444444444444,
              "#bd3786"
             ],
             [
              0.5555555555555556,
              "#d8576b"
             ],
             [
              0.6666666666666666,
              "#ed7953"
             ],
             [
              0.7777777777777778,
              "#fb9f3a"
             ],
             [
              0.8888888888888888,
              "#fdca26"
             ],
             [
              1,
              "#f0f921"
             ]
            ],
            "type": "contour"
           }
          ],
          "contourcarpet": [
           {
            "colorbar": {
             "outlinewidth": 0,
             "ticks": ""
            },
            "type": "contourcarpet"
           }
          ],
          "heatmap": [
           {
            "colorbar": {
             "outlinewidth": 0,
             "ticks": ""
            },
            "colorscale": [
             [
              0,
              "#0d0887"
             ],
             [
              0.1111111111111111,
              "#46039f"
             ],
             [
              0.2222222222222222,
              "#7201a8"
             ],
             [
              0.3333333333333333,
              "#9c179e"
             ],
             [
              0.4444444444444444,
              "#bd3786"
             ],
             [
              0.5555555555555556,
              "#d8576b"
             ],
             [
              0.6666666666666666,
              "#ed7953"
             ],
             [
              0.7777777777777778,
              "#fb9f3a"
             ],
             [
              0.8888888888888888,
              "#fdca26"
             ],
             [
              1,
              "#f0f921"
             ]
            ],
            "type": "heatmap"
           }
          ],
          "heatmapgl": [
           {
            "colorbar": {
             "outlinewidth": 0,
             "ticks": ""
            },
            "colorscale": [
             [
              0,
              "#0d0887"
             ],
             [
              0.1111111111111111,
              "#46039f"
             ],
             [
              0.2222222222222222,
              "#7201a8"
             ],
             [
              0.3333333333333333,
              "#9c179e"
             ],
             [
              0.4444444444444444,
              "#bd3786"
             ],
             [
              0.5555555555555556,
              "#d8576b"
             ],
             [
              0.6666666666666666,
              "#ed7953"
             ],
             [
              0.7777777777777778,
              "#fb9f3a"
             ],
             [
              0.8888888888888888,
              "#fdca26"
             ],
             [
              1,
              "#f0f921"
             ]
            ],
            "type": "heatmapgl"
           }
          ],
          "histogram": [
           {
            "marker": {
             "pattern": {
              "fillmode": "overlay",
              "size": 10,
              "solidity": 0.2
             }
            },
            "type": "histogram"
           }
          ],
          "histogram2d": [
           {
            "colorbar": {
             "outlinewidth": 0,
             "ticks": ""
            },
            "colorscale": [
             [
              0,
              "#0d0887"
             ],
             [
              0.1111111111111111,
              "#46039f"
             ],
             [
              0.2222222222222222,
              "#7201a8"
             ],
             [
              0.3333333333333333,
              "#9c179e"
             ],
             [
              0.4444444444444444,
              "#bd3786"
             ],
             [
              0.5555555555555556,
              "#d8576b"
             ],
             [
              0.6666666666666666,
              "#ed7953"
             ],
             [
              0.7777777777777778,
              "#fb9f3a"
             ],
             [
              0.8888888888888888,
              "#fdca26"
             ],
             [
              1,
              "#f0f921"
             ]
            ],
            "type": "histogram2d"
           }
          ],
          "histogram2dcontour": [
           {
            "colorbar": {
             "outlinewidth": 0,
             "ticks": ""
            },
            "colorscale": [
             [
              0,
              "#0d0887"
             ],
             [
              0.1111111111111111,
              "#46039f"
             ],
             [
              0.2222222222222222,
              "#7201a8"
             ],
             [
              0.3333333333333333,
              "#9c179e"
             ],
             [
              0.4444444444444444,
              "#bd3786"
             ],
             [
              0.5555555555555556,
              "#d8576b"
             ],
             [
              0.6666666666666666,
              "#ed7953"
             ],
             [
              0.7777777777777778,
              "#fb9f3a"
             ],
             [
              0.8888888888888888,
              "#fdca26"
             ],
             [
              1,
              "#f0f921"
             ]
            ],
            "type": "histogram2dcontour"
           }
          ],
          "mesh3d": [
           {
            "colorbar": {
             "outlinewidth": 0,
             "ticks": ""
            },
            "type": "mesh3d"
           }
          ],
          "parcoords": [
           {
            "line": {
             "colorbar": {
              "outlinewidth": 0,
              "ticks": ""
             }
            },
            "type": "parcoords"
           }
          ],
          "pie": [
           {
            "automargin": true,
            "type": "pie"
           }
          ],
          "scatter": [
           {
            "fillpattern": {
             "fillmode": "overlay",
             "size": 10,
             "solidity": 0.2
            },
            "type": "scatter"
           }
          ],
          "scatter3d": [
           {
            "line": {
             "colorbar": {
              "outlinewidth": 0,
              "ticks": ""
             }
            },
            "marker": {
             "colorbar": {
              "outlinewidth": 0,
              "ticks": ""
             }
            },
            "type": "scatter3d"
           }
          ],
          "scattercarpet": [
           {
            "marker": {
             "colorbar": {
              "outlinewidth": 0,
              "ticks": ""
             }
            },
            "type": "scattercarpet"
           }
          ],
          "scattergeo": [
           {
            "marker": {
             "colorbar": {
              "outlinewidth": 0,
              "ticks": ""
             }
            },
            "type": "scattergeo"
           }
          ],
          "scattergl": [
           {
            "marker": {
             "colorbar": {
              "outlinewidth": 0,
              "ticks": ""
             }
            },
            "type": "scattergl"
           }
          ],
          "scattermapbox": [
           {
            "marker": {
             "colorbar": {
              "outlinewidth": 0,
              "ticks": ""
             }
            },
            "type": "scattermapbox"
           }
          ],
          "scatterpolar": [
           {
            "marker": {
             "colorbar": {
              "outlinewidth": 0,
              "ticks": ""
             }
            },
            "type": "scatterpolar"
           }
          ],
          "scatterpolargl": [
           {
            "marker": {
             "colorbar": {
              "outlinewidth": 0,
              "ticks": ""
             }
            },
            "type": "scatterpolargl"
           }
          ],
          "scatterternary": [
           {
            "marker": {
             "colorbar": {
              "outlinewidth": 0,
              "ticks": ""
             }
            },
            "type": "scatterternary"
           }
          ],
          "surface": [
           {
            "colorbar": {
             "outlinewidth": 0,
             "ticks": ""
            },
            "colorscale": [
             [
              0,
              "#0d0887"
             ],
             [
              0.1111111111111111,
              "#46039f"
             ],
             [
              0.2222222222222222,
              "#7201a8"
             ],
             [
              0.3333333333333333,
              "#9c179e"
             ],
             [
              0.4444444444444444,
              "#bd3786"
             ],
             [
              0.5555555555555556,
              "#d8576b"
             ],
             [
              0.6666666666666666,
              "#ed7953"
             ],
             [
              0.7777777777777778,
              "#fb9f3a"
             ],
             [
              0.8888888888888888,
              "#fdca26"
             ],
             [
              1,
              "#f0f921"
             ]
            ],
            "type": "surface"
           }
          ],
          "table": [
           {
            "cells": {
             "fill": {
              "color": "#EBF0F8"
             },
             "line": {
              "color": "white"
             }
            },
            "header": {
             "fill": {
              "color": "#C8D4E3"
             },
             "line": {
              "color": "white"
             }
            },
            "type": "table"
           }
          ]
         },
         "layout": {
          "annotationdefaults": {
           "arrowcolor": "#2a3f5f",
           "arrowhead": 0,
           "arrowwidth": 1
          },
          "autotypenumbers": "strict",
          "coloraxis": {
           "colorbar": {
            "outlinewidth": 0,
            "ticks": ""
           }
          },
          "colorscale": {
           "diverging": [
            [
             0,
             "#8e0152"
            ],
            [
             0.1,
             "#c51b7d"
            ],
            [
             0.2,
             "#de77ae"
            ],
            [
             0.3,
             "#f1b6da"
            ],
            [
             0.4,
             "#fde0ef"
            ],
            [
             0.5,
             "#f7f7f7"
            ],
            [
             0.6,
             "#e6f5d0"
            ],
            [
             0.7,
             "#b8e186"
            ],
            [
             0.8,
             "#7fbc41"
            ],
            [
             0.9,
             "#4d9221"
            ],
            [
             1,
             "#276419"
            ]
           ],
           "sequential": [
            [
             0,
             "#0d0887"
            ],
            [
             0.1111111111111111,
             "#46039f"
            ],
            [
             0.2222222222222222,
             "#7201a8"
            ],
            [
             0.3333333333333333,
             "#9c179e"
            ],
            [
             0.4444444444444444,
             "#bd3786"
            ],
            [
             0.5555555555555556,
             "#d8576b"
            ],
            [
             0.6666666666666666,
             "#ed7953"
            ],
            [
             0.7777777777777778,
             "#fb9f3a"
            ],
            [
             0.8888888888888888,
             "#fdca26"
            ],
            [
             1,
             "#f0f921"
            ]
           ],
           "sequentialminus": [
            [
             0,
             "#0d0887"
            ],
            [
             0.1111111111111111,
             "#46039f"
            ],
            [
             0.2222222222222222,
             "#7201a8"
            ],
            [
             0.3333333333333333,
             "#9c179e"
            ],
            [
             0.4444444444444444,
             "#bd3786"
            ],
            [
             0.5555555555555556,
             "#d8576b"
            ],
            [
             0.6666666666666666,
             "#ed7953"
            ],
            [
             0.7777777777777778,
             "#fb9f3a"
            ],
            [
             0.8888888888888888,
             "#fdca26"
            ],
            [
             1,
             "#f0f921"
            ]
           ]
          },
          "colorway": [
           "#636efa",
           "#EF553B",
           "#00cc96",
           "#ab63fa",
           "#FFA15A",
           "#19d3f3",
           "#FF6692",
           "#B6E880",
           "#FF97FF",
           "#FECB52"
          ],
          "font": {
           "color": "#2a3f5f"
          },
          "geo": {
           "bgcolor": "white",
           "lakecolor": "white",
           "landcolor": "#E5ECF6",
           "showlakes": true,
           "showland": true,
           "subunitcolor": "white"
          },
          "hoverlabel": {
           "align": "left"
          },
          "hovermode": "closest",
          "mapbox": {
           "style": "light"
          },
          "paper_bgcolor": "white",
          "plot_bgcolor": "#E5ECF6",
          "polar": {
           "angularaxis": {
            "gridcolor": "white",
            "linecolor": "white",
            "ticks": ""
           },
           "bgcolor": "#E5ECF6",
           "radialaxis": {
            "gridcolor": "white",
            "linecolor": "white",
            "ticks": ""
           }
          },
          "scene": {
           "xaxis": {
            "backgroundcolor": "#E5ECF6",
            "gridcolor": "white",
            "gridwidth": 2,
            "linecolor": "white",
            "showbackground": true,
            "ticks": "",
            "zerolinecolor": "white"
           },
           "yaxis": {
            "backgroundcolor": "#E5ECF6",
            "gridcolor": "white",
            "gridwidth": 2,
            "linecolor": "white",
            "showbackground": true,
            "ticks": "",
            "zerolinecolor": "white"
           },
           "zaxis": {
            "backgroundcolor": "#E5ECF6",
            "gridcolor": "white",
            "gridwidth": 2,
            "linecolor": "white",
            "showbackground": true,
            "ticks": "",
            "zerolinecolor": "white"
           }
          },
          "shapedefaults": {
           "line": {
            "color": "#2a3f5f"
           }
          },
          "ternary": {
           "aaxis": {
            "gridcolor": "white",
            "linecolor": "white",
            "ticks": ""
           },
           "baxis": {
            "gridcolor": "white",
            "linecolor": "white",
            "ticks": ""
           },
           "bgcolor": "#E5ECF6",
           "caxis": {
            "gridcolor": "white",
            "linecolor": "white",
            "ticks": ""
           }
          },
          "title": {
           "x": 0.05
          },
          "xaxis": {
           "automargin": true,
           "gridcolor": "white",
           "linecolor": "white",
           "ticks": "",
           "title": {
            "standoff": 15
           },
           "zerolinecolor": "white",
           "zerolinewidth": 2
          },
          "yaxis": {
           "automargin": true,
           "gridcolor": "white",
           "linecolor": "white",
           "ticks": "",
           "title": {
            "standoff": 15
           },
           "zerolinecolor": "white",
           "zerolinewidth": 2
          }
         }
        },
        "title": {
         "text": "Distribution of Victim and Perpetrator Ages in Maryland in 2010"
        },
        "width": 1200,
        "xaxis": {
         "anchor": "y",
         "domain": [
          0,
          0.45
         ],
         "title": {
          "text": "Age"
         }
        },
        "xaxis2": {
         "anchor": "y2",
         "domain": [
          0.55,
          1
         ]
        },
        "yaxis": {
         "anchor": "x",
         "domain": [
          0,
          1
         ],
         "title": {
          "text": "Count"
         }
        },
        "yaxis2": {
         "anchor": "x2",
         "domain": [
          0,
          1
         ]
        }
       }
      }
     },
     "metadata": {},
     "output_type": "display_data"
    }
   ],
   "source": [
    "fig = make_subplots(rows=1, cols=2)\n",
    "fig.add_trace(go.Histogram(x=q2p1, name = \"Victim Age\"), row=1, col=1)\n",
    "fig.add_trace(go.Histogram(x=q2p2, name = \"Perpetrator Age\"), row=1, col=2)\n",
    "\n",
    "fig.update_xaxes(title=\"Age\", row=1, col=1)\n",
    "fig.update_yaxes(title=\"Count\", row=1, col=1)\n",
    "fig.update_layout(title_text=\"Distribution of Victim and Perpetrator Ages in Maryland in 2010\", width = 1200, height = 400)\n",
    "\n",
    "fig.show()"
   ]
  },
  {
   "cell_type": "code",
   "execution_count": 38,
   "metadata": {},
   "outputs": [
    {
     "name": "stdout",
     "output_type": "stream",
     "text": [
      "Victim Age Mean: 35.599, Perpetrator Age Mean: 30.387, Standard Error: 1.431\n",
      "T-value: 3.642\n"
     ]
    }
   ],
   "source": [
    "mean1 = np.mean(q2p1)\n",
    "mean2 = np.mean(q2p2)\n",
    "\n",
    "se = np.sqrt(np.std(q2p1) ** 2/(len(q2p1)) + np.std(q2p2) ** 2/(len(q2p2)))\n",
    "\n",
    "print(\"Victim Age Mean: \" + str(np.round(mean1, 3)) + \", Perpetrator Age Mean: \" + str(np.round(mean2, 3)) + \", Standard Error: \" + str(np.round(se, 3)))\n",
    "print(\"T-value: \" + str(np.round((mean1-mean2)/se, 3)))"
   ]
  },
  {
   "attachments": {},
   "cell_type": "markdown",
   "metadata": {},
   "source": [
    "Question 3"
   ]
  },
  {
   "cell_type": "code",
   "execution_count": 46,
   "metadata": {},
   "outputs": [],
   "source": [
    "q3p1 = data[(data[\"Year\"] == 2000) & (data[\"State\"] == \"Maryland\")]\n",
    "q3p2 = data[(data[\"Year\"] == 2002) & (data[\"State\"] == \"Maryland\")]"
   ]
  },
  {
   "cell_type": "code",
   "execution_count": 47,
   "metadata": {},
   "outputs": [
    {
     "name": "stdout",
     "output_type": "stream",
     "text": [
      "Before Proportion: 0.214, After Proportion: 0.265, Standard Error: 0.053\n",
      "Z-value: -0.962\n"
     ]
    }
   ],
   "source": [
    "prop1 = len(q3p1[(q3p1[\"Perpetrator Race\"] == \"White\") & (q3p1[\"Perpetrator Sex\"] == \"Male\")])/len(q3p1)\n",
    "prop2 = len(q3p2[(q3p2[\"Perpetrator Race\"] == \"White\") & (q3p2[\"Perpetrator Sex\"] == \"Male\")])/len(q3p2)\n",
    "\n",
    "pprop  = (len(q3p1[(q3p1[\"Perpetrator Race\"] == \"White\") & (q3p1[\"Perpetrator Sex\"] == \"Male\")]) + len(q3p1[(q3p1[\"Perpetrator Race\"] == \"White\") & (q3p1[\"Perpetrator Sex\"] == \"Male\")]))/(len(q3p1) + len(q3p2))\n",
    "se = (np.sqrt(pprop*(1-pprop)/len(q3p1)) + np.sqrt(pprop*(1-pprop)/len(q3p2)))\n",
    "\n",
    "print(\"Before Proportion: \" + str(np.round(prop1, 3)) + \", After Proportion: \" + str(np.round(prop2, 3)) + \", Standard Error: \" + str(np.round(se, 3)))\n",
    "print(\"Z-value: \" + str(np.round((prop1-prop2)/se, 3)))"
   ]
  }
 ],
 "metadata": {
  "kernelspec": {
   "display_name": "base",
   "language": "python",
   "name": "python3"
  },
  "language_info": {
   "codemirror_mode": {
    "name": "ipython",
    "version": 3
   },
   "file_extension": ".py",
   "mimetype": "text/x-python",
   "name": "python",
   "nbconvert_exporter": "python",
   "pygments_lexer": "ipython3",
   "version": "3.9.15"
  },
  "orig_nbformat": 4
 },
 "nbformat": 4,
 "nbformat_minor": 2
}
