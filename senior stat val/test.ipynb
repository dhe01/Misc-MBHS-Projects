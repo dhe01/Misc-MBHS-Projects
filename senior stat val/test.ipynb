{
 "cells": [
  {
   "cell_type": "code",
   "execution_count": 1,
   "metadata": {},
   "outputs": [],
   "source": [
    "from bs4 import BeautifulSoup\n",
    "import pandas as pd\n",
    "import numpy as np\n",
    "from copy import deepcopy"
   ]
  },
  {
   "cell_type": "code",
   "execution_count": 2,
   "metadata": {},
   "outputs": [],
   "source": [
    "d1 = pd.read_excel(\"2021/2021 Duelist Normalized Ranking.xlsx\")\n",
    "d2 = pd.read_excel(\"2022/2022 Duelist Normalized Ranking.xlsx\")\n",
    "d3 = pd.read_excel(\"2023/2023 Duelist Normalized Ranking.xlsx\")"
   ]
  },
  {
   "cell_type": "code",
   "execution_count": 7,
   "metadata": {},
   "outputs": [
    {
     "data": {
      "text/plain": [
       "{'BuZz', 'Derke', 'f0rsakeN', 'keznit'}"
      ]
     },
     "execution_count": 7,
     "metadata": {},
     "output_type": "execute_result"
    }
   ],
   "source": [
    "set(d1[\"PLAYER\"]) & set(d2[\"PLAYER\"]) & set(d3[\"PLAYER\"])"
   ]
  },
  {
   "cell_type": "code",
   "execution_count": 8,
   "metadata": {},
   "outputs": [],
   "source": [
    "i1 = pd.read_excel(\"2021/2021 Initiator Normalized Ranking.xlsx\")\n",
    "i2 = pd.read_excel(\"2022/2022 Initiator Normalized Ranking.xlsx\")\n",
    "i3 = pd.read_excel(\"2023/2023 Initiator Normalized Ranking.xlsx\")"
   ]
  },
  {
   "cell_type": "code",
   "execution_count": 9,
   "metadata": {},
   "outputs": [
    {
     "data": {
      "text/plain": [
       "{'Klaus',\n",
       " 'Sacy',\n",
       " 'crashies',\n",
       " 'crow',\n",
       " 'd4v41',\n",
       " 'foxz',\n",
       " 'mazin',\n",
       " 'nzr',\n",
       " 'soulcas',\n",
       " 'stax'}"
      ]
     },
     "execution_count": 9,
     "metadata": {},
     "output_type": "execute_result"
    }
   ],
   "source": [
    "set(i1[\"PLAYER\"]) & set(i2[\"PLAYER\"]) & set(i3[\"PLAYER\"])"
   ]
  },
  {
   "cell_type": "code",
   "execution_count": 10,
   "metadata": {},
   "outputs": [],
   "source": [
    "s1 = pd.read_excel(\"2021/2021 Sentinel Normalized Ranking.xlsx\")\n",
    "s2 = pd.read_excel(\"2022/2022 Sentinel Normalized Ranking.xlsx\")\n",
    "s3 = pd.read_excel(\"2023/2023 Sentinel Normalized Ranking.xlsx\")"
   ]
  },
  {
   "cell_type": "code",
   "execution_count": 11,
   "metadata": {},
   "outputs": [
    {
     "data": {
      "text/plain": [
       "{'Benkai', 'Quick', 'Sushiboys'}"
      ]
     },
     "execution_count": 11,
     "metadata": {},
     "output_type": "execute_result"
    }
   ],
   "source": [
    "set(s1[\"PLAYER\"]) & set(s2[\"PLAYER\"]) & set(s3[\"PLAYER\"])"
   ]
  },
  {
   "cell_type": "code",
   "execution_count": 12,
   "metadata": {},
   "outputs": [],
   "source": [
    "sm1 = pd.read_excel(\"2021/2021 Smoke Normalized Ranking.xlsx\")\n",
    "sm2 = pd.read_excel(\"2022/2022 Smoke Normalized Ranking.xlsx\")\n",
    "sm3 = pd.read_excel(\"2023/2023 Smoke Normalized Ranking.xlsx\")"
   ]
  },
  {
   "cell_type": "code",
   "execution_count": 13,
   "metadata": {},
   "outputs": [
    {
     "data": {
      "text/plain": [
       "{'AvovA', 'Boaster', 'MaKo', 'mindfreak'}"
      ]
     },
     "execution_count": 13,
     "metadata": {},
     "output_type": "execute_result"
    }
   ],
   "source": [
    "set(sm1[\"PLAYER\"]) & set(sm2[\"PLAYER\"]) & set(sm3[\"PLAYER\"])"
   ]
  },
  {
   "cell_type": "code",
   "execution_count": 17,
   "metadata": {},
   "outputs": [],
   "source": [
    "f3 = pd.read_excel(\"2023/2023 Flex Normalized Ranking.xlsx\")"
   ]
  },
  {
   "cell_type": "code",
   "execution_count": 19,
   "metadata": {},
   "outputs": [
    {
     "data": {
      "text/plain": [
       "39"
      ]
     },
     "execution_count": 19,
     "metadata": {},
     "output_type": "execute_result"
    }
   ],
   "source": [
    "len(set(list(d1[\"PLAYER\"]) + list(i1[\"PLAYER\"]) + list(s1[\"PLAYER\"]) + list(sm1[\"PLAYER\"])) & set(list(d2[\"PLAYER\"]) + list(i2[\"PLAYER\"]) + list(s2[\"PLAYER\"]) + list(sm2[\"PLAYER\"])) & set(list(d3[\"PLAYER\"]) + list(i3[\"PLAYER\"]) + list(s3[\"PLAYER\"]) + list(sm3[\"PLAYER\"]) + list(f3[\"PLAYER\"])))"
   ]
  }
 ],
 "metadata": {
  "kernelspec": {
   "display_name": "base",
   "language": "python",
   "name": "python3"
  },
  "language_info": {
   "codemirror_mode": {
    "name": "ipython",
    "version": 3
   },
   "file_extension": ".py",
   "mimetype": "text/x-python",
   "name": "python",
   "nbconvert_exporter": "python",
   "pygments_lexer": "ipython3",
   "version": "3.11.4"
  }
 },
 "nbformat": 4,
 "nbformat_minor": 2
}
