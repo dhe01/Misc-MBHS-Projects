{
 "cells": [
  {
   "cell_type": "code",
   "execution_count": 24,
   "metadata": {},
   "outputs": [],
   "source": [
    "import numpy as np\n",
    "import pandas as pd\n",
    "\n",
    "import plotly.graph_objects as go\n",
    "import plotly.express as px\n",
    "from plotly.subplots import make_subplots\n",
    "\n",
    "from scipy import stats\n",
    "import matplotlib.pyplot as plt"
   ]
  },
  {
   "attachments": {},
   "cell_type": "markdown",
   "metadata": {},
   "source": [
    "Retrieving Data"
   ]
  },
  {
   "cell_type": "code",
   "execution_count": 3,
   "metadata": {},
   "outputs": [
    {
     "data": {
      "text/html": [
       "<div>\n",
       "<style scoped>\n",
       "    .dataframe tbody tr th:only-of-type {\n",
       "        vertical-align: middle;\n",
       "    }\n",
       "\n",
       "    .dataframe tbody tr th {\n",
       "        vertical-align: top;\n",
       "    }\n",
       "\n",
       "    .dataframe thead th {\n",
       "        text-align: right;\n",
       "    }\n",
       "</style>\n",
       "<table border=\"1\" class=\"dataframe\">\n",
       "  <thead>\n",
       "    <tr style=\"text-align: right;\">\n",
       "      <th></th>\n",
       "      <th>business_id</th>\n",
       "      <th>name</th>\n",
       "      <th>neighborhood</th>\n",
       "      <th>address</th>\n",
       "      <th>city</th>\n",
       "      <th>state</th>\n",
       "      <th>postal_code</th>\n",
       "      <th>latitude</th>\n",
       "      <th>longitude</th>\n",
       "      <th>stars</th>\n",
       "      <th>review_count</th>\n",
       "      <th>is_open</th>\n",
       "      <th>categories</th>\n",
       "    </tr>\n",
       "  </thead>\n",
       "  <tbody>\n",
       "    <tr>\n",
       "      <th>0</th>\n",
       "      <td>ZhO6_8Vc-zfRxvDDvDBynA</td>\n",
       "      <td>\"Nekter Juice Bar\"</td>\n",
       "      <td>NaN</td>\n",
       "      <td>\"3440 East Baseline Rd, Ste 103\"</td>\n",
       "      <td>Mesa</td>\n",
       "      <td>AZ</td>\n",
       "      <td>85204</td>\n",
       "      <td>33.379624</td>\n",
       "      <td>-111.755988</td>\n",
       "      <td>4.0</td>\n",
       "      <td>91</td>\n",
       "      <td>1</td>\n",
       "      <td>Acai Bowls;Ice Cream &amp; Frozen Yogurt;Juice Bar...</td>\n",
       "    </tr>\n",
       "    <tr>\n",
       "      <th>1</th>\n",
       "      <td>uBj_DKha3DkQM48K8ZLfjg</td>\n",
       "      <td>\"Nekter Juice Bar\"</td>\n",
       "      <td>NaN</td>\n",
       "      <td>\"9500 E Via De Ventura, Ste D-210\"</td>\n",
       "      <td>Scottsdale</td>\n",
       "      <td>AZ</td>\n",
       "      <td>85256</td>\n",
       "      <td>33.554526</td>\n",
       "      <td>-111.876044</td>\n",
       "      <td>2.5</td>\n",
       "      <td>6</td>\n",
       "      <td>1</td>\n",
       "      <td>Acai Bowls;Juice Bars &amp; Smoothies;Food;Ice Cre...</td>\n",
       "    </tr>\n",
       "    <tr>\n",
       "      <th>2</th>\n",
       "      <td>j0TFRTryKwNNC2PAIgaRZA</td>\n",
       "      <td>\"Nekter Juice Bar\"</td>\n",
       "      <td>NaN</td>\n",
       "      <td>\"4041 S Gilbert Rd, Ste 2\"</td>\n",
       "      <td>Chandler</td>\n",
       "      <td>AZ</td>\n",
       "      <td>85297</td>\n",
       "      <td>33.247562</td>\n",
       "      <td>-111.787808</td>\n",
       "      <td>5.0</td>\n",
       "      <td>13</td>\n",
       "      <td>1</td>\n",
       "      <td>Acai Bowls;Juice Bars &amp; Smoothies;Ice Cream &amp; ...</td>\n",
       "    </tr>\n",
       "    <tr>\n",
       "      <th>5</th>\n",
       "      <td>IJzt5dKeeYbHcHeJU3vjJQ</td>\n",
       "      <td>\"Top That Frozen Yogurt\"</td>\n",
       "      <td>NaN</td>\n",
       "      <td>\"3870 W Happy Valley Rd, Ste 159\"</td>\n",
       "      <td>Glendale</td>\n",
       "      <td>AZ</td>\n",
       "      <td>85310</td>\n",
       "      <td>33.713976</td>\n",
       "      <td>-112.142576</td>\n",
       "      <td>4.0</td>\n",
       "      <td>19</td>\n",
       "      <td>1</td>\n",
       "      <td>American (New);Restaurants;Ice Cream &amp; Frozen ...</td>\n",
       "    </tr>\n",
       "    <tr>\n",
       "      <th>11</th>\n",
       "      <td>1r9xmPVZqsiTNQr_FAcs8w</td>\n",
       "      <td>\"Mary Coyle Ol' Fashion Ice Cream\"</td>\n",
       "      <td>NaN</td>\n",
       "      <td>\"5823 N 7th St\"</td>\n",
       "      <td>Phoenix</td>\n",
       "      <td>AZ</td>\n",
       "      <td>85014</td>\n",
       "      <td>33.522598</td>\n",
       "      <td>-112.064992</td>\n",
       "      <td>4.0</td>\n",
       "      <td>78</td>\n",
       "      <td>1</td>\n",
       "      <td>American (Traditional);Restaurants;Ice Cream &amp;...</td>\n",
       "    </tr>\n",
       "    <tr>\n",
       "      <th>...</th>\n",
       "      <td>...</td>\n",
       "      <td>...</td>\n",
       "      <td>...</td>\n",
       "      <td>...</td>\n",
       "      <td>...</td>\n",
       "      <td>...</td>\n",
       "      <td>...</td>\n",
       "      <td>...</td>\n",
       "      <td>...</td>\n",
       "      <td>...</td>\n",
       "      <td>...</td>\n",
       "      <td>...</td>\n",
       "      <td>...</td>\n",
       "    </tr>\n",
       "    <tr>\n",
       "      <th>2320</th>\n",
       "      <td>MFEhYkbGVtMrU4oJwDEQfw</td>\n",
       "      <td>\"Water 2 Ice\"</td>\n",
       "      <td>NaN</td>\n",
       "      <td>\"6340 S Rural Rd, Ste 112\"</td>\n",
       "      <td>Tempe</td>\n",
       "      <td>AZ</td>\n",
       "      <td>85283</td>\n",
       "      <td>33.365140</td>\n",
       "      <td>-111.929254</td>\n",
       "      <td>5.0</td>\n",
       "      <td>3</td>\n",
       "      <td>1</td>\n",
       "      <td>Water Stores;Ice Cream &amp; Frozen Yogurt;Food</td>\n",
       "    </tr>\n",
       "    <tr>\n",
       "      <th>2321</th>\n",
       "      <td>LnXRLBNEPw2BjRTqdij0hw</td>\n",
       "      <td>\"Water Mart\"</td>\n",
       "      <td>NaN</td>\n",
       "      <td>\"4408 N Miller Rd\"</td>\n",
       "      <td>Scottsdale</td>\n",
       "      <td>AZ</td>\n",
       "      <td>85251</td>\n",
       "      <td>33.501401</td>\n",
       "      <td>-111.919088</td>\n",
       "      <td>5.0</td>\n",
       "      <td>4</td>\n",
       "      <td>1</td>\n",
       "      <td>Water Stores;Ice Cream &amp; Frozen Yogurt;Food;Sh...</td>\n",
       "    </tr>\n",
       "    <tr>\n",
       "      <th>2322</th>\n",
       "      <td>sf0jJlbHnGRIN0LnBeqk6w</td>\n",
       "      <td>\"Water Plus Water and ice\"</td>\n",
       "      <td>NaN</td>\n",
       "      <td>\"1969 W Ray Rd\"</td>\n",
       "      <td>Chandler</td>\n",
       "      <td>AZ</td>\n",
       "      <td>85224</td>\n",
       "      <td>33.318863</td>\n",
       "      <td>-111.875473</td>\n",
       "      <td>5.0</td>\n",
       "      <td>18</td>\n",
       "      <td>1</td>\n",
       "      <td>Water Stores;Ice Cream &amp; Frozen Yogurt;Home Se...</td>\n",
       "    </tr>\n",
       "    <tr>\n",
       "      <th>2323</th>\n",
       "      <td>YST448LplxH6SMLNq2vsOw</td>\n",
       "      <td>\"Ambrosia Water &amp; Ice Company\"</td>\n",
       "      <td>NaN</td>\n",
       "      <td>\"500 N Estrella Pkwy, Ste B2\"</td>\n",
       "      <td>Goodyear</td>\n",
       "      <td>AZ</td>\n",
       "      <td>85338</td>\n",
       "      <td>33.451662</td>\n",
       "      <td>-112.394524</td>\n",
       "      <td>4.0</td>\n",
       "      <td>7</td>\n",
       "      <td>1</td>\n",
       "      <td>Water Stores;Ice Cream &amp; Frozen Yogurt;Shaved ...</td>\n",
       "    </tr>\n",
       "    <tr>\n",
       "      <th>2324</th>\n",
       "      <td>eyU4hQOMAG--PUFK-lihDA</td>\n",
       "      <td>\"Pepperwood Water &amp; Ice Cream\"</td>\n",
       "      <td>NaN</td>\n",
       "      <td>\"805 W Baseline Rd, Ste 2\"</td>\n",
       "      <td>Tempe</td>\n",
       "      <td>AZ</td>\n",
       "      <td>85283</td>\n",
       "      <td>33.377402</td>\n",
       "      <td>-111.951400</td>\n",
       "      <td>4.5</td>\n",
       "      <td>13</td>\n",
       "      <td>1</td>\n",
       "      <td>Water Stores;Ice Cream &amp; Frozen Yogurt;Shaved ...</td>\n",
       "    </tr>\n",
       "  </tbody>\n",
       "</table>\n",
       "<p>721 rows × 13 columns</p>\n",
       "</div>"
      ],
      "text/plain": [
       "                 business_id                                name neighborhood  \\\n",
       "0     ZhO6_8Vc-zfRxvDDvDBynA                  \"Nekter Juice Bar\"          NaN   \n",
       "1     uBj_DKha3DkQM48K8ZLfjg                  \"Nekter Juice Bar\"          NaN   \n",
       "2     j0TFRTryKwNNC2PAIgaRZA                  \"Nekter Juice Bar\"          NaN   \n",
       "5     IJzt5dKeeYbHcHeJU3vjJQ            \"Top That Frozen Yogurt\"          NaN   \n",
       "11    1r9xmPVZqsiTNQr_FAcs8w  \"Mary Coyle Ol' Fashion Ice Cream\"          NaN   \n",
       "...                      ...                                 ...          ...   \n",
       "2320  MFEhYkbGVtMrU4oJwDEQfw                       \"Water 2 Ice\"          NaN   \n",
       "2321  LnXRLBNEPw2BjRTqdij0hw                        \"Water Mart\"          NaN   \n",
       "2322  sf0jJlbHnGRIN0LnBeqk6w          \"Water Plus Water and ice\"          NaN   \n",
       "2323  YST448LplxH6SMLNq2vsOw      \"Ambrosia Water & Ice Company\"          NaN   \n",
       "2324  eyU4hQOMAG--PUFK-lihDA      \"Pepperwood Water & Ice Cream\"          NaN   \n",
       "\n",
       "                                 address        city state postal_code  \\\n",
       "0       \"3440 East Baseline Rd, Ste 103\"        Mesa    AZ       85204   \n",
       "1     \"9500 E Via De Ventura, Ste D-210\"  Scottsdale    AZ       85256   \n",
       "2             \"4041 S Gilbert Rd, Ste 2\"    Chandler    AZ       85297   \n",
       "5      \"3870 W Happy Valley Rd, Ste 159\"    Glendale    AZ       85310   \n",
       "11                       \"5823 N 7th St\"     Phoenix    AZ       85014   \n",
       "...                                  ...         ...   ...         ...   \n",
       "2320          \"6340 S Rural Rd, Ste 112\"       Tempe    AZ       85283   \n",
       "2321                  \"4408 N Miller Rd\"  Scottsdale    AZ       85251   \n",
       "2322                     \"1969 W Ray Rd\"    Chandler    AZ       85224   \n",
       "2323       \"500 N Estrella Pkwy, Ste B2\"    Goodyear    AZ       85338   \n",
       "2324          \"805 W Baseline Rd, Ste 2\"       Tempe    AZ       85283   \n",
       "\n",
       "       latitude   longitude  stars  review_count  is_open  \\\n",
       "0     33.379624 -111.755988    4.0            91        1   \n",
       "1     33.554526 -111.876044    2.5             6        1   \n",
       "2     33.247562 -111.787808    5.0            13        1   \n",
       "5     33.713976 -112.142576    4.0            19        1   \n",
       "11    33.522598 -112.064992    4.0            78        1   \n",
       "...         ...         ...    ...           ...      ...   \n",
       "2320  33.365140 -111.929254    5.0             3        1   \n",
       "2321  33.501401 -111.919088    5.0             4        1   \n",
       "2322  33.318863 -111.875473    5.0            18        1   \n",
       "2323  33.451662 -112.394524    4.0             7        1   \n",
       "2324  33.377402 -111.951400    4.5            13        1   \n",
       "\n",
       "                                             categories  \n",
       "0     Acai Bowls;Ice Cream & Frozen Yogurt;Juice Bar...  \n",
       "1     Acai Bowls;Juice Bars & Smoothies;Food;Ice Cre...  \n",
       "2     Acai Bowls;Juice Bars & Smoothies;Ice Cream & ...  \n",
       "5     American (New);Restaurants;Ice Cream & Frozen ...  \n",
       "11    American (Traditional);Restaurants;Ice Cream &...  \n",
       "...                                                 ...  \n",
       "2320        Water Stores;Ice Cream & Frozen Yogurt;Food  \n",
       "2321  Water Stores;Ice Cream & Frozen Yogurt;Food;Sh...  \n",
       "2322  Water Stores;Ice Cream & Frozen Yogurt;Home Se...  \n",
       "2323  Water Stores;Ice Cream & Frozen Yogurt;Shaved ...  \n",
       "2324  Water Stores;Ice Cream & Frozen Yogurt;Shaved ...  \n",
       "\n",
       "[721 rows x 13 columns]"
      ]
     },
     "execution_count": 3,
     "metadata": {},
     "output_type": "execute_result"
    }
   ],
   "source": [
    "xls = pd.ExcelFile(\"yelp data (1).xlsx\")\n",
    "data = pd.read_excel(xls, 'ice cream')\n",
    "data = data[(data[\"state\"] == \"AZ\") | (data[\"state\"] == \"WI\")]\n",
    "data"
   ]
  },
  {
   "attachments": {},
   "cell_type": "markdown",
   "metadata": {},
   "source": [
    "B) Statistic Summaries"
   ]
  },
  {
   "cell_type": "code",
   "execution_count": 17,
   "metadata": {},
   "outputs": [
    {
     "name": "stdout",
     "output_type": "stream",
     "text": [
      "Arizona:\n",
      "Minimum: 1.0\n",
      "Q1: 3.5\n",
      "Median: 4.0\n",
      "Q3: 4.5\n",
      "Maximum: 5.0\n",
      "IQR: 1.0\n",
      "\n",
      "Mean: 3.78\n",
      "Standard Deviation: 0.81\n",
      "Variance: 0.65\n",
      "\n",
      "Wisconsin:\n",
      "Minimum: 1.0\n",
      "Q1: 3.5\n",
      "Median: 4.0\n",
      "Q3: 4.5\n",
      "Maximum: 5.0\n",
      "IQR: 1.0\n",
      "\n",
      "Mean: 3.81\n",
      "Standard Deviation: 0.76\n",
      "Variance: 0.57\n"
     ]
    }
   ],
   "source": [
    "dataaz = data[data[\"state\"] == \"AZ\"]\n",
    "datawi = data[data[\"state\"] == \"WI\"]\n",
    "\n",
    "print(\"Arizona:\")\n",
    "print(\"Minimum: \" + str(min(dataaz[\"stars\"])))\n",
    "print(\"Q1: \" + str(np.quantile(dataaz[\"stars\"], 0.25)))\n",
    "print(\"Median: \" + str(np.median(dataaz[\"stars\"])))\n",
    "print(\"Q3: \" + str(np.quantile(dataaz[\"stars\"], 0.75)))\n",
    "print(\"Maximum: \" + str(max(dataaz[\"stars\"])))\n",
    "print(\"IQR: \" + str(np.quantile(dataaz[\"stars\"], 0.75) - np.quantile(dataaz[\"stars\"], 0.25)))\n",
    "print()\n",
    "print(\"Mean: \" + str(round(np.mean(dataaz[\"stars\"]),2)))\n",
    "print(\"Standard Deviation: \" + str(round(np.std(dataaz[\"stars\"]),2)))\n",
    "print(\"Variance: \" + str(round(np.std(dataaz[\"stars\"])**2,2)))\n",
    "print()\n",
    "\n",
    "print(\"Wisconsin:\")\n",
    "print(\"Minimum: \" + str(min(datawi[\"stars\"])))\n",
    "print(\"Q1: \" + str(np.quantile(datawi[\"stars\"], 0.25)))\n",
    "print(\"Median: \" + str(np.median(datawi[\"stars\"])))\n",
    "print(\"Q3: \" + str(np.quantile(datawi[\"stars\"], 0.75)))\n",
    "print(\"Maximum: \" + str(max(datawi[\"stars\"])))\n",
    "print(\"IQR: \" + str(np.quantile(datawi[\"stars\"], 0.75) - np.quantile(datawi[\"stars\"], 0.25)))\n",
    "print()\n",
    "print(\"Mean: \" + str(round(np.mean(datawi[\"stars\"]),2)))\n",
    "print(\"Standard Deviation: \" + str(round(np.std(datawi[\"stars\"]),2)))\n",
    "print(\"Variance: \" + str(round(np.std(datawi[\"stars\"])**2,2)))"
   ]
  },
  {
   "attachments": {},
   "cell_type": "markdown",
   "metadata": {},
   "source": [
    "C) Graphing"
   ]
  },
  {
   "cell_type": "code",
   "execution_count": 18,
   "metadata": {},
   "outputs": [
    {
     "data": {
      "application/vnd.plotly.v1+json": {
       "config": {
        "plotlyServerURL": "https://plot.ly"
       },
       "data": [
        {
         "name": "Arizona",
         "type": "histogram",
         "x": [
          4,
          2.5,
          5,
          4,
          4,
          4.5,
          3,
          4.5,
          3.5,
          4.5,
          4.5,
          3.5,
          3,
          4.5,
          3.5,
          4,
          3.5,
          3.5,
          3,
          3.5,
          3,
          5,
          4,
          3,
          4.5,
          4,
          5,
          4,
          4,
          4,
          2.5,
          4.5,
          4.5,
          3.5,
          4.5,
          4,
          3.5,
          4,
          4.5,
          3.5,
          2.5,
          5,
          3.5,
          4,
          3.5,
          3.5,
          3,
          4,
          4.5,
          4,
          3,
          3.5,
          4.5,
          4.5,
          4,
          4,
          4.5,
          3.5,
          3.5,
          4,
          3,
          1,
          5,
          5,
          4.5,
          4,
          4.5,
          4.5,
          3.5,
          4,
          3,
          4.5,
          4,
          4.5,
          4.5,
          3.5,
          4.5,
          4,
          4,
          4.5,
          4,
          5,
          4.5,
          4.5,
          4,
          4.5,
          4.5,
          5,
          4,
          4,
          4,
          5,
          5,
          3,
          3.5,
          3.5,
          2.5,
          3,
          3.5,
          4,
          2.5,
          3.5,
          2.5,
          2.5,
          3,
          3,
          4,
          3,
          3,
          2,
          2.5,
          4,
          5,
          4,
          3.5,
          4,
          5,
          4.5,
          3.5,
          3.5,
          4.5,
          4,
          3.5,
          4.5,
          3.5,
          5,
          4,
          5,
          4,
          5,
          5,
          4.5,
          3,
          3.5,
          3,
          1.5,
          4.5,
          4.5,
          4.5,
          4.5,
          2.5,
          2,
          4.5,
          3.5,
          5,
          4,
          4,
          4,
          4,
          3.5,
          1.5,
          2,
          3,
          3.5,
          4.5,
          4,
          4,
          4.5,
          4.5,
          2.5,
          3,
          3,
          1.5,
          5,
          2.5,
          4,
          4,
          3,
          3.5,
          3,
          3,
          4,
          2.5,
          2,
          4.5,
          2.5,
          2.5,
          2,
          3.5,
          3,
          2,
          3.5,
          4.5,
          2,
          3,
          4,
          4,
          3,
          4.5,
          4,
          3.5,
          4.5,
          3.5,
          5,
          4,
          4,
          3,
          3.5,
          1,
          4.5,
          4,
          3.5,
          3.5,
          4,
          4.5,
          4,
          3.5,
          3.5,
          4.5,
          4,
          3.5,
          3.5,
          4,
          3.5,
          3.5,
          1.5,
          3.5,
          3.5,
          3.5,
          5,
          3,
          4,
          3.5,
          3.5,
          4,
          3.5,
          4,
          4.5,
          2,
          2,
          3.5,
          4,
          5,
          4,
          3.5,
          4,
          4.5,
          3.5,
          4.5,
          4.5,
          3.5,
          4,
          4.5,
          4.5,
          2.5,
          4,
          4.5,
          4,
          4,
          3,
          3.5,
          2.5,
          4,
          4,
          4.5,
          4,
          4,
          4,
          3.5,
          3.5,
          3,
          3.5,
          3.5,
          4,
          5,
          4,
          3.5,
          5,
          4.5,
          3,
          4,
          4.5,
          4,
          4.5,
          4,
          4,
          4,
          4.5,
          4.5,
          3.5,
          4.5,
          4.5,
          4,
          4,
          3,
          3,
          3,
          5,
          3.5,
          4,
          3,
          3,
          3,
          2.5,
          3,
          3.5,
          2.5,
          3.5,
          3,
          5,
          4.5,
          4,
          5,
          4.5,
          4.5,
          4.5,
          5,
          4.5,
          3,
          3.5,
          5,
          4,
          4,
          2.5,
          1,
          2.5,
          2.5,
          3,
          4,
          3.5,
          4,
          4.5,
          4,
          4,
          4.5,
          3.5,
          4.5,
          4,
          4,
          4,
          4.5,
          2,
          3.5,
          4.5,
          4,
          5,
          4.5,
          4.5,
          4,
          4,
          3.5,
          5,
          4.5,
          5,
          4,
          4.5,
          3,
          4,
          4,
          3,
          4,
          4.5,
          3.5,
          4,
          4,
          4,
          5,
          2,
          2,
          3.5,
          3,
          3.5,
          4.5,
          4,
          4.5,
          4.5,
          4,
          4,
          3,
          4.5,
          4.5,
          3,
          4,
          4.5,
          4,
          3,
          2.5,
          1.5,
          2.5,
          2,
          4.5,
          1.5,
          3,
          3,
          3.5,
          3,
          3,
          3.5,
          3.5,
          3,
          3.5,
          2.5,
          4,
          3.5,
          4,
          4,
          4,
          3.5,
          3.5,
          4,
          4,
          4,
          4.5,
          4.5,
          4.5,
          3.5,
          3.5,
          3.5,
          3,
          4.5,
          3,
          4.5,
          4,
          2,
          2.5,
          4,
          4.5,
          3.5,
          3,
          3.5,
          4.5,
          4,
          4,
          4,
          4,
          4,
          3.5,
          3.5,
          4,
          4,
          2.5,
          4,
          4,
          3,
          4.5,
          4,
          5,
          4,
          3,
          4,
          3,
          2,
          4,
          4.5,
          2.5,
          4,
          3,
          3,
          5,
          5,
          3,
          4.5,
          3,
          3.5,
          3.5,
          5,
          4.5,
          3.5,
          2,
          3,
          2,
          4.5,
          3.5,
          4.5,
          4,
          4,
          4.5,
          4.5,
          3.5,
          2.5,
          3.5,
          4.5,
          4.5,
          3.5,
          4,
          4,
          3,
          3.5,
          3.5,
          4,
          4,
          4,
          3.5,
          4,
          4.5,
          3.5,
          3,
          4.5,
          4,
          4,
          4.5,
          4.5,
          4.5,
          3.5,
          2.5,
          4.5,
          3,
          4,
          3.5,
          4,
          4.5,
          4,
          4.5,
          4,
          5,
          4,
          3.5,
          4.5,
          4,
          5,
          4.5,
          3.5,
          3.5,
          4,
          4.5,
          4,
          2,
          4,
          3.5,
          4.5,
          4,
          5,
          4.5,
          3,
          4.5,
          3,
          4,
          4,
          5,
          4.5,
          3,
          5,
          4,
          5,
          4.5,
          3.5,
          4.5,
          2.5,
          3,
          4,
          3.5,
          4.5,
          4,
          2,
          4,
          2,
          2.5,
          4,
          2.5,
          1.5,
          4,
          4,
          4.5,
          5,
          4,
          4,
          3,
          3,
          4,
          3.5,
          4.5,
          3,
          4,
          3.5,
          4,
          3.5,
          4,
          4,
          5,
          4,
          4,
          4.5,
          4.5,
          3,
          5,
          5,
          4,
          5,
          4.5,
          3.5,
          5,
          4,
          4.5,
          3,
          2.5,
          3,
          3,
          3.5,
          4,
          2.5,
          2,
          4.5,
          2.5,
          4,
          4,
          2,
          3,
          4.5,
          4.5,
          4.5,
          3.5,
          4.5,
          2.5,
          5,
          4,
          4.5,
          2.5,
          4,
          3.5,
          3.5,
          3,
          3,
          4,
          3,
          3,
          4,
          4.5,
          4.5,
          4.5,
          5,
          4.5,
          4.5,
          4.5,
          1.5,
          5,
          4.5,
          5,
          4,
          4,
          4.5,
          5,
          3.5,
          4,
          5,
          4.5,
          4.5,
          4,
          4,
          5,
          5,
          5,
          4,
          4.5
         ],
         "xaxis": "x",
         "yaxis": "y"
        },
        {
         "name": "Wisconsin",
         "type": "histogram",
         "x": [
          4,
          3.5,
          4,
          4,
          4.5,
          4.5,
          3,
          4,
          4.5,
          4.5,
          3,
          4,
          4,
          3.5,
          3.5,
          5,
          2.5,
          4,
          3.5,
          4.5,
          4.5,
          3,
          4,
          3,
          3.5,
          3.5,
          4,
          3.5,
          4.5,
          4,
          3,
          1,
          4.5,
          3.5,
          4,
          3,
          4.5,
          4,
          2.5,
          3,
          4.5,
          3.5,
          3.5,
          4,
          4.5,
          5,
          3.5,
          3.5,
          4,
          3.5,
          3.5,
          5,
          4,
          4.5,
          5,
          4.5,
          4.5,
          4.5,
          3.5,
          3,
          4.5,
          3,
          4,
          4.5,
          4,
          4.5,
          3,
          4.5,
          4.5,
          3,
          5,
          3.5,
          3,
          4.5,
          3,
          1.5,
          3.5,
          4
         ],
         "xaxis": "x2",
         "yaxis": "y2"
        }
       ],
       "layout": {
        "template": {
         "data": {
          "bar": [
           {
            "error_x": {
             "color": "#2a3f5f"
            },
            "error_y": {
             "color": "#2a3f5f"
            },
            "marker": {
             "line": {
              "color": "#E5ECF6",
              "width": 0.5
             },
             "pattern": {
              "fillmode": "overlay",
              "size": 10,
              "solidity": 0.2
             }
            },
            "type": "bar"
           }
          ],
          "barpolar": [
           {
            "marker": {
             "line": {
              "color": "#E5ECF6",
              "width": 0.5
             },
             "pattern": {
              "fillmode": "overlay",
              "size": 10,
              "solidity": 0.2
             }
            },
            "type": "barpolar"
           }
          ],
          "carpet": [
           {
            "aaxis": {
             "endlinecolor": "#2a3f5f",
             "gridcolor": "white",
             "linecolor": "white",
             "minorgridcolor": "white",
             "startlinecolor": "#2a3f5f"
            },
            "baxis": {
             "endlinecolor": "#2a3f5f",
             "gridcolor": "white",
             "linecolor": "white",
             "minorgridcolor": "white",
             "startlinecolor": "#2a3f5f"
            },
            "type": "carpet"
           }
          ],
          "choropleth": [
           {
            "colorbar": {
             "outlinewidth": 0,
             "ticks": ""
            },
            "type": "choropleth"
           }
          ],
          "contour": [
           {
            "colorbar": {
             "outlinewidth": 0,
             "ticks": ""
            },
            "colorscale": [
             [
              0,
              "#0d0887"
             ],
             [
              0.1111111111111111,
              "#46039f"
             ],
             [
              0.2222222222222222,
              "#7201a8"
             ],
             [
              0.3333333333333333,
              "#9c179e"
             ],
             [
              0.4444444444444444,
              "#bd3786"
             ],
             [
              0.5555555555555556,
              "#d8576b"
             ],
             [
              0.6666666666666666,
              "#ed7953"
             ],
             [
              0.7777777777777778,
              "#fb9f3a"
             ],
             [
              0.8888888888888888,
              "#fdca26"
             ],
             [
              1,
              "#f0f921"
             ]
            ],
            "type": "contour"
           }
          ],
          "contourcarpet": [
           {
            "colorbar": {
             "outlinewidth": 0,
             "ticks": ""
            },
            "type": "contourcarpet"
           }
          ],
          "heatmap": [
           {
            "colorbar": {
             "outlinewidth": 0,
             "ticks": ""
            },
            "colorscale": [
             [
              0,
              "#0d0887"
             ],
             [
              0.1111111111111111,
              "#46039f"
             ],
             [
              0.2222222222222222,
              "#7201a8"
             ],
             [
              0.3333333333333333,
              "#9c179e"
             ],
             [
              0.4444444444444444,
              "#bd3786"
             ],
             [
              0.5555555555555556,
              "#d8576b"
             ],
             [
              0.6666666666666666,
              "#ed7953"
             ],
             [
              0.7777777777777778,
              "#fb9f3a"
             ],
             [
              0.8888888888888888,
              "#fdca26"
             ],
             [
              1,
              "#f0f921"
             ]
            ],
            "type": "heatmap"
           }
          ],
          "heatmapgl": [
           {
            "colorbar": {
             "outlinewidth": 0,
             "ticks": ""
            },
            "colorscale": [
             [
              0,
              "#0d0887"
             ],
             [
              0.1111111111111111,
              "#46039f"
             ],
             [
              0.2222222222222222,
              "#7201a8"
             ],
             [
              0.3333333333333333,
              "#9c179e"
             ],
             [
              0.4444444444444444,
              "#bd3786"
             ],
             [
              0.5555555555555556,
              "#d8576b"
             ],
             [
              0.6666666666666666,
              "#ed7953"
             ],
             [
              0.7777777777777778,
              "#fb9f3a"
             ],
             [
              0.8888888888888888,
              "#fdca26"
             ],
             [
              1,
              "#f0f921"
             ]
            ],
            "type": "heatmapgl"
           }
          ],
          "histogram": [
           {
            "marker": {
             "pattern": {
              "fillmode": "overlay",
              "size": 10,
              "solidity": 0.2
             }
            },
            "type": "histogram"
           }
          ],
          "histogram2d": [
           {
            "colorbar": {
             "outlinewidth": 0,
             "ticks": ""
            },
            "colorscale": [
             [
              0,
              "#0d0887"
             ],
             [
              0.1111111111111111,
              "#46039f"
             ],
             [
              0.2222222222222222,
              "#7201a8"
             ],
             [
              0.3333333333333333,
              "#9c179e"
             ],
             [
              0.4444444444444444,
              "#bd3786"
             ],
             [
              0.5555555555555556,
              "#d8576b"
             ],
             [
              0.6666666666666666,
              "#ed7953"
             ],
             [
              0.7777777777777778,
              "#fb9f3a"
             ],
             [
              0.8888888888888888,
              "#fdca26"
             ],
             [
              1,
              "#f0f921"
             ]
            ],
            "type": "histogram2d"
           }
          ],
          "histogram2dcontour": [
           {
            "colorbar": {
             "outlinewidth": 0,
             "ticks": ""
            },
            "colorscale": [
             [
              0,
              "#0d0887"
             ],
             [
              0.1111111111111111,
              "#46039f"
             ],
             [
              0.2222222222222222,
              "#7201a8"
             ],
             [
              0.3333333333333333,
              "#9c179e"
             ],
             [
              0.4444444444444444,
              "#bd3786"
             ],
             [
              0.5555555555555556,
              "#d8576b"
             ],
             [
              0.6666666666666666,
              "#ed7953"
             ],
             [
              0.7777777777777778,
              "#fb9f3a"
             ],
             [
              0.8888888888888888,
              "#fdca26"
             ],
             [
              1,
              "#f0f921"
             ]
            ],
            "type": "histogram2dcontour"
           }
          ],
          "mesh3d": [
           {
            "colorbar": {
             "outlinewidth": 0,
             "ticks": ""
            },
            "type": "mesh3d"
           }
          ],
          "parcoords": [
           {
            "line": {
             "colorbar": {
              "outlinewidth": 0,
              "ticks": ""
             }
            },
            "type": "parcoords"
           }
          ],
          "pie": [
           {
            "automargin": true,
            "type": "pie"
           }
          ],
          "scatter": [
           {
            "fillpattern": {
             "fillmode": "overlay",
             "size": 10,
             "solidity": 0.2
            },
            "type": "scatter"
           }
          ],
          "scatter3d": [
           {
            "line": {
             "colorbar": {
              "outlinewidth": 0,
              "ticks": ""
             }
            },
            "marker": {
             "colorbar": {
              "outlinewidth": 0,
              "ticks": ""
             }
            },
            "type": "scatter3d"
           }
          ],
          "scattercarpet": [
           {
            "marker": {
             "colorbar": {
              "outlinewidth": 0,
              "ticks": ""
             }
            },
            "type": "scattercarpet"
           }
          ],
          "scattergeo": [
           {
            "marker": {
             "colorbar": {
              "outlinewidth": 0,
              "ticks": ""
             }
            },
            "type": "scattergeo"
           }
          ],
          "scattergl": [
           {
            "marker": {
             "colorbar": {
              "outlinewidth": 0,
              "ticks": ""
             }
            },
            "type": "scattergl"
           }
          ],
          "scattermapbox": [
           {
            "marker": {
             "colorbar": {
              "outlinewidth": 0,
              "ticks": ""
             }
            },
            "type": "scattermapbox"
           }
          ],
          "scatterpolar": [
           {
            "marker": {
             "colorbar": {
              "outlinewidth": 0,
              "ticks": ""
             }
            },
            "type": "scatterpolar"
           }
          ],
          "scatterpolargl": [
           {
            "marker": {
             "colorbar": {
              "outlinewidth": 0,
              "ticks": ""
             }
            },
            "type": "scatterpolargl"
           }
          ],
          "scatterternary": [
           {
            "marker": {
             "colorbar": {
              "outlinewidth": 0,
              "ticks": ""
             }
            },
            "type": "scatterternary"
           }
          ],
          "surface": [
           {
            "colorbar": {
             "outlinewidth": 0,
             "ticks": ""
            },
            "colorscale": [
             [
              0,
              "#0d0887"
             ],
             [
              0.1111111111111111,
              "#46039f"
             ],
             [
              0.2222222222222222,
              "#7201a8"
             ],
             [
              0.3333333333333333,
              "#9c179e"
             ],
             [
              0.4444444444444444,
              "#bd3786"
             ],
             [
              0.5555555555555556,
              "#d8576b"
             ],
             [
              0.6666666666666666,
              "#ed7953"
             ],
             [
              0.7777777777777778,
              "#fb9f3a"
             ],
             [
              0.8888888888888888,
              "#fdca26"
             ],
             [
              1,
              "#f0f921"
             ]
            ],
            "type": "surface"
           }
          ],
          "table": [
           {
            "cells": {
             "fill": {
              "color": "#EBF0F8"
             },
             "line": {
              "color": "white"
             }
            },
            "header": {
             "fill": {
              "color": "#C8D4E3"
             },
             "line": {
              "color": "white"
             }
            },
            "type": "table"
           }
          ]
         },
         "layout": {
          "annotationdefaults": {
           "arrowcolor": "#2a3f5f",
           "arrowhead": 0,
           "arrowwidth": 1
          },
          "autotypenumbers": "strict",
          "coloraxis": {
           "colorbar": {
            "outlinewidth": 0,
            "ticks": ""
           }
          },
          "colorscale": {
           "diverging": [
            [
             0,
             "#8e0152"
            ],
            [
             0.1,
             "#c51b7d"
            ],
            [
             0.2,
             "#de77ae"
            ],
            [
             0.3,
             "#f1b6da"
            ],
            [
             0.4,
             "#fde0ef"
            ],
            [
             0.5,
             "#f7f7f7"
            ],
            [
             0.6,
             "#e6f5d0"
            ],
            [
             0.7,
             "#b8e186"
            ],
            [
             0.8,
             "#7fbc41"
            ],
            [
             0.9,
             "#4d9221"
            ],
            [
             1,
             "#276419"
            ]
           ],
           "sequential": [
            [
             0,
             "#0d0887"
            ],
            [
             0.1111111111111111,
             "#46039f"
            ],
            [
             0.2222222222222222,
             "#7201a8"
            ],
            [
             0.3333333333333333,
             "#9c179e"
            ],
            [
             0.4444444444444444,
             "#bd3786"
            ],
            [
             0.5555555555555556,
             "#d8576b"
            ],
            [
             0.6666666666666666,
             "#ed7953"
            ],
            [
             0.7777777777777778,
             "#fb9f3a"
            ],
            [
             0.8888888888888888,
             "#fdca26"
            ],
            [
             1,
             "#f0f921"
            ]
           ],
           "sequentialminus": [
            [
             0,
             "#0d0887"
            ],
            [
             0.1111111111111111,
             "#46039f"
            ],
            [
             0.2222222222222222,
             "#7201a8"
            ],
            [
             0.3333333333333333,
             "#9c179e"
            ],
            [
             0.4444444444444444,
             "#bd3786"
            ],
            [
             0.5555555555555556,
             "#d8576b"
            ],
            [
             0.6666666666666666,
             "#ed7953"
            ],
            [
             0.7777777777777778,
             "#fb9f3a"
            ],
            [
             0.8888888888888888,
             "#fdca26"
            ],
            [
             1,
             "#f0f921"
            ]
           ]
          },
          "colorway": [
           "#636efa",
           "#EF553B",
           "#00cc96",
           "#ab63fa",
           "#FFA15A",
           "#19d3f3",
           "#FF6692",
           "#B6E880",
           "#FF97FF",
           "#FECB52"
          ],
          "font": {
           "color": "#2a3f5f"
          },
          "geo": {
           "bgcolor": "white",
           "lakecolor": "white",
           "landcolor": "#E5ECF6",
           "showlakes": true,
           "showland": true,
           "subunitcolor": "white"
          },
          "hoverlabel": {
           "align": "left"
          },
          "hovermode": "closest",
          "mapbox": {
           "style": "light"
          },
          "paper_bgcolor": "white",
          "plot_bgcolor": "#E5ECF6",
          "polar": {
           "angularaxis": {
            "gridcolor": "white",
            "linecolor": "white",
            "ticks": ""
           },
           "bgcolor": "#E5ECF6",
           "radialaxis": {
            "gridcolor": "white",
            "linecolor": "white",
            "ticks": ""
           }
          },
          "scene": {
           "xaxis": {
            "backgroundcolor": "#E5ECF6",
            "gridcolor": "white",
            "gridwidth": 2,
            "linecolor": "white",
            "showbackground": true,
            "ticks": "",
            "zerolinecolor": "white"
           },
           "yaxis": {
            "backgroundcolor": "#E5ECF6",
            "gridcolor": "white",
            "gridwidth": 2,
            "linecolor": "white",
            "showbackground": true,
            "ticks": "",
            "zerolinecolor": "white"
           },
           "zaxis": {
            "backgroundcolor": "#E5ECF6",
            "gridcolor": "white",
            "gridwidth": 2,
            "linecolor": "white",
            "showbackground": true,
            "ticks": "",
            "zerolinecolor": "white"
           }
          },
          "shapedefaults": {
           "line": {
            "color": "#2a3f5f"
           }
          },
          "ternary": {
           "aaxis": {
            "gridcolor": "white",
            "linecolor": "white",
            "ticks": ""
           },
           "baxis": {
            "gridcolor": "white",
            "linecolor": "white",
            "ticks": ""
           },
           "bgcolor": "#E5ECF6",
           "caxis": {
            "gridcolor": "white",
            "linecolor": "white",
            "ticks": ""
           }
          },
          "title": {
           "x": 0.05
          },
          "xaxis": {
           "automargin": true,
           "gridcolor": "white",
           "linecolor": "white",
           "ticks": "",
           "title": {
            "standoff": 15
           },
           "zerolinecolor": "white",
           "zerolinewidth": 2
          },
          "yaxis": {
           "automargin": true,
           "gridcolor": "white",
           "linecolor": "white",
           "ticks": "",
           "title": {
            "standoff": 15
           },
           "zerolinecolor": "white",
           "zerolinewidth": 2
          }
         }
        },
        "title": {
         "text": "Histogram Comparison of Ratings of Ice Cream Stores in Wisconsin and Arizona"
        },
        "xaxis": {
         "anchor": "y",
         "domain": [
          0,
          0.45
         ],
         "title": {
          "text": "Stars"
         }
        },
        "xaxis2": {
         "anchor": "y2",
         "domain": [
          0.55,
          1
         ],
         "title": {
          "text": "Stars"
         }
        },
        "yaxis": {
         "anchor": "x",
         "domain": [
          0,
          1
         ]
        },
        "yaxis2": {
         "anchor": "x2",
         "domain": [
          0,
          1
         ]
        }
       }
      }
     },
     "metadata": {},
     "output_type": "display_data"
    }
   ],
   "source": [
    "fig = make_subplots(rows=1, cols=2)\n",
    "fig.add_trace(go.Histogram(x=dataaz[\"stars\"], name = \"Arizona\"), row=1, col=1)\n",
    "fig.add_trace(go.Histogram(x = datawi[\"stars\"], name = \"Wisconsin\"), row=1, col=2)\n",
    "\n",
    "fig.update_xaxes(title=\"Stars\", row=1, col=1)\n",
    "fig.update_xaxes(title=\"Stars\", row=1, col=2)\n",
    "\n",
    "fig.update_layout(title_text=\"Histogram Comparison of Ratings of Ice Cream Stores in Wisconsin and Arizona\")\n",
    "\n",
    "fig.show()"
   ]
  },
  {
   "cell_type": "code",
   "execution_count": 19,
   "metadata": {},
   "outputs": [
    {
     "data": {
      "application/vnd.plotly.v1+json": {
       "config": {
        "plotlyServerURL": "https://plot.ly"
       },
       "data": [
        {
         "name": "Wisconsin",
         "type": "box",
         "x": [
          4,
          3.5,
          4,
          4,
          4.5,
          4.5,
          3,
          4,
          4.5,
          4.5,
          3,
          4,
          4,
          3.5,
          3.5,
          5,
          2.5,
          4,
          3.5,
          4.5,
          4.5,
          3,
          4,
          3,
          3.5,
          3.5,
          4,
          3.5,
          4.5,
          4,
          3,
          1,
          4.5,
          3.5,
          4,
          3,
          4.5,
          4,
          2.5,
          3,
          4.5,
          3.5,
          3.5,
          4,
          4.5,
          5,
          3.5,
          3.5,
          4,
          3.5,
          3.5,
          5,
          4,
          4.5,
          5,
          4.5,
          4.5,
          4.5,
          3.5,
          3,
          4.5,
          3,
          4,
          4.5,
          4,
          4.5,
          3,
          4.5,
          4.5,
          3,
          5,
          3.5,
          3,
          4.5,
          3,
          1.5,
          3.5,
          4
         ],
         "xaxis": "x",
         "yaxis": "y"
        },
        {
         "name": "Arizona",
         "type": "box",
         "x": [
          4,
          2.5,
          5,
          4,
          4,
          4.5,
          3,
          4.5,
          3.5,
          4.5,
          4.5,
          3.5,
          3,
          4.5,
          3.5,
          4,
          3.5,
          3.5,
          3,
          3.5,
          3,
          5,
          4,
          3,
          4.5,
          4,
          5,
          4,
          4,
          4,
          2.5,
          4.5,
          4.5,
          3.5,
          4.5,
          4,
          3.5,
          4,
          4.5,
          3.5,
          2.5,
          5,
          3.5,
          4,
          3.5,
          3.5,
          3,
          4,
          4.5,
          4,
          3,
          3.5,
          4.5,
          4.5,
          4,
          4,
          4.5,
          3.5,
          3.5,
          4,
          3,
          1,
          5,
          5,
          4.5,
          4,
          4.5,
          4.5,
          3.5,
          4,
          3,
          4.5,
          4,
          4.5,
          4.5,
          3.5,
          4.5,
          4,
          4,
          4.5,
          4,
          5,
          4.5,
          4.5,
          4,
          4.5,
          4.5,
          5,
          4,
          4,
          4,
          5,
          5,
          3,
          3.5,
          3.5,
          2.5,
          3,
          3.5,
          4,
          2.5,
          3.5,
          2.5,
          2.5,
          3,
          3,
          4,
          3,
          3,
          2,
          2.5,
          4,
          5,
          4,
          3.5,
          4,
          5,
          4.5,
          3.5,
          3.5,
          4.5,
          4,
          3.5,
          4.5,
          3.5,
          5,
          4,
          5,
          4,
          5,
          5,
          4.5,
          3,
          3.5,
          3,
          1.5,
          4.5,
          4.5,
          4.5,
          4.5,
          2.5,
          2,
          4.5,
          3.5,
          5,
          4,
          4,
          4,
          4,
          3.5,
          1.5,
          2,
          3,
          3.5,
          4.5,
          4,
          4,
          4.5,
          4.5,
          2.5,
          3,
          3,
          1.5,
          5,
          2.5,
          4,
          4,
          3,
          3.5,
          3,
          3,
          4,
          2.5,
          2,
          4.5,
          2.5,
          2.5,
          2,
          3.5,
          3,
          2,
          3.5,
          4.5,
          2,
          3,
          4,
          4,
          3,
          4.5,
          4,
          3.5,
          4.5,
          3.5,
          5,
          4,
          4,
          3,
          3.5,
          1,
          4.5,
          4,
          3.5,
          3.5,
          4,
          4.5,
          4,
          3.5,
          3.5,
          4.5,
          4,
          3.5,
          3.5,
          4,
          3.5,
          3.5,
          1.5,
          3.5,
          3.5,
          3.5,
          5,
          3,
          4,
          3.5,
          3.5,
          4,
          3.5,
          4,
          4.5,
          2,
          2,
          3.5,
          4,
          5,
          4,
          3.5,
          4,
          4.5,
          3.5,
          4.5,
          4.5,
          3.5,
          4,
          4.5,
          4.5,
          2.5,
          4,
          4.5,
          4,
          4,
          3,
          3.5,
          2.5,
          4,
          4,
          4.5,
          4,
          4,
          4,
          3.5,
          3.5,
          3,
          3.5,
          3.5,
          4,
          5,
          4,
          3.5,
          5,
          4.5,
          3,
          4,
          4.5,
          4,
          4.5,
          4,
          4,
          4,
          4.5,
          4.5,
          3.5,
          4.5,
          4.5,
          4,
          4,
          3,
          3,
          3,
          5,
          3.5,
          4,
          3,
          3,
          3,
          2.5,
          3,
          3.5,
          2.5,
          3.5,
          3,
          5,
          4.5,
          4,
          5,
          4.5,
          4.5,
          4.5,
          5,
          4.5,
          3,
          3.5,
          5,
          4,
          4,
          2.5,
          1,
          2.5,
          2.5,
          3,
          4,
          3.5,
          4,
          4.5,
          4,
          4,
          4.5,
          3.5,
          4.5,
          4,
          4,
          4,
          4.5,
          2,
          3.5,
          4.5,
          4,
          5,
          4.5,
          4.5,
          4,
          4,
          3.5,
          5,
          4.5,
          5,
          4,
          4.5,
          3,
          4,
          4,
          3,
          4,
          4.5,
          3.5,
          4,
          4,
          4,
          5,
          2,
          2,
          3.5,
          3,
          3.5,
          4.5,
          4,
          4.5,
          4.5,
          4,
          4,
          3,
          4.5,
          4.5,
          3,
          4,
          4.5,
          4,
          3,
          2.5,
          1.5,
          2.5,
          2,
          4.5,
          1.5,
          3,
          3,
          3.5,
          3,
          3,
          3.5,
          3.5,
          3,
          3.5,
          2.5,
          4,
          3.5,
          4,
          4,
          4,
          3.5,
          3.5,
          4,
          4,
          4,
          4.5,
          4.5,
          4.5,
          3.5,
          3.5,
          3.5,
          3,
          4.5,
          3,
          4.5,
          4,
          2,
          2.5,
          4,
          4.5,
          3.5,
          3,
          3.5,
          4.5,
          4,
          4,
          4,
          4,
          4,
          3.5,
          3.5,
          4,
          4,
          2.5,
          4,
          4,
          3,
          4.5,
          4,
          5,
          4,
          3,
          4,
          3,
          2,
          4,
          4.5,
          2.5,
          4,
          3,
          3,
          5,
          5,
          3,
          4.5,
          3,
          3.5,
          3.5,
          5,
          4.5,
          3.5,
          2,
          3,
          2,
          4.5,
          3.5,
          4.5,
          4,
          4,
          4.5,
          4.5,
          3.5,
          2.5,
          3.5,
          4.5,
          4.5,
          3.5,
          4,
          4,
          3,
          3.5,
          3.5,
          4,
          4,
          4,
          3.5,
          4,
          4.5,
          3.5,
          3,
          4.5,
          4,
          4,
          4.5,
          4.5,
          4.5,
          3.5,
          2.5,
          4.5,
          3,
          4,
          3.5,
          4,
          4.5,
          4,
          4.5,
          4,
          5,
          4,
          3.5,
          4.5,
          4,
          5,
          4.5,
          3.5,
          3.5,
          4,
          4.5,
          4,
          2,
          4,
          3.5,
          4.5,
          4,
          5,
          4.5,
          3,
          4.5,
          3,
          4,
          4,
          5,
          4.5,
          3,
          5,
          4,
          5,
          4.5,
          3.5,
          4.5,
          2.5,
          3,
          4,
          3.5,
          4.5,
          4,
          2,
          4,
          2,
          2.5,
          4,
          2.5,
          1.5,
          4,
          4,
          4.5,
          5,
          4,
          4,
          3,
          3,
          4,
          3.5,
          4.5,
          3,
          4,
          3.5,
          4,
          3.5,
          4,
          4,
          5,
          4,
          4,
          4.5,
          4.5,
          3,
          5,
          5,
          4,
          5,
          4.5,
          3.5,
          5,
          4,
          4.5,
          3,
          2.5,
          3,
          3,
          3.5,
          4,
          2.5,
          2,
          4.5,
          2.5,
          4,
          4,
          2,
          3,
          4.5,
          4.5,
          4.5,
          3.5,
          4.5,
          2.5,
          5,
          4,
          4.5,
          2.5,
          4,
          3.5,
          3.5,
          3,
          3,
          4,
          3,
          3,
          4,
          4.5,
          4.5,
          4.5,
          5,
          4.5,
          4.5,
          4.5,
          1.5,
          5,
          4.5,
          5,
          4,
          4,
          4.5,
          5,
          3.5,
          4,
          5,
          4.5,
          4.5,
          4,
          4,
          5,
          5,
          5,
          4,
          4.5
         ],
         "xaxis": "x",
         "yaxis": "y"
        }
       ],
       "layout": {
        "template": {
         "data": {
          "bar": [
           {
            "error_x": {
             "color": "#2a3f5f"
            },
            "error_y": {
             "color": "#2a3f5f"
            },
            "marker": {
             "line": {
              "color": "#E5ECF6",
              "width": 0.5
             },
             "pattern": {
              "fillmode": "overlay",
              "size": 10,
              "solidity": 0.2
             }
            },
            "type": "bar"
           }
          ],
          "barpolar": [
           {
            "marker": {
             "line": {
              "color": "#E5ECF6",
              "width": 0.5
             },
             "pattern": {
              "fillmode": "overlay",
              "size": 10,
              "solidity": 0.2
             }
            },
            "type": "barpolar"
           }
          ],
          "carpet": [
           {
            "aaxis": {
             "endlinecolor": "#2a3f5f",
             "gridcolor": "white",
             "linecolor": "white",
             "minorgridcolor": "white",
             "startlinecolor": "#2a3f5f"
            },
            "baxis": {
             "endlinecolor": "#2a3f5f",
             "gridcolor": "white",
             "linecolor": "white",
             "minorgridcolor": "white",
             "startlinecolor": "#2a3f5f"
            },
            "type": "carpet"
           }
          ],
          "choropleth": [
           {
            "colorbar": {
             "outlinewidth": 0,
             "ticks": ""
            },
            "type": "choropleth"
           }
          ],
          "contour": [
           {
            "colorbar": {
             "outlinewidth": 0,
             "ticks": ""
            },
            "colorscale": [
             [
              0,
              "#0d0887"
             ],
             [
              0.1111111111111111,
              "#46039f"
             ],
             [
              0.2222222222222222,
              "#7201a8"
             ],
             [
              0.3333333333333333,
              "#9c179e"
             ],
             [
              0.4444444444444444,
              "#bd3786"
             ],
             [
              0.5555555555555556,
              "#d8576b"
             ],
             [
              0.6666666666666666,
              "#ed7953"
             ],
             [
              0.7777777777777778,
              "#fb9f3a"
             ],
             [
              0.8888888888888888,
              "#fdca26"
             ],
             [
              1,
              "#f0f921"
             ]
            ],
            "type": "contour"
           }
          ],
          "contourcarpet": [
           {
            "colorbar": {
             "outlinewidth": 0,
             "ticks": ""
            },
            "type": "contourcarpet"
           }
          ],
          "heatmap": [
           {
            "colorbar": {
             "outlinewidth": 0,
             "ticks": ""
            },
            "colorscale": [
             [
              0,
              "#0d0887"
             ],
             [
              0.1111111111111111,
              "#46039f"
             ],
             [
              0.2222222222222222,
              "#7201a8"
             ],
             [
              0.3333333333333333,
              "#9c179e"
             ],
             [
              0.4444444444444444,
              "#bd3786"
             ],
             [
              0.5555555555555556,
              "#d8576b"
             ],
             [
              0.6666666666666666,
              "#ed7953"
             ],
             [
              0.7777777777777778,
              "#fb9f3a"
             ],
             [
              0.8888888888888888,
              "#fdca26"
             ],
             [
              1,
              "#f0f921"
             ]
            ],
            "type": "heatmap"
           }
          ],
          "heatmapgl": [
           {
            "colorbar": {
             "outlinewidth": 0,
             "ticks": ""
            },
            "colorscale": [
             [
              0,
              "#0d0887"
             ],
             [
              0.1111111111111111,
              "#46039f"
             ],
             [
              0.2222222222222222,
              "#7201a8"
             ],
             [
              0.3333333333333333,
              "#9c179e"
             ],
             [
              0.4444444444444444,
              "#bd3786"
             ],
             [
              0.5555555555555556,
              "#d8576b"
             ],
             [
              0.6666666666666666,
              "#ed7953"
             ],
             [
              0.7777777777777778,
              "#fb9f3a"
             ],
             [
              0.8888888888888888,
              "#fdca26"
             ],
             [
              1,
              "#f0f921"
             ]
            ],
            "type": "heatmapgl"
           }
          ],
          "histogram": [
           {
            "marker": {
             "pattern": {
              "fillmode": "overlay",
              "size": 10,
              "solidity": 0.2
             }
            },
            "type": "histogram"
           }
          ],
          "histogram2d": [
           {
            "colorbar": {
             "outlinewidth": 0,
             "ticks": ""
            },
            "colorscale": [
             [
              0,
              "#0d0887"
             ],
             [
              0.1111111111111111,
              "#46039f"
             ],
             [
              0.2222222222222222,
              "#7201a8"
             ],
             [
              0.3333333333333333,
              "#9c179e"
             ],
             [
              0.4444444444444444,
              "#bd3786"
             ],
             [
              0.5555555555555556,
              "#d8576b"
             ],
             [
              0.6666666666666666,
              "#ed7953"
             ],
             [
              0.7777777777777778,
              "#fb9f3a"
             ],
             [
              0.8888888888888888,
              "#fdca26"
             ],
             [
              1,
              "#f0f921"
             ]
            ],
            "type": "histogram2d"
           }
          ],
          "histogram2dcontour": [
           {
            "colorbar": {
             "outlinewidth": 0,
             "ticks": ""
            },
            "colorscale": [
             [
              0,
              "#0d0887"
             ],
             [
              0.1111111111111111,
              "#46039f"
             ],
             [
              0.2222222222222222,
              "#7201a8"
             ],
             [
              0.3333333333333333,
              "#9c179e"
             ],
             [
              0.4444444444444444,
              "#bd3786"
             ],
             [
              0.5555555555555556,
              "#d8576b"
             ],
             [
              0.6666666666666666,
              "#ed7953"
             ],
             [
              0.7777777777777778,
              "#fb9f3a"
             ],
             [
              0.8888888888888888,
              "#fdca26"
             ],
             [
              1,
              "#f0f921"
             ]
            ],
            "type": "histogram2dcontour"
           }
          ],
          "mesh3d": [
           {
            "colorbar": {
             "outlinewidth": 0,
             "ticks": ""
            },
            "type": "mesh3d"
           }
          ],
          "parcoords": [
           {
            "line": {
             "colorbar": {
              "outlinewidth": 0,
              "ticks": ""
             }
            },
            "type": "parcoords"
           }
          ],
          "pie": [
           {
            "automargin": true,
            "type": "pie"
           }
          ],
          "scatter": [
           {
            "fillpattern": {
             "fillmode": "overlay",
             "size": 10,
             "solidity": 0.2
            },
            "type": "scatter"
           }
          ],
          "scatter3d": [
           {
            "line": {
             "colorbar": {
              "outlinewidth": 0,
              "ticks": ""
             }
            },
            "marker": {
             "colorbar": {
              "outlinewidth": 0,
              "ticks": ""
             }
            },
            "type": "scatter3d"
           }
          ],
          "scattercarpet": [
           {
            "marker": {
             "colorbar": {
              "outlinewidth": 0,
              "ticks": ""
             }
            },
            "type": "scattercarpet"
           }
          ],
          "scattergeo": [
           {
            "marker": {
             "colorbar": {
              "outlinewidth": 0,
              "ticks": ""
             }
            },
            "type": "scattergeo"
           }
          ],
          "scattergl": [
           {
            "marker": {
             "colorbar": {
              "outlinewidth": 0,
              "ticks": ""
             }
            },
            "type": "scattergl"
           }
          ],
          "scattermapbox": [
           {
            "marker": {
             "colorbar": {
              "outlinewidth": 0,
              "ticks": ""
             }
            },
            "type": "scattermapbox"
           }
          ],
          "scatterpolar": [
           {
            "marker": {
             "colorbar": {
              "outlinewidth": 0,
              "ticks": ""
             }
            },
            "type": "scatterpolar"
           }
          ],
          "scatterpolargl": [
           {
            "marker": {
             "colorbar": {
              "outlinewidth": 0,
              "ticks": ""
             }
            },
            "type": "scatterpolargl"
           }
          ],
          "scatterternary": [
           {
            "marker": {
             "colorbar": {
              "outlinewidth": 0,
              "ticks": ""
             }
            },
            "type": "scatterternary"
           }
          ],
          "surface": [
           {
            "colorbar": {
             "outlinewidth": 0,
             "ticks": ""
            },
            "colorscale": [
             [
              0,
              "#0d0887"
             ],
             [
              0.1111111111111111,
              "#46039f"
             ],
             [
              0.2222222222222222,
              "#7201a8"
             ],
             [
              0.3333333333333333,
              "#9c179e"
             ],
             [
              0.4444444444444444,
              "#bd3786"
             ],
             [
              0.5555555555555556,
              "#d8576b"
             ],
             [
              0.6666666666666666,
              "#ed7953"
             ],
             [
              0.7777777777777778,
              "#fb9f3a"
             ],
             [
              0.8888888888888888,
              "#fdca26"
             ],
             [
              1,
              "#f0f921"
             ]
            ],
            "type": "surface"
           }
          ],
          "table": [
           {
            "cells": {
             "fill": {
              "color": "#EBF0F8"
             },
             "line": {
              "color": "white"
             }
            },
            "header": {
             "fill": {
              "color": "#C8D4E3"
             },
             "line": {
              "color": "white"
             }
            },
            "type": "table"
           }
          ]
         },
         "layout": {
          "annotationdefaults": {
           "arrowcolor": "#2a3f5f",
           "arrowhead": 0,
           "arrowwidth": 1
          },
          "autotypenumbers": "strict",
          "coloraxis": {
           "colorbar": {
            "outlinewidth": 0,
            "ticks": ""
           }
          },
          "colorscale": {
           "diverging": [
            [
             0,
             "#8e0152"
            ],
            [
             0.1,
             "#c51b7d"
            ],
            [
             0.2,
             "#de77ae"
            ],
            [
             0.3,
             "#f1b6da"
            ],
            [
             0.4,
             "#fde0ef"
            ],
            [
             0.5,
             "#f7f7f7"
            ],
            [
             0.6,
             "#e6f5d0"
            ],
            [
             0.7,
             "#b8e186"
            ],
            [
             0.8,
             "#7fbc41"
            ],
            [
             0.9,
             "#4d9221"
            ],
            [
             1,
             "#276419"
            ]
           ],
           "sequential": [
            [
             0,
             "#0d0887"
            ],
            [
             0.1111111111111111,
             "#46039f"
            ],
            [
             0.2222222222222222,
             "#7201a8"
            ],
            [
             0.3333333333333333,
             "#9c179e"
            ],
            [
             0.4444444444444444,
             "#bd3786"
            ],
            [
             0.5555555555555556,
             "#d8576b"
            ],
            [
             0.6666666666666666,
             "#ed7953"
            ],
            [
             0.7777777777777778,
             "#fb9f3a"
            ],
            [
             0.8888888888888888,
             "#fdca26"
            ],
            [
             1,
             "#f0f921"
            ]
           ],
           "sequentialminus": [
            [
             0,
             "#0d0887"
            ],
            [
             0.1111111111111111,
             "#46039f"
            ],
            [
             0.2222222222222222,
             "#7201a8"
            ],
            [
             0.3333333333333333,
             "#9c179e"
            ],
            [
             0.4444444444444444,
             "#bd3786"
            ],
            [
             0.5555555555555556,
             "#d8576b"
            ],
            [
             0.6666666666666666,
             "#ed7953"
            ],
            [
             0.7777777777777778,
             "#fb9f3a"
            ],
            [
             0.8888888888888888,
             "#fdca26"
            ],
            [
             1,
             "#f0f921"
            ]
           ]
          },
          "colorway": [
           "#636efa",
           "#EF553B",
           "#00cc96",
           "#ab63fa",
           "#FFA15A",
           "#19d3f3",
           "#FF6692",
           "#B6E880",
           "#FF97FF",
           "#FECB52"
          ],
          "font": {
           "color": "#2a3f5f"
          },
          "geo": {
           "bgcolor": "white",
           "lakecolor": "white",
           "landcolor": "#E5ECF6",
           "showlakes": true,
           "showland": true,
           "subunitcolor": "white"
          },
          "hoverlabel": {
           "align": "left"
          },
          "hovermode": "closest",
          "mapbox": {
           "style": "light"
          },
          "paper_bgcolor": "white",
          "plot_bgcolor": "#E5ECF6",
          "polar": {
           "angularaxis": {
            "gridcolor": "white",
            "linecolor": "white",
            "ticks": ""
           },
           "bgcolor": "#E5ECF6",
           "radialaxis": {
            "gridcolor": "white",
            "linecolor": "white",
            "ticks": ""
           }
          },
          "scene": {
           "xaxis": {
            "backgroundcolor": "#E5ECF6",
            "gridcolor": "white",
            "gridwidth": 2,
            "linecolor": "white",
            "showbackground": true,
            "ticks": "",
            "zerolinecolor": "white"
           },
           "yaxis": {
            "backgroundcolor": "#E5ECF6",
            "gridcolor": "white",
            "gridwidth": 2,
            "linecolor": "white",
            "showbackground": true,
            "ticks": "",
            "zerolinecolor": "white"
           },
           "zaxis": {
            "backgroundcolor": "#E5ECF6",
            "gridcolor": "white",
            "gridwidth": 2,
            "linecolor": "white",
            "showbackground": true,
            "ticks": "",
            "zerolinecolor": "white"
           }
          },
          "shapedefaults": {
           "line": {
            "color": "#2a3f5f"
           }
          },
          "ternary": {
           "aaxis": {
            "gridcolor": "white",
            "linecolor": "white",
            "ticks": ""
           },
           "baxis": {
            "gridcolor": "white",
            "linecolor": "white",
            "ticks": ""
           },
           "bgcolor": "#E5ECF6",
           "caxis": {
            "gridcolor": "white",
            "linecolor": "white",
            "ticks": ""
           }
          },
          "title": {
           "x": 0.05
          },
          "xaxis": {
           "automargin": true,
           "gridcolor": "white",
           "linecolor": "white",
           "ticks": "",
           "title": {
            "standoff": 15
           },
           "zerolinecolor": "white",
           "zerolinewidth": 2
          },
          "yaxis": {
           "automargin": true,
           "gridcolor": "white",
           "linecolor": "white",
           "ticks": "",
           "title": {
            "standoff": 15
           },
           "zerolinecolor": "white",
           "zerolinewidth": 2
          }
         }
        },
        "title": {
         "text": "Boxplot Comparison of Ratings of Ice Cream Stores"
        },
        "xaxis": {
         "anchor": "y",
         "domain": [
          0,
          1
         ],
         "title": {
          "text": "Stars"
         }
        },
        "yaxis": {
         "anchor": "x",
         "domain": [
          0,
          1
         ]
        }
       }
      }
     },
     "metadata": {},
     "output_type": "display_data"
    }
   ],
   "source": [
    "fig = make_subplots(rows=1, cols=1)\n",
    "fig.add_trace(go.Box(x = datawi[\"stars\"], name = \"Wisconsin\"), row=1, col=1)\n",
    "fig.add_trace(go.Box(x=dataaz[\"stars\"], name = \"Arizona\"), row=1, col=1)\n",
    "fig.update_xaxes(title = \"Stars\")\n",
    "fig.update_layout(title = \"Boxplot Comparison of Ratings of Ice Cream Stores\")\n",
    "fig.show()"
   ]
  },
  {
   "attachments": {},
   "cell_type": "markdown",
   "metadata": {},
   "source": [
    "D) Outlier Removed Statistics"
   ]
  },
  {
   "cell_type": "code",
   "execution_count": 20,
   "metadata": {},
   "outputs": [
    {
     "name": "stdout",
     "output_type": "stream",
     "text": [
      "Arizona:\n",
      "Minimum: 2.0\n",
      "Q1: 3.5\n",
      "Median: 4.0\n",
      "Q3: 4.5\n",
      "Maximum: 5.0\n",
      "IQR: 1.0\n",
      "\n",
      "Mean: 3.82\n",
      "Standard Deviation: 0.75\n",
      "Variance: 0.56\n",
      "\n",
      "Wisconsin:\n",
      "Minimum: 2.5\n",
      "Q1: 3.5\n",
      "Median: 4.0\n",
      "Q3: 4.5\n",
      "Maximum: 5.0\n",
      "IQR: 1.0\n",
      "\n",
      "Mean: 3.88\n",
      "Standard Deviation: 0.64\n",
      "Variance: 0.41\n"
     ]
    },
    {
     "name": "stderr",
     "output_type": "stream",
     "text": [
      "C:\\Users\\thewa\\AppData\\Local\\Temp\\ipykernel_27164\\757228206.py:1: UserWarning:\n",
      "\n",
      "Boolean Series key will be reindexed to match DataFrame index.\n",
      "\n",
      "C:\\Users\\thewa\\AppData\\Local\\Temp\\ipykernel_27164\\757228206.py:2: UserWarning:\n",
      "\n",
      "Boolean Series key will be reindexed to match DataFrame index.\n",
      "\n"
     ]
    }
   ],
   "source": [
    "dataaznew = data[data[\"state\"] == \"AZ\"][data[\"stars\"] >= 2]\n",
    "datawinew = data[data[\"state\"] == \"WI\"][data[\"stars\"] >= 2]\n",
    "\n",
    "print(\"Arizona:\")\n",
    "print(\"Minimum: \" + str(min(dataaznew[\"stars\"])))\n",
    "print(\"Q1: \" + str(np.quantile(dataaznew[\"stars\"], 0.25)))\n",
    "print(\"Median: \" + str(np.median(dataaznew[\"stars\"])))\n",
    "print(\"Q3: \" + str(np.quantile(dataaznew[\"stars\"], 0.75)))\n",
    "print(\"Maximum: \" + str(max(dataaznew[\"stars\"])))\n",
    "print(\"IQR: \" + str(np.quantile(dataaznew[\"stars\"], 0.75) - np.quantile(dataaznew[\"stars\"], 0.25)))\n",
    "print()\n",
    "print(\"Mean: \" + str(round(np.mean(dataaznew[\"stars\"]),2)))\n",
    "print(\"Standard Deviation: \" + str(round(np.std(dataaznew[\"stars\"]),2)))\n",
    "print(\"Variance: \" + str(round(np.std(dataaznew[\"stars\"])**2,2)))\n",
    "print()\n",
    "\n",
    "print(\"Wisconsin:\")\n",
    "print(\"Minimum: \" + str(min(datawinew[\"stars\"])))\n",
    "print(\"Q1: \" + str(np.quantile(datawinew[\"stars\"], 0.25)))\n",
    "print(\"Median: \" + str(np.median(datawinew[\"stars\"])))\n",
    "print(\"Q3: \" + str(np.quantile(datawinew[\"stars\"], 0.75)))\n",
    "print(\"Maximum: \" + str(max(datawinew[\"stars\"])))\n",
    "print(\"IQR: \" + str(np.quantile(datawinew[\"stars\"], 0.75) - np.quantile(datawinew[\"stars\"], 0.25)))\n",
    "print()\n",
    "print(\"Mean: \" + str(round(np.mean(datawinew[\"stars\"]),2)))\n",
    "print(\"Standard Deviation: \" + str(round(np.std(datawinew[\"stars\"]),2)))\n",
    "print(\"Variance: \" + str(round(np.std(datawinew[\"stars\"])**2,2)))"
   ]
  },
  {
   "attachments": {},
   "cell_type": "markdown",
   "metadata": {},
   "source": [
    "E) z-score transformation"
   ]
  },
  {
   "cell_type": "code",
   "execution_count": 22,
   "metadata": {},
   "outputs": [
    {
     "name": "stdout",
     "output_type": "stream",
     "text": [
      "Arizona z-score mean: 0.15\n",
      "Wisconsin z-score mean: 0.18\n"
     ]
    }
   ],
   "source": [
    "az = dataaz[\"stars\"]\n",
    "wi = datawi[\"stars\"]\n",
    "\n",
    "azt = (az-3.63)/1.004\n",
    "wit = (wi-3.63)/1.004\n",
    "\n",
    "print(\"Arizona z-score mean: \" + str(round(np.mean(azt), 2)))\n",
    "print(\"Wisconsin z-score mean: \" + str(round(np.mean(wit), 2)))"
   ]
  },
  {
   "attachments": {},
   "cell_type": "markdown",
   "metadata": {},
   "source": [
    "F) Normal Probability Plot"
   ]
  },
  {
   "cell_type": "code",
   "execution_count": 34,
   "metadata": {},
   "outputs": [
    {
     "data": {
      "image/png": "[encoded data removed]",
      "text/plain": [
       "<Figure size 640x480 with 2 Axes>"
      ]
     },
     "metadata": {},
     "output_type": "display_data"
    }
   ],
   "source": [
    "ax1 = plt.subplot(121)\n",
    "res = stats.probplot(az, plot = plt)\n",
    "ax1.set_xlabel(\"Arizona\")\n",
    "\n",
    "\n",
    "ax2 = plt.subplot(122)\n",
    "res = stats.probplot(wi, plot = plt)\n",
    "ax2.set_xlabel(\"Wisconsin\")\n",
    "\n",
    "plt.show()"
   ]
  },
  {
   "attachments": {},
   "cell_type": "markdown",
   "metadata": {},
   "source": [
    "G) brief summary"
   ]
  },
  {
   "cell_type": "code",
   "execution_count": 38,
   "metadata": {},
   "outputs": [],
   "source": [
    "xls = pd.ExcelFile(\"yelp data (1).xlsx\")\n",
    "df = pd.read_excel(xls, 'ice cream')"
   ]
  },
  {
   "cell_type": "code",
   "execution_count": 39,
   "metadata": {},
   "outputs": [
    {
     "name": "stdout",
     "output_type": "stream",
     "text": [
      "4.0\n",
      "IQR: 1.0\n"
     ]
    }
   ],
   "source": [
    "print(np.median(df[\"stars\"]))\n",
    "print(\"IQR: \" + str(np.quantile(df[\"stars\"], 0.75) - np.quantile(df[\"stars\"], 0.25)))\n"
   ]
  }
 ],
 "metadata": {
  "kernelspec": {
   "display_name": "Python 3.9 (XPython)",
   "language": "python",
   "name": "xpython"
  },
  "language_info": {
   "codemirror_mode": {
    "name": "ipython",
    "version": 3
   },
   "file_extension": ".py",
   "mimetype": "text/x-python",
   "name": "python",
   "nbconvert_exporter": "python",
   "pygments_lexer": "ipython3",
   "version": "3.9.15"
  },
  "orig_nbformat": 4,
  "vscode": {
   "interpreter": {
    "hash": "ad2bdc8ecc057115af97d19610ffacc2b4e99fae6737bb82f5d7fb13d2f2c186"
   }
  }
 },
 "nbformat": 4,
 "nbformat_minor": 2
}
